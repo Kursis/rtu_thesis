{
 "cells": [
  {
   "cell_type": "code",
   "execution_count": 1,
   "metadata": {},
   "outputs": [],
   "source": [
    "# # for colab compatibility\n",
    "# !pip install shap\n",
    "# !pip install ppscore\n",
    "# !pip install xgboost\n",
    "# !pip install lightgbm"
   ]
  },
  {
   "cell_type": "code",
   "execution_count": 2,
   "metadata": {},
   "outputs": [],
   "source": [
    "# %run data_load_wrapper.ipynb"
   ]
  },
  {
   "cell_type": "code",
   "execution_count": 3,
   "metadata": {},
   "outputs": [],
   "source": [
    "from tqdm.notebook import trange\n",
    "import sklearn.datasets as data\n",
    "import pandas as pd\n",
    "from sklearn.inspection import permutation_importance\n",
    "from sklearn import *\n",
    "from sklearn.feature_selection import *\n",
    "from sklearn.datasets import make_regression\n",
    "from sklearn.utils import Bunch\n",
    "import matplotlib as plt\n",
    "import seaborn as sns\n",
    "import shap\n",
    "import numpy as np\n",
    "import ppscore as pps\n",
    "from datetime import datetime\n",
    "import xgboost"
   ]
  },
  {
   "cell_type": "code",
   "execution_count": 16,
   "metadata": {},
   "outputs": [],
   "source": [
    "from heapq import nlargest\n",
    "\n",
    "def sklearn_to_df(dataset, with_target=True):\n",
    "    df = pd.DataFrame(dataset.data, columns=dataset.feature_names)\n",
    "    y = dataset.target\n",
    "    if with_target == True:\n",
    "        df = df.join(pd.DataFrame(y, columns=['target']), on=df.index)\n",
    "        return df \n",
    "    else:\n",
    "        return df, y\n",
    "\n",
    "def get_feat_imp_data_based(imp_type, x_train, y_train):\n",
    "    imp_type_dict = {\n",
    "        'mutual_info' : 'mutual_info_regression(x_train, y_train)',\n",
    "        'f_test' : 'f_regression(x_train, y_train)[0]',       \n",
    "        'pps' : \"pps.predictors(x_train.join(y_train), 'target', sorted=False, output='df').model_score\",\n",
    "        'pearson' : \"abs(x_train.join(y_train).corr(method='pearson').target).drop('target', axis=0)\",\n",
    "        'spearman': \"abs(x_train.join(y_train).corr(method='spearman').target).drop('target', axis=0)\",\n",
    "        'kendall' : \"abs(x_train.join(y_train).corr(method='kendall').target).drop('target', axis=0)\",\n",
    "    \n",
    "    }\n",
    "    timings = %timeit -o -n1 -r10 eval(imp_type_dict.get(imp_type))\n",
    "    timings = np.array(timings.timings)\n",
    "    return eval(imp_type_dict.get(imp_type)), timings\n",
    "\n",
    "def get_feat_imp_model_based(imp_type, m, x_train, y_train):\n",
    "    imp_type_dict = {\n",
    "        'gini' : \"m.feature_importances_\",\n",
    "        'pimp' : f\"\"\"permutation_importance(m, x_train, y_train, n_repeats=5, \n",
    "        random_state=0).importances_mean\"\"\",\n",
    "        'shap' : \"abs(np.array(shap.TreeExplainer(m).shap_values(x_train))).sum(axis=0)\"\n",
    "    }\n",
    "    timings = %timeit -o -n1 -r10 eval(imp_type_dict.get(imp_type))\n",
    "    timings = np.array(timings.timings)\n",
    "    return eval(imp_type_dict.get(imp_type)), timings\n",
    "\n",
    "def get_syn_stats_data_based(imp_types, datasets, dataset_states, \n",
    "                             informative_pct):\n",
    "    results = []\n",
    "    datasets_str = list(datasets.keys())\n",
    "    for j in trange(len(datasets_str), desc=f'Dataset progress'):\n",
    "        for i in trange(len(dataset_states), desc=f'Processing {datasets_str[j]}'):\n",
    "            for k in trange(len(imp_types)):\n",
    "                imp_type = imp_types[k] \n",
    "                dataset_state = dataset_states[i]\n",
    "                dataset_str = datasets_str[j]\n",
    "                dataset = datasets.get(datasets_str[j])\n",
    "                df = sklearn_to_df(dataset)\n",
    "                x_train, x_test, y_train, y_test = model_selection.train_test_split(df,\n",
    "                                                                   dataset.target, \n",
    "                                                                   test_size=0.3, \n",
    "                                                                   random_state=dataset_state\n",
    "                                                                  )\n",
    "                y_train = x_train.target\n",
    "                x_train = x_train.drop('target', axis=1)\n",
    "                feat_size = len(x_train.columns)\n",
    "                sel_feat_size = int(feat_size * informative_pct)\n",
    "                fi, timings = get_feat_imp_data_based(imp_type, x_train, y_train)\n",
    "                fi_order = nlargest(feat_size, range(len(fi)), key=lambda idx: fi[idx])\n",
    "                fi_selected = fi_order[:sel_feat_size]\n",
    "                result = [dataset_str, imp_type, 0, dataset_state, fi_order, fi_selected, timings]\n",
    "#                 print(result)\n",
    "                results.append(result)\n",
    "#                 print(results)\n",
    "        columns = ['dataset', 'imp_type', 'random_state', 'data_split', \n",
    "                       'fi_order', 'fi_selected', 'timings']\n",
    "        res = pd.DataFrame(results, columns=columns)\n",
    "    return res\n",
    "        \n",
    "def get_syn_stats_model_based(imp_types, datasets, \n",
    "                              dataset_states, informative_pct):\n",
    "    results = []\n",
    "    datasets_str = list(datasets.keys())\n",
    "    for j in trange(len(datasets_str), desc=f'Dataset progress'):\n",
    "        for i in trange(len(dataset_states), desc=f'Processing {datasets_str[j]}'):\n",
    "            for k in trange(len(imp_types)):\n",
    "                imp_type = imp_types[k] \n",
    "                dataset_state = dataset_states[i]\n",
    "                dataset_str = datasets_str[j]\n",
    "                dataset = datasets.get(datasets_str[j])\n",
    "                df = sklearn_to_df(dataset, with_target=True)\n",
    "                x_train, x_test, y_train, y_test = model_selection.train_test_split(df,\n",
    "                                                                   dataset.target, \n",
    "                                                                   test_size=0.3, \n",
    "                                                                   random_state=dataset_state\n",
    "                                                                  )\n",
    "                y_train = x_train.target\n",
    "                x_train = x_train.drop('target', axis=1)\n",
    "                feat_size = len(x_train.columns)\n",
    "                sel_feat_size = int(feat_size * informative_pct)\n",
    "                m = ensemble.RandomForestRegressor(random_state=0, n_jobs=-1)\n",
    "                m.fit(x_train, y_train)\n",
    "                fi, timings = get_feat_imp_model_based(imp_type, m, x_train, y_train)\n",
    "                fi_order = nlargest(feat_size, range(len(fi)), key=lambda idx: fi[idx])\n",
    "                fi_selected = fi_order[:sel_feat_size]\n",
    "                result = [dataset_str, imp_type, 0, dataset_state, fi_order, fi_selected, timings]\n",
    "#                 print(result)\n",
    "                results.append(result)\n",
    "#                 print(results)\n",
    "        columns = ['dataset', 'imp_type', 'random_state', 'data_split', \n",
    "                       'fi_order', 'fi_selected', 'timings']\n",
    "        res = pd.DataFrame(results, columns=columns)\n",
    "    return res\n",
    "\n",
    "\n",
    "from wrapt_timeout_decorator import *\n",
    "\n",
    "@timeout(60)\n",
    "def get_shap_fi(imp_type, dataset_state, dataset_str, dataset, informative_pct):\n",
    "    \n",
    "    result = []\n",
    "    df = sklearn_to_df(dataset, with_target=True)\n",
    "    x_train, x_test, y_train, y_test = model_selection.train_test_split(df,\n",
    "                                                       dataset.target, \n",
    "                                                       test_size=0.3, \n",
    "                                                       random_state=dataset_state\n",
    "                                                      )\n",
    "    y_train = x_train.target\n",
    "    x_train = x_train.drop('target', axis=1)\n",
    "    feat_size = len(x_train.columns)\n",
    "    sel_feat_size = int(feat_size * informative_pct)\n",
    "    m = ensemble.RandomForestRegressor(random_state=0, n_jobs=-1)\n",
    "    m.fit(x_train, y_train)\n",
    "    fi, timings = get_feat_imp_model_based(imp_type, m, x_train, y_train)\n",
    "    print(fi.shape)\n",
    "#     fi = fi.mean(axis=0)\n",
    "#     print(fi.shape)\n",
    "    #                 imp_type, model, x_train, y_train, random_state\n",
    "    fi_order = nlargest(feat_size, range(len(fi)), key=lambda idx: fi[idx])\n",
    "    fi_selected = fi_order[:sel_feat_size]\n",
    "    result = [dataset_str, imp_type, 0, dataset_state, fi_order, fi_selected, timings]\n",
    "    #                 print(result)\n",
    "#     result.append(result)\n",
    "    return result\n",
    "\n",
    "def get_syn_stats_shap_based(imp_types, datasets, \n",
    "                              dataset_states, informative_pct):\n",
    "    results = []\n",
    "    datasets_str = list(datasets.keys())\n",
    "    for j in trange(len(datasets_str), desc=f'Dataset progress'):\n",
    "        try:\n",
    "            for i in trange(len(dataset_states), desc=f'Processing {datasets_str[j]}'):\n",
    "                for k in trange(len(imp_types)):\n",
    "                    imp_type = imp_types[k] \n",
    "                    dataset_state = dataset_states[i]\n",
    "                    dataset_str = datasets_str[j]\n",
    "                    dataset = datasets.get(datasets_str[j])\n",
    "                    result = get_shap_fi(imp_type, dataset_state, dataset_str, dataset, informative_pct)\n",
    "                    results.append(result)\n",
    "        except TimeoutError as e:\n",
    "            print(f'skipping the execution of {dataset_str} because of {e}')\n",
    "            \n",
    "    columns = ['dataset', 'imp_type', 'random_state', 'data_split', \n",
    "                       'fi_order', 'fi_selected', 'timings']\n",
    "    result_df = pd.DataFrame(results, columns=columns)\n",
    "    return result_df\n",
    "\n",
    "def coerce_synthethic_datasets(samples, features, percent_informative, random_state):\n",
    "    data, target = make_regression(n_samples=samples, n_features=features, \n",
    "                                       n_informative=int(percent_informative*features),\n",
    "                                       shuffle=False,\n",
    "                                       random_state=random_state\n",
    "                                      )\n",
    "    feature_names = [f'x_{i}' for i in range(features)]\n",
    "    # data, target, feature_names\n",
    "    data_bunch = Bunch(\n",
    "        data=data,\n",
    "        target=target,\n",
    "        feature_names=feature_names,\n",
    "        informative_features=feature_names[:int(percent_informative*features)]\n",
    "                        )\n",
    "    return data_bunch"
   ]
  },
  {
   "cell_type": "code",
   "execution_count": 5,
   "metadata": {},
   "outputs": [],
   "source": [
    "imp_types_data = [\n",
    "             'mutual_info',\n",
    "             'f_test', \n",
    "             'pearson', \n",
    "             'spearman', \n",
    "             'kendall', \n",
    "             'pps'\n",
    "            ]\n",
    "imp_types_model = [\n",
    "             'gini',\n",
    "             'pimp', \n",
    "            ]\n",
    "\n",
    "n_jobs = 3\n",
    "\n",
    "random_states = [i for i in range(1)]\n",
    "dataset_states = [i for i in range(10)]\n",
    "\n",
    "features = [10, 100]\n",
    "samples = [100, 1000, 10000]\n",
    "# features = [100]\n",
    "# samples = [10000]\n",
    "# features = [10]\n",
    "# samples = [100]\n",
    "synthethic_states = [i for i in range(1)]\n",
    "percent_informative = 0.2\n",
    "tuples = []\n",
    "for i in features:\n",
    "    for j in samples:\n",
    "        if i != j:\n",
    "            for k in synthethic_states:            \n",
    "                tuples.append((i,j,k))\n",
    "datasets = {}\n",
    "\n",
    "for feat, samples, random_seed in tuples:\n",
    "    datasets[f'regr_features_{feat}_samples_{samples}_seed_{random_seed}'] = coerce_synthethic_datasets(samples, feat, 0.2, random_seed)"
   ]
  },
  {
   "cell_type": "code",
   "execution_count": 6,
   "metadata": {},
   "outputs": [
    {
     "data": {
      "application/vnd.jupyter.widget-view+json": {
       "model_id": "c97731b7ba614626896a864c6a6a6250",
       "version_major": 2,
       "version_minor": 0
      },
      "text/plain": [
       "Dataset progress:   0%|          | 0/5 [00:00<?, ?it/s]"
      ]
     },
     "metadata": {},
     "output_type": "display_data"
    },
    {
     "data": {
      "application/vnd.jupyter.widget-view+json": {
       "model_id": "3ec2cd85d4804e9e8967a0442d6fa53d",
       "version_major": 2,
       "version_minor": 0
      },
      "text/plain": [
       "Processing classif_features_10_samples_100_seed_0:   0%|          | 0/10 [00:00<?, ?it/s]"
      ]
     },
     "metadata": {},
     "output_type": "display_data"
    },
    {
     "data": {
      "application/vnd.jupyter.widget-view+json": {
       "model_id": "17991c7c38984688a9dc729283b716f3",
       "version_major": 2,
       "version_minor": 0
      },
      "text/plain": [
       "  0%|          | 0/6 [00:00<?, ?it/s]"
      ]
     },
     "metadata": {},
     "output_type": "display_data"
    },
    {
     "name": "stdout",
     "output_type": "stream",
     "text": [
      "12.4 ms ± 1.3 ms per loop (mean ± std. dev. of 10 runs, 1 loop each)\n",
      "1.55 ms ± 145 µs per loop (mean ± std. dev. of 10 runs, 1 loop each)\n",
      "2.06 ms ± 180 µs per loop (mean ± std. dev. of 10 runs, 1 loop each)\n",
      "2.28 ms ± 430 µs per loop (mean ± std. dev. of 10 runs, 1 loop each)\n",
      "15.1 ms ± 405 µs per loop (mean ± std. dev. of 10 runs, 1 loop each)\n",
      "87 ms ± 5.12 ms per loop (mean ± std. dev. of 10 runs, 1 loop each)\n"
     ]
    },
    {
     "data": {
      "application/vnd.jupyter.widget-view+json": {
       "model_id": "b3c85e69b2d448a7a707c237903ebb9c",
       "version_major": 2,
       "version_minor": 0
      },
      "text/plain": [
       "  0%|          | 0/6 [00:00<?, ?it/s]"
      ]
     },
     "metadata": {},
     "output_type": "display_data"
    },
    {
     "name": "stdout",
     "output_type": "stream",
     "text": [
      "12.9 ms ± 1.13 ms per loop (mean ± std. dev. of 10 runs, 1 loop each)\n",
      "1.57 ms ± 163 µs per loop (mean ± std. dev. of 10 runs, 1 loop each)\n",
      "1.68 ms ± 227 µs per loop (mean ± std. dev. of 10 runs, 1 loop each)\n",
      "2.01 ms ± 201 µs per loop (mean ± std. dev. of 10 runs, 1 loop each)\n",
      "14.8 ms ± 313 µs per loop (mean ± std. dev. of 10 runs, 1 loop each)\n",
      "84.9 ms ± 2.8 ms per loop (mean ± std. dev. of 10 runs, 1 loop each)\n"
     ]
    },
    {
     "data": {
      "application/vnd.jupyter.widget-view+json": {
       "model_id": "7d95114bbecb448d891d5fd7904b4f0a",
       "version_major": 2,
       "version_minor": 0
      },
      "text/plain": [
       "  0%|          | 0/6 [00:00<?, ?it/s]"
      ]
     },
     "metadata": {},
     "output_type": "display_data"
    },
    {
     "name": "stdout",
     "output_type": "stream",
     "text": [
      "12.5 ms ± 1.55 ms per loop (mean ± std. dev. of 10 runs, 1 loop each)\n",
      "1.58 ms ± 98.2 µs per loop (mean ± std. dev. of 10 runs, 1 loop each)\n",
      "1.61 ms ± 187 µs per loop (mean ± std. dev. of 10 runs, 1 loop each)\n",
      "1.92 ms ± 153 µs per loop (mean ± std. dev. of 10 runs, 1 loop each)\n",
      "14.8 ms ± 348 µs per loop (mean ± std. dev. of 10 runs, 1 loop each)\n",
      "84.6 ms ± 3.4 ms per loop (mean ± std. dev. of 10 runs, 1 loop each)\n"
     ]
    },
    {
     "data": {
      "application/vnd.jupyter.widget-view+json": {
       "model_id": "7b4980d9b4f548b8891c949d8d3dac0c",
       "version_major": 2,
       "version_minor": 0
      },
      "text/plain": [
       "  0%|          | 0/6 [00:00<?, ?it/s]"
      ]
     },
     "metadata": {},
     "output_type": "display_data"
    },
    {
     "name": "stdout",
     "output_type": "stream",
     "text": [
      "12.4 ms ± 1.42 ms per loop (mean ± std. dev. of 10 runs, 1 loop each)\n",
      "1.51 ms ± 125 µs per loop (mean ± std. dev. of 10 runs, 1 loop each)\n",
      "1.69 ms ± 326 µs per loop (mean ± std. dev. of 10 runs, 1 loop each)\n",
      "2 ms ± 239 µs per loop (mean ± std. dev. of 10 runs, 1 loop each)\n",
      "14.9 ms ± 351 µs per loop (mean ± std. dev. of 10 runs, 1 loop each)\n",
      "83.3 ms ± 3.25 ms per loop (mean ± std. dev. of 10 runs, 1 loop each)\n"
     ]
    },
    {
     "data": {
      "application/vnd.jupyter.widget-view+json": {
       "model_id": "93e2fc2b35a741aa99bca35c3afe2330",
       "version_major": 2,
       "version_minor": 0
      },
      "text/plain": [
       "  0%|          | 0/6 [00:00<?, ?it/s]"
      ]
     },
     "metadata": {},
     "output_type": "display_data"
    },
    {
     "name": "stdout",
     "output_type": "stream",
     "text": [
      "12.6 ms ± 1.9 ms per loop (mean ± std. dev. of 10 runs, 1 loop each)\n",
      "1.53 ms ± 118 µs per loop (mean ± std. dev. of 10 runs, 1 loop each)\n",
      "1.56 ms ± 206 µs per loop (mean ± std. dev. of 10 runs, 1 loop each)\n",
      "1.91 ms ± 151 µs per loop (mean ± std. dev. of 10 runs, 1 loop each)\n",
      "14.7 ms ± 319 µs per loop (mean ± std. dev. of 10 runs, 1 loop each)\n",
      "83.1 ms ± 2.94 ms per loop (mean ± std. dev. of 10 runs, 1 loop each)\n"
     ]
    },
    {
     "data": {
      "application/vnd.jupyter.widget-view+json": {
       "model_id": "333eabc093ec4e518331308b2e7719e0",
       "version_major": 2,
       "version_minor": 0
      },
      "text/plain": [
       "  0%|          | 0/6 [00:00<?, ?it/s]"
      ]
     },
     "metadata": {},
     "output_type": "display_data"
    },
    {
     "name": "stdout",
     "output_type": "stream",
     "text": [
      "12.2 ms ± 1.49 ms per loop (mean ± std. dev. of 10 runs, 1 loop each)\n",
      "1.52 ms ± 138 µs per loop (mean ± std. dev. of 10 runs, 1 loop each)\n",
      "1.64 ms ± 177 µs per loop (mean ± std. dev. of 10 runs, 1 loop each)\n",
      "1.92 ms ± 165 µs per loop (mean ± std. dev. of 10 runs, 1 loop each)\n",
      "15.3 ms ± 2.12 ms per loop (mean ± std. dev. of 10 runs, 1 loop each)\n",
      "84.4 ms ± 3.48 ms per loop (mean ± std. dev. of 10 runs, 1 loop each)\n"
     ]
    },
    {
     "data": {
      "application/vnd.jupyter.widget-view+json": {
       "model_id": "f9032b8064f1469280a72ddb9556e22d",
       "version_major": 2,
       "version_minor": 0
      },
      "text/plain": [
       "  0%|          | 0/6 [00:00<?, ?it/s]"
      ]
     },
     "metadata": {},
     "output_type": "display_data"
    },
    {
     "name": "stdout",
     "output_type": "stream",
     "text": [
      "12.3 ms ± 1.41 ms per loop (mean ± std. dev. of 10 runs, 1 loop each)\n",
      "1.6 ms ± 202 µs per loop (mean ± std. dev. of 10 runs, 1 loop each)\n",
      "1.52 ms ± 135 µs per loop (mean ± std. dev. of 10 runs, 1 loop each)\n",
      "1.96 ms ± 167 µs per loop (mean ± std. dev. of 10 runs, 1 loop each)\n",
      "15.8 ms ± 2.8 ms per loop (mean ± std. dev. of 10 runs, 1 loop each)\n",
      "84.3 ms ± 2.64 ms per loop (mean ± std. dev. of 10 runs, 1 loop each)\n"
     ]
    },
    {
     "data": {
      "application/vnd.jupyter.widget-view+json": {
       "model_id": "5b327b7abadd4a8a8dcb19c201c7dadf",
       "version_major": 2,
       "version_minor": 0
      },
      "text/plain": [
       "  0%|          | 0/6 [00:00<?, ?it/s]"
      ]
     },
     "metadata": {},
     "output_type": "display_data"
    },
    {
     "name": "stdout",
     "output_type": "stream",
     "text": [
      "12.4 ms ± 1.59 ms per loop (mean ± std. dev. of 10 runs, 1 loop each)\n",
      "1.97 ms ± 493 µs per loop (mean ± std. dev. of 10 runs, 1 loop each)\n",
      "1.55 ms ± 126 µs per loop (mean ± std. dev. of 10 runs, 1 loop each)\n",
      "1.92 ms ± 149 µs per loop (mean ± std. dev. of 10 runs, 1 loop each)\n",
      "14.8 ms ± 360 µs per loop (mean ± std. dev. of 10 runs, 1 loop each)\n",
      "86.8 ms ± 3.96 ms per loop (mean ± std. dev. of 10 runs, 1 loop each)\n"
     ]
    },
    {
     "data": {
      "application/vnd.jupyter.widget-view+json": {
       "model_id": "0ad89e293c2f4220892e426463c511e7",
       "version_major": 2,
       "version_minor": 0
      },
      "text/plain": [
       "  0%|          | 0/6 [00:00<?, ?it/s]"
      ]
     },
     "metadata": {},
     "output_type": "display_data"
    },
    {
     "name": "stdout",
     "output_type": "stream",
     "text": [
      "12.4 ms ± 1.14 ms per loop (mean ± std. dev. of 10 runs, 1 loop each)\n",
      "2.11 ms ± 562 µs per loop (mean ± std. dev. of 10 runs, 1 loop each)\n",
      "1.51 ms ± 154 µs per loop (mean ± std. dev. of 10 runs, 1 loop each)\n",
      "1.87 ms ± 116 µs per loop (mean ± std. dev. of 10 runs, 1 loop each)\n",
      "14.9 ms ± 365 µs per loop (mean ± std. dev. of 10 runs, 1 loop each)\n",
      "84.4 ms ± 2.43 ms per loop (mean ± std. dev. of 10 runs, 1 loop each)\n"
     ]
    },
    {
     "data": {
      "application/vnd.jupyter.widget-view+json": {
       "model_id": "fdb26d2985ea4dada1f84f37ef5a737d",
       "version_major": 2,
       "version_minor": 0
      },
      "text/plain": [
       "  0%|          | 0/6 [00:00<?, ?it/s]"
      ]
     },
     "metadata": {},
     "output_type": "display_data"
    },
    {
     "name": "stdout",
     "output_type": "stream",
     "text": [
      "12.2 ms ± 1.25 ms per loop (mean ± std. dev. of 10 runs, 1 loop each)\n",
      "1.53 ms ± 154 µs per loop (mean ± std. dev. of 10 runs, 1 loop each)\n",
      "1.54 ms ± 160 µs per loop (mean ± std. dev. of 10 runs, 1 loop each)\n",
      "1.97 ms ± 193 µs per loop (mean ± std. dev. of 10 runs, 1 loop each)\n",
      "14.7 ms ± 351 µs per loop (mean ± std. dev. of 10 runs, 1 loop each)\n",
      "84.3 ms ± 2.99 ms per loop (mean ± std. dev. of 10 runs, 1 loop each)\n"
     ]
    },
    {
     "data": {
      "application/vnd.jupyter.widget-view+json": {
       "model_id": "fbf4d50117c24dad81cb596612aaf7c7",
       "version_major": 2,
       "version_minor": 0
      },
      "text/plain": [
       "Processing classif_features_10_samples_1000_seed_0:   0%|          | 0/10 [00:00<?, ?it/s]"
      ]
     },
     "metadata": {},
     "output_type": "display_data"
    },
    {
     "data": {
      "application/vnd.jupyter.widget-view+json": {
       "model_id": "fc2a88f643e04cb5ba529a1dccdd91c4",
       "version_major": 2,
       "version_minor": 0
      },
      "text/plain": [
       "  0%|          | 0/6 [00:00<?, ?it/s]"
      ]
     },
     "metadata": {},
     "output_type": "display_data"
    },
    {
     "name": "stdout",
     "output_type": "stream",
     "text": [
      "31.2 ms ± 1.9 ms per loop (mean ± std. dev. of 10 runs, 1 loop each)\n",
      "1.68 ms ± 635 µs per loop (mean ± std. dev. of 10 runs, 1 loop each)\n",
      "1.65 ms ± 215 µs per loop (mean ± std. dev. of 10 runs, 1 loop each)\n",
      "2.56 ms ± 151 µs per loop (mean ± std. dev. of 10 runs, 1 loop each)\n",
      "20.1 ms ± 289 µs per loop (mean ± std. dev. of 10 runs, 1 loop each)\n",
      "109 ms ± 2.07 ms per loop (mean ± std. dev. of 10 runs, 1 loop each)\n"
     ]
    },
    {
     "data": {
      "application/vnd.jupyter.widget-view+json": {
       "model_id": "063c9637ecb3477f875383e45e1bf58a",
       "version_major": 2,
       "version_minor": 0
      },
      "text/plain": [
       "  0%|          | 0/6 [00:00<?, ?it/s]"
      ]
     },
     "metadata": {},
     "output_type": "display_data"
    },
    {
     "name": "stdout",
     "output_type": "stream",
     "text": [
      "32.1 ms ± 2.15 ms per loop (mean ± std. dev. of 10 runs, 1 loop each)\n",
      "1.48 ms ± 134 µs per loop (mean ± std. dev. of 10 runs, 1 loop each)\n",
      "1.72 ms ± 123 µs per loop (mean ± std. dev. of 10 runs, 1 loop each)\n",
      "2.62 ms ± 146 µs per loop (mean ± std. dev. of 10 runs, 1 loop each)\n",
      "20.3 ms ± 354 µs per loop (mean ± std. dev. of 10 runs, 1 loop each)\n",
      "110 ms ± 4.18 ms per loop (mean ± std. dev. of 10 runs, 1 loop each)\n"
     ]
    },
    {
     "data": {
      "application/vnd.jupyter.widget-view+json": {
       "model_id": "844df87b09274f789ee1c90e050b8fc6",
       "version_major": 2,
       "version_minor": 0
      },
      "text/plain": [
       "  0%|          | 0/6 [00:00<?, ?it/s]"
      ]
     },
     "metadata": {},
     "output_type": "display_data"
    },
    {
     "name": "stdout",
     "output_type": "stream",
     "text": [
      "35.3 ms ± 773 µs per loop (mean ± std. dev. of 10 runs, 1 loop each)\n",
      "1.72 ms ± 63.7 µs per loop (mean ± std. dev. of 10 runs, 1 loop each)\n",
      "2.02 ms ± 172 µs per loop (mean ± std. dev. of 10 runs, 1 loop each)\n",
      "3.07 ms ± 104 µs per loop (mean ± std. dev. of 10 runs, 1 loop each)\n",
      "21.1 ms ± 2.21 ms per loop (mean ± std. dev. of 10 runs, 1 loop each)\n",
      "110 ms ± 2.72 ms per loop (mean ± std. dev. of 10 runs, 1 loop each)\n"
     ]
    },
    {
     "data": {
      "application/vnd.jupyter.widget-view+json": {
       "model_id": "9f451577fda740c085a837d7b14a76f7",
       "version_major": 2,
       "version_minor": 0
      },
      "text/plain": [
       "  0%|          | 0/6 [00:00<?, ?it/s]"
      ]
     },
     "metadata": {},
     "output_type": "display_data"
    },
    {
     "name": "stdout",
     "output_type": "stream",
     "text": [
      "31.6 ms ± 1.55 ms per loop (mean ± std. dev. of 10 runs, 1 loop each)\n",
      "1.51 ms ± 107 µs per loop (mean ± std. dev. of 10 runs, 1 loop each)\n",
      "1.84 ms ± 167 µs per loop (mean ± std. dev. of 10 runs, 1 loop each)\n",
      "2.62 ms ± 204 µs per loop (mean ± std. dev. of 10 runs, 1 loop each)\n",
      "20.6 ms ± 1.69 ms per loop (mean ± std. dev. of 10 runs, 1 loop each)\n",
      "109 ms ± 3.18 ms per loop (mean ± std. dev. of 10 runs, 1 loop each)\n"
     ]
    },
    {
     "data": {
      "application/vnd.jupyter.widget-view+json": {
       "model_id": "9fd0bfcc7a1c4c01a2a51c8c62f1a23c",
       "version_major": 2,
       "version_minor": 0
      },
      "text/plain": [
       "  0%|          | 0/6 [00:00<?, ?it/s]"
      ]
     },
     "metadata": {},
     "output_type": "display_data"
    },
    {
     "name": "stdout",
     "output_type": "stream",
     "text": [
      "32.2 ms ± 1.96 ms per loop (mean ± std. dev. of 10 runs, 1 loop each)\n",
      "1.48 ms ± 123 µs per loop (mean ± std. dev. of 10 runs, 1 loop each)\n",
      "1.74 ms ± 147 µs per loop (mean ± std. dev. of 10 runs, 1 loop each)\n",
      "2.65 ms ± 132 µs per loop (mean ± std. dev. of 10 runs, 1 loop each)\n",
      "20 ms ± 421 µs per loop (mean ± std. dev. of 10 runs, 1 loop each)\n",
      "108 ms ± 2.84 ms per loop (mean ± std. dev. of 10 runs, 1 loop each)\n"
     ]
    },
    {
     "data": {
      "application/vnd.jupyter.widget-view+json": {
       "model_id": "4d51e12990f146669d5143ae06b4c550",
       "version_major": 2,
       "version_minor": 0
      },
      "text/plain": [
       "  0%|          | 0/6 [00:00<?, ?it/s]"
      ]
     },
     "metadata": {},
     "output_type": "display_data"
    },
    {
     "name": "stdout",
     "output_type": "stream",
     "text": [
      "32 ms ± 2.77 ms per loop (mean ± std. dev. of 10 runs, 1 loop each)\n",
      "1.62 ms ± 534 µs per loop (mean ± std. dev. of 10 runs, 1 loop each)\n",
      "1.81 ms ± 208 µs per loop (mean ± std. dev. of 10 runs, 1 loop each)\n",
      "2.58 ms ± 93.5 µs per loop (mean ± std. dev. of 10 runs, 1 loop each)\n",
      "20.2 ms ± 360 µs per loop (mean ± std. dev. of 10 runs, 1 loop each)\n",
      "108 ms ± 1.87 ms per loop (mean ± std. dev. of 10 runs, 1 loop each)\n"
     ]
    },
    {
     "data": {
      "application/vnd.jupyter.widget-view+json": {
       "model_id": "e6fa179a7e814b62b32b6dcf40a10953",
       "version_major": 2,
       "version_minor": 0
      },
      "text/plain": [
       "  0%|          | 0/6 [00:00<?, ?it/s]"
      ]
     },
     "metadata": {},
     "output_type": "display_data"
    },
    {
     "name": "stdout",
     "output_type": "stream",
     "text": [
      "31.6 ms ± 1.56 ms per loop (mean ± std. dev. of 10 runs, 1 loop each)\n",
      "1.49 ms ± 110 µs per loop (mean ± std. dev. of 10 runs, 1 loop each)\n",
      "1.77 ms ± 194 µs per loop (mean ± std. dev. of 10 runs, 1 loop each)\n",
      "2.57 ms ± 122 µs per loop (mean ± std. dev. of 10 runs, 1 loop each)\n",
      "20.2 ms ± 323 µs per loop (mean ± std. dev. of 10 runs, 1 loop each)\n",
      "109 ms ± 2.39 ms per loop (mean ± std. dev. of 10 runs, 1 loop each)\n"
     ]
    },
    {
     "data": {
      "application/vnd.jupyter.widget-view+json": {
       "model_id": "fd198148bfcf4be9ba6299e8124cf332",
       "version_major": 2,
       "version_minor": 0
      },
      "text/plain": [
       "  0%|          | 0/6 [00:00<?, ?it/s]"
      ]
     },
     "metadata": {},
     "output_type": "display_data"
    },
    {
     "name": "stdout",
     "output_type": "stream",
     "text": [
      "32 ms ± 2.01 ms per loop (mean ± std. dev. of 10 runs, 1 loop each)\n",
      "2.02 ms ± 369 µs per loop (mean ± std. dev. of 10 runs, 1 loop each)\n",
      "1.74 ms ± 121 µs per loop (mean ± std. dev. of 10 runs, 1 loop each)\n",
      "2.58 ms ± 145 µs per loop (mean ± std. dev. of 10 runs, 1 loop each)\n",
      "19.9 ms ± 368 µs per loop (mean ± std. dev. of 10 runs, 1 loop each)\n",
      "108 ms ± 2.41 ms per loop (mean ± std. dev. of 10 runs, 1 loop each)\n"
     ]
    },
    {
     "data": {
      "application/vnd.jupyter.widget-view+json": {
       "model_id": "b6c80cdbb40a43c69ae884b743ad4c90",
       "version_major": 2,
       "version_minor": 0
      },
      "text/plain": [
       "  0%|          | 0/6 [00:00<?, ?it/s]"
      ]
     },
     "metadata": {},
     "output_type": "display_data"
    },
    {
     "name": "stdout",
     "output_type": "stream",
     "text": [
      "31.4 ms ± 1.97 ms per loop (mean ± std. dev. of 10 runs, 1 loop each)\n",
      "1.71 ms ± 754 µs per loop (mean ± std. dev. of 10 runs, 1 loop each)\n",
      "1.84 ms ± 177 µs per loop (mean ± std. dev. of 10 runs, 1 loop each)\n",
      "2.75 ms ± 267 µs per loop (mean ± std. dev. of 10 runs, 1 loop each)\n",
      "20.6 ms ± 446 µs per loop (mean ± std. dev. of 10 runs, 1 loop each)\n",
      "112 ms ± 3.71 ms per loop (mean ± std. dev. of 10 runs, 1 loop each)\n"
     ]
    },
    {
     "data": {
      "application/vnd.jupyter.widget-view+json": {
       "model_id": "05078fc4251a4fae9fa8a4799348f1eb",
       "version_major": 2,
       "version_minor": 0
      },
      "text/plain": [
       "  0%|          | 0/6 [00:00<?, ?it/s]"
      ]
     },
     "metadata": {},
     "output_type": "display_data"
    },
    {
     "name": "stdout",
     "output_type": "stream",
     "text": [
      "31.5 ms ± 1.51 ms per loop (mean ± std. dev. of 10 runs, 1 loop each)\n",
      "1.56 ms ± 110 µs per loop (mean ± std. dev. of 10 runs, 1 loop each)\n",
      "1.71 ms ± 218 µs per loop (mean ± std. dev. of 10 runs, 1 loop each)\n",
      "2.6 ms ± 155 µs per loop (mean ± std. dev. of 10 runs, 1 loop each)\n",
      "20.2 ms ± 338 µs per loop (mean ± std. dev. of 10 runs, 1 loop each)\n",
      "109 ms ± 2.17 ms per loop (mean ± std. dev. of 10 runs, 1 loop each)\n"
     ]
    },
    {
     "data": {
      "application/vnd.jupyter.widget-view+json": {
       "model_id": "2cbd8f3a76cc464d80d62dc9ece81c44",
       "version_major": 2,
       "version_minor": 0
      },
      "text/plain": [
       "Processing classif_features_10_samples_10000_seed_0:   0%|          | 0/10 [00:00<?, ?it/s]"
      ]
     },
     "metadata": {},
     "output_type": "display_data"
    },
    {
     "data": {
      "application/vnd.jupyter.widget-view+json": {
       "model_id": "496df3b0dab14ef08fd2bd71b476d4e2",
       "version_major": 2,
       "version_minor": 0
      },
      "text/plain": [
       "  0%|          | 0/6 [00:00<?, ?it/s]"
      ]
     },
     "metadata": {},
     "output_type": "display_data"
    },
    {
     "name": "stdout",
     "output_type": "stream",
     "text": [
      "319 ms ± 1.23 ms per loop (mean ± std. dev. of 10 runs, 1 loop each)\n",
      "1.66 ms ± 184 µs per loop (mean ± std. dev. of 10 runs, 1 loop each)\n",
      "3.69 ms ± 160 µs per loop (mean ± std. dev. of 10 runs, 1 loop each)\n",
      "10.2 ms ± 171 µs per loop (mean ± std. dev. of 10 runs, 1 loop each)\n",
      "83.2 ms ± 2.91 ms per loop (mean ± std. dev. of 10 runs, 1 loop each)\n",
      "396 ms ± 1.9 ms per loop (mean ± std. dev. of 10 runs, 1 loop each)\n"
     ]
    },
    {
     "data": {
      "application/vnd.jupyter.widget-view+json": {
       "model_id": "c6a4b400373c4c1b893cb253ca681399",
       "version_major": 2,
       "version_minor": 0
      },
      "text/plain": [
       "  0%|          | 0/6 [00:00<?, ?it/s]"
      ]
     },
     "metadata": {},
     "output_type": "display_data"
    },
    {
     "name": "stdout",
     "output_type": "stream",
     "text": [
      "324 ms ± 981 µs per loop (mean ± std. dev. of 10 runs, 1 loop each)\n",
      "1.65 ms ± 102 µs per loop (mean ± std. dev. of 10 runs, 1 loop each)\n",
      "3.71 ms ± 140 µs per loop (mean ± std. dev. of 10 runs, 1 loop each)\n",
      "10.3 ms ± 314 µs per loop (mean ± std. dev. of 10 runs, 1 loop each)\n",
      "82 ms ± 1.62 ms per loop (mean ± std. dev. of 10 runs, 1 loop each)\n",
      "411 ms ± 2.05 ms per loop (mean ± std. dev. of 10 runs, 1 loop each)\n"
     ]
    },
    {
     "data": {
      "application/vnd.jupyter.widget-view+json": {
       "model_id": "9d5a54f9c693408d891d73b7ceff3934",
       "version_major": 2,
       "version_minor": 0
      },
      "text/plain": [
       "  0%|          | 0/6 [00:00<?, ?it/s]"
      ]
     },
     "metadata": {},
     "output_type": "display_data"
    },
    {
     "name": "stdout",
     "output_type": "stream",
     "text": [
      "322 ms ± 1.17 ms per loop (mean ± std. dev. of 10 runs, 1 loop each)\n",
      "2.41 ms ± 1.28 ms per loop (mean ± std. dev. of 10 runs, 1 loop each)\n",
      "3.71 ms ± 296 µs per loop (mean ± std. dev. of 10 runs, 1 loop each)\n",
      "10.3 ms ± 268 µs per loop (mean ± std. dev. of 10 runs, 1 loop each)\n",
      "82.1 ms ± 1.52 ms per loop (mean ± std. dev. of 10 runs, 1 loop each)\n",
      "399 ms ± 2.06 ms per loop (mean ± std. dev. of 10 runs, 1 loop each)\n"
     ]
    },
    {
     "data": {
      "application/vnd.jupyter.widget-view+json": {
       "model_id": "8432e4185da0414b9f1c0d17c770b9bb",
       "version_major": 2,
       "version_minor": 0
      },
      "text/plain": [
       "  0%|          | 0/6 [00:00<?, ?it/s]"
      ]
     },
     "metadata": {},
     "output_type": "display_data"
    },
    {
     "name": "stdout",
     "output_type": "stream",
     "text": [
      "318 ms ± 747 µs per loop (mean ± std. dev. of 10 runs, 1 loop each)\n",
      "1.84 ms ± 511 µs per loop (mean ± std. dev. of 10 runs, 1 loop each)\n",
      "3.78 ms ± 294 µs per loop (mean ± std. dev. of 10 runs, 1 loop each)\n",
      "10.1 ms ± 200 µs per loop (mean ± std. dev. of 10 runs, 1 loop each)\n",
      "80.9 ms ± 1.54 ms per loop (mean ± std. dev. of 10 runs, 1 loop each)\n",
      "414 ms ± 1.88 ms per loop (mean ± std. dev. of 10 runs, 1 loop each)\n"
     ]
    },
    {
     "data": {
      "application/vnd.jupyter.widget-view+json": {
       "model_id": "01baa6188761425386aaf74d5a75075a",
       "version_major": 2,
       "version_minor": 0
      },
      "text/plain": [
       "  0%|          | 0/6 [00:00<?, ?it/s]"
      ]
     },
     "metadata": {},
     "output_type": "display_data"
    },
    {
     "name": "stdout",
     "output_type": "stream",
     "text": [
      "318 ms ± 1.53 ms per loop (mean ± std. dev. of 10 runs, 1 loop each)\n",
      "1.71 ms ± 324 µs per loop (mean ± std. dev. of 10 runs, 1 loop each)\n",
      "3.55 ms ± 248 µs per loop (mean ± std. dev. of 10 runs, 1 loop each)\n",
      "10.7 ms ± 690 µs per loop (mean ± std. dev. of 10 runs, 1 loop each)\n",
      "82.1 ms ± 1.79 ms per loop (mean ± std. dev. of 10 runs, 1 loop each)\n",
      "422 ms ± 2.2 ms per loop (mean ± std. dev. of 10 runs, 1 loop each)\n"
     ]
    },
    {
     "data": {
      "application/vnd.jupyter.widget-view+json": {
       "model_id": "626d0490c10a4888bb7ea5e803080bfc",
       "version_major": 2,
       "version_minor": 0
      },
      "text/plain": [
       "  0%|          | 0/6 [00:00<?, ?it/s]"
      ]
     },
     "metadata": {},
     "output_type": "display_data"
    },
    {
     "name": "stdout",
     "output_type": "stream",
     "text": [
      "321 ms ± 912 µs per loop (mean ± std. dev. of 10 runs, 1 loop each)\n",
      "1.72 ms ± 97.6 µs per loop (mean ± std. dev. of 10 runs, 1 loop each)\n",
      "3.54 ms ± 256 µs per loop (mean ± std. dev. of 10 runs, 1 loop each)\n",
      "10.5 ms ± 117 µs per loop (mean ± std. dev. of 10 runs, 1 loop each)\n",
      "81.9 ms ± 1.29 ms per loop (mean ± std. dev. of 10 runs, 1 loop each)\n",
      "432 ms ± 3.83 ms per loop (mean ± std. dev. of 10 runs, 1 loop each)\n"
     ]
    },
    {
     "data": {
      "application/vnd.jupyter.widget-view+json": {
       "model_id": "37071c2249a844149d0e46bd88f99e69",
       "version_major": 2,
       "version_minor": 0
      },
      "text/plain": [
       "  0%|          | 0/6 [00:00<?, ?it/s]"
      ]
     },
     "metadata": {},
     "output_type": "display_data"
    },
    {
     "name": "stdout",
     "output_type": "stream",
     "text": [
      "322 ms ± 1.44 ms per loop (mean ± std. dev. of 10 runs, 1 loop each)\n",
      "1.95 ms ± 900 µs per loop (mean ± std. dev. of 10 runs, 1 loop each)\n",
      "3.58 ms ± 239 µs per loop (mean ± std. dev. of 10 runs, 1 loop each)\n",
      "10.1 ms ± 268 µs per loop (mean ± std. dev. of 10 runs, 1 loop each)\n",
      "82.3 ms ± 1.88 ms per loop (mean ± std. dev. of 10 runs, 1 loop each)\n",
      "437 ms ± 1.65 ms per loop (mean ± std. dev. of 10 runs, 1 loop each)\n"
     ]
    },
    {
     "data": {
      "application/vnd.jupyter.widget-view+json": {
       "model_id": "0ce88d2d65ce4010a579c9a3036292ba",
       "version_major": 2,
       "version_minor": 0
      },
      "text/plain": [
       "  0%|          | 0/6 [00:00<?, ?it/s]"
      ]
     },
     "metadata": {},
     "output_type": "display_data"
    },
    {
     "name": "stdout",
     "output_type": "stream",
     "text": [
      "322 ms ± 2.8 ms per loop (mean ± std. dev. of 10 runs, 1 loop each)\n",
      "The slowest run took 6.70 times longer than the fastest. This could mean that an intermediate result is being cached.\n",
      "4.09 ms ± 2.86 ms per loop (mean ± std. dev. of 10 runs, 1 loop each)\n",
      "4.34 ms ± 755 µs per loop (mean ± std. dev. of 10 runs, 1 loop each)\n",
      "10.4 ms ± 460 µs per loop (mean ± std. dev. of 10 runs, 1 loop each)\n",
      "81.5 ms ± 1.13 ms per loop (mean ± std. dev. of 10 runs, 1 loop each)\n",
      "424 ms ± 3.86 ms per loop (mean ± std. dev. of 10 runs, 1 loop each)\n"
     ]
    },
    {
     "data": {
      "application/vnd.jupyter.widget-view+json": {
       "model_id": "c304c26b2f9f47019fcea788a1d08df3",
       "version_major": 2,
       "version_minor": 0
      },
      "text/plain": [
       "  0%|          | 0/6 [00:00<?, ?it/s]"
      ]
     },
     "metadata": {},
     "output_type": "display_data"
    },
    {
     "name": "stdout",
     "output_type": "stream",
     "text": [
      "316 ms ± 2.49 ms per loop (mean ± std. dev. of 10 runs, 1 loop each)\n",
      "2.21 ms ± 811 µs per loop (mean ± std. dev. of 10 runs, 1 loop each)\n",
      "3.98 ms ± 562 µs per loop (mean ± std. dev. of 10 runs, 1 loop each)\n",
      "10.2 ms ± 138 µs per loop (mean ± std. dev. of 10 runs, 1 loop each)\n",
      "82.2 ms ± 2.32 ms per loop (mean ± std. dev. of 10 runs, 1 loop each)\n",
      "412 ms ± 2.37 ms per loop (mean ± std. dev. of 10 runs, 1 loop each)\n"
     ]
    },
    {
     "data": {
      "application/vnd.jupyter.widget-view+json": {
       "model_id": "7f7f0b0c266d4d07af659c8521bca499",
       "version_major": 2,
       "version_minor": 0
      },
      "text/plain": [
       "  0%|          | 0/6 [00:00<?, ?it/s]"
      ]
     },
     "metadata": {},
     "output_type": "display_data"
    },
    {
     "name": "stdout",
     "output_type": "stream",
     "text": [
      "315 ms ± 1.61 ms per loop (mean ± std. dev. of 10 runs, 1 loop each)\n",
      "1.94 ms ± 528 µs per loop (mean ± std. dev. of 10 runs, 1 loop each)\n",
      "3.48 ms ± 227 µs per loop (mean ± std. dev. of 10 runs, 1 loop each)\n",
      "10.2 ms ± 84.9 µs per loop (mean ± std. dev. of 10 runs, 1 loop each)\n",
      "82.1 ms ± 1.56 ms per loop (mean ± std. dev. of 10 runs, 1 loop each)\n",
      "419 ms ± 3.65 ms per loop (mean ± std. dev. of 10 runs, 1 loop each)\n"
     ]
    },
    {
     "data": {
      "application/vnd.jupyter.widget-view+json": {
       "model_id": "cce15ac3f6b64791bec3a1af7ab8f059",
       "version_major": 2,
       "version_minor": 0
      },
      "text/plain": [
       "Processing classif_features_100_samples_1000_seed_0:   0%|          | 0/10 [00:00<?, ?it/s]"
      ]
     },
     "metadata": {},
     "output_type": "display_data"
    },
    {
     "data": {
      "application/vnd.jupyter.widget-view+json": {
       "model_id": "7005cbba117e482c9f79e0a1ac50153d",
       "version_major": 2,
       "version_minor": 0
      },
      "text/plain": [
       "  0%|          | 0/6 [00:00<?, ?it/s]"
      ]
     },
     "metadata": {},
     "output_type": "display_data"
    },
    {
     "name": "stdout",
     "output_type": "stream",
     "text": [
      "299 ms ± 4.89 ms per loop (mean ± std. dev. of 10 runs, 1 loop each)\n",
      "2.05 ms ± 256 µs per loop (mean ± std. dev. of 10 runs, 1 loop each)\n",
      "14.1 ms ± 146 µs per loop (mean ± std. dev. of 10 runs, 1 loop each)\n",
      "35.9 ms ± 517 µs per loop (mean ± std. dev. of 10 runs, 1 loop each)\n",
      "1.67 s ± 5.68 ms per loop (mean ± std. dev. of 10 runs, 1 loop each)\n",
      "1.07 s ± 7.83 ms per loop (mean ± std. dev. of 10 runs, 1 loop each)\n"
     ]
    },
    {
     "data": {
      "application/vnd.jupyter.widget-view+json": {
       "model_id": "19c1ddc2bb294b8493f9656998758b24",
       "version_major": 2,
       "version_minor": 0
      },
      "text/plain": [
       "  0%|          | 0/6 [00:00<?, ?it/s]"
      ]
     },
     "metadata": {},
     "output_type": "display_data"
    },
    {
     "name": "stdout",
     "output_type": "stream",
     "text": [
      "297 ms ± 3.35 ms per loop (mean ± std. dev. of 10 runs, 1 loop each)\n",
      "2.05 ms ± 148 µs per loop (mean ± std. dev. of 10 runs, 1 loop each)\n",
      "14.1 ms ± 121 µs per loop (mean ± std. dev. of 10 runs, 1 loop each)\n",
      "37.1 ms ± 1.95 ms per loop (mean ± std. dev. of 10 runs, 1 loop each)\n",
      "1.67 s ± 8.49 ms per loop (mean ± std. dev. of 10 runs, 1 loop each)\n",
      "1.17 s ± 69.5 ms per loop (mean ± std. dev. of 10 runs, 1 loop each)\n"
     ]
    },
    {
     "data": {
      "application/vnd.jupyter.widget-view+json": {
       "model_id": "8013368304074cec90651399029e986a",
       "version_major": 2,
       "version_minor": 0
      },
      "text/plain": [
       "  0%|          | 0/6 [00:00<?, ?it/s]"
      ]
     },
     "metadata": {},
     "output_type": "display_data"
    },
    {
     "name": "stdout",
     "output_type": "stream",
     "text": [
      "303 ms ± 7.39 ms per loop (mean ± std. dev. of 10 runs, 1 loop each)\n",
      "2.26 ms ± 724 µs per loop (mean ± std. dev. of 10 runs, 1 loop each)\n",
      "14.1 ms ± 103 µs per loop (mean ± std. dev. of 10 runs, 1 loop each)\n",
      "36.4 ms ± 825 µs per loop (mean ± std. dev. of 10 runs, 1 loop each)\n",
      "1.68 s ± 21.5 ms per loop (mean ± std. dev. of 10 runs, 1 loop each)\n",
      "1.15 s ± 66.5 ms per loop (mean ± std. dev. of 10 runs, 1 loop each)\n"
     ]
    },
    {
     "data": {
      "application/vnd.jupyter.widget-view+json": {
       "model_id": "b1938c6c261840c28591fafe5b591c97",
       "version_major": 2,
       "version_minor": 0
      },
      "text/plain": [
       "  0%|          | 0/6 [00:00<?, ?it/s]"
      ]
     },
     "metadata": {},
     "output_type": "display_data"
    },
    {
     "name": "stdout",
     "output_type": "stream",
     "text": [
      "352 ms ± 18.5 ms per loop (mean ± std. dev. of 10 runs, 1 loop each)\n",
      "5.28 ms ± 1.21 ms per loop (mean ± std. dev. of 10 runs, 1 loop each)\n",
      "18.1 ms ± 6.13 ms per loop (mean ± std. dev. of 10 runs, 1 loop each)\n",
      "38.8 ms ± 1.44 ms per loop (mean ± std. dev. of 10 runs, 1 loop each)\n",
      "1.79 s ± 90.6 ms per loop (mean ± std. dev. of 10 runs, 1 loop each)\n",
      "1.08 s ± 19.1 ms per loop (mean ± std. dev. of 10 runs, 1 loop each)\n"
     ]
    },
    {
     "data": {
      "application/vnd.jupyter.widget-view+json": {
       "model_id": "052b050ce91b4eb8ab21a4b352fca40c",
       "version_major": 2,
       "version_minor": 0
      },
      "text/plain": [
       "  0%|          | 0/6 [00:00<?, ?it/s]"
      ]
     },
     "metadata": {},
     "output_type": "display_data"
    },
    {
     "name": "stdout",
     "output_type": "stream",
     "text": [
      "296 ms ± 13.6 ms per loop (mean ± std. dev. of 10 runs, 1 loop each)\n",
      "2 ms ± 264 µs per loop (mean ± std. dev. of 10 runs, 1 loop each)\n",
      "14.2 ms ± 184 µs per loop (mean ± std. dev. of 10 runs, 1 loop each)\n",
      "36.5 ms ± 444 µs per loop (mean ± std. dev. of 10 runs, 1 loop each)\n",
      "1.72 s ± 42.5 ms per loop (mean ± std. dev. of 10 runs, 1 loop each)\n",
      "1.16 s ± 52.7 ms per loop (mean ± std. dev. of 10 runs, 1 loop each)\n"
     ]
    },
    {
     "data": {
      "application/vnd.jupyter.widget-view+json": {
       "model_id": "d3db5c8fa4b14fdcbcbb2a83f70f1f0a",
       "version_major": 2,
       "version_minor": 0
      },
      "text/plain": [
       "  0%|          | 0/6 [00:00<?, ?it/s]"
      ]
     },
     "metadata": {},
     "output_type": "display_data"
    },
    {
     "name": "stdout",
     "output_type": "stream",
     "text": [
      "318 ms ± 19.3 ms per loop (mean ± std. dev. of 10 runs, 1 loop each)\n",
      "3.46 ms ± 1.53 ms per loop (mean ± std. dev. of 10 runs, 1 loop each)\n",
      "14.8 ms ± 286 µs per loop (mean ± std. dev. of 10 runs, 1 loop each)\n",
      "38.7 ms ± 1.27 ms per loop (mean ± std. dev. of 10 runs, 1 loop each)\n",
      "1.74 s ± 40 ms per loop (mean ± std. dev. of 10 runs, 1 loop each)\n",
      "1.13 s ± 55.3 ms per loop (mean ± std. dev. of 10 runs, 1 loop each)\n"
     ]
    },
    {
     "data": {
      "application/vnd.jupyter.widget-view+json": {
       "model_id": "5d4d43a0c28a4ebc85c47e2426d1cb9f",
       "version_major": 2,
       "version_minor": 0
      },
      "text/plain": [
       "  0%|          | 0/6 [00:00<?, ?it/s]"
      ]
     },
     "metadata": {},
     "output_type": "display_data"
    },
    {
     "name": "stdout",
     "output_type": "stream",
     "text": [
      "314 ms ± 15.9 ms per loop (mean ± std. dev. of 10 runs, 1 loop each)\n",
      "6.29 ms ± 1.85 ms per loop (mean ± std. dev. of 10 runs, 1 loop each)\n",
      "14.5 ms ± 116 µs per loop (mean ± std. dev. of 10 runs, 1 loop each)\n",
      "38 ms ± 1.4 ms per loop (mean ± std. dev. of 10 runs, 1 loop each)\n",
      "1.74 s ± 63.6 ms per loop (mean ± std. dev. of 10 runs, 1 loop each)\n",
      "1.11 s ± 34 ms per loop (mean ± std. dev. of 10 runs, 1 loop each)\n"
     ]
    },
    {
     "data": {
      "application/vnd.jupyter.widget-view+json": {
       "model_id": "e220adc5e1e34fe2b6c7dd685ca48d71",
       "version_major": 2,
       "version_minor": 0
      },
      "text/plain": [
       "  0%|          | 0/6 [00:00<?, ?it/s]"
      ]
     },
     "metadata": {},
     "output_type": "display_data"
    },
    {
     "name": "stdout",
     "output_type": "stream",
     "text": [
      "292 ms ± 4.98 ms per loop (mean ± std. dev. of 10 runs, 1 loop each)\n",
      "The slowest run took 4.39 times longer than the fastest. This could mean that an intermediate result is being cached.\n",
      "3.86 ms ± 1.95 ms per loop (mean ± std. dev. of 10 runs, 1 loop each)\n",
      "14.3 ms ± 427 µs per loop (mean ± std. dev. of 10 runs, 1 loop each)\n",
      "36.3 ms ± 549 µs per loop (mean ± std. dev. of 10 runs, 1 loop each)\n",
      "1.7 s ± 15.2 ms per loop (mean ± std. dev. of 10 runs, 1 loop each)\n",
      "1.09 s ± 19.1 ms per loop (mean ± std. dev. of 10 runs, 1 loop each)\n"
     ]
    },
    {
     "data": {
      "application/vnd.jupyter.widget-view+json": {
       "model_id": "89e203fcf41c441b9be5b3efb0e51d46",
       "version_major": 2,
       "version_minor": 0
      },
      "text/plain": [
       "  0%|          | 0/6 [00:00<?, ?it/s]"
      ]
     },
     "metadata": {},
     "output_type": "display_data"
    },
    {
     "name": "stdout",
     "output_type": "stream",
     "text": [
      "303 ms ± 5.41 ms per loop (mean ± std. dev. of 10 runs, 1 loop each)\n",
      "2.3 ms ± 917 µs per loop (mean ± std. dev. of 10 runs, 1 loop each)\n",
      "14.1 ms ± 135 µs per loop (mean ± std. dev. of 10 runs, 1 loop each)\n",
      "37.3 ms ± 2.03 ms per loop (mean ± std. dev. of 10 runs, 1 loop each)\n",
      "1.69 s ± 22.9 ms per loop (mean ± std. dev. of 10 runs, 1 loop each)\n",
      "1.11 s ± 36.9 ms per loop (mean ± std. dev. of 10 runs, 1 loop each)\n"
     ]
    },
    {
     "data": {
      "application/vnd.jupyter.widget-view+json": {
       "model_id": "a8eced185ac8488eb25e2be7defab2dc",
       "version_major": 2,
       "version_minor": 0
      },
      "text/plain": [
       "  0%|          | 0/6 [00:00<?, ?it/s]"
      ]
     },
     "metadata": {},
     "output_type": "display_data"
    },
    {
     "name": "stdout",
     "output_type": "stream",
     "text": [
      "298 ms ± 5.02 ms per loop (mean ± std. dev. of 10 runs, 1 loop each)\n",
      "The slowest run took 4.63 times longer than the fastest. This could mean that an intermediate result is being cached.\n",
      "3.29 ms ± 2.48 ms per loop (mean ± std. dev. of 10 runs, 1 loop each)\n",
      "14.4 ms ± 485 µs per loop (mean ± std. dev. of 10 runs, 1 loop each)\n",
      "36.7 ms ± 424 µs per loop (mean ± std. dev. of 10 runs, 1 loop each)\n",
      "1.75 s ± 101 ms per loop (mean ± std. dev. of 10 runs, 1 loop each)\n",
      "1.1 s ± 38.2 ms per loop (mean ± std. dev. of 10 runs, 1 loop each)\n"
     ]
    },
    {
     "data": {
      "application/vnd.jupyter.widget-view+json": {
       "model_id": "9af37be6793a4f0ab75c7ff736486209",
       "version_major": 2,
       "version_minor": 0
      },
      "text/plain": [
       "Processing classif_features_100_samples_10000_seed_0:   0%|          | 0/10 [00:00<?, ?it/s]"
      ]
     },
     "metadata": {},
     "output_type": "display_data"
    },
    {
     "data": {
      "application/vnd.jupyter.widget-view+json": {
       "model_id": "71e8d9c0ce164855a24a6c88fc4b5e20",
       "version_major": 2,
       "version_minor": 0
      },
      "text/plain": [
       "  0%|          | 0/6 [00:00<?, ?it/s]"
      ]
     },
     "metadata": {},
     "output_type": "display_data"
    },
    {
     "name": "stdout",
     "output_type": "stream",
     "text": [
      "3.21 s ± 20.1 ms per loop (mean ± std. dev. of 10 runs, 1 loop each)\n",
      "5.37 ms ± 2.27 ms per loop (mean ± std. dev. of 10 runs, 1 loop each)\n",
      "124 ms ± 947 µs per loop (mean ± std. dev. of 10 runs, 1 loop each)\n",
      "317 ms ± 7.32 ms per loop (mean ± std. dev. of 10 runs, 1 loop each)\n",
      "7.27 s ± 12.9 ms per loop (mean ± std. dev. of 10 runs, 1 loop each)\n",
      "4.23 s ± 7.07 ms per loop (mean ± std. dev. of 10 runs, 1 loop each)\n"
     ]
    },
    {
     "data": {
      "application/vnd.jupyter.widget-view+json": {
       "model_id": "d28e43558505404bb0ed3f732d97d61a",
       "version_major": 2,
       "version_minor": 0
      },
      "text/plain": [
       "  0%|          | 0/6 [00:00<?, ?it/s]"
      ]
     },
     "metadata": {},
     "output_type": "display_data"
    },
    {
     "name": "stdout",
     "output_type": "stream",
     "text": [
      "3.11 s ± 6.12 ms per loop (mean ± std. dev. of 10 runs, 1 loop each)\n",
      "3.29 ms ± 170 µs per loop (mean ± std. dev. of 10 runs, 1 loop each)\n",
      "124 ms ± 955 µs per loop (mean ± std. dev. of 10 runs, 1 loop each)\n",
      "299 ms ± 6.35 ms per loop (mean ± std. dev. of 10 runs, 1 loop each)\n",
      "7.26 s ± 13.9 ms per loop (mean ± std. dev. of 10 runs, 1 loop each)\n",
      "4.21 s ± 40.5 ms per loop (mean ± std. dev. of 10 runs, 1 loop each)\n"
     ]
    },
    {
     "data": {
      "application/vnd.jupyter.widget-view+json": {
       "model_id": "eb6ffe0f8e5040e6b60e70486ce6b006",
       "version_major": 2,
       "version_minor": 0
      },
      "text/plain": [
       "  0%|          | 0/6 [00:00<?, ?it/s]"
      ]
     },
     "metadata": {},
     "output_type": "display_data"
    },
    {
     "name": "stdout",
     "output_type": "stream",
     "text": [
      "3.25 s ± 32.3 ms per loop (mean ± std. dev. of 10 runs, 1 loop each)\n",
      "4.15 ms ± 1.27 ms per loop (mean ± std. dev. of 10 runs, 1 loop each)\n",
      "126 ms ± 981 µs per loop (mean ± std. dev. of 10 runs, 1 loop each)\n",
      "294 ms ± 2.7 ms per loop (mean ± std. dev. of 10 runs, 1 loop each)\n",
      "7.25 s ± 10.3 ms per loop (mean ± std. dev. of 10 runs, 1 loop each)\n",
      "4.32 s ± 5.41 ms per loop (mean ± std. dev. of 10 runs, 1 loop each)\n"
     ]
    },
    {
     "data": {
      "application/vnd.jupyter.widget-view+json": {
       "model_id": "c1fcd5eab6d2450cbd89f3d087ebcb22",
       "version_major": 2,
       "version_minor": 0
      },
      "text/plain": [
       "  0%|          | 0/6 [00:00<?, ?it/s]"
      ]
     },
     "metadata": {},
     "output_type": "display_data"
    },
    {
     "name": "stdout",
     "output_type": "stream",
     "text": [
      "3.2 s ± 4.89 ms per loop (mean ± std. dev. of 10 runs, 1 loop each)\n",
      "4.75 ms ± 2.24 ms per loop (mean ± std. dev. of 10 runs, 1 loop each)\n",
      "125 ms ± 871 µs per loop (mean ± std. dev. of 10 runs, 1 loop each)\n",
      "299 ms ± 2.49 ms per loop (mean ± std. dev. of 10 runs, 1 loop each)\n",
      "7.27 s ± 17.9 ms per loop (mean ± std. dev. of 10 runs, 1 loop each)\n",
      "4.26 s ± 6.31 ms per loop (mean ± std. dev. of 10 runs, 1 loop each)\n"
     ]
    },
    {
     "data": {
      "application/vnd.jupyter.widget-view+json": {
       "model_id": "6c9eccfbc96d41968ff55c56492c310c",
       "version_major": 2,
       "version_minor": 0
      },
      "text/plain": [
       "  0%|          | 0/6 [00:00<?, ?it/s]"
      ]
     },
     "metadata": {},
     "output_type": "display_data"
    },
    {
     "name": "stdout",
     "output_type": "stream",
     "text": [
      "3.12 s ± 4.23 ms per loop (mean ± std. dev. of 10 runs, 1 loop each)\n",
      "4.8 ms ± 1.6 ms per loop (mean ± std. dev. of 10 runs, 1 loop each)\n",
      "125 ms ± 1.23 ms per loop (mean ± std. dev. of 10 runs, 1 loop each)\n",
      "296 ms ± 1.89 ms per loop (mean ± std. dev. of 10 runs, 1 loop each)\n",
      "7.29 s ± 14.3 ms per loop (mean ± std. dev. of 10 runs, 1 loop each)\n",
      "4.38 s ± 98.7 ms per loop (mean ± std. dev. of 10 runs, 1 loop each)\n"
     ]
    },
    {
     "data": {
      "application/vnd.jupyter.widget-view+json": {
       "model_id": "84889cd09d8a491a998ca73db496ad04",
       "version_major": 2,
       "version_minor": 0
      },
      "text/plain": [
       "  0%|          | 0/6 [00:00<?, ?it/s]"
      ]
     },
     "metadata": {},
     "output_type": "display_data"
    },
    {
     "name": "stdout",
     "output_type": "stream",
     "text": [
      "3.24 s ± 53.1 ms per loop (mean ± std. dev. of 10 runs, 1 loop each)\n",
      "3.13 ms ± 80.1 µs per loop (mean ± std. dev. of 10 runs, 1 loop each)\n",
      "125 ms ± 662 µs per loop (mean ± std. dev. of 10 runs, 1 loop each)\n",
      "292 ms ± 1.33 ms per loop (mean ± std. dev. of 10 runs, 1 loop each)\n",
      "7.41 s ± 164 ms per loop (mean ± std. dev. of 10 runs, 1 loop each)\n",
      "4.37 s ± 156 ms per loop (mean ± std. dev. of 10 runs, 1 loop each)\n"
     ]
    },
    {
     "data": {
      "application/vnd.jupyter.widget-view+json": {
       "model_id": "8bc32c91649a43c8b2f7ba03d860987d",
       "version_major": 2,
       "version_minor": 0
      },
      "text/plain": [
       "  0%|          | 0/6 [00:00<?, ?it/s]"
      ]
     },
     "metadata": {},
     "output_type": "display_data"
    },
    {
     "name": "stdout",
     "output_type": "stream",
     "text": [
      "3.18 s ± 20.3 ms per loop (mean ± std. dev. of 10 runs, 1 loop each)\n",
      "3.21 ms ± 152 µs per loop (mean ± std. dev. of 10 runs, 1 loop each)\n",
      "124 ms ± 962 µs per loop (mean ± std. dev. of 10 runs, 1 loop each)\n",
      "299 ms ± 4.41 ms per loop (mean ± std. dev. of 10 runs, 1 loop each)\n",
      "7.27 s ± 75 ms per loop (mean ± std. dev. of 10 runs, 1 loop each)\n",
      "4.17 s ± 6.78 ms per loop (mean ± std. dev. of 10 runs, 1 loop each)\n"
     ]
    },
    {
     "data": {
      "application/vnd.jupyter.widget-view+json": {
       "model_id": "a78a34052f154143b799b3740b171a7e",
       "version_major": 2,
       "version_minor": 0
      },
      "text/plain": [
       "  0%|          | 0/6 [00:00<?, ?it/s]"
      ]
     },
     "metadata": {},
     "output_type": "display_data"
    },
    {
     "name": "stdout",
     "output_type": "stream",
     "text": [
      "3.16 s ± 6.29 ms per loop (mean ± std. dev. of 10 runs, 1 loop each)\n",
      "4.7 ms ± 2.63 ms per loop (mean ± std. dev. of 10 runs, 1 loop each)\n",
      "126 ms ± 727 µs per loop (mean ± std. dev. of 10 runs, 1 loop each)\n",
      "300 ms ± 4.1 ms per loop (mean ± std. dev. of 10 runs, 1 loop each)\n",
      "7.24 s ± 46.4 ms per loop (mean ± std. dev. of 10 runs, 1 loop each)\n",
      "4.25 s ± 3.74 ms per loop (mean ± std. dev. of 10 runs, 1 loop each)\n"
     ]
    },
    {
     "data": {
      "application/vnd.jupyter.widget-view+json": {
       "model_id": "42d52e27e29744a5a4fb71c22b862cbc",
       "version_major": 2,
       "version_minor": 0
      },
      "text/plain": [
       "  0%|          | 0/6 [00:00<?, ?it/s]"
      ]
     },
     "metadata": {},
     "output_type": "display_data"
    },
    {
     "name": "stdout",
     "output_type": "stream",
     "text": [
      "3.18 s ± 4.59 ms per loop (mean ± std. dev. of 10 runs, 1 loop each)\n",
      "4.05 ms ± 1.1 ms per loop (mean ± std. dev. of 10 runs, 1 loop each)\n",
      "125 ms ± 749 µs per loop (mean ± std. dev. of 10 runs, 1 loop each)\n",
      "293 ms ± 4.09 ms per loop (mean ± std. dev. of 10 runs, 1 loop each)\n",
      "7.25 s ± 4.85 ms per loop (mean ± std. dev. of 10 runs, 1 loop each)\n",
      "4.18 s ± 2.88 ms per loop (mean ± std. dev. of 10 runs, 1 loop each)\n"
     ]
    },
    {
     "data": {
      "application/vnd.jupyter.widget-view+json": {
       "model_id": "4094a44cdfea4e63986c9b5af192330f",
       "version_major": 2,
       "version_minor": 0
      },
      "text/plain": [
       "  0%|          | 0/6 [00:00<?, ?it/s]"
      ]
     },
     "metadata": {},
     "output_type": "display_data"
    },
    {
     "name": "stdout",
     "output_type": "stream",
     "text": [
      "3.15 s ± 6.2 ms per loop (mean ± std. dev. of 10 runs, 1 loop each)\n",
      "3.49 ms ± 526 µs per loop (mean ± std. dev. of 10 runs, 1 loop each)\n",
      "125 ms ± 699 µs per loop (mean ± std. dev. of 10 runs, 1 loop each)\n",
      "298 ms ± 4.17 ms per loop (mean ± std. dev. of 10 runs, 1 loop each)\n",
      "7.23 s ± 37.1 ms per loop (mean ± std. dev. of 10 runs, 1 loop each)\n",
      "4.14 s ± 7.9 ms per loop (mean ± std. dev. of 10 runs, 1 loop each)\n"
     ]
    }
   ],
   "source": [
    "res_data = get_syn_stats_data_based(imp_types_data, datasets, dataset_states, 0.2)"
   ]
  },
  {
   "cell_type": "code",
   "execution_count": 12,
   "metadata": {},
   "outputs": [
    {
     "data": {
      "application/vnd.jupyter.widget-view+json": {
       "model_id": "0ce19b9ec12e485e83f1a6ee964ed478",
       "version_major": 2,
       "version_minor": 0
      },
      "text/plain": [
       "Dataset progress:   0%|          | 0/5 [00:00<?, ?it/s]"
      ]
     },
     "metadata": {},
     "output_type": "display_data"
    },
    {
     "data": {
      "application/vnd.jupyter.widget-view+json": {
       "model_id": "f28b2cb7342e4c44a54fefb35a2d6af6",
       "version_major": 2,
       "version_minor": 0
      },
      "text/plain": [
       "Processing classif_features_10_samples_100_seed_0:   0%|          | 0/10 [00:00<?, ?it/s]"
      ]
     },
     "metadata": {},
     "output_type": "display_data"
    },
    {
     "data": {
      "application/vnd.jupyter.widget-view+json": {
       "model_id": "2ea08125fd294485a213443dcc0d45fd",
       "version_major": 2,
       "version_minor": 0
      },
      "text/plain": [
       "  0%|          | 0/2 [00:00<?, ?it/s]"
      ]
     },
     "metadata": {},
     "output_type": "display_data"
    },
    {
     "name": "stdout",
     "output_type": "stream",
     "text": [
      "15.3 ms ± 2.74 ms per loop (mean ± std. dev. of 10 runs, 1 loop each)\n",
      "1.01 s ± 20.9 ms per loop (mean ± std. dev. of 10 runs, 1 loop each)\n"
     ]
    },
    {
     "data": {
      "application/vnd.jupyter.widget-view+json": {
       "model_id": "0c2fbccfcfd7455eb0a3dbb5943a782f",
       "version_major": 2,
       "version_minor": 0
      },
      "text/plain": [
       "  0%|          | 0/2 [00:00<?, ?it/s]"
      ]
     },
     "metadata": {},
     "output_type": "display_data"
    },
    {
     "name": "stdout",
     "output_type": "stream",
     "text": [
      "14.1 ms ± 839 µs per loop (mean ± std. dev. of 10 runs, 1 loop each)\n",
      "1.04 s ± 44.5 ms per loop (mean ± std. dev. of 10 runs, 1 loop each)\n"
     ]
    },
    {
     "data": {
      "application/vnd.jupyter.widget-view+json": {
       "model_id": "a71e450647cf4cd3835b7331920a7c1f",
       "version_major": 2,
       "version_minor": 0
      },
      "text/plain": [
       "  0%|          | 0/2 [00:00<?, ?it/s]"
      ]
     },
     "metadata": {},
     "output_type": "display_data"
    },
    {
     "name": "stdout",
     "output_type": "stream",
     "text": [
      "14.9 ms ± 1.3 ms per loop (mean ± std. dev. of 10 runs, 1 loop each)\n",
      "1.04 s ± 51.7 ms per loop (mean ± std. dev. of 10 runs, 1 loop each)\n"
     ]
    },
    {
     "data": {
      "application/vnd.jupyter.widget-view+json": {
       "model_id": "3dd3e27699b14d4aa6581c28263fc010",
       "version_major": 2,
       "version_minor": 0
      },
      "text/plain": [
       "  0%|          | 0/2 [00:00<?, ?it/s]"
      ]
     },
     "metadata": {},
     "output_type": "display_data"
    },
    {
     "name": "stdout",
     "output_type": "stream",
     "text": [
      "15.4 ms ± 1.87 ms per loop (mean ± std. dev. of 10 runs, 1 loop each)\n",
      "1.08 s ± 92.1 ms per loop (mean ± std. dev. of 10 runs, 1 loop each)\n"
     ]
    },
    {
     "data": {
      "application/vnd.jupyter.widget-view+json": {
       "model_id": "8f85205e74e34c65932328a2664d0328",
       "version_major": 2,
       "version_minor": 0
      },
      "text/plain": [
       "  0%|          | 0/2 [00:00<?, ?it/s]"
      ]
     },
     "metadata": {},
     "output_type": "display_data"
    },
    {
     "name": "stdout",
     "output_type": "stream",
     "text": [
      "14.3 ms ± 907 µs per loop (mean ± std. dev. of 10 runs, 1 loop each)\n",
      "1.07 s ± 64.2 ms per loop (mean ± std. dev. of 10 runs, 1 loop each)\n"
     ]
    },
    {
     "data": {
      "application/vnd.jupyter.widget-view+json": {
       "model_id": "4eca3a1e36114ae6a03c841cc77b094a",
       "version_major": 2,
       "version_minor": 0
      },
      "text/plain": [
       "  0%|          | 0/2 [00:00<?, ?it/s]"
      ]
     },
     "metadata": {},
     "output_type": "display_data"
    },
    {
     "name": "stdout",
     "output_type": "stream",
     "text": [
      "14.4 ms ± 1.14 ms per loop (mean ± std. dev. of 10 runs, 1 loop each)\n",
      "1.04 s ± 45.4 ms per loop (mean ± std. dev. of 10 runs, 1 loop each)\n"
     ]
    },
    {
     "data": {
      "application/vnd.jupyter.widget-view+json": {
       "model_id": "94703f686dda4abbb6037f47342840e9",
       "version_major": 2,
       "version_minor": 0
      },
      "text/plain": [
       "  0%|          | 0/2 [00:00<?, ?it/s]"
      ]
     },
     "metadata": {},
     "output_type": "display_data"
    },
    {
     "name": "stdout",
     "output_type": "stream",
     "text": [
      "20.5 ms ± 4.15 ms per loop (mean ± std. dev. of 10 runs, 1 loop each)\n",
      "1.11 s ± 63.3 ms per loop (mean ± std. dev. of 10 runs, 1 loop each)\n"
     ]
    },
    {
     "data": {
      "application/vnd.jupyter.widget-view+json": {
       "model_id": "e2508458fca24dddb2370b6c6600a742",
       "version_major": 2,
       "version_minor": 0
      },
      "text/plain": [
       "  0%|          | 0/2 [00:00<?, ?it/s]"
      ]
     },
     "metadata": {},
     "output_type": "display_data"
    },
    {
     "name": "stdout",
     "output_type": "stream",
     "text": [
      "14.4 ms ± 777 µs per loop (mean ± std. dev. of 10 runs, 1 loop each)\n",
      "1.09 s ± 84.1 ms per loop (mean ± std. dev. of 10 runs, 1 loop each)\n"
     ]
    },
    {
     "data": {
      "application/vnd.jupyter.widget-view+json": {
       "model_id": "69997026611a44e6a05d518fde57a4f7",
       "version_major": 2,
       "version_minor": 0
      },
      "text/plain": [
       "  0%|          | 0/2 [00:00<?, ?it/s]"
      ]
     },
     "metadata": {},
     "output_type": "display_data"
    },
    {
     "name": "stdout",
     "output_type": "stream",
     "text": [
      "16.4 ms ± 1.99 ms per loop (mean ± std. dev. of 10 runs, 1 loop each)\n",
      "1.03 s ± 25.8 ms per loop (mean ± std. dev. of 10 runs, 1 loop each)\n"
     ]
    },
    {
     "data": {
      "application/vnd.jupyter.widget-view+json": {
       "model_id": "12aedcb989974d8a967a61ac180ccdd9",
       "version_major": 2,
       "version_minor": 0
      },
      "text/plain": [
       "  0%|          | 0/2 [00:00<?, ?it/s]"
      ]
     },
     "metadata": {},
     "output_type": "display_data"
    },
    {
     "name": "stdout",
     "output_type": "stream",
     "text": [
      "18.1 ms ± 4.75 ms per loop (mean ± std. dev. of 10 runs, 1 loop each)\n",
      "1.1 s ± 145 ms per loop (mean ± std. dev. of 10 runs, 1 loop each)\n"
     ]
    },
    {
     "data": {
      "application/vnd.jupyter.widget-view+json": {
       "model_id": "45f42fc2f4514a3a9b0a10a3d4161f43",
       "version_major": 2,
       "version_minor": 0
      },
      "text/plain": [
       "Processing classif_features_10_samples_1000_seed_0:   0%|          | 0/10 [00:00<?, ?it/s]"
      ]
     },
     "metadata": {},
     "output_type": "display_data"
    },
    {
     "data": {
      "application/vnd.jupyter.widget-view+json": {
       "model_id": "50ebcb8077f7444bb1c59131fbd032be",
       "version_major": 2,
       "version_minor": 0
      },
      "text/plain": [
       "  0%|          | 0/2 [00:00<?, ?it/s]"
      ]
     },
     "metadata": {},
     "output_type": "display_data"
    },
    {
     "name": "stdout",
     "output_type": "stream",
     "text": [
      "16.6 ms ± 886 µs per loop (mean ± std. dev. of 10 runs, 1 loop each)\n",
      "1.15 s ± 105 ms per loop (mean ± std. dev. of 10 runs, 1 loop each)\n"
     ]
    },
    {
     "data": {
      "application/vnd.jupyter.widget-view+json": {
       "model_id": "808633de9dd34209a905cb7396d2c3e4",
       "version_major": 2,
       "version_minor": 0
      },
      "text/plain": [
       "  0%|          | 0/2 [00:00<?, ?it/s]"
      ]
     },
     "metadata": {},
     "output_type": "display_data"
    },
    {
     "name": "stdout",
     "output_type": "stream",
     "text": [
      "18.3 ms ± 1.09 ms per loop (mean ± std. dev. of 10 runs, 1 loop each)\n",
      "1.13 s ± 93 ms per loop (mean ± std. dev. of 10 runs, 1 loop each)\n"
     ]
    },
    {
     "data": {
      "application/vnd.jupyter.widget-view+json": {
       "model_id": "8eefb1dcfbe84a9b8926c065bf739ede",
       "version_major": 2,
       "version_minor": 0
      },
      "text/plain": [
       "  0%|          | 0/2 [00:00<?, ?it/s]"
      ]
     },
     "metadata": {},
     "output_type": "display_data"
    },
    {
     "name": "stdout",
     "output_type": "stream",
     "text": [
      "16.4 ms ± 735 µs per loop (mean ± std. dev. of 10 runs, 1 loop each)\n",
      "1.14 s ± 91.4 ms per loop (mean ± std. dev. of 10 runs, 1 loop each)\n"
     ]
    },
    {
     "data": {
      "application/vnd.jupyter.widget-view+json": {
       "model_id": "ecaf834d9a2f436d84559709e6d2c2b2",
       "version_major": 2,
       "version_minor": 0
      },
      "text/plain": [
       "  0%|          | 0/2 [00:00<?, ?it/s]"
      ]
     },
     "metadata": {},
     "output_type": "display_data"
    },
    {
     "name": "stdout",
     "output_type": "stream",
     "text": [
      "17.5 ms ± 2.26 ms per loop (mean ± std. dev. of 10 runs, 1 loop each)\n",
      "1.35 s ± 263 ms per loop (mean ± std. dev. of 10 runs, 1 loop each)\n"
     ]
    },
    {
     "data": {
      "application/vnd.jupyter.widget-view+json": {
       "model_id": "6354370f5b914611b9353e1f61bb02ba",
       "version_major": 2,
       "version_minor": 0
      },
      "text/plain": [
       "  0%|          | 0/2 [00:00<?, ?it/s]"
      ]
     },
     "metadata": {},
     "output_type": "display_data"
    },
    {
     "name": "stdout",
     "output_type": "stream",
     "text": [
      "16.6 ms ± 542 µs per loop (mean ± std. dev. of 10 runs, 1 loop each)\n",
      "1.08 s ± 41.2 ms per loop (mean ± std. dev. of 10 runs, 1 loop each)\n"
     ]
    },
    {
     "data": {
      "application/vnd.jupyter.widget-view+json": {
       "model_id": "5a4fb355d9694a3486ce996a91a5e43f",
       "version_major": 2,
       "version_minor": 0
      },
      "text/plain": [
       "  0%|          | 0/2 [00:00<?, ?it/s]"
      ]
     },
     "metadata": {},
     "output_type": "display_data"
    },
    {
     "name": "stdout",
     "output_type": "stream",
     "text": [
      "17.6 ms ± 1.18 ms per loop (mean ± std. dev. of 10 runs, 1 loop each)\n",
      "1.09 s ± 88.6 ms per loop (mean ± std. dev. of 10 runs, 1 loop each)\n"
     ]
    },
    {
     "data": {
      "application/vnd.jupyter.widget-view+json": {
       "model_id": "03f815438a244db6aaaa61bae0cb39ee",
       "version_major": 2,
       "version_minor": 0
      },
      "text/plain": [
       "  0%|          | 0/2 [00:00<?, ?it/s]"
      ]
     },
     "metadata": {},
     "output_type": "display_data"
    },
    {
     "name": "stdout",
     "output_type": "stream",
     "text": [
      "18.9 ms ± 2.37 ms per loop (mean ± std. dev. of 10 runs, 1 loop each)\n",
      "1.28 s ± 218 ms per loop (mean ± std. dev. of 10 runs, 1 loop each)\n"
     ]
    },
    {
     "data": {
      "application/vnd.jupyter.widget-view+json": {
       "model_id": "943a8da49cd64c7285b0752fa9e49846",
       "version_major": 2,
       "version_minor": 0
      },
      "text/plain": [
       "  0%|          | 0/2 [00:00<?, ?it/s]"
      ]
     },
     "metadata": {},
     "output_type": "display_data"
    },
    {
     "name": "stdout",
     "output_type": "stream",
     "text": [
      "17 ms ± 2 ms per loop (mean ± std. dev. of 10 runs, 1 loop each)\n",
      "1.21 s ± 95.2 ms per loop (mean ± std. dev. of 10 runs, 1 loop each)\n"
     ]
    },
    {
     "data": {
      "application/vnd.jupyter.widget-view+json": {
       "model_id": "81d3e809bdf64806800ffecf0fd57e2c",
       "version_major": 2,
       "version_minor": 0
      },
      "text/plain": [
       "  0%|          | 0/2 [00:00<?, ?it/s]"
      ]
     },
     "metadata": {},
     "output_type": "display_data"
    },
    {
     "name": "stdout",
     "output_type": "stream",
     "text": [
      "17.7 ms ± 1.38 ms per loop (mean ± std. dev. of 10 runs, 1 loop each)\n",
      "1.18 s ± 101 ms per loop (mean ± std. dev. of 10 runs, 1 loop each)\n"
     ]
    },
    {
     "data": {
      "application/vnd.jupyter.widget-view+json": {
       "model_id": "36e7490e44e8485d835512971f0924f7",
       "version_major": 2,
       "version_minor": 0
      },
      "text/plain": [
       "  0%|          | 0/2 [00:00<?, ?it/s]"
      ]
     },
     "metadata": {},
     "output_type": "display_data"
    },
    {
     "name": "stdout",
     "output_type": "stream",
     "text": [
      "22.7 ms ± 7.63 ms per loop (mean ± std. dev. of 10 runs, 1 loop each)\n",
      "1.12 s ± 78.9 ms per loop (mean ± std. dev. of 10 runs, 1 loop each)\n"
     ]
    },
    {
     "data": {
      "application/vnd.jupyter.widget-view+json": {
       "model_id": "cbce5254423b471c9ba962e97527ba6d",
       "version_major": 2,
       "version_minor": 0
      },
      "text/plain": [
       "Processing classif_features_10_samples_10000_seed_0:   0%|          | 0/10 [00:00<?, ?it/s]"
      ]
     },
     "metadata": {},
     "output_type": "display_data"
    },
    {
     "data": {
      "application/vnd.jupyter.widget-view+json": {
       "model_id": "aa77b8e8e4f84fa68b62b238b03d7f6b",
       "version_major": 2,
       "version_minor": 0
      },
      "text/plain": [
       "  0%|          | 0/2 [00:00<?, ?it/s]"
      ]
     },
     "metadata": {},
     "output_type": "display_data"
    },
    {
     "name": "stdout",
     "output_type": "stream",
     "text": [
      "17.4 ms ± 1.75 ms per loop (mean ± std. dev. of 10 runs, 1 loop each)\n",
      "2.51 s ± 195 ms per loop (mean ± std. dev. of 10 runs, 1 loop each)\n"
     ]
    },
    {
     "data": {
      "application/vnd.jupyter.widget-view+json": {
       "model_id": "d103150ae09046f2a521a7ce8bd5b7b7",
       "version_major": 2,
       "version_minor": 0
      },
      "text/plain": [
       "  0%|          | 0/2 [00:00<?, ?it/s]"
      ]
     },
     "metadata": {},
     "output_type": "display_data"
    },
    {
     "name": "stdout",
     "output_type": "stream",
     "text": [
      "18.2 ms ± 1.57 ms per loop (mean ± std. dev. of 10 runs, 1 loop each)\n",
      "2.7 s ± 212 ms per loop (mean ± std. dev. of 10 runs, 1 loop each)\n"
     ]
    },
    {
     "data": {
      "application/vnd.jupyter.widget-view+json": {
       "model_id": "6d309b4f8f474c88a3081a2d4bd28d76",
       "version_major": 2,
       "version_minor": 0
      },
      "text/plain": [
       "  0%|          | 0/2 [00:00<?, ?it/s]"
      ]
     },
     "metadata": {},
     "output_type": "display_data"
    },
    {
     "name": "stdout",
     "output_type": "stream",
     "text": [
      "16.9 ms ± 321 µs per loop (mean ± std. dev. of 10 runs, 1 loop each)\n",
      "2.67 s ± 300 ms per loop (mean ± std. dev. of 10 runs, 1 loop each)\n"
     ]
    },
    {
     "data": {
      "application/vnd.jupyter.widget-view+json": {
       "model_id": "e4fecfd6cc0b440aabda9a06fbc69245",
       "version_major": 2,
       "version_minor": 0
      },
      "text/plain": [
       "  0%|          | 0/2 [00:00<?, ?it/s]"
      ]
     },
     "metadata": {},
     "output_type": "display_data"
    },
    {
     "name": "stdout",
     "output_type": "stream",
     "text": [
      "20.7 ms ± 3.83 ms per loop (mean ± std. dev. of 10 runs, 1 loop each)\n",
      "2.8 s ± 355 ms per loop (mean ± std. dev. of 10 runs, 1 loop each)\n"
     ]
    },
    {
     "data": {
      "application/vnd.jupyter.widget-view+json": {
       "model_id": "e4ab073421e9431ca09047761e8e8c0e",
       "version_major": 2,
       "version_minor": 0
      },
      "text/plain": [
       "  0%|          | 0/2 [00:00<?, ?it/s]"
      ]
     },
     "metadata": {},
     "output_type": "display_data"
    },
    {
     "name": "stdout",
     "output_type": "stream",
     "text": [
      "17 ms ± 1.07 ms per loop (mean ± std. dev. of 10 runs, 1 loop each)\n",
      "2.88 s ± 551 ms per loop (mean ± std. dev. of 10 runs, 1 loop each)\n"
     ]
    },
    {
     "data": {
      "application/vnd.jupyter.widget-view+json": {
       "model_id": "43e2fbfcafc249a6be4b70253ea8f8f1",
       "version_major": 2,
       "version_minor": 0
      },
      "text/plain": [
       "  0%|          | 0/2 [00:00<?, ?it/s]"
      ]
     },
     "metadata": {},
     "output_type": "display_data"
    },
    {
     "name": "stdout",
     "output_type": "stream",
     "text": [
      "22.6 ms ± 4.44 ms per loop (mean ± std. dev. of 10 runs, 1 loop each)\n",
      "2.85 s ± 358 ms per loop (mean ± std. dev. of 10 runs, 1 loop each)\n"
     ]
    },
    {
     "data": {
      "application/vnd.jupyter.widget-view+json": {
       "model_id": "09594e9e118042c7bc58c94b595cc84d",
       "version_major": 2,
       "version_minor": 0
      },
      "text/plain": [
       "  0%|          | 0/2 [00:00<?, ?it/s]"
      ]
     },
     "metadata": {},
     "output_type": "display_data"
    },
    {
     "name": "stdout",
     "output_type": "stream",
     "text": [
      "19.3 ms ± 1.9 ms per loop (mean ± std. dev. of 10 runs, 1 loop each)\n",
      "2.8 s ± 259 ms per loop (mean ± std. dev. of 10 runs, 1 loop each)\n"
     ]
    },
    {
     "data": {
      "application/vnd.jupyter.widget-view+json": {
       "model_id": "0d06c7930e5a4f98992ad0b556baac83",
       "version_major": 2,
       "version_minor": 0
      },
      "text/plain": [
       "  0%|          | 0/2 [00:00<?, ?it/s]"
      ]
     },
     "metadata": {},
     "output_type": "display_data"
    },
    {
     "name": "stdout",
     "output_type": "stream",
     "text": [
      "16.8 ms ± 310 µs per loop (mean ± std. dev. of 10 runs, 1 loop each)\n",
      "2.35 s ± 213 ms per loop (mean ± std. dev. of 10 runs, 1 loop each)\n"
     ]
    },
    {
     "data": {
      "application/vnd.jupyter.widget-view+json": {
       "model_id": "1cef570ae8564fca9cb4259ac6c7b1c9",
       "version_major": 2,
       "version_minor": 0
      },
      "text/plain": [
       "  0%|          | 0/2 [00:00<?, ?it/s]"
      ]
     },
     "metadata": {},
     "output_type": "display_data"
    },
    {
     "name": "stdout",
     "output_type": "stream",
     "text": [
      "16.9 ms ± 745 µs per loop (mean ± std. dev. of 10 runs, 1 loop each)\n",
      "2.66 s ± 310 ms per loop (mean ± std. dev. of 10 runs, 1 loop each)\n"
     ]
    },
    {
     "data": {
      "application/vnd.jupyter.widget-view+json": {
       "model_id": "4a5e7f3be7e04f868221f71306e96c81",
       "version_major": 2,
       "version_minor": 0
      },
      "text/plain": [
       "  0%|          | 0/2 [00:00<?, ?it/s]"
      ]
     },
     "metadata": {},
     "output_type": "display_data"
    },
    {
     "name": "stdout",
     "output_type": "stream",
     "text": [
      "17.5 ms ± 1.66 ms per loop (mean ± std. dev. of 10 runs, 1 loop each)\n",
      "2.48 s ± 357 ms per loop (mean ± std. dev. of 10 runs, 1 loop each)\n"
     ]
    },
    {
     "data": {
      "application/vnd.jupyter.widget-view+json": {
       "model_id": "b2c6d6cfcaec4c97b02d10c41ac9b751",
       "version_major": 2,
       "version_minor": 0
      },
      "text/plain": [
       "Processing classif_features_100_samples_1000_seed_0:   0%|          | 0/10 [00:00<?, ?it/s]"
      ]
     },
     "metadata": {},
     "output_type": "display_data"
    },
    {
     "data": {
      "application/vnd.jupyter.widget-view+json": {
       "model_id": "3e119a5ef4254c5fb3e7dacb09801d4a",
       "version_major": 2,
       "version_minor": 0
      },
      "text/plain": [
       "  0%|          | 0/2 [00:00<?, ?it/s]"
      ]
     },
     "metadata": {},
     "output_type": "display_data"
    },
    {
     "name": "stdout",
     "output_type": "stream",
     "text": [
      "17.8 ms ± 2.13 ms per loop (mean ± std. dev. of 10 runs, 1 loop each)\n",
      "11.8 s ± 378 ms per loop (mean ± std. dev. of 10 runs, 1 loop each)\n"
     ]
    },
    {
     "data": {
      "application/vnd.jupyter.widget-view+json": {
       "model_id": "3188dd2ebb194d159fd137e9ab3b1dea",
       "version_major": 2,
       "version_minor": 0
      },
      "text/plain": [
       "  0%|          | 0/2 [00:00<?, ?it/s]"
      ]
     },
     "metadata": {},
     "output_type": "display_data"
    },
    {
     "name": "stdout",
     "output_type": "stream",
     "text": [
      "16.5 ms ± 1.96 ms per loop (mean ± std. dev. of 10 runs, 1 loop each)\n",
      "10.9 s ± 669 ms per loop (mean ± std. dev. of 10 runs, 1 loop each)\n"
     ]
    },
    {
     "data": {
      "application/vnd.jupyter.widget-view+json": {
       "model_id": "cfb96fd5361e4291b3a8b444a1bdbb39",
       "version_major": 2,
       "version_minor": 0
      },
      "text/plain": [
       "  0%|          | 0/2 [00:00<?, ?it/s]"
      ]
     },
     "metadata": {},
     "output_type": "display_data"
    },
    {
     "name": "stdout",
     "output_type": "stream",
     "text": [
      "15.9 ms ± 1.06 ms per loop (mean ± std. dev. of 10 runs, 1 loop each)\n",
      "11.5 s ± 867 ms per loop (mean ± std. dev. of 10 runs, 1 loop each)\n"
     ]
    },
    {
     "data": {
      "application/vnd.jupyter.widget-view+json": {
       "model_id": "ce7dcae46b8442148ada9488fac523aa",
       "version_major": 2,
       "version_minor": 0
      },
      "text/plain": [
       "  0%|          | 0/2 [00:00<?, ?it/s]"
      ]
     },
     "metadata": {},
     "output_type": "display_data"
    },
    {
     "name": "stdout",
     "output_type": "stream",
     "text": [
      "16.2 ms ± 859 µs per loop (mean ± std. dev. of 10 runs, 1 loop each)\n",
      "12.5 s ± 842 ms per loop (mean ± std. dev. of 10 runs, 1 loop each)\n"
     ]
    },
    {
     "data": {
      "application/vnd.jupyter.widget-view+json": {
       "model_id": "d89ca91e54a54cd4aeb63d86d256f509",
       "version_major": 2,
       "version_minor": 0
      },
      "text/plain": [
       "  0%|          | 0/2 [00:00<?, ?it/s]"
      ]
     },
     "metadata": {},
     "output_type": "display_data"
    },
    {
     "name": "stdout",
     "output_type": "stream",
     "text": [
      "19.3 ms ± 3.22 ms per loop (mean ± std. dev. of 10 runs, 1 loop each)\n",
      "12.1 s ± 925 ms per loop (mean ± std. dev. of 10 runs, 1 loop each)\n"
     ]
    },
    {
     "data": {
      "application/vnd.jupyter.widget-view+json": {
       "model_id": "15543eec13fd4e67ba105f9f0d33ea2c",
       "version_major": 2,
       "version_minor": 0
      },
      "text/plain": [
       "  0%|          | 0/2 [00:00<?, ?it/s]"
      ]
     },
     "metadata": {},
     "output_type": "display_data"
    },
    {
     "name": "stdout",
     "output_type": "stream",
     "text": [
      "17 ms ± 1.53 ms per loop (mean ± std. dev. of 10 runs, 1 loop each)\n",
      "11.7 s ± 492 ms per loop (mean ± std. dev. of 10 runs, 1 loop each)\n"
     ]
    },
    {
     "data": {
      "application/vnd.jupyter.widget-view+json": {
       "model_id": "49c54777b21d42d6a24e8106fe6c439f",
       "version_major": 2,
       "version_minor": 0
      },
      "text/plain": [
       "  0%|          | 0/2 [00:00<?, ?it/s]"
      ]
     },
     "metadata": {},
     "output_type": "display_data"
    },
    {
     "name": "stdout",
     "output_type": "stream",
     "text": [
      "17.6 ms ± 789 µs per loop (mean ± std. dev. of 10 runs, 1 loop each)\n",
      "13.1 s ± 1.45 s per loop (mean ± std. dev. of 10 runs, 1 loop each)\n"
     ]
    },
    {
     "data": {
      "application/vnd.jupyter.widget-view+json": {
       "model_id": "0b69478e2d724badbe98bd2e88375247",
       "version_major": 2,
       "version_minor": 0
      },
      "text/plain": [
       "  0%|          | 0/2 [00:00<?, ?it/s]"
      ]
     },
     "metadata": {},
     "output_type": "display_data"
    },
    {
     "name": "stdout",
     "output_type": "stream",
     "text": [
      "17.8 ms ± 1.53 ms per loop (mean ± std. dev. of 10 runs, 1 loop each)\n",
      "12 s ± 274 ms per loop (mean ± std. dev. of 10 runs, 1 loop each)\n"
     ]
    },
    {
     "data": {
      "application/vnd.jupyter.widget-view+json": {
       "model_id": "c2688a80dc4c4be28598fe87e785d41c",
       "version_major": 2,
       "version_minor": 0
      },
      "text/plain": [
       "  0%|          | 0/2 [00:00<?, ?it/s]"
      ]
     },
     "metadata": {},
     "output_type": "display_data"
    },
    {
     "name": "stdout",
     "output_type": "stream",
     "text": [
      "17.7 ms ± 610 µs per loop (mean ± std. dev. of 10 runs, 1 loop each)\n",
      "13.2 s ± 837 ms per loop (mean ± std. dev. of 10 runs, 1 loop each)\n"
     ]
    },
    {
     "data": {
      "application/vnd.jupyter.widget-view+json": {
       "model_id": "2b741b650c894579b9d5f2c858243df7",
       "version_major": 2,
       "version_minor": 0
      },
      "text/plain": [
       "  0%|          | 0/2 [00:00<?, ?it/s]"
      ]
     },
     "metadata": {},
     "output_type": "display_data"
    },
    {
     "name": "stdout",
     "output_type": "stream",
     "text": [
      "18.5 ms ± 1.2 ms per loop (mean ± std. dev. of 10 runs, 1 loop each)\n",
      "12.8 s ± 937 ms per loop (mean ± std. dev. of 10 runs, 1 loop each)\n"
     ]
    },
    {
     "data": {
      "application/vnd.jupyter.widget-view+json": {
       "model_id": "46ec2d76d3084e8082d7387af29158d8",
       "version_major": 2,
       "version_minor": 0
      },
      "text/plain": [
       "Processing classif_features_100_samples_10000_seed_0:   0%|          | 0/10 [00:00<?, ?it/s]"
      ]
     },
     "metadata": {},
     "output_type": "display_data"
    },
    {
     "data": {
      "application/vnd.jupyter.widget-view+json": {
       "model_id": "30acc04b87f5481fbf34744ffa5312fe",
       "version_major": 2,
       "version_minor": 0
      },
      "text/plain": [
       "  0%|          | 0/2 [00:00<?, ?it/s]"
      ]
     },
     "metadata": {},
     "output_type": "display_data"
    },
    {
     "name": "stdout",
     "output_type": "stream",
     "text": [
      "16.8 ms ± 1.57 ms per loop (mean ± std. dev. of 10 runs, 1 loop each)\n",
      "31.9 s ± 960 ms per loop (mean ± std. dev. of 10 runs, 1 loop each)\n"
     ]
    },
    {
     "data": {
      "application/vnd.jupyter.widget-view+json": {
       "model_id": "28e7eb10f5d64ad29dc1fcb2bd19f9a8",
       "version_major": 2,
       "version_minor": 0
      },
      "text/plain": [
       "  0%|          | 0/2 [00:00<?, ?it/s]"
      ]
     },
     "metadata": {},
     "output_type": "display_data"
    },
    {
     "name": "stdout",
     "output_type": "stream",
     "text": [
      "19.3 ms ± 1.79 ms per loop (mean ± std. dev. of 10 runs, 1 loop each)\n",
      "31.3 s ± 721 ms per loop (mean ± std. dev. of 10 runs, 1 loop each)\n"
     ]
    },
    {
     "data": {
      "application/vnd.jupyter.widget-view+json": {
       "model_id": "cf18b0be818e4fd0b7318ef6fa7de926",
       "version_major": 2,
       "version_minor": 0
      },
      "text/plain": [
       "  0%|          | 0/2 [00:00<?, ?it/s]"
      ]
     },
     "metadata": {},
     "output_type": "display_data"
    },
    {
     "name": "stdout",
     "output_type": "stream",
     "text": [
      "18.4 ms ± 2.19 ms per loop (mean ± std. dev. of 10 runs, 1 loop each)\n",
      "34.9 s ± 3.72 s per loop (mean ± std. dev. of 10 runs, 1 loop each)\n"
     ]
    },
    {
     "data": {
      "application/vnd.jupyter.widget-view+json": {
       "model_id": "5a08265f4ae74093bc9d63fe008fa635",
       "version_major": 2,
       "version_minor": 0
      },
      "text/plain": [
       "  0%|          | 0/2 [00:00<?, ?it/s]"
      ]
     },
     "metadata": {},
     "output_type": "display_data"
    },
    {
     "name": "stdout",
     "output_type": "stream",
     "text": [
      "18.2 ms ± 375 µs per loop (mean ± std. dev. of 10 runs, 1 loop each)\n",
      "31.7 s ± 223 ms per loop (mean ± std. dev. of 10 runs, 1 loop each)\n"
     ]
    },
    {
     "data": {
      "application/vnd.jupyter.widget-view+json": {
       "model_id": "8f54f2bad23f47a0aa87b0d6fffb4cd8",
       "version_major": 2,
       "version_minor": 0
      },
      "text/plain": [
       "  0%|          | 0/2 [00:00<?, ?it/s]"
      ]
     },
     "metadata": {},
     "output_type": "display_data"
    },
    {
     "name": "stdout",
     "output_type": "stream",
     "text": [
      "19.1 ms ± 2.3 ms per loop (mean ± std. dev. of 10 runs, 1 loop each)\n",
      "33.3 s ± 2.23 s per loop (mean ± std. dev. of 10 runs, 1 loop each)\n"
     ]
    },
    {
     "data": {
      "application/vnd.jupyter.widget-view+json": {
       "model_id": "2ba3ef39c82b41f497fc00da9ac24ace",
       "version_major": 2,
       "version_minor": 0
      },
      "text/plain": [
       "  0%|          | 0/2 [00:00<?, ?it/s]"
      ]
     },
     "metadata": {},
     "output_type": "display_data"
    },
    {
     "name": "stdout",
     "output_type": "stream",
     "text": [
      "19.3 ms ± 2.04 ms per loop (mean ± std. dev. of 10 runs, 1 loop each)\n",
      "32 s ± 2.57 s per loop (mean ± std. dev. of 10 runs, 1 loop each)\n"
     ]
    },
    {
     "data": {
      "application/vnd.jupyter.widget-view+json": {
       "model_id": "12316272f28643c68d8f352a2f265c02",
       "version_major": 2,
       "version_minor": 0
      },
      "text/plain": [
       "  0%|          | 0/2 [00:00<?, ?it/s]"
      ]
     },
     "metadata": {},
     "output_type": "display_data"
    },
    {
     "name": "stdout",
     "output_type": "stream",
     "text": [
      "18.8 ms ± 1.66 ms per loop (mean ± std. dev. of 10 runs, 1 loop each)\n",
      "30.7 s ± 151 ms per loop (mean ± std. dev. of 10 runs, 1 loop each)\n"
     ]
    },
    {
     "data": {
      "application/vnd.jupyter.widget-view+json": {
       "model_id": "7ffc9b9bc0124948b2b6faf3f8393fab",
       "version_major": 2,
       "version_minor": 0
      },
      "text/plain": [
       "  0%|          | 0/2 [00:00<?, ?it/s]"
      ]
     },
     "metadata": {},
     "output_type": "display_data"
    },
    {
     "name": "stdout",
     "output_type": "stream",
     "text": [
      "18.8 ms ± 1.07 ms per loop (mean ± std. dev. of 10 runs, 1 loop each)\n",
      "31.1 s ± 907 ms per loop (mean ± std. dev. of 10 runs, 1 loop each)\n"
     ]
    },
    {
     "data": {
      "application/vnd.jupyter.widget-view+json": {
       "model_id": "2578182138e5434186ec725634b0349e",
       "version_major": 2,
       "version_minor": 0
      },
      "text/plain": [
       "  0%|          | 0/2 [00:00<?, ?it/s]"
      ]
     },
     "metadata": {},
     "output_type": "display_data"
    },
    {
     "name": "stdout",
     "output_type": "stream",
     "text": [
      "17.1 ms ± 633 µs per loop (mean ± std. dev. of 10 runs, 1 loop each)\n",
      "30.4 s ± 847 ms per loop (mean ± std. dev. of 10 runs, 1 loop each)\n"
     ]
    },
    {
     "data": {
      "application/vnd.jupyter.widget-view+json": {
       "model_id": "daa0ad8c2e4b41f597382040766f882d",
       "version_major": 2,
       "version_minor": 0
      },
      "text/plain": [
       "  0%|          | 0/2 [00:00<?, ?it/s]"
      ]
     },
     "metadata": {},
     "output_type": "display_data"
    },
    {
     "name": "stdout",
     "output_type": "stream",
     "text": [
      "17.9 ms ± 699 µs per loop (mean ± std. dev. of 10 runs, 1 loop each)\n",
      "32 s ± 1.41 s per loop (mean ± std. dev. of 10 runs, 1 loop each)\n"
     ]
    }
   ],
   "source": [
    "res_model = get_syn_stats_model_based(imp_types_model, datasets, dataset_states, 0.2)"
   ]
  },
  {
   "cell_type": "code",
   "execution_count": 17,
   "metadata": {},
   "outputs": [
    {
     "data": {
      "application/vnd.jupyter.widget-view+json": {
       "model_id": "fcc67a12f77c45d1b10d59216ee2dea4",
       "version_major": 2,
       "version_minor": 0
      },
      "text/plain": [
       "Dataset progress:   0%|          | 0/5 [00:00<?, ?it/s]"
      ]
     },
     "metadata": {},
     "output_type": "display_data"
    },
    {
     "data": {
      "application/vnd.jupyter.widget-view+json": {
       "model_id": "f0a3f2a1701f40adaf2ebd42c332c950",
       "version_major": 2,
       "version_minor": 0
      },
      "text/plain": [
       "Processing classif_features_10_samples_100_seed_0:   0%|          | 0/10 [00:00<?, ?it/s]"
      ]
     },
     "metadata": {},
     "output_type": "display_data"
    },
    {
     "data": {
      "application/vnd.jupyter.widget-view+json": {
       "model_id": "d75a70215487458594cc6505cbf92d7c",
       "version_major": 2,
       "version_minor": 0
      },
      "text/plain": [
       "  0%|          | 0/1 [00:00<?, ?it/s]"
      ]
     },
     "metadata": {},
     "output_type": "display_data"
    },
    {
     "name": "stdout",
     "output_type": "stream",
     "text": [
      "47.2 ms ± 1.58 ms per loop (mean ± std. dev. of 10 runs, 1 loop each)\n",
      "(10,)\n"
     ]
    },
    {
     "data": {
      "application/vnd.jupyter.widget-view+json": {
       "model_id": "ff888ffcc7724b838a87d34e440c36e8",
       "version_major": 2,
       "version_minor": 0
      },
      "text/plain": [
       "  0%|          | 0/1 [00:00<?, ?it/s]"
      ]
     },
     "metadata": {},
     "output_type": "display_data"
    },
    {
     "name": "stdout",
     "output_type": "stream",
     "text": [
      "41.9 ms ± 3.15 ms per loop (mean ± std. dev. of 10 runs, 1 loop each)\n",
      "(10,)\n"
     ]
    },
    {
     "data": {
      "application/vnd.jupyter.widget-view+json": {
       "model_id": "b87a276503ba492592ab8ca7cf2b6a42",
       "version_major": 2,
       "version_minor": 0
      },
      "text/plain": [
       "  0%|          | 0/1 [00:00<?, ?it/s]"
      ]
     },
     "metadata": {},
     "output_type": "display_data"
    },
    {
     "name": "stdout",
     "output_type": "stream",
     "text": [
      "39.7 ms ± 1.58 ms per loop (mean ± std. dev. of 10 runs, 1 loop each)\n",
      "(10,)\n"
     ]
    },
    {
     "data": {
      "application/vnd.jupyter.widget-view+json": {
       "model_id": "40b8a764be2b45658fa7adf769e6dcf2",
       "version_major": 2,
       "version_minor": 0
      },
      "text/plain": [
       "  0%|          | 0/1 [00:00<?, ?it/s]"
      ]
     },
     "metadata": {},
     "output_type": "display_data"
    },
    {
     "name": "stdout",
     "output_type": "stream",
     "text": [
      "39.5 ms ± 1.93 ms per loop (mean ± std. dev. of 10 runs, 1 loop each)\n",
      "(10,)\n"
     ]
    },
    {
     "data": {
      "application/vnd.jupyter.widget-view+json": {
       "model_id": "17a39915ebf64651b87d62cc0c0a00af",
       "version_major": 2,
       "version_minor": 0
      },
      "text/plain": [
       "  0%|          | 0/1 [00:00<?, ?it/s]"
      ]
     },
     "metadata": {},
     "output_type": "display_data"
    },
    {
     "name": "stdout",
     "output_type": "stream",
     "text": [
      "40.9 ms ± 1.17 ms per loop (mean ± std. dev. of 10 runs, 1 loop each)\n",
      "(10,)\n"
     ]
    },
    {
     "data": {
      "application/vnd.jupyter.widget-view+json": {
       "model_id": "6c44569c8c124e95aed363aad67dca97",
       "version_major": 2,
       "version_minor": 0
      },
      "text/plain": [
       "  0%|          | 0/1 [00:00<?, ?it/s]"
      ]
     },
     "metadata": {},
     "output_type": "display_data"
    },
    {
     "name": "stdout",
     "output_type": "stream",
     "text": [
      "38.3 ms ± 672 µs per loop (mean ± std. dev. of 10 runs, 1 loop each)\n",
      "(10,)\n"
     ]
    },
    {
     "data": {
      "application/vnd.jupyter.widget-view+json": {
       "model_id": "6cb4f425357345738441f3326199a495",
       "version_major": 2,
       "version_minor": 0
      },
      "text/plain": [
       "  0%|          | 0/1 [00:00<?, ?it/s]"
      ]
     },
     "metadata": {},
     "output_type": "display_data"
    },
    {
     "name": "stdout",
     "output_type": "stream",
     "text": [
      "40.6 ms ± 3.13 ms per loop (mean ± std. dev. of 10 runs, 1 loop each)\n",
      "(10,)\n"
     ]
    },
    {
     "data": {
      "application/vnd.jupyter.widget-view+json": {
       "model_id": "6d436ca4b2fb48a68cc7093e24c9f0c1",
       "version_major": 2,
       "version_minor": 0
      },
      "text/plain": [
       "  0%|          | 0/1 [00:00<?, ?it/s]"
      ]
     },
     "metadata": {},
     "output_type": "display_data"
    },
    {
     "name": "stdout",
     "output_type": "stream",
     "text": [
      "40.1 ms ± 1.39 ms per loop (mean ± std. dev. of 10 runs, 1 loop each)\n",
      "(10,)\n"
     ]
    },
    {
     "data": {
      "application/vnd.jupyter.widget-view+json": {
       "model_id": "18ef63c0b3ad4b7382bee6596e33fa20",
       "version_major": 2,
       "version_minor": 0
      },
      "text/plain": [
       "  0%|          | 0/1 [00:00<?, ?it/s]"
      ]
     },
     "metadata": {},
     "output_type": "display_data"
    },
    {
     "name": "stdout",
     "output_type": "stream",
     "text": [
      "40.8 ms ± 708 µs per loop (mean ± std. dev. of 10 runs, 1 loop each)\n",
      "(10,)\n"
     ]
    },
    {
     "data": {
      "application/vnd.jupyter.widget-view+json": {
       "model_id": "e484a2769f5647c0897420b422b9b24c",
       "version_major": 2,
       "version_minor": 0
      },
      "text/plain": [
       "  0%|          | 0/1 [00:00<?, ?it/s]"
      ]
     },
     "metadata": {},
     "output_type": "display_data"
    },
    {
     "name": "stdout",
     "output_type": "stream",
     "text": [
      "38.7 ms ± 1.08 ms per loop (mean ± std. dev. of 10 runs, 1 loop each)\n",
      "(10,)\n"
     ]
    },
    {
     "data": {
      "application/vnd.jupyter.widget-view+json": {
       "model_id": "721180aeac7344e69a765b18deb30e43",
       "version_major": 2,
       "version_minor": 0
      },
      "text/plain": [
       "Processing classif_features_10_samples_1000_seed_0:   0%|          | 0/10 [00:00<?, ?it/s]"
      ]
     },
     "metadata": {},
     "output_type": "display_data"
    },
    {
     "data": {
      "application/vnd.jupyter.widget-view+json": {
       "model_id": "edd0dd015a8c499287beeb0a483f6322",
       "version_major": 2,
       "version_minor": 0
      },
      "text/plain": [
       "  0%|          | 0/1 [00:00<?, ?it/s]"
      ]
     },
     "metadata": {},
     "output_type": "display_data"
    },
    {
     "name": "stdout",
     "output_type": "stream",
     "text": [
      "3.99 s ± 161 ms per loop (mean ± std. dev. of 10 runs, 1 loop each)\n",
      "(10,)\n"
     ]
    },
    {
     "data": {
      "application/vnd.jupyter.widget-view+json": {
       "model_id": "363d09d572004845b308334c568cb5ba",
       "version_major": 2,
       "version_minor": 0
      },
      "text/plain": [
       "  0%|          | 0/1 [00:00<?, ?it/s]"
      ]
     },
     "metadata": {},
     "output_type": "display_data"
    },
    {
     "name": "stdout",
     "output_type": "stream",
     "text": [
      "3.82 s ± 149 ms per loop (mean ± std. dev. of 10 runs, 1 loop each)\n",
      "(10,)\n"
     ]
    },
    {
     "data": {
      "application/vnd.jupyter.widget-view+json": {
       "model_id": "203552648d634634926b75606fec6c53",
       "version_major": 2,
       "version_minor": 0
      },
      "text/plain": [
       "  0%|          | 0/1 [00:00<?, ?it/s]"
      ]
     },
     "metadata": {},
     "output_type": "display_data"
    },
    {
     "name": "stdout",
     "output_type": "stream",
     "text": [
      "3.83 s ± 79.8 ms per loop (mean ± std. dev. of 10 runs, 1 loop each)\n",
      "(10,)\n"
     ]
    },
    {
     "data": {
      "application/vnd.jupyter.widget-view+json": {
       "model_id": "5c9751cb304b47a79a8407ed8fd66120",
       "version_major": 2,
       "version_minor": 0
      },
      "text/plain": [
       "  0%|          | 0/1 [00:00<?, ?it/s]"
      ]
     },
     "metadata": {},
     "output_type": "display_data"
    },
    {
     "name": "stdout",
     "output_type": "stream",
     "text": [
      "3.86 s ± 208 ms per loop (mean ± std. dev. of 10 runs, 1 loop each)\n",
      "(10,)\n"
     ]
    },
    {
     "data": {
      "application/vnd.jupyter.widget-view+json": {
       "model_id": "ac071b0f3bd342c59814aa4a1d1713e6",
       "version_major": 2,
       "version_minor": 0
      },
      "text/plain": [
       "  0%|          | 0/1 [00:00<?, ?it/s]"
      ]
     },
     "metadata": {},
     "output_type": "display_data"
    },
    {
     "name": "stdout",
     "output_type": "stream",
     "text": [
      "4.06 s ± 21.5 ms per loop (mean ± std. dev. of 10 runs, 1 loop each)\n",
      "(10,)\n"
     ]
    },
    {
     "data": {
      "application/vnd.jupyter.widget-view+json": {
       "model_id": "d4ad69a8b8794a1a8eeea8301a682707",
       "version_major": 2,
       "version_minor": 0
      },
      "text/plain": [
       "  0%|          | 0/1 [00:00<?, ?it/s]"
      ]
     },
     "metadata": {},
     "output_type": "display_data"
    },
    {
     "name": "stdout",
     "output_type": "stream",
     "text": [
      "3.65 s ± 11.1 ms per loop (mean ± std. dev. of 10 runs, 1 loop each)\n",
      "(10,)\n"
     ]
    },
    {
     "data": {
      "application/vnd.jupyter.widget-view+json": {
       "model_id": "962bd625e5b04db5ab3af2d87478b05a",
       "version_major": 2,
       "version_minor": 0
      },
      "text/plain": [
       "  0%|          | 0/1 [00:00<?, ?it/s]"
      ]
     },
     "metadata": {},
     "output_type": "display_data"
    },
    {
     "name": "stdout",
     "output_type": "stream",
     "text": [
      "3.92 s ± 224 ms per loop (mean ± std. dev. of 10 runs, 1 loop each)\n",
      "(10,)\n"
     ]
    },
    {
     "data": {
      "application/vnd.jupyter.widget-view+json": {
       "model_id": "707a8962020d4f1bbea8b10d4a578769",
       "version_major": 2,
       "version_minor": 0
      },
      "text/plain": [
       "  0%|          | 0/1 [00:00<?, ?it/s]"
      ]
     },
     "metadata": {},
     "output_type": "display_data"
    },
    {
     "name": "stdout",
     "output_type": "stream",
     "text": [
      "3.96 s ± 43.3 ms per loop (mean ± std. dev. of 10 runs, 1 loop each)\n",
      "(10,)\n"
     ]
    },
    {
     "data": {
      "application/vnd.jupyter.widget-view+json": {
       "model_id": "b036df016d7e49e1a9990e8a3f181689",
       "version_major": 2,
       "version_minor": 0
      },
      "text/plain": [
       "  0%|          | 0/1 [00:00<?, ?it/s]"
      ]
     },
     "metadata": {},
     "output_type": "display_data"
    },
    {
     "name": "stdout",
     "output_type": "stream",
     "text": [
      "3.66 s ± 11.3 ms per loop (mean ± std. dev. of 10 runs, 1 loop each)\n",
      "(10,)\n"
     ]
    },
    {
     "data": {
      "application/vnd.jupyter.widget-view+json": {
       "model_id": "78119bc83b424c8683cc43d11c757b60",
       "version_major": 2,
       "version_minor": 0
      },
      "text/plain": [
       "  0%|          | 0/1 [00:00<?, ?it/s]"
      ]
     },
     "metadata": {},
     "output_type": "display_data"
    },
    {
     "name": "stdout",
     "output_type": "stream",
     "text": [
      "3.65 s ± 9.69 ms per loop (mean ± std. dev. of 10 runs, 1 loop each)\n",
      "(10,)\n"
     ]
    },
    {
     "data": {
      "application/vnd.jupyter.widget-view+json": {
       "model_id": "98d8f655a12549e0a1f4721ac214af95",
       "version_major": 2,
       "version_minor": 0
      },
      "text/plain": [
       "Processing classif_features_10_samples_10000_seed_0:   0%|          | 0/10 [00:00<?, ?it/s]"
      ]
     },
     "metadata": {},
     "output_type": "display_data"
    },
    {
     "data": {
      "application/vnd.jupyter.widget-view+json": {
       "model_id": "fccc3b705d3c4322b7e8ac1093b6fd74",
       "version_major": 2,
       "version_minor": 0
      },
      "text/plain": [
       "  0%|          | 0/1 [00:00<?, ?it/s]"
      ]
     },
     "metadata": {},
     "output_type": "display_data"
    },
    {
     "name": "stdout",
     "output_type": "stream",
     "text": [
      "skipping the execution of classif_features_10_samples_10000_seed_0 because of Function get_shap_fi timed out after 60.0 seconds\n"
     ]
    },
    {
     "data": {
      "application/vnd.jupyter.widget-view+json": {
       "model_id": "ae88f384a3f34efea435313df6839e49",
       "version_major": 2,
       "version_minor": 0
      },
      "text/plain": [
       "Processing classif_features_100_samples_1000_seed_0:   0%|          | 0/10 [00:00<?, ?it/s]"
      ]
     },
     "metadata": {},
     "output_type": "display_data"
    },
    {
     "data": {
      "application/vnd.jupyter.widget-view+json": {
       "model_id": "069e00b212704ad19a9a7a11d30246e4",
       "version_major": 2,
       "version_minor": 0
      },
      "text/plain": [
       "  0%|          | 0/1 [00:00<?, ?it/s]"
      ]
     },
     "metadata": {},
     "output_type": "display_data"
    },
    {
     "name": "stdout",
     "output_type": "stream",
     "text": [
      "skipping the execution of classif_features_100_samples_1000_seed_0 because of Function get_shap_fi timed out after 60.0 seconds\n"
     ]
    },
    {
     "data": {
      "application/vnd.jupyter.widget-view+json": {
       "model_id": "140a7a2b018f49dabf14163c0ac28807",
       "version_major": 2,
       "version_minor": 0
      },
      "text/plain": [
       "Processing classif_features_100_samples_10000_seed_0:   0%|          | 0/10 [00:00<?, ?it/s]"
      ]
     },
     "metadata": {},
     "output_type": "display_data"
    },
    {
     "data": {
      "application/vnd.jupyter.widget-view+json": {
       "model_id": "c807b3621a954436b3ce6671a25111e5",
       "version_major": 2,
       "version_minor": 0
      },
      "text/plain": [
       "  0%|          | 0/1 [00:00<?, ?it/s]"
      ]
     },
     "metadata": {},
     "output_type": "display_data"
    },
    {
     "name": "stdout",
     "output_type": "stream",
     "text": [
      "skipping the execution of classif_features_100_samples_10000_seed_0 because of Function get_shap_fi timed out after 60.0 seconds\n"
     ]
    }
   ],
   "source": [
    "# shap is slow, need timeout sig to stop process\n",
    "res_shap = get_syn_stats_shap_based(['shap'], datasets, dataset_states, 0.2)"
   ]
  },
  {
   "cell_type": "code",
   "execution_count": 18,
   "metadata": {},
   "outputs": [],
   "source": [
    "frames = [res_data, res_model, res_shap]"
   ]
  },
  {
   "cell_type": "code",
   "execution_count": 19,
   "metadata": {},
   "outputs": [],
   "source": [
    "final_df = pd.concat(frames);"
   ]
  },
  {
   "cell_type": "code",
   "execution_count": 21,
   "metadata": {},
   "outputs": [],
   "source": [
    "final_df;"
   ]
  },
  {
   "cell_type": "code",
   "execution_count": 22,
   "metadata": {},
   "outputs": [],
   "source": [
    "# export results to local dir as csv file\n",
    "final_df.to_csv(f'regression_synthethic_data_{datetime.today().strftime(\"%Y-%b-%d-%H:%M:%S\")}.csv',\n",
    "             index=False)"
   ]
  },
  {
   "cell_type": "code",
   "execution_count": 23,
   "metadata": {},
   "outputs": [
    {
     "data": {
      "text/html": [
       "<div>\n",
       "<style scoped>\n",
       "    .dataframe tbody tr th:only-of-type {\n",
       "        vertical-align: middle;\n",
       "    }\n",
       "\n",
       "    .dataframe tbody tr th {\n",
       "        vertical-align: top;\n",
       "    }\n",
       "\n",
       "    .dataframe thead th {\n",
       "        text-align: right;\n",
       "    }\n",
       "</style>\n",
       "<table border=\"1\" class=\"dataframe\">\n",
       "  <thead>\n",
       "    <tr style=\"text-align: right;\">\n",
       "      <th></th>\n",
       "      <th>dataset</th>\n",
       "      <th>imp_type</th>\n",
       "      <th>random_state</th>\n",
       "      <th>data_split</th>\n",
       "      <th>fi_order</th>\n",
       "      <th>fi_selected</th>\n",
       "      <th>timings</th>\n",
       "    </tr>\n",
       "  </thead>\n",
       "  <tbody>\n",
       "    <tr>\n",
       "      <th>0</th>\n",
       "      <td>classif_features_10_samples_100_seed_0</td>\n",
       "      <td>mutual_info</td>\n",
       "      <td>0</td>\n",
       "      <td>0</td>\n",
       "      <td>[0, 1, 6, 3, 8, 7, 4, 2, 5, 9]</td>\n",
       "      <td>[0, 1]</td>\n",
       "      <td>[0.013693295000848593, 0.01221649599756347, 0....</td>\n",
       "    </tr>\n",
       "    <tr>\n",
       "      <th>1</th>\n",
       "      <td>classif_features_10_samples_100_seed_0</td>\n",
       "      <td>f_test</td>\n",
       "      <td>0</td>\n",
       "      <td>0</td>\n",
       "      <td>[0, 1, 6, 9, 8, 4, 2, 3, 5, 7]</td>\n",
       "      <td>[0, 1]</td>\n",
       "      <td>[0.00182100299934973, 0.0017979320000449661, 0...</td>\n",
       "    </tr>\n",
       "    <tr>\n",
       "      <th>2</th>\n",
       "      <td>classif_features_10_samples_100_seed_0</td>\n",
       "      <td>pearson</td>\n",
       "      <td>0</td>\n",
       "      <td>0</td>\n",
       "      <td>[0, 1, 6, 9, 8, 4, 2, 3, 5, 7]</td>\n",
       "      <td>[0, 1]</td>\n",
       "      <td>[0.002302085998962866, 0.0017508220007584896, ...</td>\n",
       "    </tr>\n",
       "    <tr>\n",
       "      <th>3</th>\n",
       "      <td>classif_features_10_samples_100_seed_0</td>\n",
       "      <td>spearman</td>\n",
       "      <td>0</td>\n",
       "      <td>0</td>\n",
       "      <td>[0, 1, 6, 8, 4, 9, 2, 3, 7, 5]</td>\n",
       "      <td>[0, 1]</td>\n",
       "      <td>[0.0024746769995545037, 0.0033698229999572504,...</td>\n",
       "    </tr>\n",
       "    <tr>\n",
       "      <th>4</th>\n",
       "      <td>classif_features_10_samples_100_seed_0</td>\n",
       "      <td>kendall</td>\n",
       "      <td>0</td>\n",
       "      <td>0</td>\n",
       "      <td>[0, 1, 6, 8, 4, 9, 2, 3, 7, 5]</td>\n",
       "      <td>[0, 1]</td>\n",
       "      <td>[0.015187065000645816, 0.01486127299722284, 0....</td>\n",
       "    </tr>\n",
       "    <tr>\n",
       "      <th>...</th>\n",
       "      <td>...</td>\n",
       "      <td>...</td>\n",
       "      <td>...</td>\n",
       "      <td>...</td>\n",
       "      <td>...</td>\n",
       "      <td>...</td>\n",
       "      <td>...</td>\n",
       "    </tr>\n",
       "    <tr>\n",
       "      <th>15</th>\n",
       "      <td>classif_features_10_samples_1000_seed_0</td>\n",
       "      <td>shap</td>\n",
       "      <td>0</td>\n",
       "      <td>5</td>\n",
       "      <td>[1, 0, 6, 3, 9, 8, 5, 2, 7, 4]</td>\n",
       "      <td>[1, 0]</td>\n",
       "      <td>[3.669437716001994, 3.6497950710036093, 3.6544...</td>\n",
       "    </tr>\n",
       "    <tr>\n",
       "      <th>16</th>\n",
       "      <td>classif_features_10_samples_1000_seed_0</td>\n",
       "      <td>shap</td>\n",
       "      <td>0</td>\n",
       "      <td>6</td>\n",
       "      <td>[1, 0, 5, 2, 7, 8, 3, 6, 9, 4]</td>\n",
       "      <td>[1, 0]</td>\n",
       "      <td>[3.6540138150012353, 3.6743375939986436, 3.647...</td>\n",
       "    </tr>\n",
       "    <tr>\n",
       "      <th>17</th>\n",
       "      <td>classif_features_10_samples_1000_seed_0</td>\n",
       "      <td>shap</td>\n",
       "      <td>0</td>\n",
       "      <td>7</td>\n",
       "      <td>[1, 0, 5, 7, 3, 6, 8, 9, 2, 4]</td>\n",
       "      <td>[1, 0]</td>\n",
       "      <td>[4.042630871001165, 3.899649742001202, 3.97792...</td>\n",
       "    </tr>\n",
       "    <tr>\n",
       "      <th>18</th>\n",
       "      <td>classif_features_10_samples_1000_seed_0</td>\n",
       "      <td>shap</td>\n",
       "      <td>0</td>\n",
       "      <td>8</td>\n",
       "      <td>[1, 0, 5, 7, 9, 4, 3, 8, 6, 2]</td>\n",
       "      <td>[1, 0]</td>\n",
       "      <td>[3.685066628997447, 3.6729397809976945, 3.6540...</td>\n",
       "    </tr>\n",
       "    <tr>\n",
       "      <th>19</th>\n",
       "      <td>classif_features_10_samples_1000_seed_0</td>\n",
       "      <td>shap</td>\n",
       "      <td>0</td>\n",
       "      <td>9</td>\n",
       "      <td>[1, 0, 5, 3, 6, 7, 2, 4, 9, 8]</td>\n",
       "      <td>[1, 0]</td>\n",
       "      <td>[3.638005382999836, 3.6652822719988762, 3.6566...</td>\n",
       "    </tr>\n",
       "  </tbody>\n",
       "</table>\n",
       "<p>420 rows × 7 columns</p>\n",
       "</div>"
      ],
      "text/plain": [
       "                                    dataset     imp_type  random_state  \\\n",
       "0    classif_features_10_samples_100_seed_0  mutual_info             0   \n",
       "1    classif_features_10_samples_100_seed_0       f_test             0   \n",
       "2    classif_features_10_samples_100_seed_0      pearson             0   \n",
       "3    classif_features_10_samples_100_seed_0     spearman             0   \n",
       "4    classif_features_10_samples_100_seed_0      kendall             0   \n",
       "..                                      ...          ...           ...   \n",
       "15  classif_features_10_samples_1000_seed_0         shap             0   \n",
       "16  classif_features_10_samples_1000_seed_0         shap             0   \n",
       "17  classif_features_10_samples_1000_seed_0         shap             0   \n",
       "18  classif_features_10_samples_1000_seed_0         shap             0   \n",
       "19  classif_features_10_samples_1000_seed_0         shap             0   \n",
       "\n",
       "    data_split                        fi_order fi_selected  \\\n",
       "0            0  [0, 1, 6, 3, 8, 7, 4, 2, 5, 9]      [0, 1]   \n",
       "1            0  [0, 1, 6, 9, 8, 4, 2, 3, 5, 7]      [0, 1]   \n",
       "2            0  [0, 1, 6, 9, 8, 4, 2, 3, 5, 7]      [0, 1]   \n",
       "3            0  [0, 1, 6, 8, 4, 9, 2, 3, 7, 5]      [0, 1]   \n",
       "4            0  [0, 1, 6, 8, 4, 9, 2, 3, 7, 5]      [0, 1]   \n",
       "..         ...                             ...         ...   \n",
       "15           5  [1, 0, 6, 3, 9, 8, 5, 2, 7, 4]      [1, 0]   \n",
       "16           6  [1, 0, 5, 2, 7, 8, 3, 6, 9, 4]      [1, 0]   \n",
       "17           7  [1, 0, 5, 7, 3, 6, 8, 9, 2, 4]      [1, 0]   \n",
       "18           8  [1, 0, 5, 7, 9, 4, 3, 8, 6, 2]      [1, 0]   \n",
       "19           9  [1, 0, 5, 3, 6, 7, 2, 4, 9, 8]      [1, 0]   \n",
       "\n",
       "                                              timings  \n",
       "0   [0.013693295000848593, 0.01221649599756347, 0....  \n",
       "1   [0.00182100299934973, 0.0017979320000449661, 0...  \n",
       "2   [0.002302085998962866, 0.0017508220007584896, ...  \n",
       "3   [0.0024746769995545037, 0.0033698229999572504,...  \n",
       "4   [0.015187065000645816, 0.01486127299722284, 0....  \n",
       "..                                                ...  \n",
       "15  [3.669437716001994, 3.6497950710036093, 3.6544...  \n",
       "16  [3.6540138150012353, 3.6743375939986436, 3.647...  \n",
       "17  [4.042630871001165, 3.899649742001202, 3.97792...  \n",
       "18  [3.685066628997447, 3.6729397809976945, 3.6540...  \n",
       "19  [3.638005382999836, 3.6652822719988762, 3.6566...  \n",
       "\n",
       "[420 rows x 7 columns]"
      ]
     },
     "execution_count": 23,
     "metadata": {},
     "output_type": "execute_result"
    }
   ],
   "source": [
    "final_df"
   ]
  },
  {
   "cell_type": "code",
   "execution_count": null,
   "metadata": {},
   "outputs": [],
   "source": [
    "## plots\n",
    "# import seaborn as sns\n",
    "# plot = sns.lineplot(x='iteration', y='mcc_test', hue='imp_type',\n",
    "#             data=df_res.query('''model == \"XGBClassifier\"''')\n",
    "#             )\n",
    "\n",
    "# plot = sns.lineplot(x='iteration', y='mcc_test', hue='imp_type',\n",
    "#             data=df_res.query('''model == \"DecisionTreeClassifier\"''')\n",
    "#             )\n",
    "\n",
    "# plot = sns.lineplot(x='iteration', y='mcc_test', hue='imp_type',\n",
    "#             data=df_res.query('''model == \"RandomForestClassifier\"''')\n",
    "#             )"
   ]
  },
  {
   "cell_type": "code",
   "execution_count": null,
   "metadata": {},
   "outputs": [],
   "source": [
    "# export results to local dir as csv file\n",
    "# df_res.to_csv(f'classification_synthethic_data_{datetime.today().strftime(\"%Y-%b-%d-%H:%M:%S\")}.csv',\n",
    "#              index=False)"
   ]
  }
 ],
 "metadata": {
  "kernelspec": {
   "display_name": "Python 3",
   "language": "python",
   "name": "python3"
  },
  "language_info": {
   "codemirror_mode": {
    "name": "ipython",
    "version": 3
   },
   "file_extension": ".py",
   "mimetype": "text/x-python",
   "name": "python",
   "nbconvert_exporter": "python",
   "pygments_lexer": "ipython3",
   "version": "3.8.10"
  }
 },
 "nbformat": 4,
 "nbformat_minor": 4
}
