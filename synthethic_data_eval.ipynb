{
 "cells": [
  {
   "cell_type": "code",
   "execution_count": 1,
   "metadata": {},
   "outputs": [],
   "source": [
    "#!!! Fix data structure for features_lst -> interpreted as string \n",
    "# should be list of str elems"
   ]
  },
  {
   "cell_type": "code",
   "execution_count": 2,
   "metadata": {},
   "outputs": [
    {
     "name": "stdout",
     "output_type": "stream",
     "text": [
      "Defaulting to user installation because normal site-packages is not writeable\n",
      "Requirement already satisfied: shap in /home/rob/.local/lib/python3.8/site-packages (0.39.0)\n",
      "Requirement already satisfied: cloudpickle in /home/rob/.local/lib/python3.8/site-packages (from shap) (1.6.0)\n",
      "Requirement already satisfied: slicer==0.0.7 in /home/rob/.local/lib/python3.8/site-packages (from shap) (0.0.7)\n",
      "Requirement already satisfied: numpy in /home/rob/.local/lib/python3.8/site-packages (from shap) (1.19.5)\n",
      "Requirement already satisfied: scipy in /home/rob/.local/lib/python3.8/site-packages (from shap) (1.6.0)\n",
      "Requirement already satisfied: numba in /home/rob/.local/lib/python3.8/site-packages (from shap) (0.52.0)\n",
      "Requirement already satisfied: tqdm>4.25.0 in /home/rob/.local/lib/python3.8/site-packages (from shap) (4.56.0)\n",
      "Requirement already satisfied: scikit-learn in /home/rob/.local/lib/python3.8/site-packages (from shap) (0.24.0)\n",
      "Requirement already satisfied: pandas in /home/rob/.local/lib/python3.8/site-packages (from shap) (1.2.0)\n",
      "Requirement already satisfied: llvmlite<0.36,>=0.35.0 in /home/rob/.local/lib/python3.8/site-packages (from numba->shap) (0.35.0)\n",
      "Requirement already satisfied: setuptools in /home/rob/.local/lib/python3.8/site-packages (from numba->shap) (53.0.0)\n",
      "Requirement already satisfied: python-dateutil>=2.7.3 in /usr/lib/python3/dist-packages (from pandas->shap) (2.7.3)\n",
      "Requirement already satisfied: pytz>=2017.3 in /usr/lib/python3/dist-packages (from pandas->shap) (2019.3)\n",
      "Requirement already satisfied: threadpoolctl>=2.0.0 in /home/rob/.local/lib/python3.8/site-packages (from scikit-learn->shap) (2.1.0)\n",
      "Requirement already satisfied: joblib>=0.11 in /home/rob/.local/lib/python3.8/site-packages (from scikit-learn->shap) (1.0.0)\n",
      "Defaulting to user installation because normal site-packages is not writeable\n",
      "Requirement already satisfied: ppscore in /home/rob/.local/lib/python3.8/site-packages (1.2.0)\n",
      "Requirement already satisfied: scikit-learn<1.0.0,>=0.20.2 in /home/rob/.local/lib/python3.8/site-packages (from ppscore) (0.24.0)\n",
      "Requirement already satisfied: pandas<2.0.0,>=1.0.0 in /home/rob/.local/lib/python3.8/site-packages (from ppscore) (1.2.0)\n",
      "Requirement already satisfied: pytz>=2017.3 in /usr/lib/python3/dist-packages (from pandas<2.0.0,>=1.0.0->ppscore) (2019.3)\n",
      "Requirement already satisfied: numpy>=1.16.5 in /home/rob/.local/lib/python3.8/site-packages (from pandas<2.0.0,>=1.0.0->ppscore) (1.19.5)\n",
      "Requirement already satisfied: python-dateutil>=2.7.3 in /usr/lib/python3/dist-packages (from pandas<2.0.0,>=1.0.0->ppscore) (2.7.3)\n",
      "Requirement already satisfied: threadpoolctl>=2.0.0 in /home/rob/.local/lib/python3.8/site-packages (from scikit-learn<1.0.0,>=0.20.2->ppscore) (2.1.0)\n",
      "Requirement already satisfied: scipy>=0.19.1 in /home/rob/.local/lib/python3.8/site-packages (from scikit-learn<1.0.0,>=0.20.2->ppscore) (1.6.0)\n",
      "Requirement already satisfied: joblib>=0.11 in /home/rob/.local/lib/python3.8/site-packages (from scikit-learn<1.0.0,>=0.20.2->ppscore) (1.0.0)\n",
      "\u001b[33mWARNING: You are using pip version 21.0.1; however, version 21.2.4 is available.\n",
      "You should consider upgrading via the '/usr/bin/python3 -m pip install --upgrade pip' command.\u001b[0m\n",
      "Defaulting to user installation because normal site-packages is not writeable\n",
      "Requirement already satisfied: xgboost in /home/rob/.local/lib/python3.8/site-packages (1.3.3)\n",
      "Requirement already satisfied: scipy in /home/rob/.local/lib/python3.8/site-packages (from xgboost) (1.6.0)\n",
      "Requirement already satisfied: numpy in /home/rob/.local/lib/python3.8/site-packages (from xgboost) (1.19.5)\n",
      "\u001b[33mWARNING: You are using pip version 21.0.1; however, version 21.2.4 is available.\n",
      "You should consider upgrading via the '/usr/bin/python3 -m pip install --upgrade pip' command.\u001b[0m\n"
     ]
    }
   ],
   "source": [
    "# for colab compatibility\n",
    "!pip install shap\n",
    "!pip install ppscore\n",
    "!pip install xgboost"
   ]
  },
  {
   "cell_type": "code",
   "execution_count": 3,
   "metadata": {},
   "outputs": [],
   "source": [
    "%run data_load_wrapper.ipynb"
   ]
  },
  {
   "cell_type": "code",
   "execution_count": 4,
   "metadata": {},
   "outputs": [],
   "source": [
    "# rip - bug1: feat_ind refers to local instead of global index ordering in function model_fit\n",
    "# rip - bug2: stats dataframe is off by one for mse_test and train - now we have a shifted column\n",
    "# 0th iteration replaced with full_set\n",
    "#\n",
    "# refactor1: get_metric\n",
    "# refactor2: into class MetaReducer(dataset, imp_types, models) \n",
    "# refactor3: create a \"smart\" calculation execution for feature reduction\n",
    "# we can pool the \"votes\" for feature reduction and only retrain the model once per vote class\n",
    "# (feature to reduce), might save decent amount of time for large datasets \n",
    "# (cases where model training takes significantly longer than importance calculation)\n",
    "# current: retrain the model every time for each {imp_type} - not as important right now, since\n",
    "# model training in the worst case takes 3s, feature importance calculation is the bottleneck\n",
    "\"\"\" \n",
    "dataset - sklearn_dataset object or tuple/list of tuples of (x, y)\n",
    "imp_types - list of importance types\n",
    "supported types: ['gini', 'pimp', 'shap', 'pps', 'pearson', 'spearman', 'kendall']\n",
    "models - list of machine learning models from sklearn lib\n",
    "[which ones? tbd]\n",
    "debug = {False, True} display debug_info into the dataframe\n",
    "return -> dataframe of reduction stats\n",
    "\"\"\";"
   ]
  },
  {
   "cell_type": "code",
   "execution_count": 2,
   "metadata": {},
   "outputs": [],
   "source": [
    "from tqdm.notebook import trange\n",
    "import sklearn.datasets as data\n",
    "import pandas as pd\n",
    "from sklearn.inspection import permutation_importance\n",
    "from sklearn import *\n",
    "from sklearn.feature_selection import *\n",
    "from sklearn.datasets import make_regression\n",
    "from sklearn.utils import Bunch\n",
    "import matplotlib as plt\n",
    "import seaborn as sns\n",
    "import shap\n",
    "import numpy as np\n",
    "import ppscore as pps\n",
    "from datetime import datetime\n",
    "import xgboost"
   ]
  },
  {
   "cell_type": "code",
   "execution_count": 17,
   "metadata": {},
   "outputs": [
    {
     "data": {
      "text/html": [
       "<div>\n",
       "<style scoped>\n",
       "    .dataframe tbody tr th:only-of-type {\n",
       "        vertical-align: middle;\n",
       "    }\n",
       "\n",
       "    .dataframe tbody tr th {\n",
       "        vertical-align: top;\n",
       "    }\n",
       "\n",
       "    .dataframe thead th {\n",
       "        text-align: right;\n",
       "    }\n",
       "</style>\n",
       "<table border=\"1\" class=\"dataframe\">\n",
       "  <thead>\n",
       "    <tr style=\"text-align: right;\">\n",
       "      <th></th>\n",
       "      <th>iteration</th>\n",
       "      <th>dropped_feature</th>\n",
       "      <th>feat_ind</th>\n",
       "      <th>feat_name</th>\n",
       "      <th>mse_train</th>\n",
       "      <th>mse_test</th>\n",
       "      <th>model</th>\n",
       "      <th>imp_type</th>\n",
       "      <th>dataset</th>\n",
       "      <th>features_lst</th>\n",
       "      <th>random_state</th>\n",
       "      <th>data_split</th>\n",
       "    </tr>\n",
       "  </thead>\n",
       "  <tbody>\n",
       "    <tr>\n",
       "      <th>0</th>\n",
       "      <td>0</td>\n",
       "      <td>full_set</td>\n",
       "      <td>5</td>\n",
       "      <td>x_5</td>\n",
       "      <td>0.0</td>\n",
       "      <td>3664.259545</td>\n",
       "      <td>DecisionTreeRegressor</td>\n",
       "      <td>gini</td>\n",
       "      <td>regr_features_10_samples_100_seed_0</td>\n",
       "      <td>Index(['x_0', 'x_1', 'x_2', 'x_3', 'x_4', 'x_5...</td>\n",
       "      <td>0</td>\n",
       "      <td>0</td>\n",
       "    </tr>\n",
       "    <tr>\n",
       "      <th>1</th>\n",
       "      <td>1</td>\n",
       "      <td>x_5</td>\n",
       "      <td>8</td>\n",
       "      <td>x_8</td>\n",
       "      <td>0.0</td>\n",
       "      <td>3286.260852</td>\n",
       "      <td>DecisionTreeRegressor</td>\n",
       "      <td>gini</td>\n",
       "      <td>regr_features_10_samples_100_seed_0</td>\n",
       "      <td>Index(['x_0', 'x_1', 'x_2', 'x_3', 'x_4', 'x_6...</td>\n",
       "      <td>0</td>\n",
       "      <td>0</td>\n",
       "    </tr>\n",
       "    <tr>\n",
       "      <th>2</th>\n",
       "      <td>2</td>\n",
       "      <td>x_8</td>\n",
       "      <td>1</td>\n",
       "      <td>x_1</td>\n",
       "      <td>0.0</td>\n",
       "      <td>2988.037484</td>\n",
       "      <td>DecisionTreeRegressor</td>\n",
       "      <td>gini</td>\n",
       "      <td>regr_features_10_samples_100_seed_0</td>\n",
       "      <td>Index(['x_0', 'x_1', 'x_2', 'x_3', 'x_4', 'x_6...</td>\n",
       "      <td>0</td>\n",
       "      <td>0</td>\n",
       "    </tr>\n",
       "    <tr>\n",
       "      <th>3</th>\n",
       "      <td>3</td>\n",
       "      <td>x_1</td>\n",
       "      <td>4</td>\n",
       "      <td>x_4</td>\n",
       "      <td>0.0</td>\n",
       "      <td>3367.877516</td>\n",
       "      <td>DecisionTreeRegressor</td>\n",
       "      <td>gini</td>\n",
       "      <td>regr_features_10_samples_100_seed_0</td>\n",
       "      <td>Index(['x_0', 'x_2', 'x_3', 'x_4', 'x_6', 'x_7...</td>\n",
       "      <td>0</td>\n",
       "      <td>0</td>\n",
       "    </tr>\n",
       "    <tr>\n",
       "      <th>4</th>\n",
       "      <td>4</td>\n",
       "      <td>x_4</td>\n",
       "      <td>0</td>\n",
       "      <td>x_0</td>\n",
       "      <td>0.0</td>\n",
       "      <td>3247.106739</td>\n",
       "      <td>DecisionTreeRegressor</td>\n",
       "      <td>gini</td>\n",
       "      <td>regr_features_10_samples_100_seed_0</td>\n",
       "      <td>Index(['x_0', 'x_2', 'x_3', 'x_6', 'x_7', 'x_9...</td>\n",
       "      <td>0</td>\n",
       "      <td>0</td>\n",
       "    </tr>\n",
       "    <tr>\n",
       "      <th>5</th>\n",
       "      <td>5</td>\n",
       "      <td>x_0</td>\n",
       "      <td>7</td>\n",
       "      <td>x_7</td>\n",
       "      <td>0.0</td>\n",
       "      <td>3476.040319</td>\n",
       "      <td>DecisionTreeRegressor</td>\n",
       "      <td>gini</td>\n",
       "      <td>regr_features_10_samples_100_seed_0</td>\n",
       "      <td>Index(['x_2', 'x_3', 'x_6', 'x_7', 'x_9'], dty...</td>\n",
       "      <td>0</td>\n",
       "      <td>0</td>\n",
       "    </tr>\n",
       "    <tr>\n",
       "      <th>6</th>\n",
       "      <td>6</td>\n",
       "      <td>x_7</td>\n",
       "      <td>2</td>\n",
       "      <td>x_2</td>\n",
       "      <td>0.0</td>\n",
       "      <td>3246.404391</td>\n",
       "      <td>DecisionTreeRegressor</td>\n",
       "      <td>gini</td>\n",
       "      <td>regr_features_10_samples_100_seed_0</td>\n",
       "      <td>Index(['x_2', 'x_3', 'x_6', 'x_9'], dtype='obj...</td>\n",
       "      <td>0</td>\n",
       "      <td>0</td>\n",
       "    </tr>\n",
       "    <tr>\n",
       "      <th>7</th>\n",
       "      <td>7</td>\n",
       "      <td>x_2</td>\n",
       "      <td>9</td>\n",
       "      <td>x_9</td>\n",
       "      <td>0.0</td>\n",
       "      <td>1647.305356</td>\n",
       "      <td>DecisionTreeRegressor</td>\n",
       "      <td>gini</td>\n",
       "      <td>regr_features_10_samples_100_seed_0</td>\n",
       "      <td>Index(['x_3', 'x_6', 'x_9'], dtype='object')</td>\n",
       "      <td>0</td>\n",
       "      <td>0</td>\n",
       "    </tr>\n",
       "    <tr>\n",
       "      <th>8</th>\n",
       "      <td>8</td>\n",
       "      <td>x_9</td>\n",
       "      <td>6</td>\n",
       "      <td>x_6</td>\n",
       "      <td>0.0</td>\n",
       "      <td>1093.167821</td>\n",
       "      <td>DecisionTreeRegressor</td>\n",
       "      <td>gini</td>\n",
       "      <td>regr_features_10_samples_100_seed_0</td>\n",
       "      <td>Index(['x_3', 'x_6'], dtype='object')</td>\n",
       "      <td>0</td>\n",
       "      <td>0</td>\n",
       "    </tr>\n",
       "    <tr>\n",
       "      <th>9</th>\n",
       "      <td>9</td>\n",
       "      <td>x_6</td>\n",
       "      <td>3</td>\n",
       "      <td>x_3</td>\n",
       "      <td>0.0</td>\n",
       "      <td>8390.729297</td>\n",
       "      <td>DecisionTreeRegressor</td>\n",
       "      <td>gini</td>\n",
       "      <td>regr_features_10_samples_100_seed_0</td>\n",
       "      <td>Index(['x_3'], dtype='object')</td>\n",
       "      <td>0</td>\n",
       "      <td>0</td>\n",
       "    </tr>\n",
       "    <tr>\n",
       "      <th>10</th>\n",
       "      <td>0</td>\n",
       "      <td>full_set</td>\n",
       "      <td>4</td>\n",
       "      <td>x_4</td>\n",
       "      <td>0.0</td>\n",
       "      <td>3664.259545</td>\n",
       "      <td>DecisionTreeRegressor</td>\n",
       "      <td>mutual_info</td>\n",
       "      <td>regr_features_10_samples_100_seed_0</td>\n",
       "      <td>Index(['x_0', 'x_1', 'x_2', 'x_3', 'x_4', 'x_5...</td>\n",
       "      <td>0</td>\n",
       "      <td>0</td>\n",
       "    </tr>\n",
       "  </tbody>\n",
       "</table>\n",
       "</div>"
      ],
      "text/plain": [
       "    iteration dropped_feature  feat_ind feat_name  mse_train     mse_test  \\\n",
       "0           0        full_set         5       x_5        0.0  3664.259545   \n",
       "1           1             x_5         8       x_8        0.0  3286.260852   \n",
       "2           2             x_8         1       x_1        0.0  2988.037484   \n",
       "3           3             x_1         4       x_4        0.0  3367.877516   \n",
       "4           4             x_4         0       x_0        0.0  3247.106739   \n",
       "5           5             x_0         7       x_7        0.0  3476.040319   \n",
       "6           6             x_7         2       x_2        0.0  3246.404391   \n",
       "7           7             x_2         9       x_9        0.0  1647.305356   \n",
       "8           8             x_9         6       x_6        0.0  1093.167821   \n",
       "9           9             x_6         3       x_3        0.0  8390.729297   \n",
       "10          0        full_set         4       x_4        0.0  3664.259545   \n",
       "\n",
       "                    model     imp_type                              dataset  \\\n",
       "0   DecisionTreeRegressor         gini  regr_features_10_samples_100_seed_0   \n",
       "1   DecisionTreeRegressor         gini  regr_features_10_samples_100_seed_0   \n",
       "2   DecisionTreeRegressor         gini  regr_features_10_samples_100_seed_0   \n",
       "3   DecisionTreeRegressor         gini  regr_features_10_samples_100_seed_0   \n",
       "4   DecisionTreeRegressor         gini  regr_features_10_samples_100_seed_0   \n",
       "5   DecisionTreeRegressor         gini  regr_features_10_samples_100_seed_0   \n",
       "6   DecisionTreeRegressor         gini  regr_features_10_samples_100_seed_0   \n",
       "7   DecisionTreeRegressor         gini  regr_features_10_samples_100_seed_0   \n",
       "8   DecisionTreeRegressor         gini  regr_features_10_samples_100_seed_0   \n",
       "9   DecisionTreeRegressor         gini  regr_features_10_samples_100_seed_0   \n",
       "10  DecisionTreeRegressor  mutual_info  regr_features_10_samples_100_seed_0   \n",
       "\n",
       "                                         features_lst  random_state  \\\n",
       "0   Index(['x_0', 'x_1', 'x_2', 'x_3', 'x_4', 'x_5...             0   \n",
       "1   Index(['x_0', 'x_1', 'x_2', 'x_3', 'x_4', 'x_6...             0   \n",
       "2   Index(['x_0', 'x_1', 'x_2', 'x_3', 'x_4', 'x_6...             0   \n",
       "3   Index(['x_0', 'x_2', 'x_3', 'x_4', 'x_6', 'x_7...             0   \n",
       "4   Index(['x_0', 'x_2', 'x_3', 'x_6', 'x_7', 'x_9...             0   \n",
       "5   Index(['x_2', 'x_3', 'x_6', 'x_7', 'x_9'], dty...             0   \n",
       "6   Index(['x_2', 'x_3', 'x_6', 'x_9'], dtype='obj...             0   \n",
       "7        Index(['x_3', 'x_6', 'x_9'], dtype='object')             0   \n",
       "8               Index(['x_3', 'x_6'], dtype='object')             0   \n",
       "9                      Index(['x_3'], dtype='object')             0   \n",
       "10  Index(['x_0', 'x_1', 'x_2', 'x_3', 'x_4', 'x_5...             0   \n",
       "\n",
       "    data_split  \n",
       "0            0  \n",
       "1            0  \n",
       "2            0  \n",
       "3            0  \n",
       "4            0  \n",
       "5            0  \n",
       "6            0  \n",
       "7            0  \n",
       "8            0  \n",
       "9            0  \n",
       "10           0  "
      ]
     },
     "execution_count": 17,
     "metadata": {},
     "output_type": "execute_result"
    }
   ],
   "source": [
    "df.head(11)"
   ]
  },
  {
   "cell_type": "code",
   "execution_count": 4,
   "metadata": {},
   "outputs": [],
   "source": [
    "df = pd.read_csv('regression_synthethic_2021-Jul-26-17:28:33.csv')"
   ]
  },
  {
   "cell_type": "code",
   "execution_count": 6,
   "metadata": {},
   "outputs": [],
   "source": [
    "def sklearn_to_df(dataset):\n",
    "    df = pd.DataFrame(dataset.data, columns=dataset.feature_names)\n",
    "    y = dataset.target\n",
    "    return df, y\n",
    "\n",
    "def get_feat_imp(imp_type, m, x_train, y_train, random_state):\n",
    "    imp_type_dict = {\n",
    "        'mutual_info' : 'mutual_info_regression(x_train, y_train)',\n",
    "        'f_test' : 'f_regression(x_train, y_train)[0]',       \n",
    "        'gini' : \"m.feature_importances_\",\n",
    "        'pimp' : f\"\"\"permutation_importance(m, x_train, y_train, n_repeats=5, \n",
    "        random_state={random_state}).importances_mean\"\"\",\n",
    "        'shap' : \"abs(shap.TreeExplainer(m).shap_values(x_train).mean(axis=0))\",\n",
    "        \n",
    "        'pps' : \"\"\"(pps.predictors(x_train.join(y_train), \n",
    "                                'target', sorted=False, output='df').model_score\n",
    "                                )\"\"\",\n",
    "        \n",
    "        'pearson' : \"abs(x_train.join(y_train).corr(method='pearson').target[:-1])\",\n",
    "        'spearman': \"abs(x_train.join(y_train).corr(method='spearman').target[:-1])\",\n",
    "        'kendall' : \"abs(x_train.join(y_train).corr(method='kendall').target[:-1])\"\n",
    "    }\n",
    "#     print(eval(imp_type_dict.get(imp_type)))\n",
    "    return eval(imp_type_dict.get(imp_type))\n",
    "\n",
    "def reduce_dataset(x_train, x_test, drop_index):\n",
    "    x_train = x_train.drop(x_train.columns[drop_index], axis=1)\n",
    "    x_test = x_test.drop(x_test.columns[drop_index], axis=1)\n",
    "    return x_train, x_test\n",
    "\n",
    "def eval_reduced(x_train, y_train, x_test, y_test, m, imp_type, \n",
    "                 dataset, dataset_str, random_state, dataset_state):\n",
    "    reduce_stats = []\n",
    "    columns_init = np.array(dataset.feature_names)\n",
    "#     dataset_name = dataset.filename.split('/')[-1]\n",
    "    for i in range(len(x_train.columns)):\n",
    "        mse_train, mse_test, drop_index, feat = model_fit(x_train, y_train, \n",
    "                                                     x_test, y_test, m, imp_type, random_state)\n",
    "        global_index = np.where(columns_init==feat);\n",
    "        global_index = global_index[0][0]\n",
    "        reduce_stats.append((i, global_index, feat, \n",
    "                             mse_train, mse_test, \n",
    "                             # get class name, remove trash\n",
    "                             str(m.__class__).split('.')[-1].replace(\"\\'\", '').strip('>'), \n",
    "                             imp_type, dataset_str, x_train.columns, random_state, dataset_state))\n",
    "        x_train, x_test = reduce_dataset(x_train, x_test, drop_index)\n",
    "    return reduce_stats\n",
    "\n",
    "def model_fit(x_train, y_train, x_test, y_test, m, imp_type, random_state):\n",
    "#     print(x_train.shape, y_train.shape)\n",
    "#     refactor1 into function get_metric(type={train, test})\n",
    "    m.fit(x_train, y_train)\n",
    "    res_train = m.predict(x_train)\n",
    "    res_test = m.predict(x_test)\n",
    "    mse_test = metrics.mean_squared_error(y_test, res_test)\n",
    "    mse_train = metrics.mean_squared_error(y_train, res_train)\n",
    "    # get the index for feature with lowest global feature importance\n",
    "    imp = get_feat_imp(imp_type, m, x_train, y_train, random_state)\n",
    "    argmin_fi_index = imp.argmin()\n",
    "    feat = x_train.columns[argmin_fi_index]\n",
    "    return mse_train, mse_test, argmin_fi_index, feat\n",
    "\n",
    "def eval_reduced_one_shot(x_train, y_train, x_test, y_test, m, imp_type, \n",
    "                 dataset, dataset_str, random_state, dataset_state):\n",
    "    \n",
    "    reduce_stats = []\n",
    "    columns_init = np.array(x_train.columns)\n",
    "    m.set_params(random_state = random_state)\n",
    "    m.fit(x_train, y_train)\n",
    "    fi_scores = get_feat_imp(imp_type, m, x_train, y_train, random_state)\n",
    "#     print(f'imp: {imp_type} \\n model: {m} \\n x_shape: {x_train.shape} \\n y_shape: {y_train.shape}')\n",
    "#     print(f'arr_scores: {fi_scores} \\n shape: {fi_scores.shape}')\n",
    "    \n",
    "    for i in range(len(x_train.columns)):\n",
    "        mse_train, mse_test, drop_index, feat = model_fit_one_shot(x_train, y_train, \n",
    "                                                     x_test, y_test, m, fi_scores, random_state)\n",
    "        global_index = np.where(columns_init==feat);\n",
    "        global_index = global_index[0][0]\n",
    "#         print(global_index)\n",
    "#         print(fi_scores)\n",
    "        reduce_stats.append((i, global_index, feat, \n",
    "                             mse_train, mse_test, \n",
    "                             # get class name, remove trash\n",
    "                             str(m.__class__).split('.')[-1].replace(\"\\'\", '').strip('>'), \n",
    "                             imp_type, dataset_str, x_train.columns, random_state, dataset_state))\n",
    "        x_train, x_test = reduce_dataset(x_train, x_test, drop_index)\n",
    "#         print(f'iter {i}')\n",
    "#         print(f'local_index: {drop_index}')\n",
    "#         print(f'global_index: {global_index}, \\n fi before: \\n {fi_scores}')\n",
    "#         print(fi_scores.shape)\n",
    "        fi_scores = np.array(fi_scores)\n",
    "        fi_scores = np.delete(fi_scores, drop_index)\n",
    "#         print(f'global_index: {global_index}, \\n fi after: \\n {fi_scores}')              \n",
    "    return reduce_stats\n",
    "\n",
    "def model_fit_one_shot(x_train, y_train, x_test, y_test, m, fi_scores, \n",
    "                       random_state):\n",
    "#     print(x_train.shape, y_train.shape)\n",
    "#     refactor1 into function get_metric(type={train, test})\n",
    "    m.set_params(random_state=random_state)\n",
    "    m.fit(x_train, y_train)\n",
    "    res_train = m.predict(x_train)\n",
    "    res_test = m.predict(x_test)\n",
    "    mse_test = metrics.mean_squared_error(y_test, res_test)\n",
    "    mse_train = metrics.mean_squared_error(y_train, res_train)\n",
    "    # get the index for feature with lowest global feature importance\n",
    "    imp = fi_scores\n",
    "    argmin_fi_index = imp.argmin()\n",
    "    \n",
    "    feat = x_train.columns[argmin_fi_index]\n",
    "    return mse_train, mse_test, argmin_fi_index, feat"
   ]
  },
  {
   "cell_type": "code",
   "execution_count": 7,
   "metadata": {},
   "outputs": [],
   "source": [
    "def get_stats(imp_types, models, datasets, debug=False, random_states=[0], dataset_states=[0]):\n",
    "    results = []\n",
    "    datasets_str = list(datasets.keys())\n",
    "    datasets_data = datasets.items()\n",
    "    random_state = 0\n",
    "    for ds in trange(len(dataset_states), desc='Data state progress'):\n",
    "        dataset_state = dataset_states[ds]\n",
    "        for r in trange(len(random_states), desc='Model random state progress'):\n",
    "            random_state = random_states[r]\n",
    "\n",
    "            for j in trange(len(datasets_str), desc=f'Dataset progress'):\n",
    "                dataset_str = datasets_str[j]\n",
    "                dataset = datasets.get(datasets_str[j])\n",
    "                df, y = sklearn_to_df(dataset)\n",
    "                x_train, x_test = model_selection.train_test_split(df, test_size=0.3, \n",
    "                                                                   random_state=dataset_state)\n",
    "                columns_init = x_train.columns\n",
    "                y_train = pd.DataFrame(y[x_train.index], index=x_train.index, columns=['target'])\n",
    "                y_test = pd.DataFrame(y[x_test.index], index=x_test.index, columns=['target'])\n",
    "\n",
    "                for k in trange(len(models), desc=f'Model progress for dataset {j}'):\n",
    "                    m = models[k]\n",
    "                    m.set_params(random_state=random_state)\n",
    "                    m.fit(x_train, y_train.target)\n",
    "                    res_test = m.predict(x_test)\n",
    "                    res_train = m.predict(x_train)\n",
    "                    mse_test = metrics.mean_squared_error(y_test, res_test)\n",
    "                    mse_train = metrics.mean_squared_error(y_train, res_train)\n",
    "\n",
    "                    for i in trange(len(imp_types), desc=f'Importance type progress for model {k}'):\n",
    "                        if imp_types[i] in ['shap', 'pimp', 'pearson', 'spearman', 'kendall',\n",
    "                                            'pps', 'mutual_info', 'f_test']:\n",
    "                            result = eval_reduced_one_shot(x_train, y_train, x_test, y_test, \n",
    "                                                           m, imp_types[i], dataset, dataset_str, \n",
    "                                                           random_state, dataset_state)\n",
    "                        else:\n",
    "                            result = eval_reduced(x_train, y_train.target, x_test, y_test, \n",
    "                                                  m, imp_types[i], dataset, dataset_str, \n",
    "                                                  random_state, dataset_state)\n",
    "                        results.extend(result)\n",
    "                df_res = pd.DataFrame(results, columns=['iteration', 'feat_ind', 'feat_name',\n",
    "                                                    'mse_train', 'mse_test','model', 'imp_type', \n",
    "                                                    'dataset', 'features_lst', \n",
    "                                                    'random_state', 'data_split'])\n",
    "        # shift features by 1 row, replace 0th iteration with 'full_set'\n",
    "        df_res['dropped_feature'] = df_res['feat_name'].shift(1)\n",
    "        df_res['dropped_feature'] = df_res['dropped_feature'].where(df_res['iteration'] != 0, 'full_set')\n",
    "        if debug==True:\n",
    "            repr_lst = ['iteration', 'dropped_feature', 'feat_ind', 'feat_name',\n",
    "                        'mse_train', 'mse_test','model', 'imp_type', \n",
    "                        'dataset', 'features_lst','random_state', 'data_split']\n",
    "        else:\n",
    "            repr_lst = ['iteration','dropped_feature','mse_train',\n",
    "         'mse_test','model','imp_type', 'dataset', 'random_state', 'data_split']\n",
    "        df_res = df_res[repr_lst]\n",
    "    return df_res"
   ]
  },
  {
   "cell_type": "code",
   "execution_count": 8,
   "metadata": {},
   "outputs": [],
   "source": [
    "def coerce_synthethic_datasets(samples, features, percent_informative, random_state):\n",
    "    data, target = make_regression(n_samples=samples, n_features=features, \n",
    "                                       n_informative=int(percent_informative*features),\n",
    "                                       random_state=random_state\n",
    "                                      )\n",
    "    feature_names = [f'x_{i}' for i in range(features)]\n",
    "    # data, target, feature_names\n",
    "    data_bunch = Bunch(\n",
    "        data=data,\n",
    "        target=target,\n",
    "        feature_names=feature_names,\n",
    "        informative_features=feature_names[:int(percent_informative*features)]\n",
    "                        )\n",
    "    return data_bunch"
   ]
  },
  {
   "cell_type": "code",
   "execution_count": 9,
   "metadata": {},
   "outputs": [],
   "source": [
    "datasets = {}\n",
    "imp_types = [\n",
    "             'gini',\n",
    "             'mutual_info',\n",
    "             'f_test',\n",
    "             'pimp', \n",
    "             'shap', \n",
    "             'pearson', \n",
    "             'spearman', \n",
    "             'kendall', \n",
    "             'pps'\n",
    "            ]\n",
    "models = [\n",
    "          tree.DecisionTreeRegressor(random_state=0), \n",
    "          ensemble.RandomForestRegressor(random_state=0, n_jobs=3, verbose=0), \n",
    "          xgboost.XGBRegressor(random_state=0, n_jobs=3, verbosity=0)\n",
    "         ]\n",
    "\n",
    "random_states = [i for i in range(1)]\n",
    "dataset_states = [i for i in range(1)]\n",
    "\n",
    "features = [10, 100, 100]\n",
    "samples = [100, 1000]\n",
    "synthethic_states = [i for i in range(10)]\n",
    "percent_informative = 0.2\n",
    "\n",
    "tuples = []\n",
    "for i in features:\n",
    "    for j in samples:\n",
    "        if features != samples:\n",
    "            for k in synthethic_states:            \n",
    "                tuples.append((i,j,k))\n",
    "datasets = {}"
   ]
  },
  {
   "cell_type": "code",
   "execution_count": 10,
   "metadata": {},
   "outputs": [],
   "source": [
    "for feat, samples, random_seed in tuples:\n",
    "    datasets[f'regr_features_{feat}_samples_{samples}_seed_{random_seed}'] = coerce_synthethic_datasets(samples, feat, 0.2, random_seed)"
   ]
  },
  {
   "cell_type": "code",
   "execution_count": 11,
   "metadata": {},
   "outputs": [],
   "source": [
    "import warnings\n",
    "warnings.filterwarnings('ignore')"
   ]
  },
  {
   "cell_type": "code",
   "execution_count": 12,
   "metadata": {},
   "outputs": [
    {
     "data": {
      "application/vnd.jupyter.widget-view+json": {
       "model_id": "ba81fd1b07284c53bdf3a4596eda9364",
       "version_major": 2,
       "version_minor": 0
      },
      "text/plain": [
       "Data state progress:   0%|          | 0/1 [00:00<?, ?it/s]"
      ]
     },
     "metadata": {},
     "output_type": "display_data"
    },
    {
     "data": {
      "application/vnd.jupyter.widget-view+json": {
       "model_id": "9b2ac8c948df4e029d428c5def608248",
       "version_major": 2,
       "version_minor": 0
      },
      "text/plain": [
       "Model random state progress:   0%|          | 0/1 [00:00<?, ?it/s]"
      ]
     },
     "metadata": {},
     "output_type": "display_data"
    },
    {
     "data": {
      "application/vnd.jupyter.widget-view+json": {
       "model_id": "073798da857f457787cac31139258c49",
       "version_major": 2,
       "version_minor": 0
      },
      "text/plain": [
       "Dataset progress:   0%|          | 0/40 [00:00<?, ?it/s]"
      ]
     },
     "metadata": {},
     "output_type": "display_data"
    },
    {
     "data": {
      "application/vnd.jupyter.widget-view+json": {
       "model_id": "d8544b5025764bc58a42952a4ec23189",
       "version_major": 2,
       "version_minor": 0
      },
      "text/plain": [
       "Model progress for dataset 0:   0%|          | 0/3 [00:00<?, ?it/s]"
      ]
     },
     "metadata": {},
     "output_type": "display_data"
    },
    {
     "data": {
      "application/vnd.jupyter.widget-view+json": {
       "model_id": "8458e10128974b14b74479813bcc740b",
       "version_major": 2,
       "version_minor": 0
      },
      "text/plain": [
       "Importance type progress for model 0:   0%|          | 0/9 [00:00<?, ?it/s]"
      ]
     },
     "metadata": {},
     "output_type": "display_data"
    },
    {
     "data": {
      "application/vnd.jupyter.widget-view+json": {
       "model_id": "688a5e76dde34615871197b22526636a",
       "version_major": 2,
       "version_minor": 0
      },
      "text/plain": [
       "Importance type progress for model 1:   0%|          | 0/9 [00:00<?, ?it/s]"
      ]
     },
     "metadata": {},
     "output_type": "display_data"
    },
    {
     "data": {
      "application/vnd.jupyter.widget-view+json": {
       "model_id": "acbc00d93c9e413aa7afe43a46bf5f69",
       "version_major": 2,
       "version_minor": 0
      },
      "text/plain": [
       "Importance type progress for model 2:   0%|          | 0/9 [00:00<?, ?it/s]"
      ]
     },
     "metadata": {},
     "output_type": "display_data"
    },
    {
     "data": {
      "application/vnd.jupyter.widget-view+json": {
       "model_id": "721fc98817c54f4083a49e18b3759ad8",
       "version_major": 2,
       "version_minor": 0
      },
      "text/plain": [
       "Model progress for dataset 1:   0%|          | 0/3 [00:00<?, ?it/s]"
      ]
     },
     "metadata": {},
     "output_type": "display_data"
    },
    {
     "data": {
      "application/vnd.jupyter.widget-view+json": {
       "model_id": "bfda00d3ca534eaab069a12dd8ebad2c",
       "version_major": 2,
       "version_minor": 0
      },
      "text/plain": [
       "Importance type progress for model 0:   0%|          | 0/9 [00:00<?, ?it/s]"
      ]
     },
     "metadata": {},
     "output_type": "display_data"
    },
    {
     "data": {
      "application/vnd.jupyter.widget-view+json": {
       "model_id": "3417234335cd4ccebdedd6bd21f051f6",
       "version_major": 2,
       "version_minor": 0
      },
      "text/plain": [
       "Importance type progress for model 1:   0%|          | 0/9 [00:00<?, ?it/s]"
      ]
     },
     "metadata": {},
     "output_type": "display_data"
    },
    {
     "data": {
      "application/vnd.jupyter.widget-view+json": {
       "model_id": "03a78beabbc34eae99c72c98ffd09f4e",
       "version_major": 2,
       "version_minor": 0
      },
      "text/plain": [
       "Importance type progress for model 2:   0%|          | 0/9 [00:00<?, ?it/s]"
      ]
     },
     "metadata": {},
     "output_type": "display_data"
    },
    {
     "data": {
      "application/vnd.jupyter.widget-view+json": {
       "model_id": "b8ba23defa34408da3f7761bdeee4b2f",
       "version_major": 2,
       "version_minor": 0
      },
      "text/plain": [
       "Model progress for dataset 2:   0%|          | 0/3 [00:00<?, ?it/s]"
      ]
     },
     "metadata": {},
     "output_type": "display_data"
    },
    {
     "data": {
      "application/vnd.jupyter.widget-view+json": {
       "model_id": "9bb3557615a044e881b929ae5703a6ab",
       "version_major": 2,
       "version_minor": 0
      },
      "text/plain": [
       "Importance type progress for model 0:   0%|          | 0/9 [00:00<?, ?it/s]"
      ]
     },
     "metadata": {},
     "output_type": "display_data"
    },
    {
     "data": {
      "application/vnd.jupyter.widget-view+json": {
       "model_id": "ea156dbdf0304f0ca6e83f7ef0513f2e",
       "version_major": 2,
       "version_minor": 0
      },
      "text/plain": [
       "Importance type progress for model 1:   0%|          | 0/9 [00:00<?, ?it/s]"
      ]
     },
     "metadata": {},
     "output_type": "display_data"
    },
    {
     "data": {
      "application/vnd.jupyter.widget-view+json": {
       "model_id": "0e2bcb576abc4bc591f196821dffa265",
       "version_major": 2,
       "version_minor": 0
      },
      "text/plain": [
       "Importance type progress for model 2:   0%|          | 0/9 [00:00<?, ?it/s]"
      ]
     },
     "metadata": {},
     "output_type": "display_data"
    },
    {
     "data": {
      "application/vnd.jupyter.widget-view+json": {
       "model_id": "dbaa1929a53e4af3bd57dd8d443a21fe",
       "version_major": 2,
       "version_minor": 0
      },
      "text/plain": [
       "Model progress for dataset 3:   0%|          | 0/3 [00:00<?, ?it/s]"
      ]
     },
     "metadata": {},
     "output_type": "display_data"
    },
    {
     "data": {
      "application/vnd.jupyter.widget-view+json": {
       "model_id": "82916eff7b3a4a19bf81de3633d09b65",
       "version_major": 2,
       "version_minor": 0
      },
      "text/plain": [
       "Importance type progress for model 0:   0%|          | 0/9 [00:00<?, ?it/s]"
      ]
     },
     "metadata": {},
     "output_type": "display_data"
    },
    {
     "data": {
      "application/vnd.jupyter.widget-view+json": {
       "model_id": "fa87ccee7b4b4f40b5a29caf5413d90e",
       "version_major": 2,
       "version_minor": 0
      },
      "text/plain": [
       "Importance type progress for model 1:   0%|          | 0/9 [00:00<?, ?it/s]"
      ]
     },
     "metadata": {},
     "output_type": "display_data"
    },
    {
     "data": {
      "application/vnd.jupyter.widget-view+json": {
       "model_id": "d27461e8a8eb48a4b5f0f4da3c9770a6",
       "version_major": 2,
       "version_minor": 0
      },
      "text/plain": [
       "Importance type progress for model 2:   0%|          | 0/9 [00:00<?, ?it/s]"
      ]
     },
     "metadata": {},
     "output_type": "display_data"
    },
    {
     "data": {
      "application/vnd.jupyter.widget-view+json": {
       "model_id": "6fb8d7da4fad4609a46c3fd57b131207",
       "version_major": 2,
       "version_minor": 0
      },
      "text/plain": [
       "Model progress for dataset 4:   0%|          | 0/3 [00:00<?, ?it/s]"
      ]
     },
     "metadata": {},
     "output_type": "display_data"
    },
    {
     "data": {
      "application/vnd.jupyter.widget-view+json": {
       "model_id": "91c3b2be25c54d7b9978848eecb28e10",
       "version_major": 2,
       "version_minor": 0
      },
      "text/plain": [
       "Importance type progress for model 0:   0%|          | 0/9 [00:00<?, ?it/s]"
      ]
     },
     "metadata": {},
     "output_type": "display_data"
    },
    {
     "data": {
      "application/vnd.jupyter.widget-view+json": {
       "model_id": "0a32ca2f8a7c438ba5c3001efc4ce075",
       "version_major": 2,
       "version_minor": 0
      },
      "text/plain": [
       "Importance type progress for model 1:   0%|          | 0/9 [00:00<?, ?it/s]"
      ]
     },
     "metadata": {},
     "output_type": "display_data"
    },
    {
     "data": {
      "application/vnd.jupyter.widget-view+json": {
       "model_id": "c1eebab133c94fdb930e4a239d07021e",
       "version_major": 2,
       "version_minor": 0
      },
      "text/plain": [
       "Importance type progress for model 2:   0%|          | 0/9 [00:00<?, ?it/s]"
      ]
     },
     "metadata": {},
     "output_type": "display_data"
    },
    {
     "data": {
      "application/vnd.jupyter.widget-view+json": {
       "model_id": "d3746b5f5fd945779a20009d10ec5642",
       "version_major": 2,
       "version_minor": 0
      },
      "text/plain": [
       "Model progress for dataset 5:   0%|          | 0/3 [00:00<?, ?it/s]"
      ]
     },
     "metadata": {},
     "output_type": "display_data"
    },
    {
     "data": {
      "application/vnd.jupyter.widget-view+json": {
       "model_id": "061fe43da62a4816a3f353c33dc66803",
       "version_major": 2,
       "version_minor": 0
      },
      "text/plain": [
       "Importance type progress for model 0:   0%|          | 0/9 [00:00<?, ?it/s]"
      ]
     },
     "metadata": {},
     "output_type": "display_data"
    },
    {
     "data": {
      "application/vnd.jupyter.widget-view+json": {
       "model_id": "6b77390773b9404d9cd92a2bc7d51185",
       "version_major": 2,
       "version_minor": 0
      },
      "text/plain": [
       "Importance type progress for model 1:   0%|          | 0/9 [00:00<?, ?it/s]"
      ]
     },
     "metadata": {},
     "output_type": "display_data"
    },
    {
     "data": {
      "application/vnd.jupyter.widget-view+json": {
       "model_id": "0a4a88cc568e49a5b349014738fe1d2c",
       "version_major": 2,
       "version_minor": 0
      },
      "text/plain": [
       "Importance type progress for model 2:   0%|          | 0/9 [00:00<?, ?it/s]"
      ]
     },
     "metadata": {},
     "output_type": "display_data"
    },
    {
     "data": {
      "application/vnd.jupyter.widget-view+json": {
       "model_id": "191c0a04aefb426b92bab7c439946150",
       "version_major": 2,
       "version_minor": 0
      },
      "text/plain": [
       "Model progress for dataset 6:   0%|          | 0/3 [00:00<?, ?it/s]"
      ]
     },
     "metadata": {},
     "output_type": "display_data"
    },
    {
     "data": {
      "application/vnd.jupyter.widget-view+json": {
       "model_id": "b8f45d8abc82437a95f09405e844a0c8",
       "version_major": 2,
       "version_minor": 0
      },
      "text/plain": [
       "Importance type progress for model 0:   0%|          | 0/9 [00:00<?, ?it/s]"
      ]
     },
     "metadata": {},
     "output_type": "display_data"
    },
    {
     "data": {
      "application/vnd.jupyter.widget-view+json": {
       "model_id": "af5f0be14c244e299295d6d1d1deddb1",
       "version_major": 2,
       "version_minor": 0
      },
      "text/plain": [
       "Importance type progress for model 1:   0%|          | 0/9 [00:00<?, ?it/s]"
      ]
     },
     "metadata": {},
     "output_type": "display_data"
    },
    {
     "data": {
      "application/vnd.jupyter.widget-view+json": {
       "model_id": "09d158e2f2144b33954ea1c35c234f89",
       "version_major": 2,
       "version_minor": 0
      },
      "text/plain": [
       "Importance type progress for model 2:   0%|          | 0/9 [00:00<?, ?it/s]"
      ]
     },
     "metadata": {},
     "output_type": "display_data"
    },
    {
     "data": {
      "application/vnd.jupyter.widget-view+json": {
       "model_id": "bccb1d64cf4c411197b405fc0cb4af1b",
       "version_major": 2,
       "version_minor": 0
      },
      "text/plain": [
       "Model progress for dataset 7:   0%|          | 0/3 [00:00<?, ?it/s]"
      ]
     },
     "metadata": {},
     "output_type": "display_data"
    },
    {
     "data": {
      "application/vnd.jupyter.widget-view+json": {
       "model_id": "0bf5f11f87274d76a20489133b67ea4f",
       "version_major": 2,
       "version_minor": 0
      },
      "text/plain": [
       "Importance type progress for model 0:   0%|          | 0/9 [00:00<?, ?it/s]"
      ]
     },
     "metadata": {},
     "output_type": "display_data"
    },
    {
     "data": {
      "application/vnd.jupyter.widget-view+json": {
       "model_id": "1d63401121cd454494fb18c8f6ad8d21",
       "version_major": 2,
       "version_minor": 0
      },
      "text/plain": [
       "Importance type progress for model 1:   0%|          | 0/9 [00:00<?, ?it/s]"
      ]
     },
     "metadata": {},
     "output_type": "display_data"
    },
    {
     "data": {
      "application/vnd.jupyter.widget-view+json": {
       "model_id": "26f2dd1ac74d4f44baf3ed125560aaf6",
       "version_major": 2,
       "version_minor": 0
      },
      "text/plain": [
       "Importance type progress for model 2:   0%|          | 0/9 [00:00<?, ?it/s]"
      ]
     },
     "metadata": {},
     "output_type": "display_data"
    },
    {
     "data": {
      "application/vnd.jupyter.widget-view+json": {
       "model_id": "5150e97eb1a940e2bc5f139b88807fd3",
       "version_major": 2,
       "version_minor": 0
      },
      "text/plain": [
       "Model progress for dataset 8:   0%|          | 0/3 [00:00<?, ?it/s]"
      ]
     },
     "metadata": {},
     "output_type": "display_data"
    },
    {
     "data": {
      "application/vnd.jupyter.widget-view+json": {
       "model_id": "e796348c1b8f4f769b2989207dd24df4",
       "version_major": 2,
       "version_minor": 0
      },
      "text/plain": [
       "Importance type progress for model 0:   0%|          | 0/9 [00:00<?, ?it/s]"
      ]
     },
     "metadata": {},
     "output_type": "display_data"
    },
    {
     "data": {
      "application/vnd.jupyter.widget-view+json": {
       "model_id": "7f29e3823645441fb03edbe2dbc9c86d",
       "version_major": 2,
       "version_minor": 0
      },
      "text/plain": [
       "Importance type progress for model 1:   0%|          | 0/9 [00:00<?, ?it/s]"
      ]
     },
     "metadata": {},
     "output_type": "display_data"
    },
    {
     "data": {
      "application/vnd.jupyter.widget-view+json": {
       "model_id": "795560b7b7c842a5ba0b16aa784ef47d",
       "version_major": 2,
       "version_minor": 0
      },
      "text/plain": [
       "Importance type progress for model 2:   0%|          | 0/9 [00:00<?, ?it/s]"
      ]
     },
     "metadata": {},
     "output_type": "display_data"
    },
    {
     "data": {
      "application/vnd.jupyter.widget-view+json": {
       "model_id": "fc5b460063fc49e39b12056297c43c6a",
       "version_major": 2,
       "version_minor": 0
      },
      "text/plain": [
       "Model progress for dataset 9:   0%|          | 0/3 [00:00<?, ?it/s]"
      ]
     },
     "metadata": {},
     "output_type": "display_data"
    },
    {
     "data": {
      "application/vnd.jupyter.widget-view+json": {
       "model_id": "cd5d08aa5df242cfbb48dee684b6f250",
       "version_major": 2,
       "version_minor": 0
      },
      "text/plain": [
       "Importance type progress for model 0:   0%|          | 0/9 [00:00<?, ?it/s]"
      ]
     },
     "metadata": {},
     "output_type": "display_data"
    },
    {
     "data": {
      "application/vnd.jupyter.widget-view+json": {
       "model_id": "2de86955d0dd4059a7819210ae2cc88c",
       "version_major": 2,
       "version_minor": 0
      },
      "text/plain": [
       "Importance type progress for model 1:   0%|          | 0/9 [00:00<?, ?it/s]"
      ]
     },
     "metadata": {},
     "output_type": "display_data"
    },
    {
     "data": {
      "application/vnd.jupyter.widget-view+json": {
       "model_id": "9348761f9d954c1dbddd78c480a30f10",
       "version_major": 2,
       "version_minor": 0
      },
      "text/plain": [
       "Importance type progress for model 2:   0%|          | 0/9 [00:00<?, ?it/s]"
      ]
     },
     "metadata": {},
     "output_type": "display_data"
    },
    {
     "data": {
      "application/vnd.jupyter.widget-view+json": {
       "model_id": "dda39d3ac9324e40b99bcea517de42e9",
       "version_major": 2,
       "version_minor": 0
      },
      "text/plain": [
       "Model progress for dataset 10:   0%|          | 0/3 [00:00<?, ?it/s]"
      ]
     },
     "metadata": {},
     "output_type": "display_data"
    },
    {
     "data": {
      "application/vnd.jupyter.widget-view+json": {
       "model_id": "514115bc107f407bba2f1c0d306b26d8",
       "version_major": 2,
       "version_minor": 0
      },
      "text/plain": [
       "Importance type progress for model 0:   0%|          | 0/9 [00:00<?, ?it/s]"
      ]
     },
     "metadata": {},
     "output_type": "display_data"
    },
    {
     "data": {
      "application/vnd.jupyter.widget-view+json": {
       "model_id": "87a7612676c747e18c53d16f6ac8a1c1",
       "version_major": 2,
       "version_minor": 0
      },
      "text/plain": [
       "Importance type progress for model 1:   0%|          | 0/9 [00:00<?, ?it/s]"
      ]
     },
     "metadata": {},
     "output_type": "display_data"
    },
    {
     "data": {
      "application/vnd.jupyter.widget-view+json": {
       "model_id": "8d332b60dc174d36bc7aab2949b086a4",
       "version_major": 2,
       "version_minor": 0
      },
      "text/plain": [
       "Importance type progress for model 2:   0%|          | 0/9 [00:00<?, ?it/s]"
      ]
     },
     "metadata": {},
     "output_type": "display_data"
    },
    {
     "data": {
      "application/vnd.jupyter.widget-view+json": {
       "model_id": "80bd5a4776d74d82a5fc8d102799fc4a",
       "version_major": 2,
       "version_minor": 0
      },
      "text/plain": [
       "Model progress for dataset 11:   0%|          | 0/3 [00:00<?, ?it/s]"
      ]
     },
     "metadata": {},
     "output_type": "display_data"
    },
    {
     "data": {
      "application/vnd.jupyter.widget-view+json": {
       "model_id": "8f42e894f40741eda9c5649dc27e1902",
       "version_major": 2,
       "version_minor": 0
      },
      "text/plain": [
       "Importance type progress for model 0:   0%|          | 0/9 [00:00<?, ?it/s]"
      ]
     },
     "metadata": {},
     "output_type": "display_data"
    },
    {
     "data": {
      "application/vnd.jupyter.widget-view+json": {
       "model_id": "2b3149e89cb44be795a2f622aad40dba",
       "version_major": 2,
       "version_minor": 0
      },
      "text/plain": [
       "Importance type progress for model 1:   0%|          | 0/9 [00:00<?, ?it/s]"
      ]
     },
     "metadata": {},
     "output_type": "display_data"
    },
    {
     "data": {
      "application/vnd.jupyter.widget-view+json": {
       "model_id": "1610f14dab0442c2884dcc30e84f80c4",
       "version_major": 2,
       "version_minor": 0
      },
      "text/plain": [
       "Importance type progress for model 2:   0%|          | 0/9 [00:00<?, ?it/s]"
      ]
     },
     "metadata": {},
     "output_type": "display_data"
    },
    {
     "data": {
      "application/vnd.jupyter.widget-view+json": {
       "model_id": "f2bab783f35d4efdaa54bf241c4c2474",
       "version_major": 2,
       "version_minor": 0
      },
      "text/plain": [
       "Model progress for dataset 12:   0%|          | 0/3 [00:00<?, ?it/s]"
      ]
     },
     "metadata": {},
     "output_type": "display_data"
    },
    {
     "data": {
      "application/vnd.jupyter.widget-view+json": {
       "model_id": "770d5c5df683409eb02d5d8095dd00b1",
       "version_major": 2,
       "version_minor": 0
      },
      "text/plain": [
       "Importance type progress for model 0:   0%|          | 0/9 [00:00<?, ?it/s]"
      ]
     },
     "metadata": {},
     "output_type": "display_data"
    },
    {
     "data": {
      "application/vnd.jupyter.widget-view+json": {
       "model_id": "e4fb105b542f4e1aaf8374d0cf3bc825",
       "version_major": 2,
       "version_minor": 0
      },
      "text/plain": [
       "Importance type progress for model 1:   0%|          | 0/9 [00:00<?, ?it/s]"
      ]
     },
     "metadata": {},
     "output_type": "display_data"
    },
    {
     "data": {
      "application/vnd.jupyter.widget-view+json": {
       "model_id": "f4724dbdf7444279aba0237af984d641",
       "version_major": 2,
       "version_minor": 0
      },
      "text/plain": [
       "Importance type progress for model 2:   0%|          | 0/9 [00:00<?, ?it/s]"
      ]
     },
     "metadata": {},
     "output_type": "display_data"
    },
    {
     "data": {
      "application/vnd.jupyter.widget-view+json": {
       "model_id": "2d265f2ca65c4b6cb1cfafd99c310428",
       "version_major": 2,
       "version_minor": 0
      },
      "text/plain": [
       "Model progress for dataset 13:   0%|          | 0/3 [00:00<?, ?it/s]"
      ]
     },
     "metadata": {},
     "output_type": "display_data"
    },
    {
     "data": {
      "application/vnd.jupyter.widget-view+json": {
       "model_id": "62aba3073ce146468ee39f040a050983",
       "version_major": 2,
       "version_minor": 0
      },
      "text/plain": [
       "Importance type progress for model 0:   0%|          | 0/9 [00:00<?, ?it/s]"
      ]
     },
     "metadata": {},
     "output_type": "display_data"
    },
    {
     "data": {
      "application/vnd.jupyter.widget-view+json": {
       "model_id": "14acd1c5eb994dfaa575504a4b5c305c",
       "version_major": 2,
       "version_minor": 0
      },
      "text/plain": [
       "Importance type progress for model 1:   0%|          | 0/9 [00:00<?, ?it/s]"
      ]
     },
     "metadata": {},
     "output_type": "display_data"
    },
    {
     "data": {
      "application/vnd.jupyter.widget-view+json": {
       "model_id": "9cb3da57580c49e88436c9ccf85803ce",
       "version_major": 2,
       "version_minor": 0
      },
      "text/plain": [
       "Importance type progress for model 2:   0%|          | 0/9 [00:00<?, ?it/s]"
      ]
     },
     "metadata": {},
     "output_type": "display_data"
    },
    {
     "data": {
      "application/vnd.jupyter.widget-view+json": {
       "model_id": "f12f523321f342aebb1905b04129eac4",
       "version_major": 2,
       "version_minor": 0
      },
      "text/plain": [
       "Model progress for dataset 14:   0%|          | 0/3 [00:00<?, ?it/s]"
      ]
     },
     "metadata": {},
     "output_type": "display_data"
    },
    {
     "data": {
      "application/vnd.jupyter.widget-view+json": {
       "model_id": "68c81431c03e4dfcb3fe25818c92689b",
       "version_major": 2,
       "version_minor": 0
      },
      "text/plain": [
       "Importance type progress for model 0:   0%|          | 0/9 [00:00<?, ?it/s]"
      ]
     },
     "metadata": {},
     "output_type": "display_data"
    },
    {
     "data": {
      "application/vnd.jupyter.widget-view+json": {
       "model_id": "5de1698c314341039af3ae8e0c58aa8a",
       "version_major": 2,
       "version_minor": 0
      },
      "text/plain": [
       "Importance type progress for model 1:   0%|          | 0/9 [00:00<?, ?it/s]"
      ]
     },
     "metadata": {},
     "output_type": "display_data"
    },
    {
     "data": {
      "application/vnd.jupyter.widget-view+json": {
       "model_id": "9d15a97d7b084e7b8bc64b375052ae2a",
       "version_major": 2,
       "version_minor": 0
      },
      "text/plain": [
       "Importance type progress for model 2:   0%|          | 0/9 [00:00<?, ?it/s]"
      ]
     },
     "metadata": {},
     "output_type": "display_data"
    },
    {
     "data": {
      "application/vnd.jupyter.widget-view+json": {
       "model_id": "49c824d3b79845aab6188bf0e99aecfc",
       "version_major": 2,
       "version_minor": 0
      },
      "text/plain": [
       "Model progress for dataset 15:   0%|          | 0/3 [00:00<?, ?it/s]"
      ]
     },
     "metadata": {},
     "output_type": "display_data"
    },
    {
     "data": {
      "application/vnd.jupyter.widget-view+json": {
       "model_id": "3ab187c6d5134d978b58b9a7c099b473",
       "version_major": 2,
       "version_minor": 0
      },
      "text/plain": [
       "Importance type progress for model 0:   0%|          | 0/9 [00:00<?, ?it/s]"
      ]
     },
     "metadata": {},
     "output_type": "display_data"
    },
    {
     "data": {
      "application/vnd.jupyter.widget-view+json": {
       "model_id": "fe14ed284f2b4b7c96f108d458d8ba3b",
       "version_major": 2,
       "version_minor": 0
      },
      "text/plain": [
       "Importance type progress for model 1:   0%|          | 0/9 [00:00<?, ?it/s]"
      ]
     },
     "metadata": {},
     "output_type": "display_data"
    },
    {
     "data": {
      "application/vnd.jupyter.widget-view+json": {
       "model_id": "bc31c25bfb284269b784af9314979957",
       "version_major": 2,
       "version_minor": 0
      },
      "text/plain": [
       "Importance type progress for model 2:   0%|          | 0/9 [00:00<?, ?it/s]"
      ]
     },
     "metadata": {},
     "output_type": "display_data"
    },
    {
     "data": {
      "application/vnd.jupyter.widget-view+json": {
       "model_id": "3882af03c8f3426581b53fb5ab900264",
       "version_major": 2,
       "version_minor": 0
      },
      "text/plain": [
       "Model progress for dataset 16:   0%|          | 0/3 [00:00<?, ?it/s]"
      ]
     },
     "metadata": {},
     "output_type": "display_data"
    },
    {
     "data": {
      "application/vnd.jupyter.widget-view+json": {
       "model_id": "eec0c6cc660846cc997bb876821b4c42",
       "version_major": 2,
       "version_minor": 0
      },
      "text/plain": [
       "Importance type progress for model 0:   0%|          | 0/9 [00:00<?, ?it/s]"
      ]
     },
     "metadata": {},
     "output_type": "display_data"
    },
    {
     "data": {
      "application/vnd.jupyter.widget-view+json": {
       "model_id": "dfbec4a29cfe4ba997ad691a6a64ee03",
       "version_major": 2,
       "version_minor": 0
      },
      "text/plain": [
       "Importance type progress for model 1:   0%|          | 0/9 [00:00<?, ?it/s]"
      ]
     },
     "metadata": {},
     "output_type": "display_data"
    },
    {
     "data": {
      "application/vnd.jupyter.widget-view+json": {
       "model_id": "613f7f9870434e119bb2be08d001bd2d",
       "version_major": 2,
       "version_minor": 0
      },
      "text/plain": [
       "Importance type progress for model 2:   0%|          | 0/9 [00:00<?, ?it/s]"
      ]
     },
     "metadata": {},
     "output_type": "display_data"
    },
    {
     "data": {
      "application/vnd.jupyter.widget-view+json": {
       "model_id": "5e3376827168467c8daa46973e6f6f7a",
       "version_major": 2,
       "version_minor": 0
      },
      "text/plain": [
       "Model progress for dataset 17:   0%|          | 0/3 [00:00<?, ?it/s]"
      ]
     },
     "metadata": {},
     "output_type": "display_data"
    },
    {
     "data": {
      "application/vnd.jupyter.widget-view+json": {
       "model_id": "dbca07b2ca1d4b109c530f8ae76c3e07",
       "version_major": 2,
       "version_minor": 0
      },
      "text/plain": [
       "Importance type progress for model 0:   0%|          | 0/9 [00:00<?, ?it/s]"
      ]
     },
     "metadata": {},
     "output_type": "display_data"
    },
    {
     "data": {
      "application/vnd.jupyter.widget-view+json": {
       "model_id": "14dfb030fd0c4f1f85e3f5d7dac9efd4",
       "version_major": 2,
       "version_minor": 0
      },
      "text/plain": [
       "Importance type progress for model 1:   0%|          | 0/9 [00:00<?, ?it/s]"
      ]
     },
     "metadata": {},
     "output_type": "display_data"
    },
    {
     "data": {
      "application/vnd.jupyter.widget-view+json": {
       "model_id": "8dce2da288e74ba8aa3649ad4bcdcc86",
       "version_major": 2,
       "version_minor": 0
      },
      "text/plain": [
       "Importance type progress for model 2:   0%|          | 0/9 [00:00<?, ?it/s]"
      ]
     },
     "metadata": {},
     "output_type": "display_data"
    },
    {
     "data": {
      "application/vnd.jupyter.widget-view+json": {
       "model_id": "e173f281d0ff4dd79429bc3db5ca7819",
       "version_major": 2,
       "version_minor": 0
      },
      "text/plain": [
       "Model progress for dataset 18:   0%|          | 0/3 [00:00<?, ?it/s]"
      ]
     },
     "metadata": {},
     "output_type": "display_data"
    },
    {
     "data": {
      "application/vnd.jupyter.widget-view+json": {
       "model_id": "ef3a760b7c3b465594dbbe024debe6c8",
       "version_major": 2,
       "version_minor": 0
      },
      "text/plain": [
       "Importance type progress for model 0:   0%|          | 0/9 [00:00<?, ?it/s]"
      ]
     },
     "metadata": {},
     "output_type": "display_data"
    },
    {
     "data": {
      "application/vnd.jupyter.widget-view+json": {
       "model_id": "46aba03bdc694c6684f64cd2d08babd7",
       "version_major": 2,
       "version_minor": 0
      },
      "text/plain": [
       "Importance type progress for model 1:   0%|          | 0/9 [00:00<?, ?it/s]"
      ]
     },
     "metadata": {},
     "output_type": "display_data"
    },
    {
     "data": {
      "application/vnd.jupyter.widget-view+json": {
       "model_id": "d2732b097be6415e9b7a9025e1c961ac",
       "version_major": 2,
       "version_minor": 0
      },
      "text/plain": [
       "Importance type progress for model 2:   0%|          | 0/9 [00:00<?, ?it/s]"
      ]
     },
     "metadata": {},
     "output_type": "display_data"
    },
    {
     "data": {
      "application/vnd.jupyter.widget-view+json": {
       "model_id": "3f5dd5fba6c646ab906b609631c4f457",
       "version_major": 2,
       "version_minor": 0
      },
      "text/plain": [
       "Model progress for dataset 19:   0%|          | 0/3 [00:00<?, ?it/s]"
      ]
     },
     "metadata": {},
     "output_type": "display_data"
    },
    {
     "data": {
      "application/vnd.jupyter.widget-view+json": {
       "model_id": "fc3d82c7c86d4c6c8ee18ca13f364ef8",
       "version_major": 2,
       "version_minor": 0
      },
      "text/plain": [
       "Importance type progress for model 0:   0%|          | 0/9 [00:00<?, ?it/s]"
      ]
     },
     "metadata": {},
     "output_type": "display_data"
    },
    {
     "data": {
      "application/vnd.jupyter.widget-view+json": {
       "model_id": "6a12e817bcc049b5865e50807c7689c5",
       "version_major": 2,
       "version_minor": 0
      },
      "text/plain": [
       "Importance type progress for model 1:   0%|          | 0/9 [00:00<?, ?it/s]"
      ]
     },
     "metadata": {},
     "output_type": "display_data"
    },
    {
     "data": {
      "application/vnd.jupyter.widget-view+json": {
       "model_id": "97183bb5949b42778a003059f7787d93",
       "version_major": 2,
       "version_minor": 0
      },
      "text/plain": [
       "Importance type progress for model 2:   0%|          | 0/9 [00:00<?, ?it/s]"
      ]
     },
     "metadata": {},
     "output_type": "display_data"
    },
    {
     "data": {
      "application/vnd.jupyter.widget-view+json": {
       "model_id": "e2bb3f357aa4480db7a121d18221a6bc",
       "version_major": 2,
       "version_minor": 0
      },
      "text/plain": [
       "Model progress for dataset 20:   0%|          | 0/3 [00:00<?, ?it/s]"
      ]
     },
     "metadata": {},
     "output_type": "display_data"
    },
    {
     "data": {
      "application/vnd.jupyter.widget-view+json": {
       "model_id": "fa5cb57b5ca14ba8b5206a02c651d5bf",
       "version_major": 2,
       "version_minor": 0
      },
      "text/plain": [
       "Importance type progress for model 0:   0%|          | 0/9 [00:00<?, ?it/s]"
      ]
     },
     "metadata": {},
     "output_type": "display_data"
    },
    {
     "data": {
      "application/vnd.jupyter.widget-view+json": {
       "model_id": "c5d1167c0deb4d4e9947da41b5d6b7f4",
       "version_major": 2,
       "version_minor": 0
      },
      "text/plain": [
       "Importance type progress for model 1:   0%|          | 0/9 [00:00<?, ?it/s]"
      ]
     },
     "metadata": {},
     "output_type": "display_data"
    },
    {
     "data": {
      "application/vnd.jupyter.widget-view+json": {
       "model_id": "b8d0a3bcae294fe093e08927da6b07e1",
       "version_major": 2,
       "version_minor": 0
      },
      "text/plain": [
       "Importance type progress for model 2:   0%|          | 0/9 [00:00<?, ?it/s]"
      ]
     },
     "metadata": {},
     "output_type": "display_data"
    },
    {
     "data": {
      "application/vnd.jupyter.widget-view+json": {
       "model_id": "ebe69685a02c466480967ebd78080077",
       "version_major": 2,
       "version_minor": 0
      },
      "text/plain": [
       "Model progress for dataset 21:   0%|          | 0/3 [00:00<?, ?it/s]"
      ]
     },
     "metadata": {},
     "output_type": "display_data"
    },
    {
     "data": {
      "application/vnd.jupyter.widget-view+json": {
       "model_id": "dcdb762868224a3b8750f73fa9ac0631",
       "version_major": 2,
       "version_minor": 0
      },
      "text/plain": [
       "Importance type progress for model 0:   0%|          | 0/9 [00:00<?, ?it/s]"
      ]
     },
     "metadata": {},
     "output_type": "display_data"
    },
    {
     "data": {
      "application/vnd.jupyter.widget-view+json": {
       "model_id": "cb8845a3ffd84da08145983877485966",
       "version_major": 2,
       "version_minor": 0
      },
      "text/plain": [
       "Importance type progress for model 1:   0%|          | 0/9 [00:00<?, ?it/s]"
      ]
     },
     "metadata": {},
     "output_type": "display_data"
    },
    {
     "data": {
      "application/vnd.jupyter.widget-view+json": {
       "model_id": "ad289b53f4f54b2eadfc78bce841a588",
       "version_major": 2,
       "version_minor": 0
      },
      "text/plain": [
       "Importance type progress for model 2:   0%|          | 0/9 [00:00<?, ?it/s]"
      ]
     },
     "metadata": {},
     "output_type": "display_data"
    },
    {
     "data": {
      "application/vnd.jupyter.widget-view+json": {
       "model_id": "ae6c38ec5c784ecb80373742c7da025e",
       "version_major": 2,
       "version_minor": 0
      },
      "text/plain": [
       "Model progress for dataset 22:   0%|          | 0/3 [00:00<?, ?it/s]"
      ]
     },
     "metadata": {},
     "output_type": "display_data"
    },
    {
     "data": {
      "application/vnd.jupyter.widget-view+json": {
       "model_id": "1075bdc434424c379e0ee1ee361993e7",
       "version_major": 2,
       "version_minor": 0
      },
      "text/plain": [
       "Importance type progress for model 0:   0%|          | 0/9 [00:00<?, ?it/s]"
      ]
     },
     "metadata": {},
     "output_type": "display_data"
    },
    {
     "data": {
      "application/vnd.jupyter.widget-view+json": {
       "model_id": "d0b8bab21a0f45ed99aa3409007c93cd",
       "version_major": 2,
       "version_minor": 0
      },
      "text/plain": [
       "Importance type progress for model 1:   0%|          | 0/9 [00:00<?, ?it/s]"
      ]
     },
     "metadata": {},
     "output_type": "display_data"
    },
    {
     "data": {
      "application/vnd.jupyter.widget-view+json": {
       "model_id": "da8dc32bccac40118bc1a09a83c49765",
       "version_major": 2,
       "version_minor": 0
      },
      "text/plain": [
       "Importance type progress for model 2:   0%|          | 0/9 [00:00<?, ?it/s]"
      ]
     },
     "metadata": {},
     "output_type": "display_data"
    },
    {
     "data": {
      "application/vnd.jupyter.widget-view+json": {
       "model_id": "5316ca75b9d348998545e0661268f27f",
       "version_major": 2,
       "version_minor": 0
      },
      "text/plain": [
       "Model progress for dataset 23:   0%|          | 0/3 [00:00<?, ?it/s]"
      ]
     },
     "metadata": {},
     "output_type": "display_data"
    },
    {
     "data": {
      "application/vnd.jupyter.widget-view+json": {
       "model_id": "b454a994819e4b89b91a968417545b17",
       "version_major": 2,
       "version_minor": 0
      },
      "text/plain": [
       "Importance type progress for model 0:   0%|          | 0/9 [00:00<?, ?it/s]"
      ]
     },
     "metadata": {},
     "output_type": "display_data"
    },
    {
     "data": {
      "application/vnd.jupyter.widget-view+json": {
       "model_id": "26d95354f301499e8802c01a1cfbef89",
       "version_major": 2,
       "version_minor": 0
      },
      "text/plain": [
       "Importance type progress for model 1:   0%|          | 0/9 [00:00<?, ?it/s]"
      ]
     },
     "metadata": {},
     "output_type": "display_data"
    },
    {
     "data": {
      "application/vnd.jupyter.widget-view+json": {
       "model_id": "f1d4c0e8db7646c9a8070ce8fa184b86",
       "version_major": 2,
       "version_minor": 0
      },
      "text/plain": [
       "Importance type progress for model 2:   0%|          | 0/9 [00:00<?, ?it/s]"
      ]
     },
     "metadata": {},
     "output_type": "display_data"
    },
    {
     "data": {
      "application/vnd.jupyter.widget-view+json": {
       "model_id": "01ee9e1cdc5b4b33b6458c115775ea78",
       "version_major": 2,
       "version_minor": 0
      },
      "text/plain": [
       "Model progress for dataset 24:   0%|          | 0/3 [00:00<?, ?it/s]"
      ]
     },
     "metadata": {},
     "output_type": "display_data"
    },
    {
     "data": {
      "application/vnd.jupyter.widget-view+json": {
       "model_id": "9a688cde306f4672bf129e1bcc50ac78",
       "version_major": 2,
       "version_minor": 0
      },
      "text/plain": [
       "Importance type progress for model 0:   0%|          | 0/9 [00:00<?, ?it/s]"
      ]
     },
     "metadata": {},
     "output_type": "display_data"
    },
    {
     "data": {
      "application/vnd.jupyter.widget-view+json": {
       "model_id": "7d0d85a0c9b94dddb30a3106c24d69e4",
       "version_major": 2,
       "version_minor": 0
      },
      "text/plain": [
       "Importance type progress for model 1:   0%|          | 0/9 [00:00<?, ?it/s]"
      ]
     },
     "metadata": {},
     "output_type": "display_data"
    },
    {
     "data": {
      "application/vnd.jupyter.widget-view+json": {
       "model_id": "7cac7c5f30324a559e5f6a047ae7bfda",
       "version_major": 2,
       "version_minor": 0
      },
      "text/plain": [
       "Importance type progress for model 2:   0%|          | 0/9 [00:00<?, ?it/s]"
      ]
     },
     "metadata": {},
     "output_type": "display_data"
    },
    {
     "data": {
      "application/vnd.jupyter.widget-view+json": {
       "model_id": "921f34326f1a407b9cc8adfe5873bb28",
       "version_major": 2,
       "version_minor": 0
      },
      "text/plain": [
       "Model progress for dataset 25:   0%|          | 0/3 [00:00<?, ?it/s]"
      ]
     },
     "metadata": {},
     "output_type": "display_data"
    },
    {
     "data": {
      "application/vnd.jupyter.widget-view+json": {
       "model_id": "81433e5f28de4275a3a96478e13af5b2",
       "version_major": 2,
       "version_minor": 0
      },
      "text/plain": [
       "Importance type progress for model 0:   0%|          | 0/9 [00:00<?, ?it/s]"
      ]
     },
     "metadata": {},
     "output_type": "display_data"
    },
    {
     "data": {
      "application/vnd.jupyter.widget-view+json": {
       "model_id": "cd400345b0274c7fbce353169db8d9ac",
       "version_major": 2,
       "version_minor": 0
      },
      "text/plain": [
       "Importance type progress for model 1:   0%|          | 0/9 [00:00<?, ?it/s]"
      ]
     },
     "metadata": {},
     "output_type": "display_data"
    },
    {
     "data": {
      "application/vnd.jupyter.widget-view+json": {
       "model_id": "0a62e12addc749d1bc288916a216f526",
       "version_major": 2,
       "version_minor": 0
      },
      "text/plain": [
       "Importance type progress for model 2:   0%|          | 0/9 [00:00<?, ?it/s]"
      ]
     },
     "metadata": {},
     "output_type": "display_data"
    },
    {
     "data": {
      "application/vnd.jupyter.widget-view+json": {
       "model_id": "4463655ab2a14f9986a03170d0ba16ae",
       "version_major": 2,
       "version_minor": 0
      },
      "text/plain": [
       "Model progress for dataset 26:   0%|          | 0/3 [00:00<?, ?it/s]"
      ]
     },
     "metadata": {},
     "output_type": "display_data"
    },
    {
     "data": {
      "application/vnd.jupyter.widget-view+json": {
       "model_id": "e146813a13e0457fa6371302817b0bee",
       "version_major": 2,
       "version_minor": 0
      },
      "text/plain": [
       "Importance type progress for model 0:   0%|          | 0/9 [00:00<?, ?it/s]"
      ]
     },
     "metadata": {},
     "output_type": "display_data"
    },
    {
     "data": {
      "application/vnd.jupyter.widget-view+json": {
       "model_id": "f45bf611c1584e6ab02a447ba36aa8ad",
       "version_major": 2,
       "version_minor": 0
      },
      "text/plain": [
       "Importance type progress for model 1:   0%|          | 0/9 [00:00<?, ?it/s]"
      ]
     },
     "metadata": {},
     "output_type": "display_data"
    },
    {
     "data": {
      "application/vnd.jupyter.widget-view+json": {
       "model_id": "b99092c4006c4388a59542f26dccdcc3",
       "version_major": 2,
       "version_minor": 0
      },
      "text/plain": [
       "Importance type progress for model 2:   0%|          | 0/9 [00:00<?, ?it/s]"
      ]
     },
     "metadata": {},
     "output_type": "display_data"
    },
    {
     "data": {
      "application/vnd.jupyter.widget-view+json": {
       "model_id": "9ecc6be1dd394bcf967de3e2201db12a",
       "version_major": 2,
       "version_minor": 0
      },
      "text/plain": [
       "Model progress for dataset 27:   0%|          | 0/3 [00:00<?, ?it/s]"
      ]
     },
     "metadata": {},
     "output_type": "display_data"
    },
    {
     "data": {
      "application/vnd.jupyter.widget-view+json": {
       "model_id": "a6e06cdacccd4810b4e82ee55a5e1142",
       "version_major": 2,
       "version_minor": 0
      },
      "text/plain": [
       "Importance type progress for model 0:   0%|          | 0/9 [00:00<?, ?it/s]"
      ]
     },
     "metadata": {},
     "output_type": "display_data"
    },
    {
     "data": {
      "application/vnd.jupyter.widget-view+json": {
       "model_id": "83ba1857d8494ab388ba09fda215d9a1",
       "version_major": 2,
       "version_minor": 0
      },
      "text/plain": [
       "Importance type progress for model 1:   0%|          | 0/9 [00:00<?, ?it/s]"
      ]
     },
     "metadata": {},
     "output_type": "display_data"
    },
    {
     "data": {
      "application/vnd.jupyter.widget-view+json": {
       "model_id": "fa1856375f974890a2cd3e809d605751",
       "version_major": 2,
       "version_minor": 0
      },
      "text/plain": [
       "Importance type progress for model 2:   0%|          | 0/9 [00:00<?, ?it/s]"
      ]
     },
     "metadata": {},
     "output_type": "display_data"
    },
    {
     "data": {
      "application/vnd.jupyter.widget-view+json": {
       "model_id": "b3838f91c2e246889001ff8baf12c22c",
       "version_major": 2,
       "version_minor": 0
      },
      "text/plain": [
       "Model progress for dataset 28:   0%|          | 0/3 [00:00<?, ?it/s]"
      ]
     },
     "metadata": {},
     "output_type": "display_data"
    },
    {
     "data": {
      "application/vnd.jupyter.widget-view+json": {
       "model_id": "a59fd1a9c2ba45d99d175064cb621b4c",
       "version_major": 2,
       "version_minor": 0
      },
      "text/plain": [
       "Importance type progress for model 0:   0%|          | 0/9 [00:00<?, ?it/s]"
      ]
     },
     "metadata": {},
     "output_type": "display_data"
    },
    {
     "data": {
      "application/vnd.jupyter.widget-view+json": {
       "model_id": "be91649a3f3b49ba8eda423a26e77826",
       "version_major": 2,
       "version_minor": 0
      },
      "text/plain": [
       "Importance type progress for model 1:   0%|          | 0/9 [00:00<?, ?it/s]"
      ]
     },
     "metadata": {},
     "output_type": "display_data"
    },
    {
     "data": {
      "application/vnd.jupyter.widget-view+json": {
       "model_id": "c5ad6039900e4954985978beb0677614",
       "version_major": 2,
       "version_minor": 0
      },
      "text/plain": [
       "Importance type progress for model 2:   0%|          | 0/9 [00:00<?, ?it/s]"
      ]
     },
     "metadata": {},
     "output_type": "display_data"
    },
    {
     "data": {
      "application/vnd.jupyter.widget-view+json": {
       "model_id": "1de39fa603b44f7a8bd364c0a5baa4cd",
       "version_major": 2,
       "version_minor": 0
      },
      "text/plain": [
       "Model progress for dataset 29:   0%|          | 0/3 [00:00<?, ?it/s]"
      ]
     },
     "metadata": {},
     "output_type": "display_data"
    },
    {
     "data": {
      "application/vnd.jupyter.widget-view+json": {
       "model_id": "f38822e61a6d4f6ea724a52bb8646695",
       "version_major": 2,
       "version_minor": 0
      },
      "text/plain": [
       "Importance type progress for model 0:   0%|          | 0/9 [00:00<?, ?it/s]"
      ]
     },
     "metadata": {},
     "output_type": "display_data"
    },
    {
     "data": {
      "application/vnd.jupyter.widget-view+json": {
       "model_id": "dfd5db6d68574187b9f300da2938f381",
       "version_major": 2,
       "version_minor": 0
      },
      "text/plain": [
       "Importance type progress for model 1:   0%|          | 0/9 [00:00<?, ?it/s]"
      ]
     },
     "metadata": {},
     "output_type": "display_data"
    },
    {
     "data": {
      "application/vnd.jupyter.widget-view+json": {
       "model_id": "b9b86515d87e4c4a99c7761dab41230c",
       "version_major": 2,
       "version_minor": 0
      },
      "text/plain": [
       "Importance type progress for model 2:   0%|          | 0/9 [00:00<?, ?it/s]"
      ]
     },
     "metadata": {},
     "output_type": "display_data"
    },
    {
     "data": {
      "application/vnd.jupyter.widget-view+json": {
       "model_id": "8a90599bab7f4f76aa63547cb406e424",
       "version_major": 2,
       "version_minor": 0
      },
      "text/plain": [
       "Model progress for dataset 30:   0%|          | 0/3 [00:00<?, ?it/s]"
      ]
     },
     "metadata": {},
     "output_type": "display_data"
    },
    {
     "data": {
      "application/vnd.jupyter.widget-view+json": {
       "model_id": "4f80dec857cb4d2095be145cac1c7f86",
       "version_major": 2,
       "version_minor": 0
      },
      "text/plain": [
       "Importance type progress for model 0:   0%|          | 0/9 [00:00<?, ?it/s]"
      ]
     },
     "metadata": {},
     "output_type": "display_data"
    },
    {
     "data": {
      "application/vnd.jupyter.widget-view+json": {
       "model_id": "c79ddf6647334b6986e3220080fe237b",
       "version_major": 2,
       "version_minor": 0
      },
      "text/plain": [
       "Importance type progress for model 1:   0%|          | 0/9 [00:00<?, ?it/s]"
      ]
     },
     "metadata": {},
     "output_type": "display_data"
    },
    {
     "data": {
      "application/vnd.jupyter.widget-view+json": {
       "model_id": "f79a01df70694b68b3a8b4f00af372bd",
       "version_major": 2,
       "version_minor": 0
      },
      "text/plain": [
       "Importance type progress for model 2:   0%|          | 0/9 [00:00<?, ?it/s]"
      ]
     },
     "metadata": {},
     "output_type": "display_data"
    },
    {
     "data": {
      "application/vnd.jupyter.widget-view+json": {
       "model_id": "02c2d618ca0d4906900cabf32c0dad25",
       "version_major": 2,
       "version_minor": 0
      },
      "text/plain": [
       "Model progress for dataset 31:   0%|          | 0/3 [00:00<?, ?it/s]"
      ]
     },
     "metadata": {},
     "output_type": "display_data"
    },
    {
     "data": {
      "application/vnd.jupyter.widget-view+json": {
       "model_id": "edcbb19a77c24cfbb28a8e4603fffa2c",
       "version_major": 2,
       "version_minor": 0
      },
      "text/plain": [
       "Importance type progress for model 0:   0%|          | 0/9 [00:00<?, ?it/s]"
      ]
     },
     "metadata": {},
     "output_type": "display_data"
    },
    {
     "data": {
      "application/vnd.jupyter.widget-view+json": {
       "model_id": "7a2775e25def440fa3a41c68da42c0f4",
       "version_major": 2,
       "version_minor": 0
      },
      "text/plain": [
       "Importance type progress for model 1:   0%|          | 0/9 [00:00<?, ?it/s]"
      ]
     },
     "metadata": {},
     "output_type": "display_data"
    },
    {
     "data": {
      "application/vnd.jupyter.widget-view+json": {
       "model_id": "973e6f27ac124f0a8c9718a815c50967",
       "version_major": 2,
       "version_minor": 0
      },
      "text/plain": [
       "Importance type progress for model 2:   0%|          | 0/9 [00:00<?, ?it/s]"
      ]
     },
     "metadata": {},
     "output_type": "display_data"
    },
    {
     "data": {
      "application/vnd.jupyter.widget-view+json": {
       "model_id": "15096da44d3441208037990a0f52c50c",
       "version_major": 2,
       "version_minor": 0
      },
      "text/plain": [
       "Model progress for dataset 32:   0%|          | 0/3 [00:00<?, ?it/s]"
      ]
     },
     "metadata": {},
     "output_type": "display_data"
    },
    {
     "data": {
      "application/vnd.jupyter.widget-view+json": {
       "model_id": "1992db80d7324ff8a08c9c5d4d05bbae",
       "version_major": 2,
       "version_minor": 0
      },
      "text/plain": [
       "Importance type progress for model 0:   0%|          | 0/9 [00:00<?, ?it/s]"
      ]
     },
     "metadata": {},
     "output_type": "display_data"
    },
    {
     "data": {
      "application/vnd.jupyter.widget-view+json": {
       "model_id": "46564494d7df4b6493b0d7e2abd581b6",
       "version_major": 2,
       "version_minor": 0
      },
      "text/plain": [
       "Importance type progress for model 1:   0%|          | 0/9 [00:00<?, ?it/s]"
      ]
     },
     "metadata": {},
     "output_type": "display_data"
    },
    {
     "data": {
      "application/vnd.jupyter.widget-view+json": {
       "model_id": "26e2775f19cf4de992f761a0b567b9fd",
       "version_major": 2,
       "version_minor": 0
      },
      "text/plain": [
       "Importance type progress for model 2:   0%|          | 0/9 [00:00<?, ?it/s]"
      ]
     },
     "metadata": {},
     "output_type": "display_data"
    },
    {
     "data": {
      "application/vnd.jupyter.widget-view+json": {
       "model_id": "bfc618f5dbbc453293c2b41afbefae87",
       "version_major": 2,
       "version_minor": 0
      },
      "text/plain": [
       "Model progress for dataset 33:   0%|          | 0/3 [00:00<?, ?it/s]"
      ]
     },
     "metadata": {},
     "output_type": "display_data"
    },
    {
     "data": {
      "application/vnd.jupyter.widget-view+json": {
       "model_id": "ee3d28ef7a3641d29504f7d6471a8a3d",
       "version_major": 2,
       "version_minor": 0
      },
      "text/plain": [
       "Importance type progress for model 0:   0%|          | 0/9 [00:00<?, ?it/s]"
      ]
     },
     "metadata": {},
     "output_type": "display_data"
    },
    {
     "data": {
      "application/vnd.jupyter.widget-view+json": {
       "model_id": "cf4003437fe94bd48b83d685a25eb7bb",
       "version_major": 2,
       "version_minor": 0
      },
      "text/plain": [
       "Importance type progress for model 1:   0%|          | 0/9 [00:00<?, ?it/s]"
      ]
     },
     "metadata": {},
     "output_type": "display_data"
    },
    {
     "data": {
      "application/vnd.jupyter.widget-view+json": {
       "model_id": "d3818b34f88e4124bd14c064cb51f47f",
       "version_major": 2,
       "version_minor": 0
      },
      "text/plain": [
       "Importance type progress for model 2:   0%|          | 0/9 [00:00<?, ?it/s]"
      ]
     },
     "metadata": {},
     "output_type": "display_data"
    },
    {
     "data": {
      "application/vnd.jupyter.widget-view+json": {
       "model_id": "a7179ab7b8f34d8589c6ac6a68006d18",
       "version_major": 2,
       "version_minor": 0
      },
      "text/plain": [
       "Model progress for dataset 34:   0%|          | 0/3 [00:00<?, ?it/s]"
      ]
     },
     "metadata": {},
     "output_type": "display_data"
    },
    {
     "data": {
      "application/vnd.jupyter.widget-view+json": {
       "model_id": "9c9efe046ef8455199696997edd7569b",
       "version_major": 2,
       "version_minor": 0
      },
      "text/plain": [
       "Importance type progress for model 0:   0%|          | 0/9 [00:00<?, ?it/s]"
      ]
     },
     "metadata": {},
     "output_type": "display_data"
    },
    {
     "data": {
      "application/vnd.jupyter.widget-view+json": {
       "model_id": "4d72a22b3b384f109203a1a4a039e11a",
       "version_major": 2,
       "version_minor": 0
      },
      "text/plain": [
       "Importance type progress for model 1:   0%|          | 0/9 [00:00<?, ?it/s]"
      ]
     },
     "metadata": {},
     "output_type": "display_data"
    },
    {
     "data": {
      "application/vnd.jupyter.widget-view+json": {
       "model_id": "cac84c19d9904f8395b870bf20451cbb",
       "version_major": 2,
       "version_minor": 0
      },
      "text/plain": [
       "Importance type progress for model 2:   0%|          | 0/9 [00:00<?, ?it/s]"
      ]
     },
     "metadata": {},
     "output_type": "display_data"
    },
    {
     "data": {
      "application/vnd.jupyter.widget-view+json": {
       "model_id": "fcf022fce50f463baa51b29e2d0a8efe",
       "version_major": 2,
       "version_minor": 0
      },
      "text/plain": [
       "Model progress for dataset 35:   0%|          | 0/3 [00:00<?, ?it/s]"
      ]
     },
     "metadata": {},
     "output_type": "display_data"
    },
    {
     "data": {
      "application/vnd.jupyter.widget-view+json": {
       "model_id": "7ca3a261f0cc449b9a92850102a12faf",
       "version_major": 2,
       "version_minor": 0
      },
      "text/plain": [
       "Importance type progress for model 0:   0%|          | 0/9 [00:00<?, ?it/s]"
      ]
     },
     "metadata": {},
     "output_type": "display_data"
    },
    {
     "data": {
      "application/vnd.jupyter.widget-view+json": {
       "model_id": "4f6c1753101a462a8411450726553037",
       "version_major": 2,
       "version_minor": 0
      },
      "text/plain": [
       "Importance type progress for model 1:   0%|          | 0/9 [00:00<?, ?it/s]"
      ]
     },
     "metadata": {},
     "output_type": "display_data"
    },
    {
     "data": {
      "application/vnd.jupyter.widget-view+json": {
       "model_id": "70dd35e003cf47f4becea261fb43cc27",
       "version_major": 2,
       "version_minor": 0
      },
      "text/plain": [
       "Importance type progress for model 2:   0%|          | 0/9 [00:00<?, ?it/s]"
      ]
     },
     "metadata": {},
     "output_type": "display_data"
    },
    {
     "data": {
      "application/vnd.jupyter.widget-view+json": {
       "model_id": "0a73a206957143979eb9f3ed93544ca4",
       "version_major": 2,
       "version_minor": 0
      },
      "text/plain": [
       "Model progress for dataset 36:   0%|          | 0/3 [00:00<?, ?it/s]"
      ]
     },
     "metadata": {},
     "output_type": "display_data"
    },
    {
     "data": {
      "application/vnd.jupyter.widget-view+json": {
       "model_id": "fd693dd7a58b48cb898859174a13a0e3",
       "version_major": 2,
       "version_minor": 0
      },
      "text/plain": [
       "Importance type progress for model 0:   0%|          | 0/9 [00:00<?, ?it/s]"
      ]
     },
     "metadata": {},
     "output_type": "display_data"
    },
    {
     "data": {
      "application/vnd.jupyter.widget-view+json": {
       "model_id": "8ec06eac41a34fde8a65018a603dea1e",
       "version_major": 2,
       "version_minor": 0
      },
      "text/plain": [
       "Importance type progress for model 1:   0%|          | 0/9 [00:00<?, ?it/s]"
      ]
     },
     "metadata": {},
     "output_type": "display_data"
    },
    {
     "data": {
      "application/vnd.jupyter.widget-view+json": {
       "model_id": "2997fa126dbe488296e60acf55276e22",
       "version_major": 2,
       "version_minor": 0
      },
      "text/plain": [
       "Importance type progress for model 2:   0%|          | 0/9 [00:00<?, ?it/s]"
      ]
     },
     "metadata": {},
     "output_type": "display_data"
    },
    {
     "data": {
      "application/vnd.jupyter.widget-view+json": {
       "model_id": "388d81ce514643ecb1e275fbd577e3d4",
       "version_major": 2,
       "version_minor": 0
      },
      "text/plain": [
       "Model progress for dataset 37:   0%|          | 0/3 [00:00<?, ?it/s]"
      ]
     },
     "metadata": {},
     "output_type": "display_data"
    },
    {
     "data": {
      "application/vnd.jupyter.widget-view+json": {
       "model_id": "fb9270e7e74745729505cf415f376d73",
       "version_major": 2,
       "version_minor": 0
      },
      "text/plain": [
       "Importance type progress for model 0:   0%|          | 0/9 [00:00<?, ?it/s]"
      ]
     },
     "metadata": {},
     "output_type": "display_data"
    },
    {
     "data": {
      "application/vnd.jupyter.widget-view+json": {
       "model_id": "6b410cf0c4b242468d4902782d786918",
       "version_major": 2,
       "version_minor": 0
      },
      "text/plain": [
       "Importance type progress for model 1:   0%|          | 0/9 [00:00<?, ?it/s]"
      ]
     },
     "metadata": {},
     "output_type": "display_data"
    },
    {
     "data": {
      "application/vnd.jupyter.widget-view+json": {
       "model_id": "a2c3968f33c640839b70a11164d4dd79",
       "version_major": 2,
       "version_minor": 0
      },
      "text/plain": [
       "Importance type progress for model 2:   0%|          | 0/9 [00:00<?, ?it/s]"
      ]
     },
     "metadata": {},
     "output_type": "display_data"
    },
    {
     "data": {
      "application/vnd.jupyter.widget-view+json": {
       "model_id": "621711f5742f4d7193124cb570556894",
       "version_major": 2,
       "version_minor": 0
      },
      "text/plain": [
       "Model progress for dataset 38:   0%|          | 0/3 [00:00<?, ?it/s]"
      ]
     },
     "metadata": {},
     "output_type": "display_data"
    },
    {
     "data": {
      "application/vnd.jupyter.widget-view+json": {
       "model_id": "a043d3342d6249e19026b47103c2a1d8",
       "version_major": 2,
       "version_minor": 0
      },
      "text/plain": [
       "Importance type progress for model 0:   0%|          | 0/9 [00:00<?, ?it/s]"
      ]
     },
     "metadata": {},
     "output_type": "display_data"
    },
    {
     "data": {
      "application/vnd.jupyter.widget-view+json": {
       "model_id": "c6a1e8a15d8b4b44bfa039b1ad622160",
       "version_major": 2,
       "version_minor": 0
      },
      "text/plain": [
       "Importance type progress for model 1:   0%|          | 0/9 [00:00<?, ?it/s]"
      ]
     },
     "metadata": {},
     "output_type": "display_data"
    },
    {
     "data": {
      "application/vnd.jupyter.widget-view+json": {
       "model_id": "1c8a0ce3bc2c4cd6bcd2bfa2bbc8b355",
       "version_major": 2,
       "version_minor": 0
      },
      "text/plain": [
       "Importance type progress for model 2:   0%|          | 0/9 [00:00<?, ?it/s]"
      ]
     },
     "metadata": {},
     "output_type": "display_data"
    },
    {
     "data": {
      "application/vnd.jupyter.widget-view+json": {
       "model_id": "bc4112b407fe41b1b33da9660344817c",
       "version_major": 2,
       "version_minor": 0
      },
      "text/plain": [
       "Model progress for dataset 39:   0%|          | 0/3 [00:00<?, ?it/s]"
      ]
     },
     "metadata": {},
     "output_type": "display_data"
    },
    {
     "data": {
      "application/vnd.jupyter.widget-view+json": {
       "model_id": "3ca8ac1a155a43bca5d112505a228f86",
       "version_major": 2,
       "version_minor": 0
      },
      "text/plain": [
       "Importance type progress for model 0:   0%|          | 0/9 [00:00<?, ?it/s]"
      ]
     },
     "metadata": {},
     "output_type": "display_data"
    },
    {
     "data": {
      "application/vnd.jupyter.widget-view+json": {
       "model_id": "a076dc8ad0a241449b9640f5bd5f31c9",
       "version_major": 2,
       "version_minor": 0
      },
      "text/plain": [
       "Importance type progress for model 1:   0%|          | 0/9 [00:00<?, ?it/s]"
      ]
     },
     "metadata": {},
     "output_type": "display_data"
    },
    {
     "data": {
      "application/vnd.jupyter.widget-view+json": {
       "model_id": "39c29ad679a748b49985d051f4714887",
       "version_major": 2,
       "version_minor": 0
      },
      "text/plain": [
       "Importance type progress for model 2:   0%|          | 0/9 [00:00<?, ?it/s]"
      ]
     },
     "metadata": {},
     "output_type": "display_data"
    }
   ],
   "source": [
    "reg_data = get_stats(imp_types, models, datasets, debug=True, \n",
    "                   random_states=random_states, dataset_states=dataset_states)"
   ]
  },
  {
   "cell_type": "code",
   "execution_count": 13,
   "metadata": {},
   "outputs": [],
   "source": [
    "# export results to local dir as csv file\n",
    "df_res.to_csv(f'regression_synthethic_{datetime.today().strftime(\"%Y-%b-%d-%H:%M:%S\")}.csv', index=False)"
   ]
  },
  {
   "cell_type": "code",
   "execution_count": 14,
   "metadata": {},
   "outputs": [],
   "source": [
    "# import seaborn as sns\n",
    "\n",
    "# plot = sns.lineplot(x='iteration', y='mse_test', hue='imp_type',\n",
    "#             data=df_res.query('model == \"XGBRegressor\" and dataset == \"diabetes\"')\n",
    "#             )"
   ]
  }
 ],
 "metadata": {
  "kernelspec": {
   "display_name": "Python 3",
   "language": "python",
   "name": "python3"
  },
  "language_info": {
   "codemirror_mode": {
    "name": "ipython",
    "version": 3
   },
   "file_extension": ".py",
   "mimetype": "text/x-python",
   "name": "python",
   "nbconvert_exporter": "python",
   "pygments_lexer": "ipython3",
   "version": "3.8.10"
  }
 },
 "nbformat": 4,
 "nbformat_minor": 4
}
