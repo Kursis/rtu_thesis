{
 "cells": [
  {
   "cell_type": "code",
   "execution_count": 73,
   "metadata": {},
   "outputs": [],
   "source": [
    "import pandas as pd\n",
    "import seaborn as sns\n",
    "import numpy as np\n",
    "import matplotlib.pyplot as plt\n",
    "pd.options.mode.chained_assignment = None"
   ]
  },
  {
   "cell_type": "code",
   "execution_count": 90,
   "metadata": {},
   "outputs": [],
   "source": [
    "test = case3_1.query(f'''\n",
    "        model == \"RandomForestRegressor\" and \\\n",
    "        imp_type != \"pps\" and dataset == \"boston\"\\\n",
    "                ''')"
   ]
  },
  {
   "cell_type": "code",
   "execution_count": 119,
   "metadata": {},
   "outputs": [
    {
     "data": {
      "text/html": [
       "<div>\n",
       "<style scoped>\n",
       "    .dataframe tbody tr th:only-of-type {\n",
       "        vertical-align: middle;\n",
       "    }\n",
       "\n",
       "    .dataframe tbody tr th {\n",
       "        vertical-align: top;\n",
       "    }\n",
       "\n",
       "    .dataframe thead th {\n",
       "        text-align: right;\n",
       "    }\n",
       "</style>\n",
       "<table border=\"1\" class=\"dataframe\">\n",
       "  <thead>\n",
       "    <tr style=\"text-align: right;\">\n",
       "      <th></th>\n",
       "      <th>iteration</th>\n",
       "      <th>dropped_feature</th>\n",
       "      <th>feat_ind</th>\n",
       "      <th>feat_name</th>\n",
       "      <th>mse_train</th>\n",
       "      <th>mse_test</th>\n",
       "      <th>model</th>\n",
       "      <th>imp_type</th>\n",
       "      <th>dataset</th>\n",
       "      <th>random_state</th>\n",
       "      <th>...</th>\n",
       "      <th>f_cnt_10perc</th>\n",
       "      <th>f_cnt_20perc</th>\n",
       "      <th>f_cnt_30perc</th>\n",
       "      <th>mse_delta</th>\n",
       "      <th>mse_perc</th>\n",
       "      <th>feature_cnt</th>\n",
       "      <th>pp_coef</th>\n",
       "      <th>max_perc</th>\n",
       "      <th>feature_dropped</th>\n",
       "      <th>feature_dropped_perc</th>\n",
       "    </tr>\n",
       "  </thead>\n",
       "  <tbody>\n",
       "    <tr>\n",
       "      <th>0</th>\n",
       "      <td>0</td>\n",
       "      <td>full_set</td>\n",
       "      <td>1</td>\n",
       "      <td>ZN</td>\n",
       "      <td>1.363997</td>\n",
       "      <td>14.497125</td>\n",
       "      <td>RandomForestRegressor</td>\n",
       "      <td>gini</td>\n",
       "      <td>boston</td>\n",
       "      <td>0</td>\n",
       "      <td>...</td>\n",
       "      <td>1</td>\n",
       "      <td>3</td>\n",
       "      <td>4</td>\n",
       "      <td>0.000000</td>\n",
       "      <td>0.000000</td>\n",
       "      <td>13</td>\n",
       "      <td>1.000000</td>\n",
       "      <td>0.053891</td>\n",
       "      <td>0</td>\n",
       "      <td>0.00</td>\n",
       "    </tr>\n",
       "    <tr>\n",
       "      <th>1</th>\n",
       "      <td>1</td>\n",
       "      <td>ZN</td>\n",
       "      <td>3</td>\n",
       "      <td>CHAS</td>\n",
       "      <td>1.364141</td>\n",
       "      <td>13.912701</td>\n",
       "      <td>RandomForestRegressor</td>\n",
       "      <td>gini</td>\n",
       "      <td>boston</td>\n",
       "      <td>0</td>\n",
       "      <td>...</td>\n",
       "      <td>1</td>\n",
       "      <td>3</td>\n",
       "      <td>4</td>\n",
       "      <td>0.584424</td>\n",
       "      <td>0.040313</td>\n",
       "      <td>12</td>\n",
       "      <td>1.042007</td>\n",
       "      <td>0.053891</td>\n",
       "      <td>1</td>\n",
       "      <td>0.08</td>\n",
       "    </tr>\n",
       "    <tr>\n",
       "      <th>2</th>\n",
       "      <td>2</td>\n",
       "      <td>CHAS</td>\n",
       "      <td>8</td>\n",
       "      <td>RAD</td>\n",
       "      <td>1.394400</td>\n",
       "      <td>14.362875</td>\n",
       "      <td>RandomForestRegressor</td>\n",
       "      <td>gini</td>\n",
       "      <td>boston</td>\n",
       "      <td>0</td>\n",
       "      <td>...</td>\n",
       "      <td>1</td>\n",
       "      <td>3</td>\n",
       "      <td>4</td>\n",
       "      <td>0.134251</td>\n",
       "      <td>0.009261</td>\n",
       "      <td>11</td>\n",
       "      <td>1.009347</td>\n",
       "      <td>0.053891</td>\n",
       "      <td>2</td>\n",
       "      <td>0.15</td>\n",
       "    </tr>\n",
       "    <tr>\n",
       "      <th>3</th>\n",
       "      <td>3</td>\n",
       "      <td>RAD</td>\n",
       "      <td>2</td>\n",
       "      <td>INDUS</td>\n",
       "      <td>1.334608</td>\n",
       "      <td>13.748990</td>\n",
       "      <td>RandomForestRegressor</td>\n",
       "      <td>gini</td>\n",
       "      <td>boston</td>\n",
       "      <td>0</td>\n",
       "      <td>...</td>\n",
       "      <td>1</td>\n",
       "      <td>3</td>\n",
       "      <td>4</td>\n",
       "      <td>0.748135</td>\n",
       "      <td>0.051606</td>\n",
       "      <td>10</td>\n",
       "      <td>1.054414</td>\n",
       "      <td>0.053891</td>\n",
       "      <td>3</td>\n",
       "      <td>0.23</td>\n",
       "    </tr>\n",
       "    <tr>\n",
       "      <th>4</th>\n",
       "      <td>4</td>\n",
       "      <td>INDUS</td>\n",
       "      <td>11</td>\n",
       "      <td>B</td>\n",
       "      <td>1.403627</td>\n",
       "      <td>13.715857</td>\n",
       "      <td>RandomForestRegressor</td>\n",
       "      <td>gini</td>\n",
       "      <td>boston</td>\n",
       "      <td>0</td>\n",
       "      <td>...</td>\n",
       "      <td>1</td>\n",
       "      <td>3</td>\n",
       "      <td>4</td>\n",
       "      <td>0.781268</td>\n",
       "      <td>0.053891</td>\n",
       "      <td>9</td>\n",
       "      <td>1.056961</td>\n",
       "      <td>0.053891</td>\n",
       "      <td>4</td>\n",
       "      <td>0.31</td>\n",
       "    </tr>\n",
       "    <tr>\n",
       "      <th>5</th>\n",
       "      <td>5</td>\n",
       "      <td>B</td>\n",
       "      <td>6</td>\n",
       "      <td>AGE</td>\n",
       "      <td>1.381084</td>\n",
       "      <td>14.348363</td>\n",
       "      <td>RandomForestRegressor</td>\n",
       "      <td>gini</td>\n",
       "      <td>boston</td>\n",
       "      <td>0</td>\n",
       "      <td>...</td>\n",
       "      <td>1</td>\n",
       "      <td>3</td>\n",
       "      <td>4</td>\n",
       "      <td>0.148763</td>\n",
       "      <td>0.010262</td>\n",
       "      <td>8</td>\n",
       "      <td>1.010368</td>\n",
       "      <td>0.053891</td>\n",
       "      <td>5</td>\n",
       "      <td>0.38</td>\n",
       "    </tr>\n",
       "    <tr>\n",
       "      <th>6</th>\n",
       "      <td>6</td>\n",
       "      <td>AGE</td>\n",
       "      <td>4</td>\n",
       "      <td>NOX</td>\n",
       "      <td>1.352943</td>\n",
       "      <td>14.582610</td>\n",
       "      <td>RandomForestRegressor</td>\n",
       "      <td>gini</td>\n",
       "      <td>boston</td>\n",
       "      <td>0</td>\n",
       "      <td>...</td>\n",
       "      <td>1</td>\n",
       "      <td>3</td>\n",
       "      <td>4</td>\n",
       "      <td>-0.085485</td>\n",
       "      <td>-0.005897</td>\n",
       "      <td>7</td>\n",
       "      <td>0.994138</td>\n",
       "      <td>0.053891</td>\n",
       "      <td>6</td>\n",
       "      <td>0.46</td>\n",
       "    </tr>\n",
       "    <tr>\n",
       "      <th>7</th>\n",
       "      <td>7</td>\n",
       "      <td>NOX</td>\n",
       "      <td>9</td>\n",
       "      <td>TAX</td>\n",
       "      <td>1.458686</td>\n",
       "      <td>15.295732</td>\n",
       "      <td>RandomForestRegressor</td>\n",
       "      <td>gini</td>\n",
       "      <td>boston</td>\n",
       "      <td>0</td>\n",
       "      <td>...</td>\n",
       "      <td>1</td>\n",
       "      <td>3</td>\n",
       "      <td>4</td>\n",
       "      <td>-0.798606</td>\n",
       "      <td>-0.055087</td>\n",
       "      <td>6</td>\n",
       "      <td>0.947789</td>\n",
       "      <td>0.053891</td>\n",
       "      <td>7</td>\n",
       "      <td>0.54</td>\n",
       "    </tr>\n",
       "    <tr>\n",
       "      <th>8</th>\n",
       "      <td>8</td>\n",
       "      <td>TAX</td>\n",
       "      <td>10</td>\n",
       "      <td>PTRATIO</td>\n",
       "      <td>1.553945</td>\n",
       "      <td>15.605658</td>\n",
       "      <td>RandomForestRegressor</td>\n",
       "      <td>gini</td>\n",
       "      <td>boston</td>\n",
       "      <td>0</td>\n",
       "      <td>...</td>\n",
       "      <td>1</td>\n",
       "      <td>3</td>\n",
       "      <td>4</td>\n",
       "      <td>-1.108533</td>\n",
       "      <td>-0.076466</td>\n",
       "      <td>5</td>\n",
       "      <td>0.928966</td>\n",
       "      <td>0.053891</td>\n",
       "      <td>8</td>\n",
       "      <td>0.62</td>\n",
       "    </tr>\n",
       "    <tr>\n",
       "      <th>9</th>\n",
       "      <td>9</td>\n",
       "      <td>PTRATIO</td>\n",
       "      <td>7</td>\n",
       "      <td>DIS</td>\n",
       "      <td>1.746861</td>\n",
       "      <td>15.630161</td>\n",
       "      <td>RandomForestRegressor</td>\n",
       "      <td>gini</td>\n",
       "      <td>boston</td>\n",
       "      <td>0</td>\n",
       "      <td>...</td>\n",
       "      <td>1</td>\n",
       "      <td>3</td>\n",
       "      <td>4</td>\n",
       "      <td>-1.133036</td>\n",
       "      <td>-0.078156</td>\n",
       "      <td>4</td>\n",
       "      <td>0.927510</td>\n",
       "      <td>0.053891</td>\n",
       "      <td>9</td>\n",
       "      <td>0.69</td>\n",
       "    </tr>\n",
       "    <tr>\n",
       "      <th>10</th>\n",
       "      <td>10</td>\n",
       "      <td>DIS</td>\n",
       "      <td>0</td>\n",
       "      <td>CRIM</td>\n",
       "      <td>1.946376</td>\n",
       "      <td>19.433521</td>\n",
       "      <td>RandomForestRegressor</td>\n",
       "      <td>gini</td>\n",
       "      <td>boston</td>\n",
       "      <td>0</td>\n",
       "      <td>...</td>\n",
       "      <td>1</td>\n",
       "      <td>3</td>\n",
       "      <td>4</td>\n",
       "      <td>-4.936396</td>\n",
       "      <td>-0.340509</td>\n",
       "      <td>3</td>\n",
       "      <td>0.745986</td>\n",
       "      <td>0.053891</td>\n",
       "      <td>10</td>\n",
       "      <td>0.77</td>\n",
       "    </tr>\n",
       "    <tr>\n",
       "      <th>11</th>\n",
       "      <td>11</td>\n",
       "      <td>CRIM</td>\n",
       "      <td>12</td>\n",
       "      <td>LSTAT</td>\n",
       "      <td>2.753055</td>\n",
       "      <td>24.787006</td>\n",
       "      <td>RandomForestRegressor</td>\n",
       "      <td>gini</td>\n",
       "      <td>boston</td>\n",
       "      <td>0</td>\n",
       "      <td>...</td>\n",
       "      <td>1</td>\n",
       "      <td>3</td>\n",
       "      <td>4</td>\n",
       "      <td>-10.289880</td>\n",
       "      <td>-0.709788</td>\n",
       "      <td>2</td>\n",
       "      <td>0.584868</td>\n",
       "      <td>0.053891</td>\n",
       "      <td>11</td>\n",
       "      <td>0.85</td>\n",
       "    </tr>\n",
       "  </tbody>\n",
       "</table>\n",
       "<p>12 rows × 23 columns</p>\n",
       "</div>"
      ],
      "text/plain": [
       "    iteration dropped_feature  feat_ind feat_name  mse_train   mse_test  \\\n",
       "0           0        full_set         1        ZN   1.363997  14.497125   \n",
       "1           1              ZN         3      CHAS   1.364141  13.912701   \n",
       "2           2            CHAS         8       RAD   1.394400  14.362875   \n",
       "3           3             RAD         2     INDUS   1.334608  13.748990   \n",
       "4           4           INDUS        11         B   1.403627  13.715857   \n",
       "5           5               B         6       AGE   1.381084  14.348363   \n",
       "6           6             AGE         4       NOX   1.352943  14.582610   \n",
       "7           7             NOX         9       TAX   1.458686  15.295732   \n",
       "8           8             TAX        10   PTRATIO   1.553945  15.605658   \n",
       "9           9         PTRATIO         7       DIS   1.746861  15.630161   \n",
       "10         10             DIS         0      CRIM   1.946376  19.433521   \n",
       "11         11            CRIM        12     LSTAT   2.753055  24.787006   \n",
       "\n",
       "                    model imp_type dataset  random_state  ...  f_cnt_10perc  \\\n",
       "0   RandomForestRegressor     gini  boston             0  ...             1   \n",
       "1   RandomForestRegressor     gini  boston             0  ...             1   \n",
       "2   RandomForestRegressor     gini  boston             0  ...             1   \n",
       "3   RandomForestRegressor     gini  boston             0  ...             1   \n",
       "4   RandomForestRegressor     gini  boston             0  ...             1   \n",
       "5   RandomForestRegressor     gini  boston             0  ...             1   \n",
       "6   RandomForestRegressor     gini  boston             0  ...             1   \n",
       "7   RandomForestRegressor     gini  boston             0  ...             1   \n",
       "8   RandomForestRegressor     gini  boston             0  ...             1   \n",
       "9   RandomForestRegressor     gini  boston             0  ...             1   \n",
       "10  RandomForestRegressor     gini  boston             0  ...             1   \n",
       "11  RandomForestRegressor     gini  boston             0  ...             1   \n",
       "\n",
       "    f_cnt_20perc  f_cnt_30perc  mse_delta  mse_perc  feature_cnt   pp_coef  \\\n",
       "0              3             4   0.000000  0.000000           13  1.000000   \n",
       "1              3             4   0.584424  0.040313           12  1.042007   \n",
       "2              3             4   0.134251  0.009261           11  1.009347   \n",
       "3              3             4   0.748135  0.051606           10  1.054414   \n",
       "4              3             4   0.781268  0.053891            9  1.056961   \n",
       "5              3             4   0.148763  0.010262            8  1.010368   \n",
       "6              3             4  -0.085485 -0.005897            7  0.994138   \n",
       "7              3             4  -0.798606 -0.055087            6  0.947789   \n",
       "8              3             4  -1.108533 -0.076466            5  0.928966   \n",
       "9              3             4  -1.133036 -0.078156            4  0.927510   \n",
       "10             3             4  -4.936396 -0.340509            3  0.745986   \n",
       "11             3             4 -10.289880 -0.709788            2  0.584868   \n",
       "\n",
       "    max_perc  feature_dropped  feature_dropped_perc  \n",
       "0   0.053891                0                  0.00  \n",
       "1   0.053891                1                  0.08  \n",
       "2   0.053891                2                  0.15  \n",
       "3   0.053891                3                  0.23  \n",
       "4   0.053891                4                  0.31  \n",
       "5   0.053891                5                  0.38  \n",
       "6   0.053891                6                  0.46  \n",
       "7   0.053891                7                  0.54  \n",
       "8   0.053891                8                  0.62  \n",
       "9   0.053891                9                  0.69  \n",
       "10  0.053891               10                  0.77  \n",
       "11  0.053891               11                  0.85  \n",
       "\n",
       "[12 rows x 23 columns]"
      ]
     },
     "execution_count": 119,
     "metadata": {},
     "output_type": "execute_result"
    }
   ],
   "source": [
    "test.head(12)"
   ]
  },
  {
   "cell_type": "code",
   "execution_count": 117,
   "metadata": {},
   "outputs": [
    {
     "data": {
      "text/plain": [
       "<matplotlib.lines.Line2D at 0x7f153d2a4940>"
      ]
     },
     "execution_count": 117,
     "metadata": {},
     "output_type": "execute_result"
    },
    {
     "data": {
      "image/png": "[encoded data removed]",
      "text/plain": [
       "<Figure size 432x288 with 1 Axes>"
      ]
     },
     "metadata": {
      "needs_background": "light"
     },
     "output_type": "display_data"
    }
   ],
   "source": [
    "case3_1 = df_full\n",
    "case3_1 = case3_1.drop_duplicates()\n",
    "case3_1['feature_dropped_perc'] = case3_1.feature_dropped_perc.round(decimals=2)\n",
    "\n",
    "case3_1\n",
    "plot = sns.lineplot(x='iteration', y='mse_test', hue='dataset', ci=0,\n",
    "            data=case3_1.query(f'''\n",
    "        model == \"RandomForestRegressor\" and imp_type == \"gini\" and \\\n",
    "        imp_type != \"pps\" and dataset == \"boston\" and data_split == 0 and random_state == 0\\\n",
    "                ''')\n",
    "            )\n",
    "plot.axhline(14.497, 0,1, linewidth=1.5, color='r')\n",
    "plot.axvline(11, 0,1, linewidth=1.5, color='g')\n",
    "# plot.axvline(0.9, 0,1, linewidth=1, color='b')"
   ]
  },
  {
   "cell_type": "code",
   "execution_count": 120,
   "metadata": {},
   "outputs": [],
   "source": [
    "# plot.save\n",
    "fig = plot.get_figure()\n",
    "\n",
    "fig.savefig('prezentācija2.png', dpi=300)"
   ]
  },
  {
   "cell_type": "code",
   "execution_count": 74,
   "metadata": {},
   "outputs": [],
   "source": [
    "# # old stuff\n",
    "\n",
    "# df1 = pd.read_csv('regression_real_data_ds0_7_rs10_big.csv')\n",
    "\n",
    "# df2 = pd.read_csv('regression_real_data_ds6_rs10_2021-Apr-12-10:46:10.csv')\n",
    "\n",
    "# df3 = pd.concat([df1, df2])\n",
    "\n",
    "# df3.to_csv('regression_real_data_ds0_9_rs10_small.csv',index = False)"
   ]
  },
  {
   "cell_type": "code",
   "execution_count": 75,
   "metadata": {},
   "outputs": [],
   "source": [
    "# plot = sns.lineplot(x='iteration', y='mse_test', hue='imp_type', ci=95,\n",
    "#             data=df.query(f'''\n",
    "#         model == \"RandomForestRegressor\" and \\\n",
    "#         imp_type == \"gini\" and data_split == 0 and \\\n",
    "#         dataset == \"boston\" and random_state == 0 \n",
    "#                 ''')\n",
    "#             )"
   ]
  },
  {
   "cell_type": "code",
   "execution_count": 76,
   "metadata": {},
   "outputs": [],
   "source": [
    "model = \"RandomForestRegressor\"\n",
    "df = pd.read_csv('regression_real_data_ds0_9_rs10_small.csv')\n",
    "init_shape = df.shape\n",
    "df = df.query(f'model == \"{model}\"')\n",
    "filtered_shape = df.shape"
   ]
  },
  {
   "cell_type": "code",
   "execution_count": 27,
   "metadata": {},
   "outputs": [],
   "source": [
    "# pretty_repr = ['iteration', 'dropped_feature', 'feat_name', 'mse_train',\n",
    "#        'mse_test', 'model', 'imp_type', 'dataset', 'random_state',\n",
    "#        'data_split']\n",
    "# pretty = df[pretty_repr].head(13)\n",
    "\n",
    "# pretty.rename(columns={'random_state': 'model_seed',\n",
    "#                         'data_split': 'data_split_seed'})"
   ]
  },
  {
   "cell_type": "code",
   "execution_count": 79,
   "metadata": {},
   "outputs": [
    {
     "data": {
      "image/png": "[encoded data removed]",
      "text/plain": [
       "<Figure size 432x288 with 1 Axes>"
      ]
     },
     "metadata": {
      "needs_background": "light"
     },
     "output_type": "display_data"
    }
   ],
   "source": [
    "# pretty = df\n",
    "# pretty['imp_type'] = pretty.imp_type.str.replace('gini', 'kritērija guvums')\n",
    "# pretty['imp_type'] = pretty.imp_type.str.replace('pps', 'paredzošā spēka mērs')\n",
    "# pretty['imp_type'] = pretty.imp_type.str\n",
    "# pretty = pretty.rename(columns={\n",
    "#                        'mse_test': 'vidējā kvadrātiskā kļūda',\n",
    "#                        'imp_type': 'metode',\n",
    "#                        'iteration': 'iterācija'}\n",
    "#                       )\n",
    "# plot = sns.lineplot(x='iterācija', y='vidējā kvadrātiskā kļūda', \n",
    "#                     hue='metode', ci=0,\n",
    "#             data=pretty.query(f'''\n",
    "#         model == \"RandomForestRegressor\" and \\\n",
    "#         metode == [\"kritērija guvums\", \"paredzošā spēka mērs\"] and dataset == \"boston\" and \\\n",
    "#         data_split == 0 and random_state == 0''')\n",
    "#             )\n"
   ]
  },
  {
   "cell_type": "code",
   "execution_count": 69,
   "metadata": {},
   "outputs": [],
   "source": [
    "# pretty_repr = ['iteration', 'dropped_feature', 'feat_name', 'mse_train',\n",
    "#        'mse_test', 'pp_coef', 'model', 'imp_type', 'dataset', 'random_state',\n",
    "#        'data_split']\n",
    "# pretty = df_full[pretty_repr].head(13)\n",
    "\n",
    "# pretty = pretty.rename(columns={'random_state': 'model_seed',\n",
    "#                        'data_split': 'data_split_seed',\n",
    "#                        'pp_coef': 'predictive_power'})"
   ]
  },
  {
   "cell_type": "code",
   "execution_count": 72,
   "metadata": {},
   "outputs": [],
   "source": [
    "# fig = plot.get_figure()\n",
    "\n",
    "# fig.savefig('prezentācija.png', dpi=300)"
   ]
  },
  {
   "cell_type": "code",
   "execution_count": 7,
   "metadata": {},
   "outputs": [
    {
     "data": {
      "text/plain": [
       "((604800, 11), (201600, 11))"
      ]
     },
     "execution_count": 7,
     "metadata": {},
     "output_type": "execute_result"
    }
   ],
   "source": [
    "init_shape, filtered_shape"
   ]
  },
  {
   "cell_type": "code",
   "execution_count": 9,
   "metadata": {},
   "outputs": [
    {
     "data": {
      "text/plain": [
       "(201600, 11)"
      ]
     },
     "execution_count": 9,
     "metadata": {},
     "output_type": "execute_result"
    }
   ],
   "source": [
    "original_cols = df.columns.tolist()\n",
    "original_shape = df.shape; original_shape"
   ]
  },
  {
   "cell_type": "code",
   "execution_count": 10,
   "metadata": {},
   "outputs": [
    {
     "data": {
      "text/plain": [
       "((201600, 11), (201600, 12))"
      ]
     },
     "execution_count": 10,
     "metadata": {},
     "output_type": "execute_result"
    }
   ],
   "source": [
    "# add global metric minima column - init_mse_test\n",
    "# idx == key, \n",
    "# cols - idx == cols to add\n",
    "cols = ['dataset', 'random_state', 'data_split', 'model', 'imp_type', 'mse_test']\n",
    "idx = ['dataset', 'random_state', 'data_split', 'model', 'imp_type']\n",
    "\n",
    "init_metric = df.query('dropped_feature == \"full_set\"')\n",
    "init_metric = init_metric.groupby(idx).mse_test.max()\n",
    "init_metric = init_metric.rename('init_mse_test')\n",
    "\n",
    "# merge into original df\n",
    "df_full = pd.merge(df, init_metric, on=idx, how='inner')\n",
    "original_shape, df_full.shape"
   ]
  },
  {
   "cell_type": "code",
   "execution_count": 11,
   "metadata": {},
   "outputs": [
    {
     "data": {
      "text/plain": [
       "((201600, 11), (201600, 16))"
      ]
     },
     "execution_count": 11,
     "metadata": {},
     "output_type": "execute_result"
    }
   ],
   "source": [
    "# add columns related to {max, curr} feature counts, feature_count relative percentages\n",
    "# idx == key \n",
    "# cols - idx == cols to add\n",
    "\n",
    "cols = ['dataset', 'iteration']\n",
    "idx = ['dataset']\n",
    "max_feature_cnt = df[cols]\n",
    "max_feature_cnt = max_feature_cnt.groupby(idx).max() + 1\n",
    "\n",
    "max_feature_cnt['f_cnt_10perc'] = np.round((max_feature_cnt.iteration * 0.1)).astype(int)\n",
    "max_feature_cnt['f_cnt_20perc'] = np.round((max_feature_cnt.iteration * 0.2)).astype(int)\n",
    "max_feature_cnt['f_cnt_30perc'] = np.round((max_feature_cnt.iteration * 0.3)).astype(int)\n",
    "max_feature_cnt = max_feature_cnt.rename(columns={'iteration':'max_feature_cnt'})\n",
    "\n",
    "# merge into original df\n",
    "df_full = pd.merge(df_full, max_feature_cnt, on=idx, how='inner')\n",
    "original_shape, df_full.shape"
   ]
  },
  {
   "cell_type": "code",
   "execution_count": 12,
   "metadata": {},
   "outputs": [
    {
     "data": {
      "text/plain": [
       "((201600, 11), (201600, 21))"
      ]
     },
     "execution_count": 12,
     "metadata": {},
     "output_type": "execute_result"
    }
   ],
   "source": [
    "df_full['mse_delta'] = df_full.init_mse_test - df_full.mse_test\n",
    "df_full['mse_perc'] = df_full.mse_delta / df_full.init_mse_test\n",
    "df_full['feature_cnt'] = df_full.max_feature_cnt - df_full.iteration\n",
    "df_full['pp_coef'] = df_full.init_mse_test / df_full.mse_test\n",
    "# df_full['pp_coef'] = df_full.init_mse_test / df_full.mse_test\n",
    "\n",
    "# max_perc grouping\n",
    "grouping = ['dataset', 'random_state', 'data_split', 'model', 'imp_type']\n",
    "\n",
    "# select all non-base models\n",
    "max_perc = df_full.query('iteration > 0')\n",
    "max_perc = max_perc.groupby(grouping).mse_perc.max()\n",
    "max_perc = max_perc.rename('max_perc')\n",
    "\n",
    "df_full = pd.merge(df_full, max_perc, on=grouping, how='inner')\n",
    "original_shape, df_full.shape"
   ]
  },
  {
   "cell_type": "code",
   "execution_count": 13,
   "metadata": {},
   "outputs": [],
   "source": [
    "# grouping = ['dataset', 'random_state', 'data_split', 'model', 'imp_type']\n",
    "\n",
    "# max_perc = df_full.query('iteration > 0')\n",
    "# max_perc = max_perc.groupby(grouping).mse_perc.max()\n",
    "# max_perc = max_perc.rename('max_perc')\n",
    "\n",
    "# df_full = df_full.join(max_perc, on=grouping)"
   ]
  },
  {
   "cell_type": "code",
   "execution_count": 14,
   "metadata": {},
   "outputs": [],
   "source": [
    "df_full['feature_dropped'] =  df_full.max_feature_cnt - df_full.feature_cnt\n",
    "df_full['feature_dropped_perc'] = (1 - (df_full.max_feature_cnt - df_full.feature_dropped) \n",
    "                                   / df_full.max_feature_cnt)"
   ]
  },
  {
   "cell_type": "code",
   "execution_count": 15,
   "metadata": {},
   "outputs": [],
   "source": [
    "repr_lst = ['iteration', 'mse_test'] + df_full.columns[5:].to_list()"
   ]
  },
  {
   "cell_type": "code",
   "execution_count": 16,
   "metadata": {},
   "outputs": [],
   "source": [
    "df_res = df_full[repr_lst]"
   ]
  },
  {
   "cell_type": "code",
   "execution_count": 17,
   "metadata": {},
   "outputs": [
    {
     "data": {
      "text/html": [
       "<div>\n",
       "<style scoped>\n",
       "    .dataframe tbody tr th:only-of-type {\n",
       "        vertical-align: middle;\n",
       "    }\n",
       "\n",
       "    .dataframe tbody tr th {\n",
       "        vertical-align: top;\n",
       "    }\n",
       "\n",
       "    .dataframe thead th {\n",
       "        text-align: right;\n",
       "    }\n",
       "</style>\n",
       "<table border=\"1\" class=\"dataframe\">\n",
       "  <thead>\n",
       "    <tr style=\"text-align: right;\">\n",
       "      <th></th>\n",
       "      <th>iteration</th>\n",
       "      <th>mse_test</th>\n",
       "      <th>mse_test</th>\n",
       "      <th>model</th>\n",
       "      <th>imp_type</th>\n",
       "      <th>dataset</th>\n",
       "      <th>random_state</th>\n",
       "      <th>data_split</th>\n",
       "      <th>init_mse_test</th>\n",
       "      <th>max_feature_cnt</th>\n",
       "      <th>f_cnt_10perc</th>\n",
       "      <th>f_cnt_20perc</th>\n",
       "      <th>f_cnt_30perc</th>\n",
       "      <th>mse_delta</th>\n",
       "      <th>mse_perc</th>\n",
       "      <th>feature_cnt</th>\n",
       "      <th>pp_coef</th>\n",
       "      <th>max_perc</th>\n",
       "      <th>feature_dropped</th>\n",
       "      <th>feature_dropped_perc</th>\n",
       "    </tr>\n",
       "  </thead>\n",
       "  <tbody>\n",
       "    <tr>\n",
       "      <th>0</th>\n",
       "      <td>0</td>\n",
       "      <td>1.449713e+01</td>\n",
       "      <td>1.449713e+01</td>\n",
       "      <td>RandomForestRegressor</td>\n",
       "      <td>gini</td>\n",
       "      <td>boston</td>\n",
       "      <td>0</td>\n",
       "      <td>1</td>\n",
       "      <td>1.449713e+01</td>\n",
       "      <td>13</td>\n",
       "      <td>1</td>\n",
       "      <td>3</td>\n",
       "      <td>4</td>\n",
       "      <td>0.000000e+00</td>\n",
       "      <td>0.000000</td>\n",
       "      <td>13</td>\n",
       "      <td>1.000000</td>\n",
       "      <td>0.053891</td>\n",
       "      <td>0</td>\n",
       "      <td>0.000000</td>\n",
       "    </tr>\n",
       "    <tr>\n",
       "      <th>1</th>\n",
       "      <td>1</td>\n",
       "      <td>1.391270e+01</td>\n",
       "      <td>1.391270e+01</td>\n",
       "      <td>RandomForestRegressor</td>\n",
       "      <td>gini</td>\n",
       "      <td>boston</td>\n",
       "      <td>0</td>\n",
       "      <td>1</td>\n",
       "      <td>1.449713e+01</td>\n",
       "      <td>13</td>\n",
       "      <td>1</td>\n",
       "      <td>3</td>\n",
       "      <td>4</td>\n",
       "      <td>5.844240e-01</td>\n",
       "      <td>0.040313</td>\n",
       "      <td>12</td>\n",
       "      <td>1.042007</td>\n",
       "      <td>0.053891</td>\n",
       "      <td>1</td>\n",
       "      <td>0.076923</td>\n",
       "    </tr>\n",
       "    <tr>\n",
       "      <th>2</th>\n",
       "      <td>2</td>\n",
       "      <td>1.436287e+01</td>\n",
       "      <td>1.436287e+01</td>\n",
       "      <td>RandomForestRegressor</td>\n",
       "      <td>gini</td>\n",
       "      <td>boston</td>\n",
       "      <td>0</td>\n",
       "      <td>1</td>\n",
       "      <td>1.449713e+01</td>\n",
       "      <td>13</td>\n",
       "      <td>1</td>\n",
       "      <td>3</td>\n",
       "      <td>4</td>\n",
       "      <td>1.342507e-01</td>\n",
       "      <td>0.009261</td>\n",
       "      <td>11</td>\n",
       "      <td>1.009347</td>\n",
       "      <td>0.053891</td>\n",
       "      <td>2</td>\n",
       "      <td>0.153846</td>\n",
       "    </tr>\n",
       "    <tr>\n",
       "      <th>3</th>\n",
       "      <td>3</td>\n",
       "      <td>1.374899e+01</td>\n",
       "      <td>1.374899e+01</td>\n",
       "      <td>RandomForestRegressor</td>\n",
       "      <td>gini</td>\n",
       "      <td>boston</td>\n",
       "      <td>0</td>\n",
       "      <td>1</td>\n",
       "      <td>1.449713e+01</td>\n",
       "      <td>13</td>\n",
       "      <td>1</td>\n",
       "      <td>3</td>\n",
       "      <td>4</td>\n",
       "      <td>7.481352e-01</td>\n",
       "      <td>0.051606</td>\n",
       "      <td>10</td>\n",
       "      <td>1.054414</td>\n",
       "      <td>0.053891</td>\n",
       "      <td>3</td>\n",
       "      <td>0.230769</td>\n",
       "    </tr>\n",
       "    <tr>\n",
       "      <th>4</th>\n",
       "      <td>4</td>\n",
       "      <td>1.371586e+01</td>\n",
       "      <td>1.371586e+01</td>\n",
       "      <td>RandomForestRegressor</td>\n",
       "      <td>gini</td>\n",
       "      <td>boston</td>\n",
       "      <td>0</td>\n",
       "      <td>1</td>\n",
       "      <td>1.449713e+01</td>\n",
       "      <td>13</td>\n",
       "      <td>1</td>\n",
       "      <td>3</td>\n",
       "      <td>4</td>\n",
       "      <td>7.812684e-01</td>\n",
       "      <td>0.053891</td>\n",
       "      <td>9</td>\n",
       "      <td>1.056961</td>\n",
       "      <td>0.053891</td>\n",
       "      <td>4</td>\n",
       "      <td>0.307692</td>\n",
       "    </tr>\n",
       "    <tr>\n",
       "      <th>...</th>\n",
       "      <td>...</td>\n",
       "      <td>...</td>\n",
       "      <td>...</td>\n",
       "      <td>...</td>\n",
       "      <td>...</td>\n",
       "      <td>...</td>\n",
       "      <td>...</td>\n",
       "      <td>...</td>\n",
       "      <td>...</td>\n",
       "      <td>...</td>\n",
       "      <td>...</td>\n",
       "      <td>...</td>\n",
       "      <td>...</td>\n",
       "      <td>...</td>\n",
       "      <td>...</td>\n",
       "      <td>...</td>\n",
       "      <td>...</td>\n",
       "      <td>...</td>\n",
       "      <td>...</td>\n",
       "      <td>...</td>\n",
       "    </tr>\n",
       "    <tr>\n",
       "      <th>201595</th>\n",
       "      <td>74</td>\n",
       "      <td>4.039373e+09</td>\n",
       "      <td>4.039373e+09</td>\n",
       "      <td>RandomForestRegressor</td>\n",
       "      <td>pps</td>\n",
       "      <td>ames_housing</td>\n",
       "      <td>9</td>\n",
       "      <td>9</td>\n",
       "      <td>6.307423e+08</td>\n",
       "      <td>79</td>\n",
       "      <td>8</td>\n",
       "      <td>16</td>\n",
       "      <td>24</td>\n",
       "      <td>-3.408631e+09</td>\n",
       "      <td>-5.404159</td>\n",
       "      <td>5</td>\n",
       "      <td>0.156149</td>\n",
       "      <td>0.027738</td>\n",
       "      <td>74</td>\n",
       "      <td>0.936709</td>\n",
       "    </tr>\n",
       "    <tr>\n",
       "      <th>201596</th>\n",
       "      <td>75</td>\n",
       "      <td>4.694087e+09</td>\n",
       "      <td>4.694087e+09</td>\n",
       "      <td>RandomForestRegressor</td>\n",
       "      <td>pps</td>\n",
       "      <td>ames_housing</td>\n",
       "      <td>9</td>\n",
       "      <td>9</td>\n",
       "      <td>6.307423e+08</td>\n",
       "      <td>79</td>\n",
       "      <td>8</td>\n",
       "      <td>16</td>\n",
       "      <td>24</td>\n",
       "      <td>-4.063345e+09</td>\n",
       "      <td>-6.442164</td>\n",
       "      <td>4</td>\n",
       "      <td>0.134370</td>\n",
       "      <td>0.027738</td>\n",
       "      <td>75</td>\n",
       "      <td>0.949367</td>\n",
       "    </tr>\n",
       "    <tr>\n",
       "      <th>201597</th>\n",
       "      <td>76</td>\n",
       "      <td>4.870230e+09</td>\n",
       "      <td>4.870230e+09</td>\n",
       "      <td>RandomForestRegressor</td>\n",
       "      <td>pps</td>\n",
       "      <td>ames_housing</td>\n",
       "      <td>9</td>\n",
       "      <td>9</td>\n",
       "      <td>6.307423e+08</td>\n",
       "      <td>79</td>\n",
       "      <td>8</td>\n",
       "      <td>16</td>\n",
       "      <td>24</td>\n",
       "      <td>-4.239488e+09</td>\n",
       "      <td>-6.721427</td>\n",
       "      <td>3</td>\n",
       "      <td>0.129510</td>\n",
       "      <td>0.027738</td>\n",
       "      <td>76</td>\n",
       "      <td>0.962025</td>\n",
       "    </tr>\n",
       "    <tr>\n",
       "      <th>201598</th>\n",
       "      <td>77</td>\n",
       "      <td>5.027057e+09</td>\n",
       "      <td>5.027057e+09</td>\n",
       "      <td>RandomForestRegressor</td>\n",
       "      <td>pps</td>\n",
       "      <td>ames_housing</td>\n",
       "      <td>9</td>\n",
       "      <td>9</td>\n",
       "      <td>6.307423e+08</td>\n",
       "      <td>79</td>\n",
       "      <td>8</td>\n",
       "      <td>16</td>\n",
       "      <td>24</td>\n",
       "      <td>-4.396315e+09</td>\n",
       "      <td>-6.970066</td>\n",
       "      <td>2</td>\n",
       "      <td>0.125469</td>\n",
       "      <td>0.027738</td>\n",
       "      <td>77</td>\n",
       "      <td>0.974684</td>\n",
       "    </tr>\n",
       "    <tr>\n",
       "      <th>201599</th>\n",
       "      <td>78</td>\n",
       "      <td>7.577199e+09</td>\n",
       "      <td>7.577199e+09</td>\n",
       "      <td>RandomForestRegressor</td>\n",
       "      <td>pps</td>\n",
       "      <td>ames_housing</td>\n",
       "      <td>9</td>\n",
       "      <td>9</td>\n",
       "      <td>6.307423e+08</td>\n",
       "      <td>79</td>\n",
       "      <td>8</td>\n",
       "      <td>16</td>\n",
       "      <td>24</td>\n",
       "      <td>-6.946457e+09</td>\n",
       "      <td>-11.013147</td>\n",
       "      <td>1</td>\n",
       "      <td>0.083242</td>\n",
       "      <td>0.027738</td>\n",
       "      <td>78</td>\n",
       "      <td>0.987342</td>\n",
       "    </tr>\n",
       "  </tbody>\n",
       "</table>\n",
       "<p>201600 rows × 20 columns</p>\n",
       "</div>"
      ],
      "text/plain": [
       "        iteration      mse_test      mse_test                  model imp_type  \\\n",
       "0               0  1.449713e+01  1.449713e+01  RandomForestRegressor     gini   \n",
       "1               1  1.391270e+01  1.391270e+01  RandomForestRegressor     gini   \n",
       "2               2  1.436287e+01  1.436287e+01  RandomForestRegressor     gini   \n",
       "3               3  1.374899e+01  1.374899e+01  RandomForestRegressor     gini   \n",
       "4               4  1.371586e+01  1.371586e+01  RandomForestRegressor     gini   \n",
       "...           ...           ...           ...                    ...      ...   \n",
       "201595         74  4.039373e+09  4.039373e+09  RandomForestRegressor      pps   \n",
       "201596         75  4.694087e+09  4.694087e+09  RandomForestRegressor      pps   \n",
       "201597         76  4.870230e+09  4.870230e+09  RandomForestRegressor      pps   \n",
       "201598         77  5.027057e+09  5.027057e+09  RandomForestRegressor      pps   \n",
       "201599         78  7.577199e+09  7.577199e+09  RandomForestRegressor      pps   \n",
       "\n",
       "             dataset  random_state  data_split  init_mse_test  \\\n",
       "0             boston             0           1   1.449713e+01   \n",
       "1             boston             0           1   1.449713e+01   \n",
       "2             boston             0           1   1.449713e+01   \n",
       "3             boston             0           1   1.449713e+01   \n",
       "4             boston             0           1   1.449713e+01   \n",
       "...              ...           ...         ...            ...   \n",
       "201595  ames_housing             9           9   6.307423e+08   \n",
       "201596  ames_housing             9           9   6.307423e+08   \n",
       "201597  ames_housing             9           9   6.307423e+08   \n",
       "201598  ames_housing             9           9   6.307423e+08   \n",
       "201599  ames_housing             9           9   6.307423e+08   \n",
       "\n",
       "        max_feature_cnt  f_cnt_10perc  f_cnt_20perc  f_cnt_30perc  \\\n",
       "0                    13             1             3             4   \n",
       "1                    13             1             3             4   \n",
       "2                    13             1             3             4   \n",
       "3                    13             1             3             4   \n",
       "4                    13             1             3             4   \n",
       "...                 ...           ...           ...           ...   \n",
       "201595               79             8            16            24   \n",
       "201596               79             8            16            24   \n",
       "201597               79             8            16            24   \n",
       "201598               79             8            16            24   \n",
       "201599               79             8            16            24   \n",
       "\n",
       "           mse_delta   mse_perc  feature_cnt   pp_coef  max_perc  \\\n",
       "0       0.000000e+00   0.000000           13  1.000000  0.053891   \n",
       "1       5.844240e-01   0.040313           12  1.042007  0.053891   \n",
       "2       1.342507e-01   0.009261           11  1.009347  0.053891   \n",
       "3       7.481352e-01   0.051606           10  1.054414  0.053891   \n",
       "4       7.812684e-01   0.053891            9  1.056961  0.053891   \n",
       "...              ...        ...          ...       ...       ...   \n",
       "201595 -3.408631e+09  -5.404159            5  0.156149  0.027738   \n",
       "201596 -4.063345e+09  -6.442164            4  0.134370  0.027738   \n",
       "201597 -4.239488e+09  -6.721427            3  0.129510  0.027738   \n",
       "201598 -4.396315e+09  -6.970066            2  0.125469  0.027738   \n",
       "201599 -6.946457e+09 -11.013147            1  0.083242  0.027738   \n",
       "\n",
       "        feature_dropped  feature_dropped_perc  \n",
       "0                     0              0.000000  \n",
       "1                     1              0.076923  \n",
       "2                     2              0.153846  \n",
       "3                     3              0.230769  \n",
       "4                     4              0.307692  \n",
       "...                 ...                   ...  \n",
       "201595               74              0.936709  \n",
       "201596               75              0.949367  \n",
       "201597               76              0.962025  \n",
       "201598               77              0.974684  \n",
       "201599               78              0.987342  \n",
       "\n",
       "[201600 rows x 20 columns]"
      ]
     },
     "execution_count": 17,
     "metadata": {},
     "output_type": "execute_result"
    }
   ],
   "source": [
    "df_res"
   ]
  },
  {
   "cell_type": "code",
   "execution_count": 18,
   "metadata": {},
   "outputs": [],
   "source": [
    "# Case1: Can we get a metric improvement\n",
    "# Case2: No decrease in metric\n",
    "# Case3: Maximum interpretability (use [0.1, 0.2, 0.3] of all features)"
   ]
  },
  {
   "cell_type": "code",
   "execution_count": 19,
   "metadata": {},
   "outputs": [],
   "source": [
    "# import matplotlib.pyplot as plt"
   ]
  },
  {
   "cell_type": "code",
   "execution_count": 20,
   "metadata": {},
   "outputs": [],
   "source": [
    "# plot = sns.barplot(x='imp_type', y='max_perc', ci=95,\n",
    "#             data=case_1, order=case_1.imp_type.unique().tolist()\n",
    "#             )\n",
    "# plot.axhline(y=0.013283, color='r', linestyle='-')"
   ]
  },
  {
   "cell_type": "code",
   "execution_count": 21,
   "metadata": {},
   "outputs": [],
   "source": [
    "# confidence_interval = np.percentile(case_1.query('imp_type == \"gini\"').max_perc,[2.5,97.5])"
   ]
  },
  {
   "cell_type": "code",
   "execution_count": 21,
   "metadata": {},
   "outputs": [
    {
     "data": {
      "text/plain": [
       "Text(0, 0.5, 'best percent gain/loss with feature reduction from base model')"
      ]
     },
     "execution_count": 21,
     "metadata": {},
     "output_type": "execute_result"
    },
    {
     "data": {
      "image/png": "[encoded data removed]",
      "text/plain": [
       "<Figure size 432x288 with 1 Axes>"
      ]
     },
     "metadata": {
      "needs_background": "light"
     },
     "output_type": "display_data"
    }
   ],
   "source": [
    "# Case1: Can we get a metric improvement\n",
    "case_1 = (df_res.query('model == \"RandomForestRegressor\"')\n",
    "    [['imp_type','max_perc','random_state', 'data_split', 'dataset']]); \n",
    "# case_1 = case_1.query('imp_type == \"gini\"')\n",
    "case_1 = case_1.drop_duplicates();\n",
    "\n",
    "\n",
    "# plot case_1 \n",
    "plot = sns.barplot(x='imp_type', y='max_perc', ci=95,\n",
    "            data=case_1, order=case_1.imp_type.unique().tolist()\n",
    "            )\n",
    "plot.set_xticklabels(plot.get_xticklabels(), rotation=45);\n",
    "plot.set_ylabel('best percent gain/loss with feature reduction from base model')"
   ]
  },
  {
   "cell_type": "code",
   "execution_count": 22,
   "metadata": {},
   "outputs": [
    {
     "data": {
      "text/plain": [
       "Text(0, 0.5, 'percent of features dropped without accuracy loss')"
      ]
     },
     "execution_count": 22,
     "metadata": {},
     "output_type": "execute_result"
    },
    {
     "data": {
      "image/png": "[encoded data removed]",
      "text/plain": [
       "<Figure size 432x288 with 1 Axes>"
      ]
     },
     "metadata": {
      "needs_background": "light"
     },
     "output_type": "display_data"
    }
   ],
   "source": [
    "# Case2: No decrease in metric\n",
    "# % features dropped without performance decrease\n",
    "# case_2 = df_full.query('pp_coef > 1')\n",
    "case_2 = df_full\n",
    "# case_2 = case_2.query('mse_perc >= 0')\n",
    "\n",
    "case_2['feature_dropped'] =  case_2.max_feature_cnt - case_2.feature_cnt\n",
    "\n",
    "# \n",
    "case_2['feature_dropped_perc'] = (\n",
    "                                    1 - (case_2.max_feature_cnt - case_2.feature_dropped)\n",
    "                                      / case_2.max_feature_cnt\n",
    "                                    )\n",
    "\n",
    "grouping = ['imp_type', 'random_state', \n",
    "            'data_split', 'dataset']\n",
    "max_dropped = case_2.query('pp_coef > 1')\n",
    "max_dropped = (max_dropped[grouping + ['feature_dropped_perc']]\n",
    "               .groupby(grouping).max())\n",
    "max_dropped = max_dropped.rename(columns={\"feature_dropped_perc\": \"max_dropped\"})\n",
    "\n",
    "case_2 = case_2[grouping].drop_duplicates()\n",
    "case_2 = pd.merge(case_2, max_dropped, on=grouping, how='left')\n",
    "case_2 = case_2.fillna(0)\n",
    "# case_2 = case_2.query('feature_dropped_perc == max_dropped')\n",
    "\n",
    "plot = sns.barplot(x='imp_type', y='max_dropped',\n",
    "            data=case_2, order=case_1.imp_type.unique().tolist()\n",
    "            )\n",
    "plot.set_xticklabels(plot.get_xticklabels(), rotation=45);\n",
    "plot.set_ylabel('percent of features dropped without accuracy loss')"
   ]
  },
  {
   "cell_type": "code",
   "execution_count": 23,
   "metadata": {},
   "outputs": [
    {
     "data": {
      "text/plain": [
       "<matplotlib.lines.Line2D at 0x7fe26bedf730>"
      ]
     },
     "execution_count": 23,
     "metadata": {},
     "output_type": "execute_result"
    },
    {
     "data": {
      "image/png": "[encoded data removed]",
      "text/plain": [
       "<Figure size 432x288 with 1 Axes>"
      ]
     },
     "metadata": {
      "needs_background": "light"
     },
     "output_type": "display_data"
    }
   ],
   "source": [
    "# Case 3: Maximum interpretability (drop [70%, 80%, 90%] of all features, rounded)\n",
    "# Let's check out if there is a general pattern of dataset predictive power (pp) coef decrease\n",
    "# over features dropped percentage\n",
    "\n",
    "# For most datasets we see a significant decrease at around 80%ish features dropped\n",
    "# the one exception is boston dataset which seems to drop in predictive power from 30%ish\n",
    "\n",
    "# choosing to drop 70%, 80%, 90% seems like a reasonable way \n",
    "# to find maximally interpretable models that don't sacrifice the metric significantly\n",
    "\n",
    "case3_1 = df_full[['feature_cnt', 'feature_dropped_perc', 'pp_coef', 'imp_type',\n",
    "                  'random_state', 'data_split', 'dataset', 'model']]\n",
    "case3_1 = case3_1.drop_duplicates()\n",
    "case3_1['feature_dropped_perc'] = case3_1.feature_dropped_perc.round(decimals=2)\n",
    "\n",
    "case3_1\n",
    "plot = sns.lineplot(x='feature_dropped_perc', y='pp_coef', hue='dataset', ci=0,\n",
    "            data=case3_1.query(f'''\n",
    "        model == \"RandomForestRegressor\" and \\\n",
    "        imp_type != \"pps\"\n",
    "                ''')\n",
    "            )\n",
    "plot.axvline(0.7, 0,1, linewidth=1, color='r')\n",
    "plot.axvline(0.8, 0,1, linewidth=1, color='r')\n",
    "plot.axvline(0.9, 0,1, linewidth=1, color='r')"
   ]
  },
  {
   "cell_type": "code",
   "execution_count": 24,
   "metadata": {},
   "outputs": [],
   "source": [
    "sub1 = df_res[df_res.f_cnt_10perc == df_res.feature_cnt]\n",
    "sub2 = df_res[df_res.f_cnt_20perc == df_res.feature_cnt]\n",
    "sub3 = df_res[df_res.f_cnt_30perc == df_res.feature_cnt]"
   ]
  },
  {
   "cell_type": "code",
   "execution_count": 25,
   "metadata": {},
   "outputs": [],
   "source": [
    "case3_2 = pd.concat([sub1, sub2, sub3])"
   ]
  },
  {
   "cell_type": "code",
   "execution_count": 26,
   "metadata": {},
   "outputs": [
    {
     "data": {
      "image/png": "[encoded data removed]",
      "text/plain": [
       "<Figure size 432x288 with 1 Axes>"
      ]
     },
     "metadata": {
      "needs_background": "light"
     },
     "output_type": "display_data"
    }
   ],
   "source": [
    "# 90% dropped\n",
    "plot = sns.barplot(x='imp_type', y='pp_coef', hue='imp_type', ci=95, dodge=False,\n",
    "            data=sub1, order=case_1.imp_type.unique().tolist()\n",
    "            )\n",
    "plot.set_xticklabels(plot.get_xticklabels(), rotation=45);\n",
    "plot.set(ylim=[0,1])\n",
    "plot.legend_.remove()"
   ]
  },
  {
   "cell_type": "code",
   "execution_count": 27,
   "metadata": {},
   "outputs": [
    {
     "data": {
      "image/png": "[encoded data removed]",
      "text/plain": [
       "<Figure size 432x288 with 1 Axes>"
      ]
     },
     "metadata": {
      "needs_background": "light"
     },
     "output_type": "display_data"
    }
   ],
   "source": [
    "# 80% dropped\n",
    "plot = sns.barplot(x='imp_type', y='pp_coef', hue='imp_type', ci=95, dodge=False,\n",
    "            data=sub2, order=sub2.imp_type.unique().tolist()\n",
    "            )\n",
    "plot.set_xticklabels(plot.get_xticklabels(), rotation=45);"
   ]
  },
  {
   "cell_type": "code",
   "execution_count": 28,
   "metadata": {},
   "outputs": [
    {
     "data": {
      "image/png": "[encoded data removed]",
      "text/plain": [
       "<Figure size 432x288 with 1 Axes>"
      ]
     },
     "metadata": {
      "needs_background": "light"
     },
     "output_type": "display_data"
    }
   ],
   "source": [
    "# 70% dropped\n",
    "plot = sns.barplot(x='imp_type', y='pp_coef', hue='imp_type', ci=95, dodge=False,\n",
    "            data=sub3, order=sub3.imp_type.unique().tolist()\n",
    "            )\n",
    "plot.set_xticklabels(plot.get_xticklabels(), rotation=45);"
   ]
  },
  {
   "cell_type": "code",
   "execution_count": 29,
   "metadata": {},
   "outputs": [
    {
     "data": {
      "text/plain": [
       "<seaborn.axisgrid.FacetGrid at 0x7fe26b9fe7f0>"
      ]
     },
     "execution_count": 29,
     "metadata": {},
     "output_type": "execute_result"
    },
    {
     "data": {
      "image/png": "[encoded data removed]",
      "text/plain": [
       "<Figure size 864x216 with 4 Axes>"
      ]
     },
     "metadata": {
      "needs_background": "light"
     },
     "output_type": "display_data"
    }
   ],
   "source": [
    "# Since all of the graphs above are aggregate graphs (all datasets together)\n",
    "# It might be useful to also see the difference between datasets\n",
    "\n",
    "# maybe turn this into a stacked bar chart stacks = [70%, 80%, 90%], pp_coef\n",
    "g = sns.FacetGrid(sub3, col='dataset', hue='imp_type')\n",
    "g.map(sns.barplot,'imp_type', 'pp_coef', ci=95, data=sub3, dodge=False, \n",
    "      order=sub3.imp_type.unique().tolist())\n",
    "g.set_xticklabels(rotation=45)\n",
    "\n",
    "# 70% dropped"
   ]
  },
  {
   "cell_type": "code",
   "execution_count": 30,
   "metadata": {},
   "outputs": [],
   "source": [
    "# plot = sns.lineplot(x='iteration', y='mse_delta', hue='imp_type', ci=95, err_style='band',\n",
    "#             data=df_full.query(f'dataset == \"boston\"')\n",
    "#             )"
   ]
  },
  {
   "cell_type": "code",
   "execution_count": 31,
   "metadata": {},
   "outputs": [],
   "source": [
    "# Case1: Can we get a metric improvement\n",
    "# Case2: No decrease in metric HAS BUGS\n",
    "# Case3: Maximum interpretability (use [0.1, 0.2, 0.3] of all features)"
   ]
  },
  {
   "cell_type": "code",
   "execution_count": 32,
   "metadata": {},
   "outputs": [],
   "source": [
    "# 1 in table\n",
    "var_dropped = case_2.groupby('imp_type').mean().max_dropped"
   ]
  },
  {
   "cell_type": "code",
   "execution_count": 33,
   "metadata": {},
   "outputs": [],
   "source": [
    "# 2 in table\n",
    "model_gain = case_1.groupby('imp_type').mean().max_perc"
   ]
  },
  {
   "cell_type": "code",
   "execution_count": 34,
   "metadata": {},
   "outputs": [],
   "source": [
    "# 3 in table\n",
    "minimal_model_acc = sub2[['imp_type', 'pp_coef']].groupby('imp_type').mean().squeeze()"
   ]
  },
  {
   "cell_type": "code",
   "execution_count": 35,
   "metadata": {},
   "outputs": [],
   "source": [
    "def get_result_table():\n",
    "    # Case1: Can we get a metric improvement\n",
    "    # Case2: No decrease in metric\n",
    "    # Case3: Maximum interpretability (use [0.1, 0.2, 0.3] of all features)\n",
    "    # 1 in table\n",
    "    var_dropped = case_2.groupby('imp_type').mean().max_dropped\n",
    "    model_gain = case_1.groupby('imp_type').mean().max_perc\n",
    "    minimal_model_acc = sub2[['imp_type', 'pp_coef']].groupby('imp_type').mean().squeeze()\n",
    "    \n",
    "    table = pd.DataFrame(\n",
    "    {\n",
    "        'variables_dropped': var_dropped,\n",
    "        'model_gain': model_gain,\n",
    "        'minimal_model_acc': minimal_model_acc\n",
    "    }\n",
    "    )\n",
    "    return table"
   ]
  },
  {
   "cell_type": "code",
   "execution_count": 36,
   "metadata": {},
   "outputs": [
    {
     "data": {
      "text/html": [
       "<div>\n",
       "<style scoped>\n",
       "    .dataframe tbody tr th:only-of-type {\n",
       "        vertical-align: middle;\n",
       "    }\n",
       "\n",
       "    .dataframe tbody tr th {\n",
       "        vertical-align: top;\n",
       "    }\n",
       "\n",
       "    .dataframe thead th {\n",
       "        text-align: right;\n",
       "    }\n",
       "</style>\n",
       "<table border=\"1\" class=\"dataframe\">\n",
       "  <thead>\n",
       "    <tr style=\"text-align: right;\">\n",
       "      <th></th>\n",
       "      <th>variables_dropped</th>\n",
       "      <th>model_gain</th>\n",
       "      <th>minimal_model_acc</th>\n",
       "    </tr>\n",
       "    <tr>\n",
       "      <th>imp_type</th>\n",
       "      <th></th>\n",
       "      <th></th>\n",
       "      <th></th>\n",
       "    </tr>\n",
       "  </thead>\n",
       "  <tbody>\n",
       "    <tr>\n",
       "      <th>f_test</th>\n",
       "      <td>0.357720</td>\n",
       "      <td>0.015202</td>\n",
       "      <td>0.873352</td>\n",
       "    </tr>\n",
       "    <tr>\n",
       "      <th>gini</th>\n",
       "      <td>0.425158</td>\n",
       "      <td>0.013283</td>\n",
       "      <td>0.876925</td>\n",
       "    </tr>\n",
       "    <tr>\n",
       "      <th>kendall</th>\n",
       "      <td>0.357618</td>\n",
       "      <td>0.014272</td>\n",
       "      <td>0.870474</td>\n",
       "    </tr>\n",
       "    <tr>\n",
       "      <th>mutual_info</th>\n",
       "      <td>0.451206</td>\n",
       "      <td>0.020674</td>\n",
       "      <td>0.857763</td>\n",
       "    </tr>\n",
       "    <tr>\n",
       "      <th>pearson</th>\n",
       "      <td>0.357720</td>\n",
       "      <td>0.015202</td>\n",
       "      <td>0.873352</td>\n",
       "    </tr>\n",
       "    <tr>\n",
       "      <th>pimp</th>\n",
       "      <td>0.444751</td>\n",
       "      <td>0.014715</td>\n",
       "      <td>0.889335</td>\n",
       "    </tr>\n",
       "    <tr>\n",
       "      <th>pps</th>\n",
       "      <td>0.055230</td>\n",
       "      <td>-0.004122</td>\n",
       "      <td>0.360075</td>\n",
       "    </tr>\n",
       "    <tr>\n",
       "      <th>shap</th>\n",
       "      <td>0.395182</td>\n",
       "      <td>0.010324</td>\n",
       "      <td>0.804743</td>\n",
       "    </tr>\n",
       "    <tr>\n",
       "      <th>spearman</th>\n",
       "      <td>0.378018</td>\n",
       "      <td>0.015430</td>\n",
       "      <td>0.868580</td>\n",
       "    </tr>\n",
       "  </tbody>\n",
       "</table>\n",
       "</div>"
      ],
      "text/plain": [
       "             variables_dropped  model_gain  minimal_model_acc\n",
       "imp_type                                                     \n",
       "f_test                0.357720    0.015202           0.873352\n",
       "gini                  0.425158    0.013283           0.876925\n",
       "kendall               0.357618    0.014272           0.870474\n",
       "mutual_info           0.451206    0.020674           0.857763\n",
       "pearson               0.357720    0.015202           0.873352\n",
       "pimp                  0.444751    0.014715           0.889335\n",
       "pps                   0.055230   -0.004122           0.360075\n",
       "shap                  0.395182    0.010324           0.804743\n",
       "spearman              0.378018    0.015430           0.868580"
      ]
     },
     "execution_count": 36,
     "metadata": {},
     "output_type": "execute_result"
    }
   ],
   "source": [
    "c = pd.DataFrame(\n",
    "    {\n",
    "        'variables_dropped': var_dropped,\n",
    "        'model_gain': model_gain,\n",
    "        'minimal_model_acc': minimal_model_acc\n",
    "    }\n",
    "); c"
   ]
  },
  {
   "cell_type": "code",
   "execution_count": 37,
   "metadata": {},
   "outputs": [],
   "source": [
    "# c.to_csv(sep = ',')"
   ]
  },
  {
   "cell_type": "code",
   "execution_count": 38,
   "metadata": {},
   "outputs": [
    {
     "data": {
      "text/plain": [
       "Index(['iteration', 'mse_test', 'mse_test', 'model', 'imp_type', 'dataset',\n",
       "       'random_state', 'data_split', 'init_mse_test', 'max_feature_cnt',\n",
       "       'f_cnt_10perc', 'f_cnt_20perc', 'f_cnt_30perc', 'mse_delta', 'mse_perc',\n",
       "       'feature_cnt', 'pp_coef', 'max_perc', 'feature_dropped',\n",
       "       'feature_dropped_perc'],\n",
       "      dtype='object')"
      ]
     },
     "execution_count": 38,
     "metadata": {},
     "output_type": "execute_result"
    }
   ],
   "source": [
    "sub2.columns"
   ]
  },
  {
   "cell_type": "code",
   "execution_count": 39,
   "metadata": {},
   "outputs": [
    {
     "data": {
      "text/html": [
       "<div>\n",
       "<style scoped>\n",
       "    .dataframe tbody tr th:only-of-type {\n",
       "        vertical-align: middle;\n",
       "    }\n",
       "\n",
       "    .dataframe tbody tr th {\n",
       "        vertical-align: top;\n",
       "    }\n",
       "\n",
       "    .dataframe thead th {\n",
       "        text-align: right;\n",
       "    }\n",
       "</style>\n",
       "<table border=\"1\" class=\"dataframe\">\n",
       "  <thead>\n",
       "    <tr style=\"text-align: right;\">\n",
       "      <th></th>\n",
       "      <th>imp_type</th>\n",
       "      <th>max_perc</th>\n",
       "      <th>random_state</th>\n",
       "      <th>data_split</th>\n",
       "      <th>dataset</th>\n",
       "    </tr>\n",
       "  </thead>\n",
       "  <tbody>\n",
       "    <tr>\n",
       "      <th>0</th>\n",
       "      <td>gini</td>\n",
       "      <td>0.053891</td>\n",
       "      <td>0</td>\n",
       "      <td>1</td>\n",
       "      <td>boston</td>\n",
       "    </tr>\n",
       "    <tr>\n",
       "      <th>13</th>\n",
       "      <td>mutual_info</td>\n",
       "      <td>0.029877</td>\n",
       "      <td>0</td>\n",
       "      <td>1</td>\n",
       "      <td>boston</td>\n",
       "    </tr>\n",
       "    <tr>\n",
       "      <th>26</th>\n",
       "      <td>f_test</td>\n",
       "      <td>0.029877</td>\n",
       "      <td>0</td>\n",
       "      <td>1</td>\n",
       "      <td>boston</td>\n",
       "    </tr>\n",
       "    <tr>\n",
       "      <th>39</th>\n",
       "      <td>pimp</td>\n",
       "      <td>0.053891</td>\n",
       "      <td>0</td>\n",
       "      <td>1</td>\n",
       "      <td>boston</td>\n",
       "    </tr>\n",
       "    <tr>\n",
       "      <th>52</th>\n",
       "      <td>shap</td>\n",
       "      <td>0.053891</td>\n",
       "      <td>0</td>\n",
       "      <td>1</td>\n",
       "      <td>boston</td>\n",
       "    </tr>\n",
       "    <tr>\n",
       "      <th>...</th>\n",
       "      <td>...</td>\n",
       "      <td>...</td>\n",
       "      <td>...</td>\n",
       "      <td>...</td>\n",
       "      <td>...</td>\n",
       "    </tr>\n",
       "    <tr>\n",
       "      <th>201205</th>\n",
       "      <td>shap</td>\n",
       "      <td>0.030390</td>\n",
       "      <td>9</td>\n",
       "      <td>9</td>\n",
       "      <td>ames_housing</td>\n",
       "    </tr>\n",
       "    <tr>\n",
       "      <th>201284</th>\n",
       "      <td>pearson</td>\n",
       "      <td>0.032024</td>\n",
       "      <td>9</td>\n",
       "      <td>9</td>\n",
       "      <td>ames_housing</td>\n",
       "    </tr>\n",
       "    <tr>\n",
       "      <th>201363</th>\n",
       "      <td>spearman</td>\n",
       "      <td>0.035528</td>\n",
       "      <td>9</td>\n",
       "      <td>9</td>\n",
       "      <td>ames_housing</td>\n",
       "    </tr>\n",
       "    <tr>\n",
       "      <th>201442</th>\n",
       "      <td>kendall</td>\n",
       "      <td>0.037409</td>\n",
       "      <td>9</td>\n",
       "      <td>9</td>\n",
       "      <td>ames_housing</td>\n",
       "    </tr>\n",
       "    <tr>\n",
       "      <th>201521</th>\n",
       "      <td>pps</td>\n",
       "      <td>0.027738</td>\n",
       "      <td>9</td>\n",
       "      <td>9</td>\n",
       "      <td>ames_housing</td>\n",
       "    </tr>\n",
       "  </tbody>\n",
       "</table>\n",
       "<p>3600 rows × 5 columns</p>\n",
       "</div>"
      ],
      "text/plain": [
       "           imp_type  max_perc  random_state  data_split       dataset\n",
       "0              gini  0.053891             0           1        boston\n",
       "13      mutual_info  0.029877             0           1        boston\n",
       "26           f_test  0.029877             0           1        boston\n",
       "39             pimp  0.053891             0           1        boston\n",
       "52             shap  0.053891             0           1        boston\n",
       "...             ...       ...           ...         ...           ...\n",
       "201205         shap  0.030390             9           9  ames_housing\n",
       "201284      pearson  0.032024             9           9  ames_housing\n",
       "201363     spearman  0.035528             9           9  ames_housing\n",
       "201442      kendall  0.037409             9           9  ames_housing\n",
       "201521          pps  0.027738             9           9  ames_housing\n",
       "\n",
       "[3600 rows x 5 columns]"
      ]
     },
     "execution_count": 39,
     "metadata": {},
     "output_type": "execute_result"
    }
   ],
   "source": [
    "case_1"
   ]
  },
  {
   "cell_type": "code",
   "execution_count": 40,
   "metadata": {},
   "outputs": [],
   "source": [
    "# Case1: Can we get a metric improvement\n",
    "# Case2: No decrease in metric HAS BUGS\n",
    "# Case3: Maximum interpretability (use [0.1, 0.2, 0.3] of all features)\n",
    "\n",
    "result_type = 'regression'\n",
    "case_1.to_csv(f'./results/case1_{result_type}.csv', index=False)\n",
    "case_2.to_csv(f'./results/case2_{result_type}.csv', index=False)\n",
    "sub2[['imp_type','pp_coef', 'random_state', 'data_split', 'dataset']].to_csv(f'./results/case3_{result_type}.csv', index=False)"
   ]
  }
 ],
 "metadata": {
  "kernelspec": {
   "display_name": "Python 3",
   "language": "python",
   "name": "python3"
  },
  "language_info": {
   "codemirror_mode": {
    "name": "ipython",
    "version": 3
   },
   "file_extension": ".py",
   "mimetype": "text/x-python",
   "name": "python",
   "nbconvert_exporter": "python",
   "pygments_lexer": "ipython3",
   "version": "3.8.10"
  }
 },
 "nbformat": 4,
 "nbformat_minor": 4
}
