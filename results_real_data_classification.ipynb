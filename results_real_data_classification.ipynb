{
 "cells": [
  {
   "cell_type": "code",
   "execution_count": 1,
   "metadata": {},
   "outputs": [],
   "source": [
    "import pandas as pd\n",
    "import seaborn as sns\n",
    "import numpy as np\n",
    "pd.options.mode.chained_assignment = None"
   ]
  },
  {
   "cell_type": "code",
   "execution_count": 2,
   "metadata": {},
   "outputs": [],
   "source": [
    "# # old stuff\n",
    "\n",
    "# df1 = pd.read_csv('classification_real_data_ds0_7_rs10.csv')\n",
    "\n",
    "# df2 = pd.read_csv('classification_real_data_2021-Apr-10-16:09:22.csv')\n",
    "\n",
    "# df3 = pd.concat([df1, df2])\n",
    "\n",
    "# df3.to_csv('classification_real_data_ds0_9_rs10.csv',index = False)\n",
    "# df2.data_split.unique()"
   ]
  },
  {
   "cell_type": "code",
   "execution_count": 45,
   "metadata": {},
   "outputs": [],
   "source": [
    "model = \"RandomForestClassifier\"\n",
    "df = pd.read_csv('classification_real_data_ds0_9_rs10_small.csv')\n",
    "init_shape = df.shape\n",
    "df = df.query(f'model == \"{model}\"')\n",
    "filtered_shape = df.shape"
   ]
  },
  {
   "cell_type": "code",
   "execution_count": 46,
   "metadata": {},
   "outputs": [
    {
     "data": {
      "text/plain": [
       "(85500, 13)"
      ]
     },
     "execution_count": 46,
     "metadata": {},
     "output_type": "execute_result"
    }
   ],
   "source": [
    "original_cols = df.columns.tolist()\n",
    "original_shape = df.shape; original_shape"
   ]
  },
  {
   "cell_type": "code",
   "execution_count": 47,
   "metadata": {},
   "outputs": [
    {
     "data": {
      "text/plain": [
       "((85500, 13), (85500, 14))"
      ]
     },
     "execution_count": 47,
     "metadata": {},
     "output_type": "execute_result"
    }
   ],
   "source": [
    "# add global metric minima column - init_mse_test\n",
    "# idx == key, \n",
    "# cols - idx == cols to add\n",
    "cols = ['dataset', 'random_state', 'data_split', 'model', 'imp_type', 'mse_test']\n",
    "idx = ['dataset', 'random_state', 'data_split', 'model', 'imp_type']\n",
    "\n",
    "init_metric = df.query('dropped_feature == \"full_set\"')\n",
    "init_metric = init_metric.groupby(idx).mcc_test.max()\n",
    "init_metric = init_metric.rename('init_mcc_test')\n",
    "\n",
    "# merge into original df\n",
    "df_full = pd.merge(df, init_metric, on=idx, how='inner')\n",
    "original_shape, df_full.shape"
   ]
  },
  {
   "cell_type": "code",
   "execution_count": 48,
   "metadata": {},
   "outputs": [
    {
     "data": {
      "text/plain": [
       "((85500, 13), (85500, 18))"
      ]
     },
     "execution_count": 48,
     "metadata": {},
     "output_type": "execute_result"
    }
   ],
   "source": [
    "# add columns related to {max, curr} feature counts, feature_count relative percentages\n",
    "# idx == key \n",
    "# cols - idx == cols to add\n",
    "\n",
    "cols = ['dataset', 'iteration']\n",
    "idx = ['dataset']\n",
    "max_feature_cnt = df[cols]\n",
    "max_feature_cnt = max_feature_cnt.groupby(idx).max() + 1\n",
    "\n",
    "max_feature_cnt['f_cnt_10perc'] = np.round((max_feature_cnt.iteration * 0.1)).astype(int)\n",
    "max_feature_cnt['f_cnt_20perc'] = np.round((max_feature_cnt.iteration * 0.2)).astype(int)\n",
    "max_feature_cnt['f_cnt_30perc'] = np.round((max_feature_cnt.iteration * 0.3)).astype(int)\n",
    "max_feature_cnt = max_feature_cnt.rename(columns={'iteration':'max_feature_cnt'})\n",
    "\n",
    "# merge into original df\n",
    "df_full = pd.merge(df_full, max_feature_cnt, on=idx, how='inner')\n",
    "original_shape, df_full.shape"
   ]
  },
  {
   "cell_type": "code",
   "execution_count": 7,
   "metadata": {},
   "outputs": [
    {
     "data": {
      "text/plain": [
       "((85500, 13), (85500, 23))"
      ]
     },
     "execution_count": 7,
     "metadata": {},
     "output_type": "execute_result"
    }
   ],
   "source": [
    "df_full['mcc_delta'] = df_full.mcc_test - df_full.init_mcc_test\n",
    "df_full['mcc_perc'] = abs(df_full.mcc_test / df_full.init_mcc_test) -1\n",
    "df_full['feature_cnt'] = df_full.max_feature_cnt - df_full.iteration\n",
    "df_full['pp_coef'] =  df_full.mcc_test / df_full.init_mcc_test\n",
    "\n",
    "# max_perc grouping\n",
    "grouping = ['dataset', 'random_state', 'data_split', 'model', 'imp_type']\n",
    "\n",
    "# select all non-base models\n",
    "max_perc = df_full.query('iteration > 0')\n",
    "max_perc = max_perc.groupby(grouping).mcc_perc.max()\n",
    "max_perc = max_perc.rename('max_perc')\n",
    "\n",
    "df_full = pd.merge(df_full, max_perc, on=grouping, how='inner')\n",
    "original_shape, df_full.shape"
   ]
  },
  {
   "cell_type": "code",
   "execution_count": 8,
   "metadata": {},
   "outputs": [],
   "source": [
    "# df_full.query('dataset ==\"breast_cancer\"')"
   ]
  },
  {
   "cell_type": "code",
   "execution_count": 9,
   "metadata": {},
   "outputs": [],
   "source": [
    "# grouping = ['dataset', 'random_state', 'data_split', 'model', 'imp_type']\n",
    "\n",
    "# max_perc = df_full.query('iteration > 0')\n",
    "# max_perc = max_perc.groupby(grouping).mse_perc.max()\n",
    "# max_perc = max_perc.rename('max_perc')\n",
    "\n",
    "# df_full = df_full.join(max_perc, on=grouping)"
   ]
  },
  {
   "cell_type": "code",
   "execution_count": 10,
   "metadata": {},
   "outputs": [],
   "source": [
    "df_full['feature_dropped'] =  df_full.max_feature_cnt - df_full.feature_cnt\n",
    "df_full['feature_dropped_perc'] = (1 - (df_full.max_feature_cnt - df_full.feature_dropped) \n",
    "                                   / df_full.max_feature_cnt)"
   ]
  },
  {
   "cell_type": "code",
   "execution_count": 11,
   "metadata": {},
   "outputs": [],
   "source": [
    "repr_lst = ['iteration'] + df_full.columns[5:].to_list()"
   ]
  },
  {
   "cell_type": "code",
   "execution_count": 12,
   "metadata": {},
   "outputs": [],
   "source": [
    "df_res = df_full[repr_lst]"
   ]
  },
  {
   "cell_type": "code",
   "execution_count": 13,
   "metadata": {},
   "outputs": [],
   "source": [
    "# Case1: Can we get a metric improvement\n",
    "# Case2: No decrease in metric\n",
    "# Case3: Maximum interpretability (use [0.1, 0.2, 0.3] of all features)"
   ]
  },
  {
   "cell_type": "code",
   "execution_count": 19,
   "metadata": {},
   "outputs": [
    {
     "data": {
      "text/plain": [
       "array(['wine', 'breast_cancer', 'phishing', 'mushroom'], dtype=object)"
      ]
     },
     "execution_count": 19,
     "metadata": {},
     "output_type": "execute_result"
    }
   ],
   "source": [
    "df_res.dataset.unique()"
   ]
  },
  {
   "cell_type": "code",
   "execution_count": 25,
   "metadata": {},
   "outputs": [],
   "source": [
    "test = df_full"
   ]
  },
  {
   "cell_type": "code",
   "execution_count": 40,
   "metadata": {},
   "outputs": [],
   "source": [
    "# test['CUM_CONCAT']=[y.dropped_feature.tolist()[:z+1] for x, y in test.groupby(['model','imp_type', 'dataset','random_state', 'data_split'])for z in range(len(y))]\n",
    "\n",
    "# test.groupby(['model','imp_type', 'dataset','random_state', 'data_split']).dropped_feature.apply(list)[0]"
   ]
  },
  {
   "cell_type": "code",
   "execution_count": 37,
   "metadata": {},
   "outputs": [
    {
     "data": {
      "text/plain": [
       "<pandas.core.groupby.generic.DataFrameGroupBy object at 0x7ff55fda93a0>"
      ]
     },
     "execution_count": 37,
     "metadata": {},
     "output_type": "execute_result"
    }
   ],
   "source": [
    "test.group('')"
   ]
  },
  {
   "cell_type": "code",
   "execution_count": 27,
   "metadata": {},
   "outputs": [
    {
     "data": {
      "text/html": [
       "<div>\n",
       "<style scoped>\n",
       "    .dataframe tbody tr th:only-of-type {\n",
       "        vertical-align: middle;\n",
       "    }\n",
       "\n",
       "    .dataframe tbody tr th {\n",
       "        vertical-align: top;\n",
       "    }\n",
       "\n",
       "    .dataframe thead th {\n",
       "        text-align: right;\n",
       "    }\n",
       "</style>\n",
       "<table border=\"1\" class=\"dataframe\">\n",
       "  <thead>\n",
       "    <tr style=\"text-align: right;\">\n",
       "      <th></th>\n",
       "      <th>iteration</th>\n",
       "      <th>dropped_feature</th>\n",
       "      <th>feat_ind</th>\n",
       "      <th>feat_name</th>\n",
       "      <th>mcc_train</th>\n",
       "      <th>mcc_test</th>\n",
       "      <th>model</th>\n",
       "      <th>imp_type</th>\n",
       "      <th>dataset</th>\n",
       "      <th>random_state</th>\n",
       "      <th>...</th>\n",
       "      <th>f_cnt_10perc</th>\n",
       "      <th>f_cnt_20perc</th>\n",
       "      <th>f_cnt_30perc</th>\n",
       "      <th>mcc_delta</th>\n",
       "      <th>mcc_perc</th>\n",
       "      <th>feature_cnt</th>\n",
       "      <th>pp_coef</th>\n",
       "      <th>max_perc</th>\n",
       "      <th>feature_dropped</th>\n",
       "      <th>feature_dropped_perc</th>\n",
       "    </tr>\n",
       "  </thead>\n",
       "  <tbody>\n",
       "    <tr>\n",
       "      <th>0</th>\n",
       "      <td>0</td>\n",
       "      <td>full_set</td>\n",
       "      <td>7</td>\n",
       "      <td>nonflavanoid_phenols</td>\n",
       "      <td>1.0</td>\n",
       "      <td>1.000000</td>\n",
       "      <td>RandomForestClassifier</td>\n",
       "      <td>gini</td>\n",
       "      <td>wine</td>\n",
       "      <td>0</td>\n",
       "      <td>...</td>\n",
       "      <td>1</td>\n",
       "      <td>3</td>\n",
       "      <td>4</td>\n",
       "      <td>0.000000</td>\n",
       "      <td>0.000000</td>\n",
       "      <td>13</td>\n",
       "      <td>1.000000</td>\n",
       "      <td>0.0</td>\n",
       "      <td>0</td>\n",
       "      <td>0.000000</td>\n",
       "    </tr>\n",
       "    <tr>\n",
       "      <th>1</th>\n",
       "      <td>1</td>\n",
       "      <td>nonflavanoid_phenols</td>\n",
       "      <td>2</td>\n",
       "      <td>ash</td>\n",
       "      <td>1.0</td>\n",
       "      <td>1.000000</td>\n",
       "      <td>RandomForestClassifier</td>\n",
       "      <td>gini</td>\n",
       "      <td>wine</td>\n",
       "      <td>0</td>\n",
       "      <td>...</td>\n",
       "      <td>1</td>\n",
       "      <td>3</td>\n",
       "      <td>4</td>\n",
       "      <td>0.000000</td>\n",
       "      <td>0.000000</td>\n",
       "      <td>12</td>\n",
       "      <td>1.000000</td>\n",
       "      <td>0.0</td>\n",
       "      <td>1</td>\n",
       "      <td>0.076923</td>\n",
       "    </tr>\n",
       "    <tr>\n",
       "      <th>2</th>\n",
       "      <td>2</td>\n",
       "      <td>ash</td>\n",
       "      <td>8</td>\n",
       "      <td>proanthocyanins</td>\n",
       "      <td>1.0</td>\n",
       "      <td>1.000000</td>\n",
       "      <td>RandomForestClassifier</td>\n",
       "      <td>gini</td>\n",
       "      <td>wine</td>\n",
       "      <td>0</td>\n",
       "      <td>...</td>\n",
       "      <td>1</td>\n",
       "      <td>3</td>\n",
       "      <td>4</td>\n",
       "      <td>0.000000</td>\n",
       "      <td>0.000000</td>\n",
       "      <td>11</td>\n",
       "      <td>1.000000</td>\n",
       "      <td>0.0</td>\n",
       "      <td>2</td>\n",
       "      <td>0.153846</td>\n",
       "    </tr>\n",
       "    <tr>\n",
       "      <th>3</th>\n",
       "      <td>3</td>\n",
       "      <td>proanthocyanins</td>\n",
       "      <td>1</td>\n",
       "      <td>malic_acid</td>\n",
       "      <td>1.0</td>\n",
       "      <td>1.000000</td>\n",
       "      <td>RandomForestClassifier</td>\n",
       "      <td>gini</td>\n",
       "      <td>wine</td>\n",
       "      <td>0</td>\n",
       "      <td>...</td>\n",
       "      <td>1</td>\n",
       "      <td>3</td>\n",
       "      <td>4</td>\n",
       "      <td>0.000000</td>\n",
       "      <td>0.000000</td>\n",
       "      <td>10</td>\n",
       "      <td>1.000000</td>\n",
       "      <td>0.0</td>\n",
       "      <td>3</td>\n",
       "      <td>0.230769</td>\n",
       "    </tr>\n",
       "    <tr>\n",
       "      <th>4</th>\n",
       "      <td>4</td>\n",
       "      <td>malic_acid</td>\n",
       "      <td>4</td>\n",
       "      <td>magnesium</td>\n",
       "      <td>1.0</td>\n",
       "      <td>1.000000</td>\n",
       "      <td>RandomForestClassifier</td>\n",
       "      <td>gini</td>\n",
       "      <td>wine</td>\n",
       "      <td>0</td>\n",
       "      <td>...</td>\n",
       "      <td>1</td>\n",
       "      <td>3</td>\n",
       "      <td>4</td>\n",
       "      <td>0.000000</td>\n",
       "      <td>0.000000</td>\n",
       "      <td>9</td>\n",
       "      <td>1.000000</td>\n",
       "      <td>0.0</td>\n",
       "      <td>4</td>\n",
       "      <td>0.307692</td>\n",
       "    </tr>\n",
       "    <tr>\n",
       "      <th>5</th>\n",
       "      <td>5</td>\n",
       "      <td>magnesium</td>\n",
       "      <td>3</td>\n",
       "      <td>alcalinity_of_ash</td>\n",
       "      <td>1.0</td>\n",
       "      <td>0.972511</td>\n",
       "      <td>RandomForestClassifier</td>\n",
       "      <td>gini</td>\n",
       "      <td>wine</td>\n",
       "      <td>0</td>\n",
       "      <td>...</td>\n",
       "      <td>1</td>\n",
       "      <td>3</td>\n",
       "      <td>4</td>\n",
       "      <td>-0.027489</td>\n",
       "      <td>-0.027489</td>\n",
       "      <td>8</td>\n",
       "      <td>0.972511</td>\n",
       "      <td>0.0</td>\n",
       "      <td>5</td>\n",
       "      <td>0.384615</td>\n",
       "    </tr>\n",
       "    <tr>\n",
       "      <th>6</th>\n",
       "      <td>6</td>\n",
       "      <td>alcalinity_of_ash</td>\n",
       "      <td>5</td>\n",
       "      <td>total_phenols</td>\n",
       "      <td>1.0</td>\n",
       "      <td>0.972511</td>\n",
       "      <td>RandomForestClassifier</td>\n",
       "      <td>gini</td>\n",
       "      <td>wine</td>\n",
       "      <td>0</td>\n",
       "      <td>...</td>\n",
       "      <td>1</td>\n",
       "      <td>3</td>\n",
       "      <td>4</td>\n",
       "      <td>-0.027489</td>\n",
       "      <td>-0.027489</td>\n",
       "      <td>7</td>\n",
       "      <td>0.972511</td>\n",
       "      <td>0.0</td>\n",
       "      <td>6</td>\n",
       "      <td>0.461538</td>\n",
       "    </tr>\n",
       "    <tr>\n",
       "      <th>7</th>\n",
       "      <td>7</td>\n",
       "      <td>total_phenols</td>\n",
       "      <td>10</td>\n",
       "      <td>hue</td>\n",
       "      <td>1.0</td>\n",
       "      <td>1.000000</td>\n",
       "      <td>RandomForestClassifier</td>\n",
       "      <td>gini</td>\n",
       "      <td>wine</td>\n",
       "      <td>0</td>\n",
       "      <td>...</td>\n",
       "      <td>1</td>\n",
       "      <td>3</td>\n",
       "      <td>4</td>\n",
       "      <td>0.000000</td>\n",
       "      <td>0.000000</td>\n",
       "      <td>6</td>\n",
       "      <td>1.000000</td>\n",
       "      <td>0.0</td>\n",
       "      <td>7</td>\n",
       "      <td>0.538462</td>\n",
       "    </tr>\n",
       "    <tr>\n",
       "      <th>8</th>\n",
       "      <td>8</td>\n",
       "      <td>hue</td>\n",
       "      <td>0</td>\n",
       "      <td>alcohol</td>\n",
       "      <td>1.0</td>\n",
       "      <td>1.000000</td>\n",
       "      <td>RandomForestClassifier</td>\n",
       "      <td>gini</td>\n",
       "      <td>wine</td>\n",
       "      <td>0</td>\n",
       "      <td>...</td>\n",
       "      <td>1</td>\n",
       "      <td>3</td>\n",
       "      <td>4</td>\n",
       "      <td>0.000000</td>\n",
       "      <td>0.000000</td>\n",
       "      <td>5</td>\n",
       "      <td>1.000000</td>\n",
       "      <td>0.0</td>\n",
       "      <td>8</td>\n",
       "      <td>0.615385</td>\n",
       "    </tr>\n",
       "    <tr>\n",
       "      <th>9</th>\n",
       "      <td>9</td>\n",
       "      <td>alcohol</td>\n",
       "      <td>11</td>\n",
       "      <td>od280/od315_of_diluted_wines</td>\n",
       "      <td>1.0</td>\n",
       "      <td>0.972427</td>\n",
       "      <td>RandomForestClassifier</td>\n",
       "      <td>gini</td>\n",
       "      <td>wine</td>\n",
       "      <td>0</td>\n",
       "      <td>...</td>\n",
       "      <td>1</td>\n",
       "      <td>3</td>\n",
       "      <td>4</td>\n",
       "      <td>-0.027573</td>\n",
       "      <td>-0.027573</td>\n",
       "      <td>4</td>\n",
       "      <td>0.972427</td>\n",
       "      <td>0.0</td>\n",
       "      <td>9</td>\n",
       "      <td>0.692308</td>\n",
       "    </tr>\n",
       "  </tbody>\n",
       "</table>\n",
       "<p>10 rows × 25 columns</p>\n",
       "</div>"
      ],
      "text/plain": [
       "   iteration       dropped_feature  feat_ind                     feat_name  \\\n",
       "0          0              full_set         7          nonflavanoid_phenols   \n",
       "1          1  nonflavanoid_phenols         2                           ash   \n",
       "2          2                   ash         8               proanthocyanins   \n",
       "3          3       proanthocyanins         1                    malic_acid   \n",
       "4          4            malic_acid         4                     magnesium   \n",
       "5          5             magnesium         3             alcalinity_of_ash   \n",
       "6          6     alcalinity_of_ash         5                 total_phenols   \n",
       "7          7         total_phenols        10                           hue   \n",
       "8          8                   hue         0                       alcohol   \n",
       "9          9               alcohol        11  od280/od315_of_diluted_wines   \n",
       "\n",
       "   mcc_train  mcc_test                   model imp_type dataset  random_state  \\\n",
       "0        1.0  1.000000  RandomForestClassifier     gini    wine             0   \n",
       "1        1.0  1.000000  RandomForestClassifier     gini    wine             0   \n",
       "2        1.0  1.000000  RandomForestClassifier     gini    wine             0   \n",
       "3        1.0  1.000000  RandomForestClassifier     gini    wine             0   \n",
       "4        1.0  1.000000  RandomForestClassifier     gini    wine             0   \n",
       "5        1.0  0.972511  RandomForestClassifier     gini    wine             0   \n",
       "6        1.0  0.972511  RandomForestClassifier     gini    wine             0   \n",
       "7        1.0  1.000000  RandomForestClassifier     gini    wine             0   \n",
       "8        1.0  1.000000  RandomForestClassifier     gini    wine             0   \n",
       "9        1.0  0.972427  RandomForestClassifier     gini    wine             0   \n",
       "\n",
       "   ...  f_cnt_10perc  f_cnt_20perc  f_cnt_30perc  mcc_delta  mcc_perc  \\\n",
       "0  ...             1             3             4   0.000000  0.000000   \n",
       "1  ...             1             3             4   0.000000  0.000000   \n",
       "2  ...             1             3             4   0.000000  0.000000   \n",
       "3  ...             1             3             4   0.000000  0.000000   \n",
       "4  ...             1             3             4   0.000000  0.000000   \n",
       "5  ...             1             3             4  -0.027489 -0.027489   \n",
       "6  ...             1             3             4  -0.027489 -0.027489   \n",
       "7  ...             1             3             4   0.000000  0.000000   \n",
       "8  ...             1             3             4   0.000000  0.000000   \n",
       "9  ...             1             3             4  -0.027573 -0.027573   \n",
       "\n",
       "   feature_cnt   pp_coef  max_perc  feature_dropped  feature_dropped_perc  \n",
       "0           13  1.000000       0.0                0              0.000000  \n",
       "1           12  1.000000       0.0                1              0.076923  \n",
       "2           11  1.000000       0.0                2              0.153846  \n",
       "3           10  1.000000       0.0                3              0.230769  \n",
       "4            9  1.000000       0.0                4              0.307692  \n",
       "5            8  0.972511       0.0                5              0.384615  \n",
       "6            7  0.972511       0.0                6              0.461538  \n",
       "7            6  1.000000       0.0                7              0.538462  \n",
       "8            5  1.000000       0.0                8              0.615385  \n",
       "9            4  0.972427       0.0                9              0.692308  \n",
       "\n",
       "[10 rows x 25 columns]"
      ]
     },
     "execution_count": 27,
     "metadata": {},
     "output_type": "execute_result"
    }
   ],
   "source": [
    "test.head(10)"
   ]
  },
  {
   "cell_type": "code",
   "execution_count": 22,
   "metadata": {},
   "outputs": [
    {
     "data": {
      "text/plain": [
       "Index(['iteration', 'mcc_test', 'model', 'imp_type', 'dataset', 'random_state',\n",
       "       'data_split', 'mse_train', 'mse_test', 'init_mcc_test',\n",
       "       'max_feature_cnt', 'f_cnt_10perc', 'f_cnt_20perc', 'f_cnt_30perc',\n",
       "       'mcc_delta', 'mcc_perc', 'feature_cnt', 'pp_coef', 'max_perc',\n",
       "       'feature_dropped', 'feature_dropped_perc'],\n",
       "      dtype='object')"
      ]
     },
     "execution_count": 22,
     "metadata": {},
     "output_type": "execute_result"
    }
   ],
   "source": [
    "df_res.columns"
   ]
  },
  {
   "cell_type": "code",
   "execution_count": 23,
   "metadata": {},
   "outputs": [
    {
     "data": {
      "text/html": [
       "<div>\n",
       "<style scoped>\n",
       "    .dataframe tbody tr th:only-of-type {\n",
       "        vertical-align: middle;\n",
       "    }\n",
       "\n",
       "    .dataframe tbody tr th {\n",
       "        vertical-align: top;\n",
       "    }\n",
       "\n",
       "    .dataframe thead th {\n",
       "        text-align: right;\n",
       "    }\n",
       "</style>\n",
       "<table border=\"1\" class=\"dataframe\">\n",
       "  <thead>\n",
       "    <tr style=\"text-align: right;\">\n",
       "      <th></th>\n",
       "      <th>iteration</th>\n",
       "      <th>dropped_feature</th>\n",
       "      <th>feat_ind</th>\n",
       "      <th>feat_name</th>\n",
       "      <th>mcc_train</th>\n",
       "      <th>mcc_test</th>\n",
       "      <th>model</th>\n",
       "      <th>imp_type</th>\n",
       "      <th>dataset</th>\n",
       "      <th>random_state</th>\n",
       "      <th>...</th>\n",
       "      <th>f_cnt_10perc</th>\n",
       "      <th>f_cnt_20perc</th>\n",
       "      <th>f_cnt_30perc</th>\n",
       "      <th>mcc_delta</th>\n",
       "      <th>mcc_perc</th>\n",
       "      <th>feature_cnt</th>\n",
       "      <th>pp_coef</th>\n",
       "      <th>max_perc</th>\n",
       "      <th>feature_dropped</th>\n",
       "      <th>feature_dropped_perc</th>\n",
       "    </tr>\n",
       "  </thead>\n",
       "  <tbody>\n",
       "    <tr>\n",
       "      <th>11700</th>\n",
       "      <td>0</td>\n",
       "      <td>full_set</td>\n",
       "      <td>16</td>\n",
       "      <td>concavity error</td>\n",
       "      <td>1.000000</td>\n",
       "      <td>0.900117</td>\n",
       "      <td>RandomForestClassifier</td>\n",
       "      <td>gini</td>\n",
       "      <td>breast_cancer</td>\n",
       "      <td>0</td>\n",
       "      <td>...</td>\n",
       "      <td>3</td>\n",
       "      <td>6</td>\n",
       "      <td>9</td>\n",
       "      <td>0.000000</td>\n",
       "      <td>0.000000</td>\n",
       "      <td>30</td>\n",
       "      <td>1.000000</td>\n",
       "      <td>0.013645</td>\n",
       "      <td>0</td>\n",
       "      <td>0.000000</td>\n",
       "    </tr>\n",
       "    <tr>\n",
       "      <th>11701</th>\n",
       "      <td>1</td>\n",
       "      <td>concavity error</td>\n",
       "      <td>8</td>\n",
       "      <td>mean symmetry</td>\n",
       "      <td>1.000000</td>\n",
       "      <td>0.900117</td>\n",
       "      <td>RandomForestClassifier</td>\n",
       "      <td>gini</td>\n",
       "      <td>breast_cancer</td>\n",
       "      <td>0</td>\n",
       "      <td>...</td>\n",
       "      <td>3</td>\n",
       "      <td>6</td>\n",
       "      <td>9</td>\n",
       "      <td>0.000000</td>\n",
       "      <td>0.000000</td>\n",
       "      <td>29</td>\n",
       "      <td>1.000000</td>\n",
       "      <td>0.013645</td>\n",
       "      <td>1</td>\n",
       "      <td>0.033333</td>\n",
       "    </tr>\n",
       "    <tr>\n",
       "      <th>11702</th>\n",
       "      <td>2</td>\n",
       "      <td>mean symmetry</td>\n",
       "      <td>14</td>\n",
       "      <td>smoothness error</td>\n",
       "      <td>1.000000</td>\n",
       "      <td>0.912399</td>\n",
       "      <td>RandomForestClassifier</td>\n",
       "      <td>gini</td>\n",
       "      <td>breast_cancer</td>\n",
       "      <td>0</td>\n",
       "      <td>...</td>\n",
       "      <td>3</td>\n",
       "      <td>6</td>\n",
       "      <td>9</td>\n",
       "      <td>0.012282</td>\n",
       "      <td>0.013645</td>\n",
       "      <td>28</td>\n",
       "      <td>1.013645</td>\n",
       "      <td>0.013645</td>\n",
       "      <td>2</td>\n",
       "      <td>0.066667</td>\n",
       "    </tr>\n",
       "    <tr>\n",
       "      <th>11703</th>\n",
       "      <td>3</td>\n",
       "      <td>smoothness error</td>\n",
       "      <td>17</td>\n",
       "      <td>concave points error</td>\n",
       "      <td>1.000000</td>\n",
       "      <td>0.912399</td>\n",
       "      <td>RandomForestClassifier</td>\n",
       "      <td>gini</td>\n",
       "      <td>breast_cancer</td>\n",
       "      <td>0</td>\n",
       "      <td>...</td>\n",
       "      <td>3</td>\n",
       "      <td>6</td>\n",
       "      <td>9</td>\n",
       "      <td>0.012282</td>\n",
       "      <td>0.013645</td>\n",
       "      <td>27</td>\n",
       "      <td>1.013645</td>\n",
       "      <td>0.013645</td>\n",
       "      <td>3</td>\n",
       "      <td>0.100000</td>\n",
       "    </tr>\n",
       "    <tr>\n",
       "      <th>11704</th>\n",
       "      <td>4</td>\n",
       "      <td>concave points error</td>\n",
       "      <td>18</td>\n",
       "      <td>symmetry error</td>\n",
       "      <td>1.000000</td>\n",
       "      <td>0.900117</td>\n",
       "      <td>RandomForestClassifier</td>\n",
       "      <td>gini</td>\n",
       "      <td>breast_cancer</td>\n",
       "      <td>0</td>\n",
       "      <td>...</td>\n",
       "      <td>3</td>\n",
       "      <td>6</td>\n",
       "      <td>9</td>\n",
       "      <td>0.000000</td>\n",
       "      <td>0.000000</td>\n",
       "      <td>26</td>\n",
       "      <td>1.000000</td>\n",
       "      <td>0.013645</td>\n",
       "      <td>4</td>\n",
       "      <td>0.133333</td>\n",
       "    </tr>\n",
       "    <tr>\n",
       "      <th>...</th>\n",
       "      <td>...</td>\n",
       "      <td>...</td>\n",
       "      <td>...</td>\n",
       "      <td>...</td>\n",
       "      <td>...</td>\n",
       "      <td>...</td>\n",
       "      <td>...</td>\n",
       "      <td>...</td>\n",
       "      <td>...</td>\n",
       "      <td>...</td>\n",
       "      <td>...</td>\n",
       "      <td>...</td>\n",
       "      <td>...</td>\n",
       "      <td>...</td>\n",
       "      <td>...</td>\n",
       "      <td>...</td>\n",
       "      <td>...</td>\n",
       "      <td>...</td>\n",
       "      <td>...</td>\n",
       "      <td>...</td>\n",
       "      <td>...</td>\n",
       "    </tr>\n",
       "    <tr>\n",
       "      <th>38695</th>\n",
       "      <td>25</td>\n",
       "      <td>fractal dimension error</td>\n",
       "      <td>15</td>\n",
       "      <td>compactness error</td>\n",
       "      <td>1.000000</td>\n",
       "      <td>0.451895</td>\n",
       "      <td>RandomForestClassifier</td>\n",
       "      <td>pps</td>\n",
       "      <td>breast_cancer</td>\n",
       "      <td>9</td>\n",
       "      <td>...</td>\n",
       "      <td>3</td>\n",
       "      <td>6</td>\n",
       "      <td>9</td>\n",
       "      <td>-0.447875</td>\n",
       "      <td>-0.497766</td>\n",
       "      <td>5</td>\n",
       "      <td>0.502234</td>\n",
       "      <td>0.028138</td>\n",
       "      <td>25</td>\n",
       "      <td>0.833333</td>\n",
       "    </tr>\n",
       "    <tr>\n",
       "      <th>38696</th>\n",
       "      <td>26</td>\n",
       "      <td>compactness error</td>\n",
       "      <td>11</td>\n",
       "      <td>texture error</td>\n",
       "      <td>1.000000</td>\n",
       "      <td>0.173488</td>\n",
       "      <td>RandomForestClassifier</td>\n",
       "      <td>pps</td>\n",
       "      <td>breast_cancer</td>\n",
       "      <td>9</td>\n",
       "      <td>...</td>\n",
       "      <td>3</td>\n",
       "      <td>6</td>\n",
       "      <td>9</td>\n",
       "      <td>-0.726282</td>\n",
       "      <td>-0.807186</td>\n",
       "      <td>4</td>\n",
       "      <td>0.192814</td>\n",
       "      <td>0.028138</td>\n",
       "      <td>26</td>\n",
       "      <td>0.866667</td>\n",
       "    </tr>\n",
       "    <tr>\n",
       "      <th>38697</th>\n",
       "      <td>27</td>\n",
       "      <td>texture error</td>\n",
       "      <td>18</td>\n",
       "      <td>symmetry error</td>\n",
       "      <td>1.000000</td>\n",
       "      <td>0.321114</td>\n",
       "      <td>RandomForestClassifier</td>\n",
       "      <td>pps</td>\n",
       "      <td>breast_cancer</td>\n",
       "      <td>9</td>\n",
       "      <td>...</td>\n",
       "      <td>3</td>\n",
       "      <td>6</td>\n",
       "      <td>9</td>\n",
       "      <td>-0.578656</td>\n",
       "      <td>-0.643115</td>\n",
       "      <td>3</td>\n",
       "      <td>0.356885</td>\n",
       "      <td>0.028138</td>\n",
       "      <td>27</td>\n",
       "      <td>0.900000</td>\n",
       "    </tr>\n",
       "    <tr>\n",
       "      <th>38698</th>\n",
       "      <td>28</td>\n",
       "      <td>symmetry error</td>\n",
       "      <td>14</td>\n",
       "      <td>smoothness error</td>\n",
       "      <td>1.000000</td>\n",
       "      <td>0.201281</td>\n",
       "      <td>RandomForestClassifier</td>\n",
       "      <td>pps</td>\n",
       "      <td>breast_cancer</td>\n",
       "      <td>9</td>\n",
       "      <td>...</td>\n",
       "      <td>3</td>\n",
       "      <td>6</td>\n",
       "      <td>9</td>\n",
       "      <td>-0.698489</td>\n",
       "      <td>-0.776298</td>\n",
       "      <td>2</td>\n",
       "      <td>0.223702</td>\n",
       "      <td>0.028138</td>\n",
       "      <td>28</td>\n",
       "      <td>0.933333</td>\n",
       "    </tr>\n",
       "    <tr>\n",
       "      <th>38699</th>\n",
       "      <td>29</td>\n",
       "      <td>smoothness error</td>\n",
       "      <td>9</td>\n",
       "      <td>mean fractal dimension</td>\n",
       "      <td>0.913946</td>\n",
       "      <td>0.165696</td>\n",
       "      <td>RandomForestClassifier</td>\n",
       "      <td>pps</td>\n",
       "      <td>breast_cancer</td>\n",
       "      <td>9</td>\n",
       "      <td>...</td>\n",
       "      <td>3</td>\n",
       "      <td>6</td>\n",
       "      <td>9</td>\n",
       "      <td>-0.734074</td>\n",
       "      <td>-0.815847</td>\n",
       "      <td>1</td>\n",
       "      <td>0.184153</td>\n",
       "      <td>0.028138</td>\n",
       "      <td>29</td>\n",
       "      <td>0.966667</td>\n",
       "    </tr>\n",
       "  </tbody>\n",
       "</table>\n",
       "<p>27000 rows × 25 columns</p>\n",
       "</div>"
      ],
      "text/plain": [
       "       iteration          dropped_feature  feat_ind               feat_name  \\\n",
       "11700          0                 full_set        16         concavity error   \n",
       "11701          1          concavity error         8           mean symmetry   \n",
       "11702          2            mean symmetry        14        smoothness error   \n",
       "11703          3         smoothness error        17    concave points error   \n",
       "11704          4     concave points error        18          symmetry error   \n",
       "...          ...                      ...       ...                     ...   \n",
       "38695         25  fractal dimension error        15       compactness error   \n",
       "38696         26        compactness error        11           texture error   \n",
       "38697         27            texture error        18          symmetry error   \n",
       "38698         28           symmetry error        14        smoothness error   \n",
       "38699         29         smoothness error         9  mean fractal dimension   \n",
       "\n",
       "       mcc_train  mcc_test                   model imp_type        dataset  \\\n",
       "11700   1.000000  0.900117  RandomForestClassifier     gini  breast_cancer   \n",
       "11701   1.000000  0.900117  RandomForestClassifier     gini  breast_cancer   \n",
       "11702   1.000000  0.912399  RandomForestClassifier     gini  breast_cancer   \n",
       "11703   1.000000  0.912399  RandomForestClassifier     gini  breast_cancer   \n",
       "11704   1.000000  0.900117  RandomForestClassifier     gini  breast_cancer   \n",
       "...          ...       ...                     ...      ...            ...   \n",
       "38695   1.000000  0.451895  RandomForestClassifier      pps  breast_cancer   \n",
       "38696   1.000000  0.173488  RandomForestClassifier      pps  breast_cancer   \n",
       "38697   1.000000  0.321114  RandomForestClassifier      pps  breast_cancer   \n",
       "38698   1.000000  0.201281  RandomForestClassifier      pps  breast_cancer   \n",
       "38699   0.913946  0.165696  RandomForestClassifier      pps  breast_cancer   \n",
       "\n",
       "       random_state  ...  f_cnt_10perc  f_cnt_20perc  f_cnt_30perc  mcc_delta  \\\n",
       "11700             0  ...             3             6             9   0.000000   \n",
       "11701             0  ...             3             6             9   0.000000   \n",
       "11702             0  ...             3             6             9   0.012282   \n",
       "11703             0  ...             3             6             9   0.012282   \n",
       "11704             0  ...             3             6             9   0.000000   \n",
       "...             ...  ...           ...           ...           ...        ...   \n",
       "38695             9  ...             3             6             9  -0.447875   \n",
       "38696             9  ...             3             6             9  -0.726282   \n",
       "38697             9  ...             3             6             9  -0.578656   \n",
       "38698             9  ...             3             6             9  -0.698489   \n",
       "38699             9  ...             3             6             9  -0.734074   \n",
       "\n",
       "       mcc_perc  feature_cnt   pp_coef  max_perc  feature_dropped  \\\n",
       "11700  0.000000           30  1.000000  0.013645                0   \n",
       "11701  0.000000           29  1.000000  0.013645                1   \n",
       "11702  0.013645           28  1.013645  0.013645                2   \n",
       "11703  0.013645           27  1.013645  0.013645                3   \n",
       "11704  0.000000           26  1.000000  0.013645                4   \n",
       "...         ...          ...       ...       ...              ...   \n",
       "38695 -0.497766            5  0.502234  0.028138               25   \n",
       "38696 -0.807186            4  0.192814  0.028138               26   \n",
       "38697 -0.643115            3  0.356885  0.028138               27   \n",
       "38698 -0.776298            2  0.223702  0.028138               28   \n",
       "38699 -0.815847            1  0.184153  0.028138               29   \n",
       "\n",
       "       feature_dropped_perc  \n",
       "11700              0.000000  \n",
       "11701              0.033333  \n",
       "11702              0.066667  \n",
       "11703              0.100000  \n",
       "11704              0.133333  \n",
       "...                     ...  \n",
       "38695              0.833333  \n",
       "38696              0.866667  \n",
       "38697              0.900000  \n",
       "38698              0.933333  \n",
       "38699              0.966667  \n",
       "\n",
       "[27000 rows x 25 columns]"
      ]
     },
     "execution_count": 23,
     "metadata": {},
     "output_type": "execute_result"
    }
   ],
   "source": [
    "df_full.query('dataset == \"breast_cancer\"')"
   ]
  },
  {
   "cell_type": "code",
   "execution_count": null,
   "metadata": {},
   "outputs": [],
   "source": []
  },
  {
   "cell_type": "code",
   "execution_count": 14,
   "metadata": {},
   "outputs": [
    {
     "data": {
      "text/plain": [
       "Text(0, 0.5, 'best percent gain/loss with feature reduction from base model')"
      ]
     },
     "execution_count": 14,
     "metadata": {},
     "output_type": "execute_result"
    },
    {
     "data": {
      "image/png": "[encoded data removed]",
      "text/plain": [
       "<Figure size 432x288 with 1 Axes>"
      ]
     },
     "metadata": {
      "needs_background": "light"
     },
     "output_type": "display_data"
    }
   ],
   "source": [
    "# Case1: Can we get a metric improvement\n",
    "case_1 = df_res.query('dataset != [\"mushroom\", \"wine\"]')\n",
    "case_1 = case_1[['imp_type','max_perc','random_state', 'data_split', 'dataset']]; \n",
    "case_1 = case_1.drop_duplicates();\n",
    "\n",
    "# plot case_1\n",
    "plot = sns.barplot(x='imp_type', y='max_perc', ci=95,\n",
    "            data=case_1\n",
    "            )\n",
    "plot.set_xticklabels(plot.get_xticklabels(), rotation=45);\n",
    "plot.set_ylabel('best percent gain/loss with feature reduction from base model')"
   ]
  },
  {
   "cell_type": "code",
   "execution_count": 15,
   "metadata": {},
   "outputs": [],
   "source": [
    "# case_2 = df_full.query('mcc_test  > init_mcc_test')[grouping]"
   ]
  },
  {
   "cell_type": "code",
   "execution_count": 16,
   "metadata": {},
   "outputs": [],
   "source": [
    "# case_2 = df_full\n",
    "# grouping = ['imp_type', 'random_state', \n",
    "#             'data_split', 'dataset']\n",
    "# max_dropped = case_2.query('mcc_test  > init_mcc_test')\n",
    "# max_dropped = (max_dropped[grouping + ['feature_dropped_perc']]\n",
    "#                .groupby(grouping).max())\n",
    "# max_dropped = max_dropped.rename(columns={\"feature_dropped_perc\": \"max_dropped\"})\n",
    "\n",
    "# df_full[grouping].drop_duplicates()"
   ]
  },
  {
   "cell_type": "code",
   "execution_count": 17,
   "metadata": {},
   "outputs": [
    {
     "data": {
      "text/plain": [
       "Text(0, 0.5, 'percent of features dropped without accuracy loss')"
      ]
     },
     "execution_count": 17,
     "metadata": {},
     "output_type": "execute_result"
    },
    {
     "data": {
      "image/png": "[encoded data removed]",
      "text/plain": [
       "<Figure size 432x288 with 1 Axes>"
      ]
     },
     "metadata": {
      "needs_background": "light"
     },
     "output_type": "display_data"
    }
   ],
   "source": [
    "# Case2: No decrease in metric\n",
    "case_2 = df_full\n",
    "# case_2 = case_2.query('mse_perc >= 0')\n",
    "\n",
    "case_2['feature_dropped'] =  case_2.max_feature_cnt - case_2.feature_cnt\n",
    "\n",
    "# \n",
    "case_2['feature_dropped_perc'] = (\n",
    "                                    1 - (case_2.max_feature_cnt - case_2.feature_dropped)\n",
    "                                      / case_2.max_feature_cnt\n",
    "                                    )\n",
    "\n",
    "grouping = ['imp_type', 'random_state', \n",
    "            'data_split', 'dataset']\n",
    "max_dropped = case_2.query('mcc_test  >= init_mcc_test')\n",
    "max_dropped = (max_dropped[grouping + ['feature_dropped_perc']]\n",
    "               .groupby(grouping).max())\n",
    "max_dropped = max_dropped.rename(columns={\"feature_dropped_perc\": \"max_dropped\"})\n",
    "\n",
    "case_2 = case_2[grouping].drop_duplicates()\n",
    "case_2 = pd.merge(case_2, max_dropped, on=grouping, how='left')\n",
    "case_2 = case_2.fillna(0)\n",
    "# case_2 = case_2.query('feature_dropped_perc == max_dropped')\n",
    "\n",
    "plot = sns.barplot(x='imp_type', y='max_dropped',\n",
    "            data=case_2, order=case_1.imp_type.unique().tolist()\n",
    "            )\n",
    "plot.set_xticklabels(plot.get_xticklabels(), rotation=45);\n",
    "plot.set_ylabel('percent of features dropped without accuracy loss')"
   ]
  },
  {
   "cell_type": "code",
   "execution_count": 18,
   "metadata": {},
   "outputs": [],
   "source": [
    "# Case 3: Maximum interpretability (drop [70%, 80%, 90%] of all features, rounded)"
   ]
  },
  {
   "cell_type": "code",
   "execution_count": 19,
   "metadata": {},
   "outputs": [
    {
     "data": {
      "text/plain": [
       "<matplotlib.lines.Line2D at 0x7efd4664da90>"
      ]
     },
     "execution_count": 19,
     "metadata": {},
     "output_type": "execute_result"
    },
    {
     "data": {
      "image/png": "[encoded data removed]",
      "text/plain": [
       "<Figure size 432x288 with 1 Axes>"
      ]
     },
     "metadata": {
      "needs_background": "light"
     },
     "output_type": "display_data"
    }
   ],
   "source": [
    "# Let's check out if there is a general pattern of dataset predictive power (pp) coef decrease\n",
    "# over features dropped percentage\n",
    "\n",
    "# For most datasets we see a significant decrease at around 80%ish features dropped\n",
    "# the one exception is boston dataset which seems to drop in predictive power from 30%ish\n",
    "\n",
    "# choosing to drop 70%, 80%, 90% seems like a reasonable way \n",
    "# to find maximally interpretable models that don't sacrifice the metric significantly\n",
    "\n",
    "case3_1 = df_full[['feature_cnt', 'feature_dropped_perc', 'pp_coef', 'imp_type',\n",
    "                  'random_state', 'data_split', 'dataset', 'model']]\n",
    "case3_1 = case3_1.drop_duplicates()\n",
    "case3_1['feature_dropped_perc'] = case3_1.feature_dropped_perc.round(decimals=2)\n",
    "\n",
    "case3_1\n",
    "plot = sns.lineplot(x='feature_dropped_perc', y='pp_coef', hue='dataset', ci=100,\n",
    "            data=case3_1.query(f'''\n",
    "        model == \"RandomForestClassifier\" and \\\n",
    "        imp_type != \"pps\"\n",
    "                ''')\n",
    "            )\n",
    "plot.axvline(0.7, 0,1, linewidth=1, color='r')\n",
    "plot.axvline(0.8, 0,1, linewidth=1, color='r')\n",
    "plot.axvline(0.9, 0,1, linewidth=1, color='r')"
   ]
  },
  {
   "cell_type": "code",
   "execution_count": 20,
   "metadata": {},
   "outputs": [],
   "source": [
    "sub1 = df_res[df_res.f_cnt_10perc == df_res.feature_cnt]\n",
    "sub2 = df_res[df_res.f_cnt_20perc == df_res.feature_cnt]\n",
    "sub3 = df_res[df_res.f_cnt_30perc == df_res.feature_cnt]"
   ]
  },
  {
   "cell_type": "code",
   "execution_count": 21,
   "metadata": {},
   "outputs": [],
   "source": [
    "case3_2 = pd.concat([sub1, sub2, sub3])"
   ]
  },
  {
   "cell_type": "code",
   "execution_count": 22,
   "metadata": {},
   "outputs": [
    {
     "data": {
      "image/png": "[encoded data removed]",
      "text/plain": [
       "<Figure size 432x288 with 1 Axes>"
      ]
     },
     "metadata": {
      "needs_background": "light"
     },
     "output_type": "display_data"
    }
   ],
   "source": [
    "# 90% dropped\n",
    "plot = sns.barplot(x='imp_type', y='pp_coef', hue='imp_type', ci=95, dodge=False,\n",
    "            data=sub1\n",
    "            )\n",
    "plot.set_xticklabels(plot.get_xticklabels(), rotation=45);"
   ]
  },
  {
   "cell_type": "code",
   "execution_count": 23,
   "metadata": {},
   "outputs": [
    {
     "data": {
      "image/png": "[encoded data removed]",
      "text/plain": [
       "<Figure size 432x288 with 1 Axes>"
      ]
     },
     "metadata": {
      "needs_background": "light"
     },
     "output_type": "display_data"
    }
   ],
   "source": [
    "# 80% dropped\n",
    "plot = sns.barplot(x='imp_type', y='pp_coef', hue='imp_type', ci=95, dodge=False,\n",
    "            data=sub2\n",
    "            )\n",
    "plot.set_xticklabels(plot.get_xticklabels(), rotation=45);"
   ]
  },
  {
   "cell_type": "code",
   "execution_count": 24,
   "metadata": {},
   "outputs": [
    {
     "data": {
      "image/png": "[encoded data removed]",
      "text/plain": [
       "<Figure size 432x288 with 1 Axes>"
      ]
     },
     "metadata": {
      "needs_background": "light"
     },
     "output_type": "display_data"
    }
   ],
   "source": [
    "# 70% dropped\n",
    "plot = sns.barplot(x='imp_type', y='pp_coef', hue='imp_type', ci=95, dodge=False,\n",
    "            data=sub3\n",
    "            )\n",
    "plot.set_xticklabels(plot.get_xticklabels(), rotation=45);"
   ]
  },
  {
   "cell_type": "code",
   "execution_count": 25,
   "metadata": {},
   "outputs": [
    {
     "data": {
      "text/plain": [
       "<seaborn.axisgrid.FacetGrid at 0x7efd46829730>"
      ]
     },
     "execution_count": 25,
     "metadata": {},
     "output_type": "execute_result"
    },
    {
     "data": {
      "image/png": "[encoded data removed]",
      "text/plain": [
       "<Figure size 864x216 with 4 Axes>"
      ]
     },
     "metadata": {
      "needs_background": "light"
     },
     "output_type": "display_data"
    }
   ],
   "source": [
    "# Since all of the graphs above are aggregate graphs (all datasets together)\n",
    "# It might be useful to also see the difference between datasets\n",
    "\n",
    "# maybe turn this into a stacked bar chart stacks = [70%, 80%, 90%], pp_coef\n",
    "g = sns.FacetGrid(sub3, col='dataset', hue='imp_type')\n",
    "g.map(sns.barplot,'imp_type', 'pp_coef', ci=95, data=sub3, dodge=False, \n",
    "      order=sub3.imp_type.unique().tolist())\n",
    "g.set_xticklabels(rotation=45)\n",
    "\n",
    "# 70% dropped"
   ]
  },
  {
   "cell_type": "code",
   "execution_count": 26,
   "metadata": {},
   "outputs": [],
   "source": [
    "def get_result_table():\n",
    "    # Case1: Can we get a metric improvement\n",
    "    # Case2: No decrease in metric\n",
    "    # Case3: Maximum interpretability (use [0.1, 0.2, 0.3] of all features)\n",
    "    # 1 in table\n",
    "    var_dropped = case_2.groupby('imp_type').mean().max_dropped\n",
    "    model_gain = case_1.groupby('imp_type').mean().max_perc\n",
    "    minimal_model_acc = sub2[['imp_type', 'pp_coef']].groupby('imp_type').mean().squeeze()\n",
    "    \n",
    "    table = pd.DataFrame(\n",
    "    {\n",
    "        'variables_dropped': var_dropped,\n",
    "        'model_gain': model_gain,\n",
    "        'minimal_model_acc': minimal_model_acc\n",
    "    }\n",
    "    )\n",
    "    return table"
   ]
  },
  {
   "cell_type": "code",
   "execution_count": 27,
   "metadata": {},
   "outputs": [],
   "source": [
    "table = get_result_table()"
   ]
  },
  {
   "cell_type": "code",
   "execution_count": 28,
   "metadata": {},
   "outputs": [
    {
     "data": {
      "text/html": [
       "<div>\n",
       "<style scoped>\n",
       "    .dataframe tbody tr th:only-of-type {\n",
       "        vertical-align: middle;\n",
       "    }\n",
       "\n",
       "    .dataframe tbody tr th {\n",
       "        vertical-align: top;\n",
       "    }\n",
       "\n",
       "    .dataframe thead th {\n",
       "        text-align: right;\n",
       "    }\n",
       "</style>\n",
       "<table border=\"1\" class=\"dataframe\">\n",
       "  <thead>\n",
       "    <tr style=\"text-align: right;\">\n",
       "      <th></th>\n",
       "      <th>variables_dropped</th>\n",
       "      <th>model_gain</th>\n",
       "      <th>minimal_model_acc</th>\n",
       "    </tr>\n",
       "    <tr>\n",
       "      <th>imp_type</th>\n",
       "      <th></th>\n",
       "      <th></th>\n",
       "      <th></th>\n",
       "    </tr>\n",
       "  </thead>\n",
       "  <tbody>\n",
       "    <tr>\n",
       "      <th>f_test</th>\n",
       "      <td>0.404899</td>\n",
       "      <td>0.010310</td>\n",
       "      <td>0.921354</td>\n",
       "    </tr>\n",
       "    <tr>\n",
       "      <th>gini</th>\n",
       "      <td>0.509758</td>\n",
       "      <td>0.012676</td>\n",
       "      <td>0.961663</td>\n",
       "    </tr>\n",
       "    <tr>\n",
       "      <th>kendall</th>\n",
       "      <td>0.293244</td>\n",
       "      <td>0.010740</td>\n",
       "      <td>0.880321</td>\n",
       "    </tr>\n",
       "    <tr>\n",
       "      <th>mutual_info</th>\n",
       "      <td>0.402150</td>\n",
       "      <td>0.009513</td>\n",
       "      <td>0.959151</td>\n",
       "    </tr>\n",
       "    <tr>\n",
       "      <th>pearson</th>\n",
       "      <td>0.322783</td>\n",
       "      <td>0.010310</td>\n",
       "      <td>0.881624</td>\n",
       "    </tr>\n",
       "    <tr>\n",
       "      <th>pimp</th>\n",
       "      <td>0.463297</td>\n",
       "      <td>0.011272</td>\n",
       "      <td>0.954793</td>\n",
       "    </tr>\n",
       "    <tr>\n",
       "      <th>pps</th>\n",
       "      <td>0.206274</td>\n",
       "      <td>-0.012597</td>\n",
       "      <td>0.344127</td>\n",
       "    </tr>\n",
       "    <tr>\n",
       "      <th>shap</th>\n",
       "      <td>0.476748</td>\n",
       "      <td>0.012426</td>\n",
       "      <td>0.957304</td>\n",
       "    </tr>\n",
       "    <tr>\n",
       "      <th>spearman</th>\n",
       "      <td>0.306775</td>\n",
       "      <td>0.010740</td>\n",
       "      <td>0.881321</td>\n",
       "    </tr>\n",
       "  </tbody>\n",
       "</table>\n",
       "</div>"
      ],
      "text/plain": [
       "             variables_dropped  model_gain  minimal_model_acc\n",
       "imp_type                                                     \n",
       "f_test                0.404899    0.010310           0.921354\n",
       "gini                  0.509758    0.012676           0.961663\n",
       "kendall               0.293244    0.010740           0.880321\n",
       "mutual_info           0.402150    0.009513           0.959151\n",
       "pearson               0.322783    0.010310           0.881624\n",
       "pimp                  0.463297    0.011272           0.954793\n",
       "pps                   0.206274   -0.012597           0.344127\n",
       "shap                  0.476748    0.012426           0.957304\n",
       "spearman              0.306775    0.010740           0.881321"
      ]
     },
     "execution_count": 28,
     "metadata": {},
     "output_type": "execute_result"
    }
   ],
   "source": [
    "table"
   ]
  },
  {
   "cell_type": "code",
   "execution_count": 29,
   "metadata": {},
   "outputs": [],
   "source": [
    "# Case1: Can we get a metric improvement\n",
    "# Case2: No decrease in metric HAS BUGS\n",
    "# Case3: Maximum interpretability (use [0.1, 0.2, 0.3] of all features)\n",
    "\n",
    "result_type = 'classification'\n",
    "case_1.to_csv(f'./results/case1_{result_type}.csv', index=False)\n",
    "case_2.to_csv(f'./results/case2_{result_type}.csv', index=False)\n",
    "sub2[['imp_type','pp_coef', 'random_state', 'data_split', 'dataset']].to_csv(f'./results/case3_{result_type}.csv', index=False)"
   ]
  },
  {
   "cell_type": "code",
   "execution_count": null,
   "metadata": {},
   "outputs": [],
   "source": []
  }
 ],
 "metadata": {
  "kernelspec": {
   "display_name": "Python 3",
   "language": "python",
   "name": "python3"
  },
  "language_info": {
   "codemirror_mode": {
    "name": "ipython",
    "version": 3
   },
   "file_extension": ".py",
   "mimetype": "text/x-python",
   "name": "python",
   "nbconvert_exporter": "python",
   "pygments_lexer": "ipython3",
   "version": "3.8.10"
  }
 },
 "nbformat": 4,
 "nbformat_minor": 4
}
