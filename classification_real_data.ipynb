{
 "cells": [
  {
   "cell_type": "code",
   "execution_count": 1,
   "metadata": {},
   "outputs": [
    {
     "name": "stdout",
     "output_type": "stream",
     "text": [
      "Defaulting to user installation because normal site-packages is not writeable\n",
      "Requirement already satisfied: shap in /home/rob/.local/lib/python3.8/site-packages (0.38.1)\n",
      "Requirement already satisfied: cloudpickle in /home/rob/.local/lib/python3.8/site-packages (from shap) (1.6.0)\n",
      "Requirement already satisfied: numba in /home/rob/.local/lib/python3.8/site-packages (from shap) (0.52.0)\n",
      "Requirement already satisfied: pandas in /home/rob/.local/lib/python3.8/site-packages (from shap) (1.2.0)\n",
      "Requirement already satisfied: scipy in /home/rob/.local/lib/python3.8/site-packages (from shap) (1.6.0)\n",
      "Requirement already satisfied: slicer==0.0.7 in /home/rob/.local/lib/python3.8/site-packages (from shap) (0.0.7)\n",
      "Requirement already satisfied: numpy in /home/rob/.local/lib/python3.8/site-packages (from shap) (1.19.5)\n",
      "Requirement already satisfied: tqdm>4.25.0 in /home/rob/.local/lib/python3.8/site-packages (from shap) (4.56.0)\n",
      "Requirement already satisfied: scikit-learn in /home/rob/.local/lib/python3.8/site-packages (from shap) (0.24.0)\n",
      "Requirement already satisfied: setuptools in /home/rob/.local/lib/python3.8/site-packages (from numba->shap) (53.0.0)\n",
      "Requirement already satisfied: llvmlite<0.36,>=0.35.0 in /home/rob/.local/lib/python3.8/site-packages (from numba->shap) (0.35.0)\n",
      "Requirement already satisfied: pytz>=2017.3 in /usr/lib/python3/dist-packages (from pandas->shap) (2019.3)\n",
      "Requirement already satisfied: python-dateutil>=2.7.3 in /usr/lib/python3/dist-packages (from pandas->shap) (2.7.3)\n",
      "Requirement already satisfied: joblib>=0.11 in /home/rob/.local/lib/python3.8/site-packages (from scikit-learn->shap) (1.0.0)\n",
      "Requirement already satisfied: threadpoolctl>=2.0.0 in /home/rob/.local/lib/python3.8/site-packages (from scikit-learn->shap) (2.1.0)\n",
      "Defaulting to user installation because normal site-packages is not writeable\n",
      "Requirement already satisfied: ppscore in /home/rob/.local/lib/python3.8/site-packages (1.2.0)\n",
      "Requirement already satisfied: pandas<2.0.0,>=1.0.0 in /home/rob/.local/lib/python3.8/site-packages (from ppscore) (1.2.0)\n",
      "Requirement already satisfied: scikit-learn<1.0.0,>=0.20.2 in /home/rob/.local/lib/python3.8/site-packages (from ppscore) (0.24.0)\n",
      "Requirement already satisfied: python-dateutil>=2.7.3 in /usr/lib/python3/dist-packages (from pandas<2.0.0,>=1.0.0->ppscore) (2.7.3)\n",
      "Requirement already satisfied: numpy>=1.16.5 in /home/rob/.local/lib/python3.8/site-packages (from pandas<2.0.0,>=1.0.0->ppscore) (1.19.5)\n",
      "Requirement already satisfied: pytz>=2017.3 in /usr/lib/python3/dist-packages (from pandas<2.0.0,>=1.0.0->ppscore) (2019.3)\n",
      "Requirement already satisfied: threadpoolctl>=2.0.0 in /home/rob/.local/lib/python3.8/site-packages (from scikit-learn<1.0.0,>=0.20.2->ppscore) (2.1.0)\n",
      "Requirement already satisfied: joblib>=0.11 in /home/rob/.local/lib/python3.8/site-packages (from scikit-learn<1.0.0,>=0.20.2->ppscore) (1.0.0)\n",
      "Requirement already satisfied: scipy>=0.19.1 in /home/rob/.local/lib/python3.8/site-packages (from scikit-learn<1.0.0,>=0.20.2->ppscore) (1.6.0)\n",
      "Defaulting to user installation because normal site-packages is not writeable\n",
      "Requirement already satisfied: xgboost in /home/rob/.local/lib/python3.8/site-packages (1.3.3)\n",
      "Requirement already satisfied: scipy in /home/rob/.local/lib/python3.8/site-packages (from xgboost) (1.6.0)\n",
      "Requirement already satisfied: numpy in /home/rob/.local/lib/python3.8/site-packages (from xgboost) (1.19.5)\n",
      "Defaulting to user installation because normal site-packages is not writeable\n",
      "Requirement already satisfied: lightgbm in /home/rob/.local/lib/python3.8/site-packages (3.1.1)\n",
      "Requirement already satisfied: wheel in /usr/lib/python3/dist-packages (from lightgbm) (0.34.2)\n",
      "Requirement already satisfied: scikit-learn!=0.22.0 in /home/rob/.local/lib/python3.8/site-packages (from lightgbm) (0.24.0)\n",
      "Requirement already satisfied: numpy in /home/rob/.local/lib/python3.8/site-packages (from lightgbm) (1.19.5)\n",
      "Requirement already satisfied: scipy in /home/rob/.local/lib/python3.8/site-packages (from lightgbm) (1.6.0)\n",
      "Requirement already satisfied: threadpoolctl>=2.0.0 in /home/rob/.local/lib/python3.8/site-packages (from scikit-learn!=0.22.0->lightgbm) (2.1.0)\n",
      "Requirement already satisfied: joblib>=0.11 in /home/rob/.local/lib/python3.8/site-packages (from scikit-learn!=0.22.0->lightgbm) (1.0.0)\n"
     ]
    }
   ],
   "source": [
    "# for colab compatibility\n",
    "!pip install shap\n",
    "!pip install ppscore\n",
    "!pip install xgboost\n",
    "!pip install lightgbm"
   ]
  },
  {
   "cell_type": "code",
   "execution_count": 2,
   "metadata": {},
   "outputs": [],
   "source": [
    "%run data_load_wrapper.ipynb"
   ]
  },
  {
   "cell_type": "code",
   "execution_count": 3,
   "metadata": {},
   "outputs": [],
   "source": [
    "from tqdm.notebook import trange\n",
    "import sklearn.datasets as data\n",
    "import pandas as pd\n",
    "from sklearn.inspection import permutation_importance\n",
    "from sklearn import *\n",
    "from sklearn.feature_selection import *\n",
    "import matplotlib as plt\n",
    "import seaborn as sns\n",
    "from boruta import BorutaPy\n",
    "import shap\n",
    "import numpy as np\n",
    "import ppscore as pps\n",
    "from datetime import datetime\n",
    "import lightgbm as lgbm\n",
    "import xgboost"
   ]
  },
  {
   "cell_type": "code",
   "execution_count": 4,
   "metadata": {},
   "outputs": [],
   "source": [
    "# mse_test = metrics.matthews_corrcoef(y_test, res_test)\n",
    "# mse_train = metrics.matthews_corrcoef(y_train, res_train)     "
   ]
  },
  {
   "cell_type": "code",
   "execution_count": 5,
   "metadata": {},
   "outputs": [],
   "source": [
    "def sklearn_to_df(dataset, with_target=False):\n",
    "    if with_target==False:\n",
    "        df = pd.DataFrame(dataset.data, columns=dataset.feature_names)\n",
    "        y = dataset.target\n",
    "        return df, y\n",
    "    if with_target==True:\n",
    "        df = pd.DataFrame(dataset.data, columns=dataset.feature_names)\n",
    "        y = dataset.target\n",
    "        df = df.join(pd.Series(y, name='target'))\n",
    "        return df\n",
    "\n",
    "def get_feat_imp(imp_type, m, x_train, y_train, random_state):\n",
    "    imp_type_dict = {\n",
    "        'mutual_info' : 'mutual_info_classif(x_train, y_train)',\n",
    "        'f_test' : 'f_classif(x_train, y_train)[0]',       \n",
    "        'gini' : \"m.feature_importances_\",\n",
    "        'pimp' : f\"\"\"permutation_importance(m, x_train, y_train, n_repeats=5, \n",
    "        random_state={random_state}).importances_mean\"\"\",\n",
    "        'shap' : \"abs(np.array(shap.TreeExplainer(m).shap_values(x_train))).sum(axis=0)\",\n",
    "        'pps' : \"pps.predictors(x_train.join(y_train), 'target', sorted=False, output='df').model_score\",\n",
    "        'pearson' : \"abs(x_train.join(y_train).corr(method='pearson').target).drop('target', axis=0)\",\n",
    "        'spearman': \"abs(x_train.join(y_train).corr(method='spearman').target).drop('target', axis=0)\",\n",
    "        'kendall' : \"abs(x_train.join(y_train).corr(method='kendall').target).drop('target', axis=0)\"\n",
    "    }\n",
    "#     print(eval(imp_type_dict.get(imp_type)))\n",
    "    return eval(imp_type_dict.get(imp_type))\n",
    "\n",
    "def reduce_dataset(x_train, x_test, drop_index):\n",
    "    x_train = x_train.drop(x_train.columns[drop_index], axis=1)\n",
    "    x_test = x_test.drop(x_test.columns[drop_index], axis=1)\n",
    "    return x_train, x_test\n",
    "\n",
    "def eval_reduced(x_train, y_train, x_test, y_test, m, imp_type, \n",
    "                 dataset, dataset_str, random_state, dataset_state):\n",
    "    reduce_stats = []\n",
    "    columns_init = np.array(dataset.feature_names)\n",
    "#     dataset_name = dataset.filename.split('/')[-1]\n",
    "    for i in range(len(x_train.columns)):\n",
    "        mse_train, mse_test, drop_index, feat = model_fit(x_train, y_train, \n",
    "                                                     x_test, y_test, m, imp_type,\n",
    "                                                          random_state)\n",
    "        global_index = np.where(columns_init==feat);\n",
    "        global_index = global_index[0][0]\n",
    "        reduce_stats.append((i, global_index, feat, \n",
    "                             mse_train, mse_test, \n",
    "                             # get class name, remove trash\n",
    "                             str(m.__class__).split('.')[-1].replace(\"\\'\", '').strip('>'), \n",
    "                             imp_type, dataset_str, x_train.columns, \n",
    "                             random_state, dataset_state))\n",
    "        x_train, x_test = reduce_dataset(x_train, x_test, drop_index)\n",
    "    return reduce_stats\n",
    "\n",
    "def model_fit(x_train, y_train, x_test, y_test, m, imp_type, random_state):\n",
    "#     print(x_train.shape, y_train.shape)\n",
    "#     print(x_test.shape, y_test.shape)\n",
    "#     refactor1 into function get_metric(type={train, test})\n",
    "    m.fit(x_train, y_train)\n",
    "    res_train = m.predict(x_train)\n",
    "    res_test = m.predict(x_test)\n",
    "    mse_test = metrics.matthews_corrcoef(y_test, res_test)\n",
    "    mse_train = metrics.matthews_corrcoef(y_train, res_train)     \n",
    "    # get the index for feature with lowest global feature importance\n",
    "    imp = get_feat_imp(imp_type, m, x_train, y_train, random_state)\n",
    "    argmin_fi_index = imp.argmin()\n",
    "    feat = x_train.columns[argmin_fi_index]\n",
    "    return mse_train, mse_test, argmin_fi_index, feat\n",
    "\n",
    "# def eval_reduced_one_shot(x_train, y_train, x_test, y_test, m, imp_type, \n",
    "#                  dataset, dataset_str, random_state, dataset_state):\n",
    "    \n",
    "#     reduce_stats = []\n",
    "#     columns_init = np.array(x_train.columns)\n",
    "#     m.set_params(random_state = random_state)\n",
    "#     m.fit(x_train, y_train)\n",
    "# #     print(x_train.shape)\n",
    "# #     print(get_feat_imp(imp_type, m, x_train, y_train, random_state).shape)\n",
    "#     model_str = str(m.__class__).split('.')[-1].replace(\"\\'\", '').strip('>')\n",
    "# #     print(str(m.__class__).split('.')[-1].replace(\"\\'\", '').strip('>') == 'XGBClassifier')\n",
    "#     if model_str != 'XGBClassifier':\n",
    "#         fi_scores = get_feat_imp(imp_type, m, x_train, y_train, random_state)\n",
    "#         print(f'not xgbclas {fi_scores.shape}')\n",
    "# #         fi_scores = fi_scores.sum(axis=0)\n",
    "#     elif model_str == 'XGBClassifier' and dataset_str == 'wine':      \n",
    "#         fi_scores = get_feat_imp(imp_type, m, x_train, y_train, random_state)\n",
    "#         fi_scores = fi_scores.sum(axis=0)\n",
    "#     else:\n",
    "#         fi_scores = get_feat_imp(imp_type, m, x_train, y_train, random_state)\n",
    "#         fi_scores = fi_scores.sum(axis=0)\n",
    "#         print(fi_scores.shape)\n",
    "        \n",
    "# #         print(f'imp: {imp_type} \\n model: {m} \\n x_shape: {x_train.shape} \\n y_shape: {y_train.shape}')\n",
    "# #         print(f'arr_scores: {fi_scores} \\n shape: {fi_scores.shape}')\n",
    "# #     print(fi_scores)\n",
    "# #     print(fi_scores.shape)\n",
    "# #     print(x_train.shape, y_train.shape)\n",
    "#     for i in range(len(x_train.columns)):\n",
    "#         mse_train, mse_test, drop_index, feat = model_fit_one_shot(x_train, y_train, \n",
    "#                                                      x_test, y_test, m, fi_scores, \n",
    "#                                                         random_state)\n",
    "#         global_index = np.where(columns_init==feat);\n",
    "#         global_index = global_index[0][0]\n",
    "# #         print(global_index) \n",
    "# #         print(fi_scores)\n",
    "#         reduce_stats.append((i, global_index, feat, \n",
    "#                              mse_train, mse_test, \n",
    "#                              # get class name, remove trash\n",
    "#                              str(m.__class__).split('.')[-1].replace(\"\\'\", '').strip('>'), \n",
    "#                              imp_type, dataset_str, x_train.columns, \n",
    "#                              random_state, dataset_state))\n",
    "#         x_train, x_test = reduce_dataset(x_train, x_test, drop_index)\n",
    "# #         print(f'iter {i}')\n",
    "# #         print(f'local_index: {drop_index}')\n",
    "# #         print(f'global_index: {global_index}, \\n fi before: \\n {fi_scores}')\n",
    "# #         print(fi_scores.shape)\n",
    "#         fi_scores = np.array(fi_scores)\n",
    "#         fi_scores = np.delete(fi_scores, drop_index)\n",
    "# #         print(f'global_index: {global_index}, \\n fi after: \\n {fi_scores}')              \n",
    "#     return reduce_stats\n",
    "\n",
    "def model_fit_one_shot(x_train, y_train, x_test, y_test, m, fi_scores, \n",
    "                       random_state):\n",
    "#     print(x_train.shape, y_train.shape)\n",
    "#     print(fi_scores.shape)\n",
    "#     refactor1 into function get_metric(type={train, test})\n",
    "    m.set_params(random_state=random_state)\n",
    "    m.fit(x_train, y_train)\n",
    "    res_train = m.predict(x_train)\n",
    "    res_test = m.predict(x_test)\n",
    "    mse_test = metrics.matthews_corrcoef(y_test, res_test)\n",
    "    mse_train = metrics.matthews_corrcoef(y_train, res_train)     \n",
    "    # get the index for feature with lowest global feature importance\n",
    "    imp = fi_scores\n",
    "    argmin_fi_index = imp.argmin()\n",
    "    \n",
    "    feat = x_train.columns[argmin_fi_index]\n",
    "    return mse_train, mse_test, argmin_fi_index, feat"
   ]
  },
  {
   "cell_type": "code",
   "execution_count": 6,
   "metadata": {},
   "outputs": [],
   "source": [
    "def get_stats(imp_types, models, datasets, debug=False, random_states=[0], dataset_states=[0]):\n",
    "    results = []\n",
    "    datasets_str = list(datasets.keys())\n",
    "    datasets_data = datasets.items()\n",
    "    random_state = 0\n",
    "    \n",
    "    for ds in trange(len(dataset_states), desc='Data state progress'):\n",
    "        dataset_state = dataset_states[ds]\n",
    "        for r in trange(len(random_states), desc='Model random state progress'):\n",
    "            random_state = random_states[r]\n",
    "\n",
    "            for j in trange(len(datasets_str), desc=f'Dataset progress'):\n",
    "                dataset_str = datasets_str[j]\n",
    "                dataset = datasets.get(datasets_str[j])\n",
    "                df = sklearn_to_df(dataset, with_target=True)\n",
    "                x_train, x_test = model_selection.train_test_split(df, \n",
    "                                                                   test_size=0.3, \n",
    "                                                                   random_state=dataset_state,\n",
    "                                                                   stratify=df.target\n",
    "                                                                  )\n",
    "                columns_init = x_train.columns\n",
    "                y_train = pd.DataFrame(df.target[x_train.index], \n",
    "                                       index=x_train.index)\n",
    "                y_test = pd.DataFrame(df.target[x_test.index], \n",
    "                                      index=x_test.index)\n",
    "                # remove target column from x_train, x_test\n",
    "                x_train = x_train.drop('target', axis=1)\n",
    "                x_test = x_test.drop('target', axis=1)\n",
    "\n",
    "                for k in trange(len(models), desc=f'Model progress for dataset {j}'):\n",
    "                    m = models[k]\n",
    "#                     print(x_train, y_train, x_test, y_test)\n",
    "                    m.set_params(random_state=random_state)\n",
    "                    m.fit(x_train, y_train.target)\n",
    "                    res_test = m.predict(x_test)\n",
    "                    res_train = m.predict(x_train)\n",
    "                    mse_test = metrics.matthews_corrcoef(y_test, res_test)\n",
    "                    mse_train = metrics.matthews_corrcoef(y_train, res_train)    \n",
    "\n",
    "                    for i in trange(len(imp_types), desc=f'Importance type progress for model {k}'):\n",
    "                        \n",
    "                        if imp_types[i] in ['shap', 'pimp', 'pearson', 'spearman', 'kendall',\n",
    "                                            'pps', 'mutual_info', 'f_test']:   \n",
    "                            result = eval_reduced_one_shot(x_train, y_train, x_test, y_test, \n",
    "                                                           m, imp_types[i], \n",
    "                                                           dataset, dataset_str, \n",
    "                                                           random_state, dataset_state)\n",
    "                        else:\n",
    "                            result = eval_reduced(x_train, y_train.target, x_test, y_test, \n",
    "                                                  m, imp_types[i], dataset, dataset_str, \n",
    "                                                  random_state, dataset_state)\n",
    "                        results.extend(result)\n",
    "                df_res = pd.DataFrame(results, columns=['iteration', 'feat_ind', 'feat_name',\n",
    "                                                    'mcc_train', 'mcc_test','model', 'imp_type', \n",
    "                                                    'dataset', 'features_lst', \n",
    "                                                    'random_state', 'data_split'])\n",
    "        # shift features by 1 row, replace 0th iteration with 'full_set'\n",
    "        df_res['dropped_feature'] = df_res['feat_name'].shift(1)\n",
    "        df_res['dropped_feature'] = df_res['dropped_feature'].where(df_res['iteration'] != 0, 'full_set')\n",
    "        if debug==True:\n",
    "            repr_lst = ['iteration', 'dropped_feature', 'feat_ind', 'feat_name',\n",
    "                        'mcc_train', 'mcc_test','model', 'imp_type', \n",
    "                        'dataset', 'features_lst','random_state', 'data_split']\n",
    "        else:\n",
    "            repr_lst = ['iteration','dropped_feature','mse_train',\n",
    "         'mse_test','model','imp_type', 'dataset', 'random_state', 'data_split']\n",
    "        df_res = df_res[repr_lst]\n",
    "    return df_res"
   ]
  },
  {
   "cell_type": "code",
   "execution_count": 7,
   "metadata": {},
   "outputs": [],
   "source": [
    "datasets  = {\n",
    "    'wine' : data.load_wine(),\n",
    "    'breast_cancer': data.load_breast_cancer(),    \n",
    "    'phishing' : read_phishing(),\n",
    "    'mushroom' : read_mushroom()\n",
    "}\n",
    "imp_types = [\n",
    "             'gini',\n",
    "             'mutual_info',\n",
    "             'f_test',\n",
    "             'pimp', \n",
    "             'shap', \n",
    "             'pearson', \n",
    "             'spearman', \n",
    "             'kendall', \n",
    "             'pps'\n",
    "            ]\n",
    "models = [\n",
    "          tree.DecisionTreeClassifier(random_state=0), \n",
    "          ensemble.RandomForestClassifier(random_state=0, n_jobs=3), \n",
    "          xgboost.XGBClassifier(random_state=0, n_jobs=3, use_label_encoder=False,\n",
    "                               verbosity=0),\n",
    "         ]\n",
    "\n",
    "random_states = [i for i in range(10)]\n",
    "\n",
    "dataset_states = [i for i in range(10)]"
   ]
  },
  {
   "cell_type": "code",
   "execution_count": 8,
   "metadata": {},
   "outputs": [],
   "source": [
    "# dataset_states = [i for i in range(8,10)]\n",
    "# dataset_states"
   ]
  },
  {
   "cell_type": "code",
   "execution_count": 9,
   "metadata": {},
   "outputs": [],
   "source": [
    "import warnings\n",
    "warnings.filterwarnings('ignore')"
   ]
  },
  {
   "cell_type": "code",
   "execution_count": 10,
   "metadata": {},
   "outputs": [],
   "source": [
    "def eval_reduced_one_shot(x_train, y_train, x_test, y_test, m, imp_type, \n",
    "                 dataset, dataset_str, random_state, dataset_state):\n",
    "    \n",
    "    model_str = str(m.__class__).split('.')[-1].replace(\"\\'\", '').strip('>')\n",
    "    reduce_stats = []\n",
    "    columns_init = np.array(x_train.columns)\n",
    "    m.set_params(random_state = random_state)\n",
    "    print(m.__class__, x_train.shape, y_train.shape, dataset_str, imp_type)\n",
    "    if  dataset_str == 'wine' and model_str == 'XGBClassifier':      \n",
    "        m.set_params(num_class = 3)\n",
    "    m.fit(x_train, y_train)\n",
    "#     print(dataset_str, imp_type, m.__class__, x_train.shape, y_train.shape, random_state)\n",
    "    if imp_type == 'shap' and model_str != 'XGBClassifier':\n",
    "        fi_scores = get_feat_imp(imp_type, m, x_train, y_train, random_state)\n",
    "#         print(1)\n",
    "#         print(fi_scores.shape)\n",
    "        fi_scores = fi_scores.sum(axis=0)\n",
    "    elif model_str == 'XGBClassifier' and model_str == 'shap':\n",
    "        fi_scores = get_feat_imp(imp_type, m, x_train, y_train, random_state)\n",
    "#         fi_scores = fi_scores.sum(axis=0)\n",
    "#         print(2)\n",
    "#         print(fi_scores.shape)\n",
    "    elif model_str == 'XGBClassifier' and dataset_str == 'wine' and imp_type == 'shap':\n",
    "#         print(3)\n",
    "        fi_scores = get_feat_imp(imp_type, m, x_train, y_train, random_state)\n",
    "        fi_scores = fi_scores.sum(axis=0)\n",
    "    elif model_str == 'XGBClassifier' and imp_type == 'shap':\n",
    "#         print(4)\n",
    "        fi_scores = get_feat_imp(imp_type, m, x_train, y_train, random_state)\n",
    "        fi_scores = fi_scores.sum(axis=0)\n",
    "    else:\n",
    "#         print(5)\n",
    "        fi_scores = get_feat_imp(imp_type, m, x_train, y_train, random_state)\n",
    "        \n",
    "    for i in range(len(x_train.columns)):\n",
    "        mse_train, mse_test, drop_index, feat = model_fit_one_shot(x_train, y_train, \n",
    "                                                     x_test, y_test, m, fi_scores, \n",
    "                                                        random_state)\n",
    "        global_index = np.where(columns_init==feat);\n",
    "        global_index = global_index[0][0]\n",
    "        reduce_stats.append((i, global_index, feat, \n",
    "                             mse_train, mse_test, \n",
    "                             # get class name, remove trash\n",
    "                             str(m.__class__).split('.')[-1].replace(\"\\'\", '').strip('>'), \n",
    "                             imp_type, dataset_str, x_train.columns, \n",
    "                             random_state, dataset_state))\n",
    "        x_train, x_test = reduce_dataset(x_train, x_test, drop_index)\n",
    "#         print(f'iter {i}')\n",
    "#         print(f'local_index: {drop_index}')\n",
    "#         print(f'global_index: {global_index}, \\n fi before: \\n {fi_scores}')\n",
    "#         print(fi_scores.shape)\n",
    "        fi_scores = np.array(fi_scores)\n",
    "        fi_scores = np.delete(fi_scores, drop_index)\n",
    "#         print(f'global_index: {global_index}, \\n fi after: \\n {fi_scores}')              \n",
    "    return reduce_stats"
   ]
  },
  {
   "cell_type": "code",
   "execution_count": 11,
   "metadata": {},
   "outputs": [
    {
     "data": {
      "application/vnd.jupyter.widget-view+json": {
       "model_id": "5e2c15622e6a4c5f8204956c09a3656b",
       "version_major": 2,
       "version_minor": 0
      },
      "text/plain": [
       "Data state progress:   0%|          | 0/2 [00:00<?, ?it/s]"
      ]
     },
     "metadata": {},
     "output_type": "display_data"
    },
    {
     "data": {
      "application/vnd.jupyter.widget-view+json": {
       "model_id": "960ac8ffb18b4dd4898fe9becd05f337",
       "version_major": 2,
       "version_minor": 0
      },
      "text/plain": [
       "Model random state progress:   0%|          | 0/10 [00:00<?, ?it/s]"
      ]
     },
     "metadata": {},
     "output_type": "display_data"
    },
    {
     "data": {
      "application/vnd.jupyter.widget-view+json": {
       "model_id": "4ab5d8ddb83e400a829ae1568b552d79",
       "version_major": 2,
       "version_minor": 0
      },
      "text/plain": [
       "Dataset progress:   0%|          | 0/4 [00:00<?, ?it/s]"
      ]
     },
     "metadata": {},
     "output_type": "display_data"
    },
    {
     "data": {
      "application/vnd.jupyter.widget-view+json": {
       "model_id": "47d9455ae0324fe9bbd358054d91cc57",
       "version_major": 2,
       "version_minor": 0
      },
      "text/plain": [
       "Model progress for dataset 0:   0%|          | 0/3 [00:00<?, ?it/s]"
      ]
     },
     "metadata": {},
     "output_type": "display_data"
    },
    {
     "data": {
      "application/vnd.jupyter.widget-view+json": {
       "model_id": "b958825b3cb04aee88c02a62b3dd00d3",
       "version_major": 2,
       "version_minor": 0
      },
      "text/plain": [
       "Importance type progress for model 0:   0%|          | 0/9 [00:00<?, ?it/s]"
      ]
     },
     "metadata": {},
     "output_type": "display_data"
    },
    {
     "name": "stdout",
     "output_type": "stream",
     "text": [
      "<class 'sklearn.tree._classes.DecisionTreeClassifier'> (124, 13) (124, 1) wine mutual_info\n",
      "<class 'sklearn.tree._classes.DecisionTreeClassifier'> (124, 13) (124, 1) wine f_test\n",
      "<class 'sklearn.tree._classes.DecisionTreeClassifier'> (124, 13) (124, 1) wine pimp\n",
      "<class 'sklearn.tree._classes.DecisionTreeClassifier'> (124, 13) (124, 1) wine shap\n",
      "<class 'sklearn.tree._classes.DecisionTreeClassifier'> (124, 13) (124, 1) wine pearson\n",
      "<class 'sklearn.tree._classes.DecisionTreeClassifier'> (124, 13) (124, 1) wine spearman\n",
      "<class 'sklearn.tree._classes.DecisionTreeClassifier'> (124, 13) (124, 1) wine kendall\n",
      "<class 'sklearn.tree._classes.DecisionTreeClassifier'> (124, 13) (124, 1) wine pps\n"
     ]
    },
    {
     "data": {
      "application/vnd.jupyter.widget-view+json": {
       "model_id": "6a1a31248e914d388a7030332f9b422c",
       "version_major": 2,
       "version_minor": 0
      },
      "text/plain": [
       "Importance type progress for model 1:   0%|          | 0/9 [00:00<?, ?it/s]"
      ]
     },
     "metadata": {},
     "output_type": "display_data"
    },
    {
     "name": "stdout",
     "output_type": "stream",
     "text": [
      "<class 'sklearn.ensemble._forest.RandomForestClassifier'> (124, 13) (124, 1) wine mutual_info\n",
      "<class 'sklearn.ensemble._forest.RandomForestClassifier'> (124, 13) (124, 1) wine f_test\n",
      "<class 'sklearn.ensemble._forest.RandomForestClassifier'> (124, 13) (124, 1) wine pimp\n",
      "<class 'sklearn.ensemble._forest.RandomForestClassifier'> (124, 13) (124, 1) wine shap\n",
      "<class 'sklearn.ensemble._forest.RandomForestClassifier'> (124, 13) (124, 1) wine pearson\n",
      "<class 'sklearn.ensemble._forest.RandomForestClassifier'> (124, 13) (124, 1) wine spearman\n",
      "<class 'sklearn.ensemble._forest.RandomForestClassifier'> (124, 13) (124, 1) wine kendall\n",
      "<class 'sklearn.ensemble._forest.RandomForestClassifier'> (124, 13) (124, 1) wine pps\n"
     ]
    },
    {
     "data": {
      "application/vnd.jupyter.widget-view+json": {
       "model_id": "7f18b56ef2ca4381b8925966faaf4309",
       "version_major": 2,
       "version_minor": 0
      },
      "text/plain": [
       "Importance type progress for model 2:   0%|          | 0/9 [00:00<?, ?it/s]"
      ]
     },
     "metadata": {},
     "output_type": "display_data"
    },
    {
     "name": "stdout",
     "output_type": "stream",
     "text": [
      "<class 'xgboost.sklearn.XGBClassifier'> (124, 13) (124, 1) wine mutual_info\n",
      "<class 'xgboost.sklearn.XGBClassifier'> (124, 13) (124, 1) wine f_test\n",
      "<class 'xgboost.sklearn.XGBClassifier'> (124, 13) (124, 1) wine pimp\n",
      "<class 'xgboost.sklearn.XGBClassifier'> (124, 13) (124, 1) wine shap\n",
      "<class 'xgboost.sklearn.XGBClassifier'> (124, 13) (124, 1) wine pearson\n",
      "<class 'xgboost.sklearn.XGBClassifier'> (124, 13) (124, 1) wine spearman\n",
      "<class 'xgboost.sklearn.XGBClassifier'> (124, 13) (124, 1) wine kendall\n",
      "<class 'xgboost.sklearn.XGBClassifier'> (124, 13) (124, 1) wine pps\n"
     ]
    },
    {
     "data": {
      "application/vnd.jupyter.widget-view+json": {
       "model_id": "8b4d607938d24ac1ba9741dadcaa46f6",
       "version_major": 2,
       "version_minor": 0
      },
      "text/plain": [
       "Model progress for dataset 1:   0%|          | 0/3 [00:00<?, ?it/s]"
      ]
     },
     "metadata": {},
     "output_type": "display_data"
    },
    {
     "data": {
      "application/vnd.jupyter.widget-view+json": {
       "model_id": "4b273d0d2dec4426a37c59917fd1e430",
       "version_major": 2,
       "version_minor": 0
      },
      "text/plain": [
       "Importance type progress for model 0:   0%|          | 0/9 [00:00<?, ?it/s]"
      ]
     },
     "metadata": {},
     "output_type": "display_data"
    },
    {
     "name": "stdout",
     "output_type": "stream",
     "text": [
      "<class 'sklearn.tree._classes.DecisionTreeClassifier'> (398, 30) (398, 1) breast_cancer mutual_info\n",
      "<class 'sklearn.tree._classes.DecisionTreeClassifier'> (398, 30) (398, 1) breast_cancer f_test\n",
      "<class 'sklearn.tree._classes.DecisionTreeClassifier'> (398, 30) (398, 1) breast_cancer pimp\n",
      "<class 'sklearn.tree._classes.DecisionTreeClassifier'> (398, 30) (398, 1) breast_cancer shap\n",
      "<class 'sklearn.tree._classes.DecisionTreeClassifier'> (398, 30) (398, 1) breast_cancer pearson\n",
      "<class 'sklearn.tree._classes.DecisionTreeClassifier'> (398, 30) (398, 1) breast_cancer spearman\n",
      "<class 'sklearn.tree._classes.DecisionTreeClassifier'> (398, 30) (398, 1) breast_cancer kendall\n",
      "<class 'sklearn.tree._classes.DecisionTreeClassifier'> (398, 30) (398, 1) breast_cancer pps\n"
     ]
    },
    {
     "data": {
      "application/vnd.jupyter.widget-view+json": {
       "model_id": "d64c9193b8dd4cbca0f8338331c1418a",
       "version_major": 2,
       "version_minor": 0
      },
      "text/plain": [
       "Importance type progress for model 1:   0%|          | 0/9 [00:00<?, ?it/s]"
      ]
     },
     "metadata": {},
     "output_type": "display_data"
    },
    {
     "name": "stdout",
     "output_type": "stream",
     "text": [
      "<class 'sklearn.ensemble._forest.RandomForestClassifier'> (398, 30) (398, 1) breast_cancer mutual_info\n",
      "<class 'sklearn.ensemble._forest.RandomForestClassifier'> (398, 30) (398, 1) breast_cancer f_test\n",
      "<class 'sklearn.ensemble._forest.RandomForestClassifier'> (398, 30) (398, 1) breast_cancer pimp\n",
      "<class 'sklearn.ensemble._forest.RandomForestClassifier'> (398, 30) (398, 1) breast_cancer shap\n",
      "<class 'sklearn.ensemble._forest.RandomForestClassifier'> (398, 30) (398, 1) breast_cancer pearson\n",
      "<class 'sklearn.ensemble._forest.RandomForestClassifier'> (398, 30) (398, 1) breast_cancer spearman\n",
      "<class 'sklearn.ensemble._forest.RandomForestClassifier'> (398, 30) (398, 1) breast_cancer kendall\n",
      "<class 'sklearn.ensemble._forest.RandomForestClassifier'> (398, 30) (398, 1) breast_cancer pps\n"
     ]
    },
    {
     "data": {
      "application/vnd.jupyter.widget-view+json": {
       "model_id": "db455cbf326346ea89111f82b299614b",
       "version_major": 2,
       "version_minor": 0
      },
      "text/plain": [
       "Importance type progress for model 2:   0%|          | 0/9 [00:00<?, ?it/s]"
      ]
     },
     "metadata": {},
     "output_type": "display_data"
    },
    {
     "name": "stdout",
     "output_type": "stream",
     "text": [
      "<class 'xgboost.sklearn.XGBClassifier'> (398, 30) (398, 1) breast_cancer mutual_info\n",
      "<class 'xgboost.sklearn.XGBClassifier'> (398, 30) (398, 1) breast_cancer f_test\n",
      "<class 'xgboost.sklearn.XGBClassifier'> (398, 30) (398, 1) breast_cancer pimp\n",
      "<class 'xgboost.sklearn.XGBClassifier'> (398, 30) (398, 1) breast_cancer shap\n",
      "<class 'xgboost.sklearn.XGBClassifier'> (398, 30) (398, 1) breast_cancer pearson\n",
      "<class 'xgboost.sklearn.XGBClassifier'> (398, 30) (398, 1) breast_cancer spearman\n",
      "<class 'xgboost.sklearn.XGBClassifier'> (398, 30) (398, 1) breast_cancer kendall\n",
      "<class 'xgboost.sklearn.XGBClassifier'> (398, 30) (398, 1) breast_cancer pps\n"
     ]
    },
    {
     "data": {
      "application/vnd.jupyter.widget-view+json": {
       "model_id": "7ae84556a9eb4dcb88fd1adadbd89154",
       "version_major": 2,
       "version_minor": 0
      },
      "text/plain": [
       "Model progress for dataset 2:   0%|          | 0/3 [00:00<?, ?it/s]"
      ]
     },
     "metadata": {},
     "output_type": "display_data"
    },
    {
     "data": {
      "application/vnd.jupyter.widget-view+json": {
       "model_id": "20b42ee8b71940e583f3683cc98716bf",
       "version_major": 2,
       "version_minor": 0
      },
      "text/plain": [
       "Importance type progress for model 0:   0%|          | 0/9 [00:00<?, ?it/s]"
      ]
     },
     "metadata": {},
     "output_type": "display_data"
    },
    {
     "name": "stdout",
     "output_type": "stream",
     "text": [
      "<class 'sklearn.tree._classes.DecisionTreeClassifier'> (7738, 30) (7738, 1) phishing mutual_info\n",
      "<class 'sklearn.tree._classes.DecisionTreeClassifier'> (7738, 30) (7738, 1) phishing f_test\n",
      "<class 'sklearn.tree._classes.DecisionTreeClassifier'> (7738, 30) (7738, 1) phishing pimp\n",
      "<class 'sklearn.tree._classes.DecisionTreeClassifier'> (7738, 30) (7738, 1) phishing shap\n",
      "<class 'sklearn.tree._classes.DecisionTreeClassifier'> (7738, 30) (7738, 1) phishing pearson\n",
      "<class 'sklearn.tree._classes.DecisionTreeClassifier'> (7738, 30) (7738, 1) phishing spearman\n",
      "<class 'sklearn.tree._classes.DecisionTreeClassifier'> (7738, 30) (7738, 1) phishing kendall\n",
      "<class 'sklearn.tree._classes.DecisionTreeClassifier'> (7738, 30) (7738, 1) phishing pps\n"
     ]
    },
    {
     "data": {
      "application/vnd.jupyter.widget-view+json": {
       "model_id": "806c8fe9bc1845d6a79d156ee4b650c7",
       "version_major": 2,
       "version_minor": 0
      },
      "text/plain": [
       "Importance type progress for model 1:   0%|          | 0/9 [00:00<?, ?it/s]"
      ]
     },
     "metadata": {},
     "output_type": "display_data"
    },
    {
     "name": "stdout",
     "output_type": "stream",
     "text": [
      "<class 'sklearn.ensemble._forest.RandomForestClassifier'> (7738, 30) (7738, 1) phishing mutual_info\n",
      "<class 'sklearn.ensemble._forest.RandomForestClassifier'> (7738, 30) (7738, 1) phishing f_test\n",
      "<class 'sklearn.ensemble._forest.RandomForestClassifier'> (7738, 30) (7738, 1) phishing pimp\n",
      "<class 'sklearn.ensemble._forest.RandomForestClassifier'> (7738, 30) (7738, 1) phishing shap\n",
      "<class 'sklearn.ensemble._forest.RandomForestClassifier'> (7738, 30) (7738, 1) phishing pearson\n",
      "<class 'sklearn.ensemble._forest.RandomForestClassifier'> (7738, 30) (7738, 1) phishing spearman\n",
      "<class 'sklearn.ensemble._forest.RandomForestClassifier'> (7738, 30) (7738, 1) phishing kendall\n",
      "<class 'sklearn.ensemble._forest.RandomForestClassifier'> (7738, 30) (7738, 1) phishing pps\n"
     ]
    },
    {
     "data": {
      "application/vnd.jupyter.widget-view+json": {
       "model_id": "708a52294aab4f0bb34c8806c05a70b2",
       "version_major": 2,
       "version_minor": 0
      },
      "text/plain": [
       "Importance type progress for model 2:   0%|          | 0/9 [00:00<?, ?it/s]"
      ]
     },
     "metadata": {},
     "output_type": "display_data"
    },
    {
     "name": "stdout",
     "output_type": "stream",
     "text": [
      "<class 'xgboost.sklearn.XGBClassifier'> (7738, 30) (7738, 1) phishing mutual_info\n",
      "<class 'xgboost.sklearn.XGBClassifier'> (7738, 30) (7738, 1) phishing f_test\n",
      "<class 'xgboost.sklearn.XGBClassifier'> (7738, 30) (7738, 1) phishing pimp\n",
      "<class 'xgboost.sklearn.XGBClassifier'> (7738, 30) (7738, 1) phishing shap\n",
      "<class 'xgboost.sklearn.XGBClassifier'> (7738, 30) (7738, 1) phishing pearson\n",
      "<class 'xgboost.sklearn.XGBClassifier'> (7738, 30) (7738, 1) phishing spearman\n",
      "<class 'xgboost.sklearn.XGBClassifier'> (7738, 30) (7738, 1) phishing kendall\n",
      "<class 'xgboost.sklearn.XGBClassifier'> (7738, 30) (7738, 1) phishing pps\n"
     ]
    },
    {
     "data": {
      "application/vnd.jupyter.widget-view+json": {
       "model_id": "7ab713dc365a4f3d863cc7b2f6e5c484",
       "version_major": 2,
       "version_minor": 0
      },
      "text/plain": [
       "Model progress for dataset 3:   0%|          | 0/3 [00:00<?, ?it/s]"
      ]
     },
     "metadata": {},
     "output_type": "display_data"
    },
    {
     "data": {
      "application/vnd.jupyter.widget-view+json": {
       "model_id": "de199828fb38492d8050add016cb62a5",
       "version_major": 2,
       "version_minor": 0
      },
      "text/plain": [
       "Importance type progress for model 0:   0%|          | 0/9 [00:00<?, ?it/s]"
      ]
     },
     "metadata": {},
     "output_type": "display_data"
    },
    {
     "name": "stdout",
     "output_type": "stream",
     "text": [
      "<class 'sklearn.tree._classes.DecisionTreeClassifier'> (5686, 22) (5686, 1) mushroom mutual_info\n",
      "<class 'sklearn.tree._classes.DecisionTreeClassifier'> (5686, 22) (5686, 1) mushroom f_test\n",
      "<class 'sklearn.tree._classes.DecisionTreeClassifier'> (5686, 22) (5686, 1) mushroom pimp\n",
      "<class 'sklearn.tree._classes.DecisionTreeClassifier'> (5686, 22) (5686, 1) mushroom shap\n",
      "<class 'sklearn.tree._classes.DecisionTreeClassifier'> (5686, 22) (5686, 1) mushroom pearson\n",
      "<class 'sklearn.tree._classes.DecisionTreeClassifier'> (5686, 22) (5686, 1) mushroom spearman\n",
      "<class 'sklearn.tree._classes.DecisionTreeClassifier'> (5686, 22) (5686, 1) mushroom kendall\n",
      "<class 'sklearn.tree._classes.DecisionTreeClassifier'> (5686, 22) (5686, 1) mushroom pps\n"
     ]
    },
    {
     "data": {
      "application/vnd.jupyter.widget-view+json": {
       "model_id": "3ee8f9e176d541808e8ef672f0dc1769",
       "version_major": 2,
       "version_minor": 0
      },
      "text/plain": [
       "Importance type progress for model 1:   0%|          | 0/9 [00:00<?, ?it/s]"
      ]
     },
     "metadata": {},
     "output_type": "display_data"
    },
    {
     "name": "stdout",
     "output_type": "stream",
     "text": [
      "<class 'sklearn.ensemble._forest.RandomForestClassifier'> (5686, 22) (5686, 1) mushroom mutual_info\n",
      "<class 'sklearn.ensemble._forest.RandomForestClassifier'> (5686, 22) (5686, 1) mushroom f_test\n",
      "<class 'sklearn.ensemble._forest.RandomForestClassifier'> (5686, 22) (5686, 1) mushroom pimp\n",
      "<class 'sklearn.ensemble._forest.RandomForestClassifier'> (5686, 22) (5686, 1) mushroom shap\n",
      "<class 'sklearn.ensemble._forest.RandomForestClassifier'> (5686, 22) (5686, 1) mushroom pearson\n",
      "<class 'sklearn.ensemble._forest.RandomForestClassifier'> (5686, 22) (5686, 1) mushroom spearman\n",
      "<class 'sklearn.ensemble._forest.RandomForestClassifier'> (5686, 22) (5686, 1) mushroom kendall\n",
      "<class 'sklearn.ensemble._forest.RandomForestClassifier'> (5686, 22) (5686, 1) mushroom pps\n"
     ]
    },
    {
     "data": {
      "application/vnd.jupyter.widget-view+json": {
       "model_id": "b2b8a911b0ce451cae6bf4f17a028892",
       "version_major": 2,
       "version_minor": 0
      },
      "text/plain": [
       "Importance type progress for model 2:   0%|          | 0/9 [00:00<?, ?it/s]"
      ]
     },
     "metadata": {},
     "output_type": "display_data"
    },
    {
     "name": "stdout",
     "output_type": "stream",
     "text": [
      "<class 'xgboost.sklearn.XGBClassifier'> (5686, 22) (5686, 1) mushroom mutual_info\n",
      "<class 'xgboost.sklearn.XGBClassifier'> (5686, 22) (5686, 1) mushroom f_test\n",
      "<class 'xgboost.sklearn.XGBClassifier'> (5686, 22) (5686, 1) mushroom pimp\n",
      "<class 'xgboost.sklearn.XGBClassifier'> (5686, 22) (5686, 1) mushroom shap\n",
      "<class 'xgboost.sklearn.XGBClassifier'> (5686, 22) (5686, 1) mushroom pearson\n",
      "<class 'xgboost.sklearn.XGBClassifier'> (5686, 22) (5686, 1) mushroom spearman\n",
      "<class 'xgboost.sklearn.XGBClassifier'> (5686, 22) (5686, 1) mushroom kendall\n",
      "<class 'xgboost.sklearn.XGBClassifier'> (5686, 22) (5686, 1) mushroom pps\n"
     ]
    },
    {
     "data": {
      "application/vnd.jupyter.widget-view+json": {
       "model_id": "5ea91e2f1b6f47b8a98c5787a66e624e",
       "version_major": 2,
       "version_minor": 0
      },
      "text/plain": [
       "Dataset progress:   0%|          | 0/4 [00:00<?, ?it/s]"
      ]
     },
     "metadata": {},
     "output_type": "display_data"
    },
    {
     "data": {
      "application/vnd.jupyter.widget-view+json": {
       "model_id": "30cf46f4f4a445d9b810f2c8d18d0963",
       "version_major": 2,
       "version_minor": 0
      },
      "text/plain": [
       "Model progress for dataset 0:   0%|          | 0/3 [00:00<?, ?it/s]"
      ]
     },
     "metadata": {},
     "output_type": "display_data"
    },
    {
     "data": {
      "application/vnd.jupyter.widget-view+json": {
       "model_id": "fc84e7db924c4a3f9295cf246db1d93a",
       "version_major": 2,
       "version_minor": 0
      },
      "text/plain": [
       "Importance type progress for model 0:   0%|          | 0/9 [00:00<?, ?it/s]"
      ]
     },
     "metadata": {},
     "output_type": "display_data"
    },
    {
     "name": "stdout",
     "output_type": "stream",
     "text": [
      "<class 'sklearn.tree._classes.DecisionTreeClassifier'> (124, 13) (124, 1) wine mutual_info\n",
      "<class 'sklearn.tree._classes.DecisionTreeClassifier'> (124, 13) (124, 1) wine f_test\n",
      "<class 'sklearn.tree._classes.DecisionTreeClassifier'> (124, 13) (124, 1) wine pimp\n",
      "<class 'sklearn.tree._classes.DecisionTreeClassifier'> (124, 13) (124, 1) wine shap\n",
      "<class 'sklearn.tree._classes.DecisionTreeClassifier'> (124, 13) (124, 1) wine pearson\n",
      "<class 'sklearn.tree._classes.DecisionTreeClassifier'> (124, 13) (124, 1) wine spearman\n",
      "<class 'sklearn.tree._classes.DecisionTreeClassifier'> (124, 13) (124, 1) wine kendall\n",
      "<class 'sklearn.tree._classes.DecisionTreeClassifier'> (124, 13) (124, 1) wine pps\n"
     ]
    },
    {
     "data": {
      "application/vnd.jupyter.widget-view+json": {
       "model_id": "86c81a70ec1544279ecb156cc44a986b",
       "version_major": 2,
       "version_minor": 0
      },
      "text/plain": [
       "Importance type progress for model 1:   0%|          | 0/9 [00:00<?, ?it/s]"
      ]
     },
     "metadata": {},
     "output_type": "display_data"
    },
    {
     "name": "stdout",
     "output_type": "stream",
     "text": [
      "<class 'sklearn.ensemble._forest.RandomForestClassifier'> (124, 13) (124, 1) wine mutual_info\n",
      "<class 'sklearn.ensemble._forest.RandomForestClassifier'> (124, 13) (124, 1) wine f_test\n",
      "<class 'sklearn.ensemble._forest.RandomForestClassifier'> (124, 13) (124, 1) wine pimp\n",
      "<class 'sklearn.ensemble._forest.RandomForestClassifier'> (124, 13) (124, 1) wine shap\n",
      "<class 'sklearn.ensemble._forest.RandomForestClassifier'> (124, 13) (124, 1) wine pearson\n",
      "<class 'sklearn.ensemble._forest.RandomForestClassifier'> (124, 13) (124, 1) wine spearman\n",
      "<class 'sklearn.ensemble._forest.RandomForestClassifier'> (124, 13) (124, 1) wine kendall\n",
      "<class 'sklearn.ensemble._forest.RandomForestClassifier'> (124, 13) (124, 1) wine pps\n"
     ]
    },
    {
     "data": {
      "application/vnd.jupyter.widget-view+json": {
       "model_id": "a75285761aa14c02b2c9e158f1b6d9c4",
       "version_major": 2,
       "version_minor": 0
      },
      "text/plain": [
       "Importance type progress for model 2:   0%|          | 0/9 [00:00<?, ?it/s]"
      ]
     },
     "metadata": {},
     "output_type": "display_data"
    },
    {
     "name": "stdout",
     "output_type": "stream",
     "text": [
      "<class 'xgboost.sklearn.XGBClassifier'> (124, 13) (124, 1) wine mutual_info\n",
      "<class 'xgboost.sklearn.XGBClassifier'> (124, 13) (124, 1) wine f_test\n",
      "<class 'xgboost.sklearn.XGBClassifier'> (124, 13) (124, 1) wine pimp\n",
      "<class 'xgboost.sklearn.XGBClassifier'> (124, 13) (124, 1) wine shap\n",
      "<class 'xgboost.sklearn.XGBClassifier'> (124, 13) (124, 1) wine pearson\n",
      "<class 'xgboost.sklearn.XGBClassifier'> (124, 13) (124, 1) wine spearman\n",
      "<class 'xgboost.sklearn.XGBClassifier'> (124, 13) (124, 1) wine kendall\n",
      "<class 'xgboost.sklearn.XGBClassifier'> (124, 13) (124, 1) wine pps\n"
     ]
    },
    {
     "data": {
      "application/vnd.jupyter.widget-view+json": {
       "model_id": "b394953745f043e2bd0507e4afc44d30",
       "version_major": 2,
       "version_minor": 0
      },
      "text/plain": [
       "Model progress for dataset 1:   0%|          | 0/3 [00:00<?, ?it/s]"
      ]
     },
     "metadata": {},
     "output_type": "display_data"
    },
    {
     "data": {
      "application/vnd.jupyter.widget-view+json": {
       "model_id": "70dddfa444884abc97b8399c154a5286",
       "version_major": 2,
       "version_minor": 0
      },
      "text/plain": [
       "Importance type progress for model 0:   0%|          | 0/9 [00:00<?, ?it/s]"
      ]
     },
     "metadata": {},
     "output_type": "display_data"
    },
    {
     "name": "stdout",
     "output_type": "stream",
     "text": [
      "<class 'sklearn.tree._classes.DecisionTreeClassifier'> (398, 30) (398, 1) breast_cancer mutual_info\n",
      "<class 'sklearn.tree._classes.DecisionTreeClassifier'> (398, 30) (398, 1) breast_cancer f_test\n",
      "<class 'sklearn.tree._classes.DecisionTreeClassifier'> (398, 30) (398, 1) breast_cancer pimp\n",
      "<class 'sklearn.tree._classes.DecisionTreeClassifier'> (398, 30) (398, 1) breast_cancer shap\n",
      "<class 'sklearn.tree._classes.DecisionTreeClassifier'> (398, 30) (398, 1) breast_cancer pearson\n",
      "<class 'sklearn.tree._classes.DecisionTreeClassifier'> (398, 30) (398, 1) breast_cancer spearman\n",
      "<class 'sklearn.tree._classes.DecisionTreeClassifier'> (398, 30) (398, 1) breast_cancer kendall\n",
      "<class 'sklearn.tree._classes.DecisionTreeClassifier'> (398, 30) (398, 1) breast_cancer pps\n"
     ]
    },
    {
     "data": {
      "application/vnd.jupyter.widget-view+json": {
       "model_id": "205e52e0e1af4725bf8761d4f664e9bf",
       "version_major": 2,
       "version_minor": 0
      },
      "text/plain": [
       "Importance type progress for model 1:   0%|          | 0/9 [00:00<?, ?it/s]"
      ]
     },
     "metadata": {},
     "output_type": "display_data"
    },
    {
     "name": "stdout",
     "output_type": "stream",
     "text": [
      "<class 'sklearn.ensemble._forest.RandomForestClassifier'> (398, 30) (398, 1) breast_cancer mutual_info\n",
      "<class 'sklearn.ensemble._forest.RandomForestClassifier'> (398, 30) (398, 1) breast_cancer f_test\n",
      "<class 'sklearn.ensemble._forest.RandomForestClassifier'> (398, 30) (398, 1) breast_cancer pimp\n",
      "<class 'sklearn.ensemble._forest.RandomForestClassifier'> (398, 30) (398, 1) breast_cancer shap\n",
      "<class 'sklearn.ensemble._forest.RandomForestClassifier'> (398, 30) (398, 1) breast_cancer pearson\n",
      "<class 'sklearn.ensemble._forest.RandomForestClassifier'> (398, 30) (398, 1) breast_cancer spearman\n",
      "<class 'sklearn.ensemble._forest.RandomForestClassifier'> (398, 30) (398, 1) breast_cancer kendall\n",
      "<class 'sklearn.ensemble._forest.RandomForestClassifier'> (398, 30) (398, 1) breast_cancer pps\n"
     ]
    },
    {
     "data": {
      "application/vnd.jupyter.widget-view+json": {
       "model_id": "b3403640a27f47b6ac4cd5ad746a5eb4",
       "version_major": 2,
       "version_minor": 0
      },
      "text/plain": [
       "Importance type progress for model 2:   0%|          | 0/9 [00:00<?, ?it/s]"
      ]
     },
     "metadata": {},
     "output_type": "display_data"
    },
    {
     "name": "stdout",
     "output_type": "stream",
     "text": [
      "<class 'xgboost.sklearn.XGBClassifier'> (398, 30) (398, 1) breast_cancer mutual_info\n",
      "<class 'xgboost.sklearn.XGBClassifier'> (398, 30) (398, 1) breast_cancer f_test\n",
      "<class 'xgboost.sklearn.XGBClassifier'> (398, 30) (398, 1) breast_cancer pimp\n",
      "<class 'xgboost.sklearn.XGBClassifier'> (398, 30) (398, 1) breast_cancer shap\n",
      "<class 'xgboost.sklearn.XGBClassifier'> (398, 30) (398, 1) breast_cancer pearson\n",
      "<class 'xgboost.sklearn.XGBClassifier'> (398, 30) (398, 1) breast_cancer spearman\n",
      "<class 'xgboost.sklearn.XGBClassifier'> (398, 30) (398, 1) breast_cancer kendall\n",
      "<class 'xgboost.sklearn.XGBClassifier'> (398, 30) (398, 1) breast_cancer pps\n"
     ]
    },
    {
     "data": {
      "application/vnd.jupyter.widget-view+json": {
       "model_id": "8cd6a76d14664687a054704708cdd067",
       "version_major": 2,
       "version_minor": 0
      },
      "text/plain": [
       "Model progress for dataset 2:   0%|          | 0/3 [00:00<?, ?it/s]"
      ]
     },
     "metadata": {},
     "output_type": "display_data"
    },
    {
     "data": {
      "application/vnd.jupyter.widget-view+json": {
       "model_id": "227a5ef8336a4cffbbf52d0155e0da24",
       "version_major": 2,
       "version_minor": 0
      },
      "text/plain": [
       "Importance type progress for model 0:   0%|          | 0/9 [00:00<?, ?it/s]"
      ]
     },
     "metadata": {},
     "output_type": "display_data"
    },
    {
     "name": "stdout",
     "output_type": "stream",
     "text": [
      "<class 'sklearn.tree._classes.DecisionTreeClassifier'> (7738, 30) (7738, 1) phishing mutual_info\n",
      "<class 'sklearn.tree._classes.DecisionTreeClassifier'> (7738, 30) (7738, 1) phishing f_test\n",
      "<class 'sklearn.tree._classes.DecisionTreeClassifier'> (7738, 30) (7738, 1) phishing pimp\n",
      "<class 'sklearn.tree._classes.DecisionTreeClassifier'> (7738, 30) (7738, 1) phishing shap\n",
      "<class 'sklearn.tree._classes.DecisionTreeClassifier'> (7738, 30) (7738, 1) phishing pearson\n",
      "<class 'sklearn.tree._classes.DecisionTreeClassifier'> (7738, 30) (7738, 1) phishing spearman\n",
      "<class 'sklearn.tree._classes.DecisionTreeClassifier'> (7738, 30) (7738, 1) phishing kendall\n",
      "<class 'sklearn.tree._classes.DecisionTreeClassifier'> (7738, 30) (7738, 1) phishing pps\n"
     ]
    },
    {
     "data": {
      "application/vnd.jupyter.widget-view+json": {
       "model_id": "08796103618648ea8a479e7060fd600d",
       "version_major": 2,
       "version_minor": 0
      },
      "text/plain": [
       "Importance type progress for model 1:   0%|          | 0/9 [00:00<?, ?it/s]"
      ]
     },
     "metadata": {},
     "output_type": "display_data"
    },
    {
     "name": "stdout",
     "output_type": "stream",
     "text": [
      "<class 'sklearn.ensemble._forest.RandomForestClassifier'> (7738, 30) (7738, 1) phishing mutual_info\n",
      "<class 'sklearn.ensemble._forest.RandomForestClassifier'> (7738, 30) (7738, 1) phishing f_test\n",
      "<class 'sklearn.ensemble._forest.RandomForestClassifier'> (7738, 30) (7738, 1) phishing pimp\n",
      "<class 'sklearn.ensemble._forest.RandomForestClassifier'> (7738, 30) (7738, 1) phishing shap\n",
      "<class 'sklearn.ensemble._forest.RandomForestClassifier'> (7738, 30) (7738, 1) phishing pearson\n",
      "<class 'sklearn.ensemble._forest.RandomForestClassifier'> (7738, 30) (7738, 1) phishing spearman\n",
      "<class 'sklearn.ensemble._forest.RandomForestClassifier'> (7738, 30) (7738, 1) phishing kendall\n",
      "<class 'sklearn.ensemble._forest.RandomForestClassifier'> (7738, 30) (7738, 1) phishing pps\n"
     ]
    },
    {
     "data": {
      "application/vnd.jupyter.widget-view+json": {
       "model_id": "fe9603fe33d74ab5b3c5c40351b02c4e",
       "version_major": 2,
       "version_minor": 0
      },
      "text/plain": [
       "Importance type progress for model 2:   0%|          | 0/9 [00:00<?, ?it/s]"
      ]
     },
     "metadata": {},
     "output_type": "display_data"
    },
    {
     "name": "stdout",
     "output_type": "stream",
     "text": [
      "<class 'xgboost.sklearn.XGBClassifier'> (7738, 30) (7738, 1) phishing mutual_info\n",
      "<class 'xgboost.sklearn.XGBClassifier'> (7738, 30) (7738, 1) phishing f_test\n",
      "<class 'xgboost.sklearn.XGBClassifier'> (7738, 30) (7738, 1) phishing pimp\n",
      "<class 'xgboost.sklearn.XGBClassifier'> (7738, 30) (7738, 1) phishing shap\n",
      "<class 'xgboost.sklearn.XGBClassifier'> (7738, 30) (7738, 1) phishing pearson\n",
      "<class 'xgboost.sklearn.XGBClassifier'> (7738, 30) (7738, 1) phishing spearman\n",
      "<class 'xgboost.sklearn.XGBClassifier'> (7738, 30) (7738, 1) phishing kendall\n",
      "<class 'xgboost.sklearn.XGBClassifier'> (7738, 30) (7738, 1) phishing pps\n"
     ]
    },
    {
     "data": {
      "application/vnd.jupyter.widget-view+json": {
       "model_id": "e190925b536f47cc9e5d19f30df033d5",
       "version_major": 2,
       "version_minor": 0
      },
      "text/plain": [
       "Model progress for dataset 3:   0%|          | 0/3 [00:00<?, ?it/s]"
      ]
     },
     "metadata": {},
     "output_type": "display_data"
    },
    {
     "data": {
      "application/vnd.jupyter.widget-view+json": {
       "model_id": "3d41591d2d5c48edb35326cc9d72a877",
       "version_major": 2,
       "version_minor": 0
      },
      "text/plain": [
       "Importance type progress for model 0:   0%|          | 0/9 [00:00<?, ?it/s]"
      ]
     },
     "metadata": {},
     "output_type": "display_data"
    },
    {
     "name": "stdout",
     "output_type": "stream",
     "text": [
      "<class 'sklearn.tree._classes.DecisionTreeClassifier'> (5686, 22) (5686, 1) mushroom mutual_info\n",
      "<class 'sklearn.tree._classes.DecisionTreeClassifier'> (5686, 22) (5686, 1) mushroom f_test\n",
      "<class 'sklearn.tree._classes.DecisionTreeClassifier'> (5686, 22) (5686, 1) mushroom pimp\n",
      "<class 'sklearn.tree._classes.DecisionTreeClassifier'> (5686, 22) (5686, 1) mushroom shap\n",
      "<class 'sklearn.tree._classes.DecisionTreeClassifier'> (5686, 22) (5686, 1) mushroom pearson\n",
      "<class 'sklearn.tree._classes.DecisionTreeClassifier'> (5686, 22) (5686, 1) mushroom spearman\n",
      "<class 'sklearn.tree._classes.DecisionTreeClassifier'> (5686, 22) (5686, 1) mushroom kendall\n",
      "<class 'sklearn.tree._classes.DecisionTreeClassifier'> (5686, 22) (5686, 1) mushroom pps\n"
     ]
    },
    {
     "data": {
      "application/vnd.jupyter.widget-view+json": {
       "model_id": "65fe2e23541447a293d7023eef3d5401",
       "version_major": 2,
       "version_minor": 0
      },
      "text/plain": [
       "Importance type progress for model 1:   0%|          | 0/9 [00:00<?, ?it/s]"
      ]
     },
     "metadata": {},
     "output_type": "display_data"
    },
    {
     "name": "stdout",
     "output_type": "stream",
     "text": [
      "<class 'sklearn.ensemble._forest.RandomForestClassifier'> (5686, 22) (5686, 1) mushroom mutual_info\n",
      "<class 'sklearn.ensemble._forest.RandomForestClassifier'> (5686, 22) (5686, 1) mushroom f_test\n",
      "<class 'sklearn.ensemble._forest.RandomForestClassifier'> (5686, 22) (5686, 1) mushroom pimp\n",
      "<class 'sklearn.ensemble._forest.RandomForestClassifier'> (5686, 22) (5686, 1) mushroom shap\n",
      "<class 'sklearn.ensemble._forest.RandomForestClassifier'> (5686, 22) (5686, 1) mushroom pearson\n",
      "<class 'sklearn.ensemble._forest.RandomForestClassifier'> (5686, 22) (5686, 1) mushroom spearman\n",
      "<class 'sklearn.ensemble._forest.RandomForestClassifier'> (5686, 22) (5686, 1) mushroom kendall\n",
      "<class 'sklearn.ensemble._forest.RandomForestClassifier'> (5686, 22) (5686, 1) mushroom pps\n"
     ]
    },
    {
     "data": {
      "application/vnd.jupyter.widget-view+json": {
       "model_id": "a7921945b0b84ee68892c562be74f015",
       "version_major": 2,
       "version_minor": 0
      },
      "text/plain": [
       "Importance type progress for model 2:   0%|          | 0/9 [00:00<?, ?it/s]"
      ]
     },
     "metadata": {},
     "output_type": "display_data"
    },
    {
     "name": "stdout",
     "output_type": "stream",
     "text": [
      "<class 'xgboost.sklearn.XGBClassifier'> (5686, 22) (5686, 1) mushroom mutual_info\n",
      "<class 'xgboost.sklearn.XGBClassifier'> (5686, 22) (5686, 1) mushroom f_test\n",
      "<class 'xgboost.sklearn.XGBClassifier'> (5686, 22) (5686, 1) mushroom pimp\n",
      "<class 'xgboost.sklearn.XGBClassifier'> (5686, 22) (5686, 1) mushroom shap\n",
      "<class 'xgboost.sklearn.XGBClassifier'> (5686, 22) (5686, 1) mushroom pearson\n",
      "<class 'xgboost.sklearn.XGBClassifier'> (5686, 22) (5686, 1) mushroom spearman\n",
      "<class 'xgboost.sklearn.XGBClassifier'> (5686, 22) (5686, 1) mushroom kendall\n",
      "<class 'xgboost.sklearn.XGBClassifier'> (5686, 22) (5686, 1) mushroom pps\n"
     ]
    },
    {
     "data": {
      "application/vnd.jupyter.widget-view+json": {
       "model_id": "dab8591b00134c1db85c0f1ec0eac38f",
       "version_major": 2,
       "version_minor": 0
      },
      "text/plain": [
       "Dataset progress:   0%|          | 0/4 [00:00<?, ?it/s]"
      ]
     },
     "metadata": {},
     "output_type": "display_data"
    },
    {
     "data": {
      "application/vnd.jupyter.widget-view+json": {
       "model_id": "84e98fe19a674e608d9d88f0ae80f1e5",
       "version_major": 2,
       "version_minor": 0
      },
      "text/plain": [
       "Model progress for dataset 0:   0%|          | 0/3 [00:00<?, ?it/s]"
      ]
     },
     "metadata": {},
     "output_type": "display_data"
    },
    {
     "data": {
      "application/vnd.jupyter.widget-view+json": {
       "model_id": "2f6be94686404e089e01e45ae9c5436e",
       "version_major": 2,
       "version_minor": 0
      },
      "text/plain": [
       "Importance type progress for model 0:   0%|          | 0/9 [00:00<?, ?it/s]"
      ]
     },
     "metadata": {},
     "output_type": "display_data"
    },
    {
     "name": "stdout",
     "output_type": "stream",
     "text": [
      "<class 'sklearn.tree._classes.DecisionTreeClassifier'> (124, 13) (124, 1) wine mutual_info\n",
      "<class 'sklearn.tree._classes.DecisionTreeClassifier'> (124, 13) (124, 1) wine f_test\n",
      "<class 'sklearn.tree._classes.DecisionTreeClassifier'> (124, 13) (124, 1) wine pimp\n",
      "<class 'sklearn.tree._classes.DecisionTreeClassifier'> (124, 13) (124, 1) wine shap\n",
      "<class 'sklearn.tree._classes.DecisionTreeClassifier'> (124, 13) (124, 1) wine pearson\n",
      "<class 'sklearn.tree._classes.DecisionTreeClassifier'> (124, 13) (124, 1) wine spearman\n",
      "<class 'sklearn.tree._classes.DecisionTreeClassifier'> (124, 13) (124, 1) wine kendall\n",
      "<class 'sklearn.tree._classes.DecisionTreeClassifier'> (124, 13) (124, 1) wine pps\n"
     ]
    },
    {
     "data": {
      "application/vnd.jupyter.widget-view+json": {
       "model_id": "af9e2ecfeb374e0a89ac4e521c810d39",
       "version_major": 2,
       "version_minor": 0
      },
      "text/plain": [
       "Importance type progress for model 1:   0%|          | 0/9 [00:00<?, ?it/s]"
      ]
     },
     "metadata": {},
     "output_type": "display_data"
    },
    {
     "name": "stdout",
     "output_type": "stream",
     "text": [
      "<class 'sklearn.ensemble._forest.RandomForestClassifier'> (124, 13) (124, 1) wine mutual_info\n",
      "<class 'sklearn.ensemble._forest.RandomForestClassifier'> (124, 13) (124, 1) wine f_test\n",
      "<class 'sklearn.ensemble._forest.RandomForestClassifier'> (124, 13) (124, 1) wine pimp\n",
      "<class 'sklearn.ensemble._forest.RandomForestClassifier'> (124, 13) (124, 1) wine shap\n",
      "<class 'sklearn.ensemble._forest.RandomForestClassifier'> (124, 13) (124, 1) wine pearson\n",
      "<class 'sklearn.ensemble._forest.RandomForestClassifier'> (124, 13) (124, 1) wine spearman\n",
      "<class 'sklearn.ensemble._forest.RandomForestClassifier'> (124, 13) (124, 1) wine kendall\n",
      "<class 'sklearn.ensemble._forest.RandomForestClassifier'> (124, 13) (124, 1) wine pps\n"
     ]
    },
    {
     "data": {
      "application/vnd.jupyter.widget-view+json": {
       "model_id": "b5db801dc4e54291b40d4272521b3e96",
       "version_major": 2,
       "version_minor": 0
      },
      "text/plain": [
       "Importance type progress for model 2:   0%|          | 0/9 [00:00<?, ?it/s]"
      ]
     },
     "metadata": {},
     "output_type": "display_data"
    },
    {
     "name": "stdout",
     "output_type": "stream",
     "text": [
      "<class 'xgboost.sklearn.XGBClassifier'> (124, 13) (124, 1) wine mutual_info\n",
      "<class 'xgboost.sklearn.XGBClassifier'> (124, 13) (124, 1) wine f_test\n",
      "<class 'xgboost.sklearn.XGBClassifier'> (124, 13) (124, 1) wine pimp\n",
      "<class 'xgboost.sklearn.XGBClassifier'> (124, 13) (124, 1) wine shap\n",
      "<class 'xgboost.sklearn.XGBClassifier'> (124, 13) (124, 1) wine pearson\n",
      "<class 'xgboost.sklearn.XGBClassifier'> (124, 13) (124, 1) wine spearman\n",
      "<class 'xgboost.sklearn.XGBClassifier'> (124, 13) (124, 1) wine kendall\n",
      "<class 'xgboost.sklearn.XGBClassifier'> (124, 13) (124, 1) wine pps\n"
     ]
    },
    {
     "data": {
      "application/vnd.jupyter.widget-view+json": {
       "model_id": "17a74914e5d84eacaa9ddb3522a1d8be",
       "version_major": 2,
       "version_minor": 0
      },
      "text/plain": [
       "Model progress for dataset 1:   0%|          | 0/3 [00:00<?, ?it/s]"
      ]
     },
     "metadata": {},
     "output_type": "display_data"
    },
    {
     "data": {
      "application/vnd.jupyter.widget-view+json": {
       "model_id": "5327040fe6a440c5a5a93ee14744320f",
       "version_major": 2,
       "version_minor": 0
      },
      "text/plain": [
       "Importance type progress for model 0:   0%|          | 0/9 [00:00<?, ?it/s]"
      ]
     },
     "metadata": {},
     "output_type": "display_data"
    },
    {
     "name": "stdout",
     "output_type": "stream",
     "text": [
      "<class 'sklearn.tree._classes.DecisionTreeClassifier'> (398, 30) (398, 1) breast_cancer mutual_info\n",
      "<class 'sklearn.tree._classes.DecisionTreeClassifier'> (398, 30) (398, 1) breast_cancer f_test\n",
      "<class 'sklearn.tree._classes.DecisionTreeClassifier'> (398, 30) (398, 1) breast_cancer pimp\n",
      "<class 'sklearn.tree._classes.DecisionTreeClassifier'> (398, 30) (398, 1) breast_cancer shap\n",
      "<class 'sklearn.tree._classes.DecisionTreeClassifier'> (398, 30) (398, 1) breast_cancer pearson\n",
      "<class 'sklearn.tree._classes.DecisionTreeClassifier'> (398, 30) (398, 1) breast_cancer spearman\n",
      "<class 'sklearn.tree._classes.DecisionTreeClassifier'> (398, 30) (398, 1) breast_cancer kendall\n",
      "<class 'sklearn.tree._classes.DecisionTreeClassifier'> (398, 30) (398, 1) breast_cancer pps\n"
     ]
    },
    {
     "data": {
      "application/vnd.jupyter.widget-view+json": {
       "model_id": "da9d8a1e26bb4966b27c41f24885fa24",
       "version_major": 2,
       "version_minor": 0
      },
      "text/plain": [
       "Importance type progress for model 1:   0%|          | 0/9 [00:00<?, ?it/s]"
      ]
     },
     "metadata": {},
     "output_type": "display_data"
    },
    {
     "name": "stdout",
     "output_type": "stream",
     "text": [
      "<class 'sklearn.ensemble._forest.RandomForestClassifier'> (398, 30) (398, 1) breast_cancer mutual_info\n",
      "<class 'sklearn.ensemble._forest.RandomForestClassifier'> (398, 30) (398, 1) breast_cancer f_test\n",
      "<class 'sklearn.ensemble._forest.RandomForestClassifier'> (398, 30) (398, 1) breast_cancer pimp\n",
      "<class 'sklearn.ensemble._forest.RandomForestClassifier'> (398, 30) (398, 1) breast_cancer shap\n",
      "<class 'sklearn.ensemble._forest.RandomForestClassifier'> (398, 30) (398, 1) breast_cancer pearson\n",
      "<class 'sklearn.ensemble._forest.RandomForestClassifier'> (398, 30) (398, 1) breast_cancer spearman\n",
      "<class 'sklearn.ensemble._forest.RandomForestClassifier'> (398, 30) (398, 1) breast_cancer kendall\n",
      "<class 'sklearn.ensemble._forest.RandomForestClassifier'> (398, 30) (398, 1) breast_cancer pps\n"
     ]
    },
    {
     "data": {
      "application/vnd.jupyter.widget-view+json": {
       "model_id": "dad9e00b6f5d4b4ea3a9851327babe42",
       "version_major": 2,
       "version_minor": 0
      },
      "text/plain": [
       "Importance type progress for model 2:   0%|          | 0/9 [00:00<?, ?it/s]"
      ]
     },
     "metadata": {},
     "output_type": "display_data"
    },
    {
     "name": "stdout",
     "output_type": "stream",
     "text": [
      "<class 'xgboost.sklearn.XGBClassifier'> (398, 30) (398, 1) breast_cancer mutual_info\n",
      "<class 'xgboost.sklearn.XGBClassifier'> (398, 30) (398, 1) breast_cancer f_test\n",
      "<class 'xgboost.sklearn.XGBClassifier'> (398, 30) (398, 1) breast_cancer pimp\n",
      "<class 'xgboost.sklearn.XGBClassifier'> (398, 30) (398, 1) breast_cancer shap\n",
      "<class 'xgboost.sklearn.XGBClassifier'> (398, 30) (398, 1) breast_cancer pearson\n",
      "<class 'xgboost.sklearn.XGBClassifier'> (398, 30) (398, 1) breast_cancer spearman\n",
      "<class 'xgboost.sklearn.XGBClassifier'> (398, 30) (398, 1) breast_cancer kendall\n",
      "<class 'xgboost.sklearn.XGBClassifier'> (398, 30) (398, 1) breast_cancer pps\n"
     ]
    },
    {
     "data": {
      "application/vnd.jupyter.widget-view+json": {
       "model_id": "881bf8f5d21e4648a4daaaa452cbb518",
       "version_major": 2,
       "version_minor": 0
      },
      "text/plain": [
       "Model progress for dataset 2:   0%|          | 0/3 [00:00<?, ?it/s]"
      ]
     },
     "metadata": {},
     "output_type": "display_data"
    },
    {
     "data": {
      "application/vnd.jupyter.widget-view+json": {
       "model_id": "74b0bce2d9574395a3818e8f0786c239",
       "version_major": 2,
       "version_minor": 0
      },
      "text/plain": [
       "Importance type progress for model 0:   0%|          | 0/9 [00:00<?, ?it/s]"
      ]
     },
     "metadata": {},
     "output_type": "display_data"
    },
    {
     "name": "stdout",
     "output_type": "stream",
     "text": [
      "<class 'sklearn.tree._classes.DecisionTreeClassifier'> (7738, 30) (7738, 1) phishing mutual_info\n",
      "<class 'sklearn.tree._classes.DecisionTreeClassifier'> (7738, 30) (7738, 1) phishing f_test\n",
      "<class 'sklearn.tree._classes.DecisionTreeClassifier'> (7738, 30) (7738, 1) phishing pimp\n",
      "<class 'sklearn.tree._classes.DecisionTreeClassifier'> (7738, 30) (7738, 1) phishing shap\n",
      "<class 'sklearn.tree._classes.DecisionTreeClassifier'> (7738, 30) (7738, 1) phishing pearson\n",
      "<class 'sklearn.tree._classes.DecisionTreeClassifier'> (7738, 30) (7738, 1) phishing spearman\n",
      "<class 'sklearn.tree._classes.DecisionTreeClassifier'> (7738, 30) (7738, 1) phishing kendall\n",
      "<class 'sklearn.tree._classes.DecisionTreeClassifier'> (7738, 30) (7738, 1) phishing pps\n"
     ]
    },
    {
     "data": {
      "application/vnd.jupyter.widget-view+json": {
       "model_id": "6e00157729f342e2b064bdd63c77cef6",
       "version_major": 2,
       "version_minor": 0
      },
      "text/plain": [
       "Importance type progress for model 1:   0%|          | 0/9 [00:00<?, ?it/s]"
      ]
     },
     "metadata": {},
     "output_type": "display_data"
    },
    {
     "name": "stdout",
     "output_type": "stream",
     "text": [
      "<class 'sklearn.ensemble._forest.RandomForestClassifier'> (7738, 30) (7738, 1) phishing mutual_info\n",
      "<class 'sklearn.ensemble._forest.RandomForestClassifier'> (7738, 30) (7738, 1) phishing f_test\n",
      "<class 'sklearn.ensemble._forest.RandomForestClassifier'> (7738, 30) (7738, 1) phishing pimp\n",
      "<class 'sklearn.ensemble._forest.RandomForestClassifier'> (7738, 30) (7738, 1) phishing shap\n",
      "<class 'sklearn.ensemble._forest.RandomForestClassifier'> (7738, 30) (7738, 1) phishing pearson\n",
      "<class 'sklearn.ensemble._forest.RandomForestClassifier'> (7738, 30) (7738, 1) phishing spearman\n",
      "<class 'sklearn.ensemble._forest.RandomForestClassifier'> (7738, 30) (7738, 1) phishing kendall\n",
      "<class 'sklearn.ensemble._forest.RandomForestClassifier'> (7738, 30) (7738, 1) phishing pps\n"
     ]
    },
    {
     "data": {
      "application/vnd.jupyter.widget-view+json": {
       "model_id": "c2118694864c42fc91dd8837dc7af4fd",
       "version_major": 2,
       "version_minor": 0
      },
      "text/plain": [
       "Importance type progress for model 2:   0%|          | 0/9 [00:00<?, ?it/s]"
      ]
     },
     "metadata": {},
     "output_type": "display_data"
    },
    {
     "name": "stdout",
     "output_type": "stream",
     "text": [
      "<class 'xgboost.sklearn.XGBClassifier'> (7738, 30) (7738, 1) phishing mutual_info\n",
      "<class 'xgboost.sklearn.XGBClassifier'> (7738, 30) (7738, 1) phishing f_test\n",
      "<class 'xgboost.sklearn.XGBClassifier'> (7738, 30) (7738, 1) phishing pimp\n",
      "<class 'xgboost.sklearn.XGBClassifier'> (7738, 30) (7738, 1) phishing shap\n",
      "<class 'xgboost.sklearn.XGBClassifier'> (7738, 30) (7738, 1) phishing pearson\n",
      "<class 'xgboost.sklearn.XGBClassifier'> (7738, 30) (7738, 1) phishing spearman\n",
      "<class 'xgboost.sklearn.XGBClassifier'> (7738, 30) (7738, 1) phishing kendall\n",
      "<class 'xgboost.sklearn.XGBClassifier'> (7738, 30) (7738, 1) phishing pps\n"
     ]
    },
    {
     "data": {
      "application/vnd.jupyter.widget-view+json": {
       "model_id": "faf89ba1e8aa43aa93552d47ccd2255d",
       "version_major": 2,
       "version_minor": 0
      },
      "text/plain": [
       "Model progress for dataset 3:   0%|          | 0/3 [00:00<?, ?it/s]"
      ]
     },
     "metadata": {},
     "output_type": "display_data"
    },
    {
     "data": {
      "application/vnd.jupyter.widget-view+json": {
       "model_id": "5ab7b2b2d01e4fdb845156479b5a4e1b",
       "version_major": 2,
       "version_minor": 0
      },
      "text/plain": [
       "Importance type progress for model 0:   0%|          | 0/9 [00:00<?, ?it/s]"
      ]
     },
     "metadata": {},
     "output_type": "display_data"
    },
    {
     "name": "stdout",
     "output_type": "stream",
     "text": [
      "<class 'sklearn.tree._classes.DecisionTreeClassifier'> (5686, 22) (5686, 1) mushroom mutual_info\n",
      "<class 'sklearn.tree._classes.DecisionTreeClassifier'> (5686, 22) (5686, 1) mushroom f_test\n",
      "<class 'sklearn.tree._classes.DecisionTreeClassifier'> (5686, 22) (5686, 1) mushroom pimp\n",
      "<class 'sklearn.tree._classes.DecisionTreeClassifier'> (5686, 22) (5686, 1) mushroom shap\n",
      "<class 'sklearn.tree._classes.DecisionTreeClassifier'> (5686, 22) (5686, 1) mushroom pearson\n",
      "<class 'sklearn.tree._classes.DecisionTreeClassifier'> (5686, 22) (5686, 1) mushroom spearman\n",
      "<class 'sklearn.tree._classes.DecisionTreeClassifier'> (5686, 22) (5686, 1) mushroom kendall\n",
      "<class 'sklearn.tree._classes.DecisionTreeClassifier'> (5686, 22) (5686, 1) mushroom pps\n"
     ]
    },
    {
     "data": {
      "application/vnd.jupyter.widget-view+json": {
       "model_id": "ac58001a50d040a795c0ab9886f0374d",
       "version_major": 2,
       "version_minor": 0
      },
      "text/plain": [
       "Importance type progress for model 1:   0%|          | 0/9 [00:00<?, ?it/s]"
      ]
     },
     "metadata": {},
     "output_type": "display_data"
    },
    {
     "name": "stdout",
     "output_type": "stream",
     "text": [
      "<class 'sklearn.ensemble._forest.RandomForestClassifier'> (5686, 22) (5686, 1) mushroom mutual_info\n",
      "<class 'sklearn.ensemble._forest.RandomForestClassifier'> (5686, 22) (5686, 1) mushroom f_test\n",
      "<class 'sklearn.ensemble._forest.RandomForestClassifier'> (5686, 22) (5686, 1) mushroom pimp\n",
      "<class 'sklearn.ensemble._forest.RandomForestClassifier'> (5686, 22) (5686, 1) mushroom shap\n",
      "<class 'sklearn.ensemble._forest.RandomForestClassifier'> (5686, 22) (5686, 1) mushroom pearson\n",
      "<class 'sklearn.ensemble._forest.RandomForestClassifier'> (5686, 22) (5686, 1) mushroom spearman\n",
      "<class 'sklearn.ensemble._forest.RandomForestClassifier'> (5686, 22) (5686, 1) mushroom kendall\n",
      "<class 'sklearn.ensemble._forest.RandomForestClassifier'> (5686, 22) (5686, 1) mushroom pps\n"
     ]
    },
    {
     "data": {
      "application/vnd.jupyter.widget-view+json": {
       "model_id": "68ad86577ad24a86b04c44a87e18134b",
       "version_major": 2,
       "version_minor": 0
      },
      "text/plain": [
       "Importance type progress for model 2:   0%|          | 0/9 [00:00<?, ?it/s]"
      ]
     },
     "metadata": {},
     "output_type": "display_data"
    },
    {
     "name": "stdout",
     "output_type": "stream",
     "text": [
      "<class 'xgboost.sklearn.XGBClassifier'> (5686, 22) (5686, 1) mushroom mutual_info\n",
      "<class 'xgboost.sklearn.XGBClassifier'> (5686, 22) (5686, 1) mushroom f_test\n",
      "<class 'xgboost.sklearn.XGBClassifier'> (5686, 22) (5686, 1) mushroom pimp\n",
      "<class 'xgboost.sklearn.XGBClassifier'> (5686, 22) (5686, 1) mushroom shap\n",
      "<class 'xgboost.sklearn.XGBClassifier'> (5686, 22) (5686, 1) mushroom pearson\n",
      "<class 'xgboost.sklearn.XGBClassifier'> (5686, 22) (5686, 1) mushroom spearman\n",
      "<class 'xgboost.sklearn.XGBClassifier'> (5686, 22) (5686, 1) mushroom kendall\n",
      "<class 'xgboost.sklearn.XGBClassifier'> (5686, 22) (5686, 1) mushroom pps\n"
     ]
    },
    {
     "data": {
      "application/vnd.jupyter.widget-view+json": {
       "model_id": "e0ed2aeb592343f7951bf28577e37771",
       "version_major": 2,
       "version_minor": 0
      },
      "text/plain": [
       "Dataset progress:   0%|          | 0/4 [00:00<?, ?it/s]"
      ]
     },
     "metadata": {},
     "output_type": "display_data"
    },
    {
     "data": {
      "application/vnd.jupyter.widget-view+json": {
       "model_id": "b4207127abc64e28a21688a361fa4ab6",
       "version_major": 2,
       "version_minor": 0
      },
      "text/plain": [
       "Model progress for dataset 0:   0%|          | 0/3 [00:00<?, ?it/s]"
      ]
     },
     "metadata": {},
     "output_type": "display_data"
    },
    {
     "data": {
      "application/vnd.jupyter.widget-view+json": {
       "model_id": "32a9ba1a95c54d968e531361b2ad4337",
       "version_major": 2,
       "version_minor": 0
      },
      "text/plain": [
       "Importance type progress for model 0:   0%|          | 0/9 [00:00<?, ?it/s]"
      ]
     },
     "metadata": {},
     "output_type": "display_data"
    },
    {
     "name": "stdout",
     "output_type": "stream",
     "text": [
      "<class 'sklearn.tree._classes.DecisionTreeClassifier'> (124, 13) (124, 1) wine mutual_info\n",
      "<class 'sklearn.tree._classes.DecisionTreeClassifier'> (124, 13) (124, 1) wine f_test\n",
      "<class 'sklearn.tree._classes.DecisionTreeClassifier'> (124, 13) (124, 1) wine pimp\n",
      "<class 'sklearn.tree._classes.DecisionTreeClassifier'> (124, 13) (124, 1) wine shap\n",
      "<class 'sklearn.tree._classes.DecisionTreeClassifier'> (124, 13) (124, 1) wine pearson\n",
      "<class 'sklearn.tree._classes.DecisionTreeClassifier'> (124, 13) (124, 1) wine spearman\n",
      "<class 'sklearn.tree._classes.DecisionTreeClassifier'> (124, 13) (124, 1) wine kendall\n",
      "<class 'sklearn.tree._classes.DecisionTreeClassifier'> (124, 13) (124, 1) wine pps\n"
     ]
    },
    {
     "data": {
      "application/vnd.jupyter.widget-view+json": {
       "model_id": "7a63989f0ee94cf5b7e0472250305d55",
       "version_major": 2,
       "version_minor": 0
      },
      "text/plain": [
       "Importance type progress for model 1:   0%|          | 0/9 [00:00<?, ?it/s]"
      ]
     },
     "metadata": {},
     "output_type": "display_data"
    },
    {
     "name": "stdout",
     "output_type": "stream",
     "text": [
      "<class 'sklearn.ensemble._forest.RandomForestClassifier'> (124, 13) (124, 1) wine mutual_info\n",
      "<class 'sklearn.ensemble._forest.RandomForestClassifier'> (124, 13) (124, 1) wine f_test\n",
      "<class 'sklearn.ensemble._forest.RandomForestClassifier'> (124, 13) (124, 1) wine pimp\n",
      "<class 'sklearn.ensemble._forest.RandomForestClassifier'> (124, 13) (124, 1) wine shap\n",
      "<class 'sklearn.ensemble._forest.RandomForestClassifier'> (124, 13) (124, 1) wine pearson\n",
      "<class 'sklearn.ensemble._forest.RandomForestClassifier'> (124, 13) (124, 1) wine spearman\n",
      "<class 'sklearn.ensemble._forest.RandomForestClassifier'> (124, 13) (124, 1) wine kendall\n",
      "<class 'sklearn.ensemble._forest.RandomForestClassifier'> (124, 13) (124, 1) wine pps\n"
     ]
    },
    {
     "data": {
      "application/vnd.jupyter.widget-view+json": {
       "model_id": "fe48d8094f90421d9cfe4e3ffd8038d6",
       "version_major": 2,
       "version_minor": 0
      },
      "text/plain": [
       "Importance type progress for model 2:   0%|          | 0/9 [00:00<?, ?it/s]"
      ]
     },
     "metadata": {},
     "output_type": "display_data"
    },
    {
     "name": "stdout",
     "output_type": "stream",
     "text": [
      "<class 'xgboost.sklearn.XGBClassifier'> (124, 13) (124, 1) wine mutual_info\n",
      "<class 'xgboost.sklearn.XGBClassifier'> (124, 13) (124, 1) wine f_test\n",
      "<class 'xgboost.sklearn.XGBClassifier'> (124, 13) (124, 1) wine pimp\n",
      "<class 'xgboost.sklearn.XGBClassifier'> (124, 13) (124, 1) wine shap\n",
      "<class 'xgboost.sklearn.XGBClassifier'> (124, 13) (124, 1) wine pearson\n",
      "<class 'xgboost.sklearn.XGBClassifier'> (124, 13) (124, 1) wine spearman\n",
      "<class 'xgboost.sklearn.XGBClassifier'> (124, 13) (124, 1) wine kendall\n",
      "<class 'xgboost.sklearn.XGBClassifier'> (124, 13) (124, 1) wine pps\n"
     ]
    },
    {
     "data": {
      "application/vnd.jupyter.widget-view+json": {
       "model_id": "b16a2b00117b4f49b0a9c9f08b6bb64e",
       "version_major": 2,
       "version_minor": 0
      },
      "text/plain": [
       "Model progress for dataset 1:   0%|          | 0/3 [00:00<?, ?it/s]"
      ]
     },
     "metadata": {},
     "output_type": "display_data"
    },
    {
     "data": {
      "application/vnd.jupyter.widget-view+json": {
       "model_id": "69b312856bd246a48fe2e42231c2cd09",
       "version_major": 2,
       "version_minor": 0
      },
      "text/plain": [
       "Importance type progress for model 0:   0%|          | 0/9 [00:00<?, ?it/s]"
      ]
     },
     "metadata": {},
     "output_type": "display_data"
    },
    {
     "name": "stdout",
     "output_type": "stream",
     "text": [
      "<class 'sklearn.tree._classes.DecisionTreeClassifier'> (398, 30) (398, 1) breast_cancer mutual_info\n",
      "<class 'sklearn.tree._classes.DecisionTreeClassifier'> (398, 30) (398, 1) breast_cancer f_test\n",
      "<class 'sklearn.tree._classes.DecisionTreeClassifier'> (398, 30) (398, 1) breast_cancer pimp\n",
      "<class 'sklearn.tree._classes.DecisionTreeClassifier'> (398, 30) (398, 1) breast_cancer shap\n",
      "<class 'sklearn.tree._classes.DecisionTreeClassifier'> (398, 30) (398, 1) breast_cancer pearson\n",
      "<class 'sklearn.tree._classes.DecisionTreeClassifier'> (398, 30) (398, 1) breast_cancer spearman\n",
      "<class 'sklearn.tree._classes.DecisionTreeClassifier'> (398, 30) (398, 1) breast_cancer kendall\n",
      "<class 'sklearn.tree._classes.DecisionTreeClassifier'> (398, 30) (398, 1) breast_cancer pps\n"
     ]
    },
    {
     "data": {
      "application/vnd.jupyter.widget-view+json": {
       "model_id": "06323c848f444a3aa561d4958c35195d",
       "version_major": 2,
       "version_minor": 0
      },
      "text/plain": [
       "Importance type progress for model 1:   0%|          | 0/9 [00:00<?, ?it/s]"
      ]
     },
     "metadata": {},
     "output_type": "display_data"
    },
    {
     "name": "stdout",
     "output_type": "stream",
     "text": [
      "<class 'sklearn.ensemble._forest.RandomForestClassifier'> (398, 30) (398, 1) breast_cancer mutual_info\n",
      "<class 'sklearn.ensemble._forest.RandomForestClassifier'> (398, 30) (398, 1) breast_cancer f_test\n",
      "<class 'sklearn.ensemble._forest.RandomForestClassifier'> (398, 30) (398, 1) breast_cancer pimp\n",
      "<class 'sklearn.ensemble._forest.RandomForestClassifier'> (398, 30) (398, 1) breast_cancer shap\n",
      "<class 'sklearn.ensemble._forest.RandomForestClassifier'> (398, 30) (398, 1) breast_cancer pearson\n",
      "<class 'sklearn.ensemble._forest.RandomForestClassifier'> (398, 30) (398, 1) breast_cancer spearman\n",
      "<class 'sklearn.ensemble._forest.RandomForestClassifier'> (398, 30) (398, 1) breast_cancer kendall\n",
      "<class 'sklearn.ensemble._forest.RandomForestClassifier'> (398, 30) (398, 1) breast_cancer pps\n"
     ]
    },
    {
     "data": {
      "application/vnd.jupyter.widget-view+json": {
       "model_id": "c419de6777784cc88b016e3bf36288f3",
       "version_major": 2,
       "version_minor": 0
      },
      "text/plain": [
       "Importance type progress for model 2:   0%|          | 0/9 [00:00<?, ?it/s]"
      ]
     },
     "metadata": {},
     "output_type": "display_data"
    },
    {
     "name": "stdout",
     "output_type": "stream",
     "text": [
      "<class 'xgboost.sklearn.XGBClassifier'> (398, 30) (398, 1) breast_cancer mutual_info\n",
      "<class 'xgboost.sklearn.XGBClassifier'> (398, 30) (398, 1) breast_cancer f_test\n",
      "<class 'xgboost.sklearn.XGBClassifier'> (398, 30) (398, 1) breast_cancer pimp\n",
      "<class 'xgboost.sklearn.XGBClassifier'> (398, 30) (398, 1) breast_cancer shap\n",
      "<class 'xgboost.sklearn.XGBClassifier'> (398, 30) (398, 1) breast_cancer pearson\n",
      "<class 'xgboost.sklearn.XGBClassifier'> (398, 30) (398, 1) breast_cancer spearman\n",
      "<class 'xgboost.sklearn.XGBClassifier'> (398, 30) (398, 1) breast_cancer kendall\n",
      "<class 'xgboost.sklearn.XGBClassifier'> (398, 30) (398, 1) breast_cancer pps\n"
     ]
    },
    {
     "data": {
      "application/vnd.jupyter.widget-view+json": {
       "model_id": "579eb97441d9406282fcd7f4d665c0b6",
       "version_major": 2,
       "version_minor": 0
      },
      "text/plain": [
       "Model progress for dataset 2:   0%|          | 0/3 [00:00<?, ?it/s]"
      ]
     },
     "metadata": {},
     "output_type": "display_data"
    },
    {
     "data": {
      "application/vnd.jupyter.widget-view+json": {
       "model_id": "dcf252192ebc4a61b9088435f5d4f53a",
       "version_major": 2,
       "version_minor": 0
      },
      "text/plain": [
       "Importance type progress for model 0:   0%|          | 0/9 [00:00<?, ?it/s]"
      ]
     },
     "metadata": {},
     "output_type": "display_data"
    },
    {
     "name": "stdout",
     "output_type": "stream",
     "text": [
      "<class 'sklearn.tree._classes.DecisionTreeClassifier'> (7738, 30) (7738, 1) phishing mutual_info\n",
      "<class 'sklearn.tree._classes.DecisionTreeClassifier'> (7738, 30) (7738, 1) phishing f_test\n",
      "<class 'sklearn.tree._classes.DecisionTreeClassifier'> (7738, 30) (7738, 1) phishing pimp\n",
      "<class 'sklearn.tree._classes.DecisionTreeClassifier'> (7738, 30) (7738, 1) phishing shap\n",
      "<class 'sklearn.tree._classes.DecisionTreeClassifier'> (7738, 30) (7738, 1) phishing pearson\n",
      "<class 'sklearn.tree._classes.DecisionTreeClassifier'> (7738, 30) (7738, 1) phishing spearman\n",
      "<class 'sklearn.tree._classes.DecisionTreeClassifier'> (7738, 30) (7738, 1) phishing kendall\n",
      "<class 'sklearn.tree._classes.DecisionTreeClassifier'> (7738, 30) (7738, 1) phishing pps\n"
     ]
    },
    {
     "data": {
      "application/vnd.jupyter.widget-view+json": {
       "model_id": "d7f281ba89a64e3ead35f87358931387",
       "version_major": 2,
       "version_minor": 0
      },
      "text/plain": [
       "Importance type progress for model 1:   0%|          | 0/9 [00:00<?, ?it/s]"
      ]
     },
     "metadata": {},
     "output_type": "display_data"
    },
    {
     "name": "stdout",
     "output_type": "stream",
     "text": [
      "<class 'sklearn.ensemble._forest.RandomForestClassifier'> (7738, 30) (7738, 1) phishing mutual_info\n",
      "<class 'sklearn.ensemble._forest.RandomForestClassifier'> (7738, 30) (7738, 1) phishing f_test\n",
      "<class 'sklearn.ensemble._forest.RandomForestClassifier'> (7738, 30) (7738, 1) phishing pimp\n",
      "<class 'sklearn.ensemble._forest.RandomForestClassifier'> (7738, 30) (7738, 1) phishing shap\n",
      "<class 'sklearn.ensemble._forest.RandomForestClassifier'> (7738, 30) (7738, 1) phishing pearson\n",
      "<class 'sklearn.ensemble._forest.RandomForestClassifier'> (7738, 30) (7738, 1) phishing spearman\n",
      "<class 'sklearn.ensemble._forest.RandomForestClassifier'> (7738, 30) (7738, 1) phishing kendall\n",
      "<class 'sklearn.ensemble._forest.RandomForestClassifier'> (7738, 30) (7738, 1) phishing pps\n"
     ]
    },
    {
     "data": {
      "application/vnd.jupyter.widget-view+json": {
       "model_id": "6b120313beb1422fb59582f166d7d94b",
       "version_major": 2,
       "version_minor": 0
      },
      "text/plain": [
       "Importance type progress for model 2:   0%|          | 0/9 [00:00<?, ?it/s]"
      ]
     },
     "metadata": {},
     "output_type": "display_data"
    },
    {
     "name": "stdout",
     "output_type": "stream",
     "text": [
      "<class 'xgboost.sklearn.XGBClassifier'> (7738, 30) (7738, 1) phishing mutual_info\n",
      "<class 'xgboost.sklearn.XGBClassifier'> (7738, 30) (7738, 1) phishing f_test\n",
      "<class 'xgboost.sklearn.XGBClassifier'> (7738, 30) (7738, 1) phishing pimp\n",
      "<class 'xgboost.sklearn.XGBClassifier'> (7738, 30) (7738, 1) phishing shap\n",
      "<class 'xgboost.sklearn.XGBClassifier'> (7738, 30) (7738, 1) phishing pearson\n",
      "<class 'xgboost.sklearn.XGBClassifier'> (7738, 30) (7738, 1) phishing spearman\n",
      "<class 'xgboost.sklearn.XGBClassifier'> (7738, 30) (7738, 1) phishing kendall\n",
      "<class 'xgboost.sklearn.XGBClassifier'> (7738, 30) (7738, 1) phishing pps\n"
     ]
    },
    {
     "data": {
      "application/vnd.jupyter.widget-view+json": {
       "model_id": "bee0e091e1b84a75ac050aaf87b0a279",
       "version_major": 2,
       "version_minor": 0
      },
      "text/plain": [
       "Model progress for dataset 3:   0%|          | 0/3 [00:00<?, ?it/s]"
      ]
     },
     "metadata": {},
     "output_type": "display_data"
    },
    {
     "data": {
      "application/vnd.jupyter.widget-view+json": {
       "model_id": "440a9b7438fb4d0dac7dcc8538695926",
       "version_major": 2,
       "version_minor": 0
      },
      "text/plain": [
       "Importance type progress for model 0:   0%|          | 0/9 [00:00<?, ?it/s]"
      ]
     },
     "metadata": {},
     "output_type": "display_data"
    },
    {
     "name": "stdout",
     "output_type": "stream",
     "text": [
      "<class 'sklearn.tree._classes.DecisionTreeClassifier'> (5686, 22) (5686, 1) mushroom mutual_info\n",
      "<class 'sklearn.tree._classes.DecisionTreeClassifier'> (5686, 22) (5686, 1) mushroom f_test\n",
      "<class 'sklearn.tree._classes.DecisionTreeClassifier'> (5686, 22) (5686, 1) mushroom pimp\n",
      "<class 'sklearn.tree._classes.DecisionTreeClassifier'> (5686, 22) (5686, 1) mushroom shap\n",
      "<class 'sklearn.tree._classes.DecisionTreeClassifier'> (5686, 22) (5686, 1) mushroom pearson\n",
      "<class 'sklearn.tree._classes.DecisionTreeClassifier'> (5686, 22) (5686, 1) mushroom spearman\n",
      "<class 'sklearn.tree._classes.DecisionTreeClassifier'> (5686, 22) (5686, 1) mushroom kendall\n",
      "<class 'sklearn.tree._classes.DecisionTreeClassifier'> (5686, 22) (5686, 1) mushroom pps\n"
     ]
    },
    {
     "data": {
      "application/vnd.jupyter.widget-view+json": {
       "model_id": "cf4e0e13542946649c3aeaf0294526b5",
       "version_major": 2,
       "version_minor": 0
      },
      "text/plain": [
       "Importance type progress for model 1:   0%|          | 0/9 [00:00<?, ?it/s]"
      ]
     },
     "metadata": {},
     "output_type": "display_data"
    },
    {
     "name": "stdout",
     "output_type": "stream",
     "text": [
      "<class 'sklearn.ensemble._forest.RandomForestClassifier'> (5686, 22) (5686, 1) mushroom mutual_info\n",
      "<class 'sklearn.ensemble._forest.RandomForestClassifier'> (5686, 22) (5686, 1) mushroom f_test\n",
      "<class 'sklearn.ensemble._forest.RandomForestClassifier'> (5686, 22) (5686, 1) mushroom pimp\n",
      "<class 'sklearn.ensemble._forest.RandomForestClassifier'> (5686, 22) (5686, 1) mushroom shap\n",
      "<class 'sklearn.ensemble._forest.RandomForestClassifier'> (5686, 22) (5686, 1) mushroom pearson\n",
      "<class 'sklearn.ensemble._forest.RandomForestClassifier'> (5686, 22) (5686, 1) mushroom spearman\n",
      "<class 'sklearn.ensemble._forest.RandomForestClassifier'> (5686, 22) (5686, 1) mushroom kendall\n",
      "<class 'sklearn.ensemble._forest.RandomForestClassifier'> (5686, 22) (5686, 1) mushroom pps\n"
     ]
    },
    {
     "data": {
      "application/vnd.jupyter.widget-view+json": {
       "model_id": "78de51e2dde84d50b204b5e927f15db5",
       "version_major": 2,
       "version_minor": 0
      },
      "text/plain": [
       "Importance type progress for model 2:   0%|          | 0/9 [00:00<?, ?it/s]"
      ]
     },
     "metadata": {},
     "output_type": "display_data"
    },
    {
     "name": "stdout",
     "output_type": "stream",
     "text": [
      "<class 'xgboost.sklearn.XGBClassifier'> (5686, 22) (5686, 1) mushroom mutual_info\n",
      "<class 'xgboost.sklearn.XGBClassifier'> (5686, 22) (5686, 1) mushroom f_test\n",
      "<class 'xgboost.sklearn.XGBClassifier'> (5686, 22) (5686, 1) mushroom pimp\n",
      "<class 'xgboost.sklearn.XGBClassifier'> (5686, 22) (5686, 1) mushroom shap\n",
      "<class 'xgboost.sklearn.XGBClassifier'> (5686, 22) (5686, 1) mushroom pearson\n",
      "<class 'xgboost.sklearn.XGBClassifier'> (5686, 22) (5686, 1) mushroom spearman\n",
      "<class 'xgboost.sklearn.XGBClassifier'> (5686, 22) (5686, 1) mushroom kendall\n",
      "<class 'xgboost.sklearn.XGBClassifier'> (5686, 22) (5686, 1) mushroom pps\n"
     ]
    },
    {
     "data": {
      "application/vnd.jupyter.widget-view+json": {
       "model_id": "13043913cafd425ea183f55543ceacf4",
       "version_major": 2,
       "version_minor": 0
      },
      "text/plain": [
       "Dataset progress:   0%|          | 0/4 [00:00<?, ?it/s]"
      ]
     },
     "metadata": {},
     "output_type": "display_data"
    },
    {
     "data": {
      "application/vnd.jupyter.widget-view+json": {
       "model_id": "8c9846536e904cf895a1e16d56a1808e",
       "version_major": 2,
       "version_minor": 0
      },
      "text/plain": [
       "Model progress for dataset 0:   0%|          | 0/3 [00:00<?, ?it/s]"
      ]
     },
     "metadata": {},
     "output_type": "display_data"
    },
    {
     "data": {
      "application/vnd.jupyter.widget-view+json": {
       "model_id": "bd57929f236b44fcb3ea5e8257882cb3",
       "version_major": 2,
       "version_minor": 0
      },
      "text/plain": [
       "Importance type progress for model 0:   0%|          | 0/9 [00:00<?, ?it/s]"
      ]
     },
     "metadata": {},
     "output_type": "display_data"
    },
    {
     "name": "stdout",
     "output_type": "stream",
     "text": [
      "<class 'sklearn.tree._classes.DecisionTreeClassifier'> (124, 13) (124, 1) wine mutual_info\n",
      "<class 'sklearn.tree._classes.DecisionTreeClassifier'> (124, 13) (124, 1) wine f_test\n",
      "<class 'sklearn.tree._classes.DecisionTreeClassifier'> (124, 13) (124, 1) wine pimp\n",
      "<class 'sklearn.tree._classes.DecisionTreeClassifier'> (124, 13) (124, 1) wine shap\n",
      "<class 'sklearn.tree._classes.DecisionTreeClassifier'> (124, 13) (124, 1) wine pearson\n",
      "<class 'sklearn.tree._classes.DecisionTreeClassifier'> (124, 13) (124, 1) wine spearman\n",
      "<class 'sklearn.tree._classes.DecisionTreeClassifier'> (124, 13) (124, 1) wine kendall\n",
      "<class 'sklearn.tree._classes.DecisionTreeClassifier'> (124, 13) (124, 1) wine pps\n"
     ]
    },
    {
     "data": {
      "application/vnd.jupyter.widget-view+json": {
       "model_id": "41bfccdafde146979fdaa4c38497b380",
       "version_major": 2,
       "version_minor": 0
      },
      "text/plain": [
       "Importance type progress for model 1:   0%|          | 0/9 [00:00<?, ?it/s]"
      ]
     },
     "metadata": {},
     "output_type": "display_data"
    },
    {
     "name": "stdout",
     "output_type": "stream",
     "text": [
      "<class 'sklearn.ensemble._forest.RandomForestClassifier'> (124, 13) (124, 1) wine mutual_info\n",
      "<class 'sklearn.ensemble._forest.RandomForestClassifier'> (124, 13) (124, 1) wine f_test\n",
      "<class 'sklearn.ensemble._forest.RandomForestClassifier'> (124, 13) (124, 1) wine pimp\n",
      "<class 'sklearn.ensemble._forest.RandomForestClassifier'> (124, 13) (124, 1) wine shap\n",
      "<class 'sklearn.ensemble._forest.RandomForestClassifier'> (124, 13) (124, 1) wine pearson\n",
      "<class 'sklearn.ensemble._forest.RandomForestClassifier'> (124, 13) (124, 1) wine spearman\n",
      "<class 'sklearn.ensemble._forest.RandomForestClassifier'> (124, 13) (124, 1) wine kendall\n",
      "<class 'sklearn.ensemble._forest.RandomForestClassifier'> (124, 13) (124, 1) wine pps\n"
     ]
    },
    {
     "data": {
      "application/vnd.jupyter.widget-view+json": {
       "model_id": "a976006a5a0747958b925611baebd904",
       "version_major": 2,
       "version_minor": 0
      },
      "text/plain": [
       "Importance type progress for model 2:   0%|          | 0/9 [00:00<?, ?it/s]"
      ]
     },
     "metadata": {},
     "output_type": "display_data"
    },
    {
     "name": "stdout",
     "output_type": "stream",
     "text": [
      "<class 'xgboost.sklearn.XGBClassifier'> (124, 13) (124, 1) wine mutual_info\n",
      "<class 'xgboost.sklearn.XGBClassifier'> (124, 13) (124, 1) wine f_test\n",
      "<class 'xgboost.sklearn.XGBClassifier'> (124, 13) (124, 1) wine pimp\n",
      "<class 'xgboost.sklearn.XGBClassifier'> (124, 13) (124, 1) wine shap\n",
      "<class 'xgboost.sklearn.XGBClassifier'> (124, 13) (124, 1) wine pearson\n",
      "<class 'xgboost.sklearn.XGBClassifier'> (124, 13) (124, 1) wine spearman\n",
      "<class 'xgboost.sklearn.XGBClassifier'> (124, 13) (124, 1) wine kendall\n",
      "<class 'xgboost.sklearn.XGBClassifier'> (124, 13) (124, 1) wine pps\n"
     ]
    },
    {
     "data": {
      "application/vnd.jupyter.widget-view+json": {
       "model_id": "56164a4d3608430c8b40e10ce9e13f23",
       "version_major": 2,
       "version_minor": 0
      },
      "text/plain": [
       "Model progress for dataset 1:   0%|          | 0/3 [00:00<?, ?it/s]"
      ]
     },
     "metadata": {},
     "output_type": "display_data"
    },
    {
     "data": {
      "application/vnd.jupyter.widget-view+json": {
       "model_id": "683f6460762d4c7991115a5ba9a58aec",
       "version_major": 2,
       "version_minor": 0
      },
      "text/plain": [
       "Importance type progress for model 0:   0%|          | 0/9 [00:00<?, ?it/s]"
      ]
     },
     "metadata": {},
     "output_type": "display_data"
    },
    {
     "name": "stdout",
     "output_type": "stream",
     "text": [
      "<class 'sklearn.tree._classes.DecisionTreeClassifier'> (398, 30) (398, 1) breast_cancer mutual_info\n",
      "<class 'sklearn.tree._classes.DecisionTreeClassifier'> (398, 30) (398, 1) breast_cancer f_test\n",
      "<class 'sklearn.tree._classes.DecisionTreeClassifier'> (398, 30) (398, 1) breast_cancer pimp\n",
      "<class 'sklearn.tree._classes.DecisionTreeClassifier'> (398, 30) (398, 1) breast_cancer shap\n",
      "<class 'sklearn.tree._classes.DecisionTreeClassifier'> (398, 30) (398, 1) breast_cancer pearson\n",
      "<class 'sklearn.tree._classes.DecisionTreeClassifier'> (398, 30) (398, 1) breast_cancer spearman\n",
      "<class 'sklearn.tree._classes.DecisionTreeClassifier'> (398, 30) (398, 1) breast_cancer kendall\n",
      "<class 'sklearn.tree._classes.DecisionTreeClassifier'> (398, 30) (398, 1) breast_cancer pps\n"
     ]
    },
    {
     "data": {
      "application/vnd.jupyter.widget-view+json": {
       "model_id": "030d48c0ed6b47afb7dd07f2982f2e92",
       "version_major": 2,
       "version_minor": 0
      },
      "text/plain": [
       "Importance type progress for model 1:   0%|          | 0/9 [00:00<?, ?it/s]"
      ]
     },
     "metadata": {},
     "output_type": "display_data"
    },
    {
     "name": "stdout",
     "output_type": "stream",
     "text": [
      "<class 'sklearn.ensemble._forest.RandomForestClassifier'> (398, 30) (398, 1) breast_cancer mutual_info\n",
      "<class 'sklearn.ensemble._forest.RandomForestClassifier'> (398, 30) (398, 1) breast_cancer f_test\n",
      "<class 'sklearn.ensemble._forest.RandomForestClassifier'> (398, 30) (398, 1) breast_cancer pimp\n",
      "<class 'sklearn.ensemble._forest.RandomForestClassifier'> (398, 30) (398, 1) breast_cancer shap\n",
      "<class 'sklearn.ensemble._forest.RandomForestClassifier'> (398, 30) (398, 1) breast_cancer pearson\n",
      "<class 'sklearn.ensemble._forest.RandomForestClassifier'> (398, 30) (398, 1) breast_cancer spearman\n",
      "<class 'sklearn.ensemble._forest.RandomForestClassifier'> (398, 30) (398, 1) breast_cancer kendall\n",
      "<class 'sklearn.ensemble._forest.RandomForestClassifier'> (398, 30) (398, 1) breast_cancer pps\n"
     ]
    },
    {
     "data": {
      "application/vnd.jupyter.widget-view+json": {
       "model_id": "286eafc3910049e69870d618fb44881e",
       "version_major": 2,
       "version_minor": 0
      },
      "text/plain": [
       "Importance type progress for model 2:   0%|          | 0/9 [00:00<?, ?it/s]"
      ]
     },
     "metadata": {},
     "output_type": "display_data"
    },
    {
     "name": "stdout",
     "output_type": "stream",
     "text": [
      "<class 'xgboost.sklearn.XGBClassifier'> (398, 30) (398, 1) breast_cancer mutual_info\n",
      "<class 'xgboost.sklearn.XGBClassifier'> (398, 30) (398, 1) breast_cancer f_test\n",
      "<class 'xgboost.sklearn.XGBClassifier'> (398, 30) (398, 1) breast_cancer pimp\n",
      "<class 'xgboost.sklearn.XGBClassifier'> (398, 30) (398, 1) breast_cancer shap\n",
      "<class 'xgboost.sklearn.XGBClassifier'> (398, 30) (398, 1) breast_cancer pearson\n",
      "<class 'xgboost.sklearn.XGBClassifier'> (398, 30) (398, 1) breast_cancer spearman\n",
      "<class 'xgboost.sklearn.XGBClassifier'> (398, 30) (398, 1) breast_cancer kendall\n",
      "<class 'xgboost.sklearn.XGBClassifier'> (398, 30) (398, 1) breast_cancer pps\n"
     ]
    },
    {
     "data": {
      "application/vnd.jupyter.widget-view+json": {
       "model_id": "ab3b342f08e049cf9388daaf8f087e64",
       "version_major": 2,
       "version_minor": 0
      },
      "text/plain": [
       "Model progress for dataset 2:   0%|          | 0/3 [00:00<?, ?it/s]"
      ]
     },
     "metadata": {},
     "output_type": "display_data"
    },
    {
     "data": {
      "application/vnd.jupyter.widget-view+json": {
       "model_id": "fbef9693fc2540a79b1de76120eda715",
       "version_major": 2,
       "version_minor": 0
      },
      "text/plain": [
       "Importance type progress for model 0:   0%|          | 0/9 [00:00<?, ?it/s]"
      ]
     },
     "metadata": {},
     "output_type": "display_data"
    },
    {
     "name": "stdout",
     "output_type": "stream",
     "text": [
      "<class 'sklearn.tree._classes.DecisionTreeClassifier'> (7738, 30) (7738, 1) phishing mutual_info\n",
      "<class 'sklearn.tree._classes.DecisionTreeClassifier'> (7738, 30) (7738, 1) phishing f_test\n",
      "<class 'sklearn.tree._classes.DecisionTreeClassifier'> (7738, 30) (7738, 1) phishing pimp\n",
      "<class 'sklearn.tree._classes.DecisionTreeClassifier'> (7738, 30) (7738, 1) phishing shap\n",
      "<class 'sklearn.tree._classes.DecisionTreeClassifier'> (7738, 30) (7738, 1) phishing pearson\n",
      "<class 'sklearn.tree._classes.DecisionTreeClassifier'> (7738, 30) (7738, 1) phishing spearman\n",
      "<class 'sklearn.tree._classes.DecisionTreeClassifier'> (7738, 30) (7738, 1) phishing kendall\n",
      "<class 'sklearn.tree._classes.DecisionTreeClassifier'> (7738, 30) (7738, 1) phishing pps\n"
     ]
    },
    {
     "data": {
      "application/vnd.jupyter.widget-view+json": {
       "model_id": "dbd71087a6204413b6b4fc4e9333de3b",
       "version_major": 2,
       "version_minor": 0
      },
      "text/plain": [
       "Importance type progress for model 1:   0%|          | 0/9 [00:00<?, ?it/s]"
      ]
     },
     "metadata": {},
     "output_type": "display_data"
    },
    {
     "name": "stdout",
     "output_type": "stream",
     "text": [
      "<class 'sklearn.ensemble._forest.RandomForestClassifier'> (7738, 30) (7738, 1) phishing mutual_info\n",
      "<class 'sklearn.ensemble._forest.RandomForestClassifier'> (7738, 30) (7738, 1) phishing f_test\n",
      "<class 'sklearn.ensemble._forest.RandomForestClassifier'> (7738, 30) (7738, 1) phishing pimp\n",
      "<class 'sklearn.ensemble._forest.RandomForestClassifier'> (7738, 30) (7738, 1) phishing shap\n",
      "<class 'sklearn.ensemble._forest.RandomForestClassifier'> (7738, 30) (7738, 1) phishing pearson\n",
      "<class 'sklearn.ensemble._forest.RandomForestClassifier'> (7738, 30) (7738, 1) phishing spearman\n",
      "<class 'sklearn.ensemble._forest.RandomForestClassifier'> (7738, 30) (7738, 1) phishing kendall\n",
      "<class 'sklearn.ensemble._forest.RandomForestClassifier'> (7738, 30) (7738, 1) phishing pps\n"
     ]
    },
    {
     "data": {
      "application/vnd.jupyter.widget-view+json": {
       "model_id": "f8a1abdd96154f5999bd89d659518873",
       "version_major": 2,
       "version_minor": 0
      },
      "text/plain": [
       "Importance type progress for model 2:   0%|          | 0/9 [00:00<?, ?it/s]"
      ]
     },
     "metadata": {},
     "output_type": "display_data"
    },
    {
     "name": "stdout",
     "output_type": "stream",
     "text": [
      "<class 'xgboost.sklearn.XGBClassifier'> (7738, 30) (7738, 1) phishing mutual_info\n",
      "<class 'xgboost.sklearn.XGBClassifier'> (7738, 30) (7738, 1) phishing f_test\n",
      "<class 'xgboost.sklearn.XGBClassifier'> (7738, 30) (7738, 1) phishing pimp\n",
      "<class 'xgboost.sklearn.XGBClassifier'> (7738, 30) (7738, 1) phishing shap\n",
      "<class 'xgboost.sklearn.XGBClassifier'> (7738, 30) (7738, 1) phishing pearson\n",
      "<class 'xgboost.sklearn.XGBClassifier'> (7738, 30) (7738, 1) phishing spearman\n",
      "<class 'xgboost.sklearn.XGBClassifier'> (7738, 30) (7738, 1) phishing kendall\n",
      "<class 'xgboost.sklearn.XGBClassifier'> (7738, 30) (7738, 1) phishing pps\n"
     ]
    },
    {
     "data": {
      "application/vnd.jupyter.widget-view+json": {
       "model_id": "bb0de78064b44532904b7cb9c80c3935",
       "version_major": 2,
       "version_minor": 0
      },
      "text/plain": [
       "Model progress for dataset 3:   0%|          | 0/3 [00:00<?, ?it/s]"
      ]
     },
     "metadata": {},
     "output_type": "display_data"
    },
    {
     "data": {
      "application/vnd.jupyter.widget-view+json": {
       "model_id": "2aff696a8b4a4052b07297b7fddec20e",
       "version_major": 2,
       "version_minor": 0
      },
      "text/plain": [
       "Importance type progress for model 0:   0%|          | 0/9 [00:00<?, ?it/s]"
      ]
     },
     "metadata": {},
     "output_type": "display_data"
    },
    {
     "name": "stdout",
     "output_type": "stream",
     "text": [
      "<class 'sklearn.tree._classes.DecisionTreeClassifier'> (5686, 22) (5686, 1) mushroom mutual_info\n",
      "<class 'sklearn.tree._classes.DecisionTreeClassifier'> (5686, 22) (5686, 1) mushroom f_test\n",
      "<class 'sklearn.tree._classes.DecisionTreeClassifier'> (5686, 22) (5686, 1) mushroom pimp\n",
      "<class 'sklearn.tree._classes.DecisionTreeClassifier'> (5686, 22) (5686, 1) mushroom shap\n",
      "<class 'sklearn.tree._classes.DecisionTreeClassifier'> (5686, 22) (5686, 1) mushroom pearson\n",
      "<class 'sklearn.tree._classes.DecisionTreeClassifier'> (5686, 22) (5686, 1) mushroom spearman\n",
      "<class 'sklearn.tree._classes.DecisionTreeClassifier'> (5686, 22) (5686, 1) mushroom kendall\n",
      "<class 'sklearn.tree._classes.DecisionTreeClassifier'> (5686, 22) (5686, 1) mushroom pps\n"
     ]
    },
    {
     "data": {
      "application/vnd.jupyter.widget-view+json": {
       "model_id": "1a63fd2b49ee4e3a9cf143676cd9c255",
       "version_major": 2,
       "version_minor": 0
      },
      "text/plain": [
       "Importance type progress for model 1:   0%|          | 0/9 [00:00<?, ?it/s]"
      ]
     },
     "metadata": {},
     "output_type": "display_data"
    },
    {
     "name": "stdout",
     "output_type": "stream",
     "text": [
      "<class 'sklearn.ensemble._forest.RandomForestClassifier'> (5686, 22) (5686, 1) mushroom mutual_info\n",
      "<class 'sklearn.ensemble._forest.RandomForestClassifier'> (5686, 22) (5686, 1) mushroom f_test\n",
      "<class 'sklearn.ensemble._forest.RandomForestClassifier'> (5686, 22) (5686, 1) mushroom pimp\n",
      "<class 'sklearn.ensemble._forest.RandomForestClassifier'> (5686, 22) (5686, 1) mushroom shap\n",
      "<class 'sklearn.ensemble._forest.RandomForestClassifier'> (5686, 22) (5686, 1) mushroom pearson\n",
      "<class 'sklearn.ensemble._forest.RandomForestClassifier'> (5686, 22) (5686, 1) mushroom spearman\n",
      "<class 'sklearn.ensemble._forest.RandomForestClassifier'> (5686, 22) (5686, 1) mushroom kendall\n",
      "<class 'sklearn.ensemble._forest.RandomForestClassifier'> (5686, 22) (5686, 1) mushroom pps\n"
     ]
    },
    {
     "data": {
      "application/vnd.jupyter.widget-view+json": {
       "model_id": "d5dc5c1a66d34d9f890a3baae427a473",
       "version_major": 2,
       "version_minor": 0
      },
      "text/plain": [
       "Importance type progress for model 2:   0%|          | 0/9 [00:00<?, ?it/s]"
      ]
     },
     "metadata": {},
     "output_type": "display_data"
    },
    {
     "name": "stdout",
     "output_type": "stream",
     "text": [
      "<class 'xgboost.sklearn.XGBClassifier'> (5686, 22) (5686, 1) mushroom mutual_info\n",
      "<class 'xgboost.sklearn.XGBClassifier'> (5686, 22) (5686, 1) mushroom f_test\n",
      "<class 'xgboost.sklearn.XGBClassifier'> (5686, 22) (5686, 1) mushroom pimp\n",
      "<class 'xgboost.sklearn.XGBClassifier'> (5686, 22) (5686, 1) mushroom shap\n",
      "<class 'xgboost.sklearn.XGBClassifier'> (5686, 22) (5686, 1) mushroom pearson\n",
      "<class 'xgboost.sklearn.XGBClassifier'> (5686, 22) (5686, 1) mushroom spearman\n",
      "<class 'xgboost.sklearn.XGBClassifier'> (5686, 22) (5686, 1) mushroom kendall\n",
      "<class 'xgboost.sklearn.XGBClassifier'> (5686, 22) (5686, 1) mushroom pps\n"
     ]
    },
    {
     "data": {
      "application/vnd.jupyter.widget-view+json": {
       "model_id": "a1264439fa7e42c4b8066bb8cbc08de1",
       "version_major": 2,
       "version_minor": 0
      },
      "text/plain": [
       "Dataset progress:   0%|          | 0/4 [00:00<?, ?it/s]"
      ]
     },
     "metadata": {},
     "output_type": "display_data"
    },
    {
     "data": {
      "application/vnd.jupyter.widget-view+json": {
       "model_id": "82f80db2ead248c6ac3c7c524ba18dee",
       "version_major": 2,
       "version_minor": 0
      },
      "text/plain": [
       "Model progress for dataset 0:   0%|          | 0/3 [00:00<?, ?it/s]"
      ]
     },
     "metadata": {},
     "output_type": "display_data"
    },
    {
     "data": {
      "application/vnd.jupyter.widget-view+json": {
       "model_id": "bebc8000c668406c8a8dc315d01bc0a4",
       "version_major": 2,
       "version_minor": 0
      },
      "text/plain": [
       "Importance type progress for model 0:   0%|          | 0/9 [00:00<?, ?it/s]"
      ]
     },
     "metadata": {},
     "output_type": "display_data"
    },
    {
     "name": "stdout",
     "output_type": "stream",
     "text": [
      "<class 'sklearn.tree._classes.DecisionTreeClassifier'> (124, 13) (124, 1) wine mutual_info\n",
      "<class 'sklearn.tree._classes.DecisionTreeClassifier'> (124, 13) (124, 1) wine f_test\n",
      "<class 'sklearn.tree._classes.DecisionTreeClassifier'> (124, 13) (124, 1) wine pimp\n",
      "<class 'sklearn.tree._classes.DecisionTreeClassifier'> (124, 13) (124, 1) wine shap\n",
      "<class 'sklearn.tree._classes.DecisionTreeClassifier'> (124, 13) (124, 1) wine pearson\n",
      "<class 'sklearn.tree._classes.DecisionTreeClassifier'> (124, 13) (124, 1) wine spearman\n",
      "<class 'sklearn.tree._classes.DecisionTreeClassifier'> (124, 13) (124, 1) wine kendall\n",
      "<class 'sklearn.tree._classes.DecisionTreeClassifier'> (124, 13) (124, 1) wine pps\n"
     ]
    },
    {
     "data": {
      "application/vnd.jupyter.widget-view+json": {
       "model_id": "28949c6169e944adbb7b911d3945eb8f",
       "version_major": 2,
       "version_minor": 0
      },
      "text/plain": [
       "Importance type progress for model 1:   0%|          | 0/9 [00:00<?, ?it/s]"
      ]
     },
     "metadata": {},
     "output_type": "display_data"
    },
    {
     "name": "stdout",
     "output_type": "stream",
     "text": [
      "<class 'sklearn.ensemble._forest.RandomForestClassifier'> (124, 13) (124, 1) wine mutual_info\n",
      "<class 'sklearn.ensemble._forest.RandomForestClassifier'> (124, 13) (124, 1) wine f_test\n",
      "<class 'sklearn.ensemble._forest.RandomForestClassifier'> (124, 13) (124, 1) wine pimp\n",
      "<class 'sklearn.ensemble._forest.RandomForestClassifier'> (124, 13) (124, 1) wine shap\n",
      "<class 'sklearn.ensemble._forest.RandomForestClassifier'> (124, 13) (124, 1) wine pearson\n",
      "<class 'sklearn.ensemble._forest.RandomForestClassifier'> (124, 13) (124, 1) wine spearman\n",
      "<class 'sklearn.ensemble._forest.RandomForestClassifier'> (124, 13) (124, 1) wine kendall\n",
      "<class 'sklearn.ensemble._forest.RandomForestClassifier'> (124, 13) (124, 1) wine pps\n"
     ]
    },
    {
     "data": {
      "application/vnd.jupyter.widget-view+json": {
       "model_id": "9280bbafdf8e4760ba16fea89857b163",
       "version_major": 2,
       "version_minor": 0
      },
      "text/plain": [
       "Importance type progress for model 2:   0%|          | 0/9 [00:00<?, ?it/s]"
      ]
     },
     "metadata": {},
     "output_type": "display_data"
    },
    {
     "name": "stdout",
     "output_type": "stream",
     "text": [
      "<class 'xgboost.sklearn.XGBClassifier'> (124, 13) (124, 1) wine mutual_info\n",
      "<class 'xgboost.sklearn.XGBClassifier'> (124, 13) (124, 1) wine f_test\n",
      "<class 'xgboost.sklearn.XGBClassifier'> (124, 13) (124, 1) wine pimp\n",
      "<class 'xgboost.sklearn.XGBClassifier'> (124, 13) (124, 1) wine shap\n",
      "<class 'xgboost.sklearn.XGBClassifier'> (124, 13) (124, 1) wine pearson\n",
      "<class 'xgboost.sklearn.XGBClassifier'> (124, 13) (124, 1) wine spearman\n",
      "<class 'xgboost.sklearn.XGBClassifier'> (124, 13) (124, 1) wine kendall\n",
      "<class 'xgboost.sklearn.XGBClassifier'> (124, 13) (124, 1) wine pps\n"
     ]
    },
    {
     "data": {
      "application/vnd.jupyter.widget-view+json": {
       "model_id": "c7774559b4bf402285c12fbb23163dd6",
       "version_major": 2,
       "version_minor": 0
      },
      "text/plain": [
       "Model progress for dataset 1:   0%|          | 0/3 [00:00<?, ?it/s]"
      ]
     },
     "metadata": {},
     "output_type": "display_data"
    },
    {
     "data": {
      "application/vnd.jupyter.widget-view+json": {
       "model_id": "a4ba8cfe9deb4d48bec4d324fae96929",
       "version_major": 2,
       "version_minor": 0
      },
      "text/plain": [
       "Importance type progress for model 0:   0%|          | 0/9 [00:00<?, ?it/s]"
      ]
     },
     "metadata": {},
     "output_type": "display_data"
    },
    {
     "name": "stdout",
     "output_type": "stream",
     "text": [
      "<class 'sklearn.tree._classes.DecisionTreeClassifier'> (398, 30) (398, 1) breast_cancer mutual_info\n",
      "<class 'sklearn.tree._classes.DecisionTreeClassifier'> (398, 30) (398, 1) breast_cancer f_test\n",
      "<class 'sklearn.tree._classes.DecisionTreeClassifier'> (398, 30) (398, 1) breast_cancer pimp\n",
      "<class 'sklearn.tree._classes.DecisionTreeClassifier'> (398, 30) (398, 1) breast_cancer shap\n",
      "<class 'sklearn.tree._classes.DecisionTreeClassifier'> (398, 30) (398, 1) breast_cancer pearson\n",
      "<class 'sklearn.tree._classes.DecisionTreeClassifier'> (398, 30) (398, 1) breast_cancer spearman\n",
      "<class 'sklearn.tree._classes.DecisionTreeClassifier'> (398, 30) (398, 1) breast_cancer kendall\n",
      "<class 'sklearn.tree._classes.DecisionTreeClassifier'> (398, 30) (398, 1) breast_cancer pps\n"
     ]
    },
    {
     "data": {
      "application/vnd.jupyter.widget-view+json": {
       "model_id": "61da369267a74bb3bbe063c5564d231b",
       "version_major": 2,
       "version_minor": 0
      },
      "text/plain": [
       "Importance type progress for model 1:   0%|          | 0/9 [00:00<?, ?it/s]"
      ]
     },
     "metadata": {},
     "output_type": "display_data"
    },
    {
     "name": "stdout",
     "output_type": "stream",
     "text": [
      "<class 'sklearn.ensemble._forest.RandomForestClassifier'> (398, 30) (398, 1) breast_cancer mutual_info\n",
      "<class 'sklearn.ensemble._forest.RandomForestClassifier'> (398, 30) (398, 1) breast_cancer f_test\n",
      "<class 'sklearn.ensemble._forest.RandomForestClassifier'> (398, 30) (398, 1) breast_cancer pimp\n",
      "<class 'sklearn.ensemble._forest.RandomForestClassifier'> (398, 30) (398, 1) breast_cancer shap\n",
      "<class 'sklearn.ensemble._forest.RandomForestClassifier'> (398, 30) (398, 1) breast_cancer pearson\n",
      "<class 'sklearn.ensemble._forest.RandomForestClassifier'> (398, 30) (398, 1) breast_cancer spearman\n",
      "<class 'sklearn.ensemble._forest.RandomForestClassifier'> (398, 30) (398, 1) breast_cancer kendall\n",
      "<class 'sklearn.ensemble._forest.RandomForestClassifier'> (398, 30) (398, 1) breast_cancer pps\n"
     ]
    },
    {
     "data": {
      "application/vnd.jupyter.widget-view+json": {
       "model_id": "ce4a6a90be50468b802c04a17462a4fc",
       "version_major": 2,
       "version_minor": 0
      },
      "text/plain": [
       "Importance type progress for model 2:   0%|          | 0/9 [00:00<?, ?it/s]"
      ]
     },
     "metadata": {},
     "output_type": "display_data"
    },
    {
     "name": "stdout",
     "output_type": "stream",
     "text": [
      "<class 'xgboost.sklearn.XGBClassifier'> (398, 30) (398, 1) breast_cancer mutual_info\n",
      "<class 'xgboost.sklearn.XGBClassifier'> (398, 30) (398, 1) breast_cancer f_test\n",
      "<class 'xgboost.sklearn.XGBClassifier'> (398, 30) (398, 1) breast_cancer pimp\n",
      "<class 'xgboost.sklearn.XGBClassifier'> (398, 30) (398, 1) breast_cancer shap\n",
      "<class 'xgboost.sklearn.XGBClassifier'> (398, 30) (398, 1) breast_cancer pearson\n",
      "<class 'xgboost.sklearn.XGBClassifier'> (398, 30) (398, 1) breast_cancer spearman\n",
      "<class 'xgboost.sklearn.XGBClassifier'> (398, 30) (398, 1) breast_cancer kendall\n",
      "<class 'xgboost.sklearn.XGBClassifier'> (398, 30) (398, 1) breast_cancer pps\n"
     ]
    },
    {
     "data": {
      "application/vnd.jupyter.widget-view+json": {
       "model_id": "8f1179da0157492899b81bd582e085c3",
       "version_major": 2,
       "version_minor": 0
      },
      "text/plain": [
       "Model progress for dataset 2:   0%|          | 0/3 [00:00<?, ?it/s]"
      ]
     },
     "metadata": {},
     "output_type": "display_data"
    },
    {
     "data": {
      "application/vnd.jupyter.widget-view+json": {
       "model_id": "0294b10eb07b4b98b2d4044f528a8adb",
       "version_major": 2,
       "version_minor": 0
      },
      "text/plain": [
       "Importance type progress for model 0:   0%|          | 0/9 [00:00<?, ?it/s]"
      ]
     },
     "metadata": {},
     "output_type": "display_data"
    },
    {
     "name": "stdout",
     "output_type": "stream",
     "text": [
      "<class 'sklearn.tree._classes.DecisionTreeClassifier'> (7738, 30) (7738, 1) phishing mutual_info\n",
      "<class 'sklearn.tree._classes.DecisionTreeClassifier'> (7738, 30) (7738, 1) phishing f_test\n",
      "<class 'sklearn.tree._classes.DecisionTreeClassifier'> (7738, 30) (7738, 1) phishing pimp\n",
      "<class 'sklearn.tree._classes.DecisionTreeClassifier'> (7738, 30) (7738, 1) phishing shap\n",
      "<class 'sklearn.tree._classes.DecisionTreeClassifier'> (7738, 30) (7738, 1) phishing pearson\n",
      "<class 'sklearn.tree._classes.DecisionTreeClassifier'> (7738, 30) (7738, 1) phishing spearman\n",
      "<class 'sklearn.tree._classes.DecisionTreeClassifier'> (7738, 30) (7738, 1) phishing kendall\n",
      "<class 'sklearn.tree._classes.DecisionTreeClassifier'> (7738, 30) (7738, 1) phishing pps\n"
     ]
    },
    {
     "data": {
      "application/vnd.jupyter.widget-view+json": {
       "model_id": "8168c87cce7e4fc9959051259483f339",
       "version_major": 2,
       "version_minor": 0
      },
      "text/plain": [
       "Importance type progress for model 1:   0%|          | 0/9 [00:00<?, ?it/s]"
      ]
     },
     "metadata": {},
     "output_type": "display_data"
    },
    {
     "name": "stdout",
     "output_type": "stream",
     "text": [
      "<class 'sklearn.ensemble._forest.RandomForestClassifier'> (7738, 30) (7738, 1) phishing mutual_info\n",
      "<class 'sklearn.ensemble._forest.RandomForestClassifier'> (7738, 30) (7738, 1) phishing f_test\n",
      "<class 'sklearn.ensemble._forest.RandomForestClassifier'> (7738, 30) (7738, 1) phishing pimp\n",
      "<class 'sklearn.ensemble._forest.RandomForestClassifier'> (7738, 30) (7738, 1) phishing shap\n",
      "<class 'sklearn.ensemble._forest.RandomForestClassifier'> (7738, 30) (7738, 1) phishing pearson\n",
      "<class 'sklearn.ensemble._forest.RandomForestClassifier'> (7738, 30) (7738, 1) phishing spearman\n",
      "<class 'sklearn.ensemble._forest.RandomForestClassifier'> (7738, 30) (7738, 1) phishing kendall\n",
      "<class 'sklearn.ensemble._forest.RandomForestClassifier'> (7738, 30) (7738, 1) phishing pps\n"
     ]
    },
    {
     "data": {
      "application/vnd.jupyter.widget-view+json": {
       "model_id": "6e09616076944b7daccaba75bb1c7b6b",
       "version_major": 2,
       "version_minor": 0
      },
      "text/plain": [
       "Importance type progress for model 2:   0%|          | 0/9 [00:00<?, ?it/s]"
      ]
     },
     "metadata": {},
     "output_type": "display_data"
    },
    {
     "name": "stdout",
     "output_type": "stream",
     "text": [
      "<class 'xgboost.sklearn.XGBClassifier'> (7738, 30) (7738, 1) phishing mutual_info\n",
      "<class 'xgboost.sklearn.XGBClassifier'> (7738, 30) (7738, 1) phishing f_test\n",
      "<class 'xgboost.sklearn.XGBClassifier'> (7738, 30) (7738, 1) phishing pimp\n",
      "<class 'xgboost.sklearn.XGBClassifier'> (7738, 30) (7738, 1) phishing shap\n",
      "<class 'xgboost.sklearn.XGBClassifier'> (7738, 30) (7738, 1) phishing pearson\n",
      "<class 'xgboost.sklearn.XGBClassifier'> (7738, 30) (7738, 1) phishing spearman\n",
      "<class 'xgboost.sklearn.XGBClassifier'> (7738, 30) (7738, 1) phishing kendall\n",
      "<class 'xgboost.sklearn.XGBClassifier'> (7738, 30) (7738, 1) phishing pps\n"
     ]
    },
    {
     "data": {
      "application/vnd.jupyter.widget-view+json": {
       "model_id": "e02d551c9c2b42e5bcb15c7c5e73688d",
       "version_major": 2,
       "version_minor": 0
      },
      "text/plain": [
       "Model progress for dataset 3:   0%|          | 0/3 [00:00<?, ?it/s]"
      ]
     },
     "metadata": {},
     "output_type": "display_data"
    },
    {
     "data": {
      "application/vnd.jupyter.widget-view+json": {
       "model_id": "0b72ee044cfb40c2abb5f388cceb59ec",
       "version_major": 2,
       "version_minor": 0
      },
      "text/plain": [
       "Importance type progress for model 0:   0%|          | 0/9 [00:00<?, ?it/s]"
      ]
     },
     "metadata": {},
     "output_type": "display_data"
    },
    {
     "name": "stdout",
     "output_type": "stream",
     "text": [
      "<class 'sklearn.tree._classes.DecisionTreeClassifier'> (5686, 22) (5686, 1) mushroom mutual_info\n",
      "<class 'sklearn.tree._classes.DecisionTreeClassifier'> (5686, 22) (5686, 1) mushroom f_test\n",
      "<class 'sklearn.tree._classes.DecisionTreeClassifier'> (5686, 22) (5686, 1) mushroom pimp\n",
      "<class 'sklearn.tree._classes.DecisionTreeClassifier'> (5686, 22) (5686, 1) mushroom shap\n",
      "<class 'sklearn.tree._classes.DecisionTreeClassifier'> (5686, 22) (5686, 1) mushroom pearson\n",
      "<class 'sklearn.tree._classes.DecisionTreeClassifier'> (5686, 22) (5686, 1) mushroom spearman\n",
      "<class 'sklearn.tree._classes.DecisionTreeClassifier'> (5686, 22) (5686, 1) mushroom kendall\n",
      "<class 'sklearn.tree._classes.DecisionTreeClassifier'> (5686, 22) (5686, 1) mushroom pps\n"
     ]
    },
    {
     "data": {
      "application/vnd.jupyter.widget-view+json": {
       "model_id": "82abb84ca50d4b4eb2ddcd76b28c4cbe",
       "version_major": 2,
       "version_minor": 0
      },
      "text/plain": [
       "Importance type progress for model 1:   0%|          | 0/9 [00:00<?, ?it/s]"
      ]
     },
     "metadata": {},
     "output_type": "display_data"
    },
    {
     "name": "stdout",
     "output_type": "stream",
     "text": [
      "<class 'sklearn.ensemble._forest.RandomForestClassifier'> (5686, 22) (5686, 1) mushroom mutual_info\n",
      "<class 'sklearn.ensemble._forest.RandomForestClassifier'> (5686, 22) (5686, 1) mushroom f_test\n",
      "<class 'sklearn.ensemble._forest.RandomForestClassifier'> (5686, 22) (5686, 1) mushroom pimp\n",
      "<class 'sklearn.ensemble._forest.RandomForestClassifier'> (5686, 22) (5686, 1) mushroom shap\n",
      "<class 'sklearn.ensemble._forest.RandomForestClassifier'> (5686, 22) (5686, 1) mushroom pearson\n",
      "<class 'sklearn.ensemble._forest.RandomForestClassifier'> (5686, 22) (5686, 1) mushroom spearman\n",
      "<class 'sklearn.ensemble._forest.RandomForestClassifier'> (5686, 22) (5686, 1) mushroom kendall\n",
      "<class 'sklearn.ensemble._forest.RandomForestClassifier'> (5686, 22) (5686, 1) mushroom pps\n"
     ]
    },
    {
     "data": {
      "application/vnd.jupyter.widget-view+json": {
       "model_id": "8096b0a0884f4ec2b7d17d272ef7c7c9",
       "version_major": 2,
       "version_minor": 0
      },
      "text/plain": [
       "Importance type progress for model 2:   0%|          | 0/9 [00:00<?, ?it/s]"
      ]
     },
     "metadata": {},
     "output_type": "display_data"
    },
    {
     "name": "stdout",
     "output_type": "stream",
     "text": [
      "<class 'xgboost.sklearn.XGBClassifier'> (5686, 22) (5686, 1) mushroom mutual_info\n",
      "<class 'xgboost.sklearn.XGBClassifier'> (5686, 22) (5686, 1) mushroom f_test\n",
      "<class 'xgboost.sklearn.XGBClassifier'> (5686, 22) (5686, 1) mushroom pimp\n",
      "<class 'xgboost.sklearn.XGBClassifier'> (5686, 22) (5686, 1) mushroom shap\n",
      "<class 'xgboost.sklearn.XGBClassifier'> (5686, 22) (5686, 1) mushroom pearson\n",
      "<class 'xgboost.sklearn.XGBClassifier'> (5686, 22) (5686, 1) mushroom spearman\n",
      "<class 'xgboost.sklearn.XGBClassifier'> (5686, 22) (5686, 1) mushroom kendall\n",
      "<class 'xgboost.sklearn.XGBClassifier'> (5686, 22) (5686, 1) mushroom pps\n"
     ]
    },
    {
     "data": {
      "application/vnd.jupyter.widget-view+json": {
       "model_id": "58a188a1f1c6472a8cf9099141a7856c",
       "version_major": 2,
       "version_minor": 0
      },
      "text/plain": [
       "Dataset progress:   0%|          | 0/4 [00:00<?, ?it/s]"
      ]
     },
     "metadata": {},
     "output_type": "display_data"
    },
    {
     "data": {
      "application/vnd.jupyter.widget-view+json": {
       "model_id": "5524ed3a925f4d939ef695b843ef034a",
       "version_major": 2,
       "version_minor": 0
      },
      "text/plain": [
       "Model progress for dataset 0:   0%|          | 0/3 [00:00<?, ?it/s]"
      ]
     },
     "metadata": {},
     "output_type": "display_data"
    },
    {
     "data": {
      "application/vnd.jupyter.widget-view+json": {
       "model_id": "914c04c4657c4bb2803e5d127e1e9f0b",
       "version_major": 2,
       "version_minor": 0
      },
      "text/plain": [
       "Importance type progress for model 0:   0%|          | 0/9 [00:00<?, ?it/s]"
      ]
     },
     "metadata": {},
     "output_type": "display_data"
    },
    {
     "name": "stdout",
     "output_type": "stream",
     "text": [
      "<class 'sklearn.tree._classes.DecisionTreeClassifier'> (124, 13) (124, 1) wine mutual_info\n",
      "<class 'sklearn.tree._classes.DecisionTreeClassifier'> (124, 13) (124, 1) wine f_test\n",
      "<class 'sklearn.tree._classes.DecisionTreeClassifier'> (124, 13) (124, 1) wine pimp\n",
      "<class 'sklearn.tree._classes.DecisionTreeClassifier'> (124, 13) (124, 1) wine shap\n",
      "<class 'sklearn.tree._classes.DecisionTreeClassifier'> (124, 13) (124, 1) wine pearson\n",
      "<class 'sklearn.tree._classes.DecisionTreeClassifier'> (124, 13) (124, 1) wine spearman\n",
      "<class 'sklearn.tree._classes.DecisionTreeClassifier'> (124, 13) (124, 1) wine kendall\n",
      "<class 'sklearn.tree._classes.DecisionTreeClassifier'> (124, 13) (124, 1) wine pps\n"
     ]
    },
    {
     "data": {
      "application/vnd.jupyter.widget-view+json": {
       "model_id": "63ae6931b42b4e8ca9fb2abfaec5aaf4",
       "version_major": 2,
       "version_minor": 0
      },
      "text/plain": [
       "Importance type progress for model 1:   0%|          | 0/9 [00:00<?, ?it/s]"
      ]
     },
     "metadata": {},
     "output_type": "display_data"
    },
    {
     "name": "stdout",
     "output_type": "stream",
     "text": [
      "<class 'sklearn.ensemble._forest.RandomForestClassifier'> (124, 13) (124, 1) wine mutual_info\n",
      "<class 'sklearn.ensemble._forest.RandomForestClassifier'> (124, 13) (124, 1) wine f_test\n",
      "<class 'sklearn.ensemble._forest.RandomForestClassifier'> (124, 13) (124, 1) wine pimp\n",
      "<class 'sklearn.ensemble._forest.RandomForestClassifier'> (124, 13) (124, 1) wine shap\n",
      "<class 'sklearn.ensemble._forest.RandomForestClassifier'> (124, 13) (124, 1) wine pearson\n",
      "<class 'sklearn.ensemble._forest.RandomForestClassifier'> (124, 13) (124, 1) wine spearman\n",
      "<class 'sklearn.ensemble._forest.RandomForestClassifier'> (124, 13) (124, 1) wine kendall\n",
      "<class 'sklearn.ensemble._forest.RandomForestClassifier'> (124, 13) (124, 1) wine pps\n"
     ]
    },
    {
     "data": {
      "application/vnd.jupyter.widget-view+json": {
       "model_id": "b69963cc2cf44c038a950e2ccadd02e5",
       "version_major": 2,
       "version_minor": 0
      },
      "text/plain": [
       "Importance type progress for model 2:   0%|          | 0/9 [00:00<?, ?it/s]"
      ]
     },
     "metadata": {},
     "output_type": "display_data"
    },
    {
     "name": "stdout",
     "output_type": "stream",
     "text": [
      "<class 'xgboost.sklearn.XGBClassifier'> (124, 13) (124, 1) wine mutual_info\n",
      "<class 'xgboost.sklearn.XGBClassifier'> (124, 13) (124, 1) wine f_test\n",
      "<class 'xgboost.sklearn.XGBClassifier'> (124, 13) (124, 1) wine pimp\n",
      "<class 'xgboost.sklearn.XGBClassifier'> (124, 13) (124, 1) wine shap\n",
      "<class 'xgboost.sklearn.XGBClassifier'> (124, 13) (124, 1) wine pearson\n",
      "<class 'xgboost.sklearn.XGBClassifier'> (124, 13) (124, 1) wine spearman\n",
      "<class 'xgboost.sklearn.XGBClassifier'> (124, 13) (124, 1) wine kendall\n",
      "<class 'xgboost.sklearn.XGBClassifier'> (124, 13) (124, 1) wine pps\n"
     ]
    },
    {
     "data": {
      "application/vnd.jupyter.widget-view+json": {
       "model_id": "9b2ab429e22d4fb6b87efc06df15be39",
       "version_major": 2,
       "version_minor": 0
      },
      "text/plain": [
       "Model progress for dataset 1:   0%|          | 0/3 [00:00<?, ?it/s]"
      ]
     },
     "metadata": {},
     "output_type": "display_data"
    },
    {
     "data": {
      "application/vnd.jupyter.widget-view+json": {
       "model_id": "c1aba7760fa347bd84c74787b19a74d4",
       "version_major": 2,
       "version_minor": 0
      },
      "text/plain": [
       "Importance type progress for model 0:   0%|          | 0/9 [00:00<?, ?it/s]"
      ]
     },
     "metadata": {},
     "output_type": "display_data"
    },
    {
     "name": "stdout",
     "output_type": "stream",
     "text": [
      "<class 'sklearn.tree._classes.DecisionTreeClassifier'> (398, 30) (398, 1) breast_cancer mutual_info\n",
      "<class 'sklearn.tree._classes.DecisionTreeClassifier'> (398, 30) (398, 1) breast_cancer f_test\n",
      "<class 'sklearn.tree._classes.DecisionTreeClassifier'> (398, 30) (398, 1) breast_cancer pimp\n",
      "<class 'sklearn.tree._classes.DecisionTreeClassifier'> (398, 30) (398, 1) breast_cancer shap\n",
      "<class 'sklearn.tree._classes.DecisionTreeClassifier'> (398, 30) (398, 1) breast_cancer pearson\n",
      "<class 'sklearn.tree._classes.DecisionTreeClassifier'> (398, 30) (398, 1) breast_cancer spearman\n",
      "<class 'sklearn.tree._classes.DecisionTreeClassifier'> (398, 30) (398, 1) breast_cancer kendall\n",
      "<class 'sklearn.tree._classes.DecisionTreeClassifier'> (398, 30) (398, 1) breast_cancer pps\n"
     ]
    },
    {
     "data": {
      "application/vnd.jupyter.widget-view+json": {
       "model_id": "8c4d1043a10c45c790efb70b6e1b797f",
       "version_major": 2,
       "version_minor": 0
      },
      "text/plain": [
       "Importance type progress for model 1:   0%|          | 0/9 [00:00<?, ?it/s]"
      ]
     },
     "metadata": {},
     "output_type": "display_data"
    },
    {
     "name": "stdout",
     "output_type": "stream",
     "text": [
      "<class 'sklearn.ensemble._forest.RandomForestClassifier'> (398, 30) (398, 1) breast_cancer mutual_info\n",
      "<class 'sklearn.ensemble._forest.RandomForestClassifier'> (398, 30) (398, 1) breast_cancer f_test\n",
      "<class 'sklearn.ensemble._forest.RandomForestClassifier'> (398, 30) (398, 1) breast_cancer pimp\n",
      "<class 'sklearn.ensemble._forest.RandomForestClassifier'> (398, 30) (398, 1) breast_cancer shap\n",
      "<class 'sklearn.ensemble._forest.RandomForestClassifier'> (398, 30) (398, 1) breast_cancer pearson\n",
      "<class 'sklearn.ensemble._forest.RandomForestClassifier'> (398, 30) (398, 1) breast_cancer spearman\n",
      "<class 'sklearn.ensemble._forest.RandomForestClassifier'> (398, 30) (398, 1) breast_cancer kendall\n",
      "<class 'sklearn.ensemble._forest.RandomForestClassifier'> (398, 30) (398, 1) breast_cancer pps\n"
     ]
    },
    {
     "data": {
      "application/vnd.jupyter.widget-view+json": {
       "model_id": "daace0becb00441087b85f9dc424e2a0",
       "version_major": 2,
       "version_minor": 0
      },
      "text/plain": [
       "Importance type progress for model 2:   0%|          | 0/9 [00:00<?, ?it/s]"
      ]
     },
     "metadata": {},
     "output_type": "display_data"
    },
    {
     "name": "stdout",
     "output_type": "stream",
     "text": [
      "<class 'xgboost.sklearn.XGBClassifier'> (398, 30) (398, 1) breast_cancer mutual_info\n",
      "<class 'xgboost.sklearn.XGBClassifier'> (398, 30) (398, 1) breast_cancer f_test\n",
      "<class 'xgboost.sklearn.XGBClassifier'> (398, 30) (398, 1) breast_cancer pimp\n",
      "<class 'xgboost.sklearn.XGBClassifier'> (398, 30) (398, 1) breast_cancer shap\n",
      "<class 'xgboost.sklearn.XGBClassifier'> (398, 30) (398, 1) breast_cancer pearson\n",
      "<class 'xgboost.sklearn.XGBClassifier'> (398, 30) (398, 1) breast_cancer spearman\n",
      "<class 'xgboost.sklearn.XGBClassifier'> (398, 30) (398, 1) breast_cancer kendall\n",
      "<class 'xgboost.sklearn.XGBClassifier'> (398, 30) (398, 1) breast_cancer pps\n"
     ]
    },
    {
     "data": {
      "application/vnd.jupyter.widget-view+json": {
       "model_id": "c52c27ceb32d459dbda9359b2582a961",
       "version_major": 2,
       "version_minor": 0
      },
      "text/plain": [
       "Model progress for dataset 2:   0%|          | 0/3 [00:00<?, ?it/s]"
      ]
     },
     "metadata": {},
     "output_type": "display_data"
    },
    {
     "data": {
      "application/vnd.jupyter.widget-view+json": {
       "model_id": "eb9bffd82d9a40cdb572f882a0e64cfc",
       "version_major": 2,
       "version_minor": 0
      },
      "text/plain": [
       "Importance type progress for model 0:   0%|          | 0/9 [00:00<?, ?it/s]"
      ]
     },
     "metadata": {},
     "output_type": "display_data"
    },
    {
     "name": "stdout",
     "output_type": "stream",
     "text": [
      "<class 'sklearn.tree._classes.DecisionTreeClassifier'> (7738, 30) (7738, 1) phishing mutual_info\n",
      "<class 'sklearn.tree._classes.DecisionTreeClassifier'> (7738, 30) (7738, 1) phishing f_test\n",
      "<class 'sklearn.tree._classes.DecisionTreeClassifier'> (7738, 30) (7738, 1) phishing pimp\n",
      "<class 'sklearn.tree._classes.DecisionTreeClassifier'> (7738, 30) (7738, 1) phishing shap\n",
      "<class 'sklearn.tree._classes.DecisionTreeClassifier'> (7738, 30) (7738, 1) phishing pearson\n",
      "<class 'sklearn.tree._classes.DecisionTreeClassifier'> (7738, 30) (7738, 1) phishing spearman\n",
      "<class 'sklearn.tree._classes.DecisionTreeClassifier'> (7738, 30) (7738, 1) phishing kendall\n",
      "<class 'sklearn.tree._classes.DecisionTreeClassifier'> (7738, 30) (7738, 1) phishing pps\n"
     ]
    },
    {
     "data": {
      "application/vnd.jupyter.widget-view+json": {
       "model_id": "db84af7226ce441a9262024599a8ec8c",
       "version_major": 2,
       "version_minor": 0
      },
      "text/plain": [
       "Importance type progress for model 1:   0%|          | 0/9 [00:00<?, ?it/s]"
      ]
     },
     "metadata": {},
     "output_type": "display_data"
    },
    {
     "name": "stdout",
     "output_type": "stream",
     "text": [
      "<class 'sklearn.ensemble._forest.RandomForestClassifier'> (7738, 30) (7738, 1) phishing mutual_info\n",
      "<class 'sklearn.ensemble._forest.RandomForestClassifier'> (7738, 30) (7738, 1) phishing f_test\n",
      "<class 'sklearn.ensemble._forest.RandomForestClassifier'> (7738, 30) (7738, 1) phishing pimp\n",
      "<class 'sklearn.ensemble._forest.RandomForestClassifier'> (7738, 30) (7738, 1) phishing shap\n",
      "<class 'sklearn.ensemble._forest.RandomForestClassifier'> (7738, 30) (7738, 1) phishing pearson\n",
      "<class 'sklearn.ensemble._forest.RandomForestClassifier'> (7738, 30) (7738, 1) phishing spearman\n",
      "<class 'sklearn.ensemble._forest.RandomForestClassifier'> (7738, 30) (7738, 1) phishing kendall\n",
      "<class 'sklearn.ensemble._forest.RandomForestClassifier'> (7738, 30) (7738, 1) phishing pps\n"
     ]
    },
    {
     "data": {
      "application/vnd.jupyter.widget-view+json": {
       "model_id": "f099006ccec64780990211f0891e42e9",
       "version_major": 2,
       "version_minor": 0
      },
      "text/plain": [
       "Importance type progress for model 2:   0%|          | 0/9 [00:00<?, ?it/s]"
      ]
     },
     "metadata": {},
     "output_type": "display_data"
    },
    {
     "name": "stdout",
     "output_type": "stream",
     "text": [
      "<class 'xgboost.sklearn.XGBClassifier'> (7738, 30) (7738, 1) phishing mutual_info\n",
      "<class 'xgboost.sklearn.XGBClassifier'> (7738, 30) (7738, 1) phishing f_test\n",
      "<class 'xgboost.sklearn.XGBClassifier'> (7738, 30) (7738, 1) phishing pimp\n",
      "<class 'xgboost.sklearn.XGBClassifier'> (7738, 30) (7738, 1) phishing shap\n",
      "<class 'xgboost.sklearn.XGBClassifier'> (7738, 30) (7738, 1) phishing pearson\n",
      "<class 'xgboost.sklearn.XGBClassifier'> (7738, 30) (7738, 1) phishing spearman\n",
      "<class 'xgboost.sklearn.XGBClassifier'> (7738, 30) (7738, 1) phishing kendall\n",
      "<class 'xgboost.sklearn.XGBClassifier'> (7738, 30) (7738, 1) phishing pps\n"
     ]
    },
    {
     "data": {
      "application/vnd.jupyter.widget-view+json": {
       "model_id": "945754de949d419d9dbec61b99e4f114",
       "version_major": 2,
       "version_minor": 0
      },
      "text/plain": [
       "Model progress for dataset 3:   0%|          | 0/3 [00:00<?, ?it/s]"
      ]
     },
     "metadata": {},
     "output_type": "display_data"
    },
    {
     "data": {
      "application/vnd.jupyter.widget-view+json": {
       "model_id": "126036c70fda4f73994ab245cf4bb1e4",
       "version_major": 2,
       "version_minor": 0
      },
      "text/plain": [
       "Importance type progress for model 0:   0%|          | 0/9 [00:00<?, ?it/s]"
      ]
     },
     "metadata": {},
     "output_type": "display_data"
    },
    {
     "name": "stdout",
     "output_type": "stream",
     "text": [
      "<class 'sklearn.tree._classes.DecisionTreeClassifier'> (5686, 22) (5686, 1) mushroom mutual_info\n",
      "<class 'sklearn.tree._classes.DecisionTreeClassifier'> (5686, 22) (5686, 1) mushroom f_test\n",
      "<class 'sklearn.tree._classes.DecisionTreeClassifier'> (5686, 22) (5686, 1) mushroom pimp\n",
      "<class 'sklearn.tree._classes.DecisionTreeClassifier'> (5686, 22) (5686, 1) mushroom shap\n",
      "<class 'sklearn.tree._classes.DecisionTreeClassifier'> (5686, 22) (5686, 1) mushroom pearson\n",
      "<class 'sklearn.tree._classes.DecisionTreeClassifier'> (5686, 22) (5686, 1) mushroom spearman\n",
      "<class 'sklearn.tree._classes.DecisionTreeClassifier'> (5686, 22) (5686, 1) mushroom kendall\n",
      "<class 'sklearn.tree._classes.DecisionTreeClassifier'> (5686, 22) (5686, 1) mushroom pps\n"
     ]
    },
    {
     "data": {
      "application/vnd.jupyter.widget-view+json": {
       "model_id": "ef161e0e29e8457b9aaa2b16564b5203",
       "version_major": 2,
       "version_minor": 0
      },
      "text/plain": [
       "Importance type progress for model 1:   0%|          | 0/9 [00:00<?, ?it/s]"
      ]
     },
     "metadata": {},
     "output_type": "display_data"
    },
    {
     "name": "stdout",
     "output_type": "stream",
     "text": [
      "<class 'sklearn.ensemble._forest.RandomForestClassifier'> (5686, 22) (5686, 1) mushroom mutual_info\n",
      "<class 'sklearn.ensemble._forest.RandomForestClassifier'> (5686, 22) (5686, 1) mushroom f_test\n",
      "<class 'sklearn.ensemble._forest.RandomForestClassifier'> (5686, 22) (5686, 1) mushroom pimp\n",
      "<class 'sklearn.ensemble._forest.RandomForestClassifier'> (5686, 22) (5686, 1) mushroom shap\n",
      "<class 'sklearn.ensemble._forest.RandomForestClassifier'> (5686, 22) (5686, 1) mushroom pearson\n",
      "<class 'sklearn.ensemble._forest.RandomForestClassifier'> (5686, 22) (5686, 1) mushroom spearman\n",
      "<class 'sklearn.ensemble._forest.RandomForestClassifier'> (5686, 22) (5686, 1) mushroom kendall\n",
      "<class 'sklearn.ensemble._forest.RandomForestClassifier'> (5686, 22) (5686, 1) mushroom pps\n"
     ]
    },
    {
     "data": {
      "application/vnd.jupyter.widget-view+json": {
       "model_id": "4271af9ba5c6402a8d2f6263c821af95",
       "version_major": 2,
       "version_minor": 0
      },
      "text/plain": [
       "Importance type progress for model 2:   0%|          | 0/9 [00:00<?, ?it/s]"
      ]
     },
     "metadata": {},
     "output_type": "display_data"
    },
    {
     "name": "stdout",
     "output_type": "stream",
     "text": [
      "<class 'xgboost.sklearn.XGBClassifier'> (5686, 22) (5686, 1) mushroom mutual_info\n",
      "<class 'xgboost.sklearn.XGBClassifier'> (5686, 22) (5686, 1) mushroom f_test\n",
      "<class 'xgboost.sklearn.XGBClassifier'> (5686, 22) (5686, 1) mushroom pimp\n",
      "<class 'xgboost.sklearn.XGBClassifier'> (5686, 22) (5686, 1) mushroom shap\n",
      "<class 'xgboost.sklearn.XGBClassifier'> (5686, 22) (5686, 1) mushroom pearson\n",
      "<class 'xgboost.sklearn.XGBClassifier'> (5686, 22) (5686, 1) mushroom spearman\n",
      "<class 'xgboost.sklearn.XGBClassifier'> (5686, 22) (5686, 1) mushroom kendall\n",
      "<class 'xgboost.sklearn.XGBClassifier'> (5686, 22) (5686, 1) mushroom pps\n"
     ]
    },
    {
     "data": {
      "application/vnd.jupyter.widget-view+json": {
       "model_id": "30ce187756434915bd112881e9322e78",
       "version_major": 2,
       "version_minor": 0
      },
      "text/plain": [
       "Dataset progress:   0%|          | 0/4 [00:00<?, ?it/s]"
      ]
     },
     "metadata": {},
     "output_type": "display_data"
    },
    {
     "data": {
      "application/vnd.jupyter.widget-view+json": {
       "model_id": "fa8e542888dc477d9c4107f50c25ff06",
       "version_major": 2,
       "version_minor": 0
      },
      "text/plain": [
       "Model progress for dataset 0:   0%|          | 0/3 [00:00<?, ?it/s]"
      ]
     },
     "metadata": {},
     "output_type": "display_data"
    },
    {
     "data": {
      "application/vnd.jupyter.widget-view+json": {
       "model_id": "762cc82e87f843c697f51b0455e27719",
       "version_major": 2,
       "version_minor": 0
      },
      "text/plain": [
       "Importance type progress for model 0:   0%|          | 0/9 [00:00<?, ?it/s]"
      ]
     },
     "metadata": {},
     "output_type": "display_data"
    },
    {
     "name": "stdout",
     "output_type": "stream",
     "text": [
      "<class 'sklearn.tree._classes.DecisionTreeClassifier'> (124, 13) (124, 1) wine mutual_info\n",
      "<class 'sklearn.tree._classes.DecisionTreeClassifier'> (124, 13) (124, 1) wine f_test\n",
      "<class 'sklearn.tree._classes.DecisionTreeClassifier'> (124, 13) (124, 1) wine pimp\n",
      "<class 'sklearn.tree._classes.DecisionTreeClassifier'> (124, 13) (124, 1) wine shap\n",
      "<class 'sklearn.tree._classes.DecisionTreeClassifier'> (124, 13) (124, 1) wine pearson\n",
      "<class 'sklearn.tree._classes.DecisionTreeClassifier'> (124, 13) (124, 1) wine spearman\n",
      "<class 'sklearn.tree._classes.DecisionTreeClassifier'> (124, 13) (124, 1) wine kendall\n",
      "<class 'sklearn.tree._classes.DecisionTreeClassifier'> (124, 13) (124, 1) wine pps\n"
     ]
    },
    {
     "data": {
      "application/vnd.jupyter.widget-view+json": {
       "model_id": "69f17a01050b4f1a8ce554a95a52fe80",
       "version_major": 2,
       "version_minor": 0
      },
      "text/plain": [
       "Importance type progress for model 1:   0%|          | 0/9 [00:00<?, ?it/s]"
      ]
     },
     "metadata": {},
     "output_type": "display_data"
    },
    {
     "name": "stdout",
     "output_type": "stream",
     "text": [
      "<class 'sklearn.ensemble._forest.RandomForestClassifier'> (124, 13) (124, 1) wine mutual_info\n",
      "<class 'sklearn.ensemble._forest.RandomForestClassifier'> (124, 13) (124, 1) wine f_test\n",
      "<class 'sklearn.ensemble._forest.RandomForestClassifier'> (124, 13) (124, 1) wine pimp\n",
      "<class 'sklearn.ensemble._forest.RandomForestClassifier'> (124, 13) (124, 1) wine shap\n",
      "<class 'sklearn.ensemble._forest.RandomForestClassifier'> (124, 13) (124, 1) wine pearson\n",
      "<class 'sklearn.ensemble._forest.RandomForestClassifier'> (124, 13) (124, 1) wine spearman\n",
      "<class 'sklearn.ensemble._forest.RandomForestClassifier'> (124, 13) (124, 1) wine kendall\n",
      "<class 'sklearn.ensemble._forest.RandomForestClassifier'> (124, 13) (124, 1) wine pps\n"
     ]
    },
    {
     "data": {
      "application/vnd.jupyter.widget-view+json": {
       "model_id": "89c2e3c36c744a17b562b285277ee679",
       "version_major": 2,
       "version_minor": 0
      },
      "text/plain": [
       "Importance type progress for model 2:   0%|          | 0/9 [00:00<?, ?it/s]"
      ]
     },
     "metadata": {},
     "output_type": "display_data"
    },
    {
     "name": "stdout",
     "output_type": "stream",
     "text": [
      "<class 'xgboost.sklearn.XGBClassifier'> (124, 13) (124, 1) wine mutual_info\n",
      "<class 'xgboost.sklearn.XGBClassifier'> (124, 13) (124, 1) wine f_test\n",
      "<class 'xgboost.sklearn.XGBClassifier'> (124, 13) (124, 1) wine pimp\n",
      "<class 'xgboost.sklearn.XGBClassifier'> (124, 13) (124, 1) wine shap\n",
      "<class 'xgboost.sklearn.XGBClassifier'> (124, 13) (124, 1) wine pearson\n",
      "<class 'xgboost.sklearn.XGBClassifier'> (124, 13) (124, 1) wine spearman\n",
      "<class 'xgboost.sklearn.XGBClassifier'> (124, 13) (124, 1) wine kendall\n",
      "<class 'xgboost.sklearn.XGBClassifier'> (124, 13) (124, 1) wine pps\n"
     ]
    },
    {
     "data": {
      "application/vnd.jupyter.widget-view+json": {
       "model_id": "fe4d62b4bbd2420aabc813d3903a3fbc",
       "version_major": 2,
       "version_minor": 0
      },
      "text/plain": [
       "Model progress for dataset 1:   0%|          | 0/3 [00:00<?, ?it/s]"
      ]
     },
     "metadata": {},
     "output_type": "display_data"
    },
    {
     "data": {
      "application/vnd.jupyter.widget-view+json": {
       "model_id": "4804a39b4b1d4c2c849f90591e80f485",
       "version_major": 2,
       "version_minor": 0
      },
      "text/plain": [
       "Importance type progress for model 0:   0%|          | 0/9 [00:00<?, ?it/s]"
      ]
     },
     "metadata": {},
     "output_type": "display_data"
    },
    {
     "name": "stdout",
     "output_type": "stream",
     "text": [
      "<class 'sklearn.tree._classes.DecisionTreeClassifier'> (398, 30) (398, 1) breast_cancer mutual_info\n",
      "<class 'sklearn.tree._classes.DecisionTreeClassifier'> (398, 30) (398, 1) breast_cancer f_test\n",
      "<class 'sklearn.tree._classes.DecisionTreeClassifier'> (398, 30) (398, 1) breast_cancer pimp\n",
      "<class 'sklearn.tree._classes.DecisionTreeClassifier'> (398, 30) (398, 1) breast_cancer shap\n",
      "<class 'sklearn.tree._classes.DecisionTreeClassifier'> (398, 30) (398, 1) breast_cancer pearson\n",
      "<class 'sklearn.tree._classes.DecisionTreeClassifier'> (398, 30) (398, 1) breast_cancer spearman\n",
      "<class 'sklearn.tree._classes.DecisionTreeClassifier'> (398, 30) (398, 1) breast_cancer kendall\n",
      "<class 'sklearn.tree._classes.DecisionTreeClassifier'> (398, 30) (398, 1) breast_cancer pps\n"
     ]
    },
    {
     "data": {
      "application/vnd.jupyter.widget-view+json": {
       "model_id": "1a86b4086d194c458f76907ef295c4d6",
       "version_major": 2,
       "version_minor": 0
      },
      "text/plain": [
       "Importance type progress for model 1:   0%|          | 0/9 [00:00<?, ?it/s]"
      ]
     },
     "metadata": {},
     "output_type": "display_data"
    },
    {
     "name": "stdout",
     "output_type": "stream",
     "text": [
      "<class 'sklearn.ensemble._forest.RandomForestClassifier'> (398, 30) (398, 1) breast_cancer mutual_info\n",
      "<class 'sklearn.ensemble._forest.RandomForestClassifier'> (398, 30) (398, 1) breast_cancer f_test\n",
      "<class 'sklearn.ensemble._forest.RandomForestClassifier'> (398, 30) (398, 1) breast_cancer pimp\n",
      "<class 'sklearn.ensemble._forest.RandomForestClassifier'> (398, 30) (398, 1) breast_cancer shap\n",
      "<class 'sklearn.ensemble._forest.RandomForestClassifier'> (398, 30) (398, 1) breast_cancer pearson\n",
      "<class 'sklearn.ensemble._forest.RandomForestClassifier'> (398, 30) (398, 1) breast_cancer spearman\n",
      "<class 'sklearn.ensemble._forest.RandomForestClassifier'> (398, 30) (398, 1) breast_cancer kendall\n",
      "<class 'sklearn.ensemble._forest.RandomForestClassifier'> (398, 30) (398, 1) breast_cancer pps\n"
     ]
    },
    {
     "data": {
      "application/vnd.jupyter.widget-view+json": {
       "model_id": "cf8fd1d12d2e41b1b9d5959b401601de",
       "version_major": 2,
       "version_minor": 0
      },
      "text/plain": [
       "Importance type progress for model 2:   0%|          | 0/9 [00:00<?, ?it/s]"
      ]
     },
     "metadata": {},
     "output_type": "display_data"
    },
    {
     "name": "stdout",
     "output_type": "stream",
     "text": [
      "<class 'xgboost.sklearn.XGBClassifier'> (398, 30) (398, 1) breast_cancer mutual_info\n",
      "<class 'xgboost.sklearn.XGBClassifier'> (398, 30) (398, 1) breast_cancer f_test\n",
      "<class 'xgboost.sklearn.XGBClassifier'> (398, 30) (398, 1) breast_cancer pimp\n",
      "<class 'xgboost.sklearn.XGBClassifier'> (398, 30) (398, 1) breast_cancer shap\n",
      "<class 'xgboost.sklearn.XGBClassifier'> (398, 30) (398, 1) breast_cancer pearson\n",
      "<class 'xgboost.sklearn.XGBClassifier'> (398, 30) (398, 1) breast_cancer spearman\n",
      "<class 'xgboost.sklearn.XGBClassifier'> (398, 30) (398, 1) breast_cancer kendall\n",
      "<class 'xgboost.sklearn.XGBClassifier'> (398, 30) (398, 1) breast_cancer pps\n"
     ]
    },
    {
     "data": {
      "application/vnd.jupyter.widget-view+json": {
       "model_id": "ddd5c7de7ddc4d0093c30817e7ff0871",
       "version_major": 2,
       "version_minor": 0
      },
      "text/plain": [
       "Model progress for dataset 2:   0%|          | 0/3 [00:00<?, ?it/s]"
      ]
     },
     "metadata": {},
     "output_type": "display_data"
    },
    {
     "data": {
      "application/vnd.jupyter.widget-view+json": {
       "model_id": "d481837c9ad34664b56bfc92e8449de8",
       "version_major": 2,
       "version_minor": 0
      },
      "text/plain": [
       "Importance type progress for model 0:   0%|          | 0/9 [00:00<?, ?it/s]"
      ]
     },
     "metadata": {},
     "output_type": "display_data"
    },
    {
     "name": "stdout",
     "output_type": "stream",
     "text": [
      "<class 'sklearn.tree._classes.DecisionTreeClassifier'> (7738, 30) (7738, 1) phishing mutual_info\n",
      "<class 'sklearn.tree._classes.DecisionTreeClassifier'> (7738, 30) (7738, 1) phishing f_test\n",
      "<class 'sklearn.tree._classes.DecisionTreeClassifier'> (7738, 30) (7738, 1) phishing pimp\n",
      "<class 'sklearn.tree._classes.DecisionTreeClassifier'> (7738, 30) (7738, 1) phishing shap\n",
      "<class 'sklearn.tree._classes.DecisionTreeClassifier'> (7738, 30) (7738, 1) phishing pearson\n",
      "<class 'sklearn.tree._classes.DecisionTreeClassifier'> (7738, 30) (7738, 1) phishing spearman\n",
      "<class 'sklearn.tree._classes.DecisionTreeClassifier'> (7738, 30) (7738, 1) phishing kendall\n",
      "<class 'sklearn.tree._classes.DecisionTreeClassifier'> (7738, 30) (7738, 1) phishing pps\n"
     ]
    },
    {
     "data": {
      "application/vnd.jupyter.widget-view+json": {
       "model_id": "ec09590adce94c678ed6854fd968bd92",
       "version_major": 2,
       "version_minor": 0
      },
      "text/plain": [
       "Importance type progress for model 1:   0%|          | 0/9 [00:00<?, ?it/s]"
      ]
     },
     "metadata": {},
     "output_type": "display_data"
    },
    {
     "name": "stdout",
     "output_type": "stream",
     "text": [
      "<class 'sklearn.ensemble._forest.RandomForestClassifier'> (7738, 30) (7738, 1) phishing mutual_info\n",
      "<class 'sklearn.ensemble._forest.RandomForestClassifier'> (7738, 30) (7738, 1) phishing f_test\n",
      "<class 'sklearn.ensemble._forest.RandomForestClassifier'> (7738, 30) (7738, 1) phishing pimp\n",
      "<class 'sklearn.ensemble._forest.RandomForestClassifier'> (7738, 30) (7738, 1) phishing shap\n",
      "<class 'sklearn.ensemble._forest.RandomForestClassifier'> (7738, 30) (7738, 1) phishing pearson\n",
      "<class 'sklearn.ensemble._forest.RandomForestClassifier'> (7738, 30) (7738, 1) phishing spearman\n",
      "<class 'sklearn.ensemble._forest.RandomForestClassifier'> (7738, 30) (7738, 1) phishing kendall\n",
      "<class 'sklearn.ensemble._forest.RandomForestClassifier'> (7738, 30) (7738, 1) phishing pps\n"
     ]
    },
    {
     "data": {
      "application/vnd.jupyter.widget-view+json": {
       "model_id": "4cf561dba9c64fdc8124910376ea9f59",
       "version_major": 2,
       "version_minor": 0
      },
      "text/plain": [
       "Importance type progress for model 2:   0%|          | 0/9 [00:00<?, ?it/s]"
      ]
     },
     "metadata": {},
     "output_type": "display_data"
    },
    {
     "name": "stdout",
     "output_type": "stream",
     "text": [
      "<class 'xgboost.sklearn.XGBClassifier'> (7738, 30) (7738, 1) phishing mutual_info\n",
      "<class 'xgboost.sklearn.XGBClassifier'> (7738, 30) (7738, 1) phishing f_test\n",
      "<class 'xgboost.sklearn.XGBClassifier'> (7738, 30) (7738, 1) phishing pimp\n",
      "<class 'xgboost.sklearn.XGBClassifier'> (7738, 30) (7738, 1) phishing shap\n",
      "<class 'xgboost.sklearn.XGBClassifier'> (7738, 30) (7738, 1) phishing pearson\n",
      "<class 'xgboost.sklearn.XGBClassifier'> (7738, 30) (7738, 1) phishing spearman\n",
      "<class 'xgboost.sklearn.XGBClassifier'> (7738, 30) (7738, 1) phishing kendall\n",
      "<class 'xgboost.sklearn.XGBClassifier'> (7738, 30) (7738, 1) phishing pps\n"
     ]
    },
    {
     "data": {
      "application/vnd.jupyter.widget-view+json": {
       "model_id": "893e624736864297b1861bb94e8d6f1f",
       "version_major": 2,
       "version_minor": 0
      },
      "text/plain": [
       "Model progress for dataset 3:   0%|          | 0/3 [00:00<?, ?it/s]"
      ]
     },
     "metadata": {},
     "output_type": "display_data"
    },
    {
     "data": {
      "application/vnd.jupyter.widget-view+json": {
       "model_id": "9f504537ff5e41c1b13597ba6880de71",
       "version_major": 2,
       "version_minor": 0
      },
      "text/plain": [
       "Importance type progress for model 0:   0%|          | 0/9 [00:00<?, ?it/s]"
      ]
     },
     "metadata": {},
     "output_type": "display_data"
    },
    {
     "name": "stdout",
     "output_type": "stream",
     "text": [
      "<class 'sklearn.tree._classes.DecisionTreeClassifier'> (5686, 22) (5686, 1) mushroom mutual_info\n",
      "<class 'sklearn.tree._classes.DecisionTreeClassifier'> (5686, 22) (5686, 1) mushroom f_test\n",
      "<class 'sklearn.tree._classes.DecisionTreeClassifier'> (5686, 22) (5686, 1) mushroom pimp\n",
      "<class 'sklearn.tree._classes.DecisionTreeClassifier'> (5686, 22) (5686, 1) mushroom shap\n",
      "<class 'sklearn.tree._classes.DecisionTreeClassifier'> (5686, 22) (5686, 1) mushroom pearson\n",
      "<class 'sklearn.tree._classes.DecisionTreeClassifier'> (5686, 22) (5686, 1) mushroom spearman\n",
      "<class 'sklearn.tree._classes.DecisionTreeClassifier'> (5686, 22) (5686, 1) mushroom kendall\n",
      "<class 'sklearn.tree._classes.DecisionTreeClassifier'> (5686, 22) (5686, 1) mushroom pps\n"
     ]
    },
    {
     "data": {
      "application/vnd.jupyter.widget-view+json": {
       "model_id": "25651282ade841f68053c2d88c24c224",
       "version_major": 2,
       "version_minor": 0
      },
      "text/plain": [
       "Importance type progress for model 1:   0%|          | 0/9 [00:00<?, ?it/s]"
      ]
     },
     "metadata": {},
     "output_type": "display_data"
    },
    {
     "name": "stdout",
     "output_type": "stream",
     "text": [
      "<class 'sklearn.ensemble._forest.RandomForestClassifier'> (5686, 22) (5686, 1) mushroom mutual_info\n",
      "<class 'sklearn.ensemble._forest.RandomForestClassifier'> (5686, 22) (5686, 1) mushroom f_test\n",
      "<class 'sklearn.ensemble._forest.RandomForestClassifier'> (5686, 22) (5686, 1) mushroom pimp\n",
      "<class 'sklearn.ensemble._forest.RandomForestClassifier'> (5686, 22) (5686, 1) mushroom shap\n",
      "<class 'sklearn.ensemble._forest.RandomForestClassifier'> (5686, 22) (5686, 1) mushroom pearson\n",
      "<class 'sklearn.ensemble._forest.RandomForestClassifier'> (5686, 22) (5686, 1) mushroom spearman\n",
      "<class 'sklearn.ensemble._forest.RandomForestClassifier'> (5686, 22) (5686, 1) mushroom kendall\n",
      "<class 'sklearn.ensemble._forest.RandomForestClassifier'> (5686, 22) (5686, 1) mushroom pps\n"
     ]
    },
    {
     "data": {
      "application/vnd.jupyter.widget-view+json": {
       "model_id": "c1df2333959a40758d494a5ba89fafe6",
       "version_major": 2,
       "version_minor": 0
      },
      "text/plain": [
       "Importance type progress for model 2:   0%|          | 0/9 [00:00<?, ?it/s]"
      ]
     },
     "metadata": {},
     "output_type": "display_data"
    },
    {
     "name": "stdout",
     "output_type": "stream",
     "text": [
      "<class 'xgboost.sklearn.XGBClassifier'> (5686, 22) (5686, 1) mushroom mutual_info\n",
      "<class 'xgboost.sklearn.XGBClassifier'> (5686, 22) (5686, 1) mushroom f_test\n",
      "<class 'xgboost.sklearn.XGBClassifier'> (5686, 22) (5686, 1) mushroom pimp\n",
      "<class 'xgboost.sklearn.XGBClassifier'> (5686, 22) (5686, 1) mushroom shap\n",
      "<class 'xgboost.sklearn.XGBClassifier'> (5686, 22) (5686, 1) mushroom pearson\n",
      "<class 'xgboost.sklearn.XGBClassifier'> (5686, 22) (5686, 1) mushroom spearman\n",
      "<class 'xgboost.sklearn.XGBClassifier'> (5686, 22) (5686, 1) mushroom kendall\n",
      "<class 'xgboost.sklearn.XGBClassifier'> (5686, 22) (5686, 1) mushroom pps\n"
     ]
    },
    {
     "data": {
      "application/vnd.jupyter.widget-view+json": {
       "model_id": "fbec773998d5433685d7f4fe787ee214",
       "version_major": 2,
       "version_minor": 0
      },
      "text/plain": [
       "Dataset progress:   0%|          | 0/4 [00:00<?, ?it/s]"
      ]
     },
     "metadata": {},
     "output_type": "display_data"
    },
    {
     "data": {
      "application/vnd.jupyter.widget-view+json": {
       "model_id": "de4802c4abe048dda294c7e27309a461",
       "version_major": 2,
       "version_minor": 0
      },
      "text/plain": [
       "Model progress for dataset 0:   0%|          | 0/3 [00:00<?, ?it/s]"
      ]
     },
     "metadata": {},
     "output_type": "display_data"
    },
    {
     "data": {
      "application/vnd.jupyter.widget-view+json": {
       "model_id": "5d4e4486e6c445b6b70232291dd7a043",
       "version_major": 2,
       "version_minor": 0
      },
      "text/plain": [
       "Importance type progress for model 0:   0%|          | 0/9 [00:00<?, ?it/s]"
      ]
     },
     "metadata": {},
     "output_type": "display_data"
    },
    {
     "name": "stdout",
     "output_type": "stream",
     "text": [
      "<class 'sklearn.tree._classes.DecisionTreeClassifier'> (124, 13) (124, 1) wine mutual_info\n",
      "<class 'sklearn.tree._classes.DecisionTreeClassifier'> (124, 13) (124, 1) wine f_test\n",
      "<class 'sklearn.tree._classes.DecisionTreeClassifier'> (124, 13) (124, 1) wine pimp\n",
      "<class 'sklearn.tree._classes.DecisionTreeClassifier'> (124, 13) (124, 1) wine shap\n",
      "<class 'sklearn.tree._classes.DecisionTreeClassifier'> (124, 13) (124, 1) wine pearson\n",
      "<class 'sklearn.tree._classes.DecisionTreeClassifier'> (124, 13) (124, 1) wine spearman\n",
      "<class 'sklearn.tree._classes.DecisionTreeClassifier'> (124, 13) (124, 1) wine kendall\n",
      "<class 'sklearn.tree._classes.DecisionTreeClassifier'> (124, 13) (124, 1) wine pps\n"
     ]
    },
    {
     "data": {
      "application/vnd.jupyter.widget-view+json": {
       "model_id": "2aa05882b0ab4021a437d0bb5dd316a4",
       "version_major": 2,
       "version_minor": 0
      },
      "text/plain": [
       "Importance type progress for model 1:   0%|          | 0/9 [00:00<?, ?it/s]"
      ]
     },
     "metadata": {},
     "output_type": "display_data"
    },
    {
     "name": "stdout",
     "output_type": "stream",
     "text": [
      "<class 'sklearn.ensemble._forest.RandomForestClassifier'> (124, 13) (124, 1) wine mutual_info\n",
      "<class 'sklearn.ensemble._forest.RandomForestClassifier'> (124, 13) (124, 1) wine f_test\n",
      "<class 'sklearn.ensemble._forest.RandomForestClassifier'> (124, 13) (124, 1) wine pimp\n",
      "<class 'sklearn.ensemble._forest.RandomForestClassifier'> (124, 13) (124, 1) wine shap\n",
      "<class 'sklearn.ensemble._forest.RandomForestClassifier'> (124, 13) (124, 1) wine pearson\n",
      "<class 'sklearn.ensemble._forest.RandomForestClassifier'> (124, 13) (124, 1) wine spearman\n",
      "<class 'sklearn.ensemble._forest.RandomForestClassifier'> (124, 13) (124, 1) wine kendall\n",
      "<class 'sklearn.ensemble._forest.RandomForestClassifier'> (124, 13) (124, 1) wine pps\n"
     ]
    },
    {
     "data": {
      "application/vnd.jupyter.widget-view+json": {
       "model_id": "36a170f8b2474e95b295061bb594ecea",
       "version_major": 2,
       "version_minor": 0
      },
      "text/plain": [
       "Importance type progress for model 2:   0%|          | 0/9 [00:00<?, ?it/s]"
      ]
     },
     "metadata": {},
     "output_type": "display_data"
    },
    {
     "name": "stdout",
     "output_type": "stream",
     "text": [
      "<class 'xgboost.sklearn.XGBClassifier'> (124, 13) (124, 1) wine mutual_info\n",
      "<class 'xgboost.sklearn.XGBClassifier'> (124, 13) (124, 1) wine f_test\n",
      "<class 'xgboost.sklearn.XGBClassifier'> (124, 13) (124, 1) wine pimp\n",
      "<class 'xgboost.sklearn.XGBClassifier'> (124, 13) (124, 1) wine shap\n",
      "<class 'xgboost.sklearn.XGBClassifier'> (124, 13) (124, 1) wine pearson\n",
      "<class 'xgboost.sklearn.XGBClassifier'> (124, 13) (124, 1) wine spearman\n",
      "<class 'xgboost.sklearn.XGBClassifier'> (124, 13) (124, 1) wine kendall\n",
      "<class 'xgboost.sklearn.XGBClassifier'> (124, 13) (124, 1) wine pps\n"
     ]
    },
    {
     "data": {
      "application/vnd.jupyter.widget-view+json": {
       "model_id": "a9522bd9370b4957b79e756d40112269",
       "version_major": 2,
       "version_minor": 0
      },
      "text/plain": [
       "Model progress for dataset 1:   0%|          | 0/3 [00:00<?, ?it/s]"
      ]
     },
     "metadata": {},
     "output_type": "display_data"
    },
    {
     "data": {
      "application/vnd.jupyter.widget-view+json": {
       "model_id": "06f95c1b00d04aa185c9821407d3dfbe",
       "version_major": 2,
       "version_minor": 0
      },
      "text/plain": [
       "Importance type progress for model 0:   0%|          | 0/9 [00:00<?, ?it/s]"
      ]
     },
     "metadata": {},
     "output_type": "display_data"
    },
    {
     "name": "stdout",
     "output_type": "stream",
     "text": [
      "<class 'sklearn.tree._classes.DecisionTreeClassifier'> (398, 30) (398, 1) breast_cancer mutual_info\n",
      "<class 'sklearn.tree._classes.DecisionTreeClassifier'> (398, 30) (398, 1) breast_cancer f_test\n",
      "<class 'sklearn.tree._classes.DecisionTreeClassifier'> (398, 30) (398, 1) breast_cancer pimp\n",
      "<class 'sklearn.tree._classes.DecisionTreeClassifier'> (398, 30) (398, 1) breast_cancer shap\n",
      "<class 'sklearn.tree._classes.DecisionTreeClassifier'> (398, 30) (398, 1) breast_cancer pearson\n",
      "<class 'sklearn.tree._classes.DecisionTreeClassifier'> (398, 30) (398, 1) breast_cancer spearman\n",
      "<class 'sklearn.tree._classes.DecisionTreeClassifier'> (398, 30) (398, 1) breast_cancer kendall\n",
      "<class 'sklearn.tree._classes.DecisionTreeClassifier'> (398, 30) (398, 1) breast_cancer pps\n"
     ]
    },
    {
     "data": {
      "application/vnd.jupyter.widget-view+json": {
       "model_id": "d97a7c8ef83f46868e5d1e199e462002",
       "version_major": 2,
       "version_minor": 0
      },
      "text/plain": [
       "Importance type progress for model 1:   0%|          | 0/9 [00:00<?, ?it/s]"
      ]
     },
     "metadata": {},
     "output_type": "display_data"
    },
    {
     "name": "stdout",
     "output_type": "stream",
     "text": [
      "<class 'sklearn.ensemble._forest.RandomForestClassifier'> (398, 30) (398, 1) breast_cancer mutual_info\n",
      "<class 'sklearn.ensemble._forest.RandomForestClassifier'> (398, 30) (398, 1) breast_cancer f_test\n",
      "<class 'sklearn.ensemble._forest.RandomForestClassifier'> (398, 30) (398, 1) breast_cancer pimp\n",
      "<class 'sklearn.ensemble._forest.RandomForestClassifier'> (398, 30) (398, 1) breast_cancer shap\n",
      "<class 'sklearn.ensemble._forest.RandomForestClassifier'> (398, 30) (398, 1) breast_cancer pearson\n",
      "<class 'sklearn.ensemble._forest.RandomForestClassifier'> (398, 30) (398, 1) breast_cancer spearman\n",
      "<class 'sklearn.ensemble._forest.RandomForestClassifier'> (398, 30) (398, 1) breast_cancer kendall\n",
      "<class 'sklearn.ensemble._forest.RandomForestClassifier'> (398, 30) (398, 1) breast_cancer pps\n"
     ]
    },
    {
     "data": {
      "application/vnd.jupyter.widget-view+json": {
       "model_id": "3ea739a6f34e4932958e4c16827f2831",
       "version_major": 2,
       "version_minor": 0
      },
      "text/plain": [
       "Importance type progress for model 2:   0%|          | 0/9 [00:00<?, ?it/s]"
      ]
     },
     "metadata": {},
     "output_type": "display_data"
    },
    {
     "name": "stdout",
     "output_type": "stream",
     "text": [
      "<class 'xgboost.sklearn.XGBClassifier'> (398, 30) (398, 1) breast_cancer mutual_info\n",
      "<class 'xgboost.sklearn.XGBClassifier'> (398, 30) (398, 1) breast_cancer f_test\n",
      "<class 'xgboost.sklearn.XGBClassifier'> (398, 30) (398, 1) breast_cancer pimp\n",
      "<class 'xgboost.sklearn.XGBClassifier'> (398, 30) (398, 1) breast_cancer shap\n",
      "<class 'xgboost.sklearn.XGBClassifier'> (398, 30) (398, 1) breast_cancer pearson\n",
      "<class 'xgboost.sklearn.XGBClassifier'> (398, 30) (398, 1) breast_cancer spearman\n",
      "<class 'xgboost.sklearn.XGBClassifier'> (398, 30) (398, 1) breast_cancer kendall\n",
      "<class 'xgboost.sklearn.XGBClassifier'> (398, 30) (398, 1) breast_cancer pps\n"
     ]
    },
    {
     "data": {
      "application/vnd.jupyter.widget-view+json": {
       "model_id": "1b7c0bdb306548acbf75c9b4b4636616",
       "version_major": 2,
       "version_minor": 0
      },
      "text/plain": [
       "Model progress for dataset 2:   0%|          | 0/3 [00:00<?, ?it/s]"
      ]
     },
     "metadata": {},
     "output_type": "display_data"
    },
    {
     "data": {
      "application/vnd.jupyter.widget-view+json": {
       "model_id": "d50f81311246420f90e0b847f18abc6f",
       "version_major": 2,
       "version_minor": 0
      },
      "text/plain": [
       "Importance type progress for model 0:   0%|          | 0/9 [00:00<?, ?it/s]"
      ]
     },
     "metadata": {},
     "output_type": "display_data"
    },
    {
     "name": "stdout",
     "output_type": "stream",
     "text": [
      "<class 'sklearn.tree._classes.DecisionTreeClassifier'> (7738, 30) (7738, 1) phishing mutual_info\n",
      "<class 'sklearn.tree._classes.DecisionTreeClassifier'> (7738, 30) (7738, 1) phishing f_test\n",
      "<class 'sklearn.tree._classes.DecisionTreeClassifier'> (7738, 30) (7738, 1) phishing pimp\n",
      "<class 'sklearn.tree._classes.DecisionTreeClassifier'> (7738, 30) (7738, 1) phishing shap\n",
      "<class 'sklearn.tree._classes.DecisionTreeClassifier'> (7738, 30) (7738, 1) phishing pearson\n",
      "<class 'sklearn.tree._classes.DecisionTreeClassifier'> (7738, 30) (7738, 1) phishing spearman\n",
      "<class 'sklearn.tree._classes.DecisionTreeClassifier'> (7738, 30) (7738, 1) phishing kendall\n",
      "<class 'sklearn.tree._classes.DecisionTreeClassifier'> (7738, 30) (7738, 1) phishing pps\n"
     ]
    },
    {
     "data": {
      "application/vnd.jupyter.widget-view+json": {
       "model_id": "1561efb151d34edf8529ac4a0457a167",
       "version_major": 2,
       "version_minor": 0
      },
      "text/plain": [
       "Importance type progress for model 1:   0%|          | 0/9 [00:00<?, ?it/s]"
      ]
     },
     "metadata": {},
     "output_type": "display_data"
    },
    {
     "name": "stdout",
     "output_type": "stream",
     "text": [
      "<class 'sklearn.ensemble._forest.RandomForestClassifier'> (7738, 30) (7738, 1) phishing mutual_info\n",
      "<class 'sklearn.ensemble._forest.RandomForestClassifier'> (7738, 30) (7738, 1) phishing f_test\n",
      "<class 'sklearn.ensemble._forest.RandomForestClassifier'> (7738, 30) (7738, 1) phishing pimp\n",
      "<class 'sklearn.ensemble._forest.RandomForestClassifier'> (7738, 30) (7738, 1) phishing shap\n",
      "<class 'sklearn.ensemble._forest.RandomForestClassifier'> (7738, 30) (7738, 1) phishing pearson\n",
      "<class 'sklearn.ensemble._forest.RandomForestClassifier'> (7738, 30) (7738, 1) phishing spearman\n",
      "<class 'sklearn.ensemble._forest.RandomForestClassifier'> (7738, 30) (7738, 1) phishing kendall\n",
      "<class 'sklearn.ensemble._forest.RandomForestClassifier'> (7738, 30) (7738, 1) phishing pps\n"
     ]
    },
    {
     "data": {
      "application/vnd.jupyter.widget-view+json": {
       "model_id": "bd25df2279ec4f64844120ac1f2507ba",
       "version_major": 2,
       "version_minor": 0
      },
      "text/plain": [
       "Importance type progress for model 2:   0%|          | 0/9 [00:00<?, ?it/s]"
      ]
     },
     "metadata": {},
     "output_type": "display_data"
    },
    {
     "name": "stdout",
     "output_type": "stream",
     "text": [
      "<class 'xgboost.sklearn.XGBClassifier'> (7738, 30) (7738, 1) phishing mutual_info\n",
      "<class 'xgboost.sklearn.XGBClassifier'> (7738, 30) (7738, 1) phishing f_test\n",
      "<class 'xgboost.sklearn.XGBClassifier'> (7738, 30) (7738, 1) phishing pimp\n",
      "<class 'xgboost.sklearn.XGBClassifier'> (7738, 30) (7738, 1) phishing shap\n",
      "<class 'xgboost.sklearn.XGBClassifier'> (7738, 30) (7738, 1) phishing pearson\n",
      "<class 'xgboost.sklearn.XGBClassifier'> (7738, 30) (7738, 1) phishing spearman\n",
      "<class 'xgboost.sklearn.XGBClassifier'> (7738, 30) (7738, 1) phishing kendall\n",
      "<class 'xgboost.sklearn.XGBClassifier'> (7738, 30) (7738, 1) phishing pps\n"
     ]
    },
    {
     "data": {
      "application/vnd.jupyter.widget-view+json": {
       "model_id": "89b03ec5c6cb48d3b1768fde70e066af",
       "version_major": 2,
       "version_minor": 0
      },
      "text/plain": [
       "Model progress for dataset 3:   0%|          | 0/3 [00:00<?, ?it/s]"
      ]
     },
     "metadata": {},
     "output_type": "display_data"
    },
    {
     "data": {
      "application/vnd.jupyter.widget-view+json": {
       "model_id": "9b4c7ceca96546229418acfda1c34f20",
       "version_major": 2,
       "version_minor": 0
      },
      "text/plain": [
       "Importance type progress for model 0:   0%|          | 0/9 [00:00<?, ?it/s]"
      ]
     },
     "metadata": {},
     "output_type": "display_data"
    },
    {
     "name": "stdout",
     "output_type": "stream",
     "text": [
      "<class 'sklearn.tree._classes.DecisionTreeClassifier'> (5686, 22) (5686, 1) mushroom mutual_info\n",
      "<class 'sklearn.tree._classes.DecisionTreeClassifier'> (5686, 22) (5686, 1) mushroom f_test\n",
      "<class 'sklearn.tree._classes.DecisionTreeClassifier'> (5686, 22) (5686, 1) mushroom pimp\n",
      "<class 'sklearn.tree._classes.DecisionTreeClassifier'> (5686, 22) (5686, 1) mushroom shap\n",
      "<class 'sklearn.tree._classes.DecisionTreeClassifier'> (5686, 22) (5686, 1) mushroom pearson\n",
      "<class 'sklearn.tree._classes.DecisionTreeClassifier'> (5686, 22) (5686, 1) mushroom spearman\n",
      "<class 'sklearn.tree._classes.DecisionTreeClassifier'> (5686, 22) (5686, 1) mushroom kendall\n",
      "<class 'sklearn.tree._classes.DecisionTreeClassifier'> (5686, 22) (5686, 1) mushroom pps\n"
     ]
    },
    {
     "data": {
      "application/vnd.jupyter.widget-view+json": {
       "model_id": "852f81c7592f4f63a96eabb2a772df7d",
       "version_major": 2,
       "version_minor": 0
      },
      "text/plain": [
       "Importance type progress for model 1:   0%|          | 0/9 [00:00<?, ?it/s]"
      ]
     },
     "metadata": {},
     "output_type": "display_data"
    },
    {
     "name": "stdout",
     "output_type": "stream",
     "text": [
      "<class 'sklearn.ensemble._forest.RandomForestClassifier'> (5686, 22) (5686, 1) mushroom mutual_info\n",
      "<class 'sklearn.ensemble._forest.RandomForestClassifier'> (5686, 22) (5686, 1) mushroom f_test\n",
      "<class 'sklearn.ensemble._forest.RandomForestClassifier'> (5686, 22) (5686, 1) mushroom pimp\n",
      "<class 'sklearn.ensemble._forest.RandomForestClassifier'> (5686, 22) (5686, 1) mushroom shap\n",
      "<class 'sklearn.ensemble._forest.RandomForestClassifier'> (5686, 22) (5686, 1) mushroom pearson\n",
      "<class 'sklearn.ensemble._forest.RandomForestClassifier'> (5686, 22) (5686, 1) mushroom spearman\n",
      "<class 'sklearn.ensemble._forest.RandomForestClassifier'> (5686, 22) (5686, 1) mushroom kendall\n",
      "<class 'sklearn.ensemble._forest.RandomForestClassifier'> (5686, 22) (5686, 1) mushroom pps\n"
     ]
    },
    {
     "data": {
      "application/vnd.jupyter.widget-view+json": {
       "model_id": "c5574c5e2fca486aba7a5baaa87931cf",
       "version_major": 2,
       "version_minor": 0
      },
      "text/plain": [
       "Importance type progress for model 2:   0%|          | 0/9 [00:00<?, ?it/s]"
      ]
     },
     "metadata": {},
     "output_type": "display_data"
    },
    {
     "name": "stdout",
     "output_type": "stream",
     "text": [
      "<class 'xgboost.sklearn.XGBClassifier'> (5686, 22) (5686, 1) mushroom mutual_info\n",
      "<class 'xgboost.sklearn.XGBClassifier'> (5686, 22) (5686, 1) mushroom f_test\n",
      "<class 'xgboost.sklearn.XGBClassifier'> (5686, 22) (5686, 1) mushroom pimp\n",
      "<class 'xgboost.sklearn.XGBClassifier'> (5686, 22) (5686, 1) mushroom shap\n",
      "<class 'xgboost.sklearn.XGBClassifier'> (5686, 22) (5686, 1) mushroom pearson\n",
      "<class 'xgboost.sklearn.XGBClassifier'> (5686, 22) (5686, 1) mushroom spearman\n",
      "<class 'xgboost.sklearn.XGBClassifier'> (5686, 22) (5686, 1) mushroom kendall\n",
      "<class 'xgboost.sklearn.XGBClassifier'> (5686, 22) (5686, 1) mushroom pps\n"
     ]
    },
    {
     "data": {
      "application/vnd.jupyter.widget-view+json": {
       "model_id": "2b7898c2d9b94591b5d288d721344607",
       "version_major": 2,
       "version_minor": 0
      },
      "text/plain": [
       "Dataset progress:   0%|          | 0/4 [00:00<?, ?it/s]"
      ]
     },
     "metadata": {},
     "output_type": "display_data"
    },
    {
     "data": {
      "application/vnd.jupyter.widget-view+json": {
       "model_id": "235fab71663f4c8ab46a3c7615a4d2d1",
       "version_major": 2,
       "version_minor": 0
      },
      "text/plain": [
       "Model progress for dataset 0:   0%|          | 0/3 [00:00<?, ?it/s]"
      ]
     },
     "metadata": {},
     "output_type": "display_data"
    },
    {
     "data": {
      "application/vnd.jupyter.widget-view+json": {
       "model_id": "b6c2b69c0b6940f4b126793c511c3e20",
       "version_major": 2,
       "version_minor": 0
      },
      "text/plain": [
       "Importance type progress for model 0:   0%|          | 0/9 [00:00<?, ?it/s]"
      ]
     },
     "metadata": {},
     "output_type": "display_data"
    },
    {
     "name": "stdout",
     "output_type": "stream",
     "text": [
      "<class 'sklearn.tree._classes.DecisionTreeClassifier'> (124, 13) (124, 1) wine mutual_info\n",
      "<class 'sklearn.tree._classes.DecisionTreeClassifier'> (124, 13) (124, 1) wine f_test\n",
      "<class 'sklearn.tree._classes.DecisionTreeClassifier'> (124, 13) (124, 1) wine pimp\n",
      "<class 'sklearn.tree._classes.DecisionTreeClassifier'> (124, 13) (124, 1) wine shap\n",
      "<class 'sklearn.tree._classes.DecisionTreeClassifier'> (124, 13) (124, 1) wine pearson\n",
      "<class 'sklearn.tree._classes.DecisionTreeClassifier'> (124, 13) (124, 1) wine spearman\n",
      "<class 'sklearn.tree._classes.DecisionTreeClassifier'> (124, 13) (124, 1) wine kendall\n",
      "<class 'sklearn.tree._classes.DecisionTreeClassifier'> (124, 13) (124, 1) wine pps\n"
     ]
    },
    {
     "data": {
      "application/vnd.jupyter.widget-view+json": {
       "model_id": "ecf5b95bd069464889fb1510f6cdbe79",
       "version_major": 2,
       "version_minor": 0
      },
      "text/plain": [
       "Importance type progress for model 1:   0%|          | 0/9 [00:00<?, ?it/s]"
      ]
     },
     "metadata": {},
     "output_type": "display_data"
    },
    {
     "name": "stdout",
     "output_type": "stream",
     "text": [
      "<class 'sklearn.ensemble._forest.RandomForestClassifier'> (124, 13) (124, 1) wine mutual_info\n",
      "<class 'sklearn.ensemble._forest.RandomForestClassifier'> (124, 13) (124, 1) wine f_test\n",
      "<class 'sklearn.ensemble._forest.RandomForestClassifier'> (124, 13) (124, 1) wine pimp\n",
      "<class 'sklearn.ensemble._forest.RandomForestClassifier'> (124, 13) (124, 1) wine shap\n",
      "<class 'sklearn.ensemble._forest.RandomForestClassifier'> (124, 13) (124, 1) wine pearson\n",
      "<class 'sklearn.ensemble._forest.RandomForestClassifier'> (124, 13) (124, 1) wine spearman\n",
      "<class 'sklearn.ensemble._forest.RandomForestClassifier'> (124, 13) (124, 1) wine kendall\n",
      "<class 'sklearn.ensemble._forest.RandomForestClassifier'> (124, 13) (124, 1) wine pps\n"
     ]
    },
    {
     "data": {
      "application/vnd.jupyter.widget-view+json": {
       "model_id": "0ef04b2fcc964a4883a57934ef554182",
       "version_major": 2,
       "version_minor": 0
      },
      "text/plain": [
       "Importance type progress for model 2:   0%|          | 0/9 [00:00<?, ?it/s]"
      ]
     },
     "metadata": {},
     "output_type": "display_data"
    },
    {
     "name": "stdout",
     "output_type": "stream",
     "text": [
      "<class 'xgboost.sklearn.XGBClassifier'> (124, 13) (124, 1) wine mutual_info\n",
      "<class 'xgboost.sklearn.XGBClassifier'> (124, 13) (124, 1) wine f_test\n",
      "<class 'xgboost.sklearn.XGBClassifier'> (124, 13) (124, 1) wine pimp\n",
      "<class 'xgboost.sklearn.XGBClassifier'> (124, 13) (124, 1) wine shap\n",
      "<class 'xgboost.sklearn.XGBClassifier'> (124, 13) (124, 1) wine pearson\n",
      "<class 'xgboost.sklearn.XGBClassifier'> (124, 13) (124, 1) wine spearman\n",
      "<class 'xgboost.sklearn.XGBClassifier'> (124, 13) (124, 1) wine kendall\n",
      "<class 'xgboost.sklearn.XGBClassifier'> (124, 13) (124, 1) wine pps\n"
     ]
    },
    {
     "data": {
      "application/vnd.jupyter.widget-view+json": {
       "model_id": "0c1a17d3e32d431f9d2d4baea312a47d",
       "version_major": 2,
       "version_minor": 0
      },
      "text/plain": [
       "Model progress for dataset 1:   0%|          | 0/3 [00:00<?, ?it/s]"
      ]
     },
     "metadata": {},
     "output_type": "display_data"
    },
    {
     "data": {
      "application/vnd.jupyter.widget-view+json": {
       "model_id": "677bf72d58c44cf1a31fc9a05d1fdb50",
       "version_major": 2,
       "version_minor": 0
      },
      "text/plain": [
       "Importance type progress for model 0:   0%|          | 0/9 [00:00<?, ?it/s]"
      ]
     },
     "metadata": {},
     "output_type": "display_data"
    },
    {
     "name": "stdout",
     "output_type": "stream",
     "text": [
      "<class 'sklearn.tree._classes.DecisionTreeClassifier'> (398, 30) (398, 1) breast_cancer mutual_info\n",
      "<class 'sklearn.tree._classes.DecisionTreeClassifier'> (398, 30) (398, 1) breast_cancer f_test\n",
      "<class 'sklearn.tree._classes.DecisionTreeClassifier'> (398, 30) (398, 1) breast_cancer pimp\n",
      "<class 'sklearn.tree._classes.DecisionTreeClassifier'> (398, 30) (398, 1) breast_cancer shap\n",
      "<class 'sklearn.tree._classes.DecisionTreeClassifier'> (398, 30) (398, 1) breast_cancer pearson\n",
      "<class 'sklearn.tree._classes.DecisionTreeClassifier'> (398, 30) (398, 1) breast_cancer spearman\n",
      "<class 'sklearn.tree._classes.DecisionTreeClassifier'> (398, 30) (398, 1) breast_cancer kendall\n",
      "<class 'sklearn.tree._classes.DecisionTreeClassifier'> (398, 30) (398, 1) breast_cancer pps\n"
     ]
    },
    {
     "data": {
      "application/vnd.jupyter.widget-view+json": {
       "model_id": "43d33f6d7c394ecdada5c80d636ae033",
       "version_major": 2,
       "version_minor": 0
      },
      "text/plain": [
       "Importance type progress for model 1:   0%|          | 0/9 [00:00<?, ?it/s]"
      ]
     },
     "metadata": {},
     "output_type": "display_data"
    },
    {
     "name": "stdout",
     "output_type": "stream",
     "text": [
      "<class 'sklearn.ensemble._forest.RandomForestClassifier'> (398, 30) (398, 1) breast_cancer mutual_info\n",
      "<class 'sklearn.ensemble._forest.RandomForestClassifier'> (398, 30) (398, 1) breast_cancer f_test\n",
      "<class 'sklearn.ensemble._forest.RandomForestClassifier'> (398, 30) (398, 1) breast_cancer pimp\n",
      "<class 'sklearn.ensemble._forest.RandomForestClassifier'> (398, 30) (398, 1) breast_cancer shap\n",
      "<class 'sklearn.ensemble._forest.RandomForestClassifier'> (398, 30) (398, 1) breast_cancer pearson\n",
      "<class 'sklearn.ensemble._forest.RandomForestClassifier'> (398, 30) (398, 1) breast_cancer spearman\n",
      "<class 'sklearn.ensemble._forest.RandomForestClassifier'> (398, 30) (398, 1) breast_cancer kendall\n",
      "<class 'sklearn.ensemble._forest.RandomForestClassifier'> (398, 30) (398, 1) breast_cancer pps\n"
     ]
    },
    {
     "data": {
      "application/vnd.jupyter.widget-view+json": {
       "model_id": "bba5bd8f1f72490dbdf73f685d2d61b1",
       "version_major": 2,
       "version_minor": 0
      },
      "text/plain": [
       "Importance type progress for model 2:   0%|          | 0/9 [00:00<?, ?it/s]"
      ]
     },
     "metadata": {},
     "output_type": "display_data"
    },
    {
     "name": "stdout",
     "output_type": "stream",
     "text": [
      "<class 'xgboost.sklearn.XGBClassifier'> (398, 30) (398, 1) breast_cancer mutual_info\n",
      "<class 'xgboost.sklearn.XGBClassifier'> (398, 30) (398, 1) breast_cancer f_test\n",
      "<class 'xgboost.sklearn.XGBClassifier'> (398, 30) (398, 1) breast_cancer pimp\n",
      "<class 'xgboost.sklearn.XGBClassifier'> (398, 30) (398, 1) breast_cancer shap\n",
      "<class 'xgboost.sklearn.XGBClassifier'> (398, 30) (398, 1) breast_cancer pearson\n",
      "<class 'xgboost.sklearn.XGBClassifier'> (398, 30) (398, 1) breast_cancer spearman\n",
      "<class 'xgboost.sklearn.XGBClassifier'> (398, 30) (398, 1) breast_cancer kendall\n",
      "<class 'xgboost.sklearn.XGBClassifier'> (398, 30) (398, 1) breast_cancer pps\n"
     ]
    },
    {
     "data": {
      "application/vnd.jupyter.widget-view+json": {
       "model_id": "c18d70004a0644e1a72b527842014976",
       "version_major": 2,
       "version_minor": 0
      },
      "text/plain": [
       "Model progress for dataset 2:   0%|          | 0/3 [00:00<?, ?it/s]"
      ]
     },
     "metadata": {},
     "output_type": "display_data"
    },
    {
     "data": {
      "application/vnd.jupyter.widget-view+json": {
       "model_id": "bed60e9982d2459081a4987f72c54180",
       "version_major": 2,
       "version_minor": 0
      },
      "text/plain": [
       "Importance type progress for model 0:   0%|          | 0/9 [00:00<?, ?it/s]"
      ]
     },
     "metadata": {},
     "output_type": "display_data"
    },
    {
     "name": "stdout",
     "output_type": "stream",
     "text": [
      "<class 'sklearn.tree._classes.DecisionTreeClassifier'> (7738, 30) (7738, 1) phishing mutual_info\n",
      "<class 'sklearn.tree._classes.DecisionTreeClassifier'> (7738, 30) (7738, 1) phishing f_test\n",
      "<class 'sklearn.tree._classes.DecisionTreeClassifier'> (7738, 30) (7738, 1) phishing pimp\n",
      "<class 'sklearn.tree._classes.DecisionTreeClassifier'> (7738, 30) (7738, 1) phishing shap\n",
      "<class 'sklearn.tree._classes.DecisionTreeClassifier'> (7738, 30) (7738, 1) phishing pearson\n",
      "<class 'sklearn.tree._classes.DecisionTreeClassifier'> (7738, 30) (7738, 1) phishing spearman\n",
      "<class 'sklearn.tree._classes.DecisionTreeClassifier'> (7738, 30) (7738, 1) phishing kendall\n",
      "<class 'sklearn.tree._classes.DecisionTreeClassifier'> (7738, 30) (7738, 1) phishing pps\n"
     ]
    },
    {
     "data": {
      "application/vnd.jupyter.widget-view+json": {
       "model_id": "104387b994f44bb5b84c22c16ccb406a",
       "version_major": 2,
       "version_minor": 0
      },
      "text/plain": [
       "Importance type progress for model 1:   0%|          | 0/9 [00:00<?, ?it/s]"
      ]
     },
     "metadata": {},
     "output_type": "display_data"
    },
    {
     "name": "stdout",
     "output_type": "stream",
     "text": [
      "<class 'sklearn.ensemble._forest.RandomForestClassifier'> (7738, 30) (7738, 1) phishing mutual_info\n",
      "<class 'sklearn.ensemble._forest.RandomForestClassifier'> (7738, 30) (7738, 1) phishing f_test\n",
      "<class 'sklearn.ensemble._forest.RandomForestClassifier'> (7738, 30) (7738, 1) phishing pimp\n",
      "<class 'sklearn.ensemble._forest.RandomForestClassifier'> (7738, 30) (7738, 1) phishing shap\n",
      "<class 'sklearn.ensemble._forest.RandomForestClassifier'> (7738, 30) (7738, 1) phishing pearson\n",
      "<class 'sklearn.ensemble._forest.RandomForestClassifier'> (7738, 30) (7738, 1) phishing spearman\n",
      "<class 'sklearn.ensemble._forest.RandomForestClassifier'> (7738, 30) (7738, 1) phishing kendall\n",
      "<class 'sklearn.ensemble._forest.RandomForestClassifier'> (7738, 30) (7738, 1) phishing pps\n"
     ]
    },
    {
     "data": {
      "application/vnd.jupyter.widget-view+json": {
       "model_id": "f1cefd98cea041d08caa1d63a7a70ce1",
       "version_major": 2,
       "version_minor": 0
      },
      "text/plain": [
       "Importance type progress for model 2:   0%|          | 0/9 [00:00<?, ?it/s]"
      ]
     },
     "metadata": {},
     "output_type": "display_data"
    },
    {
     "name": "stdout",
     "output_type": "stream",
     "text": [
      "<class 'xgboost.sklearn.XGBClassifier'> (7738, 30) (7738, 1) phishing mutual_info\n",
      "<class 'xgboost.sklearn.XGBClassifier'> (7738, 30) (7738, 1) phishing f_test\n",
      "<class 'xgboost.sklearn.XGBClassifier'> (7738, 30) (7738, 1) phishing pimp\n",
      "<class 'xgboost.sklearn.XGBClassifier'> (7738, 30) (7738, 1) phishing shap\n",
      "<class 'xgboost.sklearn.XGBClassifier'> (7738, 30) (7738, 1) phishing pearson\n",
      "<class 'xgboost.sklearn.XGBClassifier'> (7738, 30) (7738, 1) phishing spearman\n",
      "<class 'xgboost.sklearn.XGBClassifier'> (7738, 30) (7738, 1) phishing kendall\n",
      "<class 'xgboost.sklearn.XGBClassifier'> (7738, 30) (7738, 1) phishing pps\n"
     ]
    },
    {
     "data": {
      "application/vnd.jupyter.widget-view+json": {
       "model_id": "6d1a769722714a6389c4456b4d15e6d6",
       "version_major": 2,
       "version_minor": 0
      },
      "text/plain": [
       "Model progress for dataset 3:   0%|          | 0/3 [00:00<?, ?it/s]"
      ]
     },
     "metadata": {},
     "output_type": "display_data"
    },
    {
     "data": {
      "application/vnd.jupyter.widget-view+json": {
       "model_id": "e6792bd6e2124a40854191a346b81271",
       "version_major": 2,
       "version_minor": 0
      },
      "text/plain": [
       "Importance type progress for model 0:   0%|          | 0/9 [00:00<?, ?it/s]"
      ]
     },
     "metadata": {},
     "output_type": "display_data"
    },
    {
     "name": "stdout",
     "output_type": "stream",
     "text": [
      "<class 'sklearn.tree._classes.DecisionTreeClassifier'> (5686, 22) (5686, 1) mushroom mutual_info\n",
      "<class 'sklearn.tree._classes.DecisionTreeClassifier'> (5686, 22) (5686, 1) mushroom f_test\n",
      "<class 'sklearn.tree._classes.DecisionTreeClassifier'> (5686, 22) (5686, 1) mushroom pimp\n",
      "<class 'sklearn.tree._classes.DecisionTreeClassifier'> (5686, 22) (5686, 1) mushroom shap\n",
      "<class 'sklearn.tree._classes.DecisionTreeClassifier'> (5686, 22) (5686, 1) mushroom pearson\n",
      "<class 'sklearn.tree._classes.DecisionTreeClassifier'> (5686, 22) (5686, 1) mushroom spearman\n",
      "<class 'sklearn.tree._classes.DecisionTreeClassifier'> (5686, 22) (5686, 1) mushroom kendall\n",
      "<class 'sklearn.tree._classes.DecisionTreeClassifier'> (5686, 22) (5686, 1) mushroom pps\n"
     ]
    },
    {
     "data": {
      "application/vnd.jupyter.widget-view+json": {
       "model_id": "4d8ae65e57f549a492013c6b418e4399",
       "version_major": 2,
       "version_minor": 0
      },
      "text/plain": [
       "Importance type progress for model 1:   0%|          | 0/9 [00:00<?, ?it/s]"
      ]
     },
     "metadata": {},
     "output_type": "display_data"
    },
    {
     "name": "stdout",
     "output_type": "stream",
     "text": [
      "<class 'sklearn.ensemble._forest.RandomForestClassifier'> (5686, 22) (5686, 1) mushroom mutual_info\n",
      "<class 'sklearn.ensemble._forest.RandomForestClassifier'> (5686, 22) (5686, 1) mushroom f_test\n",
      "<class 'sklearn.ensemble._forest.RandomForestClassifier'> (5686, 22) (5686, 1) mushroom pimp\n",
      "<class 'sklearn.ensemble._forest.RandomForestClassifier'> (5686, 22) (5686, 1) mushroom shap\n",
      "<class 'sklearn.ensemble._forest.RandomForestClassifier'> (5686, 22) (5686, 1) mushroom pearson\n",
      "<class 'sklearn.ensemble._forest.RandomForestClassifier'> (5686, 22) (5686, 1) mushroom spearman\n",
      "<class 'sklearn.ensemble._forest.RandomForestClassifier'> (5686, 22) (5686, 1) mushroom kendall\n",
      "<class 'sklearn.ensemble._forest.RandomForestClassifier'> (5686, 22) (5686, 1) mushroom pps\n"
     ]
    },
    {
     "data": {
      "application/vnd.jupyter.widget-view+json": {
       "model_id": "9d590adc25f047fabb620265bcebc700",
       "version_major": 2,
       "version_minor": 0
      },
      "text/plain": [
       "Importance type progress for model 2:   0%|          | 0/9 [00:00<?, ?it/s]"
      ]
     },
     "metadata": {},
     "output_type": "display_data"
    },
    {
     "name": "stdout",
     "output_type": "stream",
     "text": [
      "<class 'xgboost.sklearn.XGBClassifier'> (5686, 22) (5686, 1) mushroom mutual_info\n",
      "<class 'xgboost.sklearn.XGBClassifier'> (5686, 22) (5686, 1) mushroom f_test\n",
      "<class 'xgboost.sklearn.XGBClassifier'> (5686, 22) (5686, 1) mushroom pimp\n",
      "<class 'xgboost.sklearn.XGBClassifier'> (5686, 22) (5686, 1) mushroom shap\n",
      "<class 'xgboost.sklearn.XGBClassifier'> (5686, 22) (5686, 1) mushroom pearson\n",
      "<class 'xgboost.sklearn.XGBClassifier'> (5686, 22) (5686, 1) mushroom spearman\n",
      "<class 'xgboost.sklearn.XGBClassifier'> (5686, 22) (5686, 1) mushroom kendall\n",
      "<class 'xgboost.sklearn.XGBClassifier'> (5686, 22) (5686, 1) mushroom pps\n"
     ]
    },
    {
     "data": {
      "application/vnd.jupyter.widget-view+json": {
       "model_id": "c18159d5f33b4871a1ae12ba1c0d8b89",
       "version_major": 2,
       "version_minor": 0
      },
      "text/plain": [
       "Model random state progress:   0%|          | 0/10 [00:00<?, ?it/s]"
      ]
     },
     "metadata": {},
     "output_type": "display_data"
    },
    {
     "data": {
      "application/vnd.jupyter.widget-view+json": {
       "model_id": "f22ab2eaa6ae42599419093608c01be3",
       "version_major": 2,
       "version_minor": 0
      },
      "text/plain": [
       "Dataset progress:   0%|          | 0/4 [00:00<?, ?it/s]"
      ]
     },
     "metadata": {},
     "output_type": "display_data"
    },
    {
     "data": {
      "application/vnd.jupyter.widget-view+json": {
       "model_id": "c416ea4dfd4e406a921bbdb6277530d9",
       "version_major": 2,
       "version_minor": 0
      },
      "text/plain": [
       "Model progress for dataset 0:   0%|          | 0/3 [00:00<?, ?it/s]"
      ]
     },
     "metadata": {},
     "output_type": "display_data"
    },
    {
     "data": {
      "application/vnd.jupyter.widget-view+json": {
       "model_id": "0405f11e24f94b5fae0cc2eabaa64334",
       "version_major": 2,
       "version_minor": 0
      },
      "text/plain": [
       "Importance type progress for model 0:   0%|          | 0/9 [00:00<?, ?it/s]"
      ]
     },
     "metadata": {},
     "output_type": "display_data"
    },
    {
     "name": "stdout",
     "output_type": "stream",
     "text": [
      "<class 'sklearn.tree._classes.DecisionTreeClassifier'> (124, 13) (124, 1) wine mutual_info\n",
      "<class 'sklearn.tree._classes.DecisionTreeClassifier'> (124, 13) (124, 1) wine f_test\n",
      "<class 'sklearn.tree._classes.DecisionTreeClassifier'> (124, 13) (124, 1) wine pimp\n",
      "<class 'sklearn.tree._classes.DecisionTreeClassifier'> (124, 13) (124, 1) wine shap\n",
      "<class 'sklearn.tree._classes.DecisionTreeClassifier'> (124, 13) (124, 1) wine pearson\n",
      "<class 'sklearn.tree._classes.DecisionTreeClassifier'> (124, 13) (124, 1) wine spearman\n",
      "<class 'sklearn.tree._classes.DecisionTreeClassifier'> (124, 13) (124, 1) wine kendall\n",
      "<class 'sklearn.tree._classes.DecisionTreeClassifier'> (124, 13) (124, 1) wine pps\n"
     ]
    },
    {
     "data": {
      "application/vnd.jupyter.widget-view+json": {
       "model_id": "88281a55729e45509e8c48ab8fc66b2b",
       "version_major": 2,
       "version_minor": 0
      },
      "text/plain": [
       "Importance type progress for model 1:   0%|          | 0/9 [00:00<?, ?it/s]"
      ]
     },
     "metadata": {},
     "output_type": "display_data"
    },
    {
     "name": "stdout",
     "output_type": "stream",
     "text": [
      "<class 'sklearn.ensemble._forest.RandomForestClassifier'> (124, 13) (124, 1) wine mutual_info\n",
      "<class 'sklearn.ensemble._forest.RandomForestClassifier'> (124, 13) (124, 1) wine f_test\n",
      "<class 'sklearn.ensemble._forest.RandomForestClassifier'> (124, 13) (124, 1) wine pimp\n",
      "<class 'sklearn.ensemble._forest.RandomForestClassifier'> (124, 13) (124, 1) wine shap\n",
      "<class 'sklearn.ensemble._forest.RandomForestClassifier'> (124, 13) (124, 1) wine pearson\n",
      "<class 'sklearn.ensemble._forest.RandomForestClassifier'> (124, 13) (124, 1) wine spearman\n",
      "<class 'sklearn.ensemble._forest.RandomForestClassifier'> (124, 13) (124, 1) wine kendall\n",
      "<class 'sklearn.ensemble._forest.RandomForestClassifier'> (124, 13) (124, 1) wine pps\n"
     ]
    },
    {
     "data": {
      "application/vnd.jupyter.widget-view+json": {
       "model_id": "acb3b75dd3084d2885c2d455e79cd7e2",
       "version_major": 2,
       "version_minor": 0
      },
      "text/plain": [
       "Importance type progress for model 2:   0%|          | 0/9 [00:00<?, ?it/s]"
      ]
     },
     "metadata": {},
     "output_type": "display_data"
    },
    {
     "name": "stdout",
     "output_type": "stream",
     "text": [
      "<class 'xgboost.sklearn.XGBClassifier'> (124, 13) (124, 1) wine mutual_info\n",
      "<class 'xgboost.sklearn.XGBClassifier'> (124, 13) (124, 1) wine f_test\n",
      "<class 'xgboost.sklearn.XGBClassifier'> (124, 13) (124, 1) wine pimp\n",
      "<class 'xgboost.sklearn.XGBClassifier'> (124, 13) (124, 1) wine shap\n",
      "<class 'xgboost.sklearn.XGBClassifier'> (124, 13) (124, 1) wine pearson\n",
      "<class 'xgboost.sklearn.XGBClassifier'> (124, 13) (124, 1) wine spearman\n",
      "<class 'xgboost.sklearn.XGBClassifier'> (124, 13) (124, 1) wine kendall\n",
      "<class 'xgboost.sklearn.XGBClassifier'> (124, 13) (124, 1) wine pps\n"
     ]
    },
    {
     "data": {
      "application/vnd.jupyter.widget-view+json": {
       "model_id": "f66c6676cd85483bbff069e2bdb39410",
       "version_major": 2,
       "version_minor": 0
      },
      "text/plain": [
       "Model progress for dataset 1:   0%|          | 0/3 [00:00<?, ?it/s]"
      ]
     },
     "metadata": {},
     "output_type": "display_data"
    },
    {
     "data": {
      "application/vnd.jupyter.widget-view+json": {
       "model_id": "1cb919a053204d29b034db229c65d280",
       "version_major": 2,
       "version_minor": 0
      },
      "text/plain": [
       "Importance type progress for model 0:   0%|          | 0/9 [00:00<?, ?it/s]"
      ]
     },
     "metadata": {},
     "output_type": "display_data"
    },
    {
     "name": "stdout",
     "output_type": "stream",
     "text": [
      "<class 'sklearn.tree._classes.DecisionTreeClassifier'> (398, 30) (398, 1) breast_cancer mutual_info\n",
      "<class 'sklearn.tree._classes.DecisionTreeClassifier'> (398, 30) (398, 1) breast_cancer f_test\n",
      "<class 'sklearn.tree._classes.DecisionTreeClassifier'> (398, 30) (398, 1) breast_cancer pimp\n",
      "<class 'sklearn.tree._classes.DecisionTreeClassifier'> (398, 30) (398, 1) breast_cancer shap\n",
      "<class 'sklearn.tree._classes.DecisionTreeClassifier'> (398, 30) (398, 1) breast_cancer pearson\n",
      "<class 'sklearn.tree._classes.DecisionTreeClassifier'> (398, 30) (398, 1) breast_cancer spearman\n",
      "<class 'sklearn.tree._classes.DecisionTreeClassifier'> (398, 30) (398, 1) breast_cancer kendall\n",
      "<class 'sklearn.tree._classes.DecisionTreeClassifier'> (398, 30) (398, 1) breast_cancer pps\n"
     ]
    },
    {
     "data": {
      "application/vnd.jupyter.widget-view+json": {
       "model_id": "47f65c9f13274b72915ff47c3efbf338",
       "version_major": 2,
       "version_minor": 0
      },
      "text/plain": [
       "Importance type progress for model 1:   0%|          | 0/9 [00:00<?, ?it/s]"
      ]
     },
     "metadata": {},
     "output_type": "display_data"
    },
    {
     "name": "stdout",
     "output_type": "stream",
     "text": [
      "<class 'sklearn.ensemble._forest.RandomForestClassifier'> (398, 30) (398, 1) breast_cancer mutual_info\n",
      "<class 'sklearn.ensemble._forest.RandomForestClassifier'> (398, 30) (398, 1) breast_cancer f_test\n",
      "<class 'sklearn.ensemble._forest.RandomForestClassifier'> (398, 30) (398, 1) breast_cancer pimp\n",
      "<class 'sklearn.ensemble._forest.RandomForestClassifier'> (398, 30) (398, 1) breast_cancer shap\n",
      "<class 'sklearn.ensemble._forest.RandomForestClassifier'> (398, 30) (398, 1) breast_cancer pearson\n",
      "<class 'sklearn.ensemble._forest.RandomForestClassifier'> (398, 30) (398, 1) breast_cancer spearman\n",
      "<class 'sklearn.ensemble._forest.RandomForestClassifier'> (398, 30) (398, 1) breast_cancer kendall\n",
      "<class 'sklearn.ensemble._forest.RandomForestClassifier'> (398, 30) (398, 1) breast_cancer pps\n"
     ]
    },
    {
     "data": {
      "application/vnd.jupyter.widget-view+json": {
       "model_id": "1f9a82020aad476b9a5041acd05334cc",
       "version_major": 2,
       "version_minor": 0
      },
      "text/plain": [
       "Importance type progress for model 2:   0%|          | 0/9 [00:00<?, ?it/s]"
      ]
     },
     "metadata": {},
     "output_type": "display_data"
    },
    {
     "name": "stdout",
     "output_type": "stream",
     "text": [
      "<class 'xgboost.sklearn.XGBClassifier'> (398, 30) (398, 1) breast_cancer mutual_info\n",
      "<class 'xgboost.sklearn.XGBClassifier'> (398, 30) (398, 1) breast_cancer f_test\n",
      "<class 'xgboost.sklearn.XGBClassifier'> (398, 30) (398, 1) breast_cancer pimp\n",
      "<class 'xgboost.sklearn.XGBClassifier'> (398, 30) (398, 1) breast_cancer shap\n",
      "<class 'xgboost.sklearn.XGBClassifier'> (398, 30) (398, 1) breast_cancer pearson\n",
      "<class 'xgboost.sklearn.XGBClassifier'> (398, 30) (398, 1) breast_cancer spearman\n",
      "<class 'xgboost.sklearn.XGBClassifier'> (398, 30) (398, 1) breast_cancer kendall\n",
      "<class 'xgboost.sklearn.XGBClassifier'> (398, 30) (398, 1) breast_cancer pps\n"
     ]
    },
    {
     "data": {
      "application/vnd.jupyter.widget-view+json": {
       "model_id": "2bfe52dbcbc64a16bee4f1796a28fdec",
       "version_major": 2,
       "version_minor": 0
      },
      "text/plain": [
       "Model progress for dataset 2:   0%|          | 0/3 [00:00<?, ?it/s]"
      ]
     },
     "metadata": {},
     "output_type": "display_data"
    },
    {
     "data": {
      "application/vnd.jupyter.widget-view+json": {
       "model_id": "63c54aa0dff44297ab8d2db1ffd057f6",
       "version_major": 2,
       "version_minor": 0
      },
      "text/plain": [
       "Importance type progress for model 0:   0%|          | 0/9 [00:00<?, ?it/s]"
      ]
     },
     "metadata": {},
     "output_type": "display_data"
    },
    {
     "name": "stdout",
     "output_type": "stream",
     "text": [
      "<class 'sklearn.tree._classes.DecisionTreeClassifier'> (7738, 30) (7738, 1) phishing mutual_info\n",
      "<class 'sklearn.tree._classes.DecisionTreeClassifier'> (7738, 30) (7738, 1) phishing f_test\n",
      "<class 'sklearn.tree._classes.DecisionTreeClassifier'> (7738, 30) (7738, 1) phishing pimp\n",
      "<class 'sklearn.tree._classes.DecisionTreeClassifier'> (7738, 30) (7738, 1) phishing shap\n",
      "<class 'sklearn.tree._classes.DecisionTreeClassifier'> (7738, 30) (7738, 1) phishing pearson\n",
      "<class 'sklearn.tree._classes.DecisionTreeClassifier'> (7738, 30) (7738, 1) phishing spearman\n",
      "<class 'sklearn.tree._classes.DecisionTreeClassifier'> (7738, 30) (7738, 1) phishing kendall\n",
      "<class 'sklearn.tree._classes.DecisionTreeClassifier'> (7738, 30) (7738, 1) phishing pps\n"
     ]
    },
    {
     "data": {
      "application/vnd.jupyter.widget-view+json": {
       "model_id": "d9b281ca98824b3e83f484d76a26d502",
       "version_major": 2,
       "version_minor": 0
      },
      "text/plain": [
       "Importance type progress for model 1:   0%|          | 0/9 [00:00<?, ?it/s]"
      ]
     },
     "metadata": {},
     "output_type": "display_data"
    },
    {
     "name": "stdout",
     "output_type": "stream",
     "text": [
      "<class 'sklearn.ensemble._forest.RandomForestClassifier'> (7738, 30) (7738, 1) phishing mutual_info\n",
      "<class 'sklearn.ensemble._forest.RandomForestClassifier'> (7738, 30) (7738, 1) phishing f_test\n",
      "<class 'sklearn.ensemble._forest.RandomForestClassifier'> (7738, 30) (7738, 1) phishing pimp\n",
      "<class 'sklearn.ensemble._forest.RandomForestClassifier'> (7738, 30) (7738, 1) phishing shap\n",
      "<class 'sklearn.ensemble._forest.RandomForestClassifier'> (7738, 30) (7738, 1) phishing pearson\n",
      "<class 'sklearn.ensemble._forest.RandomForestClassifier'> (7738, 30) (7738, 1) phishing spearman\n",
      "<class 'sklearn.ensemble._forest.RandomForestClassifier'> (7738, 30) (7738, 1) phishing kendall\n",
      "<class 'sklearn.ensemble._forest.RandomForestClassifier'> (7738, 30) (7738, 1) phishing pps\n"
     ]
    },
    {
     "data": {
      "application/vnd.jupyter.widget-view+json": {
       "model_id": "7be56ccde4f740aea6909495c4a98390",
       "version_major": 2,
       "version_minor": 0
      },
      "text/plain": [
       "Importance type progress for model 2:   0%|          | 0/9 [00:00<?, ?it/s]"
      ]
     },
     "metadata": {},
     "output_type": "display_data"
    },
    {
     "name": "stdout",
     "output_type": "stream",
     "text": [
      "<class 'xgboost.sklearn.XGBClassifier'> (7738, 30) (7738, 1) phishing mutual_info\n",
      "<class 'xgboost.sklearn.XGBClassifier'> (7738, 30) (7738, 1) phishing f_test\n",
      "<class 'xgboost.sklearn.XGBClassifier'> (7738, 30) (7738, 1) phishing pimp\n",
      "<class 'xgboost.sklearn.XGBClassifier'> (7738, 30) (7738, 1) phishing shap\n",
      "<class 'xgboost.sklearn.XGBClassifier'> (7738, 30) (7738, 1) phishing pearson\n",
      "<class 'xgboost.sklearn.XGBClassifier'> (7738, 30) (7738, 1) phishing spearman\n",
      "<class 'xgboost.sklearn.XGBClassifier'> (7738, 30) (7738, 1) phishing kendall\n",
      "<class 'xgboost.sklearn.XGBClassifier'> (7738, 30) (7738, 1) phishing pps\n"
     ]
    },
    {
     "data": {
      "application/vnd.jupyter.widget-view+json": {
       "model_id": "95c10a150a094bbc845283bc0bd1dc06",
       "version_major": 2,
       "version_minor": 0
      },
      "text/plain": [
       "Model progress for dataset 3:   0%|          | 0/3 [00:00<?, ?it/s]"
      ]
     },
     "metadata": {},
     "output_type": "display_data"
    },
    {
     "data": {
      "application/vnd.jupyter.widget-view+json": {
       "model_id": "3cd0cd291af244bdbb6345df9d13a28d",
       "version_major": 2,
       "version_minor": 0
      },
      "text/plain": [
       "Importance type progress for model 0:   0%|          | 0/9 [00:00<?, ?it/s]"
      ]
     },
     "metadata": {},
     "output_type": "display_data"
    },
    {
     "name": "stdout",
     "output_type": "stream",
     "text": [
      "<class 'sklearn.tree._classes.DecisionTreeClassifier'> (5686, 22) (5686, 1) mushroom mutual_info\n",
      "<class 'sklearn.tree._classes.DecisionTreeClassifier'> (5686, 22) (5686, 1) mushroom f_test\n",
      "<class 'sklearn.tree._classes.DecisionTreeClassifier'> (5686, 22) (5686, 1) mushroom pimp\n",
      "<class 'sklearn.tree._classes.DecisionTreeClassifier'> (5686, 22) (5686, 1) mushroom shap\n",
      "<class 'sklearn.tree._classes.DecisionTreeClassifier'> (5686, 22) (5686, 1) mushroom pearson\n",
      "<class 'sklearn.tree._classes.DecisionTreeClassifier'> (5686, 22) (5686, 1) mushroom spearman\n",
      "<class 'sklearn.tree._classes.DecisionTreeClassifier'> (5686, 22) (5686, 1) mushroom kendall\n",
      "<class 'sklearn.tree._classes.DecisionTreeClassifier'> (5686, 22) (5686, 1) mushroom pps\n"
     ]
    },
    {
     "data": {
      "application/vnd.jupyter.widget-view+json": {
       "model_id": "838c8a7a10814a62a1ea989bc1ee346c",
       "version_major": 2,
       "version_minor": 0
      },
      "text/plain": [
       "Importance type progress for model 1:   0%|          | 0/9 [00:00<?, ?it/s]"
      ]
     },
     "metadata": {},
     "output_type": "display_data"
    },
    {
     "name": "stdout",
     "output_type": "stream",
     "text": [
      "<class 'sklearn.ensemble._forest.RandomForestClassifier'> (5686, 22) (5686, 1) mushroom mutual_info\n",
      "<class 'sklearn.ensemble._forest.RandomForestClassifier'> (5686, 22) (5686, 1) mushroom f_test\n",
      "<class 'sklearn.ensemble._forest.RandomForestClassifier'> (5686, 22) (5686, 1) mushroom pimp\n",
      "<class 'sklearn.ensemble._forest.RandomForestClassifier'> (5686, 22) (5686, 1) mushroom shap\n",
      "<class 'sklearn.ensemble._forest.RandomForestClassifier'> (5686, 22) (5686, 1) mushroom pearson\n",
      "<class 'sklearn.ensemble._forest.RandomForestClassifier'> (5686, 22) (5686, 1) mushroom spearman\n",
      "<class 'sklearn.ensemble._forest.RandomForestClassifier'> (5686, 22) (5686, 1) mushroom kendall\n",
      "<class 'sklearn.ensemble._forest.RandomForestClassifier'> (5686, 22) (5686, 1) mushroom pps\n"
     ]
    },
    {
     "data": {
      "application/vnd.jupyter.widget-view+json": {
       "model_id": "a32fde4317674c4aa0907c54a0e0dafa",
       "version_major": 2,
       "version_minor": 0
      },
      "text/plain": [
       "Importance type progress for model 2:   0%|          | 0/9 [00:00<?, ?it/s]"
      ]
     },
     "metadata": {},
     "output_type": "display_data"
    },
    {
     "name": "stdout",
     "output_type": "stream",
     "text": [
      "<class 'xgboost.sklearn.XGBClassifier'> (5686, 22) (5686, 1) mushroom mutual_info\n",
      "<class 'xgboost.sklearn.XGBClassifier'> (5686, 22) (5686, 1) mushroom f_test\n",
      "<class 'xgboost.sklearn.XGBClassifier'> (5686, 22) (5686, 1) mushroom pimp\n",
      "<class 'xgboost.sklearn.XGBClassifier'> (5686, 22) (5686, 1) mushroom shap\n",
      "<class 'xgboost.sklearn.XGBClassifier'> (5686, 22) (5686, 1) mushroom pearson\n",
      "<class 'xgboost.sklearn.XGBClassifier'> (5686, 22) (5686, 1) mushroom spearman\n",
      "<class 'xgboost.sklearn.XGBClassifier'> (5686, 22) (5686, 1) mushroom kendall\n",
      "<class 'xgboost.sklearn.XGBClassifier'> (5686, 22) (5686, 1) mushroom pps\n"
     ]
    },
    {
     "data": {
      "application/vnd.jupyter.widget-view+json": {
       "model_id": "67bc526d163c4bd1a51e1f6f53e8394c",
       "version_major": 2,
       "version_minor": 0
      },
      "text/plain": [
       "Dataset progress:   0%|          | 0/4 [00:00<?, ?it/s]"
      ]
     },
     "metadata": {},
     "output_type": "display_data"
    },
    {
     "data": {
      "application/vnd.jupyter.widget-view+json": {
       "model_id": "acba2ec228b94860833bfb38d7461c52",
       "version_major": 2,
       "version_minor": 0
      },
      "text/plain": [
       "Model progress for dataset 0:   0%|          | 0/3 [00:00<?, ?it/s]"
      ]
     },
     "metadata": {},
     "output_type": "display_data"
    },
    {
     "data": {
      "application/vnd.jupyter.widget-view+json": {
       "model_id": "affc0825490a4c3184fc90ff97487b3a",
       "version_major": 2,
       "version_minor": 0
      },
      "text/plain": [
       "Importance type progress for model 0:   0%|          | 0/9 [00:00<?, ?it/s]"
      ]
     },
     "metadata": {},
     "output_type": "display_data"
    },
    {
     "name": "stdout",
     "output_type": "stream",
     "text": [
      "<class 'sklearn.tree._classes.DecisionTreeClassifier'> (124, 13) (124, 1) wine mutual_info\n",
      "<class 'sklearn.tree._classes.DecisionTreeClassifier'> (124, 13) (124, 1) wine f_test\n",
      "<class 'sklearn.tree._classes.DecisionTreeClassifier'> (124, 13) (124, 1) wine pimp\n",
      "<class 'sklearn.tree._classes.DecisionTreeClassifier'> (124, 13) (124, 1) wine shap\n",
      "<class 'sklearn.tree._classes.DecisionTreeClassifier'> (124, 13) (124, 1) wine pearson\n",
      "<class 'sklearn.tree._classes.DecisionTreeClassifier'> (124, 13) (124, 1) wine spearman\n",
      "<class 'sklearn.tree._classes.DecisionTreeClassifier'> (124, 13) (124, 1) wine kendall\n",
      "<class 'sklearn.tree._classes.DecisionTreeClassifier'> (124, 13) (124, 1) wine pps\n"
     ]
    },
    {
     "data": {
      "application/vnd.jupyter.widget-view+json": {
       "model_id": "9d01738763b046e8a3ab2a0f1631607f",
       "version_major": 2,
       "version_minor": 0
      },
      "text/plain": [
       "Importance type progress for model 1:   0%|          | 0/9 [00:00<?, ?it/s]"
      ]
     },
     "metadata": {},
     "output_type": "display_data"
    },
    {
     "name": "stdout",
     "output_type": "stream",
     "text": [
      "<class 'sklearn.ensemble._forest.RandomForestClassifier'> (124, 13) (124, 1) wine mutual_info\n",
      "<class 'sklearn.ensemble._forest.RandomForestClassifier'> (124, 13) (124, 1) wine f_test\n",
      "<class 'sklearn.ensemble._forest.RandomForestClassifier'> (124, 13) (124, 1) wine pimp\n",
      "<class 'sklearn.ensemble._forest.RandomForestClassifier'> (124, 13) (124, 1) wine shap\n",
      "<class 'sklearn.ensemble._forest.RandomForestClassifier'> (124, 13) (124, 1) wine pearson\n",
      "<class 'sklearn.ensemble._forest.RandomForestClassifier'> (124, 13) (124, 1) wine spearman\n",
      "<class 'sklearn.ensemble._forest.RandomForestClassifier'> (124, 13) (124, 1) wine kendall\n",
      "<class 'sklearn.ensemble._forest.RandomForestClassifier'> (124, 13) (124, 1) wine pps\n"
     ]
    },
    {
     "data": {
      "application/vnd.jupyter.widget-view+json": {
       "model_id": "f717c119e345453aad3126b7de77a90f",
       "version_major": 2,
       "version_minor": 0
      },
      "text/plain": [
       "Importance type progress for model 2:   0%|          | 0/9 [00:00<?, ?it/s]"
      ]
     },
     "metadata": {},
     "output_type": "display_data"
    },
    {
     "name": "stdout",
     "output_type": "stream",
     "text": [
      "<class 'xgboost.sklearn.XGBClassifier'> (124, 13) (124, 1) wine mutual_info\n",
      "<class 'xgboost.sklearn.XGBClassifier'> (124, 13) (124, 1) wine f_test\n",
      "<class 'xgboost.sklearn.XGBClassifier'> (124, 13) (124, 1) wine pimp\n",
      "<class 'xgboost.sklearn.XGBClassifier'> (124, 13) (124, 1) wine shap\n",
      "<class 'xgboost.sklearn.XGBClassifier'> (124, 13) (124, 1) wine pearson\n",
      "<class 'xgboost.sklearn.XGBClassifier'> (124, 13) (124, 1) wine spearman\n",
      "<class 'xgboost.sklearn.XGBClassifier'> (124, 13) (124, 1) wine kendall\n",
      "<class 'xgboost.sklearn.XGBClassifier'> (124, 13) (124, 1) wine pps\n"
     ]
    },
    {
     "data": {
      "application/vnd.jupyter.widget-view+json": {
       "model_id": "6af9ed9fd4f7475ab704bdf0209e1562",
       "version_major": 2,
       "version_minor": 0
      },
      "text/plain": [
       "Model progress for dataset 1:   0%|          | 0/3 [00:00<?, ?it/s]"
      ]
     },
     "metadata": {},
     "output_type": "display_data"
    },
    {
     "data": {
      "application/vnd.jupyter.widget-view+json": {
       "model_id": "f3d44e70fe5a43e992eb3bed9dbf1d25",
       "version_major": 2,
       "version_minor": 0
      },
      "text/plain": [
       "Importance type progress for model 0:   0%|          | 0/9 [00:00<?, ?it/s]"
      ]
     },
     "metadata": {},
     "output_type": "display_data"
    },
    {
     "name": "stdout",
     "output_type": "stream",
     "text": [
      "<class 'sklearn.tree._classes.DecisionTreeClassifier'> (398, 30) (398, 1) breast_cancer mutual_info\n",
      "<class 'sklearn.tree._classes.DecisionTreeClassifier'> (398, 30) (398, 1) breast_cancer f_test\n",
      "<class 'sklearn.tree._classes.DecisionTreeClassifier'> (398, 30) (398, 1) breast_cancer pimp\n",
      "<class 'sklearn.tree._classes.DecisionTreeClassifier'> (398, 30) (398, 1) breast_cancer shap\n",
      "<class 'sklearn.tree._classes.DecisionTreeClassifier'> (398, 30) (398, 1) breast_cancer pearson\n",
      "<class 'sklearn.tree._classes.DecisionTreeClassifier'> (398, 30) (398, 1) breast_cancer spearman\n",
      "<class 'sklearn.tree._classes.DecisionTreeClassifier'> (398, 30) (398, 1) breast_cancer kendall\n",
      "<class 'sklearn.tree._classes.DecisionTreeClassifier'> (398, 30) (398, 1) breast_cancer pps\n"
     ]
    },
    {
     "data": {
      "application/vnd.jupyter.widget-view+json": {
       "model_id": "49fae1195706469aaee0f991ae48477a",
       "version_major": 2,
       "version_minor": 0
      },
      "text/plain": [
       "Importance type progress for model 1:   0%|          | 0/9 [00:00<?, ?it/s]"
      ]
     },
     "metadata": {},
     "output_type": "display_data"
    },
    {
     "name": "stdout",
     "output_type": "stream",
     "text": [
      "<class 'sklearn.ensemble._forest.RandomForestClassifier'> (398, 30) (398, 1) breast_cancer mutual_info\n",
      "<class 'sklearn.ensemble._forest.RandomForestClassifier'> (398, 30) (398, 1) breast_cancer f_test\n",
      "<class 'sklearn.ensemble._forest.RandomForestClassifier'> (398, 30) (398, 1) breast_cancer pimp\n",
      "<class 'sklearn.ensemble._forest.RandomForestClassifier'> (398, 30) (398, 1) breast_cancer shap\n",
      "<class 'sklearn.ensemble._forest.RandomForestClassifier'> (398, 30) (398, 1) breast_cancer pearson\n",
      "<class 'sklearn.ensemble._forest.RandomForestClassifier'> (398, 30) (398, 1) breast_cancer spearman\n",
      "<class 'sklearn.ensemble._forest.RandomForestClassifier'> (398, 30) (398, 1) breast_cancer kendall\n",
      "<class 'sklearn.ensemble._forest.RandomForestClassifier'> (398, 30) (398, 1) breast_cancer pps\n"
     ]
    },
    {
     "data": {
      "application/vnd.jupyter.widget-view+json": {
       "model_id": "a957c1aab1c14e03aa5c04665dec9db0",
       "version_major": 2,
       "version_minor": 0
      },
      "text/plain": [
       "Importance type progress for model 2:   0%|          | 0/9 [00:00<?, ?it/s]"
      ]
     },
     "metadata": {},
     "output_type": "display_data"
    },
    {
     "name": "stdout",
     "output_type": "stream",
     "text": [
      "<class 'xgboost.sklearn.XGBClassifier'> (398, 30) (398, 1) breast_cancer mutual_info\n",
      "<class 'xgboost.sklearn.XGBClassifier'> (398, 30) (398, 1) breast_cancer f_test\n",
      "<class 'xgboost.sklearn.XGBClassifier'> (398, 30) (398, 1) breast_cancer pimp\n",
      "<class 'xgboost.sklearn.XGBClassifier'> (398, 30) (398, 1) breast_cancer shap\n",
      "<class 'xgboost.sklearn.XGBClassifier'> (398, 30) (398, 1) breast_cancer pearson\n",
      "<class 'xgboost.sklearn.XGBClassifier'> (398, 30) (398, 1) breast_cancer spearman\n",
      "<class 'xgboost.sklearn.XGBClassifier'> (398, 30) (398, 1) breast_cancer kendall\n",
      "<class 'xgboost.sklearn.XGBClassifier'> (398, 30) (398, 1) breast_cancer pps\n"
     ]
    },
    {
     "data": {
      "application/vnd.jupyter.widget-view+json": {
       "model_id": "b1b3ebdc4c614836a101b75320642bbe",
       "version_major": 2,
       "version_minor": 0
      },
      "text/plain": [
       "Model progress for dataset 2:   0%|          | 0/3 [00:00<?, ?it/s]"
      ]
     },
     "metadata": {},
     "output_type": "display_data"
    },
    {
     "data": {
      "application/vnd.jupyter.widget-view+json": {
       "model_id": "1477e4b9907a4510b9c7c960a5fb28f0",
       "version_major": 2,
       "version_minor": 0
      },
      "text/plain": [
       "Importance type progress for model 0:   0%|          | 0/9 [00:00<?, ?it/s]"
      ]
     },
     "metadata": {},
     "output_type": "display_data"
    },
    {
     "name": "stdout",
     "output_type": "stream",
     "text": [
      "<class 'sklearn.tree._classes.DecisionTreeClassifier'> (7738, 30) (7738, 1) phishing mutual_info\n",
      "<class 'sklearn.tree._classes.DecisionTreeClassifier'> (7738, 30) (7738, 1) phishing f_test\n",
      "<class 'sklearn.tree._classes.DecisionTreeClassifier'> (7738, 30) (7738, 1) phishing pimp\n",
      "<class 'sklearn.tree._classes.DecisionTreeClassifier'> (7738, 30) (7738, 1) phishing shap\n",
      "<class 'sklearn.tree._classes.DecisionTreeClassifier'> (7738, 30) (7738, 1) phishing pearson\n",
      "<class 'sklearn.tree._classes.DecisionTreeClassifier'> (7738, 30) (7738, 1) phishing spearman\n",
      "<class 'sklearn.tree._classes.DecisionTreeClassifier'> (7738, 30) (7738, 1) phishing kendall\n",
      "<class 'sklearn.tree._classes.DecisionTreeClassifier'> (7738, 30) (7738, 1) phishing pps\n"
     ]
    },
    {
     "data": {
      "application/vnd.jupyter.widget-view+json": {
       "model_id": "10f3ef0ff0aa454ebb0083b635034000",
       "version_major": 2,
       "version_minor": 0
      },
      "text/plain": [
       "Importance type progress for model 1:   0%|          | 0/9 [00:00<?, ?it/s]"
      ]
     },
     "metadata": {},
     "output_type": "display_data"
    },
    {
     "name": "stdout",
     "output_type": "stream",
     "text": [
      "<class 'sklearn.ensemble._forest.RandomForestClassifier'> (7738, 30) (7738, 1) phishing mutual_info\n",
      "<class 'sklearn.ensemble._forest.RandomForestClassifier'> (7738, 30) (7738, 1) phishing f_test\n",
      "<class 'sklearn.ensemble._forest.RandomForestClassifier'> (7738, 30) (7738, 1) phishing pimp\n",
      "<class 'sklearn.ensemble._forest.RandomForestClassifier'> (7738, 30) (7738, 1) phishing shap\n",
      "<class 'sklearn.ensemble._forest.RandomForestClassifier'> (7738, 30) (7738, 1) phishing pearson\n",
      "<class 'sklearn.ensemble._forest.RandomForestClassifier'> (7738, 30) (7738, 1) phishing spearman\n",
      "<class 'sklearn.ensemble._forest.RandomForestClassifier'> (7738, 30) (7738, 1) phishing kendall\n",
      "<class 'sklearn.ensemble._forest.RandomForestClassifier'> (7738, 30) (7738, 1) phishing pps\n"
     ]
    },
    {
     "data": {
      "application/vnd.jupyter.widget-view+json": {
       "model_id": "8ce6c450480e48b3a928971323987adf",
       "version_major": 2,
       "version_minor": 0
      },
      "text/plain": [
       "Importance type progress for model 2:   0%|          | 0/9 [00:00<?, ?it/s]"
      ]
     },
     "metadata": {},
     "output_type": "display_data"
    },
    {
     "name": "stdout",
     "output_type": "stream",
     "text": [
      "<class 'xgboost.sklearn.XGBClassifier'> (7738, 30) (7738, 1) phishing mutual_info\n",
      "<class 'xgboost.sklearn.XGBClassifier'> (7738, 30) (7738, 1) phishing f_test\n",
      "<class 'xgboost.sklearn.XGBClassifier'> (7738, 30) (7738, 1) phishing pimp\n",
      "<class 'xgboost.sklearn.XGBClassifier'> (7738, 30) (7738, 1) phishing shap\n",
      "<class 'xgboost.sklearn.XGBClassifier'> (7738, 30) (7738, 1) phishing pearson\n",
      "<class 'xgboost.sklearn.XGBClassifier'> (7738, 30) (7738, 1) phishing spearman\n",
      "<class 'xgboost.sklearn.XGBClassifier'> (7738, 30) (7738, 1) phishing kendall\n",
      "<class 'xgboost.sklearn.XGBClassifier'> (7738, 30) (7738, 1) phishing pps\n"
     ]
    },
    {
     "data": {
      "application/vnd.jupyter.widget-view+json": {
       "model_id": "d30a7d2892fc4fb69591fb3ba2c2af4c",
       "version_major": 2,
       "version_minor": 0
      },
      "text/plain": [
       "Model progress for dataset 3:   0%|          | 0/3 [00:00<?, ?it/s]"
      ]
     },
     "metadata": {},
     "output_type": "display_data"
    },
    {
     "data": {
      "application/vnd.jupyter.widget-view+json": {
       "model_id": "dff55fe24bc1423a9a94fadb3bf47eb6",
       "version_major": 2,
       "version_minor": 0
      },
      "text/plain": [
       "Importance type progress for model 0:   0%|          | 0/9 [00:00<?, ?it/s]"
      ]
     },
     "metadata": {},
     "output_type": "display_data"
    },
    {
     "name": "stdout",
     "output_type": "stream",
     "text": [
      "<class 'sklearn.tree._classes.DecisionTreeClassifier'> (5686, 22) (5686, 1) mushroom mutual_info\n",
      "<class 'sklearn.tree._classes.DecisionTreeClassifier'> (5686, 22) (5686, 1) mushroom f_test\n",
      "<class 'sklearn.tree._classes.DecisionTreeClassifier'> (5686, 22) (5686, 1) mushroom pimp\n",
      "<class 'sklearn.tree._classes.DecisionTreeClassifier'> (5686, 22) (5686, 1) mushroom shap\n",
      "<class 'sklearn.tree._classes.DecisionTreeClassifier'> (5686, 22) (5686, 1) mushroom pearson\n",
      "<class 'sklearn.tree._classes.DecisionTreeClassifier'> (5686, 22) (5686, 1) mushroom spearman\n",
      "<class 'sklearn.tree._classes.DecisionTreeClassifier'> (5686, 22) (5686, 1) mushroom kendall\n",
      "<class 'sklearn.tree._classes.DecisionTreeClassifier'> (5686, 22) (5686, 1) mushroom pps\n"
     ]
    },
    {
     "data": {
      "application/vnd.jupyter.widget-view+json": {
       "model_id": "997f7dcba6194071b9e3e09322984414",
       "version_major": 2,
       "version_minor": 0
      },
      "text/plain": [
       "Importance type progress for model 1:   0%|          | 0/9 [00:00<?, ?it/s]"
      ]
     },
     "metadata": {},
     "output_type": "display_data"
    },
    {
     "name": "stdout",
     "output_type": "stream",
     "text": [
      "<class 'sklearn.ensemble._forest.RandomForestClassifier'> (5686, 22) (5686, 1) mushroom mutual_info\n",
      "<class 'sklearn.ensemble._forest.RandomForestClassifier'> (5686, 22) (5686, 1) mushroom f_test\n",
      "<class 'sklearn.ensemble._forest.RandomForestClassifier'> (5686, 22) (5686, 1) mushroom pimp\n",
      "<class 'sklearn.ensemble._forest.RandomForestClassifier'> (5686, 22) (5686, 1) mushroom shap\n",
      "<class 'sklearn.ensemble._forest.RandomForestClassifier'> (5686, 22) (5686, 1) mushroom pearson\n",
      "<class 'sklearn.ensemble._forest.RandomForestClassifier'> (5686, 22) (5686, 1) mushroom spearman\n",
      "<class 'sklearn.ensemble._forest.RandomForestClassifier'> (5686, 22) (5686, 1) mushroom kendall\n",
      "<class 'sklearn.ensemble._forest.RandomForestClassifier'> (5686, 22) (5686, 1) mushroom pps\n"
     ]
    },
    {
     "data": {
      "application/vnd.jupyter.widget-view+json": {
       "model_id": "d2f0192b112b4c7bb917ed9270f252a4",
       "version_major": 2,
       "version_minor": 0
      },
      "text/plain": [
       "Importance type progress for model 2:   0%|          | 0/9 [00:00<?, ?it/s]"
      ]
     },
     "metadata": {},
     "output_type": "display_data"
    },
    {
     "name": "stdout",
     "output_type": "stream",
     "text": [
      "<class 'xgboost.sklearn.XGBClassifier'> (5686, 22) (5686, 1) mushroom mutual_info\n",
      "<class 'xgboost.sklearn.XGBClassifier'> (5686, 22) (5686, 1) mushroom f_test\n",
      "<class 'xgboost.sklearn.XGBClassifier'> (5686, 22) (5686, 1) mushroom pimp\n",
      "<class 'xgboost.sklearn.XGBClassifier'> (5686, 22) (5686, 1) mushroom shap\n",
      "<class 'xgboost.sklearn.XGBClassifier'> (5686, 22) (5686, 1) mushroom pearson\n",
      "<class 'xgboost.sklearn.XGBClassifier'> (5686, 22) (5686, 1) mushroom spearman\n",
      "<class 'xgboost.sklearn.XGBClassifier'> (5686, 22) (5686, 1) mushroom kendall\n",
      "<class 'xgboost.sklearn.XGBClassifier'> (5686, 22) (5686, 1) mushroom pps\n"
     ]
    },
    {
     "data": {
      "application/vnd.jupyter.widget-view+json": {
       "model_id": "3443c61cb3de4494b1711034d2877999",
       "version_major": 2,
       "version_minor": 0
      },
      "text/plain": [
       "Dataset progress:   0%|          | 0/4 [00:00<?, ?it/s]"
      ]
     },
     "metadata": {},
     "output_type": "display_data"
    },
    {
     "data": {
      "application/vnd.jupyter.widget-view+json": {
       "model_id": "308bdb7b780c4865b6282a2f20c414d5",
       "version_major": 2,
       "version_minor": 0
      },
      "text/plain": [
       "Model progress for dataset 0:   0%|          | 0/3 [00:00<?, ?it/s]"
      ]
     },
     "metadata": {},
     "output_type": "display_data"
    },
    {
     "data": {
      "application/vnd.jupyter.widget-view+json": {
       "model_id": "45ee0c56e4d24286a259cd805fa1b8c3",
       "version_major": 2,
       "version_minor": 0
      },
      "text/plain": [
       "Importance type progress for model 0:   0%|          | 0/9 [00:00<?, ?it/s]"
      ]
     },
     "metadata": {},
     "output_type": "display_data"
    },
    {
     "name": "stdout",
     "output_type": "stream",
     "text": [
      "<class 'sklearn.tree._classes.DecisionTreeClassifier'> (124, 13) (124, 1) wine mutual_info\n",
      "<class 'sklearn.tree._classes.DecisionTreeClassifier'> (124, 13) (124, 1) wine f_test\n",
      "<class 'sklearn.tree._classes.DecisionTreeClassifier'> (124, 13) (124, 1) wine pimp\n",
      "<class 'sklearn.tree._classes.DecisionTreeClassifier'> (124, 13) (124, 1) wine shap\n",
      "<class 'sklearn.tree._classes.DecisionTreeClassifier'> (124, 13) (124, 1) wine pearson\n",
      "<class 'sklearn.tree._classes.DecisionTreeClassifier'> (124, 13) (124, 1) wine spearman\n",
      "<class 'sklearn.tree._classes.DecisionTreeClassifier'> (124, 13) (124, 1) wine kendall\n",
      "<class 'sklearn.tree._classes.DecisionTreeClassifier'> (124, 13) (124, 1) wine pps\n"
     ]
    },
    {
     "data": {
      "application/vnd.jupyter.widget-view+json": {
       "model_id": "0405534898a24a1c955c71406f4040af",
       "version_major": 2,
       "version_minor": 0
      },
      "text/plain": [
       "Importance type progress for model 1:   0%|          | 0/9 [00:00<?, ?it/s]"
      ]
     },
     "metadata": {},
     "output_type": "display_data"
    },
    {
     "name": "stdout",
     "output_type": "stream",
     "text": [
      "<class 'sklearn.ensemble._forest.RandomForestClassifier'> (124, 13) (124, 1) wine mutual_info\n",
      "<class 'sklearn.ensemble._forest.RandomForestClassifier'> (124, 13) (124, 1) wine f_test\n",
      "<class 'sklearn.ensemble._forest.RandomForestClassifier'> (124, 13) (124, 1) wine pimp\n",
      "<class 'sklearn.ensemble._forest.RandomForestClassifier'> (124, 13) (124, 1) wine shap\n",
      "<class 'sklearn.ensemble._forest.RandomForestClassifier'> (124, 13) (124, 1) wine pearson\n",
      "<class 'sklearn.ensemble._forest.RandomForestClassifier'> (124, 13) (124, 1) wine spearman\n",
      "<class 'sklearn.ensemble._forest.RandomForestClassifier'> (124, 13) (124, 1) wine kendall\n",
      "<class 'sklearn.ensemble._forest.RandomForestClassifier'> (124, 13) (124, 1) wine pps\n"
     ]
    },
    {
     "data": {
      "application/vnd.jupyter.widget-view+json": {
       "model_id": "f25189eeb86f4a669b29a558f5488f43",
       "version_major": 2,
       "version_minor": 0
      },
      "text/plain": [
       "Importance type progress for model 2:   0%|          | 0/9 [00:00<?, ?it/s]"
      ]
     },
     "metadata": {},
     "output_type": "display_data"
    },
    {
     "name": "stdout",
     "output_type": "stream",
     "text": [
      "<class 'xgboost.sklearn.XGBClassifier'> (124, 13) (124, 1) wine mutual_info\n",
      "<class 'xgboost.sklearn.XGBClassifier'> (124, 13) (124, 1) wine f_test\n",
      "<class 'xgboost.sklearn.XGBClassifier'> (124, 13) (124, 1) wine pimp\n",
      "<class 'xgboost.sklearn.XGBClassifier'> (124, 13) (124, 1) wine shap\n",
      "<class 'xgboost.sklearn.XGBClassifier'> (124, 13) (124, 1) wine pearson\n",
      "<class 'xgboost.sklearn.XGBClassifier'> (124, 13) (124, 1) wine spearman\n",
      "<class 'xgboost.sklearn.XGBClassifier'> (124, 13) (124, 1) wine kendall\n",
      "<class 'xgboost.sklearn.XGBClassifier'> (124, 13) (124, 1) wine pps\n"
     ]
    },
    {
     "data": {
      "application/vnd.jupyter.widget-view+json": {
       "model_id": "98230ba73e6f4a10886555fbd0123f57",
       "version_major": 2,
       "version_minor": 0
      },
      "text/plain": [
       "Model progress for dataset 1:   0%|          | 0/3 [00:00<?, ?it/s]"
      ]
     },
     "metadata": {},
     "output_type": "display_data"
    },
    {
     "data": {
      "application/vnd.jupyter.widget-view+json": {
       "model_id": "2be778ecdee849348affb6e329094e54",
       "version_major": 2,
       "version_minor": 0
      },
      "text/plain": [
       "Importance type progress for model 0:   0%|          | 0/9 [00:00<?, ?it/s]"
      ]
     },
     "metadata": {},
     "output_type": "display_data"
    },
    {
     "name": "stdout",
     "output_type": "stream",
     "text": [
      "<class 'sklearn.tree._classes.DecisionTreeClassifier'> (398, 30) (398, 1) breast_cancer mutual_info\n",
      "<class 'sklearn.tree._classes.DecisionTreeClassifier'> (398, 30) (398, 1) breast_cancer f_test\n",
      "<class 'sklearn.tree._classes.DecisionTreeClassifier'> (398, 30) (398, 1) breast_cancer pimp\n",
      "<class 'sklearn.tree._classes.DecisionTreeClassifier'> (398, 30) (398, 1) breast_cancer shap\n",
      "<class 'sklearn.tree._classes.DecisionTreeClassifier'> (398, 30) (398, 1) breast_cancer pearson\n",
      "<class 'sklearn.tree._classes.DecisionTreeClassifier'> (398, 30) (398, 1) breast_cancer spearman\n",
      "<class 'sklearn.tree._classes.DecisionTreeClassifier'> (398, 30) (398, 1) breast_cancer kendall\n",
      "<class 'sklearn.tree._classes.DecisionTreeClassifier'> (398, 30) (398, 1) breast_cancer pps\n"
     ]
    },
    {
     "data": {
      "application/vnd.jupyter.widget-view+json": {
       "model_id": "915fe67015e14cd1aa62b794138dae27",
       "version_major": 2,
       "version_minor": 0
      },
      "text/plain": [
       "Importance type progress for model 1:   0%|          | 0/9 [00:00<?, ?it/s]"
      ]
     },
     "metadata": {},
     "output_type": "display_data"
    },
    {
     "name": "stdout",
     "output_type": "stream",
     "text": [
      "<class 'sklearn.ensemble._forest.RandomForestClassifier'> (398, 30) (398, 1) breast_cancer mutual_info\n",
      "<class 'sklearn.ensemble._forest.RandomForestClassifier'> (398, 30) (398, 1) breast_cancer f_test\n",
      "<class 'sklearn.ensemble._forest.RandomForestClassifier'> (398, 30) (398, 1) breast_cancer pimp\n",
      "<class 'sklearn.ensemble._forest.RandomForestClassifier'> (398, 30) (398, 1) breast_cancer shap\n",
      "<class 'sklearn.ensemble._forest.RandomForestClassifier'> (398, 30) (398, 1) breast_cancer pearson\n",
      "<class 'sklearn.ensemble._forest.RandomForestClassifier'> (398, 30) (398, 1) breast_cancer spearman\n",
      "<class 'sklearn.ensemble._forest.RandomForestClassifier'> (398, 30) (398, 1) breast_cancer kendall\n",
      "<class 'sklearn.ensemble._forest.RandomForestClassifier'> (398, 30) (398, 1) breast_cancer pps\n"
     ]
    },
    {
     "data": {
      "application/vnd.jupyter.widget-view+json": {
       "model_id": "a9f7afab569643b5b9f86bcb073232f5",
       "version_major": 2,
       "version_minor": 0
      },
      "text/plain": [
       "Importance type progress for model 2:   0%|          | 0/9 [00:00<?, ?it/s]"
      ]
     },
     "metadata": {},
     "output_type": "display_data"
    },
    {
     "name": "stdout",
     "output_type": "stream",
     "text": [
      "<class 'xgboost.sklearn.XGBClassifier'> (398, 30) (398, 1) breast_cancer mutual_info\n",
      "<class 'xgboost.sklearn.XGBClassifier'> (398, 30) (398, 1) breast_cancer f_test\n",
      "<class 'xgboost.sklearn.XGBClassifier'> (398, 30) (398, 1) breast_cancer pimp\n",
      "<class 'xgboost.sklearn.XGBClassifier'> (398, 30) (398, 1) breast_cancer shap\n",
      "<class 'xgboost.sklearn.XGBClassifier'> (398, 30) (398, 1) breast_cancer pearson\n",
      "<class 'xgboost.sklearn.XGBClassifier'> (398, 30) (398, 1) breast_cancer spearman\n",
      "<class 'xgboost.sklearn.XGBClassifier'> (398, 30) (398, 1) breast_cancer kendall\n",
      "<class 'xgboost.sklearn.XGBClassifier'> (398, 30) (398, 1) breast_cancer pps\n"
     ]
    },
    {
     "data": {
      "application/vnd.jupyter.widget-view+json": {
       "model_id": "e340fa12b8b84acdb68182bb095c2862",
       "version_major": 2,
       "version_minor": 0
      },
      "text/plain": [
       "Model progress for dataset 2:   0%|          | 0/3 [00:00<?, ?it/s]"
      ]
     },
     "metadata": {},
     "output_type": "display_data"
    },
    {
     "data": {
      "application/vnd.jupyter.widget-view+json": {
       "model_id": "4ffad2c6a0f8460095f93051cb8ea236",
       "version_major": 2,
       "version_minor": 0
      },
      "text/plain": [
       "Importance type progress for model 0:   0%|          | 0/9 [00:00<?, ?it/s]"
      ]
     },
     "metadata": {},
     "output_type": "display_data"
    },
    {
     "name": "stdout",
     "output_type": "stream",
     "text": [
      "<class 'sklearn.tree._classes.DecisionTreeClassifier'> (7738, 30) (7738, 1) phishing mutual_info\n",
      "<class 'sklearn.tree._classes.DecisionTreeClassifier'> (7738, 30) (7738, 1) phishing f_test\n",
      "<class 'sklearn.tree._classes.DecisionTreeClassifier'> (7738, 30) (7738, 1) phishing pimp\n",
      "<class 'sklearn.tree._classes.DecisionTreeClassifier'> (7738, 30) (7738, 1) phishing shap\n",
      "<class 'sklearn.tree._classes.DecisionTreeClassifier'> (7738, 30) (7738, 1) phishing pearson\n",
      "<class 'sklearn.tree._classes.DecisionTreeClassifier'> (7738, 30) (7738, 1) phishing spearman\n",
      "<class 'sklearn.tree._classes.DecisionTreeClassifier'> (7738, 30) (7738, 1) phishing kendall\n",
      "<class 'sklearn.tree._classes.DecisionTreeClassifier'> (7738, 30) (7738, 1) phishing pps\n"
     ]
    },
    {
     "data": {
      "application/vnd.jupyter.widget-view+json": {
       "model_id": "cbd6aa69adfd41548519f8cb8d350673",
       "version_major": 2,
       "version_minor": 0
      },
      "text/plain": [
       "Importance type progress for model 1:   0%|          | 0/9 [00:00<?, ?it/s]"
      ]
     },
     "metadata": {},
     "output_type": "display_data"
    },
    {
     "name": "stdout",
     "output_type": "stream",
     "text": [
      "<class 'sklearn.ensemble._forest.RandomForestClassifier'> (7738, 30) (7738, 1) phishing mutual_info\n",
      "<class 'sklearn.ensemble._forest.RandomForestClassifier'> (7738, 30) (7738, 1) phishing f_test\n",
      "<class 'sklearn.ensemble._forest.RandomForestClassifier'> (7738, 30) (7738, 1) phishing pimp\n",
      "<class 'sklearn.ensemble._forest.RandomForestClassifier'> (7738, 30) (7738, 1) phishing shap\n",
      "<class 'sklearn.ensemble._forest.RandomForestClassifier'> (7738, 30) (7738, 1) phishing pearson\n",
      "<class 'sklearn.ensemble._forest.RandomForestClassifier'> (7738, 30) (7738, 1) phishing spearman\n",
      "<class 'sklearn.ensemble._forest.RandomForestClassifier'> (7738, 30) (7738, 1) phishing kendall\n",
      "<class 'sklearn.ensemble._forest.RandomForestClassifier'> (7738, 30) (7738, 1) phishing pps\n"
     ]
    },
    {
     "data": {
      "application/vnd.jupyter.widget-view+json": {
       "model_id": "2d8458fe491a4f698f16a925a25e5bba",
       "version_major": 2,
       "version_minor": 0
      },
      "text/plain": [
       "Importance type progress for model 2:   0%|          | 0/9 [00:00<?, ?it/s]"
      ]
     },
     "metadata": {},
     "output_type": "display_data"
    },
    {
     "name": "stdout",
     "output_type": "stream",
     "text": [
      "<class 'xgboost.sklearn.XGBClassifier'> (7738, 30) (7738, 1) phishing mutual_info\n",
      "<class 'xgboost.sklearn.XGBClassifier'> (7738, 30) (7738, 1) phishing f_test\n",
      "<class 'xgboost.sklearn.XGBClassifier'> (7738, 30) (7738, 1) phishing pimp\n",
      "<class 'xgboost.sklearn.XGBClassifier'> (7738, 30) (7738, 1) phishing shap\n",
      "<class 'xgboost.sklearn.XGBClassifier'> (7738, 30) (7738, 1) phishing pearson\n",
      "<class 'xgboost.sklearn.XGBClassifier'> (7738, 30) (7738, 1) phishing spearman\n",
      "<class 'xgboost.sklearn.XGBClassifier'> (7738, 30) (7738, 1) phishing kendall\n",
      "<class 'xgboost.sklearn.XGBClassifier'> (7738, 30) (7738, 1) phishing pps\n"
     ]
    },
    {
     "data": {
      "application/vnd.jupyter.widget-view+json": {
       "model_id": "11e33429a2c4485ea0b27aff483e4f1e",
       "version_major": 2,
       "version_minor": 0
      },
      "text/plain": [
       "Model progress for dataset 3:   0%|          | 0/3 [00:00<?, ?it/s]"
      ]
     },
     "metadata": {},
     "output_type": "display_data"
    },
    {
     "data": {
      "application/vnd.jupyter.widget-view+json": {
       "model_id": "4717fa4f22ef47edbd6e5fcc61026a6a",
       "version_major": 2,
       "version_minor": 0
      },
      "text/plain": [
       "Importance type progress for model 0:   0%|          | 0/9 [00:00<?, ?it/s]"
      ]
     },
     "metadata": {},
     "output_type": "display_data"
    },
    {
     "name": "stdout",
     "output_type": "stream",
     "text": [
      "<class 'sklearn.tree._classes.DecisionTreeClassifier'> (5686, 22) (5686, 1) mushroom mutual_info\n",
      "<class 'sklearn.tree._classes.DecisionTreeClassifier'> (5686, 22) (5686, 1) mushroom f_test\n",
      "<class 'sklearn.tree._classes.DecisionTreeClassifier'> (5686, 22) (5686, 1) mushroom pimp\n",
      "<class 'sklearn.tree._classes.DecisionTreeClassifier'> (5686, 22) (5686, 1) mushroom shap\n",
      "<class 'sklearn.tree._classes.DecisionTreeClassifier'> (5686, 22) (5686, 1) mushroom pearson\n",
      "<class 'sklearn.tree._classes.DecisionTreeClassifier'> (5686, 22) (5686, 1) mushroom spearman\n",
      "<class 'sklearn.tree._classes.DecisionTreeClassifier'> (5686, 22) (5686, 1) mushroom kendall\n",
      "<class 'sklearn.tree._classes.DecisionTreeClassifier'> (5686, 22) (5686, 1) mushroom pps\n"
     ]
    },
    {
     "data": {
      "application/vnd.jupyter.widget-view+json": {
       "model_id": "7273087bb90740029ce11fc8339c12e6",
       "version_major": 2,
       "version_minor": 0
      },
      "text/plain": [
       "Importance type progress for model 1:   0%|          | 0/9 [00:00<?, ?it/s]"
      ]
     },
     "metadata": {},
     "output_type": "display_data"
    },
    {
     "name": "stdout",
     "output_type": "stream",
     "text": [
      "<class 'sklearn.ensemble._forest.RandomForestClassifier'> (5686, 22) (5686, 1) mushroom mutual_info\n",
      "<class 'sklearn.ensemble._forest.RandomForestClassifier'> (5686, 22) (5686, 1) mushroom f_test\n",
      "<class 'sklearn.ensemble._forest.RandomForestClassifier'> (5686, 22) (5686, 1) mushroom pimp\n",
      "<class 'sklearn.ensemble._forest.RandomForestClassifier'> (5686, 22) (5686, 1) mushroom shap\n",
      "<class 'sklearn.ensemble._forest.RandomForestClassifier'> (5686, 22) (5686, 1) mushroom pearson\n",
      "<class 'sklearn.ensemble._forest.RandomForestClassifier'> (5686, 22) (5686, 1) mushroom spearman\n",
      "<class 'sklearn.ensemble._forest.RandomForestClassifier'> (5686, 22) (5686, 1) mushroom kendall\n",
      "<class 'sklearn.ensemble._forest.RandomForestClassifier'> (5686, 22) (5686, 1) mushroom pps\n"
     ]
    },
    {
     "data": {
      "application/vnd.jupyter.widget-view+json": {
       "model_id": "1daa6c83ca8343b8a02ff6674c23e866",
       "version_major": 2,
       "version_minor": 0
      },
      "text/plain": [
       "Importance type progress for model 2:   0%|          | 0/9 [00:00<?, ?it/s]"
      ]
     },
     "metadata": {},
     "output_type": "display_data"
    },
    {
     "name": "stdout",
     "output_type": "stream",
     "text": [
      "<class 'xgboost.sklearn.XGBClassifier'> (5686, 22) (5686, 1) mushroom mutual_info\n",
      "<class 'xgboost.sklearn.XGBClassifier'> (5686, 22) (5686, 1) mushroom f_test\n",
      "<class 'xgboost.sklearn.XGBClassifier'> (5686, 22) (5686, 1) mushroom pimp\n",
      "<class 'xgboost.sklearn.XGBClassifier'> (5686, 22) (5686, 1) mushroom shap\n",
      "<class 'xgboost.sklearn.XGBClassifier'> (5686, 22) (5686, 1) mushroom pearson\n",
      "<class 'xgboost.sklearn.XGBClassifier'> (5686, 22) (5686, 1) mushroom spearman\n",
      "<class 'xgboost.sklearn.XGBClassifier'> (5686, 22) (5686, 1) mushroom kendall\n",
      "<class 'xgboost.sklearn.XGBClassifier'> (5686, 22) (5686, 1) mushroom pps\n"
     ]
    },
    {
     "data": {
      "application/vnd.jupyter.widget-view+json": {
       "model_id": "68bb351385544ad08aebc252315adbb8",
       "version_major": 2,
       "version_minor": 0
      },
      "text/plain": [
       "Dataset progress:   0%|          | 0/4 [00:00<?, ?it/s]"
      ]
     },
     "metadata": {},
     "output_type": "display_data"
    },
    {
     "data": {
      "application/vnd.jupyter.widget-view+json": {
       "model_id": "580ae8fcd7ba4467b067e0c77a5b6dd3",
       "version_major": 2,
       "version_minor": 0
      },
      "text/plain": [
       "Model progress for dataset 0:   0%|          | 0/3 [00:00<?, ?it/s]"
      ]
     },
     "metadata": {},
     "output_type": "display_data"
    },
    {
     "data": {
      "application/vnd.jupyter.widget-view+json": {
       "model_id": "d6ed6a7a781a449fa7d6e6b7296a651f",
       "version_major": 2,
       "version_minor": 0
      },
      "text/plain": [
       "Importance type progress for model 0:   0%|          | 0/9 [00:00<?, ?it/s]"
      ]
     },
     "metadata": {},
     "output_type": "display_data"
    },
    {
     "name": "stdout",
     "output_type": "stream",
     "text": [
      "<class 'sklearn.tree._classes.DecisionTreeClassifier'> (124, 13) (124, 1) wine mutual_info\n",
      "<class 'sklearn.tree._classes.DecisionTreeClassifier'> (124, 13) (124, 1) wine f_test\n",
      "<class 'sklearn.tree._classes.DecisionTreeClassifier'> (124, 13) (124, 1) wine pimp\n",
      "<class 'sklearn.tree._classes.DecisionTreeClassifier'> (124, 13) (124, 1) wine shap\n",
      "<class 'sklearn.tree._classes.DecisionTreeClassifier'> (124, 13) (124, 1) wine pearson\n",
      "<class 'sklearn.tree._classes.DecisionTreeClassifier'> (124, 13) (124, 1) wine spearman\n",
      "<class 'sklearn.tree._classes.DecisionTreeClassifier'> (124, 13) (124, 1) wine kendall\n",
      "<class 'sklearn.tree._classes.DecisionTreeClassifier'> (124, 13) (124, 1) wine pps\n"
     ]
    },
    {
     "data": {
      "application/vnd.jupyter.widget-view+json": {
       "model_id": "f614b20917174652963e06140f9c0e3f",
       "version_major": 2,
       "version_minor": 0
      },
      "text/plain": [
       "Importance type progress for model 1:   0%|          | 0/9 [00:00<?, ?it/s]"
      ]
     },
     "metadata": {},
     "output_type": "display_data"
    },
    {
     "name": "stdout",
     "output_type": "stream",
     "text": [
      "<class 'sklearn.ensemble._forest.RandomForestClassifier'> (124, 13) (124, 1) wine mutual_info\n",
      "<class 'sklearn.ensemble._forest.RandomForestClassifier'> (124, 13) (124, 1) wine f_test\n",
      "<class 'sklearn.ensemble._forest.RandomForestClassifier'> (124, 13) (124, 1) wine pimp\n",
      "<class 'sklearn.ensemble._forest.RandomForestClassifier'> (124, 13) (124, 1) wine shap\n",
      "<class 'sklearn.ensemble._forest.RandomForestClassifier'> (124, 13) (124, 1) wine pearson\n",
      "<class 'sklearn.ensemble._forest.RandomForestClassifier'> (124, 13) (124, 1) wine spearman\n",
      "<class 'sklearn.ensemble._forest.RandomForestClassifier'> (124, 13) (124, 1) wine kendall\n",
      "<class 'sklearn.ensemble._forest.RandomForestClassifier'> (124, 13) (124, 1) wine pps\n"
     ]
    },
    {
     "data": {
      "application/vnd.jupyter.widget-view+json": {
       "model_id": "2229ddd029134f459288234e6817b63f",
       "version_major": 2,
       "version_minor": 0
      },
      "text/plain": [
       "Importance type progress for model 2:   0%|          | 0/9 [00:00<?, ?it/s]"
      ]
     },
     "metadata": {},
     "output_type": "display_data"
    },
    {
     "name": "stdout",
     "output_type": "stream",
     "text": [
      "<class 'xgboost.sklearn.XGBClassifier'> (124, 13) (124, 1) wine mutual_info\n",
      "<class 'xgboost.sklearn.XGBClassifier'> (124, 13) (124, 1) wine f_test\n",
      "<class 'xgboost.sklearn.XGBClassifier'> (124, 13) (124, 1) wine pimp\n",
      "<class 'xgboost.sklearn.XGBClassifier'> (124, 13) (124, 1) wine shap\n",
      "<class 'xgboost.sklearn.XGBClassifier'> (124, 13) (124, 1) wine pearson\n",
      "<class 'xgboost.sklearn.XGBClassifier'> (124, 13) (124, 1) wine spearman\n",
      "<class 'xgboost.sklearn.XGBClassifier'> (124, 13) (124, 1) wine kendall\n",
      "<class 'xgboost.sklearn.XGBClassifier'> (124, 13) (124, 1) wine pps\n"
     ]
    },
    {
     "data": {
      "application/vnd.jupyter.widget-view+json": {
       "model_id": "43e97ff060c54291a0ebc1eda1d19e3f",
       "version_major": 2,
       "version_minor": 0
      },
      "text/plain": [
       "Model progress for dataset 1:   0%|          | 0/3 [00:00<?, ?it/s]"
      ]
     },
     "metadata": {},
     "output_type": "display_data"
    },
    {
     "data": {
      "application/vnd.jupyter.widget-view+json": {
       "model_id": "242ddb0dabd34028921735488e0f1c2d",
       "version_major": 2,
       "version_minor": 0
      },
      "text/plain": [
       "Importance type progress for model 0:   0%|          | 0/9 [00:00<?, ?it/s]"
      ]
     },
     "metadata": {},
     "output_type": "display_data"
    },
    {
     "name": "stdout",
     "output_type": "stream",
     "text": [
      "<class 'sklearn.tree._classes.DecisionTreeClassifier'> (398, 30) (398, 1) breast_cancer mutual_info\n",
      "<class 'sklearn.tree._classes.DecisionTreeClassifier'> (398, 30) (398, 1) breast_cancer f_test\n",
      "<class 'sklearn.tree._classes.DecisionTreeClassifier'> (398, 30) (398, 1) breast_cancer pimp\n",
      "<class 'sklearn.tree._classes.DecisionTreeClassifier'> (398, 30) (398, 1) breast_cancer shap\n",
      "<class 'sklearn.tree._classes.DecisionTreeClassifier'> (398, 30) (398, 1) breast_cancer pearson\n",
      "<class 'sklearn.tree._classes.DecisionTreeClassifier'> (398, 30) (398, 1) breast_cancer spearman\n",
      "<class 'sklearn.tree._classes.DecisionTreeClassifier'> (398, 30) (398, 1) breast_cancer kendall\n",
      "<class 'sklearn.tree._classes.DecisionTreeClassifier'> (398, 30) (398, 1) breast_cancer pps\n"
     ]
    },
    {
     "data": {
      "application/vnd.jupyter.widget-view+json": {
       "model_id": "35d0e6a784c640039bd583e299bb4842",
       "version_major": 2,
       "version_minor": 0
      },
      "text/plain": [
       "Importance type progress for model 1:   0%|          | 0/9 [00:00<?, ?it/s]"
      ]
     },
     "metadata": {},
     "output_type": "display_data"
    },
    {
     "name": "stdout",
     "output_type": "stream",
     "text": [
      "<class 'sklearn.ensemble._forest.RandomForestClassifier'> (398, 30) (398, 1) breast_cancer mutual_info\n",
      "<class 'sklearn.ensemble._forest.RandomForestClassifier'> (398, 30) (398, 1) breast_cancer f_test\n",
      "<class 'sklearn.ensemble._forest.RandomForestClassifier'> (398, 30) (398, 1) breast_cancer pimp\n",
      "<class 'sklearn.ensemble._forest.RandomForestClassifier'> (398, 30) (398, 1) breast_cancer shap\n",
      "<class 'sklearn.ensemble._forest.RandomForestClassifier'> (398, 30) (398, 1) breast_cancer pearson\n",
      "<class 'sklearn.ensemble._forest.RandomForestClassifier'> (398, 30) (398, 1) breast_cancer spearman\n",
      "<class 'sklearn.ensemble._forest.RandomForestClassifier'> (398, 30) (398, 1) breast_cancer kendall\n",
      "<class 'sklearn.ensemble._forest.RandomForestClassifier'> (398, 30) (398, 1) breast_cancer pps\n"
     ]
    },
    {
     "data": {
      "application/vnd.jupyter.widget-view+json": {
       "model_id": "afb901d8ac494326bcad9cf1aa7ec206",
       "version_major": 2,
       "version_minor": 0
      },
      "text/plain": [
       "Importance type progress for model 2:   0%|          | 0/9 [00:00<?, ?it/s]"
      ]
     },
     "metadata": {},
     "output_type": "display_data"
    },
    {
     "name": "stdout",
     "output_type": "stream",
     "text": [
      "<class 'xgboost.sklearn.XGBClassifier'> (398, 30) (398, 1) breast_cancer mutual_info\n",
      "<class 'xgboost.sklearn.XGBClassifier'> (398, 30) (398, 1) breast_cancer f_test\n",
      "<class 'xgboost.sklearn.XGBClassifier'> (398, 30) (398, 1) breast_cancer pimp\n",
      "<class 'xgboost.sklearn.XGBClassifier'> (398, 30) (398, 1) breast_cancer shap\n",
      "<class 'xgboost.sklearn.XGBClassifier'> (398, 30) (398, 1) breast_cancer pearson\n",
      "<class 'xgboost.sklearn.XGBClassifier'> (398, 30) (398, 1) breast_cancer spearman\n",
      "<class 'xgboost.sklearn.XGBClassifier'> (398, 30) (398, 1) breast_cancer kendall\n",
      "<class 'xgboost.sklearn.XGBClassifier'> (398, 30) (398, 1) breast_cancer pps\n"
     ]
    },
    {
     "data": {
      "application/vnd.jupyter.widget-view+json": {
       "model_id": "56c66769a88449b39c9790329c699e84",
       "version_major": 2,
       "version_minor": 0
      },
      "text/plain": [
       "Model progress for dataset 2:   0%|          | 0/3 [00:00<?, ?it/s]"
      ]
     },
     "metadata": {},
     "output_type": "display_data"
    },
    {
     "data": {
      "application/vnd.jupyter.widget-view+json": {
       "model_id": "36dc3260d32d4a3ba67f69e234b215ec",
       "version_major": 2,
       "version_minor": 0
      },
      "text/plain": [
       "Importance type progress for model 0:   0%|          | 0/9 [00:00<?, ?it/s]"
      ]
     },
     "metadata": {},
     "output_type": "display_data"
    },
    {
     "name": "stdout",
     "output_type": "stream",
     "text": [
      "<class 'sklearn.tree._classes.DecisionTreeClassifier'> (7738, 30) (7738, 1) phishing mutual_info\n",
      "<class 'sklearn.tree._classes.DecisionTreeClassifier'> (7738, 30) (7738, 1) phishing f_test\n",
      "<class 'sklearn.tree._classes.DecisionTreeClassifier'> (7738, 30) (7738, 1) phishing pimp\n",
      "<class 'sklearn.tree._classes.DecisionTreeClassifier'> (7738, 30) (7738, 1) phishing shap\n",
      "<class 'sklearn.tree._classes.DecisionTreeClassifier'> (7738, 30) (7738, 1) phishing pearson\n",
      "<class 'sklearn.tree._classes.DecisionTreeClassifier'> (7738, 30) (7738, 1) phishing spearman\n",
      "<class 'sklearn.tree._classes.DecisionTreeClassifier'> (7738, 30) (7738, 1) phishing kendall\n",
      "<class 'sklearn.tree._classes.DecisionTreeClassifier'> (7738, 30) (7738, 1) phishing pps\n"
     ]
    },
    {
     "data": {
      "application/vnd.jupyter.widget-view+json": {
       "model_id": "eadfbb6fe3f54ccea7b76fd6e962b803",
       "version_major": 2,
       "version_minor": 0
      },
      "text/plain": [
       "Importance type progress for model 1:   0%|          | 0/9 [00:00<?, ?it/s]"
      ]
     },
     "metadata": {},
     "output_type": "display_data"
    },
    {
     "name": "stdout",
     "output_type": "stream",
     "text": [
      "<class 'sklearn.ensemble._forest.RandomForestClassifier'> (7738, 30) (7738, 1) phishing mutual_info\n",
      "<class 'sklearn.ensemble._forest.RandomForestClassifier'> (7738, 30) (7738, 1) phishing f_test\n",
      "<class 'sklearn.ensemble._forest.RandomForestClassifier'> (7738, 30) (7738, 1) phishing pimp\n",
      "<class 'sklearn.ensemble._forest.RandomForestClassifier'> (7738, 30) (7738, 1) phishing shap\n",
      "<class 'sklearn.ensemble._forest.RandomForestClassifier'> (7738, 30) (7738, 1) phishing pearson\n",
      "<class 'sklearn.ensemble._forest.RandomForestClassifier'> (7738, 30) (7738, 1) phishing spearman\n",
      "<class 'sklearn.ensemble._forest.RandomForestClassifier'> (7738, 30) (7738, 1) phishing kendall\n",
      "<class 'sklearn.ensemble._forest.RandomForestClassifier'> (7738, 30) (7738, 1) phishing pps\n"
     ]
    },
    {
     "data": {
      "application/vnd.jupyter.widget-view+json": {
       "model_id": "c109365c458a48b682ea0d885ff11edc",
       "version_major": 2,
       "version_minor": 0
      },
      "text/plain": [
       "Importance type progress for model 2:   0%|          | 0/9 [00:00<?, ?it/s]"
      ]
     },
     "metadata": {},
     "output_type": "display_data"
    },
    {
     "name": "stdout",
     "output_type": "stream",
     "text": [
      "<class 'xgboost.sklearn.XGBClassifier'> (7738, 30) (7738, 1) phishing mutual_info\n",
      "<class 'xgboost.sklearn.XGBClassifier'> (7738, 30) (7738, 1) phishing f_test\n",
      "<class 'xgboost.sklearn.XGBClassifier'> (7738, 30) (7738, 1) phishing pimp\n",
      "<class 'xgboost.sklearn.XGBClassifier'> (7738, 30) (7738, 1) phishing shap\n",
      "<class 'xgboost.sklearn.XGBClassifier'> (7738, 30) (7738, 1) phishing pearson\n",
      "<class 'xgboost.sklearn.XGBClassifier'> (7738, 30) (7738, 1) phishing spearman\n",
      "<class 'xgboost.sklearn.XGBClassifier'> (7738, 30) (7738, 1) phishing kendall\n",
      "<class 'xgboost.sklearn.XGBClassifier'> (7738, 30) (7738, 1) phishing pps\n"
     ]
    },
    {
     "data": {
      "application/vnd.jupyter.widget-view+json": {
       "model_id": "fae8db68e8a14dfdad8404edab2173ae",
       "version_major": 2,
       "version_minor": 0
      },
      "text/plain": [
       "Model progress for dataset 3:   0%|          | 0/3 [00:00<?, ?it/s]"
      ]
     },
     "metadata": {},
     "output_type": "display_data"
    },
    {
     "data": {
      "application/vnd.jupyter.widget-view+json": {
       "model_id": "87c19e3355254565a6748206dc40e0b7",
       "version_major": 2,
       "version_minor": 0
      },
      "text/plain": [
       "Importance type progress for model 0:   0%|          | 0/9 [00:00<?, ?it/s]"
      ]
     },
     "metadata": {},
     "output_type": "display_data"
    },
    {
     "name": "stdout",
     "output_type": "stream",
     "text": [
      "<class 'sklearn.tree._classes.DecisionTreeClassifier'> (5686, 22) (5686, 1) mushroom mutual_info\n",
      "<class 'sklearn.tree._classes.DecisionTreeClassifier'> (5686, 22) (5686, 1) mushroom f_test\n",
      "<class 'sklearn.tree._classes.DecisionTreeClassifier'> (5686, 22) (5686, 1) mushroom pimp\n",
      "<class 'sklearn.tree._classes.DecisionTreeClassifier'> (5686, 22) (5686, 1) mushroom shap\n",
      "<class 'sklearn.tree._classes.DecisionTreeClassifier'> (5686, 22) (5686, 1) mushroom pearson\n",
      "<class 'sklearn.tree._classes.DecisionTreeClassifier'> (5686, 22) (5686, 1) mushroom spearman\n",
      "<class 'sklearn.tree._classes.DecisionTreeClassifier'> (5686, 22) (5686, 1) mushroom kendall\n",
      "<class 'sklearn.tree._classes.DecisionTreeClassifier'> (5686, 22) (5686, 1) mushroom pps\n"
     ]
    },
    {
     "data": {
      "application/vnd.jupyter.widget-view+json": {
       "model_id": "fe57a5f393b94edca469b3fee26945ec",
       "version_major": 2,
       "version_minor": 0
      },
      "text/plain": [
       "Importance type progress for model 1:   0%|          | 0/9 [00:00<?, ?it/s]"
      ]
     },
     "metadata": {},
     "output_type": "display_data"
    },
    {
     "name": "stdout",
     "output_type": "stream",
     "text": [
      "<class 'sklearn.ensemble._forest.RandomForestClassifier'> (5686, 22) (5686, 1) mushroom mutual_info\n",
      "<class 'sklearn.ensemble._forest.RandomForestClassifier'> (5686, 22) (5686, 1) mushroom f_test\n",
      "<class 'sklearn.ensemble._forest.RandomForestClassifier'> (5686, 22) (5686, 1) mushroom pimp\n",
      "<class 'sklearn.ensemble._forest.RandomForestClassifier'> (5686, 22) (5686, 1) mushroom shap\n",
      "<class 'sklearn.ensemble._forest.RandomForestClassifier'> (5686, 22) (5686, 1) mushroom pearson\n",
      "<class 'sklearn.ensemble._forest.RandomForestClassifier'> (5686, 22) (5686, 1) mushroom spearman\n",
      "<class 'sklearn.ensemble._forest.RandomForestClassifier'> (5686, 22) (5686, 1) mushroom kendall\n",
      "<class 'sklearn.ensemble._forest.RandomForestClassifier'> (5686, 22) (5686, 1) mushroom pps\n"
     ]
    },
    {
     "data": {
      "application/vnd.jupyter.widget-view+json": {
       "model_id": "29aaf91355b143dba4fff814c1bf2136",
       "version_major": 2,
       "version_minor": 0
      },
      "text/plain": [
       "Importance type progress for model 2:   0%|          | 0/9 [00:00<?, ?it/s]"
      ]
     },
     "metadata": {},
     "output_type": "display_data"
    },
    {
     "name": "stdout",
     "output_type": "stream",
     "text": [
      "<class 'xgboost.sklearn.XGBClassifier'> (5686, 22) (5686, 1) mushroom mutual_info\n",
      "<class 'xgboost.sklearn.XGBClassifier'> (5686, 22) (5686, 1) mushroom f_test\n",
      "<class 'xgboost.sklearn.XGBClassifier'> (5686, 22) (5686, 1) mushroom pimp\n",
      "<class 'xgboost.sklearn.XGBClassifier'> (5686, 22) (5686, 1) mushroom shap\n",
      "<class 'xgboost.sklearn.XGBClassifier'> (5686, 22) (5686, 1) mushroom pearson\n",
      "<class 'xgboost.sklearn.XGBClassifier'> (5686, 22) (5686, 1) mushroom spearman\n",
      "<class 'xgboost.sklearn.XGBClassifier'> (5686, 22) (5686, 1) mushroom kendall\n",
      "<class 'xgboost.sklearn.XGBClassifier'> (5686, 22) (5686, 1) mushroom pps\n"
     ]
    },
    {
     "data": {
      "application/vnd.jupyter.widget-view+json": {
       "model_id": "2b78ea7758d7417ab209ff533f8788b1",
       "version_major": 2,
       "version_minor": 0
      },
      "text/plain": [
       "Dataset progress:   0%|          | 0/4 [00:00<?, ?it/s]"
      ]
     },
     "metadata": {},
     "output_type": "display_data"
    },
    {
     "data": {
      "application/vnd.jupyter.widget-view+json": {
       "model_id": "615d19cacdd84255b59029600834e413",
       "version_major": 2,
       "version_minor": 0
      },
      "text/plain": [
       "Model progress for dataset 0:   0%|          | 0/3 [00:00<?, ?it/s]"
      ]
     },
     "metadata": {},
     "output_type": "display_data"
    },
    {
     "data": {
      "application/vnd.jupyter.widget-view+json": {
       "model_id": "54100ce4f2174e06b6e6192e40242dec",
       "version_major": 2,
       "version_minor": 0
      },
      "text/plain": [
       "Importance type progress for model 0:   0%|          | 0/9 [00:00<?, ?it/s]"
      ]
     },
     "metadata": {},
     "output_type": "display_data"
    },
    {
     "name": "stdout",
     "output_type": "stream",
     "text": [
      "<class 'sklearn.tree._classes.DecisionTreeClassifier'> (124, 13) (124, 1) wine mutual_info\n",
      "<class 'sklearn.tree._classes.DecisionTreeClassifier'> (124, 13) (124, 1) wine f_test\n",
      "<class 'sklearn.tree._classes.DecisionTreeClassifier'> (124, 13) (124, 1) wine pimp\n",
      "<class 'sklearn.tree._classes.DecisionTreeClassifier'> (124, 13) (124, 1) wine shap\n",
      "<class 'sklearn.tree._classes.DecisionTreeClassifier'> (124, 13) (124, 1) wine pearson\n",
      "<class 'sklearn.tree._classes.DecisionTreeClassifier'> (124, 13) (124, 1) wine spearman\n",
      "<class 'sklearn.tree._classes.DecisionTreeClassifier'> (124, 13) (124, 1) wine kendall\n",
      "<class 'sklearn.tree._classes.DecisionTreeClassifier'> (124, 13) (124, 1) wine pps\n"
     ]
    },
    {
     "data": {
      "application/vnd.jupyter.widget-view+json": {
       "model_id": "cc7c60f66fad4be488f7d65055897bba",
       "version_major": 2,
       "version_minor": 0
      },
      "text/plain": [
       "Importance type progress for model 1:   0%|          | 0/9 [00:00<?, ?it/s]"
      ]
     },
     "metadata": {},
     "output_type": "display_data"
    },
    {
     "name": "stdout",
     "output_type": "stream",
     "text": [
      "<class 'sklearn.ensemble._forest.RandomForestClassifier'> (124, 13) (124, 1) wine mutual_info\n",
      "<class 'sklearn.ensemble._forest.RandomForestClassifier'> (124, 13) (124, 1) wine f_test\n",
      "<class 'sklearn.ensemble._forest.RandomForestClassifier'> (124, 13) (124, 1) wine pimp\n",
      "<class 'sklearn.ensemble._forest.RandomForestClassifier'> (124, 13) (124, 1) wine shap\n",
      "<class 'sklearn.ensemble._forest.RandomForestClassifier'> (124, 13) (124, 1) wine pearson\n",
      "<class 'sklearn.ensemble._forest.RandomForestClassifier'> (124, 13) (124, 1) wine spearman\n",
      "<class 'sklearn.ensemble._forest.RandomForestClassifier'> (124, 13) (124, 1) wine kendall\n",
      "<class 'sklearn.ensemble._forest.RandomForestClassifier'> (124, 13) (124, 1) wine pps\n"
     ]
    },
    {
     "data": {
      "application/vnd.jupyter.widget-view+json": {
       "model_id": "e55956c01ad741c6ac52c7482481afd5",
       "version_major": 2,
       "version_minor": 0
      },
      "text/plain": [
       "Importance type progress for model 2:   0%|          | 0/9 [00:00<?, ?it/s]"
      ]
     },
     "metadata": {},
     "output_type": "display_data"
    },
    {
     "name": "stdout",
     "output_type": "stream",
     "text": [
      "<class 'xgboost.sklearn.XGBClassifier'> (124, 13) (124, 1) wine mutual_info\n",
      "<class 'xgboost.sklearn.XGBClassifier'> (124, 13) (124, 1) wine f_test\n",
      "<class 'xgboost.sklearn.XGBClassifier'> (124, 13) (124, 1) wine pimp\n",
      "<class 'xgboost.sklearn.XGBClassifier'> (124, 13) (124, 1) wine shap\n",
      "<class 'xgboost.sklearn.XGBClassifier'> (124, 13) (124, 1) wine pearson\n",
      "<class 'xgboost.sklearn.XGBClassifier'> (124, 13) (124, 1) wine spearman\n",
      "<class 'xgboost.sklearn.XGBClassifier'> (124, 13) (124, 1) wine kendall\n",
      "<class 'xgboost.sklearn.XGBClassifier'> (124, 13) (124, 1) wine pps\n"
     ]
    },
    {
     "data": {
      "application/vnd.jupyter.widget-view+json": {
       "model_id": "31fc7f26a237409ea677b82a2bf2a08a",
       "version_major": 2,
       "version_minor": 0
      },
      "text/plain": [
       "Model progress for dataset 1:   0%|          | 0/3 [00:00<?, ?it/s]"
      ]
     },
     "metadata": {},
     "output_type": "display_data"
    },
    {
     "data": {
      "application/vnd.jupyter.widget-view+json": {
       "model_id": "8c7cbbef969449a7809d8bcc6918da89",
       "version_major": 2,
       "version_minor": 0
      },
      "text/plain": [
       "Importance type progress for model 0:   0%|          | 0/9 [00:00<?, ?it/s]"
      ]
     },
     "metadata": {},
     "output_type": "display_data"
    },
    {
     "name": "stdout",
     "output_type": "stream",
     "text": [
      "<class 'sklearn.tree._classes.DecisionTreeClassifier'> (398, 30) (398, 1) breast_cancer mutual_info\n",
      "<class 'sklearn.tree._classes.DecisionTreeClassifier'> (398, 30) (398, 1) breast_cancer f_test\n",
      "<class 'sklearn.tree._classes.DecisionTreeClassifier'> (398, 30) (398, 1) breast_cancer pimp\n",
      "<class 'sklearn.tree._classes.DecisionTreeClassifier'> (398, 30) (398, 1) breast_cancer shap\n",
      "<class 'sklearn.tree._classes.DecisionTreeClassifier'> (398, 30) (398, 1) breast_cancer pearson\n",
      "<class 'sklearn.tree._classes.DecisionTreeClassifier'> (398, 30) (398, 1) breast_cancer spearman\n",
      "<class 'sklearn.tree._classes.DecisionTreeClassifier'> (398, 30) (398, 1) breast_cancer kendall\n",
      "<class 'sklearn.tree._classes.DecisionTreeClassifier'> (398, 30) (398, 1) breast_cancer pps\n"
     ]
    },
    {
     "data": {
      "application/vnd.jupyter.widget-view+json": {
       "model_id": "5d98e12f9ebe4d8bb18e54b15597162a",
       "version_major": 2,
       "version_minor": 0
      },
      "text/plain": [
       "Importance type progress for model 1:   0%|          | 0/9 [00:00<?, ?it/s]"
      ]
     },
     "metadata": {},
     "output_type": "display_data"
    },
    {
     "name": "stdout",
     "output_type": "stream",
     "text": [
      "<class 'sklearn.ensemble._forest.RandomForestClassifier'> (398, 30) (398, 1) breast_cancer mutual_info\n",
      "<class 'sklearn.ensemble._forest.RandomForestClassifier'> (398, 30) (398, 1) breast_cancer f_test\n",
      "<class 'sklearn.ensemble._forest.RandomForestClassifier'> (398, 30) (398, 1) breast_cancer pimp\n",
      "<class 'sklearn.ensemble._forest.RandomForestClassifier'> (398, 30) (398, 1) breast_cancer shap\n",
      "<class 'sklearn.ensemble._forest.RandomForestClassifier'> (398, 30) (398, 1) breast_cancer pearson\n",
      "<class 'sklearn.ensemble._forest.RandomForestClassifier'> (398, 30) (398, 1) breast_cancer spearman\n",
      "<class 'sklearn.ensemble._forest.RandomForestClassifier'> (398, 30) (398, 1) breast_cancer kendall\n",
      "<class 'sklearn.ensemble._forest.RandomForestClassifier'> (398, 30) (398, 1) breast_cancer pps\n"
     ]
    },
    {
     "data": {
      "application/vnd.jupyter.widget-view+json": {
       "model_id": "f333ba5b38224f79ab143332375de4d9",
       "version_major": 2,
       "version_minor": 0
      },
      "text/plain": [
       "Importance type progress for model 2:   0%|          | 0/9 [00:00<?, ?it/s]"
      ]
     },
     "metadata": {},
     "output_type": "display_data"
    },
    {
     "name": "stdout",
     "output_type": "stream",
     "text": [
      "<class 'xgboost.sklearn.XGBClassifier'> (398, 30) (398, 1) breast_cancer mutual_info\n",
      "<class 'xgboost.sklearn.XGBClassifier'> (398, 30) (398, 1) breast_cancer f_test\n",
      "<class 'xgboost.sklearn.XGBClassifier'> (398, 30) (398, 1) breast_cancer pimp\n",
      "<class 'xgboost.sklearn.XGBClassifier'> (398, 30) (398, 1) breast_cancer shap\n",
      "<class 'xgboost.sklearn.XGBClassifier'> (398, 30) (398, 1) breast_cancer pearson\n",
      "<class 'xgboost.sklearn.XGBClassifier'> (398, 30) (398, 1) breast_cancer spearman\n",
      "<class 'xgboost.sklearn.XGBClassifier'> (398, 30) (398, 1) breast_cancer kendall\n",
      "<class 'xgboost.sklearn.XGBClassifier'> (398, 30) (398, 1) breast_cancer pps\n"
     ]
    },
    {
     "data": {
      "application/vnd.jupyter.widget-view+json": {
       "model_id": "402d0359eebb4ff78cb859aca7ff28b1",
       "version_major": 2,
       "version_minor": 0
      },
      "text/plain": [
       "Model progress for dataset 2:   0%|          | 0/3 [00:00<?, ?it/s]"
      ]
     },
     "metadata": {},
     "output_type": "display_data"
    },
    {
     "data": {
      "application/vnd.jupyter.widget-view+json": {
       "model_id": "f342309be62948caaad4ecefda73ba52",
       "version_major": 2,
       "version_minor": 0
      },
      "text/plain": [
       "Importance type progress for model 0:   0%|          | 0/9 [00:00<?, ?it/s]"
      ]
     },
     "metadata": {},
     "output_type": "display_data"
    },
    {
     "name": "stdout",
     "output_type": "stream",
     "text": [
      "<class 'sklearn.tree._classes.DecisionTreeClassifier'> (7738, 30) (7738, 1) phishing mutual_info\n",
      "<class 'sklearn.tree._classes.DecisionTreeClassifier'> (7738, 30) (7738, 1) phishing f_test\n",
      "<class 'sklearn.tree._classes.DecisionTreeClassifier'> (7738, 30) (7738, 1) phishing pimp\n",
      "<class 'sklearn.tree._classes.DecisionTreeClassifier'> (7738, 30) (7738, 1) phishing shap\n",
      "<class 'sklearn.tree._classes.DecisionTreeClassifier'> (7738, 30) (7738, 1) phishing pearson\n",
      "<class 'sklearn.tree._classes.DecisionTreeClassifier'> (7738, 30) (7738, 1) phishing spearman\n",
      "<class 'sklearn.tree._classes.DecisionTreeClassifier'> (7738, 30) (7738, 1) phishing kendall\n",
      "<class 'sklearn.tree._classes.DecisionTreeClassifier'> (7738, 30) (7738, 1) phishing pps\n"
     ]
    },
    {
     "data": {
      "application/vnd.jupyter.widget-view+json": {
       "model_id": "0e51d0427f3f4491a4d1fd89316fb442",
       "version_major": 2,
       "version_minor": 0
      },
      "text/plain": [
       "Importance type progress for model 1:   0%|          | 0/9 [00:00<?, ?it/s]"
      ]
     },
     "metadata": {},
     "output_type": "display_data"
    },
    {
     "name": "stdout",
     "output_type": "stream",
     "text": [
      "<class 'sklearn.ensemble._forest.RandomForestClassifier'> (7738, 30) (7738, 1) phishing mutual_info\n",
      "<class 'sklearn.ensemble._forest.RandomForestClassifier'> (7738, 30) (7738, 1) phishing f_test\n",
      "<class 'sklearn.ensemble._forest.RandomForestClassifier'> (7738, 30) (7738, 1) phishing pimp\n",
      "<class 'sklearn.ensemble._forest.RandomForestClassifier'> (7738, 30) (7738, 1) phishing shap\n",
      "<class 'sklearn.ensemble._forest.RandomForestClassifier'> (7738, 30) (7738, 1) phishing pearson\n",
      "<class 'sklearn.ensemble._forest.RandomForestClassifier'> (7738, 30) (7738, 1) phishing spearman\n",
      "<class 'sklearn.ensemble._forest.RandomForestClassifier'> (7738, 30) (7738, 1) phishing kendall\n",
      "<class 'sklearn.ensemble._forest.RandomForestClassifier'> (7738, 30) (7738, 1) phishing pps\n"
     ]
    },
    {
     "data": {
      "application/vnd.jupyter.widget-view+json": {
       "model_id": "e815985e47cb4aec95d69ce15d301d51",
       "version_major": 2,
       "version_minor": 0
      },
      "text/plain": [
       "Importance type progress for model 2:   0%|          | 0/9 [00:00<?, ?it/s]"
      ]
     },
     "metadata": {},
     "output_type": "display_data"
    },
    {
     "name": "stdout",
     "output_type": "stream",
     "text": [
      "<class 'xgboost.sklearn.XGBClassifier'> (7738, 30) (7738, 1) phishing mutual_info\n",
      "<class 'xgboost.sklearn.XGBClassifier'> (7738, 30) (7738, 1) phishing f_test\n",
      "<class 'xgboost.sklearn.XGBClassifier'> (7738, 30) (7738, 1) phishing pimp\n",
      "<class 'xgboost.sklearn.XGBClassifier'> (7738, 30) (7738, 1) phishing shap\n",
      "<class 'xgboost.sklearn.XGBClassifier'> (7738, 30) (7738, 1) phishing pearson\n",
      "<class 'xgboost.sklearn.XGBClassifier'> (7738, 30) (7738, 1) phishing spearman\n",
      "<class 'xgboost.sklearn.XGBClassifier'> (7738, 30) (7738, 1) phishing kendall\n",
      "<class 'xgboost.sklearn.XGBClassifier'> (7738, 30) (7738, 1) phishing pps\n"
     ]
    },
    {
     "data": {
      "application/vnd.jupyter.widget-view+json": {
       "model_id": "f0ac3796d6054ae78cffd33d26b66a08",
       "version_major": 2,
       "version_minor": 0
      },
      "text/plain": [
       "Model progress for dataset 3:   0%|          | 0/3 [00:00<?, ?it/s]"
      ]
     },
     "metadata": {},
     "output_type": "display_data"
    },
    {
     "data": {
      "application/vnd.jupyter.widget-view+json": {
       "model_id": "277de9dd56da413ca53d85f5e7a161a7",
       "version_major": 2,
       "version_minor": 0
      },
      "text/plain": [
       "Importance type progress for model 0:   0%|          | 0/9 [00:00<?, ?it/s]"
      ]
     },
     "metadata": {},
     "output_type": "display_data"
    },
    {
     "name": "stdout",
     "output_type": "stream",
     "text": [
      "<class 'sklearn.tree._classes.DecisionTreeClassifier'> (5686, 22) (5686, 1) mushroom mutual_info\n",
      "<class 'sklearn.tree._classes.DecisionTreeClassifier'> (5686, 22) (5686, 1) mushroom f_test\n",
      "<class 'sklearn.tree._classes.DecisionTreeClassifier'> (5686, 22) (5686, 1) mushroom pimp\n",
      "<class 'sklearn.tree._classes.DecisionTreeClassifier'> (5686, 22) (5686, 1) mushroom shap\n",
      "<class 'sklearn.tree._classes.DecisionTreeClassifier'> (5686, 22) (5686, 1) mushroom pearson\n",
      "<class 'sklearn.tree._classes.DecisionTreeClassifier'> (5686, 22) (5686, 1) mushroom spearman\n",
      "<class 'sklearn.tree._classes.DecisionTreeClassifier'> (5686, 22) (5686, 1) mushroom kendall\n",
      "<class 'sklearn.tree._classes.DecisionTreeClassifier'> (5686, 22) (5686, 1) mushroom pps\n"
     ]
    },
    {
     "data": {
      "application/vnd.jupyter.widget-view+json": {
       "model_id": "1264846176bd497f89f9b744d9574e7d",
       "version_major": 2,
       "version_minor": 0
      },
      "text/plain": [
       "Importance type progress for model 1:   0%|          | 0/9 [00:00<?, ?it/s]"
      ]
     },
     "metadata": {},
     "output_type": "display_data"
    },
    {
     "name": "stdout",
     "output_type": "stream",
     "text": [
      "<class 'sklearn.ensemble._forest.RandomForestClassifier'> (5686, 22) (5686, 1) mushroom mutual_info\n",
      "<class 'sklearn.ensemble._forest.RandomForestClassifier'> (5686, 22) (5686, 1) mushroom f_test\n",
      "<class 'sklearn.ensemble._forest.RandomForestClassifier'> (5686, 22) (5686, 1) mushroom pimp\n",
      "<class 'sklearn.ensemble._forest.RandomForestClassifier'> (5686, 22) (5686, 1) mushroom shap\n",
      "<class 'sklearn.ensemble._forest.RandomForestClassifier'> (5686, 22) (5686, 1) mushroom pearson\n",
      "<class 'sklearn.ensemble._forest.RandomForestClassifier'> (5686, 22) (5686, 1) mushroom spearman\n",
      "<class 'sklearn.ensemble._forest.RandomForestClassifier'> (5686, 22) (5686, 1) mushroom kendall\n",
      "<class 'sklearn.ensemble._forest.RandomForestClassifier'> (5686, 22) (5686, 1) mushroom pps\n"
     ]
    },
    {
     "data": {
      "application/vnd.jupyter.widget-view+json": {
       "model_id": "2b96bec6073a460486a88a9a3c0e9f5d",
       "version_major": 2,
       "version_minor": 0
      },
      "text/plain": [
       "Importance type progress for model 2:   0%|          | 0/9 [00:00<?, ?it/s]"
      ]
     },
     "metadata": {},
     "output_type": "display_data"
    },
    {
     "name": "stdout",
     "output_type": "stream",
     "text": [
      "<class 'xgboost.sklearn.XGBClassifier'> (5686, 22) (5686, 1) mushroom mutual_info\n",
      "<class 'xgboost.sklearn.XGBClassifier'> (5686, 22) (5686, 1) mushroom f_test\n",
      "<class 'xgboost.sklearn.XGBClassifier'> (5686, 22) (5686, 1) mushroom pimp\n",
      "<class 'xgboost.sklearn.XGBClassifier'> (5686, 22) (5686, 1) mushroom shap\n",
      "<class 'xgboost.sklearn.XGBClassifier'> (5686, 22) (5686, 1) mushroom pearson\n",
      "<class 'xgboost.sklearn.XGBClassifier'> (5686, 22) (5686, 1) mushroom spearman\n",
      "<class 'xgboost.sklearn.XGBClassifier'> (5686, 22) (5686, 1) mushroom kendall\n",
      "<class 'xgboost.sklearn.XGBClassifier'> (5686, 22) (5686, 1) mushroom pps\n"
     ]
    },
    {
     "data": {
      "application/vnd.jupyter.widget-view+json": {
       "model_id": "61d143eca098401f8c5369e734a3eed1",
       "version_major": 2,
       "version_minor": 0
      },
      "text/plain": [
       "Dataset progress:   0%|          | 0/4 [00:00<?, ?it/s]"
      ]
     },
     "metadata": {},
     "output_type": "display_data"
    },
    {
     "data": {
      "application/vnd.jupyter.widget-view+json": {
       "model_id": "fee229740d074b82811c8b54bc49aeac",
       "version_major": 2,
       "version_minor": 0
      },
      "text/plain": [
       "Model progress for dataset 0:   0%|          | 0/3 [00:00<?, ?it/s]"
      ]
     },
     "metadata": {},
     "output_type": "display_data"
    },
    {
     "data": {
      "application/vnd.jupyter.widget-view+json": {
       "model_id": "9af1bae590994bbf97fdb3c07a64f738",
       "version_major": 2,
       "version_minor": 0
      },
      "text/plain": [
       "Importance type progress for model 0:   0%|          | 0/9 [00:00<?, ?it/s]"
      ]
     },
     "metadata": {},
     "output_type": "display_data"
    },
    {
     "name": "stdout",
     "output_type": "stream",
     "text": [
      "<class 'sklearn.tree._classes.DecisionTreeClassifier'> (124, 13) (124, 1) wine mutual_info\n",
      "<class 'sklearn.tree._classes.DecisionTreeClassifier'> (124, 13) (124, 1) wine f_test\n",
      "<class 'sklearn.tree._classes.DecisionTreeClassifier'> (124, 13) (124, 1) wine pimp\n",
      "<class 'sklearn.tree._classes.DecisionTreeClassifier'> (124, 13) (124, 1) wine shap\n",
      "<class 'sklearn.tree._classes.DecisionTreeClassifier'> (124, 13) (124, 1) wine pearson\n",
      "<class 'sklearn.tree._classes.DecisionTreeClassifier'> (124, 13) (124, 1) wine spearman\n",
      "<class 'sklearn.tree._classes.DecisionTreeClassifier'> (124, 13) (124, 1) wine kendall\n",
      "<class 'sklearn.tree._classes.DecisionTreeClassifier'> (124, 13) (124, 1) wine pps\n"
     ]
    },
    {
     "data": {
      "application/vnd.jupyter.widget-view+json": {
       "model_id": "ae32cd241f79438e8b6a79d0291603d7",
       "version_major": 2,
       "version_minor": 0
      },
      "text/plain": [
       "Importance type progress for model 1:   0%|          | 0/9 [00:00<?, ?it/s]"
      ]
     },
     "metadata": {},
     "output_type": "display_data"
    },
    {
     "name": "stdout",
     "output_type": "stream",
     "text": [
      "<class 'sklearn.ensemble._forest.RandomForestClassifier'> (124, 13) (124, 1) wine mutual_info\n",
      "<class 'sklearn.ensemble._forest.RandomForestClassifier'> (124, 13) (124, 1) wine f_test\n",
      "<class 'sklearn.ensemble._forest.RandomForestClassifier'> (124, 13) (124, 1) wine pimp\n",
      "<class 'sklearn.ensemble._forest.RandomForestClassifier'> (124, 13) (124, 1) wine shap\n",
      "<class 'sklearn.ensemble._forest.RandomForestClassifier'> (124, 13) (124, 1) wine pearson\n",
      "<class 'sklearn.ensemble._forest.RandomForestClassifier'> (124, 13) (124, 1) wine spearman\n",
      "<class 'sklearn.ensemble._forest.RandomForestClassifier'> (124, 13) (124, 1) wine kendall\n",
      "<class 'sklearn.ensemble._forest.RandomForestClassifier'> (124, 13) (124, 1) wine pps\n"
     ]
    },
    {
     "data": {
      "application/vnd.jupyter.widget-view+json": {
       "model_id": "a8b7ead9186143ca98cb96911138aa23",
       "version_major": 2,
       "version_minor": 0
      },
      "text/plain": [
       "Importance type progress for model 2:   0%|          | 0/9 [00:00<?, ?it/s]"
      ]
     },
     "metadata": {},
     "output_type": "display_data"
    },
    {
     "name": "stdout",
     "output_type": "stream",
     "text": [
      "<class 'xgboost.sklearn.XGBClassifier'> (124, 13) (124, 1) wine mutual_info\n",
      "<class 'xgboost.sklearn.XGBClassifier'> (124, 13) (124, 1) wine f_test\n",
      "<class 'xgboost.sklearn.XGBClassifier'> (124, 13) (124, 1) wine pimp\n",
      "<class 'xgboost.sklearn.XGBClassifier'> (124, 13) (124, 1) wine shap\n",
      "<class 'xgboost.sklearn.XGBClassifier'> (124, 13) (124, 1) wine pearson\n",
      "<class 'xgboost.sklearn.XGBClassifier'> (124, 13) (124, 1) wine spearman\n",
      "<class 'xgboost.sklearn.XGBClassifier'> (124, 13) (124, 1) wine kendall\n",
      "<class 'xgboost.sklearn.XGBClassifier'> (124, 13) (124, 1) wine pps\n"
     ]
    },
    {
     "data": {
      "application/vnd.jupyter.widget-view+json": {
       "model_id": "1603549735b74c368da42e401e30e0f0",
       "version_major": 2,
       "version_minor": 0
      },
      "text/plain": [
       "Model progress for dataset 1:   0%|          | 0/3 [00:00<?, ?it/s]"
      ]
     },
     "metadata": {},
     "output_type": "display_data"
    },
    {
     "data": {
      "application/vnd.jupyter.widget-view+json": {
       "model_id": "f0de284b8907494097e71d6ee7a9f878",
       "version_major": 2,
       "version_minor": 0
      },
      "text/plain": [
       "Importance type progress for model 0:   0%|          | 0/9 [00:00<?, ?it/s]"
      ]
     },
     "metadata": {},
     "output_type": "display_data"
    },
    {
     "name": "stdout",
     "output_type": "stream",
     "text": [
      "<class 'sklearn.tree._classes.DecisionTreeClassifier'> (398, 30) (398, 1) breast_cancer mutual_info\n",
      "<class 'sklearn.tree._classes.DecisionTreeClassifier'> (398, 30) (398, 1) breast_cancer f_test\n",
      "<class 'sklearn.tree._classes.DecisionTreeClassifier'> (398, 30) (398, 1) breast_cancer pimp\n",
      "<class 'sklearn.tree._classes.DecisionTreeClassifier'> (398, 30) (398, 1) breast_cancer shap\n",
      "<class 'sklearn.tree._classes.DecisionTreeClassifier'> (398, 30) (398, 1) breast_cancer pearson\n",
      "<class 'sklearn.tree._classes.DecisionTreeClassifier'> (398, 30) (398, 1) breast_cancer spearman\n",
      "<class 'sklearn.tree._classes.DecisionTreeClassifier'> (398, 30) (398, 1) breast_cancer kendall\n",
      "<class 'sklearn.tree._classes.DecisionTreeClassifier'> (398, 30) (398, 1) breast_cancer pps\n"
     ]
    },
    {
     "data": {
      "application/vnd.jupyter.widget-view+json": {
       "model_id": "22ef1634130540a1a48bd7cf736b7fd5",
       "version_major": 2,
       "version_minor": 0
      },
      "text/plain": [
       "Importance type progress for model 1:   0%|          | 0/9 [00:00<?, ?it/s]"
      ]
     },
     "metadata": {},
     "output_type": "display_data"
    },
    {
     "name": "stdout",
     "output_type": "stream",
     "text": [
      "<class 'sklearn.ensemble._forest.RandomForestClassifier'> (398, 30) (398, 1) breast_cancer mutual_info\n",
      "<class 'sklearn.ensemble._forest.RandomForestClassifier'> (398, 30) (398, 1) breast_cancer f_test\n",
      "<class 'sklearn.ensemble._forest.RandomForestClassifier'> (398, 30) (398, 1) breast_cancer pimp\n",
      "<class 'sklearn.ensemble._forest.RandomForestClassifier'> (398, 30) (398, 1) breast_cancer shap\n",
      "<class 'sklearn.ensemble._forest.RandomForestClassifier'> (398, 30) (398, 1) breast_cancer pearson\n",
      "<class 'sklearn.ensemble._forest.RandomForestClassifier'> (398, 30) (398, 1) breast_cancer spearman\n",
      "<class 'sklearn.ensemble._forest.RandomForestClassifier'> (398, 30) (398, 1) breast_cancer kendall\n",
      "<class 'sklearn.ensemble._forest.RandomForestClassifier'> (398, 30) (398, 1) breast_cancer pps\n"
     ]
    },
    {
     "data": {
      "application/vnd.jupyter.widget-view+json": {
       "model_id": "140bfaa7e9f543768870f0738df82710",
       "version_major": 2,
       "version_minor": 0
      },
      "text/plain": [
       "Importance type progress for model 2:   0%|          | 0/9 [00:00<?, ?it/s]"
      ]
     },
     "metadata": {},
     "output_type": "display_data"
    },
    {
     "name": "stdout",
     "output_type": "stream",
     "text": [
      "<class 'xgboost.sklearn.XGBClassifier'> (398, 30) (398, 1) breast_cancer mutual_info\n",
      "<class 'xgboost.sklearn.XGBClassifier'> (398, 30) (398, 1) breast_cancer f_test\n",
      "<class 'xgboost.sklearn.XGBClassifier'> (398, 30) (398, 1) breast_cancer pimp\n",
      "<class 'xgboost.sklearn.XGBClassifier'> (398, 30) (398, 1) breast_cancer shap\n",
      "<class 'xgboost.sklearn.XGBClassifier'> (398, 30) (398, 1) breast_cancer pearson\n",
      "<class 'xgboost.sklearn.XGBClassifier'> (398, 30) (398, 1) breast_cancer spearman\n",
      "<class 'xgboost.sklearn.XGBClassifier'> (398, 30) (398, 1) breast_cancer kendall\n",
      "<class 'xgboost.sklearn.XGBClassifier'> (398, 30) (398, 1) breast_cancer pps\n"
     ]
    },
    {
     "data": {
      "application/vnd.jupyter.widget-view+json": {
       "model_id": "ae9bd3cb0ff04e5983866de363a1fc98",
       "version_major": 2,
       "version_minor": 0
      },
      "text/plain": [
       "Model progress for dataset 2:   0%|          | 0/3 [00:00<?, ?it/s]"
      ]
     },
     "metadata": {},
     "output_type": "display_data"
    },
    {
     "data": {
      "application/vnd.jupyter.widget-view+json": {
       "model_id": "a83ed55f0d8d4802b8703c8a27f57db0",
       "version_major": 2,
       "version_minor": 0
      },
      "text/plain": [
       "Importance type progress for model 0:   0%|          | 0/9 [00:00<?, ?it/s]"
      ]
     },
     "metadata": {},
     "output_type": "display_data"
    },
    {
     "name": "stdout",
     "output_type": "stream",
     "text": [
      "<class 'sklearn.tree._classes.DecisionTreeClassifier'> (7738, 30) (7738, 1) phishing mutual_info\n",
      "<class 'sklearn.tree._classes.DecisionTreeClassifier'> (7738, 30) (7738, 1) phishing f_test\n",
      "<class 'sklearn.tree._classes.DecisionTreeClassifier'> (7738, 30) (7738, 1) phishing pimp\n",
      "<class 'sklearn.tree._classes.DecisionTreeClassifier'> (7738, 30) (7738, 1) phishing shap\n",
      "<class 'sklearn.tree._classes.DecisionTreeClassifier'> (7738, 30) (7738, 1) phishing pearson\n",
      "<class 'sklearn.tree._classes.DecisionTreeClassifier'> (7738, 30) (7738, 1) phishing spearman\n",
      "<class 'sklearn.tree._classes.DecisionTreeClassifier'> (7738, 30) (7738, 1) phishing kendall\n",
      "<class 'sklearn.tree._classes.DecisionTreeClassifier'> (7738, 30) (7738, 1) phishing pps\n"
     ]
    },
    {
     "data": {
      "application/vnd.jupyter.widget-view+json": {
       "model_id": "775a0eb62b87470982437a3352c1a881",
       "version_major": 2,
       "version_minor": 0
      },
      "text/plain": [
       "Importance type progress for model 1:   0%|          | 0/9 [00:00<?, ?it/s]"
      ]
     },
     "metadata": {},
     "output_type": "display_data"
    },
    {
     "name": "stdout",
     "output_type": "stream",
     "text": [
      "<class 'sklearn.ensemble._forest.RandomForestClassifier'> (7738, 30) (7738, 1) phishing mutual_info\n",
      "<class 'sklearn.ensemble._forest.RandomForestClassifier'> (7738, 30) (7738, 1) phishing f_test\n",
      "<class 'sklearn.ensemble._forest.RandomForestClassifier'> (7738, 30) (7738, 1) phishing pimp\n",
      "<class 'sklearn.ensemble._forest.RandomForestClassifier'> (7738, 30) (7738, 1) phishing shap\n",
      "<class 'sklearn.ensemble._forest.RandomForestClassifier'> (7738, 30) (7738, 1) phishing pearson\n",
      "<class 'sklearn.ensemble._forest.RandomForestClassifier'> (7738, 30) (7738, 1) phishing spearman\n",
      "<class 'sklearn.ensemble._forest.RandomForestClassifier'> (7738, 30) (7738, 1) phishing kendall\n",
      "<class 'sklearn.ensemble._forest.RandomForestClassifier'> (7738, 30) (7738, 1) phishing pps\n"
     ]
    },
    {
     "data": {
      "application/vnd.jupyter.widget-view+json": {
       "model_id": "f340586524ff475f958c9557b7221244",
       "version_major": 2,
       "version_minor": 0
      },
      "text/plain": [
       "Importance type progress for model 2:   0%|          | 0/9 [00:00<?, ?it/s]"
      ]
     },
     "metadata": {},
     "output_type": "display_data"
    },
    {
     "name": "stdout",
     "output_type": "stream",
     "text": [
      "<class 'xgboost.sklearn.XGBClassifier'> (7738, 30) (7738, 1) phishing mutual_info\n",
      "<class 'xgboost.sklearn.XGBClassifier'> (7738, 30) (7738, 1) phishing f_test\n",
      "<class 'xgboost.sklearn.XGBClassifier'> (7738, 30) (7738, 1) phishing pimp\n",
      "<class 'xgboost.sklearn.XGBClassifier'> (7738, 30) (7738, 1) phishing shap\n",
      "<class 'xgboost.sklearn.XGBClassifier'> (7738, 30) (7738, 1) phishing pearson\n",
      "<class 'xgboost.sklearn.XGBClassifier'> (7738, 30) (7738, 1) phishing spearman\n",
      "<class 'xgboost.sklearn.XGBClassifier'> (7738, 30) (7738, 1) phishing kendall\n",
      "<class 'xgboost.sklearn.XGBClassifier'> (7738, 30) (7738, 1) phishing pps\n"
     ]
    },
    {
     "data": {
      "application/vnd.jupyter.widget-view+json": {
       "model_id": "81a6a1f6b05348baa55536698cd32973",
       "version_major": 2,
       "version_minor": 0
      },
      "text/plain": [
       "Model progress for dataset 3:   0%|          | 0/3 [00:00<?, ?it/s]"
      ]
     },
     "metadata": {},
     "output_type": "display_data"
    },
    {
     "data": {
      "application/vnd.jupyter.widget-view+json": {
       "model_id": "7e282bb7c11342e8a16c31562b0f28ec",
       "version_major": 2,
       "version_minor": 0
      },
      "text/plain": [
       "Importance type progress for model 0:   0%|          | 0/9 [00:00<?, ?it/s]"
      ]
     },
     "metadata": {},
     "output_type": "display_data"
    },
    {
     "name": "stdout",
     "output_type": "stream",
     "text": [
      "<class 'sklearn.tree._classes.DecisionTreeClassifier'> (5686, 22) (5686, 1) mushroom mutual_info\n",
      "<class 'sklearn.tree._classes.DecisionTreeClassifier'> (5686, 22) (5686, 1) mushroom f_test\n",
      "<class 'sklearn.tree._classes.DecisionTreeClassifier'> (5686, 22) (5686, 1) mushroom pimp\n",
      "<class 'sklearn.tree._classes.DecisionTreeClassifier'> (5686, 22) (5686, 1) mushroom shap\n",
      "<class 'sklearn.tree._classes.DecisionTreeClassifier'> (5686, 22) (5686, 1) mushroom pearson\n",
      "<class 'sklearn.tree._classes.DecisionTreeClassifier'> (5686, 22) (5686, 1) mushroom spearman\n",
      "<class 'sklearn.tree._classes.DecisionTreeClassifier'> (5686, 22) (5686, 1) mushroom kendall\n",
      "<class 'sklearn.tree._classes.DecisionTreeClassifier'> (5686, 22) (5686, 1) mushroom pps\n"
     ]
    },
    {
     "data": {
      "application/vnd.jupyter.widget-view+json": {
       "model_id": "f8a25f230479417eb62675213db94d41",
       "version_major": 2,
       "version_minor": 0
      },
      "text/plain": [
       "Importance type progress for model 1:   0%|          | 0/9 [00:00<?, ?it/s]"
      ]
     },
     "metadata": {},
     "output_type": "display_data"
    },
    {
     "name": "stdout",
     "output_type": "stream",
     "text": [
      "<class 'sklearn.ensemble._forest.RandomForestClassifier'> (5686, 22) (5686, 1) mushroom mutual_info\n",
      "<class 'sklearn.ensemble._forest.RandomForestClassifier'> (5686, 22) (5686, 1) mushroom f_test\n",
      "<class 'sklearn.ensemble._forest.RandomForestClassifier'> (5686, 22) (5686, 1) mushroom pimp\n",
      "<class 'sklearn.ensemble._forest.RandomForestClassifier'> (5686, 22) (5686, 1) mushroom shap\n",
      "<class 'sklearn.ensemble._forest.RandomForestClassifier'> (5686, 22) (5686, 1) mushroom pearson\n",
      "<class 'sklearn.ensemble._forest.RandomForestClassifier'> (5686, 22) (5686, 1) mushroom spearman\n",
      "<class 'sklearn.ensemble._forest.RandomForestClassifier'> (5686, 22) (5686, 1) mushroom kendall\n",
      "<class 'sklearn.ensemble._forest.RandomForestClassifier'> (5686, 22) (5686, 1) mushroom pps\n"
     ]
    },
    {
     "data": {
      "application/vnd.jupyter.widget-view+json": {
       "model_id": "2a5890e0e76548e1b358d5fa8ce1cc3d",
       "version_major": 2,
       "version_minor": 0
      },
      "text/plain": [
       "Importance type progress for model 2:   0%|          | 0/9 [00:00<?, ?it/s]"
      ]
     },
     "metadata": {},
     "output_type": "display_data"
    },
    {
     "name": "stdout",
     "output_type": "stream",
     "text": [
      "<class 'xgboost.sklearn.XGBClassifier'> (5686, 22) (5686, 1) mushroom mutual_info\n",
      "<class 'xgboost.sklearn.XGBClassifier'> (5686, 22) (5686, 1) mushroom f_test\n",
      "<class 'xgboost.sklearn.XGBClassifier'> (5686, 22) (5686, 1) mushroom pimp\n",
      "<class 'xgboost.sklearn.XGBClassifier'> (5686, 22) (5686, 1) mushroom shap\n",
      "<class 'xgboost.sklearn.XGBClassifier'> (5686, 22) (5686, 1) mushroom pearson\n",
      "<class 'xgboost.sklearn.XGBClassifier'> (5686, 22) (5686, 1) mushroom spearman\n",
      "<class 'xgboost.sklearn.XGBClassifier'> (5686, 22) (5686, 1) mushroom kendall\n",
      "<class 'xgboost.sklearn.XGBClassifier'> (5686, 22) (5686, 1) mushroom pps\n"
     ]
    },
    {
     "data": {
      "application/vnd.jupyter.widget-view+json": {
       "model_id": "f1d8363b4fb148c581f41365a110984c",
       "version_major": 2,
       "version_minor": 0
      },
      "text/plain": [
       "Dataset progress:   0%|          | 0/4 [00:00<?, ?it/s]"
      ]
     },
     "metadata": {},
     "output_type": "display_data"
    },
    {
     "data": {
      "application/vnd.jupyter.widget-view+json": {
       "model_id": "9786a253c2674a6b914f12fe1389666e",
       "version_major": 2,
       "version_minor": 0
      },
      "text/plain": [
       "Model progress for dataset 0:   0%|          | 0/3 [00:00<?, ?it/s]"
      ]
     },
     "metadata": {},
     "output_type": "display_data"
    },
    {
     "data": {
      "application/vnd.jupyter.widget-view+json": {
       "model_id": "f76a236fc2564caeb047d9e048d8ea37",
       "version_major": 2,
       "version_minor": 0
      },
      "text/plain": [
       "Importance type progress for model 0:   0%|          | 0/9 [00:00<?, ?it/s]"
      ]
     },
     "metadata": {},
     "output_type": "display_data"
    },
    {
     "name": "stdout",
     "output_type": "stream",
     "text": [
      "<class 'sklearn.tree._classes.DecisionTreeClassifier'> (124, 13) (124, 1) wine mutual_info\n",
      "<class 'sklearn.tree._classes.DecisionTreeClassifier'> (124, 13) (124, 1) wine f_test\n",
      "<class 'sklearn.tree._classes.DecisionTreeClassifier'> (124, 13) (124, 1) wine pimp\n",
      "<class 'sklearn.tree._classes.DecisionTreeClassifier'> (124, 13) (124, 1) wine shap\n",
      "<class 'sklearn.tree._classes.DecisionTreeClassifier'> (124, 13) (124, 1) wine pearson\n",
      "<class 'sklearn.tree._classes.DecisionTreeClassifier'> (124, 13) (124, 1) wine spearman\n",
      "<class 'sklearn.tree._classes.DecisionTreeClassifier'> (124, 13) (124, 1) wine kendall\n",
      "<class 'sklearn.tree._classes.DecisionTreeClassifier'> (124, 13) (124, 1) wine pps\n"
     ]
    },
    {
     "data": {
      "application/vnd.jupyter.widget-view+json": {
       "model_id": "0653d9891cec42349f85ef103ba0eba8",
       "version_major": 2,
       "version_minor": 0
      },
      "text/plain": [
       "Importance type progress for model 1:   0%|          | 0/9 [00:00<?, ?it/s]"
      ]
     },
     "metadata": {},
     "output_type": "display_data"
    },
    {
     "name": "stdout",
     "output_type": "stream",
     "text": [
      "<class 'sklearn.ensemble._forest.RandomForestClassifier'> (124, 13) (124, 1) wine mutual_info\n",
      "<class 'sklearn.ensemble._forest.RandomForestClassifier'> (124, 13) (124, 1) wine f_test\n",
      "<class 'sklearn.ensemble._forest.RandomForestClassifier'> (124, 13) (124, 1) wine pimp\n",
      "<class 'sklearn.ensemble._forest.RandomForestClassifier'> (124, 13) (124, 1) wine shap\n",
      "<class 'sklearn.ensemble._forest.RandomForestClassifier'> (124, 13) (124, 1) wine pearson\n",
      "<class 'sklearn.ensemble._forest.RandomForestClassifier'> (124, 13) (124, 1) wine spearman\n",
      "<class 'sklearn.ensemble._forest.RandomForestClassifier'> (124, 13) (124, 1) wine kendall\n",
      "<class 'sklearn.ensemble._forest.RandomForestClassifier'> (124, 13) (124, 1) wine pps\n"
     ]
    },
    {
     "data": {
      "application/vnd.jupyter.widget-view+json": {
       "model_id": "a440db646a3c47d6bb70451a3a2072f1",
       "version_major": 2,
       "version_minor": 0
      },
      "text/plain": [
       "Importance type progress for model 2:   0%|          | 0/9 [00:00<?, ?it/s]"
      ]
     },
     "metadata": {},
     "output_type": "display_data"
    },
    {
     "name": "stdout",
     "output_type": "stream",
     "text": [
      "<class 'xgboost.sklearn.XGBClassifier'> (124, 13) (124, 1) wine mutual_info\n",
      "<class 'xgboost.sklearn.XGBClassifier'> (124, 13) (124, 1) wine f_test\n",
      "<class 'xgboost.sklearn.XGBClassifier'> (124, 13) (124, 1) wine pimp\n",
      "<class 'xgboost.sklearn.XGBClassifier'> (124, 13) (124, 1) wine shap\n",
      "<class 'xgboost.sklearn.XGBClassifier'> (124, 13) (124, 1) wine pearson\n",
      "<class 'xgboost.sklearn.XGBClassifier'> (124, 13) (124, 1) wine spearman\n",
      "<class 'xgboost.sklearn.XGBClassifier'> (124, 13) (124, 1) wine kendall\n",
      "<class 'xgboost.sklearn.XGBClassifier'> (124, 13) (124, 1) wine pps\n"
     ]
    },
    {
     "data": {
      "application/vnd.jupyter.widget-view+json": {
       "model_id": "04c5b0a5edd5447dbc24d3a6f4a3a1f1",
       "version_major": 2,
       "version_minor": 0
      },
      "text/plain": [
       "Model progress for dataset 1:   0%|          | 0/3 [00:00<?, ?it/s]"
      ]
     },
     "metadata": {},
     "output_type": "display_data"
    },
    {
     "data": {
      "application/vnd.jupyter.widget-view+json": {
       "model_id": "a889b223beee47cdb8663c5d4ed61356",
       "version_major": 2,
       "version_minor": 0
      },
      "text/plain": [
       "Importance type progress for model 0:   0%|          | 0/9 [00:00<?, ?it/s]"
      ]
     },
     "metadata": {},
     "output_type": "display_data"
    },
    {
     "name": "stdout",
     "output_type": "stream",
     "text": [
      "<class 'sklearn.tree._classes.DecisionTreeClassifier'> (398, 30) (398, 1) breast_cancer mutual_info\n",
      "<class 'sklearn.tree._classes.DecisionTreeClassifier'> (398, 30) (398, 1) breast_cancer f_test\n",
      "<class 'sklearn.tree._classes.DecisionTreeClassifier'> (398, 30) (398, 1) breast_cancer pimp\n",
      "<class 'sklearn.tree._classes.DecisionTreeClassifier'> (398, 30) (398, 1) breast_cancer shap\n",
      "<class 'sklearn.tree._classes.DecisionTreeClassifier'> (398, 30) (398, 1) breast_cancer pearson\n",
      "<class 'sklearn.tree._classes.DecisionTreeClassifier'> (398, 30) (398, 1) breast_cancer spearman\n",
      "<class 'sklearn.tree._classes.DecisionTreeClassifier'> (398, 30) (398, 1) breast_cancer kendall\n",
      "<class 'sklearn.tree._classes.DecisionTreeClassifier'> (398, 30) (398, 1) breast_cancer pps\n"
     ]
    },
    {
     "data": {
      "application/vnd.jupyter.widget-view+json": {
       "model_id": "1ed7088c4abd48ffad9246249425995c",
       "version_major": 2,
       "version_minor": 0
      },
      "text/plain": [
       "Importance type progress for model 1:   0%|          | 0/9 [00:00<?, ?it/s]"
      ]
     },
     "metadata": {},
     "output_type": "display_data"
    },
    {
     "name": "stdout",
     "output_type": "stream",
     "text": [
      "<class 'sklearn.ensemble._forest.RandomForestClassifier'> (398, 30) (398, 1) breast_cancer mutual_info\n",
      "<class 'sklearn.ensemble._forest.RandomForestClassifier'> (398, 30) (398, 1) breast_cancer f_test\n",
      "<class 'sklearn.ensemble._forest.RandomForestClassifier'> (398, 30) (398, 1) breast_cancer pimp\n",
      "<class 'sklearn.ensemble._forest.RandomForestClassifier'> (398, 30) (398, 1) breast_cancer shap\n",
      "<class 'sklearn.ensemble._forest.RandomForestClassifier'> (398, 30) (398, 1) breast_cancer pearson\n",
      "<class 'sklearn.ensemble._forest.RandomForestClassifier'> (398, 30) (398, 1) breast_cancer spearman\n",
      "<class 'sklearn.ensemble._forest.RandomForestClassifier'> (398, 30) (398, 1) breast_cancer kendall\n",
      "<class 'sklearn.ensemble._forest.RandomForestClassifier'> (398, 30) (398, 1) breast_cancer pps\n"
     ]
    },
    {
     "data": {
      "application/vnd.jupyter.widget-view+json": {
       "model_id": "0dd7dfa3a1ae486a90a82eb0597ccffb",
       "version_major": 2,
       "version_minor": 0
      },
      "text/plain": [
       "Importance type progress for model 2:   0%|          | 0/9 [00:00<?, ?it/s]"
      ]
     },
     "metadata": {},
     "output_type": "display_data"
    },
    {
     "name": "stdout",
     "output_type": "stream",
     "text": [
      "<class 'xgboost.sklearn.XGBClassifier'> (398, 30) (398, 1) breast_cancer mutual_info\n",
      "<class 'xgboost.sklearn.XGBClassifier'> (398, 30) (398, 1) breast_cancer f_test\n",
      "<class 'xgboost.sklearn.XGBClassifier'> (398, 30) (398, 1) breast_cancer pimp\n",
      "<class 'xgboost.sklearn.XGBClassifier'> (398, 30) (398, 1) breast_cancer shap\n",
      "<class 'xgboost.sklearn.XGBClassifier'> (398, 30) (398, 1) breast_cancer pearson\n",
      "<class 'xgboost.sklearn.XGBClassifier'> (398, 30) (398, 1) breast_cancer spearman\n",
      "<class 'xgboost.sklearn.XGBClassifier'> (398, 30) (398, 1) breast_cancer kendall\n",
      "<class 'xgboost.sklearn.XGBClassifier'> (398, 30) (398, 1) breast_cancer pps\n"
     ]
    },
    {
     "data": {
      "application/vnd.jupyter.widget-view+json": {
       "model_id": "3cb44e55765646a6bfd3e43d2d11ec59",
       "version_major": 2,
       "version_minor": 0
      },
      "text/plain": [
       "Model progress for dataset 2:   0%|          | 0/3 [00:00<?, ?it/s]"
      ]
     },
     "metadata": {},
     "output_type": "display_data"
    },
    {
     "data": {
      "application/vnd.jupyter.widget-view+json": {
       "model_id": "94883dfaff3d4bd68d0f09b6b881e441",
       "version_major": 2,
       "version_minor": 0
      },
      "text/plain": [
       "Importance type progress for model 0:   0%|          | 0/9 [00:00<?, ?it/s]"
      ]
     },
     "metadata": {},
     "output_type": "display_data"
    },
    {
     "name": "stdout",
     "output_type": "stream",
     "text": [
      "<class 'sklearn.tree._classes.DecisionTreeClassifier'> (7738, 30) (7738, 1) phishing mutual_info\n",
      "<class 'sklearn.tree._classes.DecisionTreeClassifier'> (7738, 30) (7738, 1) phishing f_test\n",
      "<class 'sklearn.tree._classes.DecisionTreeClassifier'> (7738, 30) (7738, 1) phishing pimp\n",
      "<class 'sklearn.tree._classes.DecisionTreeClassifier'> (7738, 30) (7738, 1) phishing shap\n",
      "<class 'sklearn.tree._classes.DecisionTreeClassifier'> (7738, 30) (7738, 1) phishing pearson\n",
      "<class 'sklearn.tree._classes.DecisionTreeClassifier'> (7738, 30) (7738, 1) phishing spearman\n",
      "<class 'sklearn.tree._classes.DecisionTreeClassifier'> (7738, 30) (7738, 1) phishing kendall\n",
      "<class 'sklearn.tree._classes.DecisionTreeClassifier'> (7738, 30) (7738, 1) phishing pps\n"
     ]
    },
    {
     "data": {
      "application/vnd.jupyter.widget-view+json": {
       "model_id": "8280950c9c7e420bb99a67948715569c",
       "version_major": 2,
       "version_minor": 0
      },
      "text/plain": [
       "Importance type progress for model 1:   0%|          | 0/9 [00:00<?, ?it/s]"
      ]
     },
     "metadata": {},
     "output_type": "display_data"
    },
    {
     "name": "stdout",
     "output_type": "stream",
     "text": [
      "<class 'sklearn.ensemble._forest.RandomForestClassifier'> (7738, 30) (7738, 1) phishing mutual_info\n",
      "<class 'sklearn.ensemble._forest.RandomForestClassifier'> (7738, 30) (7738, 1) phishing f_test\n",
      "<class 'sklearn.ensemble._forest.RandomForestClassifier'> (7738, 30) (7738, 1) phishing pimp\n",
      "<class 'sklearn.ensemble._forest.RandomForestClassifier'> (7738, 30) (7738, 1) phishing shap\n",
      "<class 'sklearn.ensemble._forest.RandomForestClassifier'> (7738, 30) (7738, 1) phishing pearson\n",
      "<class 'sklearn.ensemble._forest.RandomForestClassifier'> (7738, 30) (7738, 1) phishing spearman\n",
      "<class 'sklearn.ensemble._forest.RandomForestClassifier'> (7738, 30) (7738, 1) phishing kendall\n",
      "<class 'sklearn.ensemble._forest.RandomForestClassifier'> (7738, 30) (7738, 1) phishing pps\n"
     ]
    },
    {
     "data": {
      "application/vnd.jupyter.widget-view+json": {
       "model_id": "f010ffcfed57402c94b8b3484e306f5b",
       "version_major": 2,
       "version_minor": 0
      },
      "text/plain": [
       "Importance type progress for model 2:   0%|          | 0/9 [00:00<?, ?it/s]"
      ]
     },
     "metadata": {},
     "output_type": "display_data"
    },
    {
     "name": "stdout",
     "output_type": "stream",
     "text": [
      "<class 'xgboost.sklearn.XGBClassifier'> (7738, 30) (7738, 1) phishing mutual_info\n",
      "<class 'xgboost.sklearn.XGBClassifier'> (7738, 30) (7738, 1) phishing f_test\n",
      "<class 'xgboost.sklearn.XGBClassifier'> (7738, 30) (7738, 1) phishing pimp\n",
      "<class 'xgboost.sklearn.XGBClassifier'> (7738, 30) (7738, 1) phishing shap\n",
      "<class 'xgboost.sklearn.XGBClassifier'> (7738, 30) (7738, 1) phishing pearson\n",
      "<class 'xgboost.sklearn.XGBClassifier'> (7738, 30) (7738, 1) phishing spearman\n",
      "<class 'xgboost.sklearn.XGBClassifier'> (7738, 30) (7738, 1) phishing kendall\n",
      "<class 'xgboost.sklearn.XGBClassifier'> (7738, 30) (7738, 1) phishing pps\n"
     ]
    },
    {
     "data": {
      "application/vnd.jupyter.widget-view+json": {
       "model_id": "82b2c1ebf6ad498eac5326c59f92d18c",
       "version_major": 2,
       "version_minor": 0
      },
      "text/plain": [
       "Model progress for dataset 3:   0%|          | 0/3 [00:00<?, ?it/s]"
      ]
     },
     "metadata": {},
     "output_type": "display_data"
    },
    {
     "data": {
      "application/vnd.jupyter.widget-view+json": {
       "model_id": "2a162c04ea954860bf413e3131fc963c",
       "version_major": 2,
       "version_minor": 0
      },
      "text/plain": [
       "Importance type progress for model 0:   0%|          | 0/9 [00:00<?, ?it/s]"
      ]
     },
     "metadata": {},
     "output_type": "display_data"
    },
    {
     "name": "stdout",
     "output_type": "stream",
     "text": [
      "<class 'sklearn.tree._classes.DecisionTreeClassifier'> (5686, 22) (5686, 1) mushroom mutual_info\n",
      "<class 'sklearn.tree._classes.DecisionTreeClassifier'> (5686, 22) (5686, 1) mushroom f_test\n",
      "<class 'sklearn.tree._classes.DecisionTreeClassifier'> (5686, 22) (5686, 1) mushroom pimp\n",
      "<class 'sklearn.tree._classes.DecisionTreeClassifier'> (5686, 22) (5686, 1) mushroom shap\n",
      "<class 'sklearn.tree._classes.DecisionTreeClassifier'> (5686, 22) (5686, 1) mushroom pearson\n",
      "<class 'sklearn.tree._classes.DecisionTreeClassifier'> (5686, 22) (5686, 1) mushroom spearman\n",
      "<class 'sklearn.tree._classes.DecisionTreeClassifier'> (5686, 22) (5686, 1) mushroom kendall\n",
      "<class 'sklearn.tree._classes.DecisionTreeClassifier'> (5686, 22) (5686, 1) mushroom pps\n"
     ]
    },
    {
     "data": {
      "application/vnd.jupyter.widget-view+json": {
       "model_id": "036ce0c7a4cb4aff922b859a7180a50b",
       "version_major": 2,
       "version_minor": 0
      },
      "text/plain": [
       "Importance type progress for model 1:   0%|          | 0/9 [00:00<?, ?it/s]"
      ]
     },
     "metadata": {},
     "output_type": "display_data"
    },
    {
     "name": "stdout",
     "output_type": "stream",
     "text": [
      "<class 'sklearn.ensemble._forest.RandomForestClassifier'> (5686, 22) (5686, 1) mushroom mutual_info\n",
      "<class 'sklearn.ensemble._forest.RandomForestClassifier'> (5686, 22) (5686, 1) mushroom f_test\n",
      "<class 'sklearn.ensemble._forest.RandomForestClassifier'> (5686, 22) (5686, 1) mushroom pimp\n",
      "<class 'sklearn.ensemble._forest.RandomForestClassifier'> (5686, 22) (5686, 1) mushroom shap\n",
      "<class 'sklearn.ensemble._forest.RandomForestClassifier'> (5686, 22) (5686, 1) mushroom pearson\n",
      "<class 'sklearn.ensemble._forest.RandomForestClassifier'> (5686, 22) (5686, 1) mushroom spearman\n",
      "<class 'sklearn.ensemble._forest.RandomForestClassifier'> (5686, 22) (5686, 1) mushroom kendall\n",
      "<class 'sklearn.ensemble._forest.RandomForestClassifier'> (5686, 22) (5686, 1) mushroom pps\n"
     ]
    },
    {
     "data": {
      "application/vnd.jupyter.widget-view+json": {
       "model_id": "bf6f4abef16c478294591096282f9839",
       "version_major": 2,
       "version_minor": 0
      },
      "text/plain": [
       "Importance type progress for model 2:   0%|          | 0/9 [00:00<?, ?it/s]"
      ]
     },
     "metadata": {},
     "output_type": "display_data"
    },
    {
     "name": "stdout",
     "output_type": "stream",
     "text": [
      "<class 'xgboost.sklearn.XGBClassifier'> (5686, 22) (5686, 1) mushroom mutual_info\n",
      "<class 'xgboost.sklearn.XGBClassifier'> (5686, 22) (5686, 1) mushroom f_test\n",
      "<class 'xgboost.sklearn.XGBClassifier'> (5686, 22) (5686, 1) mushroom pimp\n",
      "<class 'xgboost.sklearn.XGBClassifier'> (5686, 22) (5686, 1) mushroom shap\n",
      "<class 'xgboost.sklearn.XGBClassifier'> (5686, 22) (5686, 1) mushroom pearson\n",
      "<class 'xgboost.sklearn.XGBClassifier'> (5686, 22) (5686, 1) mushroom spearman\n",
      "<class 'xgboost.sklearn.XGBClassifier'> (5686, 22) (5686, 1) mushroom kendall\n",
      "<class 'xgboost.sklearn.XGBClassifier'> (5686, 22) (5686, 1) mushroom pps\n"
     ]
    },
    {
     "data": {
      "application/vnd.jupyter.widget-view+json": {
       "model_id": "c89d0d34ae454b248248dc2bcfe73af6",
       "version_major": 2,
       "version_minor": 0
      },
      "text/plain": [
       "Dataset progress:   0%|          | 0/4 [00:00<?, ?it/s]"
      ]
     },
     "metadata": {},
     "output_type": "display_data"
    },
    {
     "data": {
      "application/vnd.jupyter.widget-view+json": {
       "model_id": "e2142b7f8fb64274a491d38c16e31df1",
       "version_major": 2,
       "version_minor": 0
      },
      "text/plain": [
       "Model progress for dataset 0:   0%|          | 0/3 [00:00<?, ?it/s]"
      ]
     },
     "metadata": {},
     "output_type": "display_data"
    },
    {
     "data": {
      "application/vnd.jupyter.widget-view+json": {
       "model_id": "885d65eeac464b7788ebed39c2eec523",
       "version_major": 2,
       "version_minor": 0
      },
      "text/plain": [
       "Importance type progress for model 0:   0%|          | 0/9 [00:00<?, ?it/s]"
      ]
     },
     "metadata": {},
     "output_type": "display_data"
    },
    {
     "name": "stdout",
     "output_type": "stream",
     "text": [
      "<class 'sklearn.tree._classes.DecisionTreeClassifier'> (124, 13) (124, 1) wine mutual_info\n",
      "<class 'sklearn.tree._classes.DecisionTreeClassifier'> (124, 13) (124, 1) wine f_test\n",
      "<class 'sklearn.tree._classes.DecisionTreeClassifier'> (124, 13) (124, 1) wine pimp\n",
      "<class 'sklearn.tree._classes.DecisionTreeClassifier'> (124, 13) (124, 1) wine shap\n",
      "<class 'sklearn.tree._classes.DecisionTreeClassifier'> (124, 13) (124, 1) wine pearson\n",
      "<class 'sklearn.tree._classes.DecisionTreeClassifier'> (124, 13) (124, 1) wine spearman\n",
      "<class 'sklearn.tree._classes.DecisionTreeClassifier'> (124, 13) (124, 1) wine kendall\n",
      "<class 'sklearn.tree._classes.DecisionTreeClassifier'> (124, 13) (124, 1) wine pps\n"
     ]
    },
    {
     "data": {
      "application/vnd.jupyter.widget-view+json": {
       "model_id": "19e063d1d54e4cbdb91056ec4f7f2969",
       "version_major": 2,
       "version_minor": 0
      },
      "text/plain": [
       "Importance type progress for model 1:   0%|          | 0/9 [00:00<?, ?it/s]"
      ]
     },
     "metadata": {},
     "output_type": "display_data"
    },
    {
     "name": "stdout",
     "output_type": "stream",
     "text": [
      "<class 'sklearn.ensemble._forest.RandomForestClassifier'> (124, 13) (124, 1) wine mutual_info\n",
      "<class 'sklearn.ensemble._forest.RandomForestClassifier'> (124, 13) (124, 1) wine f_test\n",
      "<class 'sklearn.ensemble._forest.RandomForestClassifier'> (124, 13) (124, 1) wine pimp\n",
      "<class 'sklearn.ensemble._forest.RandomForestClassifier'> (124, 13) (124, 1) wine shap\n",
      "<class 'sklearn.ensemble._forest.RandomForestClassifier'> (124, 13) (124, 1) wine pearson\n",
      "<class 'sklearn.ensemble._forest.RandomForestClassifier'> (124, 13) (124, 1) wine spearman\n",
      "<class 'sklearn.ensemble._forest.RandomForestClassifier'> (124, 13) (124, 1) wine kendall\n",
      "<class 'sklearn.ensemble._forest.RandomForestClassifier'> (124, 13) (124, 1) wine pps\n"
     ]
    },
    {
     "data": {
      "application/vnd.jupyter.widget-view+json": {
       "model_id": "e3e678763c8f4b3ab7bcf7b1bd536530",
       "version_major": 2,
       "version_minor": 0
      },
      "text/plain": [
       "Importance type progress for model 2:   0%|          | 0/9 [00:00<?, ?it/s]"
      ]
     },
     "metadata": {},
     "output_type": "display_data"
    },
    {
     "name": "stdout",
     "output_type": "stream",
     "text": [
      "<class 'xgboost.sklearn.XGBClassifier'> (124, 13) (124, 1) wine mutual_info\n",
      "<class 'xgboost.sklearn.XGBClassifier'> (124, 13) (124, 1) wine f_test\n",
      "<class 'xgboost.sklearn.XGBClassifier'> (124, 13) (124, 1) wine pimp\n",
      "<class 'xgboost.sklearn.XGBClassifier'> (124, 13) (124, 1) wine shap\n",
      "<class 'xgboost.sklearn.XGBClassifier'> (124, 13) (124, 1) wine pearson\n",
      "<class 'xgboost.sklearn.XGBClassifier'> (124, 13) (124, 1) wine spearman\n",
      "<class 'xgboost.sklearn.XGBClassifier'> (124, 13) (124, 1) wine kendall\n",
      "<class 'xgboost.sklearn.XGBClassifier'> (124, 13) (124, 1) wine pps\n"
     ]
    },
    {
     "data": {
      "application/vnd.jupyter.widget-view+json": {
       "model_id": "c6abd1c42f58415c8d5f0deefc6549b9",
       "version_major": 2,
       "version_minor": 0
      },
      "text/plain": [
       "Model progress for dataset 1:   0%|          | 0/3 [00:00<?, ?it/s]"
      ]
     },
     "metadata": {},
     "output_type": "display_data"
    },
    {
     "data": {
      "application/vnd.jupyter.widget-view+json": {
       "model_id": "24335f22739343d1bb85c94347c0a937",
       "version_major": 2,
       "version_minor": 0
      },
      "text/plain": [
       "Importance type progress for model 0:   0%|          | 0/9 [00:00<?, ?it/s]"
      ]
     },
     "metadata": {},
     "output_type": "display_data"
    },
    {
     "name": "stdout",
     "output_type": "stream",
     "text": [
      "<class 'sklearn.tree._classes.DecisionTreeClassifier'> (398, 30) (398, 1) breast_cancer mutual_info\n",
      "<class 'sklearn.tree._classes.DecisionTreeClassifier'> (398, 30) (398, 1) breast_cancer f_test\n",
      "<class 'sklearn.tree._classes.DecisionTreeClassifier'> (398, 30) (398, 1) breast_cancer pimp\n",
      "<class 'sklearn.tree._classes.DecisionTreeClassifier'> (398, 30) (398, 1) breast_cancer shap\n",
      "<class 'sklearn.tree._classes.DecisionTreeClassifier'> (398, 30) (398, 1) breast_cancer pearson\n",
      "<class 'sklearn.tree._classes.DecisionTreeClassifier'> (398, 30) (398, 1) breast_cancer spearman\n",
      "<class 'sklearn.tree._classes.DecisionTreeClassifier'> (398, 30) (398, 1) breast_cancer kendall\n",
      "<class 'sklearn.tree._classes.DecisionTreeClassifier'> (398, 30) (398, 1) breast_cancer pps\n"
     ]
    },
    {
     "data": {
      "application/vnd.jupyter.widget-view+json": {
       "model_id": "d6c72653b09b4645aadb7c84fe193745",
       "version_major": 2,
       "version_minor": 0
      },
      "text/plain": [
       "Importance type progress for model 1:   0%|          | 0/9 [00:00<?, ?it/s]"
      ]
     },
     "metadata": {},
     "output_type": "display_data"
    },
    {
     "name": "stdout",
     "output_type": "stream",
     "text": [
      "<class 'sklearn.ensemble._forest.RandomForestClassifier'> (398, 30) (398, 1) breast_cancer mutual_info\n",
      "<class 'sklearn.ensemble._forest.RandomForestClassifier'> (398, 30) (398, 1) breast_cancer f_test\n",
      "<class 'sklearn.ensemble._forest.RandomForestClassifier'> (398, 30) (398, 1) breast_cancer pimp\n",
      "<class 'sklearn.ensemble._forest.RandomForestClassifier'> (398, 30) (398, 1) breast_cancer shap\n",
      "<class 'sklearn.ensemble._forest.RandomForestClassifier'> (398, 30) (398, 1) breast_cancer pearson\n",
      "<class 'sklearn.ensemble._forest.RandomForestClassifier'> (398, 30) (398, 1) breast_cancer spearman\n",
      "<class 'sklearn.ensemble._forest.RandomForestClassifier'> (398, 30) (398, 1) breast_cancer kendall\n",
      "<class 'sklearn.ensemble._forest.RandomForestClassifier'> (398, 30) (398, 1) breast_cancer pps\n"
     ]
    },
    {
     "data": {
      "application/vnd.jupyter.widget-view+json": {
       "model_id": "fcf023fabe2742b3b9fa619ec5b6ed3f",
       "version_major": 2,
       "version_minor": 0
      },
      "text/plain": [
       "Importance type progress for model 2:   0%|          | 0/9 [00:00<?, ?it/s]"
      ]
     },
     "metadata": {},
     "output_type": "display_data"
    },
    {
     "name": "stdout",
     "output_type": "stream",
     "text": [
      "<class 'xgboost.sklearn.XGBClassifier'> (398, 30) (398, 1) breast_cancer mutual_info\n",
      "<class 'xgboost.sklearn.XGBClassifier'> (398, 30) (398, 1) breast_cancer f_test\n",
      "<class 'xgboost.sklearn.XGBClassifier'> (398, 30) (398, 1) breast_cancer pimp\n",
      "<class 'xgboost.sklearn.XGBClassifier'> (398, 30) (398, 1) breast_cancer shap\n",
      "<class 'xgboost.sklearn.XGBClassifier'> (398, 30) (398, 1) breast_cancer pearson\n",
      "<class 'xgboost.sklearn.XGBClassifier'> (398, 30) (398, 1) breast_cancer spearman\n",
      "<class 'xgboost.sklearn.XGBClassifier'> (398, 30) (398, 1) breast_cancer kendall\n",
      "<class 'xgboost.sklearn.XGBClassifier'> (398, 30) (398, 1) breast_cancer pps\n"
     ]
    },
    {
     "data": {
      "application/vnd.jupyter.widget-view+json": {
       "model_id": "f90b824baacf48039d547da96fe06b46",
       "version_major": 2,
       "version_minor": 0
      },
      "text/plain": [
       "Model progress for dataset 2:   0%|          | 0/3 [00:00<?, ?it/s]"
      ]
     },
     "metadata": {},
     "output_type": "display_data"
    },
    {
     "data": {
      "application/vnd.jupyter.widget-view+json": {
       "model_id": "b40332f188aa464cb847b7ffc239afdc",
       "version_major": 2,
       "version_minor": 0
      },
      "text/plain": [
       "Importance type progress for model 0:   0%|          | 0/9 [00:00<?, ?it/s]"
      ]
     },
     "metadata": {},
     "output_type": "display_data"
    },
    {
     "name": "stdout",
     "output_type": "stream",
     "text": [
      "<class 'sklearn.tree._classes.DecisionTreeClassifier'> (7738, 30) (7738, 1) phishing mutual_info\n",
      "<class 'sklearn.tree._classes.DecisionTreeClassifier'> (7738, 30) (7738, 1) phishing f_test\n",
      "<class 'sklearn.tree._classes.DecisionTreeClassifier'> (7738, 30) (7738, 1) phishing pimp\n",
      "<class 'sklearn.tree._classes.DecisionTreeClassifier'> (7738, 30) (7738, 1) phishing shap\n",
      "<class 'sklearn.tree._classes.DecisionTreeClassifier'> (7738, 30) (7738, 1) phishing pearson\n",
      "<class 'sklearn.tree._classes.DecisionTreeClassifier'> (7738, 30) (7738, 1) phishing spearman\n",
      "<class 'sklearn.tree._classes.DecisionTreeClassifier'> (7738, 30) (7738, 1) phishing kendall\n",
      "<class 'sklearn.tree._classes.DecisionTreeClassifier'> (7738, 30) (7738, 1) phishing pps\n"
     ]
    },
    {
     "data": {
      "application/vnd.jupyter.widget-view+json": {
       "model_id": "d1c08d3e1a5e4dbaabd49b7bc8afd41d",
       "version_major": 2,
       "version_minor": 0
      },
      "text/plain": [
       "Importance type progress for model 1:   0%|          | 0/9 [00:00<?, ?it/s]"
      ]
     },
     "metadata": {},
     "output_type": "display_data"
    },
    {
     "name": "stdout",
     "output_type": "stream",
     "text": [
      "<class 'sklearn.ensemble._forest.RandomForestClassifier'> (7738, 30) (7738, 1) phishing mutual_info\n",
      "<class 'sklearn.ensemble._forest.RandomForestClassifier'> (7738, 30) (7738, 1) phishing f_test\n",
      "<class 'sklearn.ensemble._forest.RandomForestClassifier'> (7738, 30) (7738, 1) phishing pimp\n",
      "<class 'sklearn.ensemble._forest.RandomForestClassifier'> (7738, 30) (7738, 1) phishing shap\n",
      "<class 'sklearn.ensemble._forest.RandomForestClassifier'> (7738, 30) (7738, 1) phishing pearson\n",
      "<class 'sklearn.ensemble._forest.RandomForestClassifier'> (7738, 30) (7738, 1) phishing spearman\n",
      "<class 'sklearn.ensemble._forest.RandomForestClassifier'> (7738, 30) (7738, 1) phishing kendall\n",
      "<class 'sklearn.ensemble._forest.RandomForestClassifier'> (7738, 30) (7738, 1) phishing pps\n"
     ]
    },
    {
     "data": {
      "application/vnd.jupyter.widget-view+json": {
       "model_id": "3c79983406a1470f865a4801e27c1c3d",
       "version_major": 2,
       "version_minor": 0
      },
      "text/plain": [
       "Importance type progress for model 2:   0%|          | 0/9 [00:00<?, ?it/s]"
      ]
     },
     "metadata": {},
     "output_type": "display_data"
    },
    {
     "name": "stdout",
     "output_type": "stream",
     "text": [
      "<class 'xgboost.sklearn.XGBClassifier'> (7738, 30) (7738, 1) phishing mutual_info\n",
      "<class 'xgboost.sklearn.XGBClassifier'> (7738, 30) (7738, 1) phishing f_test\n",
      "<class 'xgboost.sklearn.XGBClassifier'> (7738, 30) (7738, 1) phishing pimp\n",
      "<class 'xgboost.sklearn.XGBClassifier'> (7738, 30) (7738, 1) phishing shap\n",
      "<class 'xgboost.sklearn.XGBClassifier'> (7738, 30) (7738, 1) phishing pearson\n",
      "<class 'xgboost.sklearn.XGBClassifier'> (7738, 30) (7738, 1) phishing spearman\n",
      "<class 'xgboost.sklearn.XGBClassifier'> (7738, 30) (7738, 1) phishing kendall\n",
      "<class 'xgboost.sklearn.XGBClassifier'> (7738, 30) (7738, 1) phishing pps\n"
     ]
    },
    {
     "data": {
      "application/vnd.jupyter.widget-view+json": {
       "model_id": "b76ea7566bf84f0798961a9a7f36e12c",
       "version_major": 2,
       "version_minor": 0
      },
      "text/plain": [
       "Model progress for dataset 3:   0%|          | 0/3 [00:00<?, ?it/s]"
      ]
     },
     "metadata": {},
     "output_type": "display_data"
    },
    {
     "data": {
      "application/vnd.jupyter.widget-view+json": {
       "model_id": "f9236d55dfc74b1393a3357788ccd47b",
       "version_major": 2,
       "version_minor": 0
      },
      "text/plain": [
       "Importance type progress for model 0:   0%|          | 0/9 [00:00<?, ?it/s]"
      ]
     },
     "metadata": {},
     "output_type": "display_data"
    },
    {
     "name": "stdout",
     "output_type": "stream",
     "text": [
      "<class 'sklearn.tree._classes.DecisionTreeClassifier'> (5686, 22) (5686, 1) mushroom mutual_info\n",
      "<class 'sklearn.tree._classes.DecisionTreeClassifier'> (5686, 22) (5686, 1) mushroom f_test\n",
      "<class 'sklearn.tree._classes.DecisionTreeClassifier'> (5686, 22) (5686, 1) mushroom pimp\n",
      "<class 'sklearn.tree._classes.DecisionTreeClassifier'> (5686, 22) (5686, 1) mushroom shap\n",
      "<class 'sklearn.tree._classes.DecisionTreeClassifier'> (5686, 22) (5686, 1) mushroom pearson\n",
      "<class 'sklearn.tree._classes.DecisionTreeClassifier'> (5686, 22) (5686, 1) mushroom spearman\n",
      "<class 'sklearn.tree._classes.DecisionTreeClassifier'> (5686, 22) (5686, 1) mushroom kendall\n",
      "<class 'sklearn.tree._classes.DecisionTreeClassifier'> (5686, 22) (5686, 1) mushroom pps\n"
     ]
    },
    {
     "data": {
      "application/vnd.jupyter.widget-view+json": {
       "model_id": "68e86108b93e4f919540560e80b2cef5",
       "version_major": 2,
       "version_minor": 0
      },
      "text/plain": [
       "Importance type progress for model 1:   0%|          | 0/9 [00:00<?, ?it/s]"
      ]
     },
     "metadata": {},
     "output_type": "display_data"
    },
    {
     "name": "stdout",
     "output_type": "stream",
     "text": [
      "<class 'sklearn.ensemble._forest.RandomForestClassifier'> (5686, 22) (5686, 1) mushroom mutual_info\n",
      "<class 'sklearn.ensemble._forest.RandomForestClassifier'> (5686, 22) (5686, 1) mushroom f_test\n",
      "<class 'sklearn.ensemble._forest.RandomForestClassifier'> (5686, 22) (5686, 1) mushroom pimp\n",
      "<class 'sklearn.ensemble._forest.RandomForestClassifier'> (5686, 22) (5686, 1) mushroom shap\n",
      "<class 'sklearn.ensemble._forest.RandomForestClassifier'> (5686, 22) (5686, 1) mushroom pearson\n",
      "<class 'sklearn.ensemble._forest.RandomForestClassifier'> (5686, 22) (5686, 1) mushroom spearman\n",
      "<class 'sklearn.ensemble._forest.RandomForestClassifier'> (5686, 22) (5686, 1) mushroom kendall\n",
      "<class 'sklearn.ensemble._forest.RandomForestClassifier'> (5686, 22) (5686, 1) mushroom pps\n"
     ]
    },
    {
     "data": {
      "application/vnd.jupyter.widget-view+json": {
       "model_id": "6a74e91cb8a1427bb5f0313271ddd41e",
       "version_major": 2,
       "version_minor": 0
      },
      "text/plain": [
       "Importance type progress for model 2:   0%|          | 0/9 [00:00<?, ?it/s]"
      ]
     },
     "metadata": {},
     "output_type": "display_data"
    },
    {
     "name": "stdout",
     "output_type": "stream",
     "text": [
      "<class 'xgboost.sklearn.XGBClassifier'> (5686, 22) (5686, 1) mushroom mutual_info\n",
      "<class 'xgboost.sklearn.XGBClassifier'> (5686, 22) (5686, 1) mushroom f_test\n",
      "<class 'xgboost.sklearn.XGBClassifier'> (5686, 22) (5686, 1) mushroom pimp\n",
      "<class 'xgboost.sklearn.XGBClassifier'> (5686, 22) (5686, 1) mushroom shap\n",
      "<class 'xgboost.sklearn.XGBClassifier'> (5686, 22) (5686, 1) mushroom pearson\n",
      "<class 'xgboost.sklearn.XGBClassifier'> (5686, 22) (5686, 1) mushroom spearman\n",
      "<class 'xgboost.sklearn.XGBClassifier'> (5686, 22) (5686, 1) mushroom kendall\n",
      "<class 'xgboost.sklearn.XGBClassifier'> (5686, 22) (5686, 1) mushroom pps\n"
     ]
    },
    {
     "data": {
      "application/vnd.jupyter.widget-view+json": {
       "model_id": "6bc472847c104552a40fe4555557bc9b",
       "version_major": 2,
       "version_minor": 0
      },
      "text/plain": [
       "Dataset progress:   0%|          | 0/4 [00:00<?, ?it/s]"
      ]
     },
     "metadata": {},
     "output_type": "display_data"
    },
    {
     "data": {
      "application/vnd.jupyter.widget-view+json": {
       "model_id": "2917f0c672e9458991edc96d989673f4",
       "version_major": 2,
       "version_minor": 0
      },
      "text/plain": [
       "Model progress for dataset 0:   0%|          | 0/3 [00:00<?, ?it/s]"
      ]
     },
     "metadata": {},
     "output_type": "display_data"
    },
    {
     "data": {
      "application/vnd.jupyter.widget-view+json": {
       "model_id": "a9c1a86d2d8b4acfa17db6cf9685146c",
       "version_major": 2,
       "version_minor": 0
      },
      "text/plain": [
       "Importance type progress for model 0:   0%|          | 0/9 [00:00<?, ?it/s]"
      ]
     },
     "metadata": {},
     "output_type": "display_data"
    },
    {
     "name": "stdout",
     "output_type": "stream",
     "text": [
      "<class 'sklearn.tree._classes.DecisionTreeClassifier'> (124, 13) (124, 1) wine mutual_info\n",
      "<class 'sklearn.tree._classes.DecisionTreeClassifier'> (124, 13) (124, 1) wine f_test\n",
      "<class 'sklearn.tree._classes.DecisionTreeClassifier'> (124, 13) (124, 1) wine pimp\n",
      "<class 'sklearn.tree._classes.DecisionTreeClassifier'> (124, 13) (124, 1) wine shap\n",
      "<class 'sklearn.tree._classes.DecisionTreeClassifier'> (124, 13) (124, 1) wine pearson\n",
      "<class 'sklearn.tree._classes.DecisionTreeClassifier'> (124, 13) (124, 1) wine spearman\n",
      "<class 'sklearn.tree._classes.DecisionTreeClassifier'> (124, 13) (124, 1) wine kendall\n",
      "<class 'sklearn.tree._classes.DecisionTreeClassifier'> (124, 13) (124, 1) wine pps\n"
     ]
    },
    {
     "data": {
      "application/vnd.jupyter.widget-view+json": {
       "model_id": "e1b666c87fa449deacf1bd408fb0e359",
       "version_major": 2,
       "version_minor": 0
      },
      "text/plain": [
       "Importance type progress for model 1:   0%|          | 0/9 [00:00<?, ?it/s]"
      ]
     },
     "metadata": {},
     "output_type": "display_data"
    },
    {
     "name": "stdout",
     "output_type": "stream",
     "text": [
      "<class 'sklearn.ensemble._forest.RandomForestClassifier'> (124, 13) (124, 1) wine mutual_info\n",
      "<class 'sklearn.ensemble._forest.RandomForestClassifier'> (124, 13) (124, 1) wine f_test\n",
      "<class 'sklearn.ensemble._forest.RandomForestClassifier'> (124, 13) (124, 1) wine pimp\n",
      "<class 'sklearn.ensemble._forest.RandomForestClassifier'> (124, 13) (124, 1) wine shap\n",
      "<class 'sklearn.ensemble._forest.RandomForestClassifier'> (124, 13) (124, 1) wine pearson\n",
      "<class 'sklearn.ensemble._forest.RandomForestClassifier'> (124, 13) (124, 1) wine spearman\n",
      "<class 'sklearn.ensemble._forest.RandomForestClassifier'> (124, 13) (124, 1) wine kendall\n",
      "<class 'sklearn.ensemble._forest.RandomForestClassifier'> (124, 13) (124, 1) wine pps\n"
     ]
    },
    {
     "data": {
      "application/vnd.jupyter.widget-view+json": {
       "model_id": "40cdab1e5e224947825eb72875b948df",
       "version_major": 2,
       "version_minor": 0
      },
      "text/plain": [
       "Importance type progress for model 2:   0%|          | 0/9 [00:00<?, ?it/s]"
      ]
     },
     "metadata": {},
     "output_type": "display_data"
    },
    {
     "name": "stdout",
     "output_type": "stream",
     "text": [
      "<class 'xgboost.sklearn.XGBClassifier'> (124, 13) (124, 1) wine mutual_info\n",
      "<class 'xgboost.sklearn.XGBClassifier'> (124, 13) (124, 1) wine f_test\n",
      "<class 'xgboost.sklearn.XGBClassifier'> (124, 13) (124, 1) wine pimp\n",
      "<class 'xgboost.sklearn.XGBClassifier'> (124, 13) (124, 1) wine shap\n",
      "<class 'xgboost.sklearn.XGBClassifier'> (124, 13) (124, 1) wine pearson\n",
      "<class 'xgboost.sklearn.XGBClassifier'> (124, 13) (124, 1) wine spearman\n",
      "<class 'xgboost.sklearn.XGBClassifier'> (124, 13) (124, 1) wine kendall\n",
      "<class 'xgboost.sklearn.XGBClassifier'> (124, 13) (124, 1) wine pps\n"
     ]
    },
    {
     "data": {
      "application/vnd.jupyter.widget-view+json": {
       "model_id": "0ee0796a19624d2a88213ff633583051",
       "version_major": 2,
       "version_minor": 0
      },
      "text/plain": [
       "Model progress for dataset 1:   0%|          | 0/3 [00:00<?, ?it/s]"
      ]
     },
     "metadata": {},
     "output_type": "display_data"
    },
    {
     "data": {
      "application/vnd.jupyter.widget-view+json": {
       "model_id": "a71974525a2b4dec9d48d7408ee6d265",
       "version_major": 2,
       "version_minor": 0
      },
      "text/plain": [
       "Importance type progress for model 0:   0%|          | 0/9 [00:00<?, ?it/s]"
      ]
     },
     "metadata": {},
     "output_type": "display_data"
    },
    {
     "name": "stdout",
     "output_type": "stream",
     "text": [
      "<class 'sklearn.tree._classes.DecisionTreeClassifier'> (398, 30) (398, 1) breast_cancer mutual_info\n",
      "<class 'sklearn.tree._classes.DecisionTreeClassifier'> (398, 30) (398, 1) breast_cancer f_test\n",
      "<class 'sklearn.tree._classes.DecisionTreeClassifier'> (398, 30) (398, 1) breast_cancer pimp\n",
      "<class 'sklearn.tree._classes.DecisionTreeClassifier'> (398, 30) (398, 1) breast_cancer shap\n",
      "<class 'sklearn.tree._classes.DecisionTreeClassifier'> (398, 30) (398, 1) breast_cancer pearson\n",
      "<class 'sklearn.tree._classes.DecisionTreeClassifier'> (398, 30) (398, 1) breast_cancer spearman\n",
      "<class 'sklearn.tree._classes.DecisionTreeClassifier'> (398, 30) (398, 1) breast_cancer kendall\n",
      "<class 'sklearn.tree._classes.DecisionTreeClassifier'> (398, 30) (398, 1) breast_cancer pps\n"
     ]
    },
    {
     "data": {
      "application/vnd.jupyter.widget-view+json": {
       "model_id": "e7f448e8a46842c98d23303669998812",
       "version_major": 2,
       "version_minor": 0
      },
      "text/plain": [
       "Importance type progress for model 1:   0%|          | 0/9 [00:00<?, ?it/s]"
      ]
     },
     "metadata": {},
     "output_type": "display_data"
    },
    {
     "name": "stdout",
     "output_type": "stream",
     "text": [
      "<class 'sklearn.ensemble._forest.RandomForestClassifier'> (398, 30) (398, 1) breast_cancer mutual_info\n",
      "<class 'sklearn.ensemble._forest.RandomForestClassifier'> (398, 30) (398, 1) breast_cancer f_test\n",
      "<class 'sklearn.ensemble._forest.RandomForestClassifier'> (398, 30) (398, 1) breast_cancer pimp\n",
      "<class 'sklearn.ensemble._forest.RandomForestClassifier'> (398, 30) (398, 1) breast_cancer shap\n",
      "<class 'sklearn.ensemble._forest.RandomForestClassifier'> (398, 30) (398, 1) breast_cancer pearson\n",
      "<class 'sklearn.ensemble._forest.RandomForestClassifier'> (398, 30) (398, 1) breast_cancer spearman\n",
      "<class 'sklearn.ensemble._forest.RandomForestClassifier'> (398, 30) (398, 1) breast_cancer kendall\n",
      "<class 'sklearn.ensemble._forest.RandomForestClassifier'> (398, 30) (398, 1) breast_cancer pps\n"
     ]
    },
    {
     "data": {
      "application/vnd.jupyter.widget-view+json": {
       "model_id": "c483512848584c94b85fb5f6b98b4f09",
       "version_major": 2,
       "version_minor": 0
      },
      "text/plain": [
       "Importance type progress for model 2:   0%|          | 0/9 [00:00<?, ?it/s]"
      ]
     },
     "metadata": {},
     "output_type": "display_data"
    },
    {
     "name": "stdout",
     "output_type": "stream",
     "text": [
      "<class 'xgboost.sklearn.XGBClassifier'> (398, 30) (398, 1) breast_cancer mutual_info\n",
      "<class 'xgboost.sklearn.XGBClassifier'> (398, 30) (398, 1) breast_cancer f_test\n",
      "<class 'xgboost.sklearn.XGBClassifier'> (398, 30) (398, 1) breast_cancer pimp\n",
      "<class 'xgboost.sklearn.XGBClassifier'> (398, 30) (398, 1) breast_cancer shap\n",
      "<class 'xgboost.sklearn.XGBClassifier'> (398, 30) (398, 1) breast_cancer pearson\n",
      "<class 'xgboost.sklearn.XGBClassifier'> (398, 30) (398, 1) breast_cancer spearman\n",
      "<class 'xgboost.sklearn.XGBClassifier'> (398, 30) (398, 1) breast_cancer kendall\n",
      "<class 'xgboost.sklearn.XGBClassifier'> (398, 30) (398, 1) breast_cancer pps\n"
     ]
    },
    {
     "data": {
      "application/vnd.jupyter.widget-view+json": {
       "model_id": "22cdd2684b56492ebaa4f377cdb343ed",
       "version_major": 2,
       "version_minor": 0
      },
      "text/plain": [
       "Model progress for dataset 2:   0%|          | 0/3 [00:00<?, ?it/s]"
      ]
     },
     "metadata": {},
     "output_type": "display_data"
    },
    {
     "data": {
      "application/vnd.jupyter.widget-view+json": {
       "model_id": "c8281df56a5c4324a8b96533ddb2fc67",
       "version_major": 2,
       "version_minor": 0
      },
      "text/plain": [
       "Importance type progress for model 0:   0%|          | 0/9 [00:00<?, ?it/s]"
      ]
     },
     "metadata": {},
     "output_type": "display_data"
    },
    {
     "name": "stdout",
     "output_type": "stream",
     "text": [
      "<class 'sklearn.tree._classes.DecisionTreeClassifier'> (7738, 30) (7738, 1) phishing mutual_info\n",
      "<class 'sklearn.tree._classes.DecisionTreeClassifier'> (7738, 30) (7738, 1) phishing f_test\n",
      "<class 'sklearn.tree._classes.DecisionTreeClassifier'> (7738, 30) (7738, 1) phishing pimp\n",
      "<class 'sklearn.tree._classes.DecisionTreeClassifier'> (7738, 30) (7738, 1) phishing shap\n",
      "<class 'sklearn.tree._classes.DecisionTreeClassifier'> (7738, 30) (7738, 1) phishing pearson\n",
      "<class 'sklearn.tree._classes.DecisionTreeClassifier'> (7738, 30) (7738, 1) phishing spearman\n",
      "<class 'sklearn.tree._classes.DecisionTreeClassifier'> (7738, 30) (7738, 1) phishing kendall\n",
      "<class 'sklearn.tree._classes.DecisionTreeClassifier'> (7738, 30) (7738, 1) phishing pps\n"
     ]
    },
    {
     "data": {
      "application/vnd.jupyter.widget-view+json": {
       "model_id": "459fb5de2371401c886bdcfa21ec1a88",
       "version_major": 2,
       "version_minor": 0
      },
      "text/plain": [
       "Importance type progress for model 1:   0%|          | 0/9 [00:00<?, ?it/s]"
      ]
     },
     "metadata": {},
     "output_type": "display_data"
    },
    {
     "name": "stdout",
     "output_type": "stream",
     "text": [
      "<class 'sklearn.ensemble._forest.RandomForestClassifier'> (7738, 30) (7738, 1) phishing mutual_info\n",
      "<class 'sklearn.ensemble._forest.RandomForestClassifier'> (7738, 30) (7738, 1) phishing f_test\n",
      "<class 'sklearn.ensemble._forest.RandomForestClassifier'> (7738, 30) (7738, 1) phishing pimp\n",
      "<class 'sklearn.ensemble._forest.RandomForestClassifier'> (7738, 30) (7738, 1) phishing shap\n",
      "<class 'sklearn.ensemble._forest.RandomForestClassifier'> (7738, 30) (7738, 1) phishing pearson\n",
      "<class 'sklearn.ensemble._forest.RandomForestClassifier'> (7738, 30) (7738, 1) phishing spearman\n",
      "<class 'sklearn.ensemble._forest.RandomForestClassifier'> (7738, 30) (7738, 1) phishing kendall\n",
      "<class 'sklearn.ensemble._forest.RandomForestClassifier'> (7738, 30) (7738, 1) phishing pps\n"
     ]
    },
    {
     "data": {
      "application/vnd.jupyter.widget-view+json": {
       "model_id": "99be0371c34849c582d493b9b5005525",
       "version_major": 2,
       "version_minor": 0
      },
      "text/plain": [
       "Importance type progress for model 2:   0%|          | 0/9 [00:00<?, ?it/s]"
      ]
     },
     "metadata": {},
     "output_type": "display_data"
    },
    {
     "name": "stdout",
     "output_type": "stream",
     "text": [
      "<class 'xgboost.sklearn.XGBClassifier'> (7738, 30) (7738, 1) phishing mutual_info\n",
      "<class 'xgboost.sklearn.XGBClassifier'> (7738, 30) (7738, 1) phishing f_test\n",
      "<class 'xgboost.sklearn.XGBClassifier'> (7738, 30) (7738, 1) phishing pimp\n",
      "<class 'xgboost.sklearn.XGBClassifier'> (7738, 30) (7738, 1) phishing shap\n",
      "<class 'xgboost.sklearn.XGBClassifier'> (7738, 30) (7738, 1) phishing pearson\n",
      "<class 'xgboost.sklearn.XGBClassifier'> (7738, 30) (7738, 1) phishing spearman\n",
      "<class 'xgboost.sklearn.XGBClassifier'> (7738, 30) (7738, 1) phishing kendall\n",
      "<class 'xgboost.sklearn.XGBClassifier'> (7738, 30) (7738, 1) phishing pps\n"
     ]
    },
    {
     "data": {
      "application/vnd.jupyter.widget-view+json": {
       "model_id": "46f662dc8b684d78b79bd3b7b94fe811",
       "version_major": 2,
       "version_minor": 0
      },
      "text/plain": [
       "Model progress for dataset 3:   0%|          | 0/3 [00:00<?, ?it/s]"
      ]
     },
     "metadata": {},
     "output_type": "display_data"
    },
    {
     "data": {
      "application/vnd.jupyter.widget-view+json": {
       "model_id": "43a8b7b3383a4ed691a2a465e342d0a3",
       "version_major": 2,
       "version_minor": 0
      },
      "text/plain": [
       "Importance type progress for model 0:   0%|          | 0/9 [00:00<?, ?it/s]"
      ]
     },
     "metadata": {},
     "output_type": "display_data"
    },
    {
     "name": "stdout",
     "output_type": "stream",
     "text": [
      "<class 'sklearn.tree._classes.DecisionTreeClassifier'> (5686, 22) (5686, 1) mushroom mutual_info\n",
      "<class 'sklearn.tree._classes.DecisionTreeClassifier'> (5686, 22) (5686, 1) mushroom f_test\n",
      "<class 'sklearn.tree._classes.DecisionTreeClassifier'> (5686, 22) (5686, 1) mushroom pimp\n",
      "<class 'sklearn.tree._classes.DecisionTreeClassifier'> (5686, 22) (5686, 1) mushroom shap\n",
      "<class 'sklearn.tree._classes.DecisionTreeClassifier'> (5686, 22) (5686, 1) mushroom pearson\n",
      "<class 'sklearn.tree._classes.DecisionTreeClassifier'> (5686, 22) (5686, 1) mushroom spearman\n",
      "<class 'sklearn.tree._classes.DecisionTreeClassifier'> (5686, 22) (5686, 1) mushroom kendall\n",
      "<class 'sklearn.tree._classes.DecisionTreeClassifier'> (5686, 22) (5686, 1) mushroom pps\n"
     ]
    },
    {
     "data": {
      "application/vnd.jupyter.widget-view+json": {
       "model_id": "c5ed1259ced340c3bc67b0c1375af9dc",
       "version_major": 2,
       "version_minor": 0
      },
      "text/plain": [
       "Importance type progress for model 1:   0%|          | 0/9 [00:00<?, ?it/s]"
      ]
     },
     "metadata": {},
     "output_type": "display_data"
    },
    {
     "name": "stdout",
     "output_type": "stream",
     "text": [
      "<class 'sklearn.ensemble._forest.RandomForestClassifier'> (5686, 22) (5686, 1) mushroom mutual_info\n",
      "<class 'sklearn.ensemble._forest.RandomForestClassifier'> (5686, 22) (5686, 1) mushroom f_test\n",
      "<class 'sklearn.ensemble._forest.RandomForestClassifier'> (5686, 22) (5686, 1) mushroom pimp\n",
      "<class 'sklearn.ensemble._forest.RandomForestClassifier'> (5686, 22) (5686, 1) mushroom shap\n",
      "<class 'sklearn.ensemble._forest.RandomForestClassifier'> (5686, 22) (5686, 1) mushroom pearson\n",
      "<class 'sklearn.ensemble._forest.RandomForestClassifier'> (5686, 22) (5686, 1) mushroom spearman\n",
      "<class 'sklearn.ensemble._forest.RandomForestClassifier'> (5686, 22) (5686, 1) mushroom kendall\n",
      "<class 'sklearn.ensemble._forest.RandomForestClassifier'> (5686, 22) (5686, 1) mushroom pps\n"
     ]
    },
    {
     "data": {
      "application/vnd.jupyter.widget-view+json": {
       "model_id": "98959ef4b22e49b1bb7b2ee7bc1423ac",
       "version_major": 2,
       "version_minor": 0
      },
      "text/plain": [
       "Importance type progress for model 2:   0%|          | 0/9 [00:00<?, ?it/s]"
      ]
     },
     "metadata": {},
     "output_type": "display_data"
    },
    {
     "name": "stdout",
     "output_type": "stream",
     "text": [
      "<class 'xgboost.sklearn.XGBClassifier'> (5686, 22) (5686, 1) mushroom mutual_info\n",
      "<class 'xgboost.sklearn.XGBClassifier'> (5686, 22) (5686, 1) mushroom f_test\n",
      "<class 'xgboost.sklearn.XGBClassifier'> (5686, 22) (5686, 1) mushroom pimp\n",
      "<class 'xgboost.sklearn.XGBClassifier'> (5686, 22) (5686, 1) mushroom shap\n",
      "<class 'xgboost.sklearn.XGBClassifier'> (5686, 22) (5686, 1) mushroom pearson\n",
      "<class 'xgboost.sklearn.XGBClassifier'> (5686, 22) (5686, 1) mushroom spearman\n",
      "<class 'xgboost.sklearn.XGBClassifier'> (5686, 22) (5686, 1) mushroom kendall\n",
      "<class 'xgboost.sklearn.XGBClassifier'> (5686, 22) (5686, 1) mushroom pps\n"
     ]
    },
    {
     "data": {
      "application/vnd.jupyter.widget-view+json": {
       "model_id": "a9e64afbbd044ade822a85171f19c0b3",
       "version_major": 2,
       "version_minor": 0
      },
      "text/plain": [
       "Dataset progress:   0%|          | 0/4 [00:00<?, ?it/s]"
      ]
     },
     "metadata": {},
     "output_type": "display_data"
    },
    {
     "data": {
      "application/vnd.jupyter.widget-view+json": {
       "model_id": "157c501c724d47eb85a9b6c86d4f35ac",
       "version_major": 2,
       "version_minor": 0
      },
      "text/plain": [
       "Model progress for dataset 0:   0%|          | 0/3 [00:00<?, ?it/s]"
      ]
     },
     "metadata": {},
     "output_type": "display_data"
    },
    {
     "data": {
      "application/vnd.jupyter.widget-view+json": {
       "model_id": "2cf1d83d76c9436b91e6b72023816e5f",
       "version_major": 2,
       "version_minor": 0
      },
      "text/plain": [
       "Importance type progress for model 0:   0%|          | 0/9 [00:00<?, ?it/s]"
      ]
     },
     "metadata": {},
     "output_type": "display_data"
    },
    {
     "name": "stdout",
     "output_type": "stream",
     "text": [
      "<class 'sklearn.tree._classes.DecisionTreeClassifier'> (124, 13) (124, 1) wine mutual_info\n",
      "<class 'sklearn.tree._classes.DecisionTreeClassifier'> (124, 13) (124, 1) wine f_test\n",
      "<class 'sklearn.tree._classes.DecisionTreeClassifier'> (124, 13) (124, 1) wine pimp\n",
      "<class 'sklearn.tree._classes.DecisionTreeClassifier'> (124, 13) (124, 1) wine shap\n",
      "<class 'sklearn.tree._classes.DecisionTreeClassifier'> (124, 13) (124, 1) wine pearson\n",
      "<class 'sklearn.tree._classes.DecisionTreeClassifier'> (124, 13) (124, 1) wine spearman\n",
      "<class 'sklearn.tree._classes.DecisionTreeClassifier'> (124, 13) (124, 1) wine kendall\n",
      "<class 'sklearn.tree._classes.DecisionTreeClassifier'> (124, 13) (124, 1) wine pps\n"
     ]
    },
    {
     "data": {
      "application/vnd.jupyter.widget-view+json": {
       "model_id": "2f4e6230a8c541e2aeee88e3cedbafee",
       "version_major": 2,
       "version_minor": 0
      },
      "text/plain": [
       "Importance type progress for model 1:   0%|          | 0/9 [00:00<?, ?it/s]"
      ]
     },
     "metadata": {},
     "output_type": "display_data"
    },
    {
     "name": "stdout",
     "output_type": "stream",
     "text": [
      "<class 'sklearn.ensemble._forest.RandomForestClassifier'> (124, 13) (124, 1) wine mutual_info\n",
      "<class 'sklearn.ensemble._forest.RandomForestClassifier'> (124, 13) (124, 1) wine f_test\n",
      "<class 'sklearn.ensemble._forest.RandomForestClassifier'> (124, 13) (124, 1) wine pimp\n",
      "<class 'sklearn.ensemble._forest.RandomForestClassifier'> (124, 13) (124, 1) wine shap\n",
      "<class 'sklearn.ensemble._forest.RandomForestClassifier'> (124, 13) (124, 1) wine pearson\n",
      "<class 'sklearn.ensemble._forest.RandomForestClassifier'> (124, 13) (124, 1) wine spearman\n",
      "<class 'sklearn.ensemble._forest.RandomForestClassifier'> (124, 13) (124, 1) wine kendall\n",
      "<class 'sklearn.ensemble._forest.RandomForestClassifier'> (124, 13) (124, 1) wine pps\n"
     ]
    },
    {
     "data": {
      "application/vnd.jupyter.widget-view+json": {
       "model_id": "cbc171767f89442aaafcbaf5853544be",
       "version_major": 2,
       "version_minor": 0
      },
      "text/plain": [
       "Importance type progress for model 2:   0%|          | 0/9 [00:00<?, ?it/s]"
      ]
     },
     "metadata": {},
     "output_type": "display_data"
    },
    {
     "name": "stdout",
     "output_type": "stream",
     "text": [
      "<class 'xgboost.sklearn.XGBClassifier'> (124, 13) (124, 1) wine mutual_info\n",
      "<class 'xgboost.sklearn.XGBClassifier'> (124, 13) (124, 1) wine f_test\n",
      "<class 'xgboost.sklearn.XGBClassifier'> (124, 13) (124, 1) wine pimp\n",
      "<class 'xgboost.sklearn.XGBClassifier'> (124, 13) (124, 1) wine shap\n",
      "<class 'xgboost.sklearn.XGBClassifier'> (124, 13) (124, 1) wine pearson\n",
      "<class 'xgboost.sklearn.XGBClassifier'> (124, 13) (124, 1) wine spearman\n",
      "<class 'xgboost.sklearn.XGBClassifier'> (124, 13) (124, 1) wine kendall\n",
      "<class 'xgboost.sklearn.XGBClassifier'> (124, 13) (124, 1) wine pps\n"
     ]
    },
    {
     "data": {
      "application/vnd.jupyter.widget-view+json": {
       "model_id": "ad5d327c66cd454f94cd1f3108f1a2be",
       "version_major": 2,
       "version_minor": 0
      },
      "text/plain": [
       "Model progress for dataset 1:   0%|          | 0/3 [00:00<?, ?it/s]"
      ]
     },
     "metadata": {},
     "output_type": "display_data"
    },
    {
     "data": {
      "application/vnd.jupyter.widget-view+json": {
       "model_id": "593a7f0419b741d7840d1e243200fd89",
       "version_major": 2,
       "version_minor": 0
      },
      "text/plain": [
       "Importance type progress for model 0:   0%|          | 0/9 [00:00<?, ?it/s]"
      ]
     },
     "metadata": {},
     "output_type": "display_data"
    },
    {
     "name": "stdout",
     "output_type": "stream",
     "text": [
      "<class 'sklearn.tree._classes.DecisionTreeClassifier'> (398, 30) (398, 1) breast_cancer mutual_info\n",
      "<class 'sklearn.tree._classes.DecisionTreeClassifier'> (398, 30) (398, 1) breast_cancer f_test\n",
      "<class 'sklearn.tree._classes.DecisionTreeClassifier'> (398, 30) (398, 1) breast_cancer pimp\n",
      "<class 'sklearn.tree._classes.DecisionTreeClassifier'> (398, 30) (398, 1) breast_cancer shap\n",
      "<class 'sklearn.tree._classes.DecisionTreeClassifier'> (398, 30) (398, 1) breast_cancer pearson\n",
      "<class 'sklearn.tree._classes.DecisionTreeClassifier'> (398, 30) (398, 1) breast_cancer spearman\n",
      "<class 'sklearn.tree._classes.DecisionTreeClassifier'> (398, 30) (398, 1) breast_cancer kendall\n",
      "<class 'sklearn.tree._classes.DecisionTreeClassifier'> (398, 30) (398, 1) breast_cancer pps\n"
     ]
    },
    {
     "data": {
      "application/vnd.jupyter.widget-view+json": {
       "model_id": "1d2de7941de14d238d8c89fceb310500",
       "version_major": 2,
       "version_minor": 0
      },
      "text/plain": [
       "Importance type progress for model 1:   0%|          | 0/9 [00:00<?, ?it/s]"
      ]
     },
     "metadata": {},
     "output_type": "display_data"
    },
    {
     "name": "stdout",
     "output_type": "stream",
     "text": [
      "<class 'sklearn.ensemble._forest.RandomForestClassifier'> (398, 30) (398, 1) breast_cancer mutual_info\n",
      "<class 'sklearn.ensemble._forest.RandomForestClassifier'> (398, 30) (398, 1) breast_cancer f_test\n",
      "<class 'sklearn.ensemble._forest.RandomForestClassifier'> (398, 30) (398, 1) breast_cancer pimp\n",
      "<class 'sklearn.ensemble._forest.RandomForestClassifier'> (398, 30) (398, 1) breast_cancer shap\n",
      "<class 'sklearn.ensemble._forest.RandomForestClassifier'> (398, 30) (398, 1) breast_cancer pearson\n",
      "<class 'sklearn.ensemble._forest.RandomForestClassifier'> (398, 30) (398, 1) breast_cancer spearman\n",
      "<class 'sklearn.ensemble._forest.RandomForestClassifier'> (398, 30) (398, 1) breast_cancer kendall\n",
      "<class 'sklearn.ensemble._forest.RandomForestClassifier'> (398, 30) (398, 1) breast_cancer pps\n"
     ]
    },
    {
     "data": {
      "application/vnd.jupyter.widget-view+json": {
       "model_id": "0d9facf3abcd4fa1ab140f1b7d6a190b",
       "version_major": 2,
       "version_minor": 0
      },
      "text/plain": [
       "Importance type progress for model 2:   0%|          | 0/9 [00:00<?, ?it/s]"
      ]
     },
     "metadata": {},
     "output_type": "display_data"
    },
    {
     "name": "stdout",
     "output_type": "stream",
     "text": [
      "<class 'xgboost.sklearn.XGBClassifier'> (398, 30) (398, 1) breast_cancer mutual_info\n",
      "<class 'xgboost.sklearn.XGBClassifier'> (398, 30) (398, 1) breast_cancer f_test\n",
      "<class 'xgboost.sklearn.XGBClassifier'> (398, 30) (398, 1) breast_cancer pimp\n",
      "<class 'xgboost.sklearn.XGBClassifier'> (398, 30) (398, 1) breast_cancer shap\n",
      "<class 'xgboost.sklearn.XGBClassifier'> (398, 30) (398, 1) breast_cancer pearson\n",
      "<class 'xgboost.sklearn.XGBClassifier'> (398, 30) (398, 1) breast_cancer spearman\n",
      "<class 'xgboost.sklearn.XGBClassifier'> (398, 30) (398, 1) breast_cancer kendall\n",
      "<class 'xgboost.sklearn.XGBClassifier'> (398, 30) (398, 1) breast_cancer pps\n"
     ]
    },
    {
     "data": {
      "application/vnd.jupyter.widget-view+json": {
       "model_id": "7e5b430d7d674de0b333b3f47dda59bf",
       "version_major": 2,
       "version_minor": 0
      },
      "text/plain": [
       "Model progress for dataset 2:   0%|          | 0/3 [00:00<?, ?it/s]"
      ]
     },
     "metadata": {},
     "output_type": "display_data"
    },
    {
     "data": {
      "application/vnd.jupyter.widget-view+json": {
       "model_id": "6a9ab8bdd57447ef9d6d14b929630223",
       "version_major": 2,
       "version_minor": 0
      },
      "text/plain": [
       "Importance type progress for model 0:   0%|          | 0/9 [00:00<?, ?it/s]"
      ]
     },
     "metadata": {},
     "output_type": "display_data"
    },
    {
     "name": "stdout",
     "output_type": "stream",
     "text": [
      "<class 'sklearn.tree._classes.DecisionTreeClassifier'> (7738, 30) (7738, 1) phishing mutual_info\n",
      "<class 'sklearn.tree._classes.DecisionTreeClassifier'> (7738, 30) (7738, 1) phishing f_test\n",
      "<class 'sklearn.tree._classes.DecisionTreeClassifier'> (7738, 30) (7738, 1) phishing pimp\n",
      "<class 'sklearn.tree._classes.DecisionTreeClassifier'> (7738, 30) (7738, 1) phishing shap\n",
      "<class 'sklearn.tree._classes.DecisionTreeClassifier'> (7738, 30) (7738, 1) phishing pearson\n",
      "<class 'sklearn.tree._classes.DecisionTreeClassifier'> (7738, 30) (7738, 1) phishing spearman\n",
      "<class 'sklearn.tree._classes.DecisionTreeClassifier'> (7738, 30) (7738, 1) phishing kendall\n",
      "<class 'sklearn.tree._classes.DecisionTreeClassifier'> (7738, 30) (7738, 1) phishing pps\n"
     ]
    },
    {
     "data": {
      "application/vnd.jupyter.widget-view+json": {
       "model_id": "61298a09f7d6460c9ddcd52805a3f513",
       "version_major": 2,
       "version_minor": 0
      },
      "text/plain": [
       "Importance type progress for model 1:   0%|          | 0/9 [00:00<?, ?it/s]"
      ]
     },
     "metadata": {},
     "output_type": "display_data"
    },
    {
     "name": "stdout",
     "output_type": "stream",
     "text": [
      "<class 'sklearn.ensemble._forest.RandomForestClassifier'> (7738, 30) (7738, 1) phishing mutual_info\n",
      "<class 'sklearn.ensemble._forest.RandomForestClassifier'> (7738, 30) (7738, 1) phishing f_test\n",
      "<class 'sklearn.ensemble._forest.RandomForestClassifier'> (7738, 30) (7738, 1) phishing pimp\n",
      "<class 'sklearn.ensemble._forest.RandomForestClassifier'> (7738, 30) (7738, 1) phishing shap\n",
      "<class 'sklearn.ensemble._forest.RandomForestClassifier'> (7738, 30) (7738, 1) phishing pearson\n",
      "<class 'sklearn.ensemble._forest.RandomForestClassifier'> (7738, 30) (7738, 1) phishing spearman\n",
      "<class 'sklearn.ensemble._forest.RandomForestClassifier'> (7738, 30) (7738, 1) phishing kendall\n",
      "<class 'sklearn.ensemble._forest.RandomForestClassifier'> (7738, 30) (7738, 1) phishing pps\n"
     ]
    },
    {
     "data": {
      "application/vnd.jupyter.widget-view+json": {
       "model_id": "c579ba56fc104b1e92b5f19b779c4358",
       "version_major": 2,
       "version_minor": 0
      },
      "text/plain": [
       "Importance type progress for model 2:   0%|          | 0/9 [00:00<?, ?it/s]"
      ]
     },
     "metadata": {},
     "output_type": "display_data"
    },
    {
     "name": "stdout",
     "output_type": "stream",
     "text": [
      "<class 'xgboost.sklearn.XGBClassifier'> (7738, 30) (7738, 1) phishing mutual_info\n",
      "<class 'xgboost.sklearn.XGBClassifier'> (7738, 30) (7738, 1) phishing f_test\n",
      "<class 'xgboost.sklearn.XGBClassifier'> (7738, 30) (7738, 1) phishing pimp\n",
      "<class 'xgboost.sklearn.XGBClassifier'> (7738, 30) (7738, 1) phishing shap\n",
      "<class 'xgboost.sklearn.XGBClassifier'> (7738, 30) (7738, 1) phishing pearson\n",
      "<class 'xgboost.sklearn.XGBClassifier'> (7738, 30) (7738, 1) phishing spearman\n",
      "<class 'xgboost.sklearn.XGBClassifier'> (7738, 30) (7738, 1) phishing kendall\n",
      "<class 'xgboost.sklearn.XGBClassifier'> (7738, 30) (7738, 1) phishing pps\n"
     ]
    },
    {
     "data": {
      "application/vnd.jupyter.widget-view+json": {
       "model_id": "d83a19b255b647c981397fabee6d458e",
       "version_major": 2,
       "version_minor": 0
      },
      "text/plain": [
       "Model progress for dataset 3:   0%|          | 0/3 [00:00<?, ?it/s]"
      ]
     },
     "metadata": {},
     "output_type": "display_data"
    },
    {
     "data": {
      "application/vnd.jupyter.widget-view+json": {
       "model_id": "1889e7ee7bc1445196f7a093c1710a90",
       "version_major": 2,
       "version_minor": 0
      },
      "text/plain": [
       "Importance type progress for model 0:   0%|          | 0/9 [00:00<?, ?it/s]"
      ]
     },
     "metadata": {},
     "output_type": "display_data"
    },
    {
     "name": "stdout",
     "output_type": "stream",
     "text": [
      "<class 'sklearn.tree._classes.DecisionTreeClassifier'> (5686, 22) (5686, 1) mushroom mutual_info\n",
      "<class 'sklearn.tree._classes.DecisionTreeClassifier'> (5686, 22) (5686, 1) mushroom f_test\n",
      "<class 'sklearn.tree._classes.DecisionTreeClassifier'> (5686, 22) (5686, 1) mushroom pimp\n",
      "<class 'sklearn.tree._classes.DecisionTreeClassifier'> (5686, 22) (5686, 1) mushroom shap\n",
      "<class 'sklearn.tree._classes.DecisionTreeClassifier'> (5686, 22) (5686, 1) mushroom pearson\n",
      "<class 'sklearn.tree._classes.DecisionTreeClassifier'> (5686, 22) (5686, 1) mushroom spearman\n",
      "<class 'sklearn.tree._classes.DecisionTreeClassifier'> (5686, 22) (5686, 1) mushroom kendall\n",
      "<class 'sklearn.tree._classes.DecisionTreeClassifier'> (5686, 22) (5686, 1) mushroom pps\n"
     ]
    },
    {
     "data": {
      "application/vnd.jupyter.widget-view+json": {
       "model_id": "3c19e371414a405a8512cc7c796f6d0e",
       "version_major": 2,
       "version_minor": 0
      },
      "text/plain": [
       "Importance type progress for model 1:   0%|          | 0/9 [00:00<?, ?it/s]"
      ]
     },
     "metadata": {},
     "output_type": "display_data"
    },
    {
     "name": "stdout",
     "output_type": "stream",
     "text": [
      "<class 'sklearn.ensemble._forest.RandomForestClassifier'> (5686, 22) (5686, 1) mushroom mutual_info\n",
      "<class 'sklearn.ensemble._forest.RandomForestClassifier'> (5686, 22) (5686, 1) mushroom f_test\n",
      "<class 'sklearn.ensemble._forest.RandomForestClassifier'> (5686, 22) (5686, 1) mushroom pimp\n",
      "<class 'sklearn.ensemble._forest.RandomForestClassifier'> (5686, 22) (5686, 1) mushroom shap\n",
      "<class 'sklearn.ensemble._forest.RandomForestClassifier'> (5686, 22) (5686, 1) mushroom pearson\n",
      "<class 'sklearn.ensemble._forest.RandomForestClassifier'> (5686, 22) (5686, 1) mushroom spearman\n",
      "<class 'sklearn.ensemble._forest.RandomForestClassifier'> (5686, 22) (5686, 1) mushroom kendall\n",
      "<class 'sklearn.ensemble._forest.RandomForestClassifier'> (5686, 22) (5686, 1) mushroom pps\n"
     ]
    },
    {
     "data": {
      "application/vnd.jupyter.widget-view+json": {
       "model_id": "22cd21333e80465eb86ec4c779391cbe",
       "version_major": 2,
       "version_minor": 0
      },
      "text/plain": [
       "Importance type progress for model 2:   0%|          | 0/9 [00:00<?, ?it/s]"
      ]
     },
     "metadata": {},
     "output_type": "display_data"
    },
    {
     "name": "stdout",
     "output_type": "stream",
     "text": [
      "<class 'xgboost.sklearn.XGBClassifier'> (5686, 22) (5686, 1) mushroom mutual_info\n",
      "<class 'xgboost.sklearn.XGBClassifier'> (5686, 22) (5686, 1) mushroom f_test\n",
      "<class 'xgboost.sklearn.XGBClassifier'> (5686, 22) (5686, 1) mushroom pimp\n",
      "<class 'xgboost.sklearn.XGBClassifier'> (5686, 22) (5686, 1) mushroom shap\n",
      "<class 'xgboost.sklearn.XGBClassifier'> (5686, 22) (5686, 1) mushroom pearson\n",
      "<class 'xgboost.sklearn.XGBClassifier'> (5686, 22) (5686, 1) mushroom spearman\n",
      "<class 'xgboost.sklearn.XGBClassifier'> (5686, 22) (5686, 1) mushroom kendall\n",
      "<class 'xgboost.sklearn.XGBClassifier'> (5686, 22) (5686, 1) mushroom pps\n"
     ]
    }
   ],
   "source": [
    "df_res = get_stats(imp_types, models, datasets, debug=True, \n",
    "                   random_states = random_states, dataset_states=dataset_states)"
   ]
  },
  {
   "cell_type": "code",
   "execution_count": 12,
   "metadata": {},
   "outputs": [],
   "source": [
    "# # debug\n",
    "# a = data.load_breast_cancer()\n",
    "# m = xgboost.XGBClassifier(random_state=0, n_jobs=-1, use_label_encoder=False,\n",
    "#                                verbosity=0)\n",
    "# split_arr = model_selection.train_test_split(a.data, a.target, test_size=0.3, random_state=0)\n",
    "# x_train = split_arr[0] \n",
    "# y_train = split_arr[2]\n",
    "# m.fit(x_train, y_train)\n",
    "# print(x_train.shape)\n",
    "# wat = abs(np.array(shap.TreeExplainer(m).shap_values(x_train))).sum(axis=0)\n",
    "# print(wat.shape)"
   ]
  },
  {
   "cell_type": "code",
   "execution_count": 13,
   "metadata": {},
   "outputs": [],
   "source": [
    "# import seaborn as sns\n",
    "\n",
    "# plot = sns.lineplot(x='iteration', y='mse_test', hue='imp_type',\n",
    "#             data=df_res.query('model == \"RandomForestClassifier\" and dataset == \"breast_cancer\"')\n",
    "#             )"
   ]
  },
  {
   "cell_type": "code",
   "execution_count": 14,
   "metadata": {},
   "outputs": [],
   "source": [
    "# import seaborn as sns\n",
    "\n",
    "# plot = sns.lineplot(x='iteration', y='mse_test', hue='imp_type',\n",
    "#             data=df_res.query('dataset == \"wine\" and model == \"RandomForestClassifier\"')\n",
    "#             )"
   ]
  },
  {
   "cell_type": "code",
   "execution_count": 15,
   "metadata": {},
   "outputs": [],
   "source": [
    "# export results to local dir as csv file\n",
    "df_res.to_csv(f'classification_real_data_{datetime.today().strftime(\"%Y-%b-%d-%H:%M:%S\")}.csv',\n",
    "             index=False)"
   ]
  },
  {
   "cell_type": "code",
   "execution_count": null,
   "metadata": {},
   "outputs": [],
   "source": []
  }
 ],
 "metadata": {
  "kernelspec": {
   "display_name": "Python 3",
   "language": "python",
   "name": "python3"
  },
  "language_info": {
   "codemirror_mode": {
    "name": "ipython",
    "version": 3
   },
   "file_extension": ".py",
   "mimetype": "text/x-python",
   "name": "python",
   "nbconvert_exporter": "python",
   "pygments_lexer": "ipython3",
   "version": "3.8.10"
  }
 },
 "nbformat": 4,
 "nbformat_minor": 4
}
