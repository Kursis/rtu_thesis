{
 "cells": [
  {
   "cell_type": "code",
   "execution_count": 159,
   "metadata": {},
   "outputs": [],
   "source": [
    "# # for colab compatibility\n",
    "# !pip install shap\n",
    "# !pip install ppscore\n",
    "# !pip install xgboost\n",
    "# !pip install lightgbm"
   ]
  },
  {
   "cell_type": "code",
   "execution_count": 160,
   "metadata": {},
   "outputs": [],
   "source": [
    "%run data_load_wrapper.ipynb"
   ]
  },
  {
   "cell_type": "code",
   "execution_count": 171,
   "metadata": {},
   "outputs": [],
   "source": [
    "from tqdm.notebook import trange\n",
    "import sklearn.datasets as data\n",
    "import pandas as pd\n",
    "from sklearn.inspection import permutation_importance\n",
    "from sklearn import *\n",
    "from sklearn.feature_selection import *\n",
    "from sklearn.datasets import make_classification\n",
    "from sklearn.utils import Bunch\n",
    "import matplotlib as plt\n",
    "import seaborn as sns\n",
    "from boruta import BorutaPy\n",
    "import shap\n",
    "import numpy as np\n",
    "import ppscore as pps\n",
    "from datetime import datetime\n",
    "import lightgbm as lgbm\n",
    "import xgboost"
   ]
  },
  {
   "cell_type": "code",
   "execution_count": 172,
   "metadata": {},
   "outputs": [],
   "source": [
    "# mse_test = metrics.matthews_corrcoef(y_test, res_test)\n",
    "# mse_train = metrics.matthews_corrcoef(y_train, res_train)     "
   ]
  },
  {
   "cell_type": "code",
   "execution_count": 173,
   "metadata": {},
   "outputs": [],
   "source": [
    "def sklearn_to_df(dataset, with_target=False):\n",
    "    if with_target==False:\n",
    "        df = pd.DataFrame(dataset.data, columns=dataset.feature_names)\n",
    "        y = dataset.target\n",
    "        return df, y\n",
    "    if with_target==True:\n",
    "        df = pd.DataFrame(dataset.data, columns=dataset.feature_names)\n",
    "        y = dataset.target\n",
    "        df = df.join(pd.Series(y, name='target'))\n",
    "        return df\n",
    "\n",
    "def get_feat_imp(imp_type, m, x_train, y_train, random_state):\n",
    "    imp_type_dict = {\n",
    "        'mutual_info' : 'mutual_info_classif(x_train, y_train)',\n",
    "        'f_test' : 'f_classif(x_train, y_train)[0]',       \n",
    "        'gini' : \"m.feature_importances_\",\n",
    "        'pimp' : f\"\"\"permutation_importance(m, x_train, y_train, n_repeats=5, \n",
    "        random_state={random_state}).importances_mean\"\"\",\n",
    "        'shap' : \"abs(np.array(shap.TreeExplainer(m).shap_values(x_train))).sum(axis=0)\",\n",
    "        'pps' : \"pps.predictors(x_train.join(y_train), 'target', sorted=False, output='df').model_score\",\n",
    "        'pearson' : \"abs(x_train.join(y_train).corr(method='pearson').target).drop('target', axis=0)\",\n",
    "        'spearman': \"abs(x_train.join(y_train).corr(method='spearman').target).drop('target', axis=0)\",\n",
    "        'kendall' : \"abs(x_train.join(y_train).corr(method='kendall').target).drop('target', axis=0)\"\n",
    "    }\n",
    "#     print(eval(imp_type_dict.get(imp_type)))\n",
    "    return eval(imp_type_dict.get(imp_type))\n",
    "\n",
    "def reduce_dataset(x_train, x_test, drop_index):\n",
    "    x_train = x_train.drop(x_train.columns[drop_index], axis=1)\n",
    "    x_test = x_test.drop(x_test.columns[drop_index], axis=1)\n",
    "    return x_train, x_test\n",
    "\n",
    "def eval_reduced(x_train, y_train, x_test, y_test, m, imp_type, \n",
    "                 dataset, dataset_str, random_state, dataset_state):\n",
    "    reduce_stats = []\n",
    "    columns_init = np.array(dataset.feature_names)\n",
    "#     dataset_name = dataset.filename.split('/')[-1]\n",
    "    for i in range(len(x_train.columns)):\n",
    "        mse_train, mse_test, drop_index, feat = model_fit(x_train, y_train, \n",
    "                                                     x_test, y_test, m, imp_type,\n",
    "                                                          random_state)\n",
    "        global_index = np.where(columns_init==feat);\n",
    "        global_index = global_index[0][0]\n",
    "        reduce_stats.append((i, global_index, feat, \n",
    "                             mse_train, mse_test, \n",
    "                             # get class name, remove trash\n",
    "                             str(m.__class__).split('.')[-1].replace(\"\\'\", '').strip('>'), \n",
    "                             imp_type, dataset_str, x_train.columns, \n",
    "                             random_state, dataset_state))\n",
    "        x_train, x_test = reduce_dataset(x_train, x_test, drop_index)\n",
    "    return reduce_stats\n",
    "\n",
    "def model_fit(x_train, y_train, x_test, y_test, m, imp_type, random_state):\n",
    "#     print(x_train.shape, y_train.shape)\n",
    "#     print(x_test.shape, y_test.shape)\n",
    "#     refactor1 into function get_metric(type={train, test})\n",
    "    m.fit(x_train, y_train)\n",
    "    res_train = m.predict(x_train)\n",
    "    res_test = m.predict(x_test)\n",
    "    mse_test = metrics.matthews_corrcoef(y_test, res_test)\n",
    "    mse_train = metrics.matthews_corrcoef(y_train, res_train)     \n",
    "    # get the index for feature with lowest global feature importance\n",
    "    imp = get_feat_imp(imp_type, m, x_train, y_train, random_state)\n",
    "    argmin_fi_index = imp.argmin()\n",
    "    feat = x_train.columns[argmin_fi_index]\n",
    "    return mse_train, mse_test, argmin_fi_index, feat\n",
    "\n",
    "# def eval_reduced_one_shot(x_train, y_train, x_test, y_test, m, imp_type, \n",
    "#                  dataset, dataset_str, random_state, dataset_state):\n",
    "    \n",
    "#     reduce_stats = []\n",
    "#     columns_init = np.array(x_train.columns)\n",
    "#     m.set_params(random_state = random_state)\n",
    "#     m.fit(x_train, y_train)\n",
    "# #     print(x_train.shape)\n",
    "# #     print(get_feat_imp(imp_type, m, x_train, y_train, random_state).shape)\n",
    "#     model_str = str(m.__class__).split('.')[-1].replace(\"\\'\", '').strip('>')\n",
    "# #     print(str(m.__class__).split('.')[-1].replace(\"\\'\", '').strip('>') == 'XGBClassifier')\n",
    "#     if model_str != 'XGBClassifier':\n",
    "#         fi_scores = get_feat_imp(imp_type, m, x_train, y_train, random_state)\n",
    "#         print(f'not xgbclas {fi_scores.shape}')\n",
    "# #         fi_scores = fi_scores.sum(axis=0)\n",
    "#     elif model_str == 'XGBClassifier' and dataset_str == 'wine':      \n",
    "#         fi_scores = get_feat_imp(imp_type, m, x_train, y_train, random_state)\n",
    "#         fi_scores = fi_scores.sum(axis=0)\n",
    "#     else:\n",
    "#         fi_scores = get_feat_imp(imp_type, m, x_train, y_train, random_state)\n",
    "#         fi_scores = fi_scores.sum(axis=0)\n",
    "#         print(fi_scores.shape)\n",
    "        \n",
    "# #         print(f'imp: {imp_type} \\n model: {m} \\n x_shape: {x_train.shape} \\n y_shape: {y_train.shape}')\n",
    "# #         print(f'arr_scores: {fi_scores} \\n shape: {fi_scores.shape}')\n",
    "# #     print(fi_scores)\n",
    "# #     print(fi_scores.shape)\n",
    "# #     print(x_train.shape, y_train.shape)\n",
    "#     for i in range(len(x_train.columns)):\n",
    "#         mse_train, mse_test, drop_index, feat = model_fit_one_shot(x_train, y_train, \n",
    "#                                                      x_test, y_test, m, fi_scores, \n",
    "#                                                         random_state)\n",
    "#         global_index = np.where(columns_init==feat);\n",
    "#         global_index = global_index[0][0]\n",
    "# #         print(global_index) \n",
    "# #         print(fi_scores)\n",
    "#         reduce_stats.append((i, global_index, feat, \n",
    "#                              mse_train, mse_test, \n",
    "#                              # get class name, remove trash\n",
    "#                              str(m.__class__).split('.')[-1].replace(\"\\'\", '').strip('>'), \n",
    "#                              imp_type, dataset_str, x_train.columns, \n",
    "#                              random_state, dataset_state))\n",
    "#         x_train, x_test = reduce_dataset(x_train, x_test, drop_index)\n",
    "# #         print(f'iter {i}')\n",
    "# #         print(f'local_index: {drop_index}')\n",
    "# #         print(f'global_index: {global_index}, \\n fi before: \\n {fi_scores}')\n",
    "# #         print(fi_scores.shape)\n",
    "#         fi_scores = np.array(fi_scores)\n",
    "#         fi_scores = np.delete(fi_scores, drop_index)\n",
    "# #         print(f'global_index: {global_index}, \\n fi after: \\n {fi_scores}')              \n",
    "#     return reduce_stats\n",
    "\n",
    "def model_fit_one_shot(x_train, y_train, x_test, y_test, m, fi_scores, \n",
    "                       random_state):\n",
    "#     print(x_train.shape, y_train.shape)\n",
    "#     print(fi_scores.shape)\n",
    "#     refactor1 into function get_metric(type={train, test})\n",
    "    m.set_params(random_state=random_state)\n",
    "    m.fit(x_train, y_train)\n",
    "    res_train = m.predict(x_train)\n",
    "    res_test = m.predict(x_test)\n",
    "    mse_test = metrics.matthews_corrcoef(y_test, res_test)\n",
    "    mse_train = metrics.matthews_corrcoef(y_train, res_train)     \n",
    "    # get the index for feature with lowest global feature importance\n",
    "    imp = fi_scores\n",
    "    argmin_fi_index = imp.argmin()\n",
    "    \n",
    "    feat = x_train.columns[argmin_fi_index]\n",
    "    return mse_train, mse_test, argmin_fi_index, feat"
   ]
  },
  {
   "cell_type": "code",
   "execution_count": 174,
   "metadata": {},
   "outputs": [],
   "source": [
    "def get_stats(imp_types, models, datasets, debug=False, random_states=[0], dataset_states=[0]):\n",
    "    results = []\n",
    "    datasets_str = list(datasets.keys())\n",
    "    datasets_data = datasets.items()\n",
    "    random_state = 0\n",
    "    \n",
    "    for ds in trange(len(dataset_states), desc='Data state progress'):\n",
    "        dataset_state = dataset_states[ds]\n",
    "        for r in trange(len(random_states), desc='Model random state progress'):\n",
    "            random_state = random_states[r]\n",
    "\n",
    "            for j in trange(len(datasets_str), desc=f'Dataset progress'):\n",
    "                dataset_str = datasets_str[j]\n",
    "                dataset = datasets.get(datasets_str[j])\n",
    "                df = sklearn_to_df(dataset, with_target=True)\n",
    "                x_train, x_test = model_selection.train_test_split(df, \n",
    "                                                                   test_size=0.3, \n",
    "                                                                   random_state=dataset_state,\n",
    "                                                                   stratify=df.target\n",
    "                                                                  )\n",
    "                columns_init = x_train.columns\n",
    "                y_train = pd.DataFrame(df.target[x_train.index], \n",
    "                                       index=x_train.index)\n",
    "                y_test = pd.DataFrame(df.target[x_test.index], \n",
    "                                      index=x_test.index)\n",
    "                # remove target column from x_train, x_test\n",
    "                x_train = x_train.drop('target', axis=1)\n",
    "                x_test = x_test.drop('target', axis=1)\n",
    "\n",
    "                for k in trange(len(models), desc=f'Model progress for dataset {j}'):\n",
    "                    m = models[k]\n",
    "#                     print(x_train, y_train, x_test, y_test)\n",
    "                    m.set_params(random_state=random_state)\n",
    "                    m.fit(x_train, y_train.target)\n",
    "                    res_test = m.predict(x_test)\n",
    "                    res_train = m.predict(x_train)\n",
    "                    mse_test = metrics.matthews_corrcoef(y_test, res_test)\n",
    "                    mse_train = metrics.matthews_corrcoef(y_train, res_train)    \n",
    "\n",
    "                    for i in trange(len(imp_types), desc=f'Importance type progress for model {k}'):\n",
    "                        \n",
    "                        if imp_types[i] in ['shap', 'pimp', 'pearson', 'spearman', 'kendall',\n",
    "                                            'pps', 'mutual_info', 'f_test']:   \n",
    "                            result = eval_reduced_one_shot(x_train, y_train, x_test, y_test, \n",
    "                                                           m, imp_types[i], \n",
    "                                                           dataset, dataset_str, \n",
    "                                                           random_state, dataset_state)\n",
    "                        else:\n",
    "                            result = eval_reduced(x_train, y_train.target, x_test, y_test, \n",
    "                                                  m, imp_types[i], dataset, dataset_str, \n",
    "                                                  random_state, dataset_state)\n",
    "                        results.extend(result)\n",
    "                df_res = pd.DataFrame(results, columns=['iteration', 'feat_ind', 'feat_name',\n",
    "                                                    'mcc_train', 'mcc_test','model', 'imp_type', \n",
    "                                                    'dataset', 'features_lst', \n",
    "                                                    'random_state', 'data_split'])\n",
    "        # shift features by 1 row, replace 0th iteration with 'full_set'\n",
    "        df_res['dropped_feature'] = df_res['feat_name'].shift(1)\n",
    "        df_res['dropped_feature'] = df_res['dropped_feature'].where(df_res['iteration'] != 0, 'full_set')\n",
    "        if debug==True:\n",
    "            repr_lst = ['iteration', 'dropped_feature', 'feat_ind', 'feat_name',\n",
    "                        'mcc_train', 'mcc_test','model', 'imp_type', \n",
    "                        'dataset', 'features_lst','random_state', 'data_split']\n",
    "        else:\n",
    "            repr_lst = ['iteration','dropped_feature','mse_train',\n",
    "         'mse_test','model','imp_type', 'dataset', 'random_state', 'data_split']\n",
    "        df_res = df_res[repr_lst]\n",
    "    return df_res"
   ]
  },
  {
   "cell_type": "code",
   "execution_count": 175,
   "metadata": {},
   "outputs": [],
   "source": [
    "def coerce_synthethic_datasets(samples, features, percent_informative, random_state):\n",
    "    data, target = make_classification(n_samples=samples, n_features=features, \n",
    "                                       n_informative=int(percent_informative*features),\n",
    "                                       n_redundant=2,\n",
    "                                       random_state=random_state\n",
    "                                      )\n",
    "    feature_names = [f'x_{i}' for i in range(features)]\n",
    "    # data, target, feature_names\n",
    "    data_bunch = Bunch(\n",
    "        data=data,\n",
    "        target=target,\n",
    "        feature_names=feature_names,\n",
    "        informative_features=feature_names[:int(percent_informative*features)]\n",
    "                        )\n",
    "    return data_bunch"
   ]
  },
  {
   "cell_type": "code",
   "execution_count": 176,
   "metadata": {},
   "outputs": [],
   "source": [
    "# for feat, samples in tuples:\n",
    "#     name = f'classif_features_{feat}_samples_{samples}'\n",
    "#     # generic method\n",
    "#     data_bunch = coerce_synthethic_datasets(n_samples=samples, n_features=feat, \n",
    "#                     n_informative=int(percent_informative*feat))\n",
    "    "
   ]
  },
  {
   "cell_type": "code",
   "execution_count": 177,
   "metadata": {},
   "outputs": [],
   "source": [
    "# dataset = coerce_synthethic_datasets(1000, 10, 0.2, 0)"
   ]
  },
  {
   "cell_type": "code",
   "execution_count": 178,
   "metadata": {},
   "outputs": [],
   "source": [
    "# for feat, samples in tuples:\n",
    "#     name = f'classif_features_{feat}_samples_{samples}'\n",
    "#     # generic method\n",
    "#     data, target = make_classification(n_samples=samples, n_features=feat, \n",
    "#                     n_informative=int(percent_informative*feat))\n",
    "    "
   ]
  },
  {
   "cell_type": "code",
   "execution_count": 179,
   "metadata": {},
   "outputs": [],
   "source": [
    "# {\n",
    "# f'classif_features_{feat}_samples_{samples}':\n",
    "#     make_classification(n_samples=samples, n_features=feat, \n",
    "#                     n_informative=percent_informative*feat)\n",
    "# for i, (feat, samples) in enumerate(tuples)\n",
    "# }"
   ]
  },
  {
   "cell_type": "code",
   "execution_count": 245,
   "metadata": {},
   "outputs": [],
   "source": [
    "imp_types = [\n",
    "             'gini',\n",
    "             'mutual_info',\n",
    "             'f_test',\n",
    "             'pimp', \n",
    "             'shap', \n",
    "             'pearson', \n",
    "             'spearman', \n",
    "             'kendall', \n",
    "             'pps'\n",
    "            ]\n",
    "models = [\n",
    "          tree.DecisionTreeClassifier(random_state=0), \n",
    "          ensemble.RandomForestClassifier(random_state=0, n_jobs=3), \n",
    "          xgboost.XGBClassifier(random_state=0, n_jobs=3, use_label_encoder=False,\n",
    "                               verbosity=0),\n",
    "         ]\n",
    "\n",
    "random_states = [i for i in range(1)]\n",
    "# synthethic_states = [i for i in range(1)]\n",
    "dataset_states = [i for i in range(1)]\n",
    "\n",
    "features = [10, 100]\n",
    "samples = [100, 1000]\n",
    "# features = [100]\n",
    "# samples = [1000]\n",
    "synthethic_states = [i for i in range(10)]\n",
    "percent_informative = 0.2\n",
    "\n",
    "tuples = []\n",
    "for i in features:\n",
    "    for j in samples:\n",
    "        for k in synthethic_states:            \n",
    "            tuples.append((i,j,k))\n",
    "datasets = {}"
   ]
  },
  {
   "cell_type": "code",
   "execution_count": 246,
   "metadata": {},
   "outputs": [],
   "source": [
    "for feat, samples, random_seed in tuples:\n",
    "    datasets[f'classif_features_{feat}_samples_{samples}_seed_{random_seed}'] = coerce_synthethic_datasets(samples, feat, 0.2, random_seed)"
   ]
  },
  {
   "cell_type": "code",
   "execution_count": 247,
   "metadata": {},
   "outputs": [],
   "source": [
    "import warnings\n",
    "warnings.filterwarnings('ignore')"
   ]
  },
  {
   "cell_type": "code",
   "execution_count": 248,
   "metadata": {},
   "outputs": [],
   "source": [
    "def eval_reduced_one_shot(x_train, y_train, x_test, y_test, m, imp_type, \n",
    "                 dataset, dataset_str, random_state, dataset_state):\n",
    "    \n",
    "    model_str = str(m.__class__).split('.')[-1].replace(\"\\'\", '').strip('>')\n",
    "    reduce_stats = []\n",
    "    columns_init = np.array(x_train.columns)\n",
    "    m.set_params(random_state = random_state)\n",
    "    print(m.__class__, x_train.shape, y_train.shape, dataset_str, imp_type)\n",
    "    if  dataset_str == 'wine' and model_str == 'XGBClassifier':      \n",
    "        m.set_params(num_class = 3)\n",
    "    m.fit(x_train, y_train)\n",
    "#     print(dataset_str, imp_type, m.__class__, x_train.shape, y_train.shape, random_state)\n",
    "    if imp_type == 'shap' and model_str != 'XGBClassifier':\n",
    "        fi_scores = get_feat_imp(imp_type, m, x_train, y_train, random_state)\n",
    "#         print(1)\n",
    "#         print(fi_scores.shape)\n",
    "        fi_scores = fi_scores.sum(axis=0)\n",
    "    elif model_str == 'XGBClassifier' and model_str == 'shap':\n",
    "        fi_scores = get_feat_imp(imp_type, m, x_train, y_train, random_state)\n",
    "#         fi_scores = fi_scores.sum(axis=0)\n",
    "#         print(2)\n",
    "#         print(fi_scores.shape)\n",
    "    elif model_str == 'XGBClassifier' and dataset_str == 'wine' and imp_type == 'shap':\n",
    "#         print(3)\n",
    "        fi_scores = get_feat_imp(imp_type, m, x_train, y_train, random_state)\n",
    "        fi_scores = fi_scores.sum(axis=0)\n",
    "#     elif model_str == 'XGBClassifier' and imp_type == 'shap':\n",
    "#         print(4)\n",
    "#         fi_scores = get_feat_imp(imp_type, m, x_train, y_train, random_state)\n",
    "#         fi_scores = fi_scores.sum(axis=0)\n",
    "    else:\n",
    "#         print(5)\n",
    "        fi_scores = get_feat_imp(imp_type, m, x_train, y_train, random_state)\n",
    "        \n",
    "    for i in range(len(x_train.columns)):\n",
    "        mse_train, mse_test, drop_index, feat = model_fit_one_shot(x_train, y_train, \n",
    "                                                     x_test, y_test, m, fi_scores, \n",
    "                                                        random_state)\n",
    "        global_index = np.where(columns_init==feat);\n",
    "        global_index = global_index[0][0]\n",
    "        reduce_stats.append((i, global_index, feat, \n",
    "                             mse_train, mse_test, \n",
    "                             # get class name, remove trash\n",
    "                             str(m.__class__).split('.')[-1].replace(\"\\'\", '').strip('>'), \n",
    "                             imp_type, dataset_str, x_train.columns, \n",
    "                             random_state, dataset_state))\n",
    "        x_train, x_test = reduce_dataset(x_train, x_test, drop_index)\n",
    "#         print(f'iter {i}')\n",
    "#         print(f'local_index: {drop_index}')\n",
    "#         print(f'global_index: {global_index}, \\n fi before: \\n {fi_scores}')\n",
    "#         print(fi_scores.shape)\n",
    "        fi_scores = np.array(fi_scores)\n",
    "        fi_scores = np.delete(fi_scores, drop_index)\n",
    "#         print(f'global_index: {global_index}, \\n fi after: \\n {fi_scores}')              \n",
    "    return reduce_stats"
   ]
  },
  {
   "cell_type": "code",
   "execution_count": 249,
   "metadata": {},
   "outputs": [
    {
     "data": {
      "application/vnd.jupyter.widget-view+json": {
       "model_id": "50553f0876b84884835a1d3427f94cf2",
       "version_major": 2,
       "version_minor": 0
      },
      "text/plain": [
       "Data state progress:   0%|          | 0/1 [00:00<?, ?it/s]"
      ]
     },
     "metadata": {},
     "output_type": "display_data"
    },
    {
     "data": {
      "application/vnd.jupyter.widget-view+json": {
       "model_id": "19d9ddaee74a4335aeebe5a580332863",
       "version_major": 2,
       "version_minor": 0
      },
      "text/plain": [
       "Model random state progress:   0%|          | 0/1 [00:00<?, ?it/s]"
      ]
     },
     "metadata": {},
     "output_type": "display_data"
    },
    {
     "data": {
      "application/vnd.jupyter.widget-view+json": {
       "model_id": "3f56bdbdf30e40d2b38ebf2943390110",
       "version_major": 2,
       "version_minor": 0
      },
      "text/plain": [
       "Dataset progress:   0%|          | 0/40 [00:00<?, ?it/s]"
      ]
     },
     "metadata": {},
     "output_type": "display_data"
    },
    {
     "data": {
      "application/vnd.jupyter.widget-view+json": {
       "model_id": "9c54dfcb640b418ba81e65f0047807fb",
       "version_major": 2,
       "version_minor": 0
      },
      "text/plain": [
       "Model progress for dataset 0:   0%|          | 0/3 [00:00<?, ?it/s]"
      ]
     },
     "metadata": {},
     "output_type": "display_data"
    },
    {
     "data": {
      "application/vnd.jupyter.widget-view+json": {
       "model_id": "87b149da8e3c4f8daecf2c0b268b2d12",
       "version_major": 2,
       "version_minor": 0
      },
      "text/plain": [
       "Importance type progress for model 0:   0%|          | 0/9 [00:00<?, ?it/s]"
      ]
     },
     "metadata": {},
     "output_type": "display_data"
    },
    {
     "name": "stdout",
     "output_type": "stream",
     "text": [
      "<class 'sklearn.tree._classes.DecisionTreeClassifier'> (70, 10) (70, 1) classif_features_10_samples_100_seed_0 mutual_info\n",
      "<class 'sklearn.tree._classes.DecisionTreeClassifier'> (70, 10) (70, 1) classif_features_10_samples_100_seed_0 f_test\n",
      "<class 'sklearn.tree._classes.DecisionTreeClassifier'> (70, 10) (70, 1) classif_features_10_samples_100_seed_0 pimp\n",
      "<class 'sklearn.tree._classes.DecisionTreeClassifier'> (70, 10) (70, 1) classif_features_10_samples_100_seed_0 shap\n",
      "<class 'sklearn.tree._classes.DecisionTreeClassifier'> (70, 10) (70, 1) classif_features_10_samples_100_seed_0 pearson\n",
      "<class 'sklearn.tree._classes.DecisionTreeClassifier'> (70, 10) (70, 1) classif_features_10_samples_100_seed_0 spearman\n",
      "<class 'sklearn.tree._classes.DecisionTreeClassifier'> (70, 10) (70, 1) classif_features_10_samples_100_seed_0 kendall\n",
      "<class 'sklearn.tree._classes.DecisionTreeClassifier'> (70, 10) (70, 1) classif_features_10_samples_100_seed_0 pps\n"
     ]
    },
    {
     "data": {
      "application/vnd.jupyter.widget-view+json": {
       "model_id": "5e624a9a06894880bc3c0ed70d15b8d0",
       "version_major": 2,
       "version_minor": 0
      },
      "text/plain": [
       "Importance type progress for model 1:   0%|          | 0/9 [00:00<?, ?it/s]"
      ]
     },
     "metadata": {},
     "output_type": "display_data"
    },
    {
     "name": "stdout",
     "output_type": "stream",
     "text": [
      "<class 'sklearn.ensemble._forest.RandomForestClassifier'> (70, 10) (70, 1) classif_features_10_samples_100_seed_0 mutual_info\n",
      "<class 'sklearn.ensemble._forest.RandomForestClassifier'> (70, 10) (70, 1) classif_features_10_samples_100_seed_0 f_test\n",
      "<class 'sklearn.ensemble._forest.RandomForestClassifier'> (70, 10) (70, 1) classif_features_10_samples_100_seed_0 pimp\n",
      "<class 'sklearn.ensemble._forest.RandomForestClassifier'> (70, 10) (70, 1) classif_features_10_samples_100_seed_0 shap\n",
      "<class 'sklearn.ensemble._forest.RandomForestClassifier'> (70, 10) (70, 1) classif_features_10_samples_100_seed_0 pearson\n",
      "<class 'sklearn.ensemble._forest.RandomForestClassifier'> (70, 10) (70, 1) classif_features_10_samples_100_seed_0 spearman\n",
      "<class 'sklearn.ensemble._forest.RandomForestClassifier'> (70, 10) (70, 1) classif_features_10_samples_100_seed_0 kendall\n",
      "<class 'sklearn.ensemble._forest.RandomForestClassifier'> (70, 10) (70, 1) classif_features_10_samples_100_seed_0 pps\n"
     ]
    },
    {
     "data": {
      "application/vnd.jupyter.widget-view+json": {
       "model_id": "a73a15d833954d8bbc28bc0d0c60b975",
       "version_major": 2,
       "version_minor": 0
      },
      "text/plain": [
       "Importance type progress for model 2:   0%|          | 0/9 [00:00<?, ?it/s]"
      ]
     },
     "metadata": {},
     "output_type": "display_data"
    },
    {
     "name": "stdout",
     "output_type": "stream",
     "text": [
      "<class 'xgboost.sklearn.XGBClassifier'> (70, 10) (70, 1) classif_features_10_samples_100_seed_0 mutual_info\n",
      "<class 'xgboost.sklearn.XGBClassifier'> (70, 10) (70, 1) classif_features_10_samples_100_seed_0 f_test\n",
      "<class 'xgboost.sklearn.XGBClassifier'> (70, 10) (70, 1) classif_features_10_samples_100_seed_0 pimp\n",
      "<class 'xgboost.sklearn.XGBClassifier'> (70, 10) (70, 1) classif_features_10_samples_100_seed_0 shap\n",
      "<class 'xgboost.sklearn.XGBClassifier'> (70, 10) (70, 1) classif_features_10_samples_100_seed_0 pearson\n",
      "<class 'xgboost.sklearn.XGBClassifier'> (70, 10) (70, 1) classif_features_10_samples_100_seed_0 spearman\n",
      "<class 'xgboost.sklearn.XGBClassifier'> (70, 10) (70, 1) classif_features_10_samples_100_seed_0 kendall\n",
      "<class 'xgboost.sklearn.XGBClassifier'> (70, 10) (70, 1) classif_features_10_samples_100_seed_0 pps\n"
     ]
    },
    {
     "data": {
      "application/vnd.jupyter.widget-view+json": {
       "model_id": "ed033460bffc4fd3a5b74b1b833a571c",
       "version_major": 2,
       "version_minor": 0
      },
      "text/plain": [
       "Model progress for dataset 1:   0%|          | 0/3 [00:00<?, ?it/s]"
      ]
     },
     "metadata": {},
     "output_type": "display_data"
    },
    {
     "data": {
      "application/vnd.jupyter.widget-view+json": {
       "model_id": "d84ea415fc694d8584f6c790b1cb9ff8",
       "version_major": 2,
       "version_minor": 0
      },
      "text/plain": [
       "Importance type progress for model 0:   0%|          | 0/9 [00:00<?, ?it/s]"
      ]
     },
     "metadata": {},
     "output_type": "display_data"
    },
    {
     "name": "stdout",
     "output_type": "stream",
     "text": [
      "<class 'sklearn.tree._classes.DecisionTreeClassifier'> (70, 10) (70, 1) classif_features_10_samples_100_seed_1 mutual_info\n",
      "<class 'sklearn.tree._classes.DecisionTreeClassifier'> (70, 10) (70, 1) classif_features_10_samples_100_seed_1 f_test\n",
      "<class 'sklearn.tree._classes.DecisionTreeClassifier'> (70, 10) (70, 1) classif_features_10_samples_100_seed_1 pimp\n",
      "<class 'sklearn.tree._classes.DecisionTreeClassifier'> (70, 10) (70, 1) classif_features_10_samples_100_seed_1 shap\n",
      "<class 'sklearn.tree._classes.DecisionTreeClassifier'> (70, 10) (70, 1) classif_features_10_samples_100_seed_1 pearson\n",
      "<class 'sklearn.tree._classes.DecisionTreeClassifier'> (70, 10) (70, 1) classif_features_10_samples_100_seed_1 spearman\n",
      "<class 'sklearn.tree._classes.DecisionTreeClassifier'> (70, 10) (70, 1) classif_features_10_samples_100_seed_1 kendall\n",
      "<class 'sklearn.tree._classes.DecisionTreeClassifier'> (70, 10) (70, 1) classif_features_10_samples_100_seed_1 pps\n"
     ]
    },
    {
     "data": {
      "application/vnd.jupyter.widget-view+json": {
       "model_id": "bc143915d1c54c9e957878a0aca6a127",
       "version_major": 2,
       "version_minor": 0
      },
      "text/plain": [
       "Importance type progress for model 1:   0%|          | 0/9 [00:00<?, ?it/s]"
      ]
     },
     "metadata": {},
     "output_type": "display_data"
    },
    {
     "name": "stdout",
     "output_type": "stream",
     "text": [
      "<class 'sklearn.ensemble._forest.RandomForestClassifier'> (70, 10) (70, 1) classif_features_10_samples_100_seed_1 mutual_info\n",
      "<class 'sklearn.ensemble._forest.RandomForestClassifier'> (70, 10) (70, 1) classif_features_10_samples_100_seed_1 f_test\n",
      "<class 'sklearn.ensemble._forest.RandomForestClassifier'> (70, 10) (70, 1) classif_features_10_samples_100_seed_1 pimp\n",
      "<class 'sklearn.ensemble._forest.RandomForestClassifier'> (70, 10) (70, 1) classif_features_10_samples_100_seed_1 shap\n",
      "<class 'sklearn.ensemble._forest.RandomForestClassifier'> (70, 10) (70, 1) classif_features_10_samples_100_seed_1 pearson\n",
      "<class 'sklearn.ensemble._forest.RandomForestClassifier'> (70, 10) (70, 1) classif_features_10_samples_100_seed_1 spearman\n",
      "<class 'sklearn.ensemble._forest.RandomForestClassifier'> (70, 10) (70, 1) classif_features_10_samples_100_seed_1 kendall\n",
      "<class 'sklearn.ensemble._forest.RandomForestClassifier'> (70, 10) (70, 1) classif_features_10_samples_100_seed_1 pps\n"
     ]
    },
    {
     "data": {
      "application/vnd.jupyter.widget-view+json": {
       "model_id": "f84d7a7e39e74433b0ae570f8544e7bb",
       "version_major": 2,
       "version_minor": 0
      },
      "text/plain": [
       "Importance type progress for model 2:   0%|          | 0/9 [00:00<?, ?it/s]"
      ]
     },
     "metadata": {},
     "output_type": "display_data"
    },
    {
     "name": "stdout",
     "output_type": "stream",
     "text": [
      "<class 'xgboost.sklearn.XGBClassifier'> (70, 10) (70, 1) classif_features_10_samples_100_seed_1 mutual_info\n",
      "<class 'xgboost.sklearn.XGBClassifier'> (70, 10) (70, 1) classif_features_10_samples_100_seed_1 f_test\n",
      "<class 'xgboost.sklearn.XGBClassifier'> (70, 10) (70, 1) classif_features_10_samples_100_seed_1 pimp\n",
      "<class 'xgboost.sklearn.XGBClassifier'> (70, 10) (70, 1) classif_features_10_samples_100_seed_1 shap\n",
      "<class 'xgboost.sklearn.XGBClassifier'> (70, 10) (70, 1) classif_features_10_samples_100_seed_1 pearson\n",
      "<class 'xgboost.sklearn.XGBClassifier'> (70, 10) (70, 1) classif_features_10_samples_100_seed_1 spearman\n",
      "<class 'xgboost.sklearn.XGBClassifier'> (70, 10) (70, 1) classif_features_10_samples_100_seed_1 kendall\n",
      "<class 'xgboost.sklearn.XGBClassifier'> (70, 10) (70, 1) classif_features_10_samples_100_seed_1 pps\n"
     ]
    },
    {
     "data": {
      "application/vnd.jupyter.widget-view+json": {
       "model_id": "ec0dd5b089f34f8297bdd12a990add2b",
       "version_major": 2,
       "version_minor": 0
      },
      "text/plain": [
       "Model progress for dataset 2:   0%|          | 0/3 [00:00<?, ?it/s]"
      ]
     },
     "metadata": {},
     "output_type": "display_data"
    },
    {
     "data": {
      "application/vnd.jupyter.widget-view+json": {
       "model_id": "33b47fdaa7124f6cbcf07e7d3da71130",
       "version_major": 2,
       "version_minor": 0
      },
      "text/plain": [
       "Importance type progress for model 0:   0%|          | 0/9 [00:00<?, ?it/s]"
      ]
     },
     "metadata": {},
     "output_type": "display_data"
    },
    {
     "name": "stdout",
     "output_type": "stream",
     "text": [
      "<class 'sklearn.tree._classes.DecisionTreeClassifier'> (70, 10) (70, 1) classif_features_10_samples_100_seed_2 mutual_info\n",
      "<class 'sklearn.tree._classes.DecisionTreeClassifier'> (70, 10) (70, 1) classif_features_10_samples_100_seed_2 f_test\n",
      "<class 'sklearn.tree._classes.DecisionTreeClassifier'> (70, 10) (70, 1) classif_features_10_samples_100_seed_2 pimp\n",
      "<class 'sklearn.tree._classes.DecisionTreeClassifier'> (70, 10) (70, 1) classif_features_10_samples_100_seed_2 shap\n",
      "<class 'sklearn.tree._classes.DecisionTreeClassifier'> (70, 10) (70, 1) classif_features_10_samples_100_seed_2 pearson\n",
      "<class 'sklearn.tree._classes.DecisionTreeClassifier'> (70, 10) (70, 1) classif_features_10_samples_100_seed_2 spearman\n",
      "<class 'sklearn.tree._classes.DecisionTreeClassifier'> (70, 10) (70, 1) classif_features_10_samples_100_seed_2 kendall\n",
      "<class 'sklearn.tree._classes.DecisionTreeClassifier'> (70, 10) (70, 1) classif_features_10_samples_100_seed_2 pps\n"
     ]
    },
    {
     "data": {
      "application/vnd.jupyter.widget-view+json": {
       "model_id": "710449bc762e4554bc43a644121cddfa",
       "version_major": 2,
       "version_minor": 0
      },
      "text/plain": [
       "Importance type progress for model 1:   0%|          | 0/9 [00:00<?, ?it/s]"
      ]
     },
     "metadata": {},
     "output_type": "display_data"
    },
    {
     "name": "stdout",
     "output_type": "stream",
     "text": [
      "<class 'sklearn.ensemble._forest.RandomForestClassifier'> (70, 10) (70, 1) classif_features_10_samples_100_seed_2 mutual_info\n",
      "<class 'sklearn.ensemble._forest.RandomForestClassifier'> (70, 10) (70, 1) classif_features_10_samples_100_seed_2 f_test\n",
      "<class 'sklearn.ensemble._forest.RandomForestClassifier'> (70, 10) (70, 1) classif_features_10_samples_100_seed_2 pimp\n",
      "<class 'sklearn.ensemble._forest.RandomForestClassifier'> (70, 10) (70, 1) classif_features_10_samples_100_seed_2 shap\n",
      "<class 'sklearn.ensemble._forest.RandomForestClassifier'> (70, 10) (70, 1) classif_features_10_samples_100_seed_2 pearson\n",
      "<class 'sklearn.ensemble._forest.RandomForestClassifier'> (70, 10) (70, 1) classif_features_10_samples_100_seed_2 spearman\n",
      "<class 'sklearn.ensemble._forest.RandomForestClassifier'> (70, 10) (70, 1) classif_features_10_samples_100_seed_2 kendall\n",
      "<class 'sklearn.ensemble._forest.RandomForestClassifier'> (70, 10) (70, 1) classif_features_10_samples_100_seed_2 pps\n"
     ]
    },
    {
     "data": {
      "application/vnd.jupyter.widget-view+json": {
       "model_id": "f3a6bc20062c4590a2247b86f6d410c2",
       "version_major": 2,
       "version_minor": 0
      },
      "text/plain": [
       "Importance type progress for model 2:   0%|          | 0/9 [00:00<?, ?it/s]"
      ]
     },
     "metadata": {},
     "output_type": "display_data"
    },
    {
     "name": "stdout",
     "output_type": "stream",
     "text": [
      "<class 'xgboost.sklearn.XGBClassifier'> (70, 10) (70, 1) classif_features_10_samples_100_seed_2 mutual_info\n",
      "<class 'xgboost.sklearn.XGBClassifier'> (70, 10) (70, 1) classif_features_10_samples_100_seed_2 f_test\n",
      "<class 'xgboost.sklearn.XGBClassifier'> (70, 10) (70, 1) classif_features_10_samples_100_seed_2 pimp\n",
      "<class 'xgboost.sklearn.XGBClassifier'> (70, 10) (70, 1) classif_features_10_samples_100_seed_2 shap\n",
      "<class 'xgboost.sklearn.XGBClassifier'> (70, 10) (70, 1) classif_features_10_samples_100_seed_2 pearson\n",
      "<class 'xgboost.sklearn.XGBClassifier'> (70, 10) (70, 1) classif_features_10_samples_100_seed_2 spearman\n",
      "<class 'xgboost.sklearn.XGBClassifier'> (70, 10) (70, 1) classif_features_10_samples_100_seed_2 kendall\n",
      "<class 'xgboost.sklearn.XGBClassifier'> (70, 10) (70, 1) classif_features_10_samples_100_seed_2 pps\n"
     ]
    },
    {
     "data": {
      "application/vnd.jupyter.widget-view+json": {
       "model_id": "f83d37ac3ed54d938d02aff4bfbb394c",
       "version_major": 2,
       "version_minor": 0
      },
      "text/plain": [
       "Model progress for dataset 3:   0%|          | 0/3 [00:00<?, ?it/s]"
      ]
     },
     "metadata": {},
     "output_type": "display_data"
    },
    {
     "data": {
      "application/vnd.jupyter.widget-view+json": {
       "model_id": "af3a85722dc24a2b812260f63098bcff",
       "version_major": 2,
       "version_minor": 0
      },
      "text/plain": [
       "Importance type progress for model 0:   0%|          | 0/9 [00:00<?, ?it/s]"
      ]
     },
     "metadata": {},
     "output_type": "display_data"
    },
    {
     "name": "stdout",
     "output_type": "stream",
     "text": [
      "<class 'sklearn.tree._classes.DecisionTreeClassifier'> (70, 10) (70, 1) classif_features_10_samples_100_seed_3 mutual_info\n",
      "<class 'sklearn.tree._classes.DecisionTreeClassifier'> (70, 10) (70, 1) classif_features_10_samples_100_seed_3 f_test\n",
      "<class 'sklearn.tree._classes.DecisionTreeClassifier'> (70, 10) (70, 1) classif_features_10_samples_100_seed_3 pimp\n",
      "<class 'sklearn.tree._classes.DecisionTreeClassifier'> (70, 10) (70, 1) classif_features_10_samples_100_seed_3 shap\n",
      "<class 'sklearn.tree._classes.DecisionTreeClassifier'> (70, 10) (70, 1) classif_features_10_samples_100_seed_3 pearson\n",
      "<class 'sklearn.tree._classes.DecisionTreeClassifier'> (70, 10) (70, 1) classif_features_10_samples_100_seed_3 spearman\n",
      "<class 'sklearn.tree._classes.DecisionTreeClassifier'> (70, 10) (70, 1) classif_features_10_samples_100_seed_3 kendall\n",
      "<class 'sklearn.tree._classes.DecisionTreeClassifier'> (70, 10) (70, 1) classif_features_10_samples_100_seed_3 pps\n"
     ]
    },
    {
     "data": {
      "application/vnd.jupyter.widget-view+json": {
       "model_id": "3905da5e0fc84de5ae0f5713d3d213f9",
       "version_major": 2,
       "version_minor": 0
      },
      "text/plain": [
       "Importance type progress for model 1:   0%|          | 0/9 [00:00<?, ?it/s]"
      ]
     },
     "metadata": {},
     "output_type": "display_data"
    },
    {
     "name": "stdout",
     "output_type": "stream",
     "text": [
      "<class 'sklearn.ensemble._forest.RandomForestClassifier'> (70, 10) (70, 1) classif_features_10_samples_100_seed_3 mutual_info\n",
      "<class 'sklearn.ensemble._forest.RandomForestClassifier'> (70, 10) (70, 1) classif_features_10_samples_100_seed_3 f_test\n",
      "<class 'sklearn.ensemble._forest.RandomForestClassifier'> (70, 10) (70, 1) classif_features_10_samples_100_seed_3 pimp\n",
      "<class 'sklearn.ensemble._forest.RandomForestClassifier'> (70, 10) (70, 1) classif_features_10_samples_100_seed_3 shap\n",
      "<class 'sklearn.ensemble._forest.RandomForestClassifier'> (70, 10) (70, 1) classif_features_10_samples_100_seed_3 pearson\n",
      "<class 'sklearn.ensemble._forest.RandomForestClassifier'> (70, 10) (70, 1) classif_features_10_samples_100_seed_3 spearman\n",
      "<class 'sklearn.ensemble._forest.RandomForestClassifier'> (70, 10) (70, 1) classif_features_10_samples_100_seed_3 kendall\n",
      "<class 'sklearn.ensemble._forest.RandomForestClassifier'> (70, 10) (70, 1) classif_features_10_samples_100_seed_3 pps\n"
     ]
    },
    {
     "data": {
      "application/vnd.jupyter.widget-view+json": {
       "model_id": "ea4bdbb289d1478a985b4f36124aa824",
       "version_major": 2,
       "version_minor": 0
      },
      "text/plain": [
       "Importance type progress for model 2:   0%|          | 0/9 [00:00<?, ?it/s]"
      ]
     },
     "metadata": {},
     "output_type": "display_data"
    },
    {
     "name": "stdout",
     "output_type": "stream",
     "text": [
      "<class 'xgboost.sklearn.XGBClassifier'> (70, 10) (70, 1) classif_features_10_samples_100_seed_3 mutual_info\n",
      "<class 'xgboost.sklearn.XGBClassifier'> (70, 10) (70, 1) classif_features_10_samples_100_seed_3 f_test\n",
      "<class 'xgboost.sklearn.XGBClassifier'> (70, 10) (70, 1) classif_features_10_samples_100_seed_3 pimp\n",
      "<class 'xgboost.sklearn.XGBClassifier'> (70, 10) (70, 1) classif_features_10_samples_100_seed_3 shap\n",
      "<class 'xgboost.sklearn.XGBClassifier'> (70, 10) (70, 1) classif_features_10_samples_100_seed_3 pearson\n",
      "<class 'xgboost.sklearn.XGBClassifier'> (70, 10) (70, 1) classif_features_10_samples_100_seed_3 spearman\n",
      "<class 'xgboost.sklearn.XGBClassifier'> (70, 10) (70, 1) classif_features_10_samples_100_seed_3 kendall\n",
      "<class 'xgboost.sklearn.XGBClassifier'> (70, 10) (70, 1) classif_features_10_samples_100_seed_3 pps\n"
     ]
    },
    {
     "data": {
      "application/vnd.jupyter.widget-view+json": {
       "model_id": "dd27893c94fe4eee8a3617c39c965846",
       "version_major": 2,
       "version_minor": 0
      },
      "text/plain": [
       "Model progress for dataset 4:   0%|          | 0/3 [00:00<?, ?it/s]"
      ]
     },
     "metadata": {},
     "output_type": "display_data"
    },
    {
     "data": {
      "application/vnd.jupyter.widget-view+json": {
       "model_id": "f04b44de150b407092c96110b8a780c7",
       "version_major": 2,
       "version_minor": 0
      },
      "text/plain": [
       "Importance type progress for model 0:   0%|          | 0/9 [00:00<?, ?it/s]"
      ]
     },
     "metadata": {},
     "output_type": "display_data"
    },
    {
     "name": "stdout",
     "output_type": "stream",
     "text": [
      "<class 'sklearn.tree._classes.DecisionTreeClassifier'> (70, 10) (70, 1) classif_features_10_samples_100_seed_4 mutual_info\n",
      "<class 'sklearn.tree._classes.DecisionTreeClassifier'> (70, 10) (70, 1) classif_features_10_samples_100_seed_4 f_test\n",
      "<class 'sklearn.tree._classes.DecisionTreeClassifier'> (70, 10) (70, 1) classif_features_10_samples_100_seed_4 pimp\n",
      "<class 'sklearn.tree._classes.DecisionTreeClassifier'> (70, 10) (70, 1) classif_features_10_samples_100_seed_4 shap\n",
      "<class 'sklearn.tree._classes.DecisionTreeClassifier'> (70, 10) (70, 1) classif_features_10_samples_100_seed_4 pearson\n",
      "<class 'sklearn.tree._classes.DecisionTreeClassifier'> (70, 10) (70, 1) classif_features_10_samples_100_seed_4 spearman\n",
      "<class 'sklearn.tree._classes.DecisionTreeClassifier'> (70, 10) (70, 1) classif_features_10_samples_100_seed_4 kendall\n",
      "<class 'sklearn.tree._classes.DecisionTreeClassifier'> (70, 10) (70, 1) classif_features_10_samples_100_seed_4 pps\n"
     ]
    },
    {
     "data": {
      "application/vnd.jupyter.widget-view+json": {
       "model_id": "969e0b7f29cf45adb4d481a41657f142",
       "version_major": 2,
       "version_minor": 0
      },
      "text/plain": [
       "Importance type progress for model 1:   0%|          | 0/9 [00:00<?, ?it/s]"
      ]
     },
     "metadata": {},
     "output_type": "display_data"
    },
    {
     "name": "stdout",
     "output_type": "stream",
     "text": [
      "<class 'sklearn.ensemble._forest.RandomForestClassifier'> (70, 10) (70, 1) classif_features_10_samples_100_seed_4 mutual_info\n",
      "<class 'sklearn.ensemble._forest.RandomForestClassifier'> (70, 10) (70, 1) classif_features_10_samples_100_seed_4 f_test\n",
      "<class 'sklearn.ensemble._forest.RandomForestClassifier'> (70, 10) (70, 1) classif_features_10_samples_100_seed_4 pimp\n",
      "<class 'sklearn.ensemble._forest.RandomForestClassifier'> (70, 10) (70, 1) classif_features_10_samples_100_seed_4 shap\n",
      "<class 'sklearn.ensemble._forest.RandomForestClassifier'> (70, 10) (70, 1) classif_features_10_samples_100_seed_4 pearson\n",
      "<class 'sklearn.ensemble._forest.RandomForestClassifier'> (70, 10) (70, 1) classif_features_10_samples_100_seed_4 spearman\n",
      "<class 'sklearn.ensemble._forest.RandomForestClassifier'> (70, 10) (70, 1) classif_features_10_samples_100_seed_4 kendall\n",
      "<class 'sklearn.ensemble._forest.RandomForestClassifier'> (70, 10) (70, 1) classif_features_10_samples_100_seed_4 pps\n"
     ]
    },
    {
     "data": {
      "application/vnd.jupyter.widget-view+json": {
       "model_id": "acdd2a674a82437588c820eaba048f72",
       "version_major": 2,
       "version_minor": 0
      },
      "text/plain": [
       "Importance type progress for model 2:   0%|          | 0/9 [00:00<?, ?it/s]"
      ]
     },
     "metadata": {},
     "output_type": "display_data"
    },
    {
     "name": "stdout",
     "output_type": "stream",
     "text": [
      "<class 'xgboost.sklearn.XGBClassifier'> (70, 10) (70, 1) classif_features_10_samples_100_seed_4 mutual_info\n",
      "<class 'xgboost.sklearn.XGBClassifier'> (70, 10) (70, 1) classif_features_10_samples_100_seed_4 f_test\n",
      "<class 'xgboost.sklearn.XGBClassifier'> (70, 10) (70, 1) classif_features_10_samples_100_seed_4 pimp\n",
      "<class 'xgboost.sklearn.XGBClassifier'> (70, 10) (70, 1) classif_features_10_samples_100_seed_4 shap\n",
      "<class 'xgboost.sklearn.XGBClassifier'> (70, 10) (70, 1) classif_features_10_samples_100_seed_4 pearson\n",
      "<class 'xgboost.sklearn.XGBClassifier'> (70, 10) (70, 1) classif_features_10_samples_100_seed_4 spearman\n",
      "<class 'xgboost.sklearn.XGBClassifier'> (70, 10) (70, 1) classif_features_10_samples_100_seed_4 kendall\n",
      "<class 'xgboost.sklearn.XGBClassifier'> (70, 10) (70, 1) classif_features_10_samples_100_seed_4 pps\n"
     ]
    },
    {
     "data": {
      "application/vnd.jupyter.widget-view+json": {
       "model_id": "3fd92414bf454defb5363ff272111540",
       "version_major": 2,
       "version_minor": 0
      },
      "text/plain": [
       "Model progress for dataset 5:   0%|          | 0/3 [00:00<?, ?it/s]"
      ]
     },
     "metadata": {},
     "output_type": "display_data"
    },
    {
     "data": {
      "application/vnd.jupyter.widget-view+json": {
       "model_id": "e6f5d37d74b44dffa0c6e0067645b8d1",
       "version_major": 2,
       "version_minor": 0
      },
      "text/plain": [
       "Importance type progress for model 0:   0%|          | 0/9 [00:00<?, ?it/s]"
      ]
     },
     "metadata": {},
     "output_type": "display_data"
    },
    {
     "name": "stdout",
     "output_type": "stream",
     "text": [
      "<class 'sklearn.tree._classes.DecisionTreeClassifier'> (70, 10) (70, 1) classif_features_10_samples_100_seed_5 mutual_info\n",
      "<class 'sklearn.tree._classes.DecisionTreeClassifier'> (70, 10) (70, 1) classif_features_10_samples_100_seed_5 f_test\n",
      "<class 'sklearn.tree._classes.DecisionTreeClassifier'> (70, 10) (70, 1) classif_features_10_samples_100_seed_5 pimp\n",
      "<class 'sklearn.tree._classes.DecisionTreeClassifier'> (70, 10) (70, 1) classif_features_10_samples_100_seed_5 shap\n",
      "<class 'sklearn.tree._classes.DecisionTreeClassifier'> (70, 10) (70, 1) classif_features_10_samples_100_seed_5 pearson\n",
      "<class 'sklearn.tree._classes.DecisionTreeClassifier'> (70, 10) (70, 1) classif_features_10_samples_100_seed_5 spearman\n",
      "<class 'sklearn.tree._classes.DecisionTreeClassifier'> (70, 10) (70, 1) classif_features_10_samples_100_seed_5 kendall\n",
      "<class 'sklearn.tree._classes.DecisionTreeClassifier'> (70, 10) (70, 1) classif_features_10_samples_100_seed_5 pps\n"
     ]
    },
    {
     "data": {
      "application/vnd.jupyter.widget-view+json": {
       "model_id": "458322f3bab04a8ba0cb103ee8178df0",
       "version_major": 2,
       "version_minor": 0
      },
      "text/plain": [
       "Importance type progress for model 1:   0%|          | 0/9 [00:00<?, ?it/s]"
      ]
     },
     "metadata": {},
     "output_type": "display_data"
    },
    {
     "name": "stdout",
     "output_type": "stream",
     "text": [
      "<class 'sklearn.ensemble._forest.RandomForestClassifier'> (70, 10) (70, 1) classif_features_10_samples_100_seed_5 mutual_info\n",
      "<class 'sklearn.ensemble._forest.RandomForestClassifier'> (70, 10) (70, 1) classif_features_10_samples_100_seed_5 f_test\n",
      "<class 'sklearn.ensemble._forest.RandomForestClassifier'> (70, 10) (70, 1) classif_features_10_samples_100_seed_5 pimp\n",
      "<class 'sklearn.ensemble._forest.RandomForestClassifier'> (70, 10) (70, 1) classif_features_10_samples_100_seed_5 shap\n",
      "<class 'sklearn.ensemble._forest.RandomForestClassifier'> (70, 10) (70, 1) classif_features_10_samples_100_seed_5 pearson\n",
      "<class 'sklearn.ensemble._forest.RandomForestClassifier'> (70, 10) (70, 1) classif_features_10_samples_100_seed_5 spearman\n",
      "<class 'sklearn.ensemble._forest.RandomForestClassifier'> (70, 10) (70, 1) classif_features_10_samples_100_seed_5 kendall\n",
      "<class 'sklearn.ensemble._forest.RandomForestClassifier'> (70, 10) (70, 1) classif_features_10_samples_100_seed_5 pps\n"
     ]
    },
    {
     "data": {
      "application/vnd.jupyter.widget-view+json": {
       "model_id": "c4de0c63328445ad997175f0c41f52ab",
       "version_major": 2,
       "version_minor": 0
      },
      "text/plain": [
       "Importance type progress for model 2:   0%|          | 0/9 [00:00<?, ?it/s]"
      ]
     },
     "metadata": {},
     "output_type": "display_data"
    },
    {
     "name": "stdout",
     "output_type": "stream",
     "text": [
      "<class 'xgboost.sklearn.XGBClassifier'> (70, 10) (70, 1) classif_features_10_samples_100_seed_5 mutual_info\n",
      "<class 'xgboost.sklearn.XGBClassifier'> (70, 10) (70, 1) classif_features_10_samples_100_seed_5 f_test\n",
      "<class 'xgboost.sklearn.XGBClassifier'> (70, 10) (70, 1) classif_features_10_samples_100_seed_5 pimp\n",
      "<class 'xgboost.sklearn.XGBClassifier'> (70, 10) (70, 1) classif_features_10_samples_100_seed_5 shap\n",
      "<class 'xgboost.sklearn.XGBClassifier'> (70, 10) (70, 1) classif_features_10_samples_100_seed_5 pearson\n",
      "<class 'xgboost.sklearn.XGBClassifier'> (70, 10) (70, 1) classif_features_10_samples_100_seed_5 spearman\n",
      "<class 'xgboost.sklearn.XGBClassifier'> (70, 10) (70, 1) classif_features_10_samples_100_seed_5 kendall\n",
      "<class 'xgboost.sklearn.XGBClassifier'> (70, 10) (70, 1) classif_features_10_samples_100_seed_5 pps\n"
     ]
    },
    {
     "data": {
      "application/vnd.jupyter.widget-view+json": {
       "model_id": "eb094028112a4bb088a509d967acb336",
       "version_major": 2,
       "version_minor": 0
      },
      "text/plain": [
       "Model progress for dataset 6:   0%|          | 0/3 [00:00<?, ?it/s]"
      ]
     },
     "metadata": {},
     "output_type": "display_data"
    },
    {
     "data": {
      "application/vnd.jupyter.widget-view+json": {
       "model_id": "b148efea255d483193ac8af99bcdb599",
       "version_major": 2,
       "version_minor": 0
      },
      "text/plain": [
       "Importance type progress for model 0:   0%|          | 0/9 [00:00<?, ?it/s]"
      ]
     },
     "metadata": {},
     "output_type": "display_data"
    },
    {
     "name": "stdout",
     "output_type": "stream",
     "text": [
      "<class 'sklearn.tree._classes.DecisionTreeClassifier'> (70, 10) (70, 1) classif_features_10_samples_100_seed_6 mutual_info\n",
      "<class 'sklearn.tree._classes.DecisionTreeClassifier'> (70, 10) (70, 1) classif_features_10_samples_100_seed_6 f_test\n",
      "<class 'sklearn.tree._classes.DecisionTreeClassifier'> (70, 10) (70, 1) classif_features_10_samples_100_seed_6 pimp\n",
      "<class 'sklearn.tree._classes.DecisionTreeClassifier'> (70, 10) (70, 1) classif_features_10_samples_100_seed_6 shap\n",
      "<class 'sklearn.tree._classes.DecisionTreeClassifier'> (70, 10) (70, 1) classif_features_10_samples_100_seed_6 pearson\n",
      "<class 'sklearn.tree._classes.DecisionTreeClassifier'> (70, 10) (70, 1) classif_features_10_samples_100_seed_6 spearman\n",
      "<class 'sklearn.tree._classes.DecisionTreeClassifier'> (70, 10) (70, 1) classif_features_10_samples_100_seed_6 kendall\n",
      "<class 'sklearn.tree._classes.DecisionTreeClassifier'> (70, 10) (70, 1) classif_features_10_samples_100_seed_6 pps\n"
     ]
    },
    {
     "data": {
      "application/vnd.jupyter.widget-view+json": {
       "model_id": "33941535648048bba12b40f164f259e0",
       "version_major": 2,
       "version_minor": 0
      },
      "text/plain": [
       "Importance type progress for model 1:   0%|          | 0/9 [00:00<?, ?it/s]"
      ]
     },
     "metadata": {},
     "output_type": "display_data"
    },
    {
     "name": "stdout",
     "output_type": "stream",
     "text": [
      "<class 'sklearn.ensemble._forest.RandomForestClassifier'> (70, 10) (70, 1) classif_features_10_samples_100_seed_6 mutual_info\n",
      "<class 'sklearn.ensemble._forest.RandomForestClassifier'> (70, 10) (70, 1) classif_features_10_samples_100_seed_6 f_test\n",
      "<class 'sklearn.ensemble._forest.RandomForestClassifier'> (70, 10) (70, 1) classif_features_10_samples_100_seed_6 pimp\n",
      "<class 'sklearn.ensemble._forest.RandomForestClassifier'> (70, 10) (70, 1) classif_features_10_samples_100_seed_6 shap\n",
      "<class 'sklearn.ensemble._forest.RandomForestClassifier'> (70, 10) (70, 1) classif_features_10_samples_100_seed_6 pearson\n",
      "<class 'sklearn.ensemble._forest.RandomForestClassifier'> (70, 10) (70, 1) classif_features_10_samples_100_seed_6 spearman\n",
      "<class 'sklearn.ensemble._forest.RandomForestClassifier'> (70, 10) (70, 1) classif_features_10_samples_100_seed_6 kendall\n",
      "<class 'sklearn.ensemble._forest.RandomForestClassifier'> (70, 10) (70, 1) classif_features_10_samples_100_seed_6 pps\n"
     ]
    },
    {
     "data": {
      "application/vnd.jupyter.widget-view+json": {
       "model_id": "ce99b29471514e0f9f21bf2e024d7ce6",
       "version_major": 2,
       "version_minor": 0
      },
      "text/plain": [
       "Importance type progress for model 2:   0%|          | 0/9 [00:00<?, ?it/s]"
      ]
     },
     "metadata": {},
     "output_type": "display_data"
    },
    {
     "name": "stdout",
     "output_type": "stream",
     "text": [
      "<class 'xgboost.sklearn.XGBClassifier'> (70, 10) (70, 1) classif_features_10_samples_100_seed_6 mutual_info\n",
      "<class 'xgboost.sklearn.XGBClassifier'> (70, 10) (70, 1) classif_features_10_samples_100_seed_6 f_test\n",
      "<class 'xgboost.sklearn.XGBClassifier'> (70, 10) (70, 1) classif_features_10_samples_100_seed_6 pimp\n",
      "<class 'xgboost.sklearn.XGBClassifier'> (70, 10) (70, 1) classif_features_10_samples_100_seed_6 shap\n",
      "<class 'xgboost.sklearn.XGBClassifier'> (70, 10) (70, 1) classif_features_10_samples_100_seed_6 pearson\n",
      "<class 'xgboost.sklearn.XGBClassifier'> (70, 10) (70, 1) classif_features_10_samples_100_seed_6 spearman\n",
      "<class 'xgboost.sklearn.XGBClassifier'> (70, 10) (70, 1) classif_features_10_samples_100_seed_6 kendall\n",
      "<class 'xgboost.sklearn.XGBClassifier'> (70, 10) (70, 1) classif_features_10_samples_100_seed_6 pps\n"
     ]
    },
    {
     "data": {
      "application/vnd.jupyter.widget-view+json": {
       "model_id": "46b7d63a86c5499e9d8c5303bc754a23",
       "version_major": 2,
       "version_minor": 0
      },
      "text/plain": [
       "Model progress for dataset 7:   0%|          | 0/3 [00:00<?, ?it/s]"
      ]
     },
     "metadata": {},
     "output_type": "display_data"
    },
    {
     "data": {
      "application/vnd.jupyter.widget-view+json": {
       "model_id": "9439d076c2f3494eb83ccd7f690d673c",
       "version_major": 2,
       "version_minor": 0
      },
      "text/plain": [
       "Importance type progress for model 0:   0%|          | 0/9 [00:00<?, ?it/s]"
      ]
     },
     "metadata": {},
     "output_type": "display_data"
    },
    {
     "name": "stdout",
     "output_type": "stream",
     "text": [
      "<class 'sklearn.tree._classes.DecisionTreeClassifier'> (70, 10) (70, 1) classif_features_10_samples_100_seed_7 mutual_info\n",
      "<class 'sklearn.tree._classes.DecisionTreeClassifier'> (70, 10) (70, 1) classif_features_10_samples_100_seed_7 f_test\n",
      "<class 'sklearn.tree._classes.DecisionTreeClassifier'> (70, 10) (70, 1) classif_features_10_samples_100_seed_7 pimp\n",
      "<class 'sklearn.tree._classes.DecisionTreeClassifier'> (70, 10) (70, 1) classif_features_10_samples_100_seed_7 shap\n",
      "<class 'sklearn.tree._classes.DecisionTreeClassifier'> (70, 10) (70, 1) classif_features_10_samples_100_seed_7 pearson\n",
      "<class 'sklearn.tree._classes.DecisionTreeClassifier'> (70, 10) (70, 1) classif_features_10_samples_100_seed_7 spearman\n",
      "<class 'sklearn.tree._classes.DecisionTreeClassifier'> (70, 10) (70, 1) classif_features_10_samples_100_seed_7 kendall\n",
      "<class 'sklearn.tree._classes.DecisionTreeClassifier'> (70, 10) (70, 1) classif_features_10_samples_100_seed_7 pps\n"
     ]
    },
    {
     "data": {
      "application/vnd.jupyter.widget-view+json": {
       "model_id": "25863cf5388845f4a8fc1fc5cf1e7860",
       "version_major": 2,
       "version_minor": 0
      },
      "text/plain": [
       "Importance type progress for model 1:   0%|          | 0/9 [00:00<?, ?it/s]"
      ]
     },
     "metadata": {},
     "output_type": "display_data"
    },
    {
     "name": "stdout",
     "output_type": "stream",
     "text": [
      "<class 'sklearn.ensemble._forest.RandomForestClassifier'> (70, 10) (70, 1) classif_features_10_samples_100_seed_7 mutual_info\n",
      "<class 'sklearn.ensemble._forest.RandomForestClassifier'> (70, 10) (70, 1) classif_features_10_samples_100_seed_7 f_test\n",
      "<class 'sklearn.ensemble._forest.RandomForestClassifier'> (70, 10) (70, 1) classif_features_10_samples_100_seed_7 pimp\n",
      "<class 'sklearn.ensemble._forest.RandomForestClassifier'> (70, 10) (70, 1) classif_features_10_samples_100_seed_7 shap\n",
      "<class 'sklearn.ensemble._forest.RandomForestClassifier'> (70, 10) (70, 1) classif_features_10_samples_100_seed_7 pearson\n",
      "<class 'sklearn.ensemble._forest.RandomForestClassifier'> (70, 10) (70, 1) classif_features_10_samples_100_seed_7 spearman\n",
      "<class 'sklearn.ensemble._forest.RandomForestClassifier'> (70, 10) (70, 1) classif_features_10_samples_100_seed_7 kendall\n",
      "<class 'sklearn.ensemble._forest.RandomForestClassifier'> (70, 10) (70, 1) classif_features_10_samples_100_seed_7 pps\n"
     ]
    },
    {
     "data": {
      "application/vnd.jupyter.widget-view+json": {
       "model_id": "050b352cfdda4b1d8330eb7fc90c50cc",
       "version_major": 2,
       "version_minor": 0
      },
      "text/plain": [
       "Importance type progress for model 2:   0%|          | 0/9 [00:00<?, ?it/s]"
      ]
     },
     "metadata": {},
     "output_type": "display_data"
    },
    {
     "name": "stdout",
     "output_type": "stream",
     "text": [
      "<class 'xgboost.sklearn.XGBClassifier'> (70, 10) (70, 1) classif_features_10_samples_100_seed_7 mutual_info\n",
      "<class 'xgboost.sklearn.XGBClassifier'> (70, 10) (70, 1) classif_features_10_samples_100_seed_7 f_test\n",
      "<class 'xgboost.sklearn.XGBClassifier'> (70, 10) (70, 1) classif_features_10_samples_100_seed_7 pimp\n",
      "<class 'xgboost.sklearn.XGBClassifier'> (70, 10) (70, 1) classif_features_10_samples_100_seed_7 shap\n",
      "<class 'xgboost.sklearn.XGBClassifier'> (70, 10) (70, 1) classif_features_10_samples_100_seed_7 pearson\n",
      "<class 'xgboost.sklearn.XGBClassifier'> (70, 10) (70, 1) classif_features_10_samples_100_seed_7 spearman\n",
      "<class 'xgboost.sklearn.XGBClassifier'> (70, 10) (70, 1) classif_features_10_samples_100_seed_7 kendall\n",
      "<class 'xgboost.sklearn.XGBClassifier'> (70, 10) (70, 1) classif_features_10_samples_100_seed_7 pps\n"
     ]
    },
    {
     "data": {
      "application/vnd.jupyter.widget-view+json": {
       "model_id": "2158cf7c562b4c62a6e0076848728607",
       "version_major": 2,
       "version_minor": 0
      },
      "text/plain": [
       "Model progress for dataset 8:   0%|          | 0/3 [00:00<?, ?it/s]"
      ]
     },
     "metadata": {},
     "output_type": "display_data"
    },
    {
     "data": {
      "application/vnd.jupyter.widget-view+json": {
       "model_id": "17abc87ea87f4419981a18213cc6e14a",
       "version_major": 2,
       "version_minor": 0
      },
      "text/plain": [
       "Importance type progress for model 0:   0%|          | 0/9 [00:00<?, ?it/s]"
      ]
     },
     "metadata": {},
     "output_type": "display_data"
    },
    {
     "name": "stdout",
     "output_type": "stream",
     "text": [
      "<class 'sklearn.tree._classes.DecisionTreeClassifier'> (70, 10) (70, 1) classif_features_10_samples_100_seed_8 mutual_info\n",
      "<class 'sklearn.tree._classes.DecisionTreeClassifier'> (70, 10) (70, 1) classif_features_10_samples_100_seed_8 f_test\n",
      "<class 'sklearn.tree._classes.DecisionTreeClassifier'> (70, 10) (70, 1) classif_features_10_samples_100_seed_8 pimp\n",
      "<class 'sklearn.tree._classes.DecisionTreeClassifier'> (70, 10) (70, 1) classif_features_10_samples_100_seed_8 shap\n",
      "<class 'sklearn.tree._classes.DecisionTreeClassifier'> (70, 10) (70, 1) classif_features_10_samples_100_seed_8 pearson\n",
      "<class 'sklearn.tree._classes.DecisionTreeClassifier'> (70, 10) (70, 1) classif_features_10_samples_100_seed_8 spearman\n",
      "<class 'sklearn.tree._classes.DecisionTreeClassifier'> (70, 10) (70, 1) classif_features_10_samples_100_seed_8 kendall\n",
      "<class 'sklearn.tree._classes.DecisionTreeClassifier'> (70, 10) (70, 1) classif_features_10_samples_100_seed_8 pps\n"
     ]
    },
    {
     "data": {
      "application/vnd.jupyter.widget-view+json": {
       "model_id": "c4e8c9e493fa48ccad93e75896a59e58",
       "version_major": 2,
       "version_minor": 0
      },
      "text/plain": [
       "Importance type progress for model 1:   0%|          | 0/9 [00:00<?, ?it/s]"
      ]
     },
     "metadata": {},
     "output_type": "display_data"
    },
    {
     "name": "stdout",
     "output_type": "stream",
     "text": [
      "<class 'sklearn.ensemble._forest.RandomForestClassifier'> (70, 10) (70, 1) classif_features_10_samples_100_seed_8 mutual_info\n",
      "<class 'sklearn.ensemble._forest.RandomForestClassifier'> (70, 10) (70, 1) classif_features_10_samples_100_seed_8 f_test\n",
      "<class 'sklearn.ensemble._forest.RandomForestClassifier'> (70, 10) (70, 1) classif_features_10_samples_100_seed_8 pimp\n",
      "<class 'sklearn.ensemble._forest.RandomForestClassifier'> (70, 10) (70, 1) classif_features_10_samples_100_seed_8 shap\n",
      "<class 'sklearn.ensemble._forest.RandomForestClassifier'> (70, 10) (70, 1) classif_features_10_samples_100_seed_8 pearson\n",
      "<class 'sklearn.ensemble._forest.RandomForestClassifier'> (70, 10) (70, 1) classif_features_10_samples_100_seed_8 spearman\n",
      "<class 'sklearn.ensemble._forest.RandomForestClassifier'> (70, 10) (70, 1) classif_features_10_samples_100_seed_8 kendall\n",
      "<class 'sklearn.ensemble._forest.RandomForestClassifier'> (70, 10) (70, 1) classif_features_10_samples_100_seed_8 pps\n"
     ]
    },
    {
     "data": {
      "application/vnd.jupyter.widget-view+json": {
       "model_id": "57f8829b6352462a92cb5dd544ba12fe",
       "version_major": 2,
       "version_minor": 0
      },
      "text/plain": [
       "Importance type progress for model 2:   0%|          | 0/9 [00:00<?, ?it/s]"
      ]
     },
     "metadata": {},
     "output_type": "display_data"
    },
    {
     "name": "stdout",
     "output_type": "stream",
     "text": [
      "<class 'xgboost.sklearn.XGBClassifier'> (70, 10) (70, 1) classif_features_10_samples_100_seed_8 mutual_info\n",
      "<class 'xgboost.sklearn.XGBClassifier'> (70, 10) (70, 1) classif_features_10_samples_100_seed_8 f_test\n",
      "<class 'xgboost.sklearn.XGBClassifier'> (70, 10) (70, 1) classif_features_10_samples_100_seed_8 pimp\n",
      "<class 'xgboost.sklearn.XGBClassifier'> (70, 10) (70, 1) classif_features_10_samples_100_seed_8 shap\n",
      "<class 'xgboost.sklearn.XGBClassifier'> (70, 10) (70, 1) classif_features_10_samples_100_seed_8 pearson\n",
      "<class 'xgboost.sklearn.XGBClassifier'> (70, 10) (70, 1) classif_features_10_samples_100_seed_8 spearman\n",
      "<class 'xgboost.sklearn.XGBClassifier'> (70, 10) (70, 1) classif_features_10_samples_100_seed_8 kendall\n",
      "<class 'xgboost.sklearn.XGBClassifier'> (70, 10) (70, 1) classif_features_10_samples_100_seed_8 pps\n"
     ]
    },
    {
     "data": {
      "application/vnd.jupyter.widget-view+json": {
       "model_id": "88d8a8c2357f48ca9950bab550d9d7fb",
       "version_major": 2,
       "version_minor": 0
      },
      "text/plain": [
       "Model progress for dataset 9:   0%|          | 0/3 [00:00<?, ?it/s]"
      ]
     },
     "metadata": {},
     "output_type": "display_data"
    },
    {
     "data": {
      "application/vnd.jupyter.widget-view+json": {
       "model_id": "d04f8a950c934943b11f1ef361bb47be",
       "version_major": 2,
       "version_minor": 0
      },
      "text/plain": [
       "Importance type progress for model 0:   0%|          | 0/9 [00:00<?, ?it/s]"
      ]
     },
     "metadata": {},
     "output_type": "display_data"
    },
    {
     "name": "stdout",
     "output_type": "stream",
     "text": [
      "<class 'sklearn.tree._classes.DecisionTreeClassifier'> (70, 10) (70, 1) classif_features_10_samples_100_seed_9 mutual_info\n",
      "<class 'sklearn.tree._classes.DecisionTreeClassifier'> (70, 10) (70, 1) classif_features_10_samples_100_seed_9 f_test\n",
      "<class 'sklearn.tree._classes.DecisionTreeClassifier'> (70, 10) (70, 1) classif_features_10_samples_100_seed_9 pimp\n",
      "<class 'sklearn.tree._classes.DecisionTreeClassifier'> (70, 10) (70, 1) classif_features_10_samples_100_seed_9 shap\n",
      "<class 'sklearn.tree._classes.DecisionTreeClassifier'> (70, 10) (70, 1) classif_features_10_samples_100_seed_9 pearson\n",
      "<class 'sklearn.tree._classes.DecisionTreeClassifier'> (70, 10) (70, 1) classif_features_10_samples_100_seed_9 spearman\n",
      "<class 'sklearn.tree._classes.DecisionTreeClassifier'> (70, 10) (70, 1) classif_features_10_samples_100_seed_9 kendall\n",
      "<class 'sklearn.tree._classes.DecisionTreeClassifier'> (70, 10) (70, 1) classif_features_10_samples_100_seed_9 pps\n"
     ]
    },
    {
     "data": {
      "application/vnd.jupyter.widget-view+json": {
       "model_id": "0510e1698ef242bb8a64e366be226834",
       "version_major": 2,
       "version_minor": 0
      },
      "text/plain": [
       "Importance type progress for model 1:   0%|          | 0/9 [00:00<?, ?it/s]"
      ]
     },
     "metadata": {},
     "output_type": "display_data"
    },
    {
     "name": "stdout",
     "output_type": "stream",
     "text": [
      "<class 'sklearn.ensemble._forest.RandomForestClassifier'> (70, 10) (70, 1) classif_features_10_samples_100_seed_9 mutual_info\n",
      "<class 'sklearn.ensemble._forest.RandomForestClassifier'> (70, 10) (70, 1) classif_features_10_samples_100_seed_9 f_test\n",
      "<class 'sklearn.ensemble._forest.RandomForestClassifier'> (70, 10) (70, 1) classif_features_10_samples_100_seed_9 pimp\n",
      "<class 'sklearn.ensemble._forest.RandomForestClassifier'> (70, 10) (70, 1) classif_features_10_samples_100_seed_9 shap\n",
      "<class 'sklearn.ensemble._forest.RandomForestClassifier'> (70, 10) (70, 1) classif_features_10_samples_100_seed_9 pearson\n",
      "<class 'sklearn.ensemble._forest.RandomForestClassifier'> (70, 10) (70, 1) classif_features_10_samples_100_seed_9 spearman\n",
      "<class 'sklearn.ensemble._forest.RandomForestClassifier'> (70, 10) (70, 1) classif_features_10_samples_100_seed_9 kendall\n",
      "<class 'sklearn.ensemble._forest.RandomForestClassifier'> (70, 10) (70, 1) classif_features_10_samples_100_seed_9 pps\n"
     ]
    },
    {
     "data": {
      "application/vnd.jupyter.widget-view+json": {
       "model_id": "f47f9652efc44ec7be73ba3d3162fe2d",
       "version_major": 2,
       "version_minor": 0
      },
      "text/plain": [
       "Importance type progress for model 2:   0%|          | 0/9 [00:00<?, ?it/s]"
      ]
     },
     "metadata": {},
     "output_type": "display_data"
    },
    {
     "name": "stdout",
     "output_type": "stream",
     "text": [
      "<class 'xgboost.sklearn.XGBClassifier'> (70, 10) (70, 1) classif_features_10_samples_100_seed_9 mutual_info\n",
      "<class 'xgboost.sklearn.XGBClassifier'> (70, 10) (70, 1) classif_features_10_samples_100_seed_9 f_test\n",
      "<class 'xgboost.sklearn.XGBClassifier'> (70, 10) (70, 1) classif_features_10_samples_100_seed_9 pimp\n",
      "<class 'xgboost.sklearn.XGBClassifier'> (70, 10) (70, 1) classif_features_10_samples_100_seed_9 shap\n",
      "<class 'xgboost.sklearn.XGBClassifier'> (70, 10) (70, 1) classif_features_10_samples_100_seed_9 pearson\n",
      "<class 'xgboost.sklearn.XGBClassifier'> (70, 10) (70, 1) classif_features_10_samples_100_seed_9 spearman\n",
      "<class 'xgboost.sklearn.XGBClassifier'> (70, 10) (70, 1) classif_features_10_samples_100_seed_9 kendall\n",
      "<class 'xgboost.sklearn.XGBClassifier'> (70, 10) (70, 1) classif_features_10_samples_100_seed_9 pps\n"
     ]
    },
    {
     "data": {
      "application/vnd.jupyter.widget-view+json": {
       "model_id": "8c50cbd729c14f34a5d5de7fb87ccc32",
       "version_major": 2,
       "version_minor": 0
      },
      "text/plain": [
       "Model progress for dataset 10:   0%|          | 0/3 [00:00<?, ?it/s]"
      ]
     },
     "metadata": {},
     "output_type": "display_data"
    },
    {
     "data": {
      "application/vnd.jupyter.widget-view+json": {
       "model_id": "cbc44652ce5442dfbe62a9fc31e2eeac",
       "version_major": 2,
       "version_minor": 0
      },
      "text/plain": [
       "Importance type progress for model 0:   0%|          | 0/9 [00:00<?, ?it/s]"
      ]
     },
     "metadata": {},
     "output_type": "display_data"
    },
    {
     "name": "stdout",
     "output_type": "stream",
     "text": [
      "<class 'sklearn.tree._classes.DecisionTreeClassifier'> (700, 10) (700, 1) classif_features_10_samples_1000_seed_0 mutual_info\n",
      "<class 'sklearn.tree._classes.DecisionTreeClassifier'> (700, 10) (700, 1) classif_features_10_samples_1000_seed_0 f_test\n",
      "<class 'sklearn.tree._classes.DecisionTreeClassifier'> (700, 10) (700, 1) classif_features_10_samples_1000_seed_0 pimp\n",
      "<class 'sklearn.tree._classes.DecisionTreeClassifier'> (700, 10) (700, 1) classif_features_10_samples_1000_seed_0 shap\n",
      "<class 'sklearn.tree._classes.DecisionTreeClassifier'> (700, 10) (700, 1) classif_features_10_samples_1000_seed_0 pearson\n",
      "<class 'sklearn.tree._classes.DecisionTreeClassifier'> (700, 10) (700, 1) classif_features_10_samples_1000_seed_0 spearman\n",
      "<class 'sklearn.tree._classes.DecisionTreeClassifier'> (700, 10) (700, 1) classif_features_10_samples_1000_seed_0 kendall\n",
      "<class 'sklearn.tree._classes.DecisionTreeClassifier'> (700, 10) (700, 1) classif_features_10_samples_1000_seed_0 pps\n"
     ]
    },
    {
     "data": {
      "application/vnd.jupyter.widget-view+json": {
       "model_id": "7608a18658d94a2781f0a2fa203e2527",
       "version_major": 2,
       "version_minor": 0
      },
      "text/plain": [
       "Importance type progress for model 1:   0%|          | 0/9 [00:00<?, ?it/s]"
      ]
     },
     "metadata": {},
     "output_type": "display_data"
    },
    {
     "name": "stdout",
     "output_type": "stream",
     "text": [
      "<class 'sklearn.ensemble._forest.RandomForestClassifier'> (700, 10) (700, 1) classif_features_10_samples_1000_seed_0 mutual_info\n",
      "<class 'sklearn.ensemble._forest.RandomForestClassifier'> (700, 10) (700, 1) classif_features_10_samples_1000_seed_0 f_test\n",
      "<class 'sklearn.ensemble._forest.RandomForestClassifier'> (700, 10) (700, 1) classif_features_10_samples_1000_seed_0 pimp\n",
      "<class 'sklearn.ensemble._forest.RandomForestClassifier'> (700, 10) (700, 1) classif_features_10_samples_1000_seed_0 shap\n",
      "<class 'sklearn.ensemble._forest.RandomForestClassifier'> (700, 10) (700, 1) classif_features_10_samples_1000_seed_0 pearson\n",
      "<class 'sklearn.ensemble._forest.RandomForestClassifier'> (700, 10) (700, 1) classif_features_10_samples_1000_seed_0 spearman\n",
      "<class 'sklearn.ensemble._forest.RandomForestClassifier'> (700, 10) (700, 1) classif_features_10_samples_1000_seed_0 kendall\n",
      "<class 'sklearn.ensemble._forest.RandomForestClassifier'> (700, 10) (700, 1) classif_features_10_samples_1000_seed_0 pps\n"
     ]
    },
    {
     "data": {
      "application/vnd.jupyter.widget-view+json": {
       "model_id": "6f429bc3835e4d7a954aa91202e49bf4",
       "version_major": 2,
       "version_minor": 0
      },
      "text/plain": [
       "Importance type progress for model 2:   0%|          | 0/9 [00:00<?, ?it/s]"
      ]
     },
     "metadata": {},
     "output_type": "display_data"
    },
    {
     "name": "stdout",
     "output_type": "stream",
     "text": [
      "<class 'xgboost.sklearn.XGBClassifier'> (700, 10) (700, 1) classif_features_10_samples_1000_seed_0 mutual_info\n",
      "<class 'xgboost.sklearn.XGBClassifier'> (700, 10) (700, 1) classif_features_10_samples_1000_seed_0 f_test\n",
      "<class 'xgboost.sklearn.XGBClassifier'> (700, 10) (700, 1) classif_features_10_samples_1000_seed_0 pimp\n",
      "<class 'xgboost.sklearn.XGBClassifier'> (700, 10) (700, 1) classif_features_10_samples_1000_seed_0 shap\n",
      "<class 'xgboost.sklearn.XGBClassifier'> (700, 10) (700, 1) classif_features_10_samples_1000_seed_0 pearson\n",
      "<class 'xgboost.sklearn.XGBClassifier'> (700, 10) (700, 1) classif_features_10_samples_1000_seed_0 spearman\n",
      "<class 'xgboost.sklearn.XGBClassifier'> (700, 10) (700, 1) classif_features_10_samples_1000_seed_0 kendall\n",
      "<class 'xgboost.sklearn.XGBClassifier'> (700, 10) (700, 1) classif_features_10_samples_1000_seed_0 pps\n"
     ]
    },
    {
     "data": {
      "application/vnd.jupyter.widget-view+json": {
       "model_id": "51b7214879dd4121ac5239260135741b",
       "version_major": 2,
       "version_minor": 0
      },
      "text/plain": [
       "Model progress for dataset 11:   0%|          | 0/3 [00:00<?, ?it/s]"
      ]
     },
     "metadata": {},
     "output_type": "display_data"
    },
    {
     "data": {
      "application/vnd.jupyter.widget-view+json": {
       "model_id": "5bc287bd6f0f49c2948f9faefc9d3387",
       "version_major": 2,
       "version_minor": 0
      },
      "text/plain": [
       "Importance type progress for model 0:   0%|          | 0/9 [00:00<?, ?it/s]"
      ]
     },
     "metadata": {},
     "output_type": "display_data"
    },
    {
     "name": "stdout",
     "output_type": "stream",
     "text": [
      "<class 'sklearn.tree._classes.DecisionTreeClassifier'> (700, 10) (700, 1) classif_features_10_samples_1000_seed_1 mutual_info\n",
      "<class 'sklearn.tree._classes.DecisionTreeClassifier'> (700, 10) (700, 1) classif_features_10_samples_1000_seed_1 f_test\n",
      "<class 'sklearn.tree._classes.DecisionTreeClassifier'> (700, 10) (700, 1) classif_features_10_samples_1000_seed_1 pimp\n",
      "<class 'sklearn.tree._classes.DecisionTreeClassifier'> (700, 10) (700, 1) classif_features_10_samples_1000_seed_1 shap\n",
      "<class 'sklearn.tree._classes.DecisionTreeClassifier'> (700, 10) (700, 1) classif_features_10_samples_1000_seed_1 pearson\n",
      "<class 'sklearn.tree._classes.DecisionTreeClassifier'> (700, 10) (700, 1) classif_features_10_samples_1000_seed_1 spearman\n",
      "<class 'sklearn.tree._classes.DecisionTreeClassifier'> (700, 10) (700, 1) classif_features_10_samples_1000_seed_1 kendall\n",
      "<class 'sklearn.tree._classes.DecisionTreeClassifier'> (700, 10) (700, 1) classif_features_10_samples_1000_seed_1 pps\n"
     ]
    },
    {
     "data": {
      "application/vnd.jupyter.widget-view+json": {
       "model_id": "05bcc7de9db940f78d1b851fe751e213",
       "version_major": 2,
       "version_minor": 0
      },
      "text/plain": [
       "Importance type progress for model 1:   0%|          | 0/9 [00:00<?, ?it/s]"
      ]
     },
     "metadata": {},
     "output_type": "display_data"
    },
    {
     "name": "stdout",
     "output_type": "stream",
     "text": [
      "<class 'sklearn.ensemble._forest.RandomForestClassifier'> (700, 10) (700, 1) classif_features_10_samples_1000_seed_1 mutual_info\n",
      "<class 'sklearn.ensemble._forest.RandomForestClassifier'> (700, 10) (700, 1) classif_features_10_samples_1000_seed_1 f_test\n",
      "<class 'sklearn.ensemble._forest.RandomForestClassifier'> (700, 10) (700, 1) classif_features_10_samples_1000_seed_1 pimp\n",
      "<class 'sklearn.ensemble._forest.RandomForestClassifier'> (700, 10) (700, 1) classif_features_10_samples_1000_seed_1 shap\n",
      "<class 'sklearn.ensemble._forest.RandomForestClassifier'> (700, 10) (700, 1) classif_features_10_samples_1000_seed_1 pearson\n",
      "<class 'sklearn.ensemble._forest.RandomForestClassifier'> (700, 10) (700, 1) classif_features_10_samples_1000_seed_1 spearman\n",
      "<class 'sklearn.ensemble._forest.RandomForestClassifier'> (700, 10) (700, 1) classif_features_10_samples_1000_seed_1 kendall\n",
      "<class 'sklearn.ensemble._forest.RandomForestClassifier'> (700, 10) (700, 1) classif_features_10_samples_1000_seed_1 pps\n"
     ]
    },
    {
     "data": {
      "application/vnd.jupyter.widget-view+json": {
       "model_id": "9ccd3e70f2944bd9be75f125ba837b78",
       "version_major": 2,
       "version_minor": 0
      },
      "text/plain": [
       "Importance type progress for model 2:   0%|          | 0/9 [00:00<?, ?it/s]"
      ]
     },
     "metadata": {},
     "output_type": "display_data"
    },
    {
     "name": "stdout",
     "output_type": "stream",
     "text": [
      "<class 'xgboost.sklearn.XGBClassifier'> (700, 10) (700, 1) classif_features_10_samples_1000_seed_1 mutual_info\n",
      "<class 'xgboost.sklearn.XGBClassifier'> (700, 10) (700, 1) classif_features_10_samples_1000_seed_1 f_test\n",
      "<class 'xgboost.sklearn.XGBClassifier'> (700, 10) (700, 1) classif_features_10_samples_1000_seed_1 pimp\n",
      "<class 'xgboost.sklearn.XGBClassifier'> (700, 10) (700, 1) classif_features_10_samples_1000_seed_1 shap\n",
      "<class 'xgboost.sklearn.XGBClassifier'> (700, 10) (700, 1) classif_features_10_samples_1000_seed_1 pearson\n",
      "<class 'xgboost.sklearn.XGBClassifier'> (700, 10) (700, 1) classif_features_10_samples_1000_seed_1 spearman\n",
      "<class 'xgboost.sklearn.XGBClassifier'> (700, 10) (700, 1) classif_features_10_samples_1000_seed_1 kendall\n",
      "<class 'xgboost.sklearn.XGBClassifier'> (700, 10) (700, 1) classif_features_10_samples_1000_seed_1 pps\n"
     ]
    },
    {
     "data": {
      "application/vnd.jupyter.widget-view+json": {
       "model_id": "e31c57d48e1043a28abf9c314164f7b2",
       "version_major": 2,
       "version_minor": 0
      },
      "text/plain": [
       "Model progress for dataset 12:   0%|          | 0/3 [00:00<?, ?it/s]"
      ]
     },
     "metadata": {},
     "output_type": "display_data"
    },
    {
     "data": {
      "application/vnd.jupyter.widget-view+json": {
       "model_id": "8434807d968e4d608511883569020d95",
       "version_major": 2,
       "version_minor": 0
      },
      "text/plain": [
       "Importance type progress for model 0:   0%|          | 0/9 [00:00<?, ?it/s]"
      ]
     },
     "metadata": {},
     "output_type": "display_data"
    },
    {
     "name": "stdout",
     "output_type": "stream",
     "text": [
      "<class 'sklearn.tree._classes.DecisionTreeClassifier'> (700, 10) (700, 1) classif_features_10_samples_1000_seed_2 mutual_info\n",
      "<class 'sklearn.tree._classes.DecisionTreeClassifier'> (700, 10) (700, 1) classif_features_10_samples_1000_seed_2 f_test\n",
      "<class 'sklearn.tree._classes.DecisionTreeClassifier'> (700, 10) (700, 1) classif_features_10_samples_1000_seed_2 pimp\n",
      "<class 'sklearn.tree._classes.DecisionTreeClassifier'> (700, 10) (700, 1) classif_features_10_samples_1000_seed_2 shap\n",
      "<class 'sklearn.tree._classes.DecisionTreeClassifier'> (700, 10) (700, 1) classif_features_10_samples_1000_seed_2 pearson\n",
      "<class 'sklearn.tree._classes.DecisionTreeClassifier'> (700, 10) (700, 1) classif_features_10_samples_1000_seed_2 spearman\n",
      "<class 'sklearn.tree._classes.DecisionTreeClassifier'> (700, 10) (700, 1) classif_features_10_samples_1000_seed_2 kendall\n",
      "<class 'sklearn.tree._classes.DecisionTreeClassifier'> (700, 10) (700, 1) classif_features_10_samples_1000_seed_2 pps\n"
     ]
    },
    {
     "data": {
      "application/vnd.jupyter.widget-view+json": {
       "model_id": "35994448d327468189e39836d982ceb0",
       "version_major": 2,
       "version_minor": 0
      },
      "text/plain": [
       "Importance type progress for model 1:   0%|          | 0/9 [00:00<?, ?it/s]"
      ]
     },
     "metadata": {},
     "output_type": "display_data"
    },
    {
     "name": "stdout",
     "output_type": "stream",
     "text": [
      "<class 'sklearn.ensemble._forest.RandomForestClassifier'> (700, 10) (700, 1) classif_features_10_samples_1000_seed_2 mutual_info\n",
      "<class 'sklearn.ensemble._forest.RandomForestClassifier'> (700, 10) (700, 1) classif_features_10_samples_1000_seed_2 f_test\n",
      "<class 'sklearn.ensemble._forest.RandomForestClassifier'> (700, 10) (700, 1) classif_features_10_samples_1000_seed_2 pimp\n",
      "<class 'sklearn.ensemble._forest.RandomForestClassifier'> (700, 10) (700, 1) classif_features_10_samples_1000_seed_2 shap\n",
      "<class 'sklearn.ensemble._forest.RandomForestClassifier'> (700, 10) (700, 1) classif_features_10_samples_1000_seed_2 pearson\n",
      "<class 'sklearn.ensemble._forest.RandomForestClassifier'> (700, 10) (700, 1) classif_features_10_samples_1000_seed_2 spearman\n",
      "<class 'sklearn.ensemble._forest.RandomForestClassifier'> (700, 10) (700, 1) classif_features_10_samples_1000_seed_2 kendall\n",
      "<class 'sklearn.ensemble._forest.RandomForestClassifier'> (700, 10) (700, 1) classif_features_10_samples_1000_seed_2 pps\n"
     ]
    },
    {
     "data": {
      "application/vnd.jupyter.widget-view+json": {
       "model_id": "bf1e4173177b4918a378b842e92a6d3e",
       "version_major": 2,
       "version_minor": 0
      },
      "text/plain": [
       "Importance type progress for model 2:   0%|          | 0/9 [00:00<?, ?it/s]"
      ]
     },
     "metadata": {},
     "output_type": "display_data"
    },
    {
     "name": "stdout",
     "output_type": "stream",
     "text": [
      "<class 'xgboost.sklearn.XGBClassifier'> (700, 10) (700, 1) classif_features_10_samples_1000_seed_2 mutual_info\n",
      "<class 'xgboost.sklearn.XGBClassifier'> (700, 10) (700, 1) classif_features_10_samples_1000_seed_2 f_test\n",
      "<class 'xgboost.sklearn.XGBClassifier'> (700, 10) (700, 1) classif_features_10_samples_1000_seed_2 pimp\n",
      "<class 'xgboost.sklearn.XGBClassifier'> (700, 10) (700, 1) classif_features_10_samples_1000_seed_2 shap\n",
      "<class 'xgboost.sklearn.XGBClassifier'> (700, 10) (700, 1) classif_features_10_samples_1000_seed_2 pearson\n",
      "<class 'xgboost.sklearn.XGBClassifier'> (700, 10) (700, 1) classif_features_10_samples_1000_seed_2 spearman\n",
      "<class 'xgboost.sklearn.XGBClassifier'> (700, 10) (700, 1) classif_features_10_samples_1000_seed_2 kendall\n",
      "<class 'xgboost.sklearn.XGBClassifier'> (700, 10) (700, 1) classif_features_10_samples_1000_seed_2 pps\n"
     ]
    },
    {
     "data": {
      "application/vnd.jupyter.widget-view+json": {
       "model_id": "850cabb9f4b84f0bb6860f60f456bd3a",
       "version_major": 2,
       "version_minor": 0
      },
      "text/plain": [
       "Model progress for dataset 13:   0%|          | 0/3 [00:00<?, ?it/s]"
      ]
     },
     "metadata": {},
     "output_type": "display_data"
    },
    {
     "data": {
      "application/vnd.jupyter.widget-view+json": {
       "model_id": "42038d5f1e664d2eb138499b0e7e766a",
       "version_major": 2,
       "version_minor": 0
      },
      "text/plain": [
       "Importance type progress for model 0:   0%|          | 0/9 [00:00<?, ?it/s]"
      ]
     },
     "metadata": {},
     "output_type": "display_data"
    },
    {
     "name": "stdout",
     "output_type": "stream",
     "text": [
      "<class 'sklearn.tree._classes.DecisionTreeClassifier'> (700, 10) (700, 1) classif_features_10_samples_1000_seed_3 mutual_info\n",
      "<class 'sklearn.tree._classes.DecisionTreeClassifier'> (700, 10) (700, 1) classif_features_10_samples_1000_seed_3 f_test\n",
      "<class 'sklearn.tree._classes.DecisionTreeClassifier'> (700, 10) (700, 1) classif_features_10_samples_1000_seed_3 pimp\n",
      "<class 'sklearn.tree._classes.DecisionTreeClassifier'> (700, 10) (700, 1) classif_features_10_samples_1000_seed_3 shap\n",
      "<class 'sklearn.tree._classes.DecisionTreeClassifier'> (700, 10) (700, 1) classif_features_10_samples_1000_seed_3 pearson\n",
      "<class 'sklearn.tree._classes.DecisionTreeClassifier'> (700, 10) (700, 1) classif_features_10_samples_1000_seed_3 spearman\n",
      "<class 'sklearn.tree._classes.DecisionTreeClassifier'> (700, 10) (700, 1) classif_features_10_samples_1000_seed_3 kendall\n",
      "<class 'sklearn.tree._classes.DecisionTreeClassifier'> (700, 10) (700, 1) classif_features_10_samples_1000_seed_3 pps\n"
     ]
    },
    {
     "data": {
      "application/vnd.jupyter.widget-view+json": {
       "model_id": "2b2f4fecc4fe4d80bb44a0b88e630c74",
       "version_major": 2,
       "version_minor": 0
      },
      "text/plain": [
       "Importance type progress for model 1:   0%|          | 0/9 [00:00<?, ?it/s]"
      ]
     },
     "metadata": {},
     "output_type": "display_data"
    },
    {
     "name": "stdout",
     "output_type": "stream",
     "text": [
      "<class 'sklearn.ensemble._forest.RandomForestClassifier'> (700, 10) (700, 1) classif_features_10_samples_1000_seed_3 mutual_info\n",
      "<class 'sklearn.ensemble._forest.RandomForestClassifier'> (700, 10) (700, 1) classif_features_10_samples_1000_seed_3 f_test\n",
      "<class 'sklearn.ensemble._forest.RandomForestClassifier'> (700, 10) (700, 1) classif_features_10_samples_1000_seed_3 pimp\n",
      "<class 'sklearn.ensemble._forest.RandomForestClassifier'> (700, 10) (700, 1) classif_features_10_samples_1000_seed_3 shap\n",
      "<class 'sklearn.ensemble._forest.RandomForestClassifier'> (700, 10) (700, 1) classif_features_10_samples_1000_seed_3 pearson\n",
      "<class 'sklearn.ensemble._forest.RandomForestClassifier'> (700, 10) (700, 1) classif_features_10_samples_1000_seed_3 spearman\n",
      "<class 'sklearn.ensemble._forest.RandomForestClassifier'> (700, 10) (700, 1) classif_features_10_samples_1000_seed_3 kendall\n",
      "<class 'sklearn.ensemble._forest.RandomForestClassifier'> (700, 10) (700, 1) classif_features_10_samples_1000_seed_3 pps\n"
     ]
    },
    {
     "data": {
      "application/vnd.jupyter.widget-view+json": {
       "model_id": "39af8b10728c4683a0087ae3ffeef82f",
       "version_major": 2,
       "version_minor": 0
      },
      "text/plain": [
       "Importance type progress for model 2:   0%|          | 0/9 [00:00<?, ?it/s]"
      ]
     },
     "metadata": {},
     "output_type": "display_data"
    },
    {
     "name": "stdout",
     "output_type": "stream",
     "text": [
      "<class 'xgboost.sklearn.XGBClassifier'> (700, 10) (700, 1) classif_features_10_samples_1000_seed_3 mutual_info\n",
      "<class 'xgboost.sklearn.XGBClassifier'> (700, 10) (700, 1) classif_features_10_samples_1000_seed_3 f_test\n",
      "<class 'xgboost.sklearn.XGBClassifier'> (700, 10) (700, 1) classif_features_10_samples_1000_seed_3 pimp\n",
      "<class 'xgboost.sklearn.XGBClassifier'> (700, 10) (700, 1) classif_features_10_samples_1000_seed_3 shap\n",
      "<class 'xgboost.sklearn.XGBClassifier'> (700, 10) (700, 1) classif_features_10_samples_1000_seed_3 pearson\n",
      "<class 'xgboost.sklearn.XGBClassifier'> (700, 10) (700, 1) classif_features_10_samples_1000_seed_3 spearman\n",
      "<class 'xgboost.sklearn.XGBClassifier'> (700, 10) (700, 1) classif_features_10_samples_1000_seed_3 kendall\n",
      "<class 'xgboost.sklearn.XGBClassifier'> (700, 10) (700, 1) classif_features_10_samples_1000_seed_3 pps\n"
     ]
    },
    {
     "data": {
      "application/vnd.jupyter.widget-view+json": {
       "model_id": "641f97042333435a8a0096f7971be518",
       "version_major": 2,
       "version_minor": 0
      },
      "text/plain": [
       "Model progress for dataset 14:   0%|          | 0/3 [00:00<?, ?it/s]"
      ]
     },
     "metadata": {},
     "output_type": "display_data"
    },
    {
     "data": {
      "application/vnd.jupyter.widget-view+json": {
       "model_id": "767b33061071428da9e58f6a9745135e",
       "version_major": 2,
       "version_minor": 0
      },
      "text/plain": [
       "Importance type progress for model 0:   0%|          | 0/9 [00:00<?, ?it/s]"
      ]
     },
     "metadata": {},
     "output_type": "display_data"
    },
    {
     "name": "stdout",
     "output_type": "stream",
     "text": [
      "<class 'sklearn.tree._classes.DecisionTreeClassifier'> (700, 10) (700, 1) classif_features_10_samples_1000_seed_4 mutual_info\n",
      "<class 'sklearn.tree._classes.DecisionTreeClassifier'> (700, 10) (700, 1) classif_features_10_samples_1000_seed_4 f_test\n",
      "<class 'sklearn.tree._classes.DecisionTreeClassifier'> (700, 10) (700, 1) classif_features_10_samples_1000_seed_4 pimp\n",
      "<class 'sklearn.tree._classes.DecisionTreeClassifier'> (700, 10) (700, 1) classif_features_10_samples_1000_seed_4 shap\n",
      "<class 'sklearn.tree._classes.DecisionTreeClassifier'> (700, 10) (700, 1) classif_features_10_samples_1000_seed_4 pearson\n",
      "<class 'sklearn.tree._classes.DecisionTreeClassifier'> (700, 10) (700, 1) classif_features_10_samples_1000_seed_4 spearman\n",
      "<class 'sklearn.tree._classes.DecisionTreeClassifier'> (700, 10) (700, 1) classif_features_10_samples_1000_seed_4 kendall\n",
      "<class 'sklearn.tree._classes.DecisionTreeClassifier'> (700, 10) (700, 1) classif_features_10_samples_1000_seed_4 pps\n"
     ]
    },
    {
     "data": {
      "application/vnd.jupyter.widget-view+json": {
       "model_id": "5118cf37929644a3a9b2ae9a06f4d864",
       "version_major": 2,
       "version_minor": 0
      },
      "text/plain": [
       "Importance type progress for model 1:   0%|          | 0/9 [00:00<?, ?it/s]"
      ]
     },
     "metadata": {},
     "output_type": "display_data"
    },
    {
     "name": "stdout",
     "output_type": "stream",
     "text": [
      "<class 'sklearn.ensemble._forest.RandomForestClassifier'> (700, 10) (700, 1) classif_features_10_samples_1000_seed_4 mutual_info\n",
      "<class 'sklearn.ensemble._forest.RandomForestClassifier'> (700, 10) (700, 1) classif_features_10_samples_1000_seed_4 f_test\n",
      "<class 'sklearn.ensemble._forest.RandomForestClassifier'> (700, 10) (700, 1) classif_features_10_samples_1000_seed_4 pimp\n",
      "<class 'sklearn.ensemble._forest.RandomForestClassifier'> (700, 10) (700, 1) classif_features_10_samples_1000_seed_4 shap\n",
      "<class 'sklearn.ensemble._forest.RandomForestClassifier'> (700, 10) (700, 1) classif_features_10_samples_1000_seed_4 pearson\n",
      "<class 'sklearn.ensemble._forest.RandomForestClassifier'> (700, 10) (700, 1) classif_features_10_samples_1000_seed_4 spearman\n",
      "<class 'sklearn.ensemble._forest.RandomForestClassifier'> (700, 10) (700, 1) classif_features_10_samples_1000_seed_4 kendall\n",
      "<class 'sklearn.ensemble._forest.RandomForestClassifier'> (700, 10) (700, 1) classif_features_10_samples_1000_seed_4 pps\n"
     ]
    },
    {
     "data": {
      "application/vnd.jupyter.widget-view+json": {
       "model_id": "15a5505036bb48e8b6923a1a627f6e7f",
       "version_major": 2,
       "version_minor": 0
      },
      "text/plain": [
       "Importance type progress for model 2:   0%|          | 0/9 [00:00<?, ?it/s]"
      ]
     },
     "metadata": {},
     "output_type": "display_data"
    },
    {
     "name": "stdout",
     "output_type": "stream",
     "text": [
      "<class 'xgboost.sklearn.XGBClassifier'> (700, 10) (700, 1) classif_features_10_samples_1000_seed_4 mutual_info\n",
      "<class 'xgboost.sklearn.XGBClassifier'> (700, 10) (700, 1) classif_features_10_samples_1000_seed_4 f_test\n",
      "<class 'xgboost.sklearn.XGBClassifier'> (700, 10) (700, 1) classif_features_10_samples_1000_seed_4 pimp\n",
      "<class 'xgboost.sklearn.XGBClassifier'> (700, 10) (700, 1) classif_features_10_samples_1000_seed_4 shap\n",
      "<class 'xgboost.sklearn.XGBClassifier'> (700, 10) (700, 1) classif_features_10_samples_1000_seed_4 pearson\n",
      "<class 'xgboost.sklearn.XGBClassifier'> (700, 10) (700, 1) classif_features_10_samples_1000_seed_4 spearman\n",
      "<class 'xgboost.sklearn.XGBClassifier'> (700, 10) (700, 1) classif_features_10_samples_1000_seed_4 kendall\n",
      "<class 'xgboost.sklearn.XGBClassifier'> (700, 10) (700, 1) classif_features_10_samples_1000_seed_4 pps\n"
     ]
    },
    {
     "data": {
      "application/vnd.jupyter.widget-view+json": {
       "model_id": "7993a26c77e04686946a40e03fadab0f",
       "version_major": 2,
       "version_minor": 0
      },
      "text/plain": [
       "Model progress for dataset 15:   0%|          | 0/3 [00:00<?, ?it/s]"
      ]
     },
     "metadata": {},
     "output_type": "display_data"
    },
    {
     "data": {
      "application/vnd.jupyter.widget-view+json": {
       "model_id": "79cb20c9140e4b7a96343459dc0c464c",
       "version_major": 2,
       "version_minor": 0
      },
      "text/plain": [
       "Importance type progress for model 0:   0%|          | 0/9 [00:00<?, ?it/s]"
      ]
     },
     "metadata": {},
     "output_type": "display_data"
    },
    {
     "name": "stdout",
     "output_type": "stream",
     "text": [
      "<class 'sklearn.tree._classes.DecisionTreeClassifier'> (700, 10) (700, 1) classif_features_10_samples_1000_seed_5 mutual_info\n",
      "<class 'sklearn.tree._classes.DecisionTreeClassifier'> (700, 10) (700, 1) classif_features_10_samples_1000_seed_5 f_test\n",
      "<class 'sklearn.tree._classes.DecisionTreeClassifier'> (700, 10) (700, 1) classif_features_10_samples_1000_seed_5 pimp\n",
      "<class 'sklearn.tree._classes.DecisionTreeClassifier'> (700, 10) (700, 1) classif_features_10_samples_1000_seed_5 shap\n",
      "<class 'sklearn.tree._classes.DecisionTreeClassifier'> (700, 10) (700, 1) classif_features_10_samples_1000_seed_5 pearson\n",
      "<class 'sklearn.tree._classes.DecisionTreeClassifier'> (700, 10) (700, 1) classif_features_10_samples_1000_seed_5 spearman\n",
      "<class 'sklearn.tree._classes.DecisionTreeClassifier'> (700, 10) (700, 1) classif_features_10_samples_1000_seed_5 kendall\n",
      "<class 'sklearn.tree._classes.DecisionTreeClassifier'> (700, 10) (700, 1) classif_features_10_samples_1000_seed_5 pps\n"
     ]
    },
    {
     "data": {
      "application/vnd.jupyter.widget-view+json": {
       "model_id": "8e5ccf3396174176900a7710b833ec42",
       "version_major": 2,
       "version_minor": 0
      },
      "text/plain": [
       "Importance type progress for model 1:   0%|          | 0/9 [00:00<?, ?it/s]"
      ]
     },
     "metadata": {},
     "output_type": "display_data"
    },
    {
     "name": "stdout",
     "output_type": "stream",
     "text": [
      "<class 'sklearn.ensemble._forest.RandomForestClassifier'> (700, 10) (700, 1) classif_features_10_samples_1000_seed_5 mutual_info\n",
      "<class 'sklearn.ensemble._forest.RandomForestClassifier'> (700, 10) (700, 1) classif_features_10_samples_1000_seed_5 f_test\n",
      "<class 'sklearn.ensemble._forest.RandomForestClassifier'> (700, 10) (700, 1) classif_features_10_samples_1000_seed_5 pimp\n",
      "<class 'sklearn.ensemble._forest.RandomForestClassifier'> (700, 10) (700, 1) classif_features_10_samples_1000_seed_5 shap\n",
      "<class 'sklearn.ensemble._forest.RandomForestClassifier'> (700, 10) (700, 1) classif_features_10_samples_1000_seed_5 pearson\n",
      "<class 'sklearn.ensemble._forest.RandomForestClassifier'> (700, 10) (700, 1) classif_features_10_samples_1000_seed_5 spearman\n",
      "<class 'sklearn.ensemble._forest.RandomForestClassifier'> (700, 10) (700, 1) classif_features_10_samples_1000_seed_5 kendall\n",
      "<class 'sklearn.ensemble._forest.RandomForestClassifier'> (700, 10) (700, 1) classif_features_10_samples_1000_seed_5 pps\n"
     ]
    },
    {
     "data": {
      "application/vnd.jupyter.widget-view+json": {
       "model_id": "55ca86a5323743e589e3ca2840edb0ee",
       "version_major": 2,
       "version_minor": 0
      },
      "text/plain": [
       "Importance type progress for model 2:   0%|          | 0/9 [00:00<?, ?it/s]"
      ]
     },
     "metadata": {},
     "output_type": "display_data"
    },
    {
     "name": "stdout",
     "output_type": "stream",
     "text": [
      "<class 'xgboost.sklearn.XGBClassifier'> (700, 10) (700, 1) classif_features_10_samples_1000_seed_5 mutual_info\n",
      "<class 'xgboost.sklearn.XGBClassifier'> (700, 10) (700, 1) classif_features_10_samples_1000_seed_5 f_test\n",
      "<class 'xgboost.sklearn.XGBClassifier'> (700, 10) (700, 1) classif_features_10_samples_1000_seed_5 pimp\n",
      "<class 'xgboost.sklearn.XGBClassifier'> (700, 10) (700, 1) classif_features_10_samples_1000_seed_5 shap\n",
      "<class 'xgboost.sklearn.XGBClassifier'> (700, 10) (700, 1) classif_features_10_samples_1000_seed_5 pearson\n",
      "<class 'xgboost.sklearn.XGBClassifier'> (700, 10) (700, 1) classif_features_10_samples_1000_seed_5 spearman\n",
      "<class 'xgboost.sklearn.XGBClassifier'> (700, 10) (700, 1) classif_features_10_samples_1000_seed_5 kendall\n",
      "<class 'xgboost.sklearn.XGBClassifier'> (700, 10) (700, 1) classif_features_10_samples_1000_seed_5 pps\n"
     ]
    },
    {
     "data": {
      "application/vnd.jupyter.widget-view+json": {
       "model_id": "c2c3846afb9140c3bc5725269b68f728",
       "version_major": 2,
       "version_minor": 0
      },
      "text/plain": [
       "Model progress for dataset 16:   0%|          | 0/3 [00:00<?, ?it/s]"
      ]
     },
     "metadata": {},
     "output_type": "display_data"
    },
    {
     "data": {
      "application/vnd.jupyter.widget-view+json": {
       "model_id": "a133b42d8a194323a85701afc37474e0",
       "version_major": 2,
       "version_minor": 0
      },
      "text/plain": [
       "Importance type progress for model 0:   0%|          | 0/9 [00:00<?, ?it/s]"
      ]
     },
     "metadata": {},
     "output_type": "display_data"
    },
    {
     "name": "stdout",
     "output_type": "stream",
     "text": [
      "<class 'sklearn.tree._classes.DecisionTreeClassifier'> (700, 10) (700, 1) classif_features_10_samples_1000_seed_6 mutual_info\n",
      "<class 'sklearn.tree._classes.DecisionTreeClassifier'> (700, 10) (700, 1) classif_features_10_samples_1000_seed_6 f_test\n",
      "<class 'sklearn.tree._classes.DecisionTreeClassifier'> (700, 10) (700, 1) classif_features_10_samples_1000_seed_6 pimp\n",
      "<class 'sklearn.tree._classes.DecisionTreeClassifier'> (700, 10) (700, 1) classif_features_10_samples_1000_seed_6 shap\n",
      "<class 'sklearn.tree._classes.DecisionTreeClassifier'> (700, 10) (700, 1) classif_features_10_samples_1000_seed_6 pearson\n",
      "<class 'sklearn.tree._classes.DecisionTreeClassifier'> (700, 10) (700, 1) classif_features_10_samples_1000_seed_6 spearman\n",
      "<class 'sklearn.tree._classes.DecisionTreeClassifier'> (700, 10) (700, 1) classif_features_10_samples_1000_seed_6 kendall\n",
      "<class 'sklearn.tree._classes.DecisionTreeClassifier'> (700, 10) (700, 1) classif_features_10_samples_1000_seed_6 pps\n"
     ]
    },
    {
     "data": {
      "application/vnd.jupyter.widget-view+json": {
       "model_id": "6e79e51fd85643dfaa74aef98076434e",
       "version_major": 2,
       "version_minor": 0
      },
      "text/plain": [
       "Importance type progress for model 1:   0%|          | 0/9 [00:00<?, ?it/s]"
      ]
     },
     "metadata": {},
     "output_type": "display_data"
    },
    {
     "name": "stdout",
     "output_type": "stream",
     "text": [
      "<class 'sklearn.ensemble._forest.RandomForestClassifier'> (700, 10) (700, 1) classif_features_10_samples_1000_seed_6 mutual_info\n",
      "<class 'sklearn.ensemble._forest.RandomForestClassifier'> (700, 10) (700, 1) classif_features_10_samples_1000_seed_6 f_test\n",
      "<class 'sklearn.ensemble._forest.RandomForestClassifier'> (700, 10) (700, 1) classif_features_10_samples_1000_seed_6 pimp\n",
      "<class 'sklearn.ensemble._forest.RandomForestClassifier'> (700, 10) (700, 1) classif_features_10_samples_1000_seed_6 shap\n",
      "<class 'sklearn.ensemble._forest.RandomForestClassifier'> (700, 10) (700, 1) classif_features_10_samples_1000_seed_6 pearson\n",
      "<class 'sklearn.ensemble._forest.RandomForestClassifier'> (700, 10) (700, 1) classif_features_10_samples_1000_seed_6 spearman\n",
      "<class 'sklearn.ensemble._forest.RandomForestClassifier'> (700, 10) (700, 1) classif_features_10_samples_1000_seed_6 kendall\n",
      "<class 'sklearn.ensemble._forest.RandomForestClassifier'> (700, 10) (700, 1) classif_features_10_samples_1000_seed_6 pps\n"
     ]
    },
    {
     "data": {
      "application/vnd.jupyter.widget-view+json": {
       "model_id": "4fd328ec900b4b0cb2e5fb34ae365307",
       "version_major": 2,
       "version_minor": 0
      },
      "text/plain": [
       "Importance type progress for model 2:   0%|          | 0/9 [00:00<?, ?it/s]"
      ]
     },
     "metadata": {},
     "output_type": "display_data"
    },
    {
     "name": "stdout",
     "output_type": "stream",
     "text": [
      "<class 'xgboost.sklearn.XGBClassifier'> (700, 10) (700, 1) classif_features_10_samples_1000_seed_6 mutual_info\n",
      "<class 'xgboost.sklearn.XGBClassifier'> (700, 10) (700, 1) classif_features_10_samples_1000_seed_6 f_test\n",
      "<class 'xgboost.sklearn.XGBClassifier'> (700, 10) (700, 1) classif_features_10_samples_1000_seed_6 pimp\n",
      "<class 'xgboost.sklearn.XGBClassifier'> (700, 10) (700, 1) classif_features_10_samples_1000_seed_6 shap\n",
      "<class 'xgboost.sklearn.XGBClassifier'> (700, 10) (700, 1) classif_features_10_samples_1000_seed_6 pearson\n",
      "<class 'xgboost.sklearn.XGBClassifier'> (700, 10) (700, 1) classif_features_10_samples_1000_seed_6 spearman\n",
      "<class 'xgboost.sklearn.XGBClassifier'> (700, 10) (700, 1) classif_features_10_samples_1000_seed_6 kendall\n",
      "<class 'xgboost.sklearn.XGBClassifier'> (700, 10) (700, 1) classif_features_10_samples_1000_seed_6 pps\n"
     ]
    },
    {
     "data": {
      "application/vnd.jupyter.widget-view+json": {
       "model_id": "6e259c90083c422b95404cee75b3cbd6",
       "version_major": 2,
       "version_minor": 0
      },
      "text/plain": [
       "Model progress for dataset 17:   0%|          | 0/3 [00:00<?, ?it/s]"
      ]
     },
     "metadata": {},
     "output_type": "display_data"
    },
    {
     "data": {
      "application/vnd.jupyter.widget-view+json": {
       "model_id": "a74c45e4f18940a48cb5a77f2019a6f1",
       "version_major": 2,
       "version_minor": 0
      },
      "text/plain": [
       "Importance type progress for model 0:   0%|          | 0/9 [00:00<?, ?it/s]"
      ]
     },
     "metadata": {},
     "output_type": "display_data"
    },
    {
     "name": "stdout",
     "output_type": "stream",
     "text": [
      "<class 'sklearn.tree._classes.DecisionTreeClassifier'> (700, 10) (700, 1) classif_features_10_samples_1000_seed_7 mutual_info\n",
      "<class 'sklearn.tree._classes.DecisionTreeClassifier'> (700, 10) (700, 1) classif_features_10_samples_1000_seed_7 f_test\n",
      "<class 'sklearn.tree._classes.DecisionTreeClassifier'> (700, 10) (700, 1) classif_features_10_samples_1000_seed_7 pimp\n",
      "<class 'sklearn.tree._classes.DecisionTreeClassifier'> (700, 10) (700, 1) classif_features_10_samples_1000_seed_7 shap\n",
      "<class 'sklearn.tree._classes.DecisionTreeClassifier'> (700, 10) (700, 1) classif_features_10_samples_1000_seed_7 pearson\n",
      "<class 'sklearn.tree._classes.DecisionTreeClassifier'> (700, 10) (700, 1) classif_features_10_samples_1000_seed_7 spearman\n",
      "<class 'sklearn.tree._classes.DecisionTreeClassifier'> (700, 10) (700, 1) classif_features_10_samples_1000_seed_7 kendall\n",
      "<class 'sklearn.tree._classes.DecisionTreeClassifier'> (700, 10) (700, 1) classif_features_10_samples_1000_seed_7 pps\n"
     ]
    },
    {
     "data": {
      "application/vnd.jupyter.widget-view+json": {
       "model_id": "342189c6a19249d1b298329caaa43261",
       "version_major": 2,
       "version_minor": 0
      },
      "text/plain": [
       "Importance type progress for model 1:   0%|          | 0/9 [00:00<?, ?it/s]"
      ]
     },
     "metadata": {},
     "output_type": "display_data"
    },
    {
     "name": "stdout",
     "output_type": "stream",
     "text": [
      "<class 'sklearn.ensemble._forest.RandomForestClassifier'> (700, 10) (700, 1) classif_features_10_samples_1000_seed_7 mutual_info\n",
      "<class 'sklearn.ensemble._forest.RandomForestClassifier'> (700, 10) (700, 1) classif_features_10_samples_1000_seed_7 f_test\n",
      "<class 'sklearn.ensemble._forest.RandomForestClassifier'> (700, 10) (700, 1) classif_features_10_samples_1000_seed_7 pimp\n",
      "<class 'sklearn.ensemble._forest.RandomForestClassifier'> (700, 10) (700, 1) classif_features_10_samples_1000_seed_7 shap\n",
      "<class 'sklearn.ensemble._forest.RandomForestClassifier'> (700, 10) (700, 1) classif_features_10_samples_1000_seed_7 pearson\n",
      "<class 'sklearn.ensemble._forest.RandomForestClassifier'> (700, 10) (700, 1) classif_features_10_samples_1000_seed_7 spearman\n",
      "<class 'sklearn.ensemble._forest.RandomForestClassifier'> (700, 10) (700, 1) classif_features_10_samples_1000_seed_7 kendall\n",
      "<class 'sklearn.ensemble._forest.RandomForestClassifier'> (700, 10) (700, 1) classif_features_10_samples_1000_seed_7 pps\n"
     ]
    },
    {
     "data": {
      "application/vnd.jupyter.widget-view+json": {
       "model_id": "ee1c008ea4dd4414843548d20702784f",
       "version_major": 2,
       "version_minor": 0
      },
      "text/plain": [
       "Importance type progress for model 2:   0%|          | 0/9 [00:00<?, ?it/s]"
      ]
     },
     "metadata": {},
     "output_type": "display_data"
    },
    {
     "name": "stdout",
     "output_type": "stream",
     "text": [
      "<class 'xgboost.sklearn.XGBClassifier'> (700, 10) (700, 1) classif_features_10_samples_1000_seed_7 mutual_info\n",
      "<class 'xgboost.sklearn.XGBClassifier'> (700, 10) (700, 1) classif_features_10_samples_1000_seed_7 f_test\n",
      "<class 'xgboost.sklearn.XGBClassifier'> (700, 10) (700, 1) classif_features_10_samples_1000_seed_7 pimp\n",
      "<class 'xgboost.sklearn.XGBClassifier'> (700, 10) (700, 1) classif_features_10_samples_1000_seed_7 shap\n",
      "<class 'xgboost.sklearn.XGBClassifier'> (700, 10) (700, 1) classif_features_10_samples_1000_seed_7 pearson\n",
      "<class 'xgboost.sklearn.XGBClassifier'> (700, 10) (700, 1) classif_features_10_samples_1000_seed_7 spearman\n",
      "<class 'xgboost.sklearn.XGBClassifier'> (700, 10) (700, 1) classif_features_10_samples_1000_seed_7 kendall\n",
      "<class 'xgboost.sklearn.XGBClassifier'> (700, 10) (700, 1) classif_features_10_samples_1000_seed_7 pps\n"
     ]
    },
    {
     "data": {
      "application/vnd.jupyter.widget-view+json": {
       "model_id": "4251141873af4aafbc99ca740d93472f",
       "version_major": 2,
       "version_minor": 0
      },
      "text/plain": [
       "Model progress for dataset 18:   0%|          | 0/3 [00:00<?, ?it/s]"
      ]
     },
     "metadata": {},
     "output_type": "display_data"
    },
    {
     "data": {
      "application/vnd.jupyter.widget-view+json": {
       "model_id": "8a1bcdf2f8854d98a92ac12eef2683c6",
       "version_major": 2,
       "version_minor": 0
      },
      "text/plain": [
       "Importance type progress for model 0:   0%|          | 0/9 [00:00<?, ?it/s]"
      ]
     },
     "metadata": {},
     "output_type": "display_data"
    },
    {
     "name": "stdout",
     "output_type": "stream",
     "text": [
      "<class 'sklearn.tree._classes.DecisionTreeClassifier'> (700, 10) (700, 1) classif_features_10_samples_1000_seed_8 mutual_info\n",
      "<class 'sklearn.tree._classes.DecisionTreeClassifier'> (700, 10) (700, 1) classif_features_10_samples_1000_seed_8 f_test\n",
      "<class 'sklearn.tree._classes.DecisionTreeClassifier'> (700, 10) (700, 1) classif_features_10_samples_1000_seed_8 pimp\n",
      "<class 'sklearn.tree._classes.DecisionTreeClassifier'> (700, 10) (700, 1) classif_features_10_samples_1000_seed_8 shap\n",
      "<class 'sklearn.tree._classes.DecisionTreeClassifier'> (700, 10) (700, 1) classif_features_10_samples_1000_seed_8 pearson\n",
      "<class 'sklearn.tree._classes.DecisionTreeClassifier'> (700, 10) (700, 1) classif_features_10_samples_1000_seed_8 spearman\n",
      "<class 'sklearn.tree._classes.DecisionTreeClassifier'> (700, 10) (700, 1) classif_features_10_samples_1000_seed_8 kendall\n",
      "<class 'sklearn.tree._classes.DecisionTreeClassifier'> (700, 10) (700, 1) classif_features_10_samples_1000_seed_8 pps\n"
     ]
    },
    {
     "data": {
      "application/vnd.jupyter.widget-view+json": {
       "model_id": "2db2b7041695464fa38818f3665af5f7",
       "version_major": 2,
       "version_minor": 0
      },
      "text/plain": [
       "Importance type progress for model 1:   0%|          | 0/9 [00:00<?, ?it/s]"
      ]
     },
     "metadata": {},
     "output_type": "display_data"
    },
    {
     "name": "stdout",
     "output_type": "stream",
     "text": [
      "<class 'sklearn.ensemble._forest.RandomForestClassifier'> (700, 10) (700, 1) classif_features_10_samples_1000_seed_8 mutual_info\n",
      "<class 'sklearn.ensemble._forest.RandomForestClassifier'> (700, 10) (700, 1) classif_features_10_samples_1000_seed_8 f_test\n",
      "<class 'sklearn.ensemble._forest.RandomForestClassifier'> (700, 10) (700, 1) classif_features_10_samples_1000_seed_8 pimp\n",
      "<class 'sklearn.ensemble._forest.RandomForestClassifier'> (700, 10) (700, 1) classif_features_10_samples_1000_seed_8 shap\n",
      "<class 'sklearn.ensemble._forest.RandomForestClassifier'> (700, 10) (700, 1) classif_features_10_samples_1000_seed_8 pearson\n",
      "<class 'sklearn.ensemble._forest.RandomForestClassifier'> (700, 10) (700, 1) classif_features_10_samples_1000_seed_8 spearman\n",
      "<class 'sklearn.ensemble._forest.RandomForestClassifier'> (700, 10) (700, 1) classif_features_10_samples_1000_seed_8 kendall\n",
      "<class 'sklearn.ensemble._forest.RandomForestClassifier'> (700, 10) (700, 1) classif_features_10_samples_1000_seed_8 pps\n"
     ]
    },
    {
     "data": {
      "application/vnd.jupyter.widget-view+json": {
       "model_id": "9ab2e467e34845d2a33d8f266f5492c3",
       "version_major": 2,
       "version_minor": 0
      },
      "text/plain": [
       "Importance type progress for model 2:   0%|          | 0/9 [00:00<?, ?it/s]"
      ]
     },
     "metadata": {},
     "output_type": "display_data"
    },
    {
     "name": "stdout",
     "output_type": "stream",
     "text": [
      "<class 'xgboost.sklearn.XGBClassifier'> (700, 10) (700, 1) classif_features_10_samples_1000_seed_8 mutual_info\n",
      "<class 'xgboost.sklearn.XGBClassifier'> (700, 10) (700, 1) classif_features_10_samples_1000_seed_8 f_test\n",
      "<class 'xgboost.sklearn.XGBClassifier'> (700, 10) (700, 1) classif_features_10_samples_1000_seed_8 pimp\n",
      "<class 'xgboost.sklearn.XGBClassifier'> (700, 10) (700, 1) classif_features_10_samples_1000_seed_8 shap\n",
      "<class 'xgboost.sklearn.XGBClassifier'> (700, 10) (700, 1) classif_features_10_samples_1000_seed_8 pearson\n",
      "<class 'xgboost.sklearn.XGBClassifier'> (700, 10) (700, 1) classif_features_10_samples_1000_seed_8 spearman\n",
      "<class 'xgboost.sklearn.XGBClassifier'> (700, 10) (700, 1) classif_features_10_samples_1000_seed_8 kendall\n",
      "<class 'xgboost.sklearn.XGBClassifier'> (700, 10) (700, 1) classif_features_10_samples_1000_seed_8 pps\n"
     ]
    },
    {
     "data": {
      "application/vnd.jupyter.widget-view+json": {
       "model_id": "f535962eaacf4b35a4009eae722986f0",
       "version_major": 2,
       "version_minor": 0
      },
      "text/plain": [
       "Model progress for dataset 19:   0%|          | 0/3 [00:00<?, ?it/s]"
      ]
     },
     "metadata": {},
     "output_type": "display_data"
    },
    {
     "data": {
      "application/vnd.jupyter.widget-view+json": {
       "model_id": "f8efc11b32a64ee4b241d82a3a9d96f5",
       "version_major": 2,
       "version_minor": 0
      },
      "text/plain": [
       "Importance type progress for model 0:   0%|          | 0/9 [00:00<?, ?it/s]"
      ]
     },
     "metadata": {},
     "output_type": "display_data"
    },
    {
     "name": "stdout",
     "output_type": "stream",
     "text": [
      "<class 'sklearn.tree._classes.DecisionTreeClassifier'> (700, 10) (700, 1) classif_features_10_samples_1000_seed_9 mutual_info\n",
      "<class 'sklearn.tree._classes.DecisionTreeClassifier'> (700, 10) (700, 1) classif_features_10_samples_1000_seed_9 f_test\n",
      "<class 'sklearn.tree._classes.DecisionTreeClassifier'> (700, 10) (700, 1) classif_features_10_samples_1000_seed_9 pimp\n",
      "<class 'sklearn.tree._classes.DecisionTreeClassifier'> (700, 10) (700, 1) classif_features_10_samples_1000_seed_9 shap\n",
      "<class 'sklearn.tree._classes.DecisionTreeClassifier'> (700, 10) (700, 1) classif_features_10_samples_1000_seed_9 pearson\n",
      "<class 'sklearn.tree._classes.DecisionTreeClassifier'> (700, 10) (700, 1) classif_features_10_samples_1000_seed_9 spearman\n",
      "<class 'sklearn.tree._classes.DecisionTreeClassifier'> (700, 10) (700, 1) classif_features_10_samples_1000_seed_9 kendall\n",
      "<class 'sklearn.tree._classes.DecisionTreeClassifier'> (700, 10) (700, 1) classif_features_10_samples_1000_seed_9 pps\n"
     ]
    },
    {
     "data": {
      "application/vnd.jupyter.widget-view+json": {
       "model_id": "223d4238a569400794f50ab199c1d8bb",
       "version_major": 2,
       "version_minor": 0
      },
      "text/plain": [
       "Importance type progress for model 1:   0%|          | 0/9 [00:00<?, ?it/s]"
      ]
     },
     "metadata": {},
     "output_type": "display_data"
    },
    {
     "name": "stdout",
     "output_type": "stream",
     "text": [
      "<class 'sklearn.ensemble._forest.RandomForestClassifier'> (700, 10) (700, 1) classif_features_10_samples_1000_seed_9 mutual_info\n",
      "<class 'sklearn.ensemble._forest.RandomForestClassifier'> (700, 10) (700, 1) classif_features_10_samples_1000_seed_9 f_test\n",
      "<class 'sklearn.ensemble._forest.RandomForestClassifier'> (700, 10) (700, 1) classif_features_10_samples_1000_seed_9 pimp\n",
      "<class 'sklearn.ensemble._forest.RandomForestClassifier'> (700, 10) (700, 1) classif_features_10_samples_1000_seed_9 shap\n",
      "<class 'sklearn.ensemble._forest.RandomForestClassifier'> (700, 10) (700, 1) classif_features_10_samples_1000_seed_9 pearson\n",
      "<class 'sklearn.ensemble._forest.RandomForestClassifier'> (700, 10) (700, 1) classif_features_10_samples_1000_seed_9 spearman\n",
      "<class 'sklearn.ensemble._forest.RandomForestClassifier'> (700, 10) (700, 1) classif_features_10_samples_1000_seed_9 kendall\n",
      "<class 'sklearn.ensemble._forest.RandomForestClassifier'> (700, 10) (700, 1) classif_features_10_samples_1000_seed_9 pps\n"
     ]
    },
    {
     "data": {
      "application/vnd.jupyter.widget-view+json": {
       "model_id": "3f0abab92c634982b267ce53cc28a46a",
       "version_major": 2,
       "version_minor": 0
      },
      "text/plain": [
       "Importance type progress for model 2:   0%|          | 0/9 [00:00<?, ?it/s]"
      ]
     },
     "metadata": {},
     "output_type": "display_data"
    },
    {
     "name": "stdout",
     "output_type": "stream",
     "text": [
      "<class 'xgboost.sklearn.XGBClassifier'> (700, 10) (700, 1) classif_features_10_samples_1000_seed_9 mutual_info\n",
      "<class 'xgboost.sklearn.XGBClassifier'> (700, 10) (700, 1) classif_features_10_samples_1000_seed_9 f_test\n",
      "<class 'xgboost.sklearn.XGBClassifier'> (700, 10) (700, 1) classif_features_10_samples_1000_seed_9 pimp\n",
      "<class 'xgboost.sklearn.XGBClassifier'> (700, 10) (700, 1) classif_features_10_samples_1000_seed_9 shap\n",
      "<class 'xgboost.sklearn.XGBClassifier'> (700, 10) (700, 1) classif_features_10_samples_1000_seed_9 pearson\n",
      "<class 'xgboost.sklearn.XGBClassifier'> (700, 10) (700, 1) classif_features_10_samples_1000_seed_9 spearman\n",
      "<class 'xgboost.sklearn.XGBClassifier'> (700, 10) (700, 1) classif_features_10_samples_1000_seed_9 kendall\n",
      "<class 'xgboost.sklearn.XGBClassifier'> (700, 10) (700, 1) classif_features_10_samples_1000_seed_9 pps\n"
     ]
    },
    {
     "data": {
      "application/vnd.jupyter.widget-view+json": {
       "model_id": "539d3524e80242458fbd63397acfa539",
       "version_major": 2,
       "version_minor": 0
      },
      "text/plain": [
       "Model progress for dataset 20:   0%|          | 0/3 [00:00<?, ?it/s]"
      ]
     },
     "metadata": {},
     "output_type": "display_data"
    },
    {
     "data": {
      "application/vnd.jupyter.widget-view+json": {
       "model_id": "d7ff45876dd349968e8621dfa4d8af2d",
       "version_major": 2,
       "version_minor": 0
      },
      "text/plain": [
       "Importance type progress for model 0:   0%|          | 0/9 [00:00<?, ?it/s]"
      ]
     },
     "metadata": {},
     "output_type": "display_data"
    },
    {
     "name": "stdout",
     "output_type": "stream",
     "text": [
      "<class 'sklearn.tree._classes.DecisionTreeClassifier'> (70, 100) (70, 1) classif_features_100_samples_100_seed_0 mutual_info\n",
      "<class 'sklearn.tree._classes.DecisionTreeClassifier'> (70, 100) (70, 1) classif_features_100_samples_100_seed_0 f_test\n",
      "<class 'sklearn.tree._classes.DecisionTreeClassifier'> (70, 100) (70, 1) classif_features_100_samples_100_seed_0 pimp\n",
      "<class 'sklearn.tree._classes.DecisionTreeClassifier'> (70, 100) (70, 1) classif_features_100_samples_100_seed_0 shap\n",
      "<class 'sklearn.tree._classes.DecisionTreeClassifier'> (70, 100) (70, 1) classif_features_100_samples_100_seed_0 pearson\n",
      "<class 'sklearn.tree._classes.DecisionTreeClassifier'> (70, 100) (70, 1) classif_features_100_samples_100_seed_0 spearman\n",
      "<class 'sklearn.tree._classes.DecisionTreeClassifier'> (70, 100) (70, 1) classif_features_100_samples_100_seed_0 kendall\n",
      "<class 'sklearn.tree._classes.DecisionTreeClassifier'> (70, 100) (70, 1) classif_features_100_samples_100_seed_0 pps\n"
     ]
    },
    {
     "data": {
      "application/vnd.jupyter.widget-view+json": {
       "model_id": "68b4972e0d4c436e90fb4e761b564b42",
       "version_major": 2,
       "version_minor": 0
      },
      "text/plain": [
       "Importance type progress for model 1:   0%|          | 0/9 [00:00<?, ?it/s]"
      ]
     },
     "metadata": {},
     "output_type": "display_data"
    },
    {
     "name": "stdout",
     "output_type": "stream",
     "text": [
      "<class 'sklearn.ensemble._forest.RandomForestClassifier'> (70, 100) (70, 1) classif_features_100_samples_100_seed_0 mutual_info\n",
      "<class 'sklearn.ensemble._forest.RandomForestClassifier'> (70, 100) (70, 1) classif_features_100_samples_100_seed_0 f_test\n",
      "<class 'sklearn.ensemble._forest.RandomForestClassifier'> (70, 100) (70, 1) classif_features_100_samples_100_seed_0 pimp\n",
      "<class 'sklearn.ensemble._forest.RandomForestClassifier'> (70, 100) (70, 1) classif_features_100_samples_100_seed_0 shap\n",
      "<class 'sklearn.ensemble._forest.RandomForestClassifier'> (70, 100) (70, 1) classif_features_100_samples_100_seed_0 pearson\n",
      "<class 'sklearn.ensemble._forest.RandomForestClassifier'> (70, 100) (70, 1) classif_features_100_samples_100_seed_0 spearman\n",
      "<class 'sklearn.ensemble._forest.RandomForestClassifier'> (70, 100) (70, 1) classif_features_100_samples_100_seed_0 kendall\n",
      "<class 'sklearn.ensemble._forest.RandomForestClassifier'> (70, 100) (70, 1) classif_features_100_samples_100_seed_0 pps\n"
     ]
    },
    {
     "data": {
      "application/vnd.jupyter.widget-view+json": {
       "model_id": "f7615e76895c46ff9c27ae73ec26e1b6",
       "version_major": 2,
       "version_minor": 0
      },
      "text/plain": [
       "Importance type progress for model 2:   0%|          | 0/9 [00:00<?, ?it/s]"
      ]
     },
     "metadata": {},
     "output_type": "display_data"
    },
    {
     "name": "stdout",
     "output_type": "stream",
     "text": [
      "<class 'xgboost.sklearn.XGBClassifier'> (70, 100) (70, 1) classif_features_100_samples_100_seed_0 mutual_info\n",
      "<class 'xgboost.sklearn.XGBClassifier'> (70, 100) (70, 1) classif_features_100_samples_100_seed_0 f_test\n",
      "<class 'xgboost.sklearn.XGBClassifier'> (70, 100) (70, 1) classif_features_100_samples_100_seed_0 pimp\n",
      "<class 'xgboost.sklearn.XGBClassifier'> (70, 100) (70, 1) classif_features_100_samples_100_seed_0 shap\n",
      "<class 'xgboost.sklearn.XGBClassifier'> (70, 100) (70, 1) classif_features_100_samples_100_seed_0 pearson\n",
      "<class 'xgboost.sklearn.XGBClassifier'> (70, 100) (70, 1) classif_features_100_samples_100_seed_0 spearman\n",
      "<class 'xgboost.sklearn.XGBClassifier'> (70, 100) (70, 1) classif_features_100_samples_100_seed_0 kendall\n",
      "<class 'xgboost.sklearn.XGBClassifier'> (70, 100) (70, 1) classif_features_100_samples_100_seed_0 pps\n"
     ]
    },
    {
     "data": {
      "application/vnd.jupyter.widget-view+json": {
       "model_id": "02d18689250c4cb5981d6ff92607517a",
       "version_major": 2,
       "version_minor": 0
      },
      "text/plain": [
       "Model progress for dataset 21:   0%|          | 0/3 [00:00<?, ?it/s]"
      ]
     },
     "metadata": {},
     "output_type": "display_data"
    },
    {
     "data": {
      "application/vnd.jupyter.widget-view+json": {
       "model_id": "bad4c870e38847b6ad064e4ea8f90acf",
       "version_major": 2,
       "version_minor": 0
      },
      "text/plain": [
       "Importance type progress for model 0:   0%|          | 0/9 [00:00<?, ?it/s]"
      ]
     },
     "metadata": {},
     "output_type": "display_data"
    },
    {
     "name": "stdout",
     "output_type": "stream",
     "text": [
      "<class 'sklearn.tree._classes.DecisionTreeClassifier'> (70, 100) (70, 1) classif_features_100_samples_100_seed_1 mutual_info\n",
      "<class 'sklearn.tree._classes.DecisionTreeClassifier'> (70, 100) (70, 1) classif_features_100_samples_100_seed_1 f_test\n",
      "<class 'sklearn.tree._classes.DecisionTreeClassifier'> (70, 100) (70, 1) classif_features_100_samples_100_seed_1 pimp\n",
      "<class 'sklearn.tree._classes.DecisionTreeClassifier'> (70, 100) (70, 1) classif_features_100_samples_100_seed_1 shap\n",
      "<class 'sklearn.tree._classes.DecisionTreeClassifier'> (70, 100) (70, 1) classif_features_100_samples_100_seed_1 pearson\n",
      "<class 'sklearn.tree._classes.DecisionTreeClassifier'> (70, 100) (70, 1) classif_features_100_samples_100_seed_1 spearman\n",
      "<class 'sklearn.tree._classes.DecisionTreeClassifier'> (70, 100) (70, 1) classif_features_100_samples_100_seed_1 kendall\n",
      "<class 'sklearn.tree._classes.DecisionTreeClassifier'> (70, 100) (70, 1) classif_features_100_samples_100_seed_1 pps\n"
     ]
    },
    {
     "data": {
      "application/vnd.jupyter.widget-view+json": {
       "model_id": "0799d0d85c4948de98f5cb0702f1d7f6",
       "version_major": 2,
       "version_minor": 0
      },
      "text/plain": [
       "Importance type progress for model 1:   0%|          | 0/9 [00:00<?, ?it/s]"
      ]
     },
     "metadata": {},
     "output_type": "display_data"
    },
    {
     "name": "stdout",
     "output_type": "stream",
     "text": [
      "<class 'sklearn.ensemble._forest.RandomForestClassifier'> (70, 100) (70, 1) classif_features_100_samples_100_seed_1 mutual_info\n",
      "<class 'sklearn.ensemble._forest.RandomForestClassifier'> (70, 100) (70, 1) classif_features_100_samples_100_seed_1 f_test\n",
      "<class 'sklearn.ensemble._forest.RandomForestClassifier'> (70, 100) (70, 1) classif_features_100_samples_100_seed_1 pimp\n",
      "<class 'sklearn.ensemble._forest.RandomForestClassifier'> (70, 100) (70, 1) classif_features_100_samples_100_seed_1 shap\n",
      "<class 'sklearn.ensemble._forest.RandomForestClassifier'> (70, 100) (70, 1) classif_features_100_samples_100_seed_1 pearson\n",
      "<class 'sklearn.ensemble._forest.RandomForestClassifier'> (70, 100) (70, 1) classif_features_100_samples_100_seed_1 spearman\n",
      "<class 'sklearn.ensemble._forest.RandomForestClassifier'> (70, 100) (70, 1) classif_features_100_samples_100_seed_1 kendall\n",
      "<class 'sklearn.ensemble._forest.RandomForestClassifier'> (70, 100) (70, 1) classif_features_100_samples_100_seed_1 pps\n"
     ]
    },
    {
     "data": {
      "application/vnd.jupyter.widget-view+json": {
       "model_id": "bc44805057d546d2b028d1fc6942e954",
       "version_major": 2,
       "version_minor": 0
      },
      "text/plain": [
       "Importance type progress for model 2:   0%|          | 0/9 [00:00<?, ?it/s]"
      ]
     },
     "metadata": {},
     "output_type": "display_data"
    },
    {
     "name": "stdout",
     "output_type": "stream",
     "text": [
      "<class 'xgboost.sklearn.XGBClassifier'> (70, 100) (70, 1) classif_features_100_samples_100_seed_1 mutual_info\n",
      "<class 'xgboost.sklearn.XGBClassifier'> (70, 100) (70, 1) classif_features_100_samples_100_seed_1 f_test\n",
      "<class 'xgboost.sklearn.XGBClassifier'> (70, 100) (70, 1) classif_features_100_samples_100_seed_1 pimp\n",
      "<class 'xgboost.sklearn.XGBClassifier'> (70, 100) (70, 1) classif_features_100_samples_100_seed_1 shap\n",
      "<class 'xgboost.sklearn.XGBClassifier'> (70, 100) (70, 1) classif_features_100_samples_100_seed_1 pearson\n",
      "<class 'xgboost.sklearn.XGBClassifier'> (70, 100) (70, 1) classif_features_100_samples_100_seed_1 spearman\n",
      "<class 'xgboost.sklearn.XGBClassifier'> (70, 100) (70, 1) classif_features_100_samples_100_seed_1 kendall\n",
      "<class 'xgboost.sklearn.XGBClassifier'> (70, 100) (70, 1) classif_features_100_samples_100_seed_1 pps\n"
     ]
    },
    {
     "data": {
      "application/vnd.jupyter.widget-view+json": {
       "model_id": "dcacb6948fef48b58a5480cf9a076b4c",
       "version_major": 2,
       "version_minor": 0
      },
      "text/plain": [
       "Model progress for dataset 22:   0%|          | 0/3 [00:00<?, ?it/s]"
      ]
     },
     "metadata": {},
     "output_type": "display_data"
    },
    {
     "data": {
      "application/vnd.jupyter.widget-view+json": {
       "model_id": "c6f2e07daa9b45faaeb346698e748ff1",
       "version_major": 2,
       "version_minor": 0
      },
      "text/plain": [
       "Importance type progress for model 0:   0%|          | 0/9 [00:00<?, ?it/s]"
      ]
     },
     "metadata": {},
     "output_type": "display_data"
    },
    {
     "name": "stdout",
     "output_type": "stream",
     "text": [
      "<class 'sklearn.tree._classes.DecisionTreeClassifier'> (70, 100) (70, 1) classif_features_100_samples_100_seed_2 mutual_info\n",
      "<class 'sklearn.tree._classes.DecisionTreeClassifier'> (70, 100) (70, 1) classif_features_100_samples_100_seed_2 f_test\n",
      "<class 'sklearn.tree._classes.DecisionTreeClassifier'> (70, 100) (70, 1) classif_features_100_samples_100_seed_2 pimp\n",
      "<class 'sklearn.tree._classes.DecisionTreeClassifier'> (70, 100) (70, 1) classif_features_100_samples_100_seed_2 shap\n",
      "<class 'sklearn.tree._classes.DecisionTreeClassifier'> (70, 100) (70, 1) classif_features_100_samples_100_seed_2 pearson\n",
      "<class 'sklearn.tree._classes.DecisionTreeClassifier'> (70, 100) (70, 1) classif_features_100_samples_100_seed_2 spearman\n",
      "<class 'sklearn.tree._classes.DecisionTreeClassifier'> (70, 100) (70, 1) classif_features_100_samples_100_seed_2 kendall\n",
      "<class 'sklearn.tree._classes.DecisionTreeClassifier'> (70, 100) (70, 1) classif_features_100_samples_100_seed_2 pps\n"
     ]
    },
    {
     "data": {
      "application/vnd.jupyter.widget-view+json": {
       "model_id": "395087d1c6374922b447ab7b8d04085f",
       "version_major": 2,
       "version_minor": 0
      },
      "text/plain": [
       "Importance type progress for model 1:   0%|          | 0/9 [00:00<?, ?it/s]"
      ]
     },
     "metadata": {},
     "output_type": "display_data"
    },
    {
     "name": "stdout",
     "output_type": "stream",
     "text": [
      "<class 'sklearn.ensemble._forest.RandomForestClassifier'> (70, 100) (70, 1) classif_features_100_samples_100_seed_2 mutual_info\n",
      "<class 'sklearn.ensemble._forest.RandomForestClassifier'> (70, 100) (70, 1) classif_features_100_samples_100_seed_2 f_test\n",
      "<class 'sklearn.ensemble._forest.RandomForestClassifier'> (70, 100) (70, 1) classif_features_100_samples_100_seed_2 pimp\n",
      "<class 'sklearn.ensemble._forest.RandomForestClassifier'> (70, 100) (70, 1) classif_features_100_samples_100_seed_2 shap\n",
      "<class 'sklearn.ensemble._forest.RandomForestClassifier'> (70, 100) (70, 1) classif_features_100_samples_100_seed_2 pearson\n",
      "<class 'sklearn.ensemble._forest.RandomForestClassifier'> (70, 100) (70, 1) classif_features_100_samples_100_seed_2 spearman\n",
      "<class 'sklearn.ensemble._forest.RandomForestClassifier'> (70, 100) (70, 1) classif_features_100_samples_100_seed_2 kendall\n",
      "<class 'sklearn.ensemble._forest.RandomForestClassifier'> (70, 100) (70, 1) classif_features_100_samples_100_seed_2 pps\n"
     ]
    },
    {
     "data": {
      "application/vnd.jupyter.widget-view+json": {
       "model_id": "b3f6efa8841e42228bd8161f4fee683b",
       "version_major": 2,
       "version_minor": 0
      },
      "text/plain": [
       "Importance type progress for model 2:   0%|          | 0/9 [00:00<?, ?it/s]"
      ]
     },
     "metadata": {},
     "output_type": "display_data"
    },
    {
     "name": "stdout",
     "output_type": "stream",
     "text": [
      "<class 'xgboost.sklearn.XGBClassifier'> (70, 100) (70, 1) classif_features_100_samples_100_seed_2 mutual_info\n",
      "<class 'xgboost.sklearn.XGBClassifier'> (70, 100) (70, 1) classif_features_100_samples_100_seed_2 f_test\n",
      "<class 'xgboost.sklearn.XGBClassifier'> (70, 100) (70, 1) classif_features_100_samples_100_seed_2 pimp\n",
      "<class 'xgboost.sklearn.XGBClassifier'> (70, 100) (70, 1) classif_features_100_samples_100_seed_2 shap\n",
      "<class 'xgboost.sklearn.XGBClassifier'> (70, 100) (70, 1) classif_features_100_samples_100_seed_2 pearson\n",
      "<class 'xgboost.sklearn.XGBClassifier'> (70, 100) (70, 1) classif_features_100_samples_100_seed_2 spearman\n",
      "<class 'xgboost.sklearn.XGBClassifier'> (70, 100) (70, 1) classif_features_100_samples_100_seed_2 kendall\n",
      "<class 'xgboost.sklearn.XGBClassifier'> (70, 100) (70, 1) classif_features_100_samples_100_seed_2 pps\n"
     ]
    },
    {
     "data": {
      "application/vnd.jupyter.widget-view+json": {
       "model_id": "804589f4d65b42f88351c7442cd8e37f",
       "version_major": 2,
       "version_minor": 0
      },
      "text/plain": [
       "Model progress for dataset 23:   0%|          | 0/3 [00:00<?, ?it/s]"
      ]
     },
     "metadata": {},
     "output_type": "display_data"
    },
    {
     "data": {
      "application/vnd.jupyter.widget-view+json": {
       "model_id": "be9e4e2c4eb64645804c08720696ae03",
       "version_major": 2,
       "version_minor": 0
      },
      "text/plain": [
       "Importance type progress for model 0:   0%|          | 0/9 [00:00<?, ?it/s]"
      ]
     },
     "metadata": {},
     "output_type": "display_data"
    },
    {
     "name": "stdout",
     "output_type": "stream",
     "text": [
      "<class 'sklearn.tree._classes.DecisionTreeClassifier'> (70, 100) (70, 1) classif_features_100_samples_100_seed_3 mutual_info\n",
      "<class 'sklearn.tree._classes.DecisionTreeClassifier'> (70, 100) (70, 1) classif_features_100_samples_100_seed_3 f_test\n",
      "<class 'sklearn.tree._classes.DecisionTreeClassifier'> (70, 100) (70, 1) classif_features_100_samples_100_seed_3 pimp\n",
      "<class 'sklearn.tree._classes.DecisionTreeClassifier'> (70, 100) (70, 1) classif_features_100_samples_100_seed_3 shap\n",
      "<class 'sklearn.tree._classes.DecisionTreeClassifier'> (70, 100) (70, 1) classif_features_100_samples_100_seed_3 pearson\n",
      "<class 'sklearn.tree._classes.DecisionTreeClassifier'> (70, 100) (70, 1) classif_features_100_samples_100_seed_3 spearman\n",
      "<class 'sklearn.tree._classes.DecisionTreeClassifier'> (70, 100) (70, 1) classif_features_100_samples_100_seed_3 kendall\n",
      "<class 'sklearn.tree._classes.DecisionTreeClassifier'> (70, 100) (70, 1) classif_features_100_samples_100_seed_3 pps\n"
     ]
    },
    {
     "data": {
      "application/vnd.jupyter.widget-view+json": {
       "model_id": "61362cce6d174362bf26c91dfe88f3ec",
       "version_major": 2,
       "version_minor": 0
      },
      "text/plain": [
       "Importance type progress for model 1:   0%|          | 0/9 [00:00<?, ?it/s]"
      ]
     },
     "metadata": {},
     "output_type": "display_data"
    },
    {
     "name": "stdout",
     "output_type": "stream",
     "text": [
      "<class 'sklearn.ensemble._forest.RandomForestClassifier'> (70, 100) (70, 1) classif_features_100_samples_100_seed_3 mutual_info\n",
      "<class 'sklearn.ensemble._forest.RandomForestClassifier'> (70, 100) (70, 1) classif_features_100_samples_100_seed_3 f_test\n",
      "<class 'sklearn.ensemble._forest.RandomForestClassifier'> (70, 100) (70, 1) classif_features_100_samples_100_seed_3 pimp\n",
      "<class 'sklearn.ensemble._forest.RandomForestClassifier'> (70, 100) (70, 1) classif_features_100_samples_100_seed_3 shap\n",
      "<class 'sklearn.ensemble._forest.RandomForestClassifier'> (70, 100) (70, 1) classif_features_100_samples_100_seed_3 pearson\n",
      "<class 'sklearn.ensemble._forest.RandomForestClassifier'> (70, 100) (70, 1) classif_features_100_samples_100_seed_3 spearman\n",
      "<class 'sklearn.ensemble._forest.RandomForestClassifier'> (70, 100) (70, 1) classif_features_100_samples_100_seed_3 kendall\n",
      "<class 'sklearn.ensemble._forest.RandomForestClassifier'> (70, 100) (70, 1) classif_features_100_samples_100_seed_3 pps\n"
     ]
    },
    {
     "data": {
      "application/vnd.jupyter.widget-view+json": {
       "model_id": "d9cc24223d29414482d325b3ddb06482",
       "version_major": 2,
       "version_minor": 0
      },
      "text/plain": [
       "Importance type progress for model 2:   0%|          | 0/9 [00:00<?, ?it/s]"
      ]
     },
     "metadata": {},
     "output_type": "display_data"
    },
    {
     "name": "stdout",
     "output_type": "stream",
     "text": [
      "<class 'xgboost.sklearn.XGBClassifier'> (70, 100) (70, 1) classif_features_100_samples_100_seed_3 mutual_info\n",
      "<class 'xgboost.sklearn.XGBClassifier'> (70, 100) (70, 1) classif_features_100_samples_100_seed_3 f_test\n",
      "<class 'xgboost.sklearn.XGBClassifier'> (70, 100) (70, 1) classif_features_100_samples_100_seed_3 pimp\n",
      "<class 'xgboost.sklearn.XGBClassifier'> (70, 100) (70, 1) classif_features_100_samples_100_seed_3 shap\n",
      "<class 'xgboost.sklearn.XGBClassifier'> (70, 100) (70, 1) classif_features_100_samples_100_seed_3 pearson\n",
      "<class 'xgboost.sklearn.XGBClassifier'> (70, 100) (70, 1) classif_features_100_samples_100_seed_3 spearman\n",
      "<class 'xgboost.sklearn.XGBClassifier'> (70, 100) (70, 1) classif_features_100_samples_100_seed_3 kendall\n",
      "<class 'xgboost.sklearn.XGBClassifier'> (70, 100) (70, 1) classif_features_100_samples_100_seed_3 pps\n"
     ]
    },
    {
     "data": {
      "application/vnd.jupyter.widget-view+json": {
       "model_id": "fee296287b394d96917f966a162abd5b",
       "version_major": 2,
       "version_minor": 0
      },
      "text/plain": [
       "Model progress for dataset 24:   0%|          | 0/3 [00:00<?, ?it/s]"
      ]
     },
     "metadata": {},
     "output_type": "display_data"
    },
    {
     "data": {
      "application/vnd.jupyter.widget-view+json": {
       "model_id": "53eb8419ba8741a7b7166eaee43898d9",
       "version_major": 2,
       "version_minor": 0
      },
      "text/plain": [
       "Importance type progress for model 0:   0%|          | 0/9 [00:00<?, ?it/s]"
      ]
     },
     "metadata": {},
     "output_type": "display_data"
    },
    {
     "name": "stdout",
     "output_type": "stream",
     "text": [
      "<class 'sklearn.tree._classes.DecisionTreeClassifier'> (70, 100) (70, 1) classif_features_100_samples_100_seed_4 mutual_info\n",
      "<class 'sklearn.tree._classes.DecisionTreeClassifier'> (70, 100) (70, 1) classif_features_100_samples_100_seed_4 f_test\n",
      "<class 'sklearn.tree._classes.DecisionTreeClassifier'> (70, 100) (70, 1) classif_features_100_samples_100_seed_4 pimp\n",
      "<class 'sklearn.tree._classes.DecisionTreeClassifier'> (70, 100) (70, 1) classif_features_100_samples_100_seed_4 shap\n",
      "<class 'sklearn.tree._classes.DecisionTreeClassifier'> (70, 100) (70, 1) classif_features_100_samples_100_seed_4 pearson\n",
      "<class 'sklearn.tree._classes.DecisionTreeClassifier'> (70, 100) (70, 1) classif_features_100_samples_100_seed_4 spearman\n",
      "<class 'sklearn.tree._classes.DecisionTreeClassifier'> (70, 100) (70, 1) classif_features_100_samples_100_seed_4 kendall\n",
      "<class 'sklearn.tree._classes.DecisionTreeClassifier'> (70, 100) (70, 1) classif_features_100_samples_100_seed_4 pps\n"
     ]
    },
    {
     "data": {
      "application/vnd.jupyter.widget-view+json": {
       "model_id": "9a00c939a0c047aca5bddc80fa329c1a",
       "version_major": 2,
       "version_minor": 0
      },
      "text/plain": [
       "Importance type progress for model 1:   0%|          | 0/9 [00:00<?, ?it/s]"
      ]
     },
     "metadata": {},
     "output_type": "display_data"
    },
    {
     "name": "stdout",
     "output_type": "stream",
     "text": [
      "<class 'sklearn.ensemble._forest.RandomForestClassifier'> (70, 100) (70, 1) classif_features_100_samples_100_seed_4 mutual_info\n",
      "<class 'sklearn.ensemble._forest.RandomForestClassifier'> (70, 100) (70, 1) classif_features_100_samples_100_seed_4 f_test\n",
      "<class 'sklearn.ensemble._forest.RandomForestClassifier'> (70, 100) (70, 1) classif_features_100_samples_100_seed_4 pimp\n",
      "<class 'sklearn.ensemble._forest.RandomForestClassifier'> (70, 100) (70, 1) classif_features_100_samples_100_seed_4 shap\n",
      "<class 'sklearn.ensemble._forest.RandomForestClassifier'> (70, 100) (70, 1) classif_features_100_samples_100_seed_4 pearson\n",
      "<class 'sklearn.ensemble._forest.RandomForestClassifier'> (70, 100) (70, 1) classif_features_100_samples_100_seed_4 spearman\n",
      "<class 'sklearn.ensemble._forest.RandomForestClassifier'> (70, 100) (70, 1) classif_features_100_samples_100_seed_4 kendall\n",
      "<class 'sklearn.ensemble._forest.RandomForestClassifier'> (70, 100) (70, 1) classif_features_100_samples_100_seed_4 pps\n"
     ]
    },
    {
     "data": {
      "application/vnd.jupyter.widget-view+json": {
       "model_id": "6745a043053748ba920a7dc8306cbfa1",
       "version_major": 2,
       "version_minor": 0
      },
      "text/plain": [
       "Importance type progress for model 2:   0%|          | 0/9 [00:00<?, ?it/s]"
      ]
     },
     "metadata": {},
     "output_type": "display_data"
    },
    {
     "name": "stdout",
     "output_type": "stream",
     "text": [
      "<class 'xgboost.sklearn.XGBClassifier'> (70, 100) (70, 1) classif_features_100_samples_100_seed_4 mutual_info\n",
      "<class 'xgboost.sklearn.XGBClassifier'> (70, 100) (70, 1) classif_features_100_samples_100_seed_4 f_test\n",
      "<class 'xgboost.sklearn.XGBClassifier'> (70, 100) (70, 1) classif_features_100_samples_100_seed_4 pimp\n",
      "<class 'xgboost.sklearn.XGBClassifier'> (70, 100) (70, 1) classif_features_100_samples_100_seed_4 shap\n",
      "<class 'xgboost.sklearn.XGBClassifier'> (70, 100) (70, 1) classif_features_100_samples_100_seed_4 pearson\n",
      "<class 'xgboost.sklearn.XGBClassifier'> (70, 100) (70, 1) classif_features_100_samples_100_seed_4 spearman\n",
      "<class 'xgboost.sklearn.XGBClassifier'> (70, 100) (70, 1) classif_features_100_samples_100_seed_4 kendall\n",
      "<class 'xgboost.sklearn.XGBClassifier'> (70, 100) (70, 1) classif_features_100_samples_100_seed_4 pps\n"
     ]
    },
    {
     "data": {
      "application/vnd.jupyter.widget-view+json": {
       "model_id": "023de359197a460fa26563c082eb6528",
       "version_major": 2,
       "version_minor": 0
      },
      "text/plain": [
       "Model progress for dataset 25:   0%|          | 0/3 [00:00<?, ?it/s]"
      ]
     },
     "metadata": {},
     "output_type": "display_data"
    },
    {
     "data": {
      "application/vnd.jupyter.widget-view+json": {
       "model_id": "0dabe5b6b9e642c6a279cd8b808bdd21",
       "version_major": 2,
       "version_minor": 0
      },
      "text/plain": [
       "Importance type progress for model 0:   0%|          | 0/9 [00:00<?, ?it/s]"
      ]
     },
     "metadata": {},
     "output_type": "display_data"
    },
    {
     "name": "stdout",
     "output_type": "stream",
     "text": [
      "<class 'sklearn.tree._classes.DecisionTreeClassifier'> (70, 100) (70, 1) classif_features_100_samples_100_seed_5 mutual_info\n",
      "<class 'sklearn.tree._classes.DecisionTreeClassifier'> (70, 100) (70, 1) classif_features_100_samples_100_seed_5 f_test\n",
      "<class 'sklearn.tree._classes.DecisionTreeClassifier'> (70, 100) (70, 1) classif_features_100_samples_100_seed_5 pimp\n",
      "<class 'sklearn.tree._classes.DecisionTreeClassifier'> (70, 100) (70, 1) classif_features_100_samples_100_seed_5 shap\n",
      "<class 'sklearn.tree._classes.DecisionTreeClassifier'> (70, 100) (70, 1) classif_features_100_samples_100_seed_5 pearson\n",
      "<class 'sklearn.tree._classes.DecisionTreeClassifier'> (70, 100) (70, 1) classif_features_100_samples_100_seed_5 spearman\n",
      "<class 'sklearn.tree._classes.DecisionTreeClassifier'> (70, 100) (70, 1) classif_features_100_samples_100_seed_5 kendall\n",
      "<class 'sklearn.tree._classes.DecisionTreeClassifier'> (70, 100) (70, 1) classif_features_100_samples_100_seed_5 pps\n"
     ]
    },
    {
     "data": {
      "application/vnd.jupyter.widget-view+json": {
       "model_id": "464f0d69ef2e49efb9c90a3abfc8a45f",
       "version_major": 2,
       "version_minor": 0
      },
      "text/plain": [
       "Importance type progress for model 1:   0%|          | 0/9 [00:00<?, ?it/s]"
      ]
     },
     "metadata": {},
     "output_type": "display_data"
    },
    {
     "name": "stdout",
     "output_type": "stream",
     "text": [
      "<class 'sklearn.ensemble._forest.RandomForestClassifier'> (70, 100) (70, 1) classif_features_100_samples_100_seed_5 mutual_info\n",
      "<class 'sklearn.ensemble._forest.RandomForestClassifier'> (70, 100) (70, 1) classif_features_100_samples_100_seed_5 f_test\n",
      "<class 'sklearn.ensemble._forest.RandomForestClassifier'> (70, 100) (70, 1) classif_features_100_samples_100_seed_5 pimp\n",
      "<class 'sklearn.ensemble._forest.RandomForestClassifier'> (70, 100) (70, 1) classif_features_100_samples_100_seed_5 shap\n",
      "<class 'sklearn.ensemble._forest.RandomForestClassifier'> (70, 100) (70, 1) classif_features_100_samples_100_seed_5 pearson\n",
      "<class 'sklearn.ensemble._forest.RandomForestClassifier'> (70, 100) (70, 1) classif_features_100_samples_100_seed_5 spearman\n",
      "<class 'sklearn.ensemble._forest.RandomForestClassifier'> (70, 100) (70, 1) classif_features_100_samples_100_seed_5 kendall\n",
      "<class 'sklearn.ensemble._forest.RandomForestClassifier'> (70, 100) (70, 1) classif_features_100_samples_100_seed_5 pps\n"
     ]
    },
    {
     "data": {
      "application/vnd.jupyter.widget-view+json": {
       "model_id": "c1fccbd5aa504e0e8358be0327db647d",
       "version_major": 2,
       "version_minor": 0
      },
      "text/plain": [
       "Importance type progress for model 2:   0%|          | 0/9 [00:00<?, ?it/s]"
      ]
     },
     "metadata": {},
     "output_type": "display_data"
    },
    {
     "name": "stdout",
     "output_type": "stream",
     "text": [
      "<class 'xgboost.sklearn.XGBClassifier'> (70, 100) (70, 1) classif_features_100_samples_100_seed_5 mutual_info\n",
      "<class 'xgboost.sklearn.XGBClassifier'> (70, 100) (70, 1) classif_features_100_samples_100_seed_5 f_test\n",
      "<class 'xgboost.sklearn.XGBClassifier'> (70, 100) (70, 1) classif_features_100_samples_100_seed_5 pimp\n",
      "<class 'xgboost.sklearn.XGBClassifier'> (70, 100) (70, 1) classif_features_100_samples_100_seed_5 shap\n",
      "<class 'xgboost.sklearn.XGBClassifier'> (70, 100) (70, 1) classif_features_100_samples_100_seed_5 pearson\n",
      "<class 'xgboost.sklearn.XGBClassifier'> (70, 100) (70, 1) classif_features_100_samples_100_seed_5 spearman\n",
      "<class 'xgboost.sklearn.XGBClassifier'> (70, 100) (70, 1) classif_features_100_samples_100_seed_5 kendall\n",
      "<class 'xgboost.sklearn.XGBClassifier'> (70, 100) (70, 1) classif_features_100_samples_100_seed_5 pps\n"
     ]
    },
    {
     "data": {
      "application/vnd.jupyter.widget-view+json": {
       "model_id": "89b55d758b1140f9bae96a0b133127e9",
       "version_major": 2,
       "version_minor": 0
      },
      "text/plain": [
       "Model progress for dataset 26:   0%|          | 0/3 [00:00<?, ?it/s]"
      ]
     },
     "metadata": {},
     "output_type": "display_data"
    },
    {
     "data": {
      "application/vnd.jupyter.widget-view+json": {
       "model_id": "7ce0758c9e5447afb6c69486dec73662",
       "version_major": 2,
       "version_minor": 0
      },
      "text/plain": [
       "Importance type progress for model 0:   0%|          | 0/9 [00:00<?, ?it/s]"
      ]
     },
     "metadata": {},
     "output_type": "display_data"
    },
    {
     "name": "stdout",
     "output_type": "stream",
     "text": [
      "<class 'sklearn.tree._classes.DecisionTreeClassifier'> (70, 100) (70, 1) classif_features_100_samples_100_seed_6 mutual_info\n",
      "<class 'sklearn.tree._classes.DecisionTreeClassifier'> (70, 100) (70, 1) classif_features_100_samples_100_seed_6 f_test\n",
      "<class 'sklearn.tree._classes.DecisionTreeClassifier'> (70, 100) (70, 1) classif_features_100_samples_100_seed_6 pimp\n",
      "<class 'sklearn.tree._classes.DecisionTreeClassifier'> (70, 100) (70, 1) classif_features_100_samples_100_seed_6 shap\n",
      "<class 'sklearn.tree._classes.DecisionTreeClassifier'> (70, 100) (70, 1) classif_features_100_samples_100_seed_6 pearson\n",
      "<class 'sklearn.tree._classes.DecisionTreeClassifier'> (70, 100) (70, 1) classif_features_100_samples_100_seed_6 spearman\n",
      "<class 'sklearn.tree._classes.DecisionTreeClassifier'> (70, 100) (70, 1) classif_features_100_samples_100_seed_6 kendall\n",
      "<class 'sklearn.tree._classes.DecisionTreeClassifier'> (70, 100) (70, 1) classif_features_100_samples_100_seed_6 pps\n"
     ]
    },
    {
     "data": {
      "application/vnd.jupyter.widget-view+json": {
       "model_id": "8255b120d50d4890bdae3bc9b7bc2ce4",
       "version_major": 2,
       "version_minor": 0
      },
      "text/plain": [
       "Importance type progress for model 1:   0%|          | 0/9 [00:00<?, ?it/s]"
      ]
     },
     "metadata": {},
     "output_type": "display_data"
    },
    {
     "name": "stdout",
     "output_type": "stream",
     "text": [
      "<class 'sklearn.ensemble._forest.RandomForestClassifier'> (70, 100) (70, 1) classif_features_100_samples_100_seed_6 mutual_info\n",
      "<class 'sklearn.ensemble._forest.RandomForestClassifier'> (70, 100) (70, 1) classif_features_100_samples_100_seed_6 f_test\n",
      "<class 'sklearn.ensemble._forest.RandomForestClassifier'> (70, 100) (70, 1) classif_features_100_samples_100_seed_6 pimp\n",
      "<class 'sklearn.ensemble._forest.RandomForestClassifier'> (70, 100) (70, 1) classif_features_100_samples_100_seed_6 shap\n",
      "<class 'sklearn.ensemble._forest.RandomForestClassifier'> (70, 100) (70, 1) classif_features_100_samples_100_seed_6 pearson\n",
      "<class 'sklearn.ensemble._forest.RandomForestClassifier'> (70, 100) (70, 1) classif_features_100_samples_100_seed_6 spearman\n",
      "<class 'sklearn.ensemble._forest.RandomForestClassifier'> (70, 100) (70, 1) classif_features_100_samples_100_seed_6 kendall\n",
      "<class 'sklearn.ensemble._forest.RandomForestClassifier'> (70, 100) (70, 1) classif_features_100_samples_100_seed_6 pps\n"
     ]
    },
    {
     "data": {
      "application/vnd.jupyter.widget-view+json": {
       "model_id": "5b9ecc60ddec42d187ec209517abc5d0",
       "version_major": 2,
       "version_minor": 0
      },
      "text/plain": [
       "Importance type progress for model 2:   0%|          | 0/9 [00:00<?, ?it/s]"
      ]
     },
     "metadata": {},
     "output_type": "display_data"
    },
    {
     "name": "stdout",
     "output_type": "stream",
     "text": [
      "<class 'xgboost.sklearn.XGBClassifier'> (70, 100) (70, 1) classif_features_100_samples_100_seed_6 mutual_info\n",
      "<class 'xgboost.sklearn.XGBClassifier'> (70, 100) (70, 1) classif_features_100_samples_100_seed_6 f_test\n",
      "<class 'xgboost.sklearn.XGBClassifier'> (70, 100) (70, 1) classif_features_100_samples_100_seed_6 pimp\n",
      "<class 'xgboost.sklearn.XGBClassifier'> (70, 100) (70, 1) classif_features_100_samples_100_seed_6 shap\n",
      "<class 'xgboost.sklearn.XGBClassifier'> (70, 100) (70, 1) classif_features_100_samples_100_seed_6 pearson\n",
      "<class 'xgboost.sklearn.XGBClassifier'> (70, 100) (70, 1) classif_features_100_samples_100_seed_6 spearman\n",
      "<class 'xgboost.sklearn.XGBClassifier'> (70, 100) (70, 1) classif_features_100_samples_100_seed_6 kendall\n",
      "<class 'xgboost.sklearn.XGBClassifier'> (70, 100) (70, 1) classif_features_100_samples_100_seed_6 pps\n"
     ]
    },
    {
     "data": {
      "application/vnd.jupyter.widget-view+json": {
       "model_id": "e3ee2c0c21614929b268b0b9a99f597f",
       "version_major": 2,
       "version_minor": 0
      },
      "text/plain": [
       "Model progress for dataset 27:   0%|          | 0/3 [00:00<?, ?it/s]"
      ]
     },
     "metadata": {},
     "output_type": "display_data"
    },
    {
     "data": {
      "application/vnd.jupyter.widget-view+json": {
       "model_id": "02c1dd2554754b62bbb4aa4a0a561e9a",
       "version_major": 2,
       "version_minor": 0
      },
      "text/plain": [
       "Importance type progress for model 0:   0%|          | 0/9 [00:00<?, ?it/s]"
      ]
     },
     "metadata": {},
     "output_type": "display_data"
    },
    {
     "name": "stdout",
     "output_type": "stream",
     "text": [
      "<class 'sklearn.tree._classes.DecisionTreeClassifier'> (70, 100) (70, 1) classif_features_100_samples_100_seed_7 mutual_info\n",
      "<class 'sklearn.tree._classes.DecisionTreeClassifier'> (70, 100) (70, 1) classif_features_100_samples_100_seed_7 f_test\n",
      "<class 'sklearn.tree._classes.DecisionTreeClassifier'> (70, 100) (70, 1) classif_features_100_samples_100_seed_7 pimp\n",
      "<class 'sklearn.tree._classes.DecisionTreeClassifier'> (70, 100) (70, 1) classif_features_100_samples_100_seed_7 shap\n",
      "<class 'sklearn.tree._classes.DecisionTreeClassifier'> (70, 100) (70, 1) classif_features_100_samples_100_seed_7 pearson\n",
      "<class 'sklearn.tree._classes.DecisionTreeClassifier'> (70, 100) (70, 1) classif_features_100_samples_100_seed_7 spearman\n",
      "<class 'sklearn.tree._classes.DecisionTreeClassifier'> (70, 100) (70, 1) classif_features_100_samples_100_seed_7 kendall\n",
      "<class 'sklearn.tree._classes.DecisionTreeClassifier'> (70, 100) (70, 1) classif_features_100_samples_100_seed_7 pps\n"
     ]
    },
    {
     "data": {
      "application/vnd.jupyter.widget-view+json": {
       "model_id": "c90e9a5fc2654dc6a25cfe49221ec8d9",
       "version_major": 2,
       "version_minor": 0
      },
      "text/plain": [
       "Importance type progress for model 1:   0%|          | 0/9 [00:00<?, ?it/s]"
      ]
     },
     "metadata": {},
     "output_type": "display_data"
    },
    {
     "name": "stdout",
     "output_type": "stream",
     "text": [
      "<class 'sklearn.ensemble._forest.RandomForestClassifier'> (70, 100) (70, 1) classif_features_100_samples_100_seed_7 mutual_info\n",
      "<class 'sklearn.ensemble._forest.RandomForestClassifier'> (70, 100) (70, 1) classif_features_100_samples_100_seed_7 f_test\n",
      "<class 'sklearn.ensemble._forest.RandomForestClassifier'> (70, 100) (70, 1) classif_features_100_samples_100_seed_7 pimp\n",
      "<class 'sklearn.ensemble._forest.RandomForestClassifier'> (70, 100) (70, 1) classif_features_100_samples_100_seed_7 shap\n",
      "<class 'sklearn.ensemble._forest.RandomForestClassifier'> (70, 100) (70, 1) classif_features_100_samples_100_seed_7 pearson\n",
      "<class 'sklearn.ensemble._forest.RandomForestClassifier'> (70, 100) (70, 1) classif_features_100_samples_100_seed_7 spearman\n",
      "<class 'sklearn.ensemble._forest.RandomForestClassifier'> (70, 100) (70, 1) classif_features_100_samples_100_seed_7 kendall\n",
      "<class 'sklearn.ensemble._forest.RandomForestClassifier'> (70, 100) (70, 1) classif_features_100_samples_100_seed_7 pps\n"
     ]
    },
    {
     "data": {
      "application/vnd.jupyter.widget-view+json": {
       "model_id": "d0d814628dbb4b2a84df269e4ed29132",
       "version_major": 2,
       "version_minor": 0
      },
      "text/plain": [
       "Importance type progress for model 2:   0%|          | 0/9 [00:00<?, ?it/s]"
      ]
     },
     "metadata": {},
     "output_type": "display_data"
    },
    {
     "name": "stdout",
     "output_type": "stream",
     "text": [
      "<class 'xgboost.sklearn.XGBClassifier'> (70, 100) (70, 1) classif_features_100_samples_100_seed_7 mutual_info\n",
      "<class 'xgboost.sklearn.XGBClassifier'> (70, 100) (70, 1) classif_features_100_samples_100_seed_7 f_test\n",
      "<class 'xgboost.sklearn.XGBClassifier'> (70, 100) (70, 1) classif_features_100_samples_100_seed_7 pimp\n",
      "<class 'xgboost.sklearn.XGBClassifier'> (70, 100) (70, 1) classif_features_100_samples_100_seed_7 shap\n",
      "<class 'xgboost.sklearn.XGBClassifier'> (70, 100) (70, 1) classif_features_100_samples_100_seed_7 pearson\n",
      "<class 'xgboost.sklearn.XGBClassifier'> (70, 100) (70, 1) classif_features_100_samples_100_seed_7 spearman\n",
      "<class 'xgboost.sklearn.XGBClassifier'> (70, 100) (70, 1) classif_features_100_samples_100_seed_7 kendall\n",
      "<class 'xgboost.sklearn.XGBClassifier'> (70, 100) (70, 1) classif_features_100_samples_100_seed_7 pps\n"
     ]
    },
    {
     "data": {
      "application/vnd.jupyter.widget-view+json": {
       "model_id": "d931b14c828846d89354ec6b1d0be799",
       "version_major": 2,
       "version_minor": 0
      },
      "text/plain": [
       "Model progress for dataset 28:   0%|          | 0/3 [00:00<?, ?it/s]"
      ]
     },
     "metadata": {},
     "output_type": "display_data"
    },
    {
     "data": {
      "application/vnd.jupyter.widget-view+json": {
       "model_id": "41366d09d538438ba821ee507e01e89c",
       "version_major": 2,
       "version_minor": 0
      },
      "text/plain": [
       "Importance type progress for model 0:   0%|          | 0/9 [00:00<?, ?it/s]"
      ]
     },
     "metadata": {},
     "output_type": "display_data"
    },
    {
     "name": "stdout",
     "output_type": "stream",
     "text": [
      "<class 'sklearn.tree._classes.DecisionTreeClassifier'> (70, 100) (70, 1) classif_features_100_samples_100_seed_8 mutual_info\n",
      "<class 'sklearn.tree._classes.DecisionTreeClassifier'> (70, 100) (70, 1) classif_features_100_samples_100_seed_8 f_test\n",
      "<class 'sklearn.tree._classes.DecisionTreeClassifier'> (70, 100) (70, 1) classif_features_100_samples_100_seed_8 pimp\n",
      "<class 'sklearn.tree._classes.DecisionTreeClassifier'> (70, 100) (70, 1) classif_features_100_samples_100_seed_8 shap\n",
      "<class 'sklearn.tree._classes.DecisionTreeClassifier'> (70, 100) (70, 1) classif_features_100_samples_100_seed_8 pearson\n",
      "<class 'sklearn.tree._classes.DecisionTreeClassifier'> (70, 100) (70, 1) classif_features_100_samples_100_seed_8 spearman\n",
      "<class 'sklearn.tree._classes.DecisionTreeClassifier'> (70, 100) (70, 1) classif_features_100_samples_100_seed_8 kendall\n",
      "<class 'sklearn.tree._classes.DecisionTreeClassifier'> (70, 100) (70, 1) classif_features_100_samples_100_seed_8 pps\n"
     ]
    },
    {
     "data": {
      "application/vnd.jupyter.widget-view+json": {
       "model_id": "2f0414e48ce247a0bc1f629273e49a9a",
       "version_major": 2,
       "version_minor": 0
      },
      "text/plain": [
       "Importance type progress for model 1:   0%|          | 0/9 [00:00<?, ?it/s]"
      ]
     },
     "metadata": {},
     "output_type": "display_data"
    },
    {
     "name": "stdout",
     "output_type": "stream",
     "text": [
      "<class 'sklearn.ensemble._forest.RandomForestClassifier'> (70, 100) (70, 1) classif_features_100_samples_100_seed_8 mutual_info\n",
      "<class 'sklearn.ensemble._forest.RandomForestClassifier'> (70, 100) (70, 1) classif_features_100_samples_100_seed_8 f_test\n",
      "<class 'sklearn.ensemble._forest.RandomForestClassifier'> (70, 100) (70, 1) classif_features_100_samples_100_seed_8 pimp\n",
      "<class 'sklearn.ensemble._forest.RandomForestClassifier'> (70, 100) (70, 1) classif_features_100_samples_100_seed_8 shap\n",
      "<class 'sklearn.ensemble._forest.RandomForestClassifier'> (70, 100) (70, 1) classif_features_100_samples_100_seed_8 pearson\n",
      "<class 'sklearn.ensemble._forest.RandomForestClassifier'> (70, 100) (70, 1) classif_features_100_samples_100_seed_8 spearman\n",
      "<class 'sklearn.ensemble._forest.RandomForestClassifier'> (70, 100) (70, 1) classif_features_100_samples_100_seed_8 kendall\n",
      "<class 'sklearn.ensemble._forest.RandomForestClassifier'> (70, 100) (70, 1) classif_features_100_samples_100_seed_8 pps\n"
     ]
    },
    {
     "data": {
      "application/vnd.jupyter.widget-view+json": {
       "model_id": "8121db048835475f9a87e3226dbc8ef3",
       "version_major": 2,
       "version_minor": 0
      },
      "text/plain": [
       "Importance type progress for model 2:   0%|          | 0/9 [00:00<?, ?it/s]"
      ]
     },
     "metadata": {},
     "output_type": "display_data"
    },
    {
     "name": "stdout",
     "output_type": "stream",
     "text": [
      "<class 'xgboost.sklearn.XGBClassifier'> (70, 100) (70, 1) classif_features_100_samples_100_seed_8 mutual_info\n",
      "<class 'xgboost.sklearn.XGBClassifier'> (70, 100) (70, 1) classif_features_100_samples_100_seed_8 f_test\n",
      "<class 'xgboost.sklearn.XGBClassifier'> (70, 100) (70, 1) classif_features_100_samples_100_seed_8 pimp\n",
      "<class 'xgboost.sklearn.XGBClassifier'> (70, 100) (70, 1) classif_features_100_samples_100_seed_8 shap\n",
      "<class 'xgboost.sklearn.XGBClassifier'> (70, 100) (70, 1) classif_features_100_samples_100_seed_8 pearson\n",
      "<class 'xgboost.sklearn.XGBClassifier'> (70, 100) (70, 1) classif_features_100_samples_100_seed_8 spearman\n",
      "<class 'xgboost.sklearn.XGBClassifier'> (70, 100) (70, 1) classif_features_100_samples_100_seed_8 kendall\n",
      "<class 'xgboost.sklearn.XGBClassifier'> (70, 100) (70, 1) classif_features_100_samples_100_seed_8 pps\n"
     ]
    },
    {
     "data": {
      "application/vnd.jupyter.widget-view+json": {
       "model_id": "04f33c90fc394a7f972a6283a29f79cc",
       "version_major": 2,
       "version_minor": 0
      },
      "text/plain": [
       "Model progress for dataset 29:   0%|          | 0/3 [00:00<?, ?it/s]"
      ]
     },
     "metadata": {},
     "output_type": "display_data"
    },
    {
     "data": {
      "application/vnd.jupyter.widget-view+json": {
       "model_id": "868dcee88cde45089e187bed85e6a5a4",
       "version_major": 2,
       "version_minor": 0
      },
      "text/plain": [
       "Importance type progress for model 0:   0%|          | 0/9 [00:00<?, ?it/s]"
      ]
     },
     "metadata": {},
     "output_type": "display_data"
    },
    {
     "name": "stdout",
     "output_type": "stream",
     "text": [
      "<class 'sklearn.tree._classes.DecisionTreeClassifier'> (70, 100) (70, 1) classif_features_100_samples_100_seed_9 mutual_info\n",
      "<class 'sklearn.tree._classes.DecisionTreeClassifier'> (70, 100) (70, 1) classif_features_100_samples_100_seed_9 f_test\n",
      "<class 'sklearn.tree._classes.DecisionTreeClassifier'> (70, 100) (70, 1) classif_features_100_samples_100_seed_9 pimp\n",
      "<class 'sklearn.tree._classes.DecisionTreeClassifier'> (70, 100) (70, 1) classif_features_100_samples_100_seed_9 shap\n",
      "<class 'sklearn.tree._classes.DecisionTreeClassifier'> (70, 100) (70, 1) classif_features_100_samples_100_seed_9 pearson\n",
      "<class 'sklearn.tree._classes.DecisionTreeClassifier'> (70, 100) (70, 1) classif_features_100_samples_100_seed_9 spearman\n",
      "<class 'sklearn.tree._classes.DecisionTreeClassifier'> (70, 100) (70, 1) classif_features_100_samples_100_seed_9 kendall\n",
      "<class 'sklearn.tree._classes.DecisionTreeClassifier'> (70, 100) (70, 1) classif_features_100_samples_100_seed_9 pps\n"
     ]
    },
    {
     "data": {
      "application/vnd.jupyter.widget-view+json": {
       "model_id": "e16693a46292436db6f295249c2cec1e",
       "version_major": 2,
       "version_minor": 0
      },
      "text/plain": [
       "Importance type progress for model 1:   0%|          | 0/9 [00:00<?, ?it/s]"
      ]
     },
     "metadata": {},
     "output_type": "display_data"
    },
    {
     "name": "stdout",
     "output_type": "stream",
     "text": [
      "<class 'sklearn.ensemble._forest.RandomForestClassifier'> (70, 100) (70, 1) classif_features_100_samples_100_seed_9 mutual_info\n",
      "<class 'sklearn.ensemble._forest.RandomForestClassifier'> (70, 100) (70, 1) classif_features_100_samples_100_seed_9 f_test\n",
      "<class 'sklearn.ensemble._forest.RandomForestClassifier'> (70, 100) (70, 1) classif_features_100_samples_100_seed_9 pimp\n",
      "<class 'sklearn.ensemble._forest.RandomForestClassifier'> (70, 100) (70, 1) classif_features_100_samples_100_seed_9 shap\n",
      "<class 'sklearn.ensemble._forest.RandomForestClassifier'> (70, 100) (70, 1) classif_features_100_samples_100_seed_9 pearson\n",
      "<class 'sklearn.ensemble._forest.RandomForestClassifier'> (70, 100) (70, 1) classif_features_100_samples_100_seed_9 spearman\n",
      "<class 'sklearn.ensemble._forest.RandomForestClassifier'> (70, 100) (70, 1) classif_features_100_samples_100_seed_9 kendall\n",
      "<class 'sklearn.ensemble._forest.RandomForestClassifier'> (70, 100) (70, 1) classif_features_100_samples_100_seed_9 pps\n"
     ]
    },
    {
     "data": {
      "application/vnd.jupyter.widget-view+json": {
       "model_id": "1c54952bbe2e4a4984f3e82cc83cbdf6",
       "version_major": 2,
       "version_minor": 0
      },
      "text/plain": [
       "Importance type progress for model 2:   0%|          | 0/9 [00:00<?, ?it/s]"
      ]
     },
     "metadata": {},
     "output_type": "display_data"
    },
    {
     "name": "stdout",
     "output_type": "stream",
     "text": [
      "<class 'xgboost.sklearn.XGBClassifier'> (70, 100) (70, 1) classif_features_100_samples_100_seed_9 mutual_info\n",
      "<class 'xgboost.sklearn.XGBClassifier'> (70, 100) (70, 1) classif_features_100_samples_100_seed_9 f_test\n",
      "<class 'xgboost.sklearn.XGBClassifier'> (70, 100) (70, 1) classif_features_100_samples_100_seed_9 pimp\n",
      "<class 'xgboost.sklearn.XGBClassifier'> (70, 100) (70, 1) classif_features_100_samples_100_seed_9 shap\n",
      "<class 'xgboost.sklearn.XGBClassifier'> (70, 100) (70, 1) classif_features_100_samples_100_seed_9 pearson\n",
      "<class 'xgboost.sklearn.XGBClassifier'> (70, 100) (70, 1) classif_features_100_samples_100_seed_9 spearman\n",
      "<class 'xgboost.sklearn.XGBClassifier'> (70, 100) (70, 1) classif_features_100_samples_100_seed_9 kendall\n",
      "<class 'xgboost.sklearn.XGBClassifier'> (70, 100) (70, 1) classif_features_100_samples_100_seed_9 pps\n"
     ]
    },
    {
     "data": {
      "application/vnd.jupyter.widget-view+json": {
       "model_id": "cba5a0171a544f659b18806eb1f53a32",
       "version_major": 2,
       "version_minor": 0
      },
      "text/plain": [
       "Model progress for dataset 30:   0%|          | 0/3 [00:00<?, ?it/s]"
      ]
     },
     "metadata": {},
     "output_type": "display_data"
    },
    {
     "data": {
      "application/vnd.jupyter.widget-view+json": {
       "model_id": "3acb88d38fb2470298a7b24e4eb2174a",
       "version_major": 2,
       "version_minor": 0
      },
      "text/plain": [
       "Importance type progress for model 0:   0%|          | 0/9 [00:00<?, ?it/s]"
      ]
     },
     "metadata": {},
     "output_type": "display_data"
    },
    {
     "name": "stdout",
     "output_type": "stream",
     "text": [
      "<class 'sklearn.tree._classes.DecisionTreeClassifier'> (700, 100) (700, 1) classif_features_100_samples_1000_seed_0 mutual_info\n",
      "<class 'sklearn.tree._classes.DecisionTreeClassifier'> (700, 100) (700, 1) classif_features_100_samples_1000_seed_0 f_test\n",
      "<class 'sklearn.tree._classes.DecisionTreeClassifier'> (700, 100) (700, 1) classif_features_100_samples_1000_seed_0 pimp\n",
      "<class 'sklearn.tree._classes.DecisionTreeClassifier'> (700, 100) (700, 1) classif_features_100_samples_1000_seed_0 shap\n",
      "<class 'sklearn.tree._classes.DecisionTreeClassifier'> (700, 100) (700, 1) classif_features_100_samples_1000_seed_0 pearson\n",
      "<class 'sklearn.tree._classes.DecisionTreeClassifier'> (700, 100) (700, 1) classif_features_100_samples_1000_seed_0 spearman\n",
      "<class 'sklearn.tree._classes.DecisionTreeClassifier'> (700, 100) (700, 1) classif_features_100_samples_1000_seed_0 kendall\n",
      "<class 'sklearn.tree._classes.DecisionTreeClassifier'> (700, 100) (700, 1) classif_features_100_samples_1000_seed_0 pps\n"
     ]
    },
    {
     "data": {
      "application/vnd.jupyter.widget-view+json": {
       "model_id": "3fcd498033e14799aeb36ddf73debe04",
       "version_major": 2,
       "version_minor": 0
      },
      "text/plain": [
       "Importance type progress for model 1:   0%|          | 0/9 [00:00<?, ?it/s]"
      ]
     },
     "metadata": {},
     "output_type": "display_data"
    },
    {
     "name": "stdout",
     "output_type": "stream",
     "text": [
      "<class 'sklearn.ensemble._forest.RandomForestClassifier'> (700, 100) (700, 1) classif_features_100_samples_1000_seed_0 mutual_info\n",
      "<class 'sklearn.ensemble._forest.RandomForestClassifier'> (700, 100) (700, 1) classif_features_100_samples_1000_seed_0 f_test\n",
      "<class 'sklearn.ensemble._forest.RandomForestClassifier'> (700, 100) (700, 1) classif_features_100_samples_1000_seed_0 pimp\n",
      "<class 'sklearn.ensemble._forest.RandomForestClassifier'> (700, 100) (700, 1) classif_features_100_samples_1000_seed_0 shap\n",
      "<class 'sklearn.ensemble._forest.RandomForestClassifier'> (700, 100) (700, 1) classif_features_100_samples_1000_seed_0 pearson\n",
      "<class 'sklearn.ensemble._forest.RandomForestClassifier'> (700, 100) (700, 1) classif_features_100_samples_1000_seed_0 spearman\n",
      "<class 'sklearn.ensemble._forest.RandomForestClassifier'> (700, 100) (700, 1) classif_features_100_samples_1000_seed_0 kendall\n",
      "<class 'sklearn.ensemble._forest.RandomForestClassifier'> (700, 100) (700, 1) classif_features_100_samples_1000_seed_0 pps\n"
     ]
    },
    {
     "data": {
      "application/vnd.jupyter.widget-view+json": {
       "model_id": "c54d465b77094f81a7b70d5305f89089",
       "version_major": 2,
       "version_minor": 0
      },
      "text/plain": [
       "Importance type progress for model 2:   0%|          | 0/9 [00:00<?, ?it/s]"
      ]
     },
     "metadata": {},
     "output_type": "display_data"
    },
    {
     "name": "stdout",
     "output_type": "stream",
     "text": [
      "<class 'xgboost.sklearn.XGBClassifier'> (700, 100) (700, 1) classif_features_100_samples_1000_seed_0 mutual_info\n",
      "<class 'xgboost.sklearn.XGBClassifier'> (700, 100) (700, 1) classif_features_100_samples_1000_seed_0 f_test\n",
      "<class 'xgboost.sklearn.XGBClassifier'> (700, 100) (700, 1) classif_features_100_samples_1000_seed_0 pimp\n",
      "<class 'xgboost.sklearn.XGBClassifier'> (700, 100) (700, 1) classif_features_100_samples_1000_seed_0 shap\n",
      "<class 'xgboost.sklearn.XGBClassifier'> (700, 100) (700, 1) classif_features_100_samples_1000_seed_0 pearson\n",
      "<class 'xgboost.sklearn.XGBClassifier'> (700, 100) (700, 1) classif_features_100_samples_1000_seed_0 spearman\n",
      "<class 'xgboost.sklearn.XGBClassifier'> (700, 100) (700, 1) classif_features_100_samples_1000_seed_0 kendall\n",
      "<class 'xgboost.sklearn.XGBClassifier'> (700, 100) (700, 1) classif_features_100_samples_1000_seed_0 pps\n"
     ]
    },
    {
     "data": {
      "application/vnd.jupyter.widget-view+json": {
       "model_id": "79c0e5bc78ad4f519b9c131147655a25",
       "version_major": 2,
       "version_minor": 0
      },
      "text/plain": [
       "Model progress for dataset 31:   0%|          | 0/3 [00:00<?, ?it/s]"
      ]
     },
     "metadata": {},
     "output_type": "display_data"
    },
    {
     "data": {
      "application/vnd.jupyter.widget-view+json": {
       "model_id": "15f44c184722411795d262485e3c7acd",
       "version_major": 2,
       "version_minor": 0
      },
      "text/plain": [
       "Importance type progress for model 0:   0%|          | 0/9 [00:00<?, ?it/s]"
      ]
     },
     "metadata": {},
     "output_type": "display_data"
    },
    {
     "name": "stdout",
     "output_type": "stream",
     "text": [
      "<class 'sklearn.tree._classes.DecisionTreeClassifier'> (700, 100) (700, 1) classif_features_100_samples_1000_seed_1 mutual_info\n",
      "<class 'sklearn.tree._classes.DecisionTreeClassifier'> (700, 100) (700, 1) classif_features_100_samples_1000_seed_1 f_test\n",
      "<class 'sklearn.tree._classes.DecisionTreeClassifier'> (700, 100) (700, 1) classif_features_100_samples_1000_seed_1 pimp\n",
      "<class 'sklearn.tree._classes.DecisionTreeClassifier'> (700, 100) (700, 1) classif_features_100_samples_1000_seed_1 shap\n",
      "<class 'sklearn.tree._classes.DecisionTreeClassifier'> (700, 100) (700, 1) classif_features_100_samples_1000_seed_1 pearson\n",
      "<class 'sklearn.tree._classes.DecisionTreeClassifier'> (700, 100) (700, 1) classif_features_100_samples_1000_seed_1 spearman\n",
      "<class 'sklearn.tree._classes.DecisionTreeClassifier'> (700, 100) (700, 1) classif_features_100_samples_1000_seed_1 kendall\n",
      "<class 'sklearn.tree._classes.DecisionTreeClassifier'> (700, 100) (700, 1) classif_features_100_samples_1000_seed_1 pps\n"
     ]
    },
    {
     "data": {
      "application/vnd.jupyter.widget-view+json": {
       "model_id": "cc7c7d19928845a89e529dbea76d9dcc",
       "version_major": 2,
       "version_minor": 0
      },
      "text/plain": [
       "Importance type progress for model 1:   0%|          | 0/9 [00:00<?, ?it/s]"
      ]
     },
     "metadata": {},
     "output_type": "display_data"
    },
    {
     "name": "stdout",
     "output_type": "stream",
     "text": [
      "<class 'sklearn.ensemble._forest.RandomForestClassifier'> (700, 100) (700, 1) classif_features_100_samples_1000_seed_1 mutual_info\n",
      "<class 'sklearn.ensemble._forest.RandomForestClassifier'> (700, 100) (700, 1) classif_features_100_samples_1000_seed_1 f_test\n",
      "<class 'sklearn.ensemble._forest.RandomForestClassifier'> (700, 100) (700, 1) classif_features_100_samples_1000_seed_1 pimp\n",
      "<class 'sklearn.ensemble._forest.RandomForestClassifier'> (700, 100) (700, 1) classif_features_100_samples_1000_seed_1 shap\n",
      "<class 'sklearn.ensemble._forest.RandomForestClassifier'> (700, 100) (700, 1) classif_features_100_samples_1000_seed_1 pearson\n",
      "<class 'sklearn.ensemble._forest.RandomForestClassifier'> (700, 100) (700, 1) classif_features_100_samples_1000_seed_1 spearman\n",
      "<class 'sklearn.ensemble._forest.RandomForestClassifier'> (700, 100) (700, 1) classif_features_100_samples_1000_seed_1 kendall\n",
      "<class 'sklearn.ensemble._forest.RandomForestClassifier'> (700, 100) (700, 1) classif_features_100_samples_1000_seed_1 pps\n"
     ]
    },
    {
     "data": {
      "application/vnd.jupyter.widget-view+json": {
       "model_id": "0373a77f6b4d46078a66ea4d5963c7d2",
       "version_major": 2,
       "version_minor": 0
      },
      "text/plain": [
       "Importance type progress for model 2:   0%|          | 0/9 [00:00<?, ?it/s]"
      ]
     },
     "metadata": {},
     "output_type": "display_data"
    },
    {
     "name": "stdout",
     "output_type": "stream",
     "text": [
      "<class 'xgboost.sklearn.XGBClassifier'> (700, 100) (700, 1) classif_features_100_samples_1000_seed_1 mutual_info\n",
      "<class 'xgboost.sklearn.XGBClassifier'> (700, 100) (700, 1) classif_features_100_samples_1000_seed_1 f_test\n",
      "<class 'xgboost.sklearn.XGBClassifier'> (700, 100) (700, 1) classif_features_100_samples_1000_seed_1 pimp\n",
      "<class 'xgboost.sklearn.XGBClassifier'> (700, 100) (700, 1) classif_features_100_samples_1000_seed_1 shap\n",
      "<class 'xgboost.sklearn.XGBClassifier'> (700, 100) (700, 1) classif_features_100_samples_1000_seed_1 pearson\n",
      "<class 'xgboost.sklearn.XGBClassifier'> (700, 100) (700, 1) classif_features_100_samples_1000_seed_1 spearman\n",
      "<class 'xgboost.sklearn.XGBClassifier'> (700, 100) (700, 1) classif_features_100_samples_1000_seed_1 kendall\n",
      "<class 'xgboost.sklearn.XGBClassifier'> (700, 100) (700, 1) classif_features_100_samples_1000_seed_1 pps\n"
     ]
    },
    {
     "data": {
      "application/vnd.jupyter.widget-view+json": {
       "model_id": "8d5224ba7a8249c48250b9f5908a9f5d",
       "version_major": 2,
       "version_minor": 0
      },
      "text/plain": [
       "Model progress for dataset 32:   0%|          | 0/3 [00:00<?, ?it/s]"
      ]
     },
     "metadata": {},
     "output_type": "display_data"
    },
    {
     "data": {
      "application/vnd.jupyter.widget-view+json": {
       "model_id": "0adb535a30914ebf9c8433ba509fd038",
       "version_major": 2,
       "version_minor": 0
      },
      "text/plain": [
       "Importance type progress for model 0:   0%|          | 0/9 [00:00<?, ?it/s]"
      ]
     },
     "metadata": {},
     "output_type": "display_data"
    },
    {
     "name": "stdout",
     "output_type": "stream",
     "text": [
      "<class 'sklearn.tree._classes.DecisionTreeClassifier'> (700, 100) (700, 1) classif_features_100_samples_1000_seed_2 mutual_info\n",
      "<class 'sklearn.tree._classes.DecisionTreeClassifier'> (700, 100) (700, 1) classif_features_100_samples_1000_seed_2 f_test\n",
      "<class 'sklearn.tree._classes.DecisionTreeClassifier'> (700, 100) (700, 1) classif_features_100_samples_1000_seed_2 pimp\n",
      "<class 'sklearn.tree._classes.DecisionTreeClassifier'> (700, 100) (700, 1) classif_features_100_samples_1000_seed_2 shap\n",
      "<class 'sklearn.tree._classes.DecisionTreeClassifier'> (700, 100) (700, 1) classif_features_100_samples_1000_seed_2 pearson\n",
      "<class 'sklearn.tree._classes.DecisionTreeClassifier'> (700, 100) (700, 1) classif_features_100_samples_1000_seed_2 spearman\n",
      "<class 'sklearn.tree._classes.DecisionTreeClassifier'> (700, 100) (700, 1) classif_features_100_samples_1000_seed_2 kendall\n",
      "<class 'sklearn.tree._classes.DecisionTreeClassifier'> (700, 100) (700, 1) classif_features_100_samples_1000_seed_2 pps\n"
     ]
    },
    {
     "data": {
      "application/vnd.jupyter.widget-view+json": {
       "model_id": "33a39366234a4764a7db5aaf10ed4fce",
       "version_major": 2,
       "version_minor": 0
      },
      "text/plain": [
       "Importance type progress for model 1:   0%|          | 0/9 [00:00<?, ?it/s]"
      ]
     },
     "metadata": {},
     "output_type": "display_data"
    },
    {
     "name": "stdout",
     "output_type": "stream",
     "text": [
      "<class 'sklearn.ensemble._forest.RandomForestClassifier'> (700, 100) (700, 1) classif_features_100_samples_1000_seed_2 mutual_info\n",
      "<class 'sklearn.ensemble._forest.RandomForestClassifier'> (700, 100) (700, 1) classif_features_100_samples_1000_seed_2 f_test\n",
      "<class 'sklearn.ensemble._forest.RandomForestClassifier'> (700, 100) (700, 1) classif_features_100_samples_1000_seed_2 pimp\n",
      "<class 'sklearn.ensemble._forest.RandomForestClassifier'> (700, 100) (700, 1) classif_features_100_samples_1000_seed_2 shap\n",
      "<class 'sklearn.ensemble._forest.RandomForestClassifier'> (700, 100) (700, 1) classif_features_100_samples_1000_seed_2 pearson\n",
      "<class 'sklearn.ensemble._forest.RandomForestClassifier'> (700, 100) (700, 1) classif_features_100_samples_1000_seed_2 spearman\n",
      "<class 'sklearn.ensemble._forest.RandomForestClassifier'> (700, 100) (700, 1) classif_features_100_samples_1000_seed_2 kendall\n",
      "<class 'sklearn.ensemble._forest.RandomForestClassifier'> (700, 100) (700, 1) classif_features_100_samples_1000_seed_2 pps\n"
     ]
    },
    {
     "data": {
      "application/vnd.jupyter.widget-view+json": {
       "model_id": "9942cd62a2bc46ee816850fd27d54107",
       "version_major": 2,
       "version_minor": 0
      },
      "text/plain": [
       "Importance type progress for model 2:   0%|          | 0/9 [00:00<?, ?it/s]"
      ]
     },
     "metadata": {},
     "output_type": "display_data"
    },
    {
     "name": "stdout",
     "output_type": "stream",
     "text": [
      "<class 'xgboost.sklearn.XGBClassifier'> (700, 100) (700, 1) classif_features_100_samples_1000_seed_2 mutual_info\n",
      "<class 'xgboost.sklearn.XGBClassifier'> (700, 100) (700, 1) classif_features_100_samples_1000_seed_2 f_test\n",
      "<class 'xgboost.sklearn.XGBClassifier'> (700, 100) (700, 1) classif_features_100_samples_1000_seed_2 pimp\n",
      "<class 'xgboost.sklearn.XGBClassifier'> (700, 100) (700, 1) classif_features_100_samples_1000_seed_2 shap\n",
      "<class 'xgboost.sklearn.XGBClassifier'> (700, 100) (700, 1) classif_features_100_samples_1000_seed_2 pearson\n",
      "<class 'xgboost.sklearn.XGBClassifier'> (700, 100) (700, 1) classif_features_100_samples_1000_seed_2 spearman\n",
      "<class 'xgboost.sklearn.XGBClassifier'> (700, 100) (700, 1) classif_features_100_samples_1000_seed_2 kendall\n",
      "<class 'xgboost.sklearn.XGBClassifier'> (700, 100) (700, 1) classif_features_100_samples_1000_seed_2 pps\n"
     ]
    },
    {
     "data": {
      "application/vnd.jupyter.widget-view+json": {
       "model_id": "1db2d401e97a44bcba9698a00c49e1df",
       "version_major": 2,
       "version_minor": 0
      },
      "text/plain": [
       "Model progress for dataset 33:   0%|          | 0/3 [00:00<?, ?it/s]"
      ]
     },
     "metadata": {},
     "output_type": "display_data"
    },
    {
     "data": {
      "application/vnd.jupyter.widget-view+json": {
       "model_id": "cf6b6c15ef544470b23d1c7f16bb2c74",
       "version_major": 2,
       "version_minor": 0
      },
      "text/plain": [
       "Importance type progress for model 0:   0%|          | 0/9 [00:00<?, ?it/s]"
      ]
     },
     "metadata": {},
     "output_type": "display_data"
    },
    {
     "name": "stdout",
     "output_type": "stream",
     "text": [
      "<class 'sklearn.tree._classes.DecisionTreeClassifier'> (700, 100) (700, 1) classif_features_100_samples_1000_seed_3 mutual_info\n",
      "<class 'sklearn.tree._classes.DecisionTreeClassifier'> (700, 100) (700, 1) classif_features_100_samples_1000_seed_3 f_test\n",
      "<class 'sklearn.tree._classes.DecisionTreeClassifier'> (700, 100) (700, 1) classif_features_100_samples_1000_seed_3 pimp\n",
      "<class 'sklearn.tree._classes.DecisionTreeClassifier'> (700, 100) (700, 1) classif_features_100_samples_1000_seed_3 shap\n",
      "<class 'sklearn.tree._classes.DecisionTreeClassifier'> (700, 100) (700, 1) classif_features_100_samples_1000_seed_3 pearson\n",
      "<class 'sklearn.tree._classes.DecisionTreeClassifier'> (700, 100) (700, 1) classif_features_100_samples_1000_seed_3 spearman\n",
      "<class 'sklearn.tree._classes.DecisionTreeClassifier'> (700, 100) (700, 1) classif_features_100_samples_1000_seed_3 kendall\n",
      "<class 'sklearn.tree._classes.DecisionTreeClassifier'> (700, 100) (700, 1) classif_features_100_samples_1000_seed_3 pps\n"
     ]
    },
    {
     "data": {
      "application/vnd.jupyter.widget-view+json": {
       "model_id": "ea65a04368394dad8c3db78bbf2443ab",
       "version_major": 2,
       "version_minor": 0
      },
      "text/plain": [
       "Importance type progress for model 1:   0%|          | 0/9 [00:00<?, ?it/s]"
      ]
     },
     "metadata": {},
     "output_type": "display_data"
    },
    {
     "name": "stdout",
     "output_type": "stream",
     "text": [
      "<class 'sklearn.ensemble._forest.RandomForestClassifier'> (700, 100) (700, 1) classif_features_100_samples_1000_seed_3 mutual_info\n",
      "<class 'sklearn.ensemble._forest.RandomForestClassifier'> (700, 100) (700, 1) classif_features_100_samples_1000_seed_3 f_test\n",
      "<class 'sklearn.ensemble._forest.RandomForestClassifier'> (700, 100) (700, 1) classif_features_100_samples_1000_seed_3 pimp\n",
      "<class 'sklearn.ensemble._forest.RandomForestClassifier'> (700, 100) (700, 1) classif_features_100_samples_1000_seed_3 shap\n",
      "<class 'sklearn.ensemble._forest.RandomForestClassifier'> (700, 100) (700, 1) classif_features_100_samples_1000_seed_3 pearson\n",
      "<class 'sklearn.ensemble._forest.RandomForestClassifier'> (700, 100) (700, 1) classif_features_100_samples_1000_seed_3 spearman\n",
      "<class 'sklearn.ensemble._forest.RandomForestClassifier'> (700, 100) (700, 1) classif_features_100_samples_1000_seed_3 kendall\n",
      "<class 'sklearn.ensemble._forest.RandomForestClassifier'> (700, 100) (700, 1) classif_features_100_samples_1000_seed_3 pps\n"
     ]
    },
    {
     "data": {
      "application/vnd.jupyter.widget-view+json": {
       "model_id": "e15eff6c0afe4ddfb3ee174908e95837",
       "version_major": 2,
       "version_minor": 0
      },
      "text/plain": [
       "Importance type progress for model 2:   0%|          | 0/9 [00:00<?, ?it/s]"
      ]
     },
     "metadata": {},
     "output_type": "display_data"
    },
    {
     "name": "stdout",
     "output_type": "stream",
     "text": [
      "<class 'xgboost.sklearn.XGBClassifier'> (700, 100) (700, 1) classif_features_100_samples_1000_seed_3 mutual_info\n",
      "<class 'xgboost.sklearn.XGBClassifier'> (700, 100) (700, 1) classif_features_100_samples_1000_seed_3 f_test\n",
      "<class 'xgboost.sklearn.XGBClassifier'> (700, 100) (700, 1) classif_features_100_samples_1000_seed_3 pimp\n",
      "<class 'xgboost.sklearn.XGBClassifier'> (700, 100) (700, 1) classif_features_100_samples_1000_seed_3 shap\n",
      "<class 'xgboost.sklearn.XGBClassifier'> (700, 100) (700, 1) classif_features_100_samples_1000_seed_3 pearson\n",
      "<class 'xgboost.sklearn.XGBClassifier'> (700, 100) (700, 1) classif_features_100_samples_1000_seed_3 spearman\n",
      "<class 'xgboost.sklearn.XGBClassifier'> (700, 100) (700, 1) classif_features_100_samples_1000_seed_3 kendall\n",
      "<class 'xgboost.sklearn.XGBClassifier'> (700, 100) (700, 1) classif_features_100_samples_1000_seed_3 pps\n"
     ]
    },
    {
     "data": {
      "application/vnd.jupyter.widget-view+json": {
       "model_id": "ba64eb6f7f9c410a836bd7050a752ac6",
       "version_major": 2,
       "version_minor": 0
      },
      "text/plain": [
       "Model progress for dataset 34:   0%|          | 0/3 [00:00<?, ?it/s]"
      ]
     },
     "metadata": {},
     "output_type": "display_data"
    },
    {
     "data": {
      "application/vnd.jupyter.widget-view+json": {
       "model_id": "6d50837d7e80483481729e1e9a484a02",
       "version_major": 2,
       "version_minor": 0
      },
      "text/plain": [
       "Importance type progress for model 0:   0%|          | 0/9 [00:00<?, ?it/s]"
      ]
     },
     "metadata": {},
     "output_type": "display_data"
    },
    {
     "name": "stdout",
     "output_type": "stream",
     "text": [
      "<class 'sklearn.tree._classes.DecisionTreeClassifier'> (700, 100) (700, 1) classif_features_100_samples_1000_seed_4 mutual_info\n",
      "<class 'sklearn.tree._classes.DecisionTreeClassifier'> (700, 100) (700, 1) classif_features_100_samples_1000_seed_4 f_test\n",
      "<class 'sklearn.tree._classes.DecisionTreeClassifier'> (700, 100) (700, 1) classif_features_100_samples_1000_seed_4 pimp\n",
      "<class 'sklearn.tree._classes.DecisionTreeClassifier'> (700, 100) (700, 1) classif_features_100_samples_1000_seed_4 shap\n",
      "<class 'sklearn.tree._classes.DecisionTreeClassifier'> (700, 100) (700, 1) classif_features_100_samples_1000_seed_4 pearson\n",
      "<class 'sklearn.tree._classes.DecisionTreeClassifier'> (700, 100) (700, 1) classif_features_100_samples_1000_seed_4 spearman\n",
      "<class 'sklearn.tree._classes.DecisionTreeClassifier'> (700, 100) (700, 1) classif_features_100_samples_1000_seed_4 kendall\n",
      "<class 'sklearn.tree._classes.DecisionTreeClassifier'> (700, 100) (700, 1) classif_features_100_samples_1000_seed_4 pps\n"
     ]
    },
    {
     "data": {
      "application/vnd.jupyter.widget-view+json": {
       "model_id": "99449d42829c40b2b2e6e4cefa522b05",
       "version_major": 2,
       "version_minor": 0
      },
      "text/plain": [
       "Importance type progress for model 1:   0%|          | 0/9 [00:00<?, ?it/s]"
      ]
     },
     "metadata": {},
     "output_type": "display_data"
    },
    {
     "name": "stdout",
     "output_type": "stream",
     "text": [
      "<class 'sklearn.ensemble._forest.RandomForestClassifier'> (700, 100) (700, 1) classif_features_100_samples_1000_seed_4 mutual_info\n",
      "<class 'sklearn.ensemble._forest.RandomForestClassifier'> (700, 100) (700, 1) classif_features_100_samples_1000_seed_4 f_test\n",
      "<class 'sklearn.ensemble._forest.RandomForestClassifier'> (700, 100) (700, 1) classif_features_100_samples_1000_seed_4 pimp\n",
      "<class 'sklearn.ensemble._forest.RandomForestClassifier'> (700, 100) (700, 1) classif_features_100_samples_1000_seed_4 shap\n",
      "<class 'sklearn.ensemble._forest.RandomForestClassifier'> (700, 100) (700, 1) classif_features_100_samples_1000_seed_4 pearson\n",
      "<class 'sklearn.ensemble._forest.RandomForestClassifier'> (700, 100) (700, 1) classif_features_100_samples_1000_seed_4 spearman\n",
      "<class 'sklearn.ensemble._forest.RandomForestClassifier'> (700, 100) (700, 1) classif_features_100_samples_1000_seed_4 kendall\n",
      "<class 'sklearn.ensemble._forest.RandomForestClassifier'> (700, 100) (700, 1) classif_features_100_samples_1000_seed_4 pps\n"
     ]
    },
    {
     "data": {
      "application/vnd.jupyter.widget-view+json": {
       "model_id": "7218d88c83da4940b34dcc7d8c90a2c7",
       "version_major": 2,
       "version_minor": 0
      },
      "text/plain": [
       "Importance type progress for model 2:   0%|          | 0/9 [00:00<?, ?it/s]"
      ]
     },
     "metadata": {},
     "output_type": "display_data"
    },
    {
     "name": "stdout",
     "output_type": "stream",
     "text": [
      "<class 'xgboost.sklearn.XGBClassifier'> (700, 100) (700, 1) classif_features_100_samples_1000_seed_4 mutual_info\n",
      "<class 'xgboost.sklearn.XGBClassifier'> (700, 100) (700, 1) classif_features_100_samples_1000_seed_4 f_test\n",
      "<class 'xgboost.sklearn.XGBClassifier'> (700, 100) (700, 1) classif_features_100_samples_1000_seed_4 pimp\n",
      "<class 'xgboost.sklearn.XGBClassifier'> (700, 100) (700, 1) classif_features_100_samples_1000_seed_4 shap\n",
      "<class 'xgboost.sklearn.XGBClassifier'> (700, 100) (700, 1) classif_features_100_samples_1000_seed_4 pearson\n",
      "<class 'xgboost.sklearn.XGBClassifier'> (700, 100) (700, 1) classif_features_100_samples_1000_seed_4 spearman\n",
      "<class 'xgboost.sklearn.XGBClassifier'> (700, 100) (700, 1) classif_features_100_samples_1000_seed_4 kendall\n",
      "<class 'xgboost.sklearn.XGBClassifier'> (700, 100) (700, 1) classif_features_100_samples_1000_seed_4 pps\n"
     ]
    },
    {
     "data": {
      "application/vnd.jupyter.widget-view+json": {
       "model_id": "f0a7b6f484d949ab8aa50b85f320bb6e",
       "version_major": 2,
       "version_minor": 0
      },
      "text/plain": [
       "Model progress for dataset 35:   0%|          | 0/3 [00:00<?, ?it/s]"
      ]
     },
     "metadata": {},
     "output_type": "display_data"
    },
    {
     "data": {
      "application/vnd.jupyter.widget-view+json": {
       "model_id": "5d7f772f7d564cce87b66847e47c8ca8",
       "version_major": 2,
       "version_minor": 0
      },
      "text/plain": [
       "Importance type progress for model 0:   0%|          | 0/9 [00:00<?, ?it/s]"
      ]
     },
     "metadata": {},
     "output_type": "display_data"
    },
    {
     "name": "stdout",
     "output_type": "stream",
     "text": [
      "<class 'sklearn.tree._classes.DecisionTreeClassifier'> (700, 100) (700, 1) classif_features_100_samples_1000_seed_5 mutual_info\n",
      "<class 'sklearn.tree._classes.DecisionTreeClassifier'> (700, 100) (700, 1) classif_features_100_samples_1000_seed_5 f_test\n",
      "<class 'sklearn.tree._classes.DecisionTreeClassifier'> (700, 100) (700, 1) classif_features_100_samples_1000_seed_5 pimp\n",
      "<class 'sklearn.tree._classes.DecisionTreeClassifier'> (700, 100) (700, 1) classif_features_100_samples_1000_seed_5 shap\n",
      "<class 'sklearn.tree._classes.DecisionTreeClassifier'> (700, 100) (700, 1) classif_features_100_samples_1000_seed_5 pearson\n",
      "<class 'sklearn.tree._classes.DecisionTreeClassifier'> (700, 100) (700, 1) classif_features_100_samples_1000_seed_5 spearman\n",
      "<class 'sklearn.tree._classes.DecisionTreeClassifier'> (700, 100) (700, 1) classif_features_100_samples_1000_seed_5 kendall\n",
      "<class 'sklearn.tree._classes.DecisionTreeClassifier'> (700, 100) (700, 1) classif_features_100_samples_1000_seed_5 pps\n"
     ]
    },
    {
     "data": {
      "application/vnd.jupyter.widget-view+json": {
       "model_id": "707b6029cbc74bc2a82ae102d4a72008",
       "version_major": 2,
       "version_minor": 0
      },
      "text/plain": [
       "Importance type progress for model 1:   0%|          | 0/9 [00:00<?, ?it/s]"
      ]
     },
     "metadata": {},
     "output_type": "display_data"
    },
    {
     "name": "stdout",
     "output_type": "stream",
     "text": [
      "<class 'sklearn.ensemble._forest.RandomForestClassifier'> (700, 100) (700, 1) classif_features_100_samples_1000_seed_5 mutual_info\n",
      "<class 'sklearn.ensemble._forest.RandomForestClassifier'> (700, 100) (700, 1) classif_features_100_samples_1000_seed_5 f_test\n",
      "<class 'sklearn.ensemble._forest.RandomForestClassifier'> (700, 100) (700, 1) classif_features_100_samples_1000_seed_5 pimp\n",
      "<class 'sklearn.ensemble._forest.RandomForestClassifier'> (700, 100) (700, 1) classif_features_100_samples_1000_seed_5 shap\n",
      "<class 'sklearn.ensemble._forest.RandomForestClassifier'> (700, 100) (700, 1) classif_features_100_samples_1000_seed_5 pearson\n",
      "<class 'sklearn.ensemble._forest.RandomForestClassifier'> (700, 100) (700, 1) classif_features_100_samples_1000_seed_5 spearman\n",
      "<class 'sklearn.ensemble._forest.RandomForestClassifier'> (700, 100) (700, 1) classif_features_100_samples_1000_seed_5 kendall\n",
      "<class 'sklearn.ensemble._forest.RandomForestClassifier'> (700, 100) (700, 1) classif_features_100_samples_1000_seed_5 pps\n"
     ]
    },
    {
     "data": {
      "application/vnd.jupyter.widget-view+json": {
       "model_id": "fbe9594b03ac43e6b190296d498287f3",
       "version_major": 2,
       "version_minor": 0
      },
      "text/plain": [
       "Importance type progress for model 2:   0%|          | 0/9 [00:00<?, ?it/s]"
      ]
     },
     "metadata": {},
     "output_type": "display_data"
    },
    {
     "name": "stdout",
     "output_type": "stream",
     "text": [
      "<class 'xgboost.sklearn.XGBClassifier'> (700, 100) (700, 1) classif_features_100_samples_1000_seed_5 mutual_info\n",
      "<class 'xgboost.sklearn.XGBClassifier'> (700, 100) (700, 1) classif_features_100_samples_1000_seed_5 f_test\n",
      "<class 'xgboost.sklearn.XGBClassifier'> (700, 100) (700, 1) classif_features_100_samples_1000_seed_5 pimp\n",
      "<class 'xgboost.sklearn.XGBClassifier'> (700, 100) (700, 1) classif_features_100_samples_1000_seed_5 shap\n",
      "<class 'xgboost.sklearn.XGBClassifier'> (700, 100) (700, 1) classif_features_100_samples_1000_seed_5 pearson\n",
      "<class 'xgboost.sklearn.XGBClassifier'> (700, 100) (700, 1) classif_features_100_samples_1000_seed_5 spearman\n",
      "<class 'xgboost.sklearn.XGBClassifier'> (700, 100) (700, 1) classif_features_100_samples_1000_seed_5 kendall\n",
      "<class 'xgboost.sklearn.XGBClassifier'> (700, 100) (700, 1) classif_features_100_samples_1000_seed_5 pps\n"
     ]
    },
    {
     "data": {
      "application/vnd.jupyter.widget-view+json": {
       "model_id": "8692a380cc6e4252b6314f24d3922100",
       "version_major": 2,
       "version_minor": 0
      },
      "text/plain": [
       "Model progress for dataset 36:   0%|          | 0/3 [00:00<?, ?it/s]"
      ]
     },
     "metadata": {},
     "output_type": "display_data"
    },
    {
     "data": {
      "application/vnd.jupyter.widget-view+json": {
       "model_id": "e094c273d91a47fa9bbaee104766bb28",
       "version_major": 2,
       "version_minor": 0
      },
      "text/plain": [
       "Importance type progress for model 0:   0%|          | 0/9 [00:00<?, ?it/s]"
      ]
     },
     "metadata": {},
     "output_type": "display_data"
    },
    {
     "name": "stdout",
     "output_type": "stream",
     "text": [
      "<class 'sklearn.tree._classes.DecisionTreeClassifier'> (700, 100) (700, 1) classif_features_100_samples_1000_seed_6 mutual_info\n",
      "<class 'sklearn.tree._classes.DecisionTreeClassifier'> (700, 100) (700, 1) classif_features_100_samples_1000_seed_6 f_test\n",
      "<class 'sklearn.tree._classes.DecisionTreeClassifier'> (700, 100) (700, 1) classif_features_100_samples_1000_seed_6 pimp\n",
      "<class 'sklearn.tree._classes.DecisionTreeClassifier'> (700, 100) (700, 1) classif_features_100_samples_1000_seed_6 shap\n",
      "<class 'sklearn.tree._classes.DecisionTreeClassifier'> (700, 100) (700, 1) classif_features_100_samples_1000_seed_6 pearson\n",
      "<class 'sklearn.tree._classes.DecisionTreeClassifier'> (700, 100) (700, 1) classif_features_100_samples_1000_seed_6 spearman\n",
      "<class 'sklearn.tree._classes.DecisionTreeClassifier'> (700, 100) (700, 1) classif_features_100_samples_1000_seed_6 kendall\n",
      "<class 'sklearn.tree._classes.DecisionTreeClassifier'> (700, 100) (700, 1) classif_features_100_samples_1000_seed_6 pps\n"
     ]
    },
    {
     "data": {
      "application/vnd.jupyter.widget-view+json": {
       "model_id": "a5b187e22b4c455096f81448824ba75f",
       "version_major": 2,
       "version_minor": 0
      },
      "text/plain": [
       "Importance type progress for model 1:   0%|          | 0/9 [00:00<?, ?it/s]"
      ]
     },
     "metadata": {},
     "output_type": "display_data"
    },
    {
     "name": "stdout",
     "output_type": "stream",
     "text": [
      "<class 'sklearn.ensemble._forest.RandomForestClassifier'> (700, 100) (700, 1) classif_features_100_samples_1000_seed_6 mutual_info\n",
      "<class 'sklearn.ensemble._forest.RandomForestClassifier'> (700, 100) (700, 1) classif_features_100_samples_1000_seed_6 f_test\n",
      "<class 'sklearn.ensemble._forest.RandomForestClassifier'> (700, 100) (700, 1) classif_features_100_samples_1000_seed_6 pimp\n",
      "<class 'sklearn.ensemble._forest.RandomForestClassifier'> (700, 100) (700, 1) classif_features_100_samples_1000_seed_6 shap\n",
      "<class 'sklearn.ensemble._forest.RandomForestClassifier'> (700, 100) (700, 1) classif_features_100_samples_1000_seed_6 pearson\n",
      "<class 'sklearn.ensemble._forest.RandomForestClassifier'> (700, 100) (700, 1) classif_features_100_samples_1000_seed_6 spearman\n",
      "<class 'sklearn.ensemble._forest.RandomForestClassifier'> (700, 100) (700, 1) classif_features_100_samples_1000_seed_6 kendall\n",
      "<class 'sklearn.ensemble._forest.RandomForestClassifier'> (700, 100) (700, 1) classif_features_100_samples_1000_seed_6 pps\n"
     ]
    },
    {
     "data": {
      "application/vnd.jupyter.widget-view+json": {
       "model_id": "4bc32c62d755479aa552638a6763d039",
       "version_major": 2,
       "version_minor": 0
      },
      "text/plain": [
       "Importance type progress for model 2:   0%|          | 0/9 [00:00<?, ?it/s]"
      ]
     },
     "metadata": {},
     "output_type": "display_data"
    },
    {
     "name": "stdout",
     "output_type": "stream",
     "text": [
      "<class 'xgboost.sklearn.XGBClassifier'> (700, 100) (700, 1) classif_features_100_samples_1000_seed_6 mutual_info\n",
      "<class 'xgboost.sklearn.XGBClassifier'> (700, 100) (700, 1) classif_features_100_samples_1000_seed_6 f_test\n",
      "<class 'xgboost.sklearn.XGBClassifier'> (700, 100) (700, 1) classif_features_100_samples_1000_seed_6 pimp\n",
      "<class 'xgboost.sklearn.XGBClassifier'> (700, 100) (700, 1) classif_features_100_samples_1000_seed_6 shap\n",
      "<class 'xgboost.sklearn.XGBClassifier'> (700, 100) (700, 1) classif_features_100_samples_1000_seed_6 pearson\n",
      "<class 'xgboost.sklearn.XGBClassifier'> (700, 100) (700, 1) classif_features_100_samples_1000_seed_6 spearman\n",
      "<class 'xgboost.sklearn.XGBClassifier'> (700, 100) (700, 1) classif_features_100_samples_1000_seed_6 kendall\n",
      "<class 'xgboost.sklearn.XGBClassifier'> (700, 100) (700, 1) classif_features_100_samples_1000_seed_6 pps\n"
     ]
    },
    {
     "data": {
      "application/vnd.jupyter.widget-view+json": {
       "model_id": "3d44b2fbcfa34e14ae966b40772bd438",
       "version_major": 2,
       "version_minor": 0
      },
      "text/plain": [
       "Model progress for dataset 37:   0%|          | 0/3 [00:00<?, ?it/s]"
      ]
     },
     "metadata": {},
     "output_type": "display_data"
    },
    {
     "data": {
      "application/vnd.jupyter.widget-view+json": {
       "model_id": "41f9110cc1734ba1a6ca070352073623",
       "version_major": 2,
       "version_minor": 0
      },
      "text/plain": [
       "Importance type progress for model 0:   0%|          | 0/9 [00:00<?, ?it/s]"
      ]
     },
     "metadata": {},
     "output_type": "display_data"
    },
    {
     "name": "stdout",
     "output_type": "stream",
     "text": [
      "<class 'sklearn.tree._classes.DecisionTreeClassifier'> (700, 100) (700, 1) classif_features_100_samples_1000_seed_7 mutual_info\n",
      "<class 'sklearn.tree._classes.DecisionTreeClassifier'> (700, 100) (700, 1) classif_features_100_samples_1000_seed_7 f_test\n",
      "<class 'sklearn.tree._classes.DecisionTreeClassifier'> (700, 100) (700, 1) classif_features_100_samples_1000_seed_7 pimp\n",
      "<class 'sklearn.tree._classes.DecisionTreeClassifier'> (700, 100) (700, 1) classif_features_100_samples_1000_seed_7 shap\n",
      "<class 'sklearn.tree._classes.DecisionTreeClassifier'> (700, 100) (700, 1) classif_features_100_samples_1000_seed_7 pearson\n",
      "<class 'sklearn.tree._classes.DecisionTreeClassifier'> (700, 100) (700, 1) classif_features_100_samples_1000_seed_7 spearman\n",
      "<class 'sklearn.tree._classes.DecisionTreeClassifier'> (700, 100) (700, 1) classif_features_100_samples_1000_seed_7 kendall\n",
      "<class 'sklearn.tree._classes.DecisionTreeClassifier'> (700, 100) (700, 1) classif_features_100_samples_1000_seed_7 pps\n"
     ]
    },
    {
     "data": {
      "application/vnd.jupyter.widget-view+json": {
       "model_id": "64793d5b3eed42d390daf917c6f8a2cb",
       "version_major": 2,
       "version_minor": 0
      },
      "text/plain": [
       "Importance type progress for model 1:   0%|          | 0/9 [00:00<?, ?it/s]"
      ]
     },
     "metadata": {},
     "output_type": "display_data"
    },
    {
     "name": "stdout",
     "output_type": "stream",
     "text": [
      "<class 'sklearn.ensemble._forest.RandomForestClassifier'> (700, 100) (700, 1) classif_features_100_samples_1000_seed_7 mutual_info\n",
      "<class 'sklearn.ensemble._forest.RandomForestClassifier'> (700, 100) (700, 1) classif_features_100_samples_1000_seed_7 f_test\n",
      "<class 'sklearn.ensemble._forest.RandomForestClassifier'> (700, 100) (700, 1) classif_features_100_samples_1000_seed_7 pimp\n",
      "<class 'sklearn.ensemble._forest.RandomForestClassifier'> (700, 100) (700, 1) classif_features_100_samples_1000_seed_7 shap\n",
      "<class 'sklearn.ensemble._forest.RandomForestClassifier'> (700, 100) (700, 1) classif_features_100_samples_1000_seed_7 pearson\n",
      "<class 'sklearn.ensemble._forest.RandomForestClassifier'> (700, 100) (700, 1) classif_features_100_samples_1000_seed_7 spearman\n",
      "<class 'sklearn.ensemble._forest.RandomForestClassifier'> (700, 100) (700, 1) classif_features_100_samples_1000_seed_7 kendall\n",
      "<class 'sklearn.ensemble._forest.RandomForestClassifier'> (700, 100) (700, 1) classif_features_100_samples_1000_seed_7 pps\n"
     ]
    },
    {
     "data": {
      "application/vnd.jupyter.widget-view+json": {
       "model_id": "d9b180ca0a3e40e9947db6c0bf35203f",
       "version_major": 2,
       "version_minor": 0
      },
      "text/plain": [
       "Importance type progress for model 2:   0%|          | 0/9 [00:00<?, ?it/s]"
      ]
     },
     "metadata": {},
     "output_type": "display_data"
    },
    {
     "name": "stdout",
     "output_type": "stream",
     "text": [
      "<class 'xgboost.sklearn.XGBClassifier'> (700, 100) (700, 1) classif_features_100_samples_1000_seed_7 mutual_info\n",
      "<class 'xgboost.sklearn.XGBClassifier'> (700, 100) (700, 1) classif_features_100_samples_1000_seed_7 f_test\n",
      "<class 'xgboost.sklearn.XGBClassifier'> (700, 100) (700, 1) classif_features_100_samples_1000_seed_7 pimp\n",
      "<class 'xgboost.sklearn.XGBClassifier'> (700, 100) (700, 1) classif_features_100_samples_1000_seed_7 shap\n",
      "<class 'xgboost.sklearn.XGBClassifier'> (700, 100) (700, 1) classif_features_100_samples_1000_seed_7 pearson\n",
      "<class 'xgboost.sklearn.XGBClassifier'> (700, 100) (700, 1) classif_features_100_samples_1000_seed_7 spearman\n",
      "<class 'xgboost.sklearn.XGBClassifier'> (700, 100) (700, 1) classif_features_100_samples_1000_seed_7 kendall\n",
      "<class 'xgboost.sklearn.XGBClassifier'> (700, 100) (700, 1) classif_features_100_samples_1000_seed_7 pps\n"
     ]
    },
    {
     "data": {
      "application/vnd.jupyter.widget-view+json": {
       "model_id": "eac744b9fee241218ce2bc4821563a8b",
       "version_major": 2,
       "version_minor": 0
      },
      "text/plain": [
       "Model progress for dataset 38:   0%|          | 0/3 [00:00<?, ?it/s]"
      ]
     },
     "metadata": {},
     "output_type": "display_data"
    },
    {
     "data": {
      "application/vnd.jupyter.widget-view+json": {
       "model_id": "035ee062807148779578e8e6dfa1f52a",
       "version_major": 2,
       "version_minor": 0
      },
      "text/plain": [
       "Importance type progress for model 0:   0%|          | 0/9 [00:00<?, ?it/s]"
      ]
     },
     "metadata": {},
     "output_type": "display_data"
    },
    {
     "name": "stdout",
     "output_type": "stream",
     "text": [
      "<class 'sklearn.tree._classes.DecisionTreeClassifier'> (700, 100) (700, 1) classif_features_100_samples_1000_seed_8 mutual_info\n",
      "<class 'sklearn.tree._classes.DecisionTreeClassifier'> (700, 100) (700, 1) classif_features_100_samples_1000_seed_8 f_test\n",
      "<class 'sklearn.tree._classes.DecisionTreeClassifier'> (700, 100) (700, 1) classif_features_100_samples_1000_seed_8 pimp\n",
      "<class 'sklearn.tree._classes.DecisionTreeClassifier'> (700, 100) (700, 1) classif_features_100_samples_1000_seed_8 shap\n",
      "<class 'sklearn.tree._classes.DecisionTreeClassifier'> (700, 100) (700, 1) classif_features_100_samples_1000_seed_8 pearson\n",
      "<class 'sklearn.tree._classes.DecisionTreeClassifier'> (700, 100) (700, 1) classif_features_100_samples_1000_seed_8 spearman\n",
      "<class 'sklearn.tree._classes.DecisionTreeClassifier'> (700, 100) (700, 1) classif_features_100_samples_1000_seed_8 kendall\n",
      "<class 'sklearn.tree._classes.DecisionTreeClassifier'> (700, 100) (700, 1) classif_features_100_samples_1000_seed_8 pps\n"
     ]
    },
    {
     "data": {
      "application/vnd.jupyter.widget-view+json": {
       "model_id": "1b0b4bf456f44a5ab7b383f6c5b52fcd",
       "version_major": 2,
       "version_minor": 0
      },
      "text/plain": [
       "Importance type progress for model 1:   0%|          | 0/9 [00:00<?, ?it/s]"
      ]
     },
     "metadata": {},
     "output_type": "display_data"
    },
    {
     "name": "stdout",
     "output_type": "stream",
     "text": [
      "<class 'sklearn.ensemble._forest.RandomForestClassifier'> (700, 100) (700, 1) classif_features_100_samples_1000_seed_8 mutual_info\n",
      "<class 'sklearn.ensemble._forest.RandomForestClassifier'> (700, 100) (700, 1) classif_features_100_samples_1000_seed_8 f_test\n",
      "<class 'sklearn.ensemble._forest.RandomForestClassifier'> (700, 100) (700, 1) classif_features_100_samples_1000_seed_8 pimp\n",
      "<class 'sklearn.ensemble._forest.RandomForestClassifier'> (700, 100) (700, 1) classif_features_100_samples_1000_seed_8 shap\n",
      "<class 'sklearn.ensemble._forest.RandomForestClassifier'> (700, 100) (700, 1) classif_features_100_samples_1000_seed_8 pearson\n",
      "<class 'sklearn.ensemble._forest.RandomForestClassifier'> (700, 100) (700, 1) classif_features_100_samples_1000_seed_8 spearman\n",
      "<class 'sklearn.ensemble._forest.RandomForestClassifier'> (700, 100) (700, 1) classif_features_100_samples_1000_seed_8 kendall\n",
      "<class 'sklearn.ensemble._forest.RandomForestClassifier'> (700, 100) (700, 1) classif_features_100_samples_1000_seed_8 pps\n"
     ]
    },
    {
     "data": {
      "application/vnd.jupyter.widget-view+json": {
       "model_id": "d2e36bbd9ad9436aae63a00b860dca7f",
       "version_major": 2,
       "version_minor": 0
      },
      "text/plain": [
       "Importance type progress for model 2:   0%|          | 0/9 [00:00<?, ?it/s]"
      ]
     },
     "metadata": {},
     "output_type": "display_data"
    },
    {
     "name": "stdout",
     "output_type": "stream",
     "text": [
      "<class 'xgboost.sklearn.XGBClassifier'> (700, 100) (700, 1) classif_features_100_samples_1000_seed_8 mutual_info\n",
      "<class 'xgboost.sklearn.XGBClassifier'> (700, 100) (700, 1) classif_features_100_samples_1000_seed_8 f_test\n",
      "<class 'xgboost.sklearn.XGBClassifier'> (700, 100) (700, 1) classif_features_100_samples_1000_seed_8 pimp\n",
      "<class 'xgboost.sklearn.XGBClassifier'> (700, 100) (700, 1) classif_features_100_samples_1000_seed_8 shap\n",
      "<class 'xgboost.sklearn.XGBClassifier'> (700, 100) (700, 1) classif_features_100_samples_1000_seed_8 pearson\n",
      "<class 'xgboost.sklearn.XGBClassifier'> (700, 100) (700, 1) classif_features_100_samples_1000_seed_8 spearman\n",
      "<class 'xgboost.sklearn.XGBClassifier'> (700, 100) (700, 1) classif_features_100_samples_1000_seed_8 kendall\n",
      "<class 'xgboost.sklearn.XGBClassifier'> (700, 100) (700, 1) classif_features_100_samples_1000_seed_8 pps\n"
     ]
    },
    {
     "data": {
      "application/vnd.jupyter.widget-view+json": {
       "model_id": "df29779a278746fba1fe5994031b877a",
       "version_major": 2,
       "version_minor": 0
      },
      "text/plain": [
       "Model progress for dataset 39:   0%|          | 0/3 [00:00<?, ?it/s]"
      ]
     },
     "metadata": {},
     "output_type": "display_data"
    },
    {
     "data": {
      "application/vnd.jupyter.widget-view+json": {
       "model_id": "40af4f3f28c542e892fb6e2a6e67a0b7",
       "version_major": 2,
       "version_minor": 0
      },
      "text/plain": [
       "Importance type progress for model 0:   0%|          | 0/9 [00:00<?, ?it/s]"
      ]
     },
     "metadata": {},
     "output_type": "display_data"
    },
    {
     "name": "stdout",
     "output_type": "stream",
     "text": [
      "<class 'sklearn.tree._classes.DecisionTreeClassifier'> (700, 100) (700, 1) classif_features_100_samples_1000_seed_9 mutual_info\n",
      "<class 'sklearn.tree._classes.DecisionTreeClassifier'> (700, 100) (700, 1) classif_features_100_samples_1000_seed_9 f_test\n",
      "<class 'sklearn.tree._classes.DecisionTreeClassifier'> (700, 100) (700, 1) classif_features_100_samples_1000_seed_9 pimp\n",
      "<class 'sklearn.tree._classes.DecisionTreeClassifier'> (700, 100) (700, 1) classif_features_100_samples_1000_seed_9 shap\n",
      "<class 'sklearn.tree._classes.DecisionTreeClassifier'> (700, 100) (700, 1) classif_features_100_samples_1000_seed_9 pearson\n",
      "<class 'sklearn.tree._classes.DecisionTreeClassifier'> (700, 100) (700, 1) classif_features_100_samples_1000_seed_9 spearman\n",
      "<class 'sklearn.tree._classes.DecisionTreeClassifier'> (700, 100) (700, 1) classif_features_100_samples_1000_seed_9 kendall\n",
      "<class 'sklearn.tree._classes.DecisionTreeClassifier'> (700, 100) (700, 1) classif_features_100_samples_1000_seed_9 pps\n"
     ]
    },
    {
     "data": {
      "application/vnd.jupyter.widget-view+json": {
       "model_id": "e6bbd9a0b92143858ee97e9f3eb2fd57",
       "version_major": 2,
       "version_minor": 0
      },
      "text/plain": [
       "Importance type progress for model 1:   0%|          | 0/9 [00:00<?, ?it/s]"
      ]
     },
     "metadata": {},
     "output_type": "display_data"
    },
    {
     "name": "stdout",
     "output_type": "stream",
     "text": [
      "<class 'sklearn.ensemble._forest.RandomForestClassifier'> (700, 100) (700, 1) classif_features_100_samples_1000_seed_9 mutual_info\n",
      "<class 'sklearn.ensemble._forest.RandomForestClassifier'> (700, 100) (700, 1) classif_features_100_samples_1000_seed_9 f_test\n",
      "<class 'sklearn.ensemble._forest.RandomForestClassifier'> (700, 100) (700, 1) classif_features_100_samples_1000_seed_9 pimp\n",
      "<class 'sklearn.ensemble._forest.RandomForestClassifier'> (700, 100) (700, 1) classif_features_100_samples_1000_seed_9 shap\n",
      "<class 'sklearn.ensemble._forest.RandomForestClassifier'> (700, 100) (700, 1) classif_features_100_samples_1000_seed_9 pearson\n",
      "<class 'sklearn.ensemble._forest.RandomForestClassifier'> (700, 100) (700, 1) classif_features_100_samples_1000_seed_9 spearman\n",
      "<class 'sklearn.ensemble._forest.RandomForestClassifier'> (700, 100) (700, 1) classif_features_100_samples_1000_seed_9 kendall\n",
      "<class 'sklearn.ensemble._forest.RandomForestClassifier'> (700, 100) (700, 1) classif_features_100_samples_1000_seed_9 pps\n"
     ]
    },
    {
     "data": {
      "application/vnd.jupyter.widget-view+json": {
       "model_id": "60eb66d1b1cb4c7e849b6332ec1f5603",
       "version_major": 2,
       "version_minor": 0
      },
      "text/plain": [
       "Importance type progress for model 2:   0%|          | 0/9 [00:00<?, ?it/s]"
      ]
     },
     "metadata": {},
     "output_type": "display_data"
    },
    {
     "name": "stdout",
     "output_type": "stream",
     "text": [
      "<class 'xgboost.sklearn.XGBClassifier'> (700, 100) (700, 1) classif_features_100_samples_1000_seed_9 mutual_info\n",
      "<class 'xgboost.sklearn.XGBClassifier'> (700, 100) (700, 1) classif_features_100_samples_1000_seed_9 f_test\n",
      "<class 'xgboost.sklearn.XGBClassifier'> (700, 100) (700, 1) classif_features_100_samples_1000_seed_9 pimp\n",
      "<class 'xgboost.sklearn.XGBClassifier'> (700, 100) (700, 1) classif_features_100_samples_1000_seed_9 shap\n",
      "<class 'xgboost.sklearn.XGBClassifier'> (700, 100) (700, 1) classif_features_100_samples_1000_seed_9 pearson\n",
      "<class 'xgboost.sklearn.XGBClassifier'> (700, 100) (700, 1) classif_features_100_samples_1000_seed_9 spearman\n",
      "<class 'xgboost.sklearn.XGBClassifier'> (700, 100) (700, 1) classif_features_100_samples_1000_seed_9 kendall\n",
      "<class 'xgboost.sklearn.XGBClassifier'> (700, 100) (700, 1) classif_features_100_samples_1000_seed_9 pps\n"
     ]
    }
   ],
   "source": [
    "df_res = get_stats(imp_types, models, datasets, debug=True, \n",
    "                   random_states = random_states, dataset_states = dataset_states\n",
    "                  )"
   ]
  },
  {
   "cell_type": "code",
   "execution_count": 239,
   "metadata": {},
   "outputs": [
    {
     "data": {
      "text/html": [
       "<div>\n",
       "<style scoped>\n",
       "    .dataframe tbody tr th:only-of-type {\n",
       "        vertical-align: middle;\n",
       "    }\n",
       "\n",
       "    .dataframe tbody tr th {\n",
       "        vertical-align: top;\n",
       "    }\n",
       "\n",
       "    .dataframe thead th {\n",
       "        text-align: right;\n",
       "    }\n",
       "</style>\n",
       "<table border=\"1\" class=\"dataframe\">\n",
       "  <thead>\n",
       "    <tr style=\"text-align: right;\">\n",
       "      <th></th>\n",
       "      <th>iteration</th>\n",
       "      <th>dropped_feature</th>\n",
       "      <th>feat_ind</th>\n",
       "      <th>feat_name</th>\n",
       "      <th>mcc_train</th>\n",
       "      <th>mcc_test</th>\n",
       "      <th>model</th>\n",
       "      <th>imp_type</th>\n",
       "      <th>dataset</th>\n",
       "      <th>features_lst</th>\n",
       "      <th>random_state</th>\n",
       "      <th>data_split</th>\n",
       "    </tr>\n",
       "  </thead>\n",
       "  <tbody>\n",
       "    <tr>\n",
       "      <th>0</th>\n",
       "      <td>0</td>\n",
       "      <td>full_set</td>\n",
       "      <td>0</td>\n",
       "      <td>x_0</td>\n",
       "      <td>1.000000</td>\n",
       "      <td>0.935414</td>\n",
       "      <td>DecisionTreeClassifier</td>\n",
       "      <td>gini</td>\n",
       "      <td>classif_features_10_samples_100_seed_0</td>\n",
       "      <td>Index(['x_0', 'x_1', 'x_2', 'x_3', 'x_4', 'x_5...</td>\n",
       "      <td>0</td>\n",
       "      <td>0</td>\n",
       "    </tr>\n",
       "    <tr>\n",
       "      <th>1</th>\n",
       "      <td>1</td>\n",
       "      <td>x_0</td>\n",
       "      <td>3</td>\n",
       "      <td>x_3</td>\n",
       "      <td>1.000000</td>\n",
       "      <td>0.866071</td>\n",
       "      <td>DecisionTreeClassifier</td>\n",
       "      <td>gini</td>\n",
       "      <td>classif_features_10_samples_100_seed_0</td>\n",
       "      <td>Index(['x_1', 'x_2', 'x_3', 'x_4', 'x_5', 'x_6...</td>\n",
       "      <td>0</td>\n",
       "      <td>0</td>\n",
       "    </tr>\n",
       "    <tr>\n",
       "      <th>2</th>\n",
       "      <td>2</td>\n",
       "      <td>x_3</td>\n",
       "      <td>4</td>\n",
       "      <td>x_4</td>\n",
       "      <td>1.000000</td>\n",
       "      <td>0.866071</td>\n",
       "      <td>DecisionTreeClassifier</td>\n",
       "      <td>gini</td>\n",
       "      <td>classif_features_10_samples_100_seed_0</td>\n",
       "      <td>Index(['x_1', 'x_2', 'x_4', 'x_5', 'x_6', 'x_7...</td>\n",
       "      <td>0</td>\n",
       "      <td>0</td>\n",
       "    </tr>\n",
       "    <tr>\n",
       "      <th>3</th>\n",
       "      <td>3</td>\n",
       "      <td>x_4</td>\n",
       "      <td>5</td>\n",
       "      <td>x_5</td>\n",
       "      <td>1.000000</td>\n",
       "      <td>0.866071</td>\n",
       "      <td>DecisionTreeClassifier</td>\n",
       "      <td>gini</td>\n",
       "      <td>classif_features_10_samples_100_seed_0</td>\n",
       "      <td>Index(['x_1', 'x_2', 'x_5', 'x_6', 'x_7', 'x_8...</td>\n",
       "      <td>0</td>\n",
       "      <td>0</td>\n",
       "    </tr>\n",
       "    <tr>\n",
       "      <th>4</th>\n",
       "      <td>4</td>\n",
       "      <td>x_5</td>\n",
       "      <td>6</td>\n",
       "      <td>x_6</td>\n",
       "      <td>1.000000</td>\n",
       "      <td>0.866071</td>\n",
       "      <td>DecisionTreeClassifier</td>\n",
       "      <td>gini</td>\n",
       "      <td>classif_features_10_samples_100_seed_0</td>\n",
       "      <td>Index(['x_1', 'x_2', 'x_6', 'x_7', 'x_8', 'x_9...</td>\n",
       "      <td>0</td>\n",
       "      <td>0</td>\n",
       "    </tr>\n",
       "    <tr>\n",
       "      <th>...</th>\n",
       "      <td>...</td>\n",
       "      <td>...</td>\n",
       "      <td>...</td>\n",
       "      <td>...</td>\n",
       "      <td>...</td>\n",
       "      <td>...</td>\n",
       "      <td>...</td>\n",
       "      <td>...</td>\n",
       "      <td>...</td>\n",
       "      <td>...</td>\n",
       "      <td>...</td>\n",
       "      <td>...</td>\n",
       "    </tr>\n",
       "    <tr>\n",
       "      <th>5935</th>\n",
       "      <td>95</td>\n",
       "      <td>x_32</td>\n",
       "      <td>95</td>\n",
       "      <td>x_95</td>\n",
       "      <td>1.000000</td>\n",
       "      <td>0.053333</td>\n",
       "      <td>XGBClassifier</td>\n",
       "      <td>pps</td>\n",
       "      <td>classif_features_100_samples_1000_seed_0</td>\n",
       "      <td>Index(['x_27', 'x_38', 'x_73', 'x_86', 'x_95']...</td>\n",
       "      <td>0</td>\n",
       "      <td>0</td>\n",
       "    </tr>\n",
       "    <tr>\n",
       "      <th>5936</th>\n",
       "      <td>96</td>\n",
       "      <td>x_95</td>\n",
       "      <td>27</td>\n",
       "      <td>x_27</td>\n",
       "      <td>1.000000</td>\n",
       "      <td>0.066667</td>\n",
       "      <td>XGBClassifier</td>\n",
       "      <td>pps</td>\n",
       "      <td>classif_features_100_samples_1000_seed_0</td>\n",
       "      <td>Index(['x_27', 'x_38', 'x_73', 'x_86'], dtype=...</td>\n",
       "      <td>0</td>\n",
       "      <td>0</td>\n",
       "    </tr>\n",
       "    <tr>\n",
       "      <th>5937</th>\n",
       "      <td>97</td>\n",
       "      <td>x_27</td>\n",
       "      <td>86</td>\n",
       "      <td>x_86</td>\n",
       "      <td>1.000000</td>\n",
       "      <td>-0.067049</td>\n",
       "      <td>XGBClassifier</td>\n",
       "      <td>pps</td>\n",
       "      <td>classif_features_100_samples_1000_seed_0</td>\n",
       "      <td>Index(['x_38', 'x_73', 'x_86'], dtype='object')</td>\n",
       "      <td>0</td>\n",
       "      <td>0</td>\n",
       "    </tr>\n",
       "    <tr>\n",
       "      <th>5938</th>\n",
       "      <td>98</td>\n",
       "      <td>x_86</td>\n",
       "      <td>38</td>\n",
       "      <td>x_38</td>\n",
       "      <td>0.954302</td>\n",
       "      <td>0.020004</td>\n",
       "      <td>XGBClassifier</td>\n",
       "      <td>pps</td>\n",
       "      <td>classif_features_100_samples_1000_seed_0</td>\n",
       "      <td>Index(['x_38', 'x_73'], dtype='object')</td>\n",
       "      <td>0</td>\n",
       "      <td>0</td>\n",
       "    </tr>\n",
       "    <tr>\n",
       "      <th>5939</th>\n",
       "      <td>99</td>\n",
       "      <td>x_38</td>\n",
       "      <td>73</td>\n",
       "      <td>x_73</td>\n",
       "      <td>0.604086</td>\n",
       "      <td>0.053722</td>\n",
       "      <td>XGBClassifier</td>\n",
       "      <td>pps</td>\n",
       "      <td>classif_features_100_samples_1000_seed_0</td>\n",
       "      <td>Index(['x_73'], dtype='object')</td>\n",
       "      <td>0</td>\n",
       "      <td>0</td>\n",
       "    </tr>\n",
       "  </tbody>\n",
       "</table>\n",
       "<p>5940 rows × 12 columns</p>\n",
       "</div>"
      ],
      "text/plain": [
       "      iteration dropped_feature  feat_ind feat_name  mcc_train  mcc_test  \\\n",
       "0             0        full_set         0       x_0   1.000000  0.935414   \n",
       "1             1             x_0         3       x_3   1.000000  0.866071   \n",
       "2             2             x_3         4       x_4   1.000000  0.866071   \n",
       "3             3             x_4         5       x_5   1.000000  0.866071   \n",
       "4             4             x_5         6       x_6   1.000000  0.866071   \n",
       "...         ...             ...       ...       ...        ...       ...   \n",
       "5935         95            x_32        95      x_95   1.000000  0.053333   \n",
       "5936         96            x_95        27      x_27   1.000000  0.066667   \n",
       "5937         97            x_27        86      x_86   1.000000 -0.067049   \n",
       "5938         98            x_86        38      x_38   0.954302  0.020004   \n",
       "5939         99            x_38        73      x_73   0.604086  0.053722   \n",
       "\n",
       "                       model imp_type  \\\n",
       "0     DecisionTreeClassifier     gini   \n",
       "1     DecisionTreeClassifier     gini   \n",
       "2     DecisionTreeClassifier     gini   \n",
       "3     DecisionTreeClassifier     gini   \n",
       "4     DecisionTreeClassifier     gini   \n",
       "...                      ...      ...   \n",
       "5935           XGBClassifier      pps   \n",
       "5936           XGBClassifier      pps   \n",
       "5937           XGBClassifier      pps   \n",
       "5938           XGBClassifier      pps   \n",
       "5939           XGBClassifier      pps   \n",
       "\n",
       "                                       dataset  \\\n",
       "0       classif_features_10_samples_100_seed_0   \n",
       "1       classif_features_10_samples_100_seed_0   \n",
       "2       classif_features_10_samples_100_seed_0   \n",
       "3       classif_features_10_samples_100_seed_0   \n",
       "4       classif_features_10_samples_100_seed_0   \n",
       "...                                        ...   \n",
       "5935  classif_features_100_samples_1000_seed_0   \n",
       "5936  classif_features_100_samples_1000_seed_0   \n",
       "5937  classif_features_100_samples_1000_seed_0   \n",
       "5938  classif_features_100_samples_1000_seed_0   \n",
       "5939  classif_features_100_samples_1000_seed_0   \n",
       "\n",
       "                                           features_lst  random_state  \\\n",
       "0     Index(['x_0', 'x_1', 'x_2', 'x_3', 'x_4', 'x_5...             0   \n",
       "1     Index(['x_1', 'x_2', 'x_3', 'x_4', 'x_5', 'x_6...             0   \n",
       "2     Index(['x_1', 'x_2', 'x_4', 'x_5', 'x_6', 'x_7...             0   \n",
       "3     Index(['x_1', 'x_2', 'x_5', 'x_6', 'x_7', 'x_8...             0   \n",
       "4     Index(['x_1', 'x_2', 'x_6', 'x_7', 'x_8', 'x_9...             0   \n",
       "...                                                 ...           ...   \n",
       "5935  Index(['x_27', 'x_38', 'x_73', 'x_86', 'x_95']...             0   \n",
       "5936  Index(['x_27', 'x_38', 'x_73', 'x_86'], dtype=...             0   \n",
       "5937    Index(['x_38', 'x_73', 'x_86'], dtype='object')             0   \n",
       "5938            Index(['x_38', 'x_73'], dtype='object')             0   \n",
       "5939                    Index(['x_73'], dtype='object')             0   \n",
       "\n",
       "      data_split  \n",
       "0              0  \n",
       "1              0  \n",
       "2              0  \n",
       "3              0  \n",
       "4              0  \n",
       "...          ...  \n",
       "5935           0  \n",
       "5936           0  \n",
       "5937           0  \n",
       "5938           0  \n",
       "5939           0  \n",
       "\n",
       "[5940 rows x 12 columns]"
      ]
     },
     "execution_count": 239,
     "metadata": {},
     "output_type": "execute_result"
    }
   ],
   "source": [
    "df_res"
   ]
  },
  {
   "cell_type": "code",
   "execution_count": 252,
   "metadata": {},
   "outputs": [
    {
     "data": {
      "text/html": [
       "<div>\n",
       "<style scoped>\n",
       "    .dataframe tbody tr th:only-of-type {\n",
       "        vertical-align: middle;\n",
       "    }\n",
       "\n",
       "    .dataframe tbody tr th {\n",
       "        vertical-align: top;\n",
       "    }\n",
       "\n",
       "    .dataframe thead th {\n",
       "        text-align: right;\n",
       "    }\n",
       "</style>\n",
       "<table border=\"1\" class=\"dataframe\">\n",
       "  <thead>\n",
       "    <tr style=\"text-align: right;\">\n",
       "      <th></th>\n",
       "      <th>iteration</th>\n",
       "      <th>dropped_feature</th>\n",
       "      <th>feat_ind</th>\n",
       "      <th>feat_name</th>\n",
       "      <th>mcc_train</th>\n",
       "      <th>mcc_test</th>\n",
       "      <th>model</th>\n",
       "      <th>imp_type</th>\n",
       "      <th>dataset</th>\n",
       "      <th>features_lst</th>\n",
       "      <th>random_state</th>\n",
       "      <th>data_split</th>\n",
       "    </tr>\n",
       "  </thead>\n",
       "  <tbody>\n",
       "    <tr>\n",
       "      <th>0</th>\n",
       "      <td>0</td>\n",
       "      <td>full_set</td>\n",
       "      <td>0</td>\n",
       "      <td>x_0</td>\n",
       "      <td>1.000000</td>\n",
       "      <td>0.935414</td>\n",
       "      <td>DecisionTreeClassifier</td>\n",
       "      <td>gini</td>\n",
       "      <td>classif_features_10_samples_100_seed_0</td>\n",
       "      <td>Index(['x_0', 'x_1', 'x_2', 'x_3', 'x_4', 'x_5...</td>\n",
       "      <td>0</td>\n",
       "      <td>0</td>\n",
       "    </tr>\n",
       "    <tr>\n",
       "      <th>1</th>\n",
       "      <td>1</td>\n",
       "      <td>x_0</td>\n",
       "      <td>3</td>\n",
       "      <td>x_3</td>\n",
       "      <td>1.000000</td>\n",
       "      <td>0.866071</td>\n",
       "      <td>DecisionTreeClassifier</td>\n",
       "      <td>gini</td>\n",
       "      <td>classif_features_10_samples_100_seed_0</td>\n",
       "      <td>Index(['x_1', 'x_2', 'x_3', 'x_4', 'x_5', 'x_6...</td>\n",
       "      <td>0</td>\n",
       "      <td>0</td>\n",
       "    </tr>\n",
       "    <tr>\n",
       "      <th>2</th>\n",
       "      <td>2</td>\n",
       "      <td>x_3</td>\n",
       "      <td>4</td>\n",
       "      <td>x_4</td>\n",
       "      <td>1.000000</td>\n",
       "      <td>0.866071</td>\n",
       "      <td>DecisionTreeClassifier</td>\n",
       "      <td>gini</td>\n",
       "      <td>classif_features_10_samples_100_seed_0</td>\n",
       "      <td>Index(['x_1', 'x_2', 'x_4', 'x_5', 'x_6', 'x_7...</td>\n",
       "      <td>0</td>\n",
       "      <td>0</td>\n",
       "    </tr>\n",
       "    <tr>\n",
       "      <th>3</th>\n",
       "      <td>3</td>\n",
       "      <td>x_4</td>\n",
       "      <td>5</td>\n",
       "      <td>x_5</td>\n",
       "      <td>1.000000</td>\n",
       "      <td>0.866071</td>\n",
       "      <td>DecisionTreeClassifier</td>\n",
       "      <td>gini</td>\n",
       "      <td>classif_features_10_samples_100_seed_0</td>\n",
       "      <td>Index(['x_1', 'x_2', 'x_5', 'x_6', 'x_7', 'x_8...</td>\n",
       "      <td>0</td>\n",
       "      <td>0</td>\n",
       "    </tr>\n",
       "    <tr>\n",
       "      <th>4</th>\n",
       "      <td>4</td>\n",
       "      <td>x_5</td>\n",
       "      <td>6</td>\n",
       "      <td>x_6</td>\n",
       "      <td>1.000000</td>\n",
       "      <td>0.866071</td>\n",
       "      <td>DecisionTreeClassifier</td>\n",
       "      <td>gini</td>\n",
       "      <td>classif_features_10_samples_100_seed_0</td>\n",
       "      <td>Index(['x_1', 'x_2', 'x_6', 'x_7', 'x_8', 'x_9...</td>\n",
       "      <td>0</td>\n",
       "      <td>0</td>\n",
       "    </tr>\n",
       "    <tr>\n",
       "      <th>...</th>\n",
       "      <td>...</td>\n",
       "      <td>...</td>\n",
       "      <td>...</td>\n",
       "      <td>...</td>\n",
       "      <td>...</td>\n",
       "      <td>...</td>\n",
       "      <td>...</td>\n",
       "      <td>...</td>\n",
       "      <td>...</td>\n",
       "      <td>...</td>\n",
       "      <td>...</td>\n",
       "      <td>...</td>\n",
       "    </tr>\n",
       "    <tr>\n",
       "      <th>59395</th>\n",
       "      <td>95</td>\n",
       "      <td>x_7</td>\n",
       "      <td>9</td>\n",
       "      <td>x_9</td>\n",
       "      <td>1.000000</td>\n",
       "      <td>-0.006670</td>\n",
       "      <td>XGBClassifier</td>\n",
       "      <td>pps</td>\n",
       "      <td>classif_features_100_samples_1000_seed_9</td>\n",
       "      <td>Index(['x_9', 'x_30', 'x_50', 'x_65', 'x_79'],...</td>\n",
       "      <td>0</td>\n",
       "      <td>0</td>\n",
       "    </tr>\n",
       "    <tr>\n",
       "      <th>59396</th>\n",
       "      <td>96</td>\n",
       "      <td>x_9</td>\n",
       "      <td>79</td>\n",
       "      <td>x_79</td>\n",
       "      <td>1.000000</td>\n",
       "      <td>0.000000</td>\n",
       "      <td>XGBClassifier</td>\n",
       "      <td>pps</td>\n",
       "      <td>classif_features_100_samples_1000_seed_9</td>\n",
       "      <td>Index(['x_30', 'x_50', 'x_65', 'x_79'], dtype=...</td>\n",
       "      <td>0</td>\n",
       "      <td>0</td>\n",
       "    </tr>\n",
       "    <tr>\n",
       "      <th>59397</th>\n",
       "      <td>97</td>\n",
       "      <td>x_79</td>\n",
       "      <td>65</td>\n",
       "      <td>x_65</td>\n",
       "      <td>0.991432</td>\n",
       "      <td>-0.060012</td>\n",
       "      <td>XGBClassifier</td>\n",
       "      <td>pps</td>\n",
       "      <td>classif_features_100_samples_1000_seed_9</td>\n",
       "      <td>Index(['x_30', 'x_50', 'x_65'], dtype='object')</td>\n",
       "      <td>0</td>\n",
       "      <td>0</td>\n",
       "    </tr>\n",
       "    <tr>\n",
       "      <th>59398</th>\n",
       "      <td>98</td>\n",
       "      <td>x_65</td>\n",
       "      <td>30</td>\n",
       "      <td>x_30</td>\n",
       "      <td>0.965776</td>\n",
       "      <td>-0.113457</td>\n",
       "      <td>XGBClassifier</td>\n",
       "      <td>pps</td>\n",
       "      <td>classif_features_100_samples_1000_seed_9</td>\n",
       "      <td>Index(['x_30', 'x_50'], dtype='object')</td>\n",
       "      <td>0</td>\n",
       "      <td>0</td>\n",
       "    </tr>\n",
       "    <tr>\n",
       "      <th>59399</th>\n",
       "      <td>99</td>\n",
       "      <td>x_30</td>\n",
       "      <td>50</td>\n",
       "      <td>x_50</td>\n",
       "      <td>0.594282</td>\n",
       "      <td>-0.066720</td>\n",
       "      <td>XGBClassifier</td>\n",
       "      <td>pps</td>\n",
       "      <td>classif_features_100_samples_1000_seed_9</td>\n",
       "      <td>Index(['x_50'], dtype='object')</td>\n",
       "      <td>0</td>\n",
       "      <td>0</td>\n",
       "    </tr>\n",
       "  </tbody>\n",
       "</table>\n",
       "<p>59400 rows × 12 columns</p>\n",
       "</div>"
      ],
      "text/plain": [
       "       iteration dropped_feature  feat_ind feat_name  mcc_train  mcc_test  \\\n",
       "0              0        full_set         0       x_0   1.000000  0.935414   \n",
       "1              1             x_0         3       x_3   1.000000  0.866071   \n",
       "2              2             x_3         4       x_4   1.000000  0.866071   \n",
       "3              3             x_4         5       x_5   1.000000  0.866071   \n",
       "4              4             x_5         6       x_6   1.000000  0.866071   \n",
       "...          ...             ...       ...       ...        ...       ...   \n",
       "59395         95             x_7         9       x_9   1.000000 -0.006670   \n",
       "59396         96             x_9        79      x_79   1.000000  0.000000   \n",
       "59397         97            x_79        65      x_65   0.991432 -0.060012   \n",
       "59398         98            x_65        30      x_30   0.965776 -0.113457   \n",
       "59399         99            x_30        50      x_50   0.594282 -0.066720   \n",
       "\n",
       "                        model imp_type  \\\n",
       "0      DecisionTreeClassifier     gini   \n",
       "1      DecisionTreeClassifier     gini   \n",
       "2      DecisionTreeClassifier     gini   \n",
       "3      DecisionTreeClassifier     gini   \n",
       "4      DecisionTreeClassifier     gini   \n",
       "...                       ...      ...   \n",
       "59395           XGBClassifier      pps   \n",
       "59396           XGBClassifier      pps   \n",
       "59397           XGBClassifier      pps   \n",
       "59398           XGBClassifier      pps   \n",
       "59399           XGBClassifier      pps   \n",
       "\n",
       "                                        dataset  \\\n",
       "0        classif_features_10_samples_100_seed_0   \n",
       "1        classif_features_10_samples_100_seed_0   \n",
       "2        classif_features_10_samples_100_seed_0   \n",
       "3        classif_features_10_samples_100_seed_0   \n",
       "4        classif_features_10_samples_100_seed_0   \n",
       "...                                         ...   \n",
       "59395  classif_features_100_samples_1000_seed_9   \n",
       "59396  classif_features_100_samples_1000_seed_9   \n",
       "59397  classif_features_100_samples_1000_seed_9   \n",
       "59398  classif_features_100_samples_1000_seed_9   \n",
       "59399  classif_features_100_samples_1000_seed_9   \n",
       "\n",
       "                                            features_lst  random_state  \\\n",
       "0      Index(['x_0', 'x_1', 'x_2', 'x_3', 'x_4', 'x_5...             0   \n",
       "1      Index(['x_1', 'x_2', 'x_3', 'x_4', 'x_5', 'x_6...             0   \n",
       "2      Index(['x_1', 'x_2', 'x_4', 'x_5', 'x_6', 'x_7...             0   \n",
       "3      Index(['x_1', 'x_2', 'x_5', 'x_6', 'x_7', 'x_8...             0   \n",
       "4      Index(['x_1', 'x_2', 'x_6', 'x_7', 'x_8', 'x_9...             0   \n",
       "...                                                  ...           ...   \n",
       "59395  Index(['x_9', 'x_30', 'x_50', 'x_65', 'x_79'],...             0   \n",
       "59396  Index(['x_30', 'x_50', 'x_65', 'x_79'], dtype=...             0   \n",
       "59397    Index(['x_30', 'x_50', 'x_65'], dtype='object')             0   \n",
       "59398            Index(['x_30', 'x_50'], dtype='object')             0   \n",
       "59399                    Index(['x_50'], dtype='object')             0   \n",
       "\n",
       "       data_split  \n",
       "0               0  \n",
       "1               0  \n",
       "2               0  \n",
       "3               0  \n",
       "4               0  \n",
       "...           ...  \n",
       "59395           0  \n",
       "59396           0  \n",
       "59397           0  \n",
       "59398           0  \n",
       "59399           0  \n",
       "\n",
       "[59400 rows x 12 columns]"
      ]
     },
     "execution_count": 252,
     "metadata": {},
     "output_type": "execute_result"
    }
   ],
   "source": [
    "df_res"
   ]
  },
  {
   "cell_type": "code",
   "execution_count": 255,
   "metadata": {},
   "outputs": [
    {
     "data": {
      "image/png": "[encoded data removed]",
      "text/plain": [
       "<Figure size 432x288 with 1 Axes>"
      ]
     },
     "metadata": {
      "needs_background": "light"
     },
     "output_type": "display_data"
    }
   ],
   "source": [
    "import seaborn as sns\n",
    "\n",
    "plot = sns.lineplot(x='iteration', y='mcc_test', hue='imp_type',\n",
    "            data=df_res.query('''model == \"RandomForestClassifier\"''')\n",
    "            )"
   ]
  },
  {
   "cell_type": "code",
   "execution_count": 14,
   "metadata": {},
   "outputs": [],
   "source": [
    "# import seaborn as sns\n",
    "\n",
    "# plot = sns.lineplot(x='iteration', y='mse_test', hue='imp_type',\n",
    "#             data=df_res.query('dataset == \"wine\" and model == \"RandomForestClassifier\"')\n",
    "#             )"
   ]
  },
  {
   "cell_type": "code",
   "execution_count": 250,
   "metadata": {},
   "outputs": [],
   "source": [
    "# export results to local dir as csv file\n",
    "df_res.to_csv(f'classification_synthethic_data_{datetime.today().strftime(\"%Y-%b-%d-%H:%M:%S\")}.csv',\n",
    "             index=False)"
   ]
  }
 ],
 "metadata": {
  "kernelspec": {
   "display_name": "Python 3",
   "language": "python",
   "name": "python3"
  },
  "language_info": {
   "codemirror_mode": {
    "name": "ipython",
    "version": 3
   },
   "file_extension": ".py",
   "mimetype": "text/x-python",
   "name": "python",
   "nbconvert_exporter": "python",
   "pygments_lexer": "ipython3",
   "version": "3.8.10"
  }
 },
 "nbformat": 4,
 "nbformat_minor": 4
}
