{
 "cells": [
  {
   "cell_type": "code",
   "execution_count": 1,
   "metadata": {},
   "outputs": [],
   "source": [
    "# # for colab compatibility\n",
    "# !pip install shap\n",
    "# !pip install ppscore\n",
    "# !pip install xgboost\n",
    "# !pip install lightgbm"
   ]
  },
  {
   "cell_type": "code",
   "execution_count": 2,
   "metadata": {},
   "outputs": [],
   "source": [
    "# %run data_load_wrapper.ipynb"
   ]
  },
  {
   "cell_type": "code",
   "execution_count": 51,
   "metadata": {},
   "outputs": [],
   "source": [
    "from tqdm.notebook import trange\n",
    "import sklearn.datasets as data\n",
    "import pandas as pd\n",
    "from sklearn.inspection import permutation_importance\n",
    "from sklearn import *\n",
    "from sklearn.feature_selection import *\n",
    "from sklearn.datasets import make_classification\n",
    "from sklearn.utils import Bunch\n",
    "import matplotlib as plt\n",
    "import seaborn as sns\n",
    "from boruta import BorutaPy\n",
    "import shap\n",
    "import numpy as np\n",
    "import ppscore as pps\n",
    "from datetime import datetime\n",
    "import lightgbm as lgbm\n",
    "import xgboost"
   ]
  },
  {
   "cell_type": "code",
   "execution_count": 72,
   "metadata": {},
   "outputs": [],
   "source": [
    "from heapq import nlargest\n",
    "\n",
    "def sklearn_to_df(dataset, with_target=True):\n",
    "    df = pd.DataFrame(dataset.data, columns=dataset.feature_names)\n",
    "    y = dataset.target\n",
    "    if with_target == True:\n",
    "        df = df.join(pd.DataFrame(y, columns=['target']), on=df.index)\n",
    "        return df \n",
    "    else:\n",
    "        return df, y\n",
    "\n",
    "def get_feat_imp_data_based(imp_type, x_train, y_train):\n",
    "    imp_type_dict = {\n",
    "        'mutual_info' : 'mutual_info_classif(x_train, y_train)',\n",
    "        'f_test' : 'f_classif(x_train, y_train)[0]',       \n",
    "        'pps' : \"pps.predictors(x_train.join(y_train), 'target', sorted=False, output='df').model_score\",\n",
    "        'pearson' : \"abs(x_train.join(y_train).corr(method='pearson').target).drop('target', axis=0)\",\n",
    "        'spearman': \"abs(x_train.join(y_train).corr(method='spearman').target).drop('target', axis=0)\",\n",
    "        'kendall' : \"abs(x_train.join(y_train).corr(method='kendall').target).drop('target', axis=0)\",\n",
    "    \n",
    "    }\n",
    "    timings = %timeit -o -n1 -r10 eval(imp_type_dict.get(imp_type))\n",
    "    timings = np.array(timings.timings)\n",
    "    return eval(imp_type_dict.get(imp_type)), timings\n",
    "\n",
    "def get_feat_imp_model_based(imp_type, m, x_train, y_train):\n",
    "    imp_type_dict = {\n",
    "        'gini' : \"m.feature_importances_\",\n",
    "        'pimp' : f\"\"\"permutation_importance(m, x_train, y_train, n_repeats=5, \n",
    "        random_state=0).importances_mean\"\"\",\n",
    "        'shap' : \"abs(np.array(shap.TreeExplainer(m).shap_values(x_train))).sum(axis=0)\"\n",
    "    }\n",
    "    timings = %timeit -o -n1 -r10 eval(imp_type_dict.get(imp_type))\n",
    "    timings = np.array(timings.timings)\n",
    "    return eval(imp_type_dict.get(imp_type)), timings\n",
    "\n",
    "def get_syn_stats_data_based(imp_types, datasets, dataset_states, \n",
    "                             informative_pct):\n",
    "    results = []\n",
    "    datasets_str = list(datasets.keys())\n",
    "    for j in trange(len(datasets_str), desc=f'Dataset progress'):\n",
    "        for i in trange(len(dataset_states), desc=f'Processing {datasets_str[j]}'):\n",
    "            for k in trange(len(imp_types)):\n",
    "                imp_type = imp_types[k] \n",
    "                dataset_state = dataset_states[i]\n",
    "                dataset_str = datasets_str[j]\n",
    "                dataset = datasets.get(datasets_str[j])\n",
    "                df = sklearn_to_df(dataset)\n",
    "                x_train, x_test, y_train, y_test = model_selection.train_test_split(df,\n",
    "                                                                   dataset.target, \n",
    "                                                                   test_size=0.3, \n",
    "                                                                   random_state=dataset_state,\n",
    "                                                                   stratify=df.target\n",
    "                                                                  )\n",
    "                y_train = x_train.target\n",
    "                x_train = x_train.drop('target', axis=1)\n",
    "                feat_size = len(x_train.columns)\n",
    "                sel_feat_size = int(feat_size * informative_pct)\n",
    "                fi, timings = get_feat_imp_data_based(imp_type, x_train, y_train)\n",
    "                fi_order = nlargest(feat_size, range(len(fi)), key=lambda idx: fi[idx])\n",
    "                fi_selected = fi_order[:sel_feat_size]\n",
    "                result = [dataset_str, imp_type, 0, dataset_state, fi_order, fi_selected, timings]\n",
    "#                 print(result)\n",
    "                results.append(result)\n",
    "#                 print(results)\n",
    "        columns = ['dataset', 'imp_type', 'random_state', 'data_split', \n",
    "                       'fi_order', 'fi_selected', 'timings']\n",
    "        res = pd.DataFrame(results, columns=columns)\n",
    "    return res\n",
    "        \n",
    "def get_syn_stats_model_based(imp_types, datasets, \n",
    "                              dataset_states, informative_pct):\n",
    "    results = []\n",
    "    datasets_str = list(datasets.keys())\n",
    "    for j in trange(len(datasets_str), desc=f'Dataset progress'):\n",
    "        for i in trange(len(dataset_states), desc=f'Processing {datasets_str[j]}'):\n",
    "            for k in trange(len(imp_types)):\n",
    "                imp_type = imp_types[k] \n",
    "                dataset_state = dataset_states[i]\n",
    "                dataset_str = datasets_str[j]\n",
    "                dataset = datasets.get(datasets_str[j])\n",
    "                df = sklearn_to_df(dataset, with_target=True)\n",
    "                x_train, x_test, y_train, y_test = model_selection.train_test_split(df,\n",
    "                                                                   dataset.target, \n",
    "                                                                   test_size=0.3, \n",
    "                                                                   random_state=dataset_state,\n",
    "                                                                   stratify=df.target\n",
    "                                                                  )\n",
    "                y_train = x_train.target\n",
    "                x_train = x_train.drop('target', axis=1)\n",
    "                feat_size = len(x_train.columns)\n",
    "                sel_feat_size = int(feat_size * informative_pct)\n",
    "                m = ensemble.RandomForestClassifier(random_state=0, n_jobs=-1)\n",
    "                m.fit(x_train, y_train)\n",
    "                fi, timings = get_feat_imp_model_based(imp_type, m, x_train, y_train)\n",
    "                fi_order = nlargest(feat_size, range(len(fi)), key=lambda idx: fi[idx])\n",
    "                fi_selected = fi_order[:sel_feat_size]\n",
    "                result = [dataset_str, imp_type, 0, dataset_state, fi_order, fi_selected, timings]\n",
    "#                 print(result)\n",
    "                results.append(result)\n",
    "#                 print(results)\n",
    "        columns = ['dataset', 'imp_type', 'random_state', 'data_split', \n",
    "                       'fi_order', 'fi_selected', 'timings']\n",
    "        res = pd.DataFrame(results, columns=columns)\n",
    "    return res\n",
    "\n",
    "\n",
    "from wrapt_timeout_decorator import *\n",
    "\n",
    "@timeout(10)\n",
    "def get_shap_fi(imp_type, dataset_state, dataset_str, dataset, informative_pct):\n",
    "    \n",
    "    result = []\n",
    "    df = sklearn_to_df(dataset, with_target=True)\n",
    "    x_train, x_test, y_train, y_test = model_selection.train_test_split(df,\n",
    "                                                       dataset.target, \n",
    "                                                       test_size=0.3, \n",
    "                                                       random_state=dataset_state,\n",
    "                                                       stratify=df.target\n",
    "                                                      )\n",
    "    y_train = x_train.target\n",
    "    x_train = x_train.drop('target', axis=1)\n",
    "    feat_size = len(x_train.columns)\n",
    "    sel_feat_size = int(feat_size * informative_pct)\n",
    "    m = ensemble.RandomForestClassifier(random_state=0, n_jobs=-1)\n",
    "    m.fit(x_train, y_train)\n",
    "    fi, timings = get_feat_imp_model_based(imp_type, m, x_train, y_train)\n",
    "    fi = fi.mean(axis=0)\n",
    "#     print(fi.shape)\n",
    "    #                 imp_type, model, x_train, y_train, random_state\n",
    "    fi_order = nlargest(feat_size, range(len(fi)), key=lambda idx: fi[idx])\n",
    "    fi_selected = fi_order[:sel_feat_size]\n",
    "    result = [dataset_str, imp_type, 0, dataset_state, fi_order, fi_selected, timings]\n",
    "    #                 print(result)\n",
    "#     result.append(result)\n",
    "    return result\n",
    "\n",
    "def get_syn_stats_shap_based(imp_types, datasets, \n",
    "                              dataset_states, informative_pct):\n",
    "    results = []\n",
    "    datasets_str = list(datasets.keys())\n",
    "    for j in trange(len(datasets_str), desc=f'Dataset progress'):\n",
    "        try:\n",
    "            for i in trange(len(dataset_states), desc=f'Processing {datasets_str[j]}'):\n",
    "                for k in trange(len(imp_types)):\n",
    "                    imp_type = imp_types[k] \n",
    "                    dataset_state = dataset_states[i]\n",
    "                    dataset_str = datasets_str[j]\n",
    "                    dataset = datasets.get(datasets_str[j])\n",
    "                    result = get_shap_fi(imp_type, dataset_state, dataset_str, dataset, informative_pct)\n",
    "                    results.append(result)\n",
    "        except TimeoutError as e:\n",
    "            print(f'skipping the execution of {dataset_str} because of {e}')\n",
    "            \n",
    "    columns = ['dataset', 'imp_type', 'random_state', 'data_split', \n",
    "                       'fi_order', 'fi_selected', 'timings']\n",
    "    result_df = pd.DataFrame(results, columns=columns)\n",
    "    return result_df\n",
    "\n",
    "def coerce_synthethic_datasets(samples, features, percent_informative, random_state):\n",
    "    data, target = make_classification(n_samples=samples, n_features=features, \n",
    "                                       n_informative=int(percent_informative*features),\n",
    "                                       n_redundant=0, shuffle=False,\n",
    "                                       random_state=random_state\n",
    "                                      )\n",
    "    feature_names = [f'x_{i}' for i in range(features)]\n",
    "    # data, target, feature_names\n",
    "    data_bunch = Bunch(\n",
    "        data=data,\n",
    "        target=target,\n",
    "        feature_names=feature_names,\n",
    "        informative_features=feature_names[:int(percent_informative*features)]\n",
    "                        )\n",
    "    return data_bunch"
   ]
  },
  {
   "cell_type": "code",
   "execution_count": 70,
   "metadata": {},
   "outputs": [],
   "source": [
    "imp_types_data = [\n",
    "             'mutual_info',\n",
    "             'f_test', \n",
    "             'pearson', \n",
    "             'spearman', \n",
    "             'kendall', \n",
    "             'pps'\n",
    "            ]\n",
    "imp_types_model = [\n",
    "             'gini',\n",
    "             'pimp', \n",
    "            ]\n",
    "\n",
    "n_jobs = 3\n",
    "\n",
    "random_states = [i for i in range(1)]\n",
    "dataset_states = [i for i in range(10)]\n",
    "\n",
    "features = [10, 100]\n",
    "samples = [100, 1000, 10000]\n",
    "# features = [100]\n",
    "# samples = [10000]\n",
    "# features = [10]\n",
    "# samples = [100]\n",
    "synthethic_states = [i for i in range(1)]\n",
    "percent_informative = 0.2\n",
    "tuples = []\n",
    "for i in features:\n",
    "    for j in samples:\n",
    "        if i != j:\n",
    "            for k in synthethic_states:            \n",
    "                tuples.append((i,j,k))\n",
    "datasets = {}\n",
    "\n",
    "for feat, samples, random_seed in tuples:\n",
    "    datasets[f'classif_features_{feat}_samples_{samples}_seed_{random_seed}'] = coerce_synthethic_datasets(samples, feat, 0.2, random_seed)"
   ]
  },
  {
   "cell_type": "code",
   "execution_count": 60,
   "metadata": {},
   "outputs": [
    {
     "data": {
      "application/vnd.jupyter.widget-view+json": {
       "model_id": "912d6306b41e457ea6ee669fb50c5be3",
       "version_major": 2,
       "version_minor": 0
      },
      "text/plain": [
       "Dataset progress:   0%|          | 0/5 [00:00<?, ?it/s]"
      ]
     },
     "metadata": {},
     "output_type": "display_data"
    },
    {
     "data": {
      "application/vnd.jupyter.widget-view+json": {
       "model_id": "f362f86d62504aa09d7d08907548bdc5",
       "version_major": 2,
       "version_minor": 0
      },
      "text/plain": [
       "Processing classif_features_10_samples_100_seed_0:   0%|          | 0/10 [00:00<?, ?it/s]"
      ]
     },
     "metadata": {},
     "output_type": "display_data"
    },
    {
     "data": {
      "application/vnd.jupyter.widget-view+json": {
       "model_id": "e9752437885f44a58cdea7f0cdf3b27b",
       "version_major": 2,
       "version_minor": 0
      },
      "text/plain": [
       "  0%|          | 0/6 [00:00<?, ?it/s]"
      ]
     },
     "metadata": {},
     "output_type": "display_data"
    },
    {
     "name": "stdout",
     "output_type": "stream",
     "text": [
      "23.4 ms ± 3.22 ms per loop (mean ± std. dev. of 10 runs, 1 loop each)\n",
      "1.66 ms ± 168 µs per loop (mean ± std. dev. of 10 runs, 1 loop each)\n",
      "1.82 ms ± 317 µs per loop (mean ± std. dev. of 10 runs, 1 loop each)\n",
      "2.56 ms ± 189 µs per loop (mean ± std. dev. of 10 runs, 1 loop each)\n",
      "15.8 ms ± 934 µs per loop (mean ± std. dev. of 10 runs, 1 loop each)\n",
      "89.9 ms ± 3 ms per loop (mean ± std. dev. of 10 runs, 1 loop each)\n"
     ]
    },
    {
     "data": {
      "application/vnd.jupyter.widget-view+json": {
       "model_id": "4833d806d2fa4f3e9810a9dbdb72d7a6",
       "version_major": 2,
       "version_minor": 0
      },
      "text/plain": [
       "  0%|          | 0/6 [00:00<?, ?it/s]"
      ]
     },
     "metadata": {},
     "output_type": "display_data"
    },
    {
     "name": "stdout",
     "output_type": "stream",
     "text": [
      "17.2 ms ± 2.1 ms per loop (mean ± std. dev. of 10 runs, 1 loop each)\n",
      "1.28 ms ± 108 µs per loop (mean ± std. dev. of 10 runs, 1 loop each)\n",
      "1.62 ms ± 424 µs per loop (mean ± std. dev. of 10 runs, 1 loop each)\n",
      "2.08 ms ± 234 µs per loop (mean ± std. dev. of 10 runs, 1 loop each)\n",
      "14.8 ms ± 363 µs per loop (mean ± std. dev. of 10 runs, 1 loop each)\n",
      "92.1 ms ± 3.61 ms per loop (mean ± std. dev. of 10 runs, 1 loop each)\n"
     ]
    },
    {
     "data": {
      "application/vnd.jupyter.widget-view+json": {
       "model_id": "0f42a7be735d47529b32cf27716c8e7b",
       "version_major": 2,
       "version_minor": 0
      },
      "text/plain": [
       "  0%|          | 0/6 [00:00<?, ?it/s]"
      ]
     },
     "metadata": {},
     "output_type": "display_data"
    },
    {
     "name": "stdout",
     "output_type": "stream",
     "text": [
      "18.4 ms ± 2.06 ms per loop (mean ± std. dev. of 10 runs, 1 loop each)\n",
      "1.42 ms ± 86.6 µs per loop (mean ± std. dev. of 10 runs, 1 loop each)\n",
      "1.63 ms ± 318 µs per loop (mean ± std. dev. of 10 runs, 1 loop each)\n",
      "2.04 ms ± 188 µs per loop (mean ± std. dev. of 10 runs, 1 loop each)\n",
      "14.6 ms ± 371 µs per loop (mean ± std. dev. of 10 runs, 1 loop each)\n",
      "89.4 ms ± 5.17 ms per loop (mean ± std. dev. of 10 runs, 1 loop each)\n"
     ]
    },
    {
     "data": {
      "application/vnd.jupyter.widget-view+json": {
       "model_id": "3e5e080708354291a4a614e1d8a96eed",
       "version_major": 2,
       "version_minor": 0
      },
      "text/plain": [
       "  0%|          | 0/6 [00:00<?, ?it/s]"
      ]
     },
     "metadata": {},
     "output_type": "display_data"
    },
    {
     "name": "stdout",
     "output_type": "stream",
     "text": [
      "17.7 ms ± 2.48 ms per loop (mean ± std. dev. of 10 runs, 1 loop each)\n",
      "1.53 ms ± 122 µs per loop (mean ± std. dev. of 10 runs, 1 loop each)\n",
      "1.59 ms ± 115 µs per loop (mean ± std. dev. of 10 runs, 1 loop each)\n",
      "2.1 ms ± 162 µs per loop (mean ± std. dev. of 10 runs, 1 loop each)\n",
      "15.4 ms ± 2.08 ms per loop (mean ± std. dev. of 10 runs, 1 loop each)\n",
      "99 ms ± 13.3 ms per loop (mean ± std. dev. of 10 runs, 1 loop each)\n"
     ]
    },
    {
     "data": {
      "application/vnd.jupyter.widget-view+json": {
       "model_id": "8c377d3bf07a4f4f824ec75d4c51cd1f",
       "version_major": 2,
       "version_minor": 0
      },
      "text/plain": [
       "  0%|          | 0/6 [00:00<?, ?it/s]"
      ]
     },
     "metadata": {},
     "output_type": "display_data"
    },
    {
     "name": "stdout",
     "output_type": "stream",
     "text": [
      "20.1 ms ± 2.28 ms per loop (mean ± std. dev. of 10 runs, 1 loop each)\n",
      "1.68 ms ± 89.9 µs per loop (mean ± std. dev. of 10 runs, 1 loop each)\n",
      "1.69 ms ± 274 µs per loop (mean ± std. dev. of 10 runs, 1 loop each)\n",
      "2.11 ms ± 292 µs per loop (mean ± std. dev. of 10 runs, 1 loop each)\n",
      "14.8 ms ± 380 µs per loop (mean ± std. dev. of 10 runs, 1 loop each)\n",
      "92.7 ms ± 3.85 ms per loop (mean ± std. dev. of 10 runs, 1 loop each)\n"
     ]
    },
    {
     "data": {
      "application/vnd.jupyter.widget-view+json": {
       "model_id": "9ec6e9ac3df448b5b8ed2e31a60135e3",
       "version_major": 2,
       "version_minor": 0
      },
      "text/plain": [
       "  0%|          | 0/6 [00:00<?, ?it/s]"
      ]
     },
     "metadata": {},
     "output_type": "display_data"
    },
    {
     "name": "stdout",
     "output_type": "stream",
     "text": [
      "18.4 ms ± 3.6 ms per loop (mean ± std. dev. of 10 runs, 1 loop each)\n",
      "1.69 ms ± 161 µs per loop (mean ± std. dev. of 10 runs, 1 loop each)\n",
      "1.83 ms ± 588 µs per loop (mean ± std. dev. of 10 runs, 1 loop each)\n",
      "2.05 ms ± 230 µs per loop (mean ± std. dev. of 10 runs, 1 loop each)\n",
      "15.1 ms ± 340 µs per loop (mean ± std. dev. of 10 runs, 1 loop each)\n",
      "93.4 ms ± 5.46 ms per loop (mean ± std. dev. of 10 runs, 1 loop each)\n"
     ]
    },
    {
     "data": {
      "application/vnd.jupyter.widget-view+json": {
       "model_id": "aef32554ca374bf2adfc85c63e49d3ae",
       "version_major": 2,
       "version_minor": 0
      },
      "text/plain": [
       "  0%|          | 0/6 [00:00<?, ?it/s]"
      ]
     },
     "metadata": {},
     "output_type": "display_data"
    },
    {
     "name": "stdout",
     "output_type": "stream",
     "text": [
      "16.8 ms ± 2.56 ms per loop (mean ± std. dev. of 10 runs, 1 loop each)\n",
      "1.3 ms ± 127 µs per loop (mean ± std. dev. of 10 runs, 1 loop each)\n",
      "1.53 ms ± 304 µs per loop (mean ± std. dev. of 10 runs, 1 loop each)\n",
      "2.03 ms ± 178 µs per loop (mean ± std. dev. of 10 runs, 1 loop each)\n",
      "14.6 ms ± 327 µs per loop (mean ± std. dev. of 10 runs, 1 loop each)\n",
      "90.3 ms ± 4.42 ms per loop (mean ± std. dev. of 10 runs, 1 loop each)\n"
     ]
    },
    {
     "data": {
      "application/vnd.jupyter.widget-view+json": {
       "model_id": "167990300170410e9d0ab340ac1f6e58",
       "version_major": 2,
       "version_minor": 0
      },
      "text/plain": [
       "  0%|          | 0/6 [00:00<?, ?it/s]"
      ]
     },
     "metadata": {},
     "output_type": "display_data"
    },
    {
     "name": "stdout",
     "output_type": "stream",
     "text": [
      "17.4 ms ± 2.6 ms per loop (mean ± std. dev. of 10 runs, 1 loop each)\n",
      "1.42 ms ± 148 µs per loop (mean ± std. dev. of 10 runs, 1 loop each)\n",
      "1.33 ms ± 88 µs per loop (mean ± std. dev. of 10 runs, 1 loop each)\n",
      "2.26 ms ± 196 µs per loop (mean ± std. dev. of 10 runs, 1 loop each)\n",
      "14.9 ms ± 370 µs per loop (mean ± std. dev. of 10 runs, 1 loop each)\n",
      "98 ms ± 5.96 ms per loop (mean ± std. dev. of 10 runs, 1 loop each)\n"
     ]
    },
    {
     "data": {
      "application/vnd.jupyter.widget-view+json": {
       "model_id": "17568657ecbc48e092d2c2a1647c51e2",
       "version_major": 2,
       "version_minor": 0
      },
      "text/plain": [
       "  0%|          | 0/6 [00:00<?, ?it/s]"
      ]
     },
     "metadata": {},
     "output_type": "display_data"
    },
    {
     "name": "stdout",
     "output_type": "stream",
     "text": [
      "17.5 ms ± 2.36 ms per loop (mean ± std. dev. of 10 runs, 1 loop each)\n",
      "1.54 ms ± 150 µs per loop (mean ± std. dev. of 10 runs, 1 loop each)\n",
      "1.47 ms ± 145 µs per loop (mean ± std. dev. of 10 runs, 1 loop each)\n",
      "2.05 ms ± 186 µs per loop (mean ± std. dev. of 10 runs, 1 loop each)\n",
      "14.6 ms ± 318 µs per loop (mean ± std. dev. of 10 runs, 1 loop each)\n",
      "93.6 ms ± 5.4 ms per loop (mean ± std. dev. of 10 runs, 1 loop each)\n"
     ]
    },
    {
     "data": {
      "application/vnd.jupyter.widget-view+json": {
       "model_id": "bd90cb11c2184cb990cbdb898ebc3a31",
       "version_major": 2,
       "version_minor": 0
      },
      "text/plain": [
       "  0%|          | 0/6 [00:00<?, ?it/s]"
      ]
     },
     "metadata": {},
     "output_type": "display_data"
    },
    {
     "name": "stdout",
     "output_type": "stream",
     "text": [
      "17.3 ms ± 2.44 ms per loop (mean ± std. dev. of 10 runs, 1 loop each)\n",
      "1.57 ms ± 117 µs per loop (mean ± std. dev. of 10 runs, 1 loop each)\n",
      "1.67 ms ± 578 µs per loop (mean ± std. dev. of 10 runs, 1 loop each)\n",
      "2.08 ms ± 176 µs per loop (mean ± std. dev. of 10 runs, 1 loop each)\n",
      "14.7 ms ± 402 µs per loop (mean ± std. dev. of 10 runs, 1 loop each)\n",
      "90.4 ms ± 4.72 ms per loop (mean ± std. dev. of 10 runs, 1 loop each)\n"
     ]
    },
    {
     "data": {
      "application/vnd.jupyter.widget-view+json": {
       "model_id": "dd3054a963844ed2aa312f141343b641",
       "version_major": 2,
       "version_minor": 0
      },
      "text/plain": [
       "Processing classif_features_10_samples_1000_seed_0:   0%|          | 0/10 [00:00<?, ?it/s]"
      ]
     },
     "metadata": {},
     "output_type": "display_data"
    },
    {
     "data": {
      "application/vnd.jupyter.widget-view+json": {
       "model_id": "649af0a9828d406c838d687df4bc81a1",
       "version_major": 2,
       "version_minor": 0
      },
      "text/plain": [
       "  0%|          | 0/6 [00:00<?, ?it/s]"
      ]
     },
     "metadata": {},
     "output_type": "display_data"
    },
    {
     "name": "stdout",
     "output_type": "stream",
     "text": [
      "31.4 ms ± 2.94 ms per loop (mean ± std. dev. of 10 runs, 1 loop each)\n",
      "1.58 ms ± 97.7 µs per loop (mean ± std. dev. of 10 runs, 1 loop each)\n",
      "1.66 ms ± 163 µs per loop (mean ± std. dev. of 10 runs, 1 loop each)\n",
      "2.58 ms ± 162 µs per loop (mean ± std. dev. of 10 runs, 1 loop each)\n",
      "19.7 ms ± 342 µs per loop (mean ± std. dev. of 10 runs, 1 loop each)\n",
      "112 ms ± 4.41 ms per loop (mean ± std. dev. of 10 runs, 1 loop each)\n"
     ]
    },
    {
     "data": {
      "application/vnd.jupyter.widget-view+json": {
       "model_id": "c1ce8a1998414e548d8921a53f3e35a8",
       "version_major": 2,
       "version_minor": 0
      },
      "text/plain": [
       "  0%|          | 0/6 [00:00<?, ?it/s]"
      ]
     },
     "metadata": {},
     "output_type": "display_data"
    },
    {
     "name": "stdout",
     "output_type": "stream",
     "text": [
      "30.4 ms ± 2.95 ms per loop (mean ± std. dev. of 10 runs, 1 loop each)\n",
      "1.51 ms ± 310 µs per loop (mean ± std. dev. of 10 runs, 1 loop each)\n",
      "1.6 ms ± 136 µs per loop (mean ± std. dev. of 10 runs, 1 loop each)\n",
      "2.52 ms ± 237 µs per loop (mean ± std. dev. of 10 runs, 1 loop each)\n",
      "19.6 ms ± 379 µs per loop (mean ± std. dev. of 10 runs, 1 loop each)\n",
      "113 ms ± 795 µs per loop (mean ± std. dev. of 10 runs, 1 loop each)\n"
     ]
    },
    {
     "data": {
      "application/vnd.jupyter.widget-view+json": {
       "model_id": "c5130fee335c4016b92ea56c54977cd9",
       "version_major": 2,
       "version_minor": 0
      },
      "text/plain": [
       "  0%|          | 0/6 [00:00<?, ?it/s]"
      ]
     },
     "metadata": {},
     "output_type": "display_data"
    },
    {
     "name": "stdout",
     "output_type": "stream",
     "text": [
      "31.2 ms ± 3.39 ms per loop (mean ± std. dev. of 10 runs, 1 loop each)\n",
      "1.56 ms ± 135 µs per loop (mean ± std. dev. of 10 runs, 1 loop each)\n",
      "1.62 ms ± 114 µs per loop (mean ± std. dev. of 10 runs, 1 loop each)\n",
      "2.43 ms ± 149 µs per loop (mean ± std. dev. of 10 runs, 1 loop each)\n",
      "20.1 ms ± 825 µs per loop (mean ± std. dev. of 10 runs, 1 loop each)\n",
      "113 ms ± 2.55 ms per loop (mean ± std. dev. of 10 runs, 1 loop each)\n"
     ]
    },
    {
     "data": {
      "application/vnd.jupyter.widget-view+json": {
       "model_id": "be4112f4eaa94cd1a5ce0614f1706d9b",
       "version_major": 2,
       "version_minor": 0
      },
      "text/plain": [
       "  0%|          | 0/6 [00:00<?, ?it/s]"
      ]
     },
     "metadata": {},
     "output_type": "display_data"
    },
    {
     "name": "stdout",
     "output_type": "stream",
     "text": [
      "30.7 ms ± 2.92 ms per loop (mean ± std. dev. of 10 runs, 1 loop each)\n",
      "1.5 ms ± 123 µs per loop (mean ± std. dev. of 10 runs, 1 loop each)\n",
      "1.64 ms ± 263 µs per loop (mean ± std. dev. of 10 runs, 1 loop each)\n",
      "2.68 ms ± 240 µs per loop (mean ± std. dev. of 10 runs, 1 loop each)\n",
      "19.8 ms ± 452 µs per loop (mean ± std. dev. of 10 runs, 1 loop each)\n",
      "114 ms ± 5.4 ms per loop (mean ± std. dev. of 10 runs, 1 loop each)\n"
     ]
    },
    {
     "data": {
      "application/vnd.jupyter.widget-view+json": {
       "model_id": "c2bda535964140aa9513e62692f910c2",
       "version_major": 2,
       "version_minor": 0
      },
      "text/plain": [
       "  0%|          | 0/6 [00:00<?, ?it/s]"
      ]
     },
     "metadata": {},
     "output_type": "display_data"
    },
    {
     "name": "stdout",
     "output_type": "stream",
     "text": [
      "30.9 ms ± 2.69 ms per loop (mean ± std. dev. of 10 runs, 1 loop each)\n",
      "1.49 ms ± 175 µs per loop (mean ± std. dev. of 10 runs, 1 loop each)\n",
      "1.69 ms ± 178 µs per loop (mean ± std. dev. of 10 runs, 1 loop each)\n",
      "2.73 ms ± 181 µs per loop (mean ± std. dev. of 10 runs, 1 loop each)\n",
      "20.1 ms ± 623 µs per loop (mean ± std. dev. of 10 runs, 1 loop each)\n",
      "121 ms ± 8.99 ms per loop (mean ± std. dev. of 10 runs, 1 loop each)\n"
     ]
    },
    {
     "data": {
      "application/vnd.jupyter.widget-view+json": {
       "model_id": "25a65a4add8c4c199de5617a78a5237a",
       "version_major": 2,
       "version_minor": 0
      },
      "text/plain": [
       "  0%|          | 0/6 [00:00<?, ?it/s]"
      ]
     },
     "metadata": {},
     "output_type": "display_data"
    },
    {
     "name": "stdout",
     "output_type": "stream",
     "text": [
      "34.9 ms ± 1.32 ms per loop (mean ± std. dev. of 10 runs, 1 loop each)\n",
      "1.51 ms ± 109 µs per loop (mean ± std. dev. of 10 runs, 1 loop each)\n",
      "1.8 ms ± 464 µs per loop (mean ± std. dev. of 10 runs, 1 loop each)\n",
      "2.62 ms ± 184 µs per loop (mean ± std. dev. of 10 runs, 1 loop each)\n",
      "21 ms ± 1.89 ms per loop (mean ± std. dev. of 10 runs, 1 loop each)\n",
      "128 ms ± 17.2 ms per loop (mean ± std. dev. of 10 runs, 1 loop each)\n"
     ]
    },
    {
     "data": {
      "application/vnd.jupyter.widget-view+json": {
       "model_id": "8f5e286ef7c1467c9b0bbad892fcdc01",
       "version_major": 2,
       "version_minor": 0
      },
      "text/plain": [
       "  0%|          | 0/6 [00:00<?, ?it/s]"
      ]
     },
     "metadata": {},
     "output_type": "display_data"
    },
    {
     "name": "stdout",
     "output_type": "stream",
     "text": [
      "32.2 ms ± 4.43 ms per loop (mean ± std. dev. of 10 runs, 1 loop each)\n",
      "1.67 ms ± 469 µs per loop (mean ± std. dev. of 10 runs, 1 loop each)\n",
      "1.66 ms ± 220 µs per loop (mean ± std. dev. of 10 runs, 1 loop each)\n",
      "2.71 ms ± 165 µs per loop (mean ± std. dev. of 10 runs, 1 loop each)\n",
      "21.1 ms ± 968 µs per loop (mean ± std. dev. of 10 runs, 1 loop each)\n",
      "129 ms ± 10.6 ms per loop (mean ± std. dev. of 10 runs, 1 loop each)\n"
     ]
    },
    {
     "data": {
      "application/vnd.jupyter.widget-view+json": {
       "model_id": "b7d4c9ba5123460da90305ab48f0b259",
       "version_major": 2,
       "version_minor": 0
      },
      "text/plain": [
       "  0%|          | 0/6 [00:00<?, ?it/s]"
      ]
     },
     "metadata": {},
     "output_type": "display_data"
    },
    {
     "name": "stdout",
     "output_type": "stream",
     "text": [
      "30.9 ms ± 2.53 ms per loop (mean ± std. dev. of 10 runs, 1 loop each)\n",
      "1.56 ms ± 186 µs per loop (mean ± std. dev. of 10 runs, 1 loop each)\n",
      "1.69 ms ± 144 µs per loop (mean ± std. dev. of 10 runs, 1 loop each)\n",
      "2.62 ms ± 160 µs per loop (mean ± std. dev. of 10 runs, 1 loop each)\n",
      "20 ms ± 638 µs per loop (mean ± std. dev. of 10 runs, 1 loop each)\n",
      "115 ms ± 4.01 ms per loop (mean ± std. dev. of 10 runs, 1 loop each)\n"
     ]
    },
    {
     "data": {
      "application/vnd.jupyter.widget-view+json": {
       "model_id": "5023223bb0bc4d7f84dd043ccfcb9a3a",
       "version_major": 2,
       "version_minor": 0
      },
      "text/plain": [
       "  0%|          | 0/6 [00:00<?, ?it/s]"
      ]
     },
     "metadata": {},
     "output_type": "display_data"
    },
    {
     "name": "stdout",
     "output_type": "stream",
     "text": [
      "34.3 ms ± 4.18 ms per loop (mean ± std. dev. of 10 runs, 1 loop each)\n",
      "1.85 ms ± 105 µs per loop (mean ± std. dev. of 10 runs, 1 loop each)\n",
      "2.15 ms ± 274 µs per loop (mean ± std. dev. of 10 runs, 1 loop each)\n",
      "3.32 ms ± 114 µs per loop (mean ± std. dev. of 10 runs, 1 loop each)\n",
      "20.8 ms ± 1.12 ms per loop (mean ± std. dev. of 10 runs, 1 loop each)\n",
      "123 ms ± 6.8 ms per loop (mean ± std. dev. of 10 runs, 1 loop each)\n"
     ]
    },
    {
     "data": {
      "application/vnd.jupyter.widget-view+json": {
       "model_id": "8229a823ebd54600a873203575d42180",
       "version_major": 2,
       "version_minor": 0
      },
      "text/plain": [
       "  0%|          | 0/6 [00:00<?, ?it/s]"
      ]
     },
     "metadata": {},
     "output_type": "display_data"
    },
    {
     "name": "stdout",
     "output_type": "stream",
     "text": [
      "35.1 ms ± 3.68 ms per loop (mean ± std. dev. of 10 runs, 1 loop each)\n",
      "1.69 ms ± 197 µs per loop (mean ± std. dev. of 10 runs, 1 loop each)\n",
      "1.82 ms ± 197 µs per loop (mean ± std. dev. of 10 runs, 1 loop each)\n",
      "2.72 ms ± 247 µs per loop (mean ± std. dev. of 10 runs, 1 loop each)\n",
      "20.1 ms ± 414 µs per loop (mean ± std. dev. of 10 runs, 1 loop each)\n",
      "122 ms ± 10.1 ms per loop (mean ± std. dev. of 10 runs, 1 loop each)\n"
     ]
    },
    {
     "data": {
      "application/vnd.jupyter.widget-view+json": {
       "model_id": "a0dd7b10e9d0413fb6ee409a4dc45ef3",
       "version_major": 2,
       "version_minor": 0
      },
      "text/plain": [
       "Processing classif_features_10_samples_10000_seed_0:   0%|          | 0/10 [00:00<?, ?it/s]"
      ]
     },
     "metadata": {},
     "output_type": "display_data"
    },
    {
     "data": {
      "application/vnd.jupyter.widget-view+json": {
       "model_id": "bc7a9a5ec109457f8a0342735a97f079",
       "version_major": 2,
       "version_minor": 0
      },
      "text/plain": [
       "  0%|          | 0/6 [00:00<?, ?it/s]"
      ]
     },
     "metadata": {},
     "output_type": "display_data"
    },
    {
     "name": "stdout",
     "output_type": "stream",
     "text": [
      "235 ms ± 3.24 ms per loop (mean ± std. dev. of 10 runs, 1 loop each)\n",
      "2.32 ms ± 127 µs per loop (mean ± std. dev. of 10 runs, 1 loop each)\n",
      "3.34 ms ± 292 µs per loop (mean ± std. dev. of 10 runs, 1 loop each)\n",
      "9.85 ms ± 277 µs per loop (mean ± std. dev. of 10 runs, 1 loop each)\n",
      "76.5 ms ± 1.69 ms per loop (mean ± std. dev. of 10 runs, 1 loop each)\n",
      "450 ms ± 4.67 ms per loop (mean ± std. dev. of 10 runs, 1 loop each)\n"
     ]
    },
    {
     "data": {
      "application/vnd.jupyter.widget-view+json": {
       "model_id": "26f5eac835394bbf99e40f819c67e9eb",
       "version_major": 2,
       "version_minor": 0
      },
      "text/plain": [
       "  0%|          | 0/6 [00:00<?, ?it/s]"
      ]
     },
     "metadata": {},
     "output_type": "display_data"
    },
    {
     "name": "stdout",
     "output_type": "stream",
     "text": [
      "238 ms ± 4.85 ms per loop (mean ± std. dev. of 10 runs, 1 loop each)\n",
      "2.35 ms ± 148 µs per loop (mean ± std. dev. of 10 runs, 1 loop each)\n",
      "3.51 ms ± 214 µs per loop (mean ± std. dev. of 10 runs, 1 loop each)\n",
      "10 ms ± 398 µs per loop (mean ± std. dev. of 10 runs, 1 loop each)\n",
      "77.1 ms ± 1.86 ms per loop (mean ± std. dev. of 10 runs, 1 loop each)\n",
      "459 ms ± 9.97 ms per loop (mean ± std. dev. of 10 runs, 1 loop each)\n"
     ]
    },
    {
     "data": {
      "application/vnd.jupyter.widget-view+json": {
       "model_id": "ac5c66a2f3704b7e8d55e991f6ce9cd4",
       "version_major": 2,
       "version_minor": 0
      },
      "text/plain": [
       "  0%|          | 0/6 [00:00<?, ?it/s]"
      ]
     },
     "metadata": {},
     "output_type": "display_data"
    },
    {
     "name": "stdout",
     "output_type": "stream",
     "text": [
      "237 ms ± 2.2 ms per loop (mean ± std. dev. of 10 runs, 1 loop each)\n",
      "2.38 ms ± 146 µs per loop (mean ± std. dev. of 10 runs, 1 loop each)\n",
      "3.51 ms ± 255 µs per loop (mean ± std. dev. of 10 runs, 1 loop each)\n",
      "10.3 ms ± 254 µs per loop (mean ± std. dev. of 10 runs, 1 loop each)\n",
      "80.2 ms ± 2.38 ms per loop (mean ± std. dev. of 10 runs, 1 loop each)\n",
      "442 ms ± 10.1 ms per loop (mean ± std. dev. of 10 runs, 1 loop each)\n"
     ]
    },
    {
     "data": {
      "application/vnd.jupyter.widget-view+json": {
       "model_id": "32f3851f1da2460198e0be9969692293",
       "version_major": 2,
       "version_minor": 0
      },
      "text/plain": [
       "  0%|          | 0/6 [00:00<?, ?it/s]"
      ]
     },
     "metadata": {},
     "output_type": "display_data"
    },
    {
     "name": "stdout",
     "output_type": "stream",
     "text": [
      "236 ms ± 778 µs per loop (mean ± std. dev. of 10 runs, 1 loop each)\n",
      "2.23 ms ± 121 µs per loop (mean ± std. dev. of 10 runs, 1 loop each)\n",
      "3.37 ms ± 145 µs per loop (mean ± std. dev. of 10 runs, 1 loop each)\n",
      "9.82 ms ± 239 µs per loop (mean ± std. dev. of 10 runs, 1 loop each)\n",
      "77.3 ms ± 2.02 ms per loop (mean ± std. dev. of 10 runs, 1 loop each)\n",
      "463 ms ± 4 ms per loop (mean ± std. dev. of 10 runs, 1 loop each)\n"
     ]
    },
    {
     "data": {
      "application/vnd.jupyter.widget-view+json": {
       "model_id": "0018c90051664ef18d361cd30c1265f7",
       "version_major": 2,
       "version_minor": 0
      },
      "text/plain": [
       "  0%|          | 0/6 [00:00<?, ?it/s]"
      ]
     },
     "metadata": {},
     "output_type": "display_data"
    },
    {
     "name": "stdout",
     "output_type": "stream",
     "text": [
      "237 ms ± 4.83 ms per loop (mean ± std. dev. of 10 runs, 1 loop each)\n",
      "2.3 ms ± 121 µs per loop (mean ± std. dev. of 10 runs, 1 loop each)\n",
      "3.26 ms ± 239 µs per loop (mean ± std. dev. of 10 runs, 1 loop each)\n",
      "9.6 ms ± 176 µs per loop (mean ± std. dev. of 10 runs, 1 loop each)\n",
      "77.6 ms ± 1.66 ms per loop (mean ± std. dev. of 10 runs, 1 loop each)\n",
      "426 ms ± 2.9 ms per loop (mean ± std. dev. of 10 runs, 1 loop each)\n"
     ]
    },
    {
     "data": {
      "application/vnd.jupyter.widget-view+json": {
       "model_id": "93a85ec2c7c4453d8c055e627b7d06fe",
       "version_major": 2,
       "version_minor": 0
      },
      "text/plain": [
       "  0%|          | 0/6 [00:00<?, ?it/s]"
      ]
     },
     "metadata": {},
     "output_type": "display_data"
    },
    {
     "name": "stdout",
     "output_type": "stream",
     "text": [
      "234 ms ± 1.49 ms per loop (mean ± std. dev. of 10 runs, 1 loop each)\n",
      "2.21 ms ± 108 µs per loop (mean ± std. dev. of 10 runs, 1 loop each)\n",
      "3.27 ms ± 218 µs per loop (mean ± std. dev. of 10 runs, 1 loop each)\n",
      "9.58 ms ± 138 µs per loop (mean ± std. dev. of 10 runs, 1 loop each)\n",
      "79.9 ms ± 1.81 ms per loop (mean ± std. dev. of 10 runs, 1 loop each)\n",
      "421 ms ± 2.84 ms per loop (mean ± std. dev. of 10 runs, 1 loop each)\n"
     ]
    },
    {
     "data": {
      "application/vnd.jupyter.widget-view+json": {
       "model_id": "8cdee54d30be49de8f86fcd8074c175c",
       "version_major": 2,
       "version_minor": 0
      },
      "text/plain": [
       "  0%|          | 0/6 [00:00<?, ?it/s]"
      ]
     },
     "metadata": {},
     "output_type": "display_data"
    },
    {
     "name": "stdout",
     "output_type": "stream",
     "text": [
      "237 ms ± 1.29 ms per loop (mean ± std. dev. of 10 runs, 1 loop each)\n",
      "2.28 ms ± 225 µs per loop (mean ± std. dev. of 10 runs, 1 loop each)\n",
      "3.34 ms ± 177 µs per loop (mean ± std. dev. of 10 runs, 1 loop each)\n",
      "9.67 ms ± 105 µs per loop (mean ± std. dev. of 10 runs, 1 loop each)\n",
      "79.5 ms ± 2.95 ms per loop (mean ± std. dev. of 10 runs, 1 loop each)\n",
      "454 ms ± 4.21 ms per loop (mean ± std. dev. of 10 runs, 1 loop each)\n"
     ]
    },
    {
     "data": {
      "application/vnd.jupyter.widget-view+json": {
       "model_id": "59223de553e54a23a182e5d427972acd",
       "version_major": 2,
       "version_minor": 0
      },
      "text/plain": [
       "  0%|          | 0/6 [00:00<?, ?it/s]"
      ]
     },
     "metadata": {},
     "output_type": "display_data"
    },
    {
     "name": "stdout",
     "output_type": "stream",
     "text": [
      "237 ms ± 2.92 ms per loop (mean ± std. dev. of 10 runs, 1 loop each)\n",
      "2.42 ms ± 241 µs per loop (mean ± std. dev. of 10 runs, 1 loop each)\n",
      "3.64 ms ± 307 µs per loop (mean ± std. dev. of 10 runs, 1 loop each)\n",
      "10.2 ms ± 249 µs per loop (mean ± std. dev. of 10 runs, 1 loop each)\n",
      "79.8 ms ± 2.5 ms per loop (mean ± std. dev. of 10 runs, 1 loop each)\n",
      "456 ms ± 4.42 ms per loop (mean ± std. dev. of 10 runs, 1 loop each)\n"
     ]
    },
    {
     "data": {
      "application/vnd.jupyter.widget-view+json": {
       "model_id": "0b238c6c67ca4d109ed345d9109ae8d4",
       "version_major": 2,
       "version_minor": 0
      },
      "text/plain": [
       "  0%|          | 0/6 [00:00<?, ?it/s]"
      ]
     },
     "metadata": {},
     "output_type": "display_data"
    },
    {
     "name": "stdout",
     "output_type": "stream",
     "text": [
      "245 ms ± 5.05 ms per loop (mean ± std. dev. of 10 runs, 1 loop each)\n",
      "2.42 ms ± 426 µs per loop (mean ± std. dev. of 10 runs, 1 loop each)\n",
      "3.4 ms ± 202 µs per loop (mean ± std. dev. of 10 runs, 1 loop each)\n",
      "9.83 ms ± 179 µs per loop (mean ± std. dev. of 10 runs, 1 loop each)\n",
      "78.2 ms ± 1.71 ms per loop (mean ± std. dev. of 10 runs, 1 loop each)\n",
      "434 ms ± 11.4 ms per loop (mean ± std. dev. of 10 runs, 1 loop each)\n"
     ]
    },
    {
     "data": {
      "application/vnd.jupyter.widget-view+json": {
       "model_id": "17a24eb0bbb04862918695be178f394b",
       "version_major": 2,
       "version_minor": 0
      },
      "text/plain": [
       "  0%|          | 0/6 [00:00<?, ?it/s]"
      ]
     },
     "metadata": {},
     "output_type": "display_data"
    },
    {
     "name": "stdout",
     "output_type": "stream",
     "text": [
      "234 ms ± 1.39 ms per loop (mean ± std. dev. of 10 runs, 1 loop each)\n",
      "2.27 ms ± 116 µs per loop (mean ± std. dev. of 10 runs, 1 loop each)\n",
      "3.35 ms ± 196 µs per loop (mean ± std. dev. of 10 runs, 1 loop each)\n",
      "9.6 ms ± 128 µs per loop (mean ± std. dev. of 10 runs, 1 loop each)\n",
      "78 ms ± 1.6 ms per loop (mean ± std. dev. of 10 runs, 1 loop each)\n",
      "457 ms ± 1.4 ms per loop (mean ± std. dev. of 10 runs, 1 loop each)\n"
     ]
    },
    {
     "data": {
      "application/vnd.jupyter.widget-view+json": {
       "model_id": "7845d0b6ca0244d2901d6eb98fa325a9",
       "version_major": 2,
       "version_minor": 0
      },
      "text/plain": [
       "Processing classif_features_100_samples_1000_seed_0:   0%|          | 0/10 [00:00<?, ?it/s]"
      ]
     },
     "metadata": {},
     "output_type": "display_data"
    },
    {
     "data": {
      "application/vnd.jupyter.widget-view+json": {
       "model_id": "0b58f1c61ca347b38b13b0a56eb6093c",
       "version_major": 2,
       "version_minor": 0
      },
      "text/plain": [
       "  0%|          | 0/6 [00:00<?, ?it/s]"
      ]
     },
     "metadata": {},
     "output_type": "display_data"
    },
    {
     "name": "stdout",
     "output_type": "stream",
     "text": [
      "280 ms ± 8.81 ms per loop (mean ± std. dev. of 10 runs, 1 loop each)\n",
      "2.23 ms ± 106 µs per loop (mean ± std. dev. of 10 runs, 1 loop each)\n",
      "14.1 ms ± 144 µs per loop (mean ± std. dev. of 10 runs, 1 loop each)\n",
      "35.3 ms ± 598 µs per loop (mean ± std. dev. of 10 runs, 1 loop each)\n",
      "1.67 s ± 16.9 ms per loop (mean ± std. dev. of 10 runs, 1 loop each)\n",
      "1.1 s ± 3.91 ms per loop (mean ± std. dev. of 10 runs, 1 loop each)\n"
     ]
    },
    {
     "data": {
      "application/vnd.jupyter.widget-view+json": {
       "model_id": "17125b8d0eaa4c7bac955825ca4af3a8",
       "version_major": 2,
       "version_minor": 0
      },
      "text/plain": [
       "  0%|          | 0/6 [00:00<?, ?it/s]"
      ]
     },
     "metadata": {},
     "output_type": "display_data"
    },
    {
     "name": "stdout",
     "output_type": "stream",
     "text": [
      "276 ms ± 5.25 ms per loop (mean ± std. dev. of 10 runs, 1 loop each)\n",
      "2.2 ms ± 73 µs per loop (mean ± std. dev. of 10 runs, 1 loop each)\n",
      "13.7 ms ± 182 µs per loop (mean ± std. dev. of 10 runs, 1 loop each)\n",
      "35 ms ± 494 µs per loop (mean ± std. dev. of 10 runs, 1 loop each)\n",
      "1.66 s ± 7.04 ms per loop (mean ± std. dev. of 10 runs, 1 loop each)\n",
      "1.11 s ± 3.05 ms per loop (mean ± std. dev. of 10 runs, 1 loop each)\n"
     ]
    },
    {
     "data": {
      "application/vnd.jupyter.widget-view+json": {
       "model_id": "90686a06c32547e1847e935193fbae22",
       "version_major": 2,
       "version_minor": 0
      },
      "text/plain": [
       "  0%|          | 0/6 [00:00<?, ?it/s]"
      ]
     },
     "metadata": {},
     "output_type": "display_data"
    },
    {
     "name": "stdout",
     "output_type": "stream",
     "text": [
      "299 ms ± 13 ms per loop (mean ± std. dev. of 10 runs, 1 loop each)\n",
      "2.43 ms ± 201 µs per loop (mean ± std. dev. of 10 runs, 1 loop each)\n",
      "14.1 ms ± 106 µs per loop (mean ± std. dev. of 10 runs, 1 loop each)\n",
      "36.3 ms ± 300 µs per loop (mean ± std. dev. of 10 runs, 1 loop each)\n",
      "1.77 s ± 19.7 ms per loop (mean ± std. dev. of 10 runs, 1 loop each)\n",
      "1.19 s ± 50.8 ms per loop (mean ± std. dev. of 10 runs, 1 loop each)\n"
     ]
    },
    {
     "data": {
      "application/vnd.jupyter.widget-view+json": {
       "model_id": "75bc5c454baf4a61b7e82693cb07d10c",
       "version_major": 2,
       "version_minor": 0
      },
      "text/plain": [
       "  0%|          | 0/6 [00:00<?, ?it/s]"
      ]
     },
     "metadata": {},
     "output_type": "display_data"
    },
    {
     "name": "stdout",
     "output_type": "stream",
     "text": [
      "293 ms ± 8.17 ms per loop (mean ± std. dev. of 10 runs, 1 loop each)\n",
      "2.28 ms ± 111 µs per loop (mean ± std. dev. of 10 runs, 1 loop each)\n",
      "14.1 ms ± 218 µs per loop (mean ± std. dev. of 10 runs, 1 loop each)\n",
      "35.6 ms ± 530 µs per loop (mean ± std. dev. of 10 runs, 1 loop each)\n",
      "1.77 s ± 49.1 ms per loop (mean ± std. dev. of 10 runs, 1 loop each)\n",
      "1.11 s ± 16 ms per loop (mean ± std. dev. of 10 runs, 1 loop each)\n"
     ]
    },
    {
     "data": {
      "application/vnd.jupyter.widget-view+json": {
       "model_id": "a9e80e312c7d4d0483d884138b159f9a",
       "version_major": 2,
       "version_minor": 0
      },
      "text/plain": [
       "  0%|          | 0/6 [00:00<?, ?it/s]"
      ]
     },
     "metadata": {},
     "output_type": "display_data"
    },
    {
     "name": "stdout",
     "output_type": "stream",
     "text": [
      "311 ms ± 16.9 ms per loop (mean ± std. dev. of 10 runs, 1 loop each)\n",
      "2.31 ms ± 221 µs per loop (mean ± std. dev. of 10 runs, 1 loop each)\n",
      "14 ms ± 162 µs per loop (mean ± std. dev. of 10 runs, 1 loop each)\n",
      "35.8 ms ± 362 µs per loop (mean ± std. dev. of 10 runs, 1 loop each)\n",
      "1.7 s ± 28.9 ms per loop (mean ± std. dev. of 10 runs, 1 loop each)\n",
      "1.13 s ± 14.8 ms per loop (mean ± std. dev. of 10 runs, 1 loop each)\n"
     ]
    },
    {
     "data": {
      "application/vnd.jupyter.widget-view+json": {
       "model_id": "3861210de2d4457fab1cae4188ee1d9b",
       "version_major": 2,
       "version_minor": 0
      },
      "text/plain": [
       "  0%|          | 0/6 [00:00<?, ?it/s]"
      ]
     },
     "metadata": {},
     "output_type": "display_data"
    },
    {
     "name": "stdout",
     "output_type": "stream",
     "text": [
      "285 ms ± 11.5 ms per loop (mean ± std. dev. of 10 runs, 1 loop each)\n",
      "2.36 ms ± 132 µs per loop (mean ± std. dev. of 10 runs, 1 loop each)\n",
      "14 ms ± 336 µs per loop (mean ± std. dev. of 10 runs, 1 loop each)\n",
      "36.3 ms ± 2.33 ms per loop (mean ± std. dev. of 10 runs, 1 loop each)\n",
      "1.76 s ± 30.7 ms per loop (mean ± std. dev. of 10 runs, 1 loop each)\n",
      "1.16 s ± 33.2 ms per loop (mean ± std. dev. of 10 runs, 1 loop each)\n"
     ]
    },
    {
     "data": {
      "application/vnd.jupyter.widget-view+json": {
       "model_id": "e73960bdabdd426a94895fd07b633ca9",
       "version_major": 2,
       "version_minor": 0
      },
      "text/plain": [
       "  0%|          | 0/6 [00:00<?, ?it/s]"
      ]
     },
     "metadata": {},
     "output_type": "display_data"
    },
    {
     "name": "stdout",
     "output_type": "stream",
     "text": [
      "294 ms ± 11.7 ms per loop (mean ± std. dev. of 10 runs, 1 loop each)\n",
      "2.37 ms ± 131 µs per loop (mean ± std. dev. of 10 runs, 1 loop each)\n",
      "14.3 ms ± 315 µs per loop (mean ± std. dev. of 10 runs, 1 loop each)\n",
      "36.6 ms ± 659 µs per loop (mean ± std. dev. of 10 runs, 1 loop each)\n",
      "1.74 s ± 29.8 ms per loop (mean ± std. dev. of 10 runs, 1 loop each)\n",
      "1.24 s ± 32.9 ms per loop (mean ± std. dev. of 10 runs, 1 loop each)\n"
     ]
    },
    {
     "data": {
      "application/vnd.jupyter.widget-view+json": {
       "model_id": "24b40810961c4c74ab78ef07398917de",
       "version_major": 2,
       "version_minor": 0
      },
      "text/plain": [
       "  0%|          | 0/6 [00:00<?, ?it/s]"
      ]
     },
     "metadata": {},
     "output_type": "display_data"
    },
    {
     "name": "stdout",
     "output_type": "stream",
     "text": [
      "313 ms ± 7.75 ms per loop (mean ± std. dev. of 10 runs, 1 loop each)\n",
      "2.55 ms ± 224 µs per loop (mean ± std. dev. of 10 runs, 1 loop each)\n",
      "14.5 ms ± 686 µs per loop (mean ± std. dev. of 10 runs, 1 loop each)\n",
      "36.9 ms ± 2.06 ms per loop (mean ± std. dev. of 10 runs, 1 loop each)\n",
      "1.7 s ± 21.1 ms per loop (mean ± std. dev. of 10 runs, 1 loop each)\n",
      "1.15 s ± 32.6 ms per loop (mean ± std. dev. of 10 runs, 1 loop each)\n"
     ]
    },
    {
     "data": {
      "application/vnd.jupyter.widget-view+json": {
       "model_id": "96faed6286674dd6a027f7b3773a08df",
       "version_major": 2,
       "version_minor": 0
      },
      "text/plain": [
       "  0%|          | 0/6 [00:00<?, ?it/s]"
      ]
     },
     "metadata": {},
     "output_type": "display_data"
    },
    {
     "name": "stdout",
     "output_type": "stream",
     "text": [
      "289 ms ± 10.4 ms per loop (mean ± std. dev. of 10 runs, 1 loop each)\n",
      "2.49 ms ± 233 µs per loop (mean ± std. dev. of 10 runs, 1 loop each)\n",
      "14.2 ms ± 251 µs per loop (mean ± std. dev. of 10 runs, 1 loop each)\n",
      "36.2 ms ± 692 µs per loop (mean ± std. dev. of 10 runs, 1 loop each)\n",
      "1.68 s ± 5.51 ms per loop (mean ± std. dev. of 10 runs, 1 loop each)\n",
      "1.15 s ± 20.2 ms per loop (mean ± std. dev. of 10 runs, 1 loop each)\n"
     ]
    },
    {
     "data": {
      "application/vnd.jupyter.widget-view+json": {
       "model_id": "18344d09b67e41bd84881936cb36c941",
       "version_major": 2,
       "version_minor": 0
      },
      "text/plain": [
       "  0%|          | 0/6 [00:00<?, ?it/s]"
      ]
     },
     "metadata": {},
     "output_type": "display_data"
    },
    {
     "name": "stdout",
     "output_type": "stream",
     "text": [
      "280 ms ± 9.65 ms per loop (mean ± std. dev. of 10 runs, 1 loop each)\n",
      "2.27 ms ± 153 µs per loop (mean ± std. dev. of 10 runs, 1 loop each)\n",
      "13.7 ms ± 145 µs per loop (mean ± std. dev. of 10 runs, 1 loop each)\n",
      "36.1 ms ± 1.4 ms per loop (mean ± std. dev. of 10 runs, 1 loop each)\n",
      "1.69 s ± 22.4 ms per loop (mean ± std. dev. of 10 runs, 1 loop each)\n",
      "1.27 s ± 78.9 ms per loop (mean ± std. dev. of 10 runs, 1 loop each)\n"
     ]
    },
    {
     "data": {
      "application/vnd.jupyter.widget-view+json": {
       "model_id": "c64166988a624c6fbd203f53a21d9a78",
       "version_major": 2,
       "version_minor": 0
      },
      "text/plain": [
       "Processing classif_features_100_samples_10000_seed_0:   0%|          | 0/10 [00:00<?, ?it/s]"
      ]
     },
     "metadata": {},
     "output_type": "display_data"
    },
    {
     "data": {
      "application/vnd.jupyter.widget-view+json": {
       "model_id": "fb700df349704044b92508e39ac46bab",
       "version_major": 2,
       "version_minor": 0
      },
      "text/plain": [
       "  0%|          | 0/6 [00:00<?, ?it/s]"
      ]
     },
     "metadata": {},
     "output_type": "display_data"
    },
    {
     "name": "stdout",
     "output_type": "stream",
     "text": [
      "2.39 s ± 32.6 ms per loop (mean ± std. dev. of 10 runs, 1 loop each)\n",
      "8 ms ± 396 µs per loop (mean ± std. dev. of 10 runs, 1 loop each)\n",
      "123 ms ± 667 µs per loop (mean ± std. dev. of 10 runs, 1 loop each)\n",
      "349 ms ± 8.88 ms per loop (mean ± std. dev. of 10 runs, 1 loop each)\n",
      "7.55 s ± 117 ms per loop (mean ± std. dev. of 10 runs, 1 loop each)\n",
      "4.84 s ± 131 ms per loop (mean ± std. dev. of 10 runs, 1 loop each)\n"
     ]
    },
    {
     "data": {
      "application/vnd.jupyter.widget-view+json": {
       "model_id": "6063ae69a4704e6fb0159698d2a39406",
       "version_major": 2,
       "version_minor": 0
      },
      "text/plain": [
       "  0%|          | 0/6 [00:00<?, ?it/s]"
      ]
     },
     "metadata": {},
     "output_type": "display_data"
    },
    {
     "name": "stdout",
     "output_type": "stream",
     "text": [
      "2.43 s ± 72 ms per loop (mean ± std. dev. of 10 runs, 1 loop each)\n",
      "8.13 ms ± 558 µs per loop (mean ± std. dev. of 10 runs, 1 loop each)\n",
      "124 ms ± 992 µs per loop (mean ± std. dev. of 10 runs, 1 loop each)\n",
      "344 ms ± 10.6 ms per loop (mean ± std. dev. of 10 runs, 1 loop each)\n",
      "7.65 s ± 311 ms per loop (mean ± std. dev. of 10 runs, 1 loop each)\n",
      "4.66 s ± 85.1 ms per loop (mean ± std. dev. of 10 runs, 1 loop each)\n"
     ]
    },
    {
     "data": {
      "application/vnd.jupyter.widget-view+json": {
       "model_id": "98d46a2dc8f6463e8112e707cea9b685",
       "version_major": 2,
       "version_minor": 0
      },
      "text/plain": [
       "  0%|          | 0/6 [00:00<?, ?it/s]"
      ]
     },
     "metadata": {},
     "output_type": "display_data"
    },
    {
     "name": "stdout",
     "output_type": "stream",
     "text": [
      "2.38 s ± 20.3 ms per loop (mean ± std. dev. of 10 runs, 1 loop each)\n",
      "8.23 ms ± 708 µs per loop (mean ± std. dev. of 10 runs, 1 loop each)\n",
      "124 ms ± 519 µs per loop (mean ± std. dev. of 10 runs, 1 loop each)\n",
      "341 ms ± 9.34 ms per loop (mean ± std. dev. of 10 runs, 1 loop each)\n",
      "7.3 s ± 62.7 ms per loop (mean ± std. dev. of 10 runs, 1 loop each)\n",
      "4.65 s ± 64.8 ms per loop (mean ± std. dev. of 10 runs, 1 loop each)\n"
     ]
    },
    {
     "data": {
      "application/vnd.jupyter.widget-view+json": {
       "model_id": "c815d02f82194534bfa4eb48e47bcc18",
       "version_major": 2,
       "version_minor": 0
      },
      "text/plain": [
       "  0%|          | 0/6 [00:00<?, ?it/s]"
      ]
     },
     "metadata": {},
     "output_type": "display_data"
    },
    {
     "name": "stdout",
     "output_type": "stream",
     "text": [
      "2.39 s ± 14.3 ms per loop (mean ± std. dev. of 10 runs, 1 loop each)\n",
      "8.19 ms ± 763 µs per loop (mean ± std. dev. of 10 runs, 1 loop each)\n",
      "123 ms ± 365 µs per loop (mean ± std. dev. of 10 runs, 1 loop each)\n",
      "327 ms ± 4.62 ms per loop (mean ± std. dev. of 10 runs, 1 loop each)\n",
      "7.52 s ± 156 ms per loop (mean ± std. dev. of 10 runs, 1 loop each)\n",
      "4.74 s ± 102 ms per loop (mean ± std. dev. of 10 runs, 1 loop each)\n"
     ]
    },
    {
     "data": {
      "application/vnd.jupyter.widget-view+json": {
       "model_id": "f382d2df4c584a77814d66f47aceb724",
       "version_major": 2,
       "version_minor": 0
      },
      "text/plain": [
       "  0%|          | 0/6 [00:00<?, ?it/s]"
      ]
     },
     "metadata": {},
     "output_type": "display_data"
    },
    {
     "name": "stdout",
     "output_type": "stream",
     "text": [
      "2.4 s ± 20.9 ms per loop (mean ± std. dev. of 10 runs, 1 loop each)\n",
      "9.91 ms ± 1.39 ms per loop (mean ± std. dev. of 10 runs, 1 loop each)\n",
      "125 ms ± 215 µs per loop (mean ± std. dev. of 10 runs, 1 loop each)\n",
      "315 ms ± 10.5 ms per loop (mean ± std. dev. of 10 runs, 1 loop each)\n",
      "7.6 s ± 151 ms per loop (mean ± std. dev. of 10 runs, 1 loop each)\n",
      "4.8 s ± 100 ms per loop (mean ± std. dev. of 10 runs, 1 loop each)\n"
     ]
    },
    {
     "data": {
      "application/vnd.jupyter.widget-view+json": {
       "model_id": "0937a24647f2456e9f05d9ec2b3122d4",
       "version_major": 2,
       "version_minor": 0
      },
      "text/plain": [
       "  0%|          | 0/6 [00:00<?, ?it/s]"
      ]
     },
     "metadata": {},
     "output_type": "display_data"
    },
    {
     "name": "stdout",
     "output_type": "stream",
     "text": [
      "2.44 s ± 26 ms per loop (mean ± std. dev. of 10 runs, 1 loop each)\n",
      "8.89 ms ± 615 µs per loop (mean ± std. dev. of 10 runs, 1 loop each)\n",
      "126 ms ± 556 µs per loop (mean ± std. dev. of 10 runs, 1 loop each)\n",
      "326 ms ± 14.1 ms per loop (mean ± std. dev. of 10 runs, 1 loop each)\n",
      "7.86 s ± 313 ms per loop (mean ± std. dev. of 10 runs, 1 loop each)\n",
      "4.67 s ± 85.3 ms per loop (mean ± std. dev. of 10 runs, 1 loop each)\n"
     ]
    },
    {
     "data": {
      "application/vnd.jupyter.widget-view+json": {
       "model_id": "428bdae701714eff8714440b1b6b7b8c",
       "version_major": 2,
       "version_minor": 0
      },
      "text/plain": [
       "  0%|          | 0/6 [00:00<?, ?it/s]"
      ]
     },
     "metadata": {},
     "output_type": "display_data"
    },
    {
     "name": "stdout",
     "output_type": "stream",
     "text": [
      "2.37 s ± 12.9 ms per loop (mean ± std. dev. of 10 runs, 1 loop each)\n",
      "8.31 ms ± 636 µs per loop (mean ± std. dev. of 10 runs, 1 loop each)\n",
      "124 ms ± 297 µs per loop (mean ± std. dev. of 10 runs, 1 loop each)\n",
      "291 ms ± 5.01 ms per loop (mean ± std. dev. of 10 runs, 1 loop each)\n",
      "7.33 s ± 230 ms per loop (mean ± std. dev. of 10 runs, 1 loop each)\n",
      "4.54 s ± 28.1 ms per loop (mean ± std. dev. of 10 runs, 1 loop each)\n"
     ]
    },
    {
     "data": {
      "application/vnd.jupyter.widget-view+json": {
       "model_id": "03040435130a4586830963e02f710e90",
       "version_major": 2,
       "version_minor": 0
      },
      "text/plain": [
       "  0%|          | 0/6 [00:00<?, ?it/s]"
      ]
     },
     "metadata": {},
     "output_type": "display_data"
    },
    {
     "name": "stdout",
     "output_type": "stream",
     "text": [
      "2.3 s ± 5.52 ms per loop (mean ± std. dev. of 10 runs, 1 loop each)\n",
      "8.14 ms ± 566 µs per loop (mean ± std. dev. of 10 runs, 1 loop each)\n",
      "124 ms ± 360 µs per loop (mean ± std. dev. of 10 runs, 1 loop each)\n",
      "337 ms ± 6.63 ms per loop (mean ± std. dev. of 10 runs, 1 loop each)\n",
      "7.34 s ± 126 ms per loop (mean ± std. dev. of 10 runs, 1 loop each)\n",
      "4.81 s ± 39.5 ms per loop (mean ± std. dev. of 10 runs, 1 loop each)\n"
     ]
    },
    {
     "data": {
      "application/vnd.jupyter.widget-view+json": {
       "model_id": "09091e529d1149bc9397778724b9bda7",
       "version_major": 2,
       "version_minor": 0
      },
      "text/plain": [
       "  0%|          | 0/6 [00:00<?, ?it/s]"
      ]
     },
     "metadata": {},
     "output_type": "display_data"
    },
    {
     "name": "stdout",
     "output_type": "stream",
     "text": [
      "2.4 s ± 4.04 ms per loop (mean ± std. dev. of 10 runs, 1 loop each)\n",
      "8.23 ms ± 507 µs per loop (mean ± std. dev. of 10 runs, 1 loop each)\n",
      "125 ms ± 739 µs per loop (mean ± std. dev. of 10 runs, 1 loop each)\n",
      "322 ms ± 4.37 ms per loop (mean ± std. dev. of 10 runs, 1 loop each)\n",
      "7.59 s ± 83.7 ms per loop (mean ± std. dev. of 10 runs, 1 loop each)\n",
      "4.75 s ± 144 ms per loop (mean ± std. dev. of 10 runs, 1 loop each)\n"
     ]
    },
    {
     "data": {
      "application/vnd.jupyter.widget-view+json": {
       "model_id": "9fbd0799164948f1a6b8ec58e8ac8f09",
       "version_major": 2,
       "version_minor": 0
      },
      "text/plain": [
       "  0%|          | 0/6 [00:00<?, ?it/s]"
      ]
     },
     "metadata": {},
     "output_type": "display_data"
    },
    {
     "name": "stdout",
     "output_type": "stream",
     "text": [
      "2.39 s ± 23.7 ms per loop (mean ± std. dev. of 10 runs, 1 loop each)\n",
      "8.94 ms ± 528 µs per loop (mean ± std. dev. of 10 runs, 1 loop each)\n",
      "122 ms ± 752 µs per loop (mean ± std. dev. of 10 runs, 1 loop each)\n",
      "316 ms ± 6.6 ms per loop (mean ± std. dev. of 10 runs, 1 loop each)\n",
      "7.51 s ± 102 ms per loop (mean ± std. dev. of 10 runs, 1 loop each)\n",
      "4.69 s ± 72 ms per loop (mean ± std. dev. of 10 runs, 1 loop each)\n"
     ]
    }
   ],
   "source": [
    "res_data = get_syn_stats_data_based(imp_types_data, datasets, dataset_states, 0.2)"
   ]
  },
  {
   "cell_type": "code",
   "execution_count": 63,
   "metadata": {},
   "outputs": [
    {
     "data": {
      "application/vnd.jupyter.widget-view+json": {
       "model_id": "0923ece66ce1461c83ccbf1ab9f5ab82",
       "version_major": 2,
       "version_minor": 0
      },
      "text/plain": [
       "Dataset progress:   0%|          | 0/5 [00:00<?, ?it/s]"
      ]
     },
     "metadata": {},
     "output_type": "display_data"
    },
    {
     "data": {
      "application/vnd.jupyter.widget-view+json": {
       "model_id": "132a9d0a570b4054aaae46ed2c7bc03e",
       "version_major": 2,
       "version_minor": 0
      },
      "text/plain": [
       "Processing classif_features_10_samples_100_seed_0:   0%|          | 0/10 [00:00<?, ?it/s]"
      ]
     },
     "metadata": {},
     "output_type": "display_data"
    },
    {
     "data": {
      "application/vnd.jupyter.widget-view+json": {
       "model_id": "dbb9ced7c6fe4166921619d3dac656a5",
       "version_major": 2,
       "version_minor": 0
      },
      "text/plain": [
       "  0%|          | 0/2 [00:00<?, ?it/s]"
      ]
     },
     "metadata": {},
     "output_type": "display_data"
    },
    {
     "name": "stdout",
     "output_type": "stream",
     "text": [
      "17.4 ms ± 4.69 ms per loop (mean ± std. dev. of 10 runs, 1 loop each)\n",
      "1.21 s ± 30.9 ms per loop (mean ± std. dev. of 10 runs, 1 loop each)\n"
     ]
    },
    {
     "data": {
      "application/vnd.jupyter.widget-view+json": {
       "model_id": "083f8537fd60449784486d3629fea163",
       "version_major": 2,
       "version_minor": 0
      },
      "text/plain": [
       "  0%|          | 0/2 [00:00<?, ?it/s]"
      ]
     },
     "metadata": {},
     "output_type": "display_data"
    },
    {
     "name": "stdout",
     "output_type": "stream",
     "text": [
      "14.7 ms ± 1.07 ms per loop (mean ± std. dev. of 10 runs, 1 loop each)\n",
      "1.28 s ± 131 ms per loop (mean ± std. dev. of 10 runs, 1 loop each)\n"
     ]
    },
    {
     "data": {
      "application/vnd.jupyter.widget-view+json": {
       "model_id": "74c1022d6ce841e28bb77d60ec1d7150",
       "version_major": 2,
       "version_minor": 0
      },
      "text/plain": [
       "  0%|          | 0/2 [00:00<?, ?it/s]"
      ]
     },
     "metadata": {},
     "output_type": "display_data"
    },
    {
     "name": "stdout",
     "output_type": "stream",
     "text": [
      "14.1 ms ± 1.32 ms per loop (mean ± std. dev. of 10 runs, 1 loop each)\n",
      "1.19 s ± 23.8 ms per loop (mean ± std. dev. of 10 runs, 1 loop each)\n"
     ]
    },
    {
     "data": {
      "application/vnd.jupyter.widget-view+json": {
       "model_id": "72c66c98c48d4dff9e005239f6e4ecb1",
       "version_major": 2,
       "version_minor": 0
      },
      "text/plain": [
       "  0%|          | 0/2 [00:00<?, ?it/s]"
      ]
     },
     "metadata": {},
     "output_type": "display_data"
    },
    {
     "name": "stdout",
     "output_type": "stream",
     "text": [
      "15.1 ms ± 1.23 ms per loop (mean ± std. dev. of 10 runs, 1 loop each)\n",
      "1.18 s ± 15 ms per loop (mean ± std. dev. of 10 runs, 1 loop each)\n"
     ]
    },
    {
     "data": {
      "application/vnd.jupyter.widget-view+json": {
       "model_id": "16e752d93bef4c08ba5d80b98881e7ca",
       "version_major": 2,
       "version_minor": 0
      },
      "text/plain": [
       "  0%|          | 0/2 [00:00<?, ?it/s]"
      ]
     },
     "metadata": {},
     "output_type": "display_data"
    },
    {
     "name": "stdout",
     "output_type": "stream",
     "text": [
      "15.1 ms ± 1.28 ms per loop (mean ± std. dev. of 10 runs, 1 loop each)\n",
      "1.19 s ± 12.9 ms per loop (mean ± std. dev. of 10 runs, 1 loop each)\n"
     ]
    },
    {
     "data": {
      "application/vnd.jupyter.widget-view+json": {
       "model_id": "09b18d0d4c8e46e6894d032a4fe24967",
       "version_major": 2,
       "version_minor": 0
      },
      "text/plain": [
       "  0%|          | 0/2 [00:00<?, ?it/s]"
      ]
     },
     "metadata": {},
     "output_type": "display_data"
    },
    {
     "name": "stdout",
     "output_type": "stream",
     "text": [
      "15.7 ms ± 1.23 ms per loop (mean ± std. dev. of 10 runs, 1 loop each)\n",
      "1.19 s ± 26.9 ms per loop (mean ± std. dev. of 10 runs, 1 loop each)\n"
     ]
    },
    {
     "data": {
      "application/vnd.jupyter.widget-view+json": {
       "model_id": "b5e28f76310c421db8c2e08a33e4c77c",
       "version_major": 2,
       "version_minor": 0
      },
      "text/plain": [
       "  0%|          | 0/2 [00:00<?, ?it/s]"
      ]
     },
     "metadata": {},
     "output_type": "display_data"
    },
    {
     "name": "stdout",
     "output_type": "stream",
     "text": [
      "14 ms ± 1.31 ms per loop (mean ± std. dev. of 10 runs, 1 loop each)\n",
      "1.17 s ± 13.5 ms per loop (mean ± std. dev. of 10 runs, 1 loop each)\n"
     ]
    },
    {
     "data": {
      "application/vnd.jupyter.widget-view+json": {
       "model_id": "c137052844674ff597ea6a11da92ecdf",
       "version_major": 2,
       "version_minor": 0
      },
      "text/plain": [
       "  0%|          | 0/2 [00:00<?, ?it/s]"
      ]
     },
     "metadata": {},
     "output_type": "display_data"
    },
    {
     "name": "stdout",
     "output_type": "stream",
     "text": [
      "15.4 ms ± 1.73 ms per loop (mean ± std. dev. of 10 runs, 1 loop each)\n",
      "1.18 s ± 9.27 ms per loop (mean ± std. dev. of 10 runs, 1 loop each)\n"
     ]
    },
    {
     "data": {
      "application/vnd.jupyter.widget-view+json": {
       "model_id": "35cdb3f3aaa44f0eb47724d5a1a99917",
       "version_major": 2,
       "version_minor": 0
      },
      "text/plain": [
       "  0%|          | 0/2 [00:00<?, ?it/s]"
      ]
     },
     "metadata": {},
     "output_type": "display_data"
    },
    {
     "name": "stdout",
     "output_type": "stream",
     "text": [
      "14 ms ± 1.82 ms per loop (mean ± std. dev. of 10 runs, 1 loop each)\n",
      "1.18 s ± 18.7 ms per loop (mean ± std. dev. of 10 runs, 1 loop each)\n"
     ]
    },
    {
     "data": {
      "application/vnd.jupyter.widget-view+json": {
       "model_id": "0fbbb20c784d41d6aab8bce3ff9174f8",
       "version_major": 2,
       "version_minor": 0
      },
      "text/plain": [
       "  0%|          | 0/2 [00:00<?, ?it/s]"
      ]
     },
     "metadata": {},
     "output_type": "display_data"
    },
    {
     "name": "stdout",
     "output_type": "stream",
     "text": [
      "14.9 ms ± 1.79 ms per loop (mean ± std. dev. of 10 runs, 1 loop each)\n",
      "1.26 s ± 117 ms per loop (mean ± std. dev. of 10 runs, 1 loop each)\n"
     ]
    },
    {
     "data": {
      "application/vnd.jupyter.widget-view+json": {
       "model_id": "849a6bc56c6c4b38b2d496f8c583862b",
       "version_major": 2,
       "version_minor": 0
      },
      "text/plain": [
       "Processing classif_features_10_samples_1000_seed_0:   0%|          | 0/10 [00:00<?, ?it/s]"
      ]
     },
     "metadata": {},
     "output_type": "display_data"
    },
    {
     "data": {
      "application/vnd.jupyter.widget-view+json": {
       "model_id": "9a78d07419bd46f5ab17deeca8694a2e",
       "version_major": 2,
       "version_minor": 0
      },
      "text/plain": [
       "  0%|          | 0/2 [00:00<?, ?it/s]"
      ]
     },
     "metadata": {},
     "output_type": "display_data"
    },
    {
     "name": "stdout",
     "output_type": "stream",
     "text": [
      "16.3 ms ± 4.68 ms per loop (mean ± std. dev. of 10 runs, 1 loop each)\n",
      "1.4 s ± 45.8 ms per loop (mean ± std. dev. of 10 runs, 1 loop each)\n"
     ]
    },
    {
     "data": {
      "application/vnd.jupyter.widget-view+json": {
       "model_id": "e71406e3175646ba8740d5dd27121a45",
       "version_major": 2,
       "version_minor": 0
      },
      "text/plain": [
       "  0%|          | 0/2 [00:00<?, ?it/s]"
      ]
     },
     "metadata": {},
     "output_type": "display_data"
    },
    {
     "name": "stdout",
     "output_type": "stream",
     "text": [
      "14.7 ms ± 1.54 ms per loop (mean ± std. dev. of 10 runs, 1 loop each)\n",
      "1.43 s ± 56 ms per loop (mean ± std. dev. of 10 runs, 1 loop each)\n"
     ]
    },
    {
     "data": {
      "application/vnd.jupyter.widget-view+json": {
       "model_id": "2047f39bb05f46e48bf545caa212de61",
       "version_major": 2,
       "version_minor": 0
      },
      "text/plain": [
       "  0%|          | 0/2 [00:00<?, ?it/s]"
      ]
     },
     "metadata": {},
     "output_type": "display_data"
    },
    {
     "name": "stdout",
     "output_type": "stream",
     "text": [
      "15.4 ms ± 1.05 ms per loop (mean ± std. dev. of 10 runs, 1 loop each)\n",
      "1.37 s ± 31.3 ms per loop (mean ± std. dev. of 10 runs, 1 loop each)\n"
     ]
    },
    {
     "data": {
      "application/vnd.jupyter.widget-view+json": {
       "model_id": "0c1fba3a8c6b4f63be2d9ad14faefce2",
       "version_major": 2,
       "version_minor": 0
      },
      "text/plain": [
       "  0%|          | 0/2 [00:00<?, ?it/s]"
      ]
     },
     "metadata": {},
     "output_type": "display_data"
    },
    {
     "name": "stdout",
     "output_type": "stream",
     "text": [
      "14.1 ms ± 631 µs per loop (mean ± std. dev. of 10 runs, 1 loop each)\n",
      "1.38 s ± 39.1 ms per loop (mean ± std. dev. of 10 runs, 1 loop each)\n"
     ]
    },
    {
     "data": {
      "application/vnd.jupyter.widget-view+json": {
       "model_id": "29e7a40a4e5940cb88d2272ddc9768ef",
       "version_major": 2,
       "version_minor": 0
      },
      "text/plain": [
       "  0%|          | 0/2 [00:00<?, ?it/s]"
      ]
     },
     "metadata": {},
     "output_type": "display_data"
    },
    {
     "name": "stdout",
     "output_type": "stream",
     "text": [
      "15.3 ms ± 1.28 ms per loop (mean ± std. dev. of 10 runs, 1 loop each)\n",
      "1.55 s ± 127 ms per loop (mean ± std. dev. of 10 runs, 1 loop each)\n"
     ]
    },
    {
     "data": {
      "application/vnd.jupyter.widget-view+json": {
       "model_id": "15e40d5ede264b468567e715c45c2ffc",
       "version_major": 2,
       "version_minor": 0
      },
      "text/plain": [
       "  0%|          | 0/2 [00:00<?, ?it/s]"
      ]
     },
     "metadata": {},
     "output_type": "display_data"
    },
    {
     "name": "stdout",
     "output_type": "stream",
     "text": [
      "14.6 ms ± 854 µs per loop (mean ± std. dev. of 10 runs, 1 loop each)\n",
      "1.39 s ± 62.3 ms per loop (mean ± std. dev. of 10 runs, 1 loop each)\n"
     ]
    },
    {
     "data": {
      "application/vnd.jupyter.widget-view+json": {
       "model_id": "354e145484974f5d9b447ebf9f62b8e6",
       "version_major": 2,
       "version_minor": 0
      },
      "text/plain": [
       "  0%|          | 0/2 [00:00<?, ?it/s]"
      ]
     },
     "metadata": {},
     "output_type": "display_data"
    },
    {
     "name": "stdout",
     "output_type": "stream",
     "text": [
      "14.8 ms ± 1.39 ms per loop (mean ± std. dev. of 10 runs, 1 loop each)\n"
     ]
    },
    {
     "name": "stderr",
     "output_type": "stream",
     "text": [
      "Exception ignored in: <function tqdm.__del__ at 0x7f0250414940>\n",
      "Traceback (most recent call last):\n",
      "  File \"/home/rob/.local/lib/python3.8/site-packages/tqdm/std.py\", line 1134, in __del__\n",
      "    self.close()\n",
      "  File \"/home/rob/.local/lib/python3.8/site-packages/tqdm/notebook.py\", line 280, in close\n",
      "    self.disp(bar_style='danger')\n",
      "AttributeError: 'tqdm_notebook' object has no attribute 'disp'\n"
     ]
    },
    {
     "name": "stdout",
     "output_type": "stream",
     "text": [
      "1.35 s ± 18.6 ms per loop (mean ± std. dev. of 10 runs, 1 loop each)\n"
     ]
    },
    {
     "data": {
      "application/vnd.jupyter.widget-view+json": {
       "model_id": "36ddfb6cf6ac4b449e909048902ec02d",
       "version_major": 2,
       "version_minor": 0
      },
      "text/plain": [
       "  0%|          | 0/2 [00:00<?, ?it/s]"
      ]
     },
     "metadata": {},
     "output_type": "display_data"
    },
    {
     "name": "stdout",
     "output_type": "stream",
     "text": [
      "14.2 ms ± 540 µs per loop (mean ± std. dev. of 10 runs, 1 loop each)\n",
      "1.36 s ± 13.5 ms per loop (mean ± std. dev. of 10 runs, 1 loop each)\n"
     ]
    },
    {
     "data": {
      "application/vnd.jupyter.widget-view+json": {
       "model_id": "03584ca180e447a3b9e7bb681fa4d101",
       "version_major": 2,
       "version_minor": 0
      },
      "text/plain": [
       "  0%|          | 0/2 [00:00<?, ?it/s]"
      ]
     },
     "metadata": {},
     "output_type": "display_data"
    },
    {
     "name": "stdout",
     "output_type": "stream",
     "text": [
      "14.1 ms ± 619 µs per loop (mean ± std. dev. of 10 runs, 1 loop each)\n",
      "1.36 s ± 14.3 ms per loop (mean ± std. dev. of 10 runs, 1 loop each)\n"
     ]
    },
    {
     "data": {
      "application/vnd.jupyter.widget-view+json": {
       "model_id": "c8c7fc235ed047adaca6792b41ac306e",
       "version_major": 2,
       "version_minor": 0
      },
      "text/plain": [
       "  0%|          | 0/2 [00:00<?, ?it/s]"
      ]
     },
     "metadata": {},
     "output_type": "display_data"
    },
    {
     "name": "stdout",
     "output_type": "stream",
     "text": [
      "15.5 ms ± 2.11 ms per loop (mean ± std. dev. of 10 runs, 1 loop each)\n",
      "1.35 s ± 10.4 ms per loop (mean ± std. dev. of 10 runs, 1 loop each)\n"
     ]
    },
    {
     "data": {
      "application/vnd.jupyter.widget-view+json": {
       "model_id": "e14ed58d02e24720a67065c3c9d4bf44",
       "version_major": 2,
       "version_minor": 0
      },
      "text/plain": [
       "Processing classif_features_10_samples_10000_seed_0:   0%|          | 0/10 [00:00<?, ?it/s]"
      ]
     },
     "metadata": {},
     "output_type": "display_data"
    },
    {
     "data": {
      "application/vnd.jupyter.widget-view+json": {
       "model_id": "57047b11a01c47ca95dbbe0b14087d76",
       "version_major": 2,
       "version_minor": 0
      },
      "text/plain": [
       "  0%|          | 0/2 [00:00<?, ?it/s]"
      ]
     },
     "metadata": {},
     "output_type": "display_data"
    },
    {
     "name": "stdout",
     "output_type": "stream",
     "text": [
      "16.7 ms ± 815 µs per loop (mean ± std. dev. of 10 runs, 1 loop each)\n",
      "2.1 s ± 34.2 ms per loop (mean ± std. dev. of 10 runs, 1 loop each)\n"
     ]
    },
    {
     "data": {
      "application/vnd.jupyter.widget-view+json": {
       "model_id": "d46c69a820464e82b68f558c2234f3fc",
       "version_major": 2,
       "version_minor": 0
      },
      "text/plain": [
       "  0%|          | 0/2 [00:00<?, ?it/s]"
      ]
     },
     "metadata": {},
     "output_type": "display_data"
    },
    {
     "name": "stdout",
     "output_type": "stream",
     "text": [
      "17.3 ms ± 1.7 ms per loop (mean ± std. dev. of 10 runs, 1 loop each)\n",
      "2.1 s ± 16.9 ms per loop (mean ± std. dev. of 10 runs, 1 loop each)\n"
     ]
    },
    {
     "data": {
      "application/vnd.jupyter.widget-view+json": {
       "model_id": "9f7c4ed3f9a34e769c8b871967e5cb61",
       "version_major": 2,
       "version_minor": 0
      },
      "text/plain": [
       "  0%|          | 0/2 [00:00<?, ?it/s]"
      ]
     },
     "metadata": {},
     "output_type": "display_data"
    },
    {
     "name": "stdout",
     "output_type": "stream",
     "text": [
      "17 ms ± 1.04 ms per loop (mean ± std. dev. of 10 runs, 1 loop each)\n",
      "2.11 s ± 34.3 ms per loop (mean ± std. dev. of 10 runs, 1 loop each)\n"
     ]
    },
    {
     "data": {
      "application/vnd.jupyter.widget-view+json": {
       "model_id": "8f261de5c44644d198bb1cf676b79132",
       "version_major": 2,
       "version_minor": 0
      },
      "text/plain": [
       "  0%|          | 0/2 [00:00<?, ?it/s]"
      ]
     },
     "metadata": {},
     "output_type": "display_data"
    },
    {
     "name": "stdout",
     "output_type": "stream",
     "text": [
      "17.9 ms ± 2.23 ms per loop (mean ± std. dev. of 10 runs, 1 loop each)\n",
      "2.12 s ± 27.9 ms per loop (mean ± std. dev. of 10 runs, 1 loop each)\n"
     ]
    },
    {
     "data": {
      "application/vnd.jupyter.widget-view+json": {
       "model_id": "8980789daca240068aaa02f4d62e3cf0",
       "version_major": 2,
       "version_minor": 0
      },
      "text/plain": [
       "  0%|          | 0/2 [00:00<?, ?it/s]"
      ]
     },
     "metadata": {},
     "output_type": "display_data"
    },
    {
     "name": "stdout",
     "output_type": "stream",
     "text": [
      "17.3 ms ± 2.41 ms per loop (mean ± std. dev. of 10 runs, 1 loop each)\n",
      "2.09 s ± 28.8 ms per loop (mean ± std. dev. of 10 runs, 1 loop each)\n"
     ]
    },
    {
     "data": {
      "application/vnd.jupyter.widget-view+json": {
       "model_id": "14f8d05ed3484db49b1bbbb19c285d9b",
       "version_major": 2,
       "version_minor": 0
      },
      "text/plain": [
       "  0%|          | 0/2 [00:00<?, ?it/s]"
      ]
     },
     "metadata": {},
     "output_type": "display_data"
    },
    {
     "name": "stdout",
     "output_type": "stream",
     "text": [
      "17.2 ms ± 1.31 ms per loop (mean ± std. dev. of 10 runs, 1 loop each)\n",
      "2.12 s ± 31.1 ms per loop (mean ± std. dev. of 10 runs, 1 loop each)\n"
     ]
    },
    {
     "data": {
      "application/vnd.jupyter.widget-view+json": {
       "model_id": "e73d6454edde4759ab8ee79f875d0da4",
       "version_major": 2,
       "version_minor": 0
      },
      "text/plain": [
       "  0%|          | 0/2 [00:00<?, ?it/s]"
      ]
     },
     "metadata": {},
     "output_type": "display_data"
    },
    {
     "name": "stdout",
     "output_type": "stream",
     "text": [
      "17.1 ms ± 968 µs per loop (mean ± std. dev. of 10 runs, 1 loop each)\n",
      "2.1 s ± 24 ms per loop (mean ± std. dev. of 10 runs, 1 loop each)\n"
     ]
    },
    {
     "data": {
      "application/vnd.jupyter.widget-view+json": {
       "model_id": "811e4b508e764e9caee02577aba6718a",
       "version_major": 2,
       "version_minor": 0
      },
      "text/plain": [
       "  0%|          | 0/2 [00:00<?, ?it/s]"
      ]
     },
     "metadata": {},
     "output_type": "display_data"
    },
    {
     "name": "stdout",
     "output_type": "stream",
     "text": [
      "14.5 ms ± 1.76 ms per loop (mean ± std. dev. of 10 runs, 1 loop each)\n",
      "2.15 s ± 135 ms per loop (mean ± std. dev. of 10 runs, 1 loop each)\n"
     ]
    },
    {
     "data": {
      "application/vnd.jupyter.widget-view+json": {
       "model_id": "e3cefefa4dc445859e9e54fe1ff0e136",
       "version_major": 2,
       "version_minor": 0
      },
      "text/plain": [
       "  0%|          | 0/2 [00:00<?, ?it/s]"
      ]
     },
     "metadata": {},
     "output_type": "display_data"
    },
    {
     "name": "stdout",
     "output_type": "stream",
     "text": [
      "16.3 ms ± 383 µs per loop (mean ± std. dev. of 10 runs, 1 loop each)\n",
      "2.13 s ± 57 ms per loop (mean ± std. dev. of 10 runs, 1 loop each)\n"
     ]
    },
    {
     "data": {
      "application/vnd.jupyter.widget-view+json": {
       "model_id": "33ca21c0c5eb4022955a0068c4bdd217",
       "version_major": 2,
       "version_minor": 0
      },
      "text/plain": [
       "  0%|          | 0/2 [00:00<?, ?it/s]"
      ]
     },
     "metadata": {},
     "output_type": "display_data"
    },
    {
     "name": "stdout",
     "output_type": "stream",
     "text": [
      "16.8 ms ± 1.08 ms per loop (mean ± std. dev. of 10 runs, 1 loop each)\n",
      "2.1 s ± 27.8 ms per loop (mean ± std. dev. of 10 runs, 1 loop each)\n"
     ]
    },
    {
     "data": {
      "application/vnd.jupyter.widget-view+json": {
       "model_id": "4e821cab75dd4d3eba31ceb9ade98ee7",
       "version_major": 2,
       "version_minor": 0
      },
      "text/plain": [
       "Processing classif_features_100_samples_1000_seed_0:   0%|          | 0/10 [00:00<?, ?it/s]"
      ]
     },
     "metadata": {},
     "output_type": "display_data"
    },
    {
     "data": {
      "application/vnd.jupyter.widget-view+json": {
       "model_id": "b914f6ea42004a49b17e470a354962b0",
       "version_major": 2,
       "version_minor": 0
      },
      "text/plain": [
       "  0%|          | 0/2 [00:00<?, ?it/s]"
      ]
     },
     "metadata": {},
     "output_type": "display_data"
    },
    {
     "name": "stdout",
     "output_type": "stream",
     "text": [
      "16 ms ± 988 µs per loop (mean ± std. dev. of 10 runs, 1 loop each)\n",
      "15.4 s ± 1.12 s per loop (mean ± std. dev. of 10 runs, 1 loop each)\n"
     ]
    },
    {
     "data": {
      "application/vnd.jupyter.widget-view+json": {
       "model_id": "eaa865ddcc644f3998a34768e30c4122",
       "version_major": 2,
       "version_minor": 0
      },
      "text/plain": [
       "  0%|          | 0/2 [00:00<?, ?it/s]"
      ]
     },
     "metadata": {},
     "output_type": "display_data"
    },
    {
     "name": "stdout",
     "output_type": "stream",
     "text": [
      "17.2 ms ± 3.26 ms per loop (mean ± std. dev. of 10 runs, 1 loop each)\n",
      "13.7 s ± 169 ms per loop (mean ± std. dev. of 10 runs, 1 loop each)\n"
     ]
    },
    {
     "data": {
      "application/vnd.jupyter.widget-view+json": {
       "model_id": "0defcbb1707341d7b6cb76bb60431536",
       "version_major": 2,
       "version_minor": 0
      },
      "text/plain": [
       "  0%|          | 0/2 [00:00<?, ?it/s]"
      ]
     },
     "metadata": {},
     "output_type": "display_data"
    },
    {
     "name": "stdout",
     "output_type": "stream",
     "text": [
      "15.5 ms ± 700 µs per loop (mean ± std. dev. of 10 runs, 1 loop each)\n",
      "14.6 s ± 711 ms per loop (mean ± std. dev. of 10 runs, 1 loop each)\n"
     ]
    },
    {
     "data": {
      "application/vnd.jupyter.widget-view+json": {
       "model_id": "2e53e1454fe34870b56e882e28364094",
       "version_major": 2,
       "version_minor": 0
      },
      "text/plain": [
       "  0%|          | 0/2 [00:00<?, ?it/s]"
      ]
     },
     "metadata": {},
     "output_type": "display_data"
    },
    {
     "name": "stdout",
     "output_type": "stream",
     "text": [
      "15.4 ms ± 1.52 ms per loop (mean ± std. dev. of 10 runs, 1 loop each)\n",
      "15.6 s ± 509 ms per loop (mean ± std. dev. of 10 runs, 1 loop each)\n"
     ]
    },
    {
     "data": {
      "application/vnd.jupyter.widget-view+json": {
       "model_id": "e03268931ad445c1934f36bd83a0d0bf",
       "version_major": 2,
       "version_minor": 0
      },
      "text/plain": [
       "  0%|          | 0/2 [00:00<?, ?it/s]"
      ]
     },
     "metadata": {},
     "output_type": "display_data"
    },
    {
     "name": "stdout",
     "output_type": "stream",
     "text": [
      "16.4 ms ± 1.37 ms per loop (mean ± std. dev. of 10 runs, 1 loop each)\n",
      "15 s ± 224 ms per loop (mean ± std. dev. of 10 runs, 1 loop each)\n"
     ]
    },
    {
     "data": {
      "application/vnd.jupyter.widget-view+json": {
       "model_id": "de2f7d2ca9624702beb106ad026e5075",
       "version_major": 2,
       "version_minor": 0
      },
      "text/plain": [
       "  0%|          | 0/2 [00:00<?, ?it/s]"
      ]
     },
     "metadata": {},
     "output_type": "display_data"
    },
    {
     "name": "stdout",
     "output_type": "stream",
     "text": [
      "16.4 ms ± 2.37 ms per loop (mean ± std. dev. of 10 runs, 1 loop each)\n",
      "15 s ± 349 ms per loop (mean ± std. dev. of 10 runs, 1 loop each)\n"
     ]
    },
    {
     "data": {
      "application/vnd.jupyter.widget-view+json": {
       "model_id": "902b8f13cb094c3e9606ac49fdbf5a84",
       "version_major": 2,
       "version_minor": 0
      },
      "text/plain": [
       "  0%|          | 0/2 [00:00<?, ?it/s]"
      ]
     },
     "metadata": {},
     "output_type": "display_data"
    },
    {
     "name": "stdout",
     "output_type": "stream",
     "text": [
      "16.8 ms ± 1.47 ms per loop (mean ± std. dev. of 10 runs, 1 loop each)\n",
      "14.9 s ± 194 ms per loop (mean ± std. dev. of 10 runs, 1 loop each)\n"
     ]
    },
    {
     "data": {
      "application/vnd.jupyter.widget-view+json": {
       "model_id": "00818f3872d946fca82bd4d85e9a30c2",
       "version_major": 2,
       "version_minor": 0
      },
      "text/plain": [
       "  0%|          | 0/2 [00:00<?, ?it/s]"
      ]
     },
     "metadata": {},
     "output_type": "display_data"
    },
    {
     "name": "stdout",
     "output_type": "stream",
     "text": [
      "17.1 ms ± 1.93 ms per loop (mean ± std. dev. of 10 runs, 1 loop each)\n",
      "15 s ± 554 ms per loop (mean ± std. dev. of 10 runs, 1 loop each)\n"
     ]
    },
    {
     "data": {
      "application/vnd.jupyter.widget-view+json": {
       "model_id": "0c3ffa0483404594a44e5019692f0963",
       "version_major": 2,
       "version_minor": 0
      },
      "text/plain": [
       "  0%|          | 0/2 [00:00<?, ?it/s]"
      ]
     },
     "metadata": {},
     "output_type": "display_data"
    },
    {
     "name": "stdout",
     "output_type": "stream",
     "text": [
      "15.5 ms ± 691 µs per loop (mean ± std. dev. of 10 runs, 1 loop each)\n",
      "13.8 s ± 631 ms per loop (mean ± std. dev. of 10 runs, 1 loop each)\n"
     ]
    },
    {
     "data": {
      "application/vnd.jupyter.widget-view+json": {
       "model_id": "813c20790cbd4a39873da9a2201664bb",
       "version_major": 2,
       "version_minor": 0
      },
      "text/plain": [
       "  0%|          | 0/2 [00:00<?, ?it/s]"
      ]
     },
     "metadata": {},
     "output_type": "display_data"
    },
    {
     "name": "stdout",
     "output_type": "stream",
     "text": [
      "15.6 ms ± 1.43 ms per loop (mean ± std. dev. of 10 runs, 1 loop each)\n",
      "13.4 s ± 94.1 ms per loop (mean ± std. dev. of 10 runs, 1 loop each)\n"
     ]
    },
    {
     "data": {
      "application/vnd.jupyter.widget-view+json": {
       "model_id": "3f02d72e1ad243d4b4e29eed1bc6d1dd",
       "version_major": 2,
       "version_minor": 0
      },
      "text/plain": [
       "Processing classif_features_100_samples_10000_seed_0:   0%|          | 0/10 [00:00<?, ?it/s]"
      ]
     },
     "metadata": {},
     "output_type": "display_data"
    },
    {
     "data": {
      "application/vnd.jupyter.widget-view+json": {
       "model_id": "078c0775afcc42c9a2429800524735c5",
       "version_major": 2,
       "version_minor": 0
      },
      "text/plain": [
       "  0%|          | 0/2 [00:00<?, ?it/s]"
      ]
     },
     "metadata": {},
     "output_type": "display_data"
    },
    {
     "name": "stdout",
     "output_type": "stream",
     "text": [
      "16.8 ms ± 1.46 ms per loop (mean ± std. dev. of 10 runs, 1 loop each)\n",
      "28.4 s ± 3.99 s per loop (mean ± std. dev. of 10 runs, 1 loop each)\n"
     ]
    },
    {
     "data": {
      "application/vnd.jupyter.widget-view+json": {
       "model_id": "7a1f21dec4a049a0a6ad20ed0d8b8ec0",
       "version_major": 2,
       "version_minor": 0
      },
      "text/plain": [
       "  0%|          | 0/2 [00:00<?, ?it/s]"
      ]
     },
     "metadata": {},
     "output_type": "display_data"
    },
    {
     "name": "stdout",
     "output_type": "stream",
     "text": [
      "18 ms ± 2.77 ms per loop (mean ± std. dev. of 10 runs, 1 loop each)\n",
      "28.1 s ± 2.39 s per loop (mean ± std. dev. of 10 runs, 1 loop each)\n"
     ]
    },
    {
     "data": {
      "application/vnd.jupyter.widget-view+json": {
       "model_id": "ffa991d1f8bb4616a57414739aaac2aa",
       "version_major": 2,
       "version_minor": 0
      },
      "text/plain": [
       "  0%|          | 0/2 [00:00<?, ?it/s]"
      ]
     },
     "metadata": {},
     "output_type": "display_data"
    },
    {
     "name": "stdout",
     "output_type": "stream",
     "text": [
      "16.9 ms ± 1.31 ms per loop (mean ± std. dev. of 10 runs, 1 loop each)\n",
      "25.1 s ± 113 ms per loop (mean ± std. dev. of 10 runs, 1 loop each)\n"
     ]
    },
    {
     "data": {
      "application/vnd.jupyter.widget-view+json": {
       "model_id": "4e5f50a62b00422fbbd9ac15876ce0af",
       "version_major": 2,
       "version_minor": 0
      },
      "text/plain": [
       "  0%|          | 0/2 [00:00<?, ?it/s]"
      ]
     },
     "metadata": {},
     "output_type": "display_data"
    },
    {
     "name": "stdout",
     "output_type": "stream",
     "text": [
      "17 ms ± 1.41 ms per loop (mean ± std. dev. of 10 runs, 1 loop each)\n",
      "25.3 s ± 486 ms per loop (mean ± std. dev. of 10 runs, 1 loop each)\n"
     ]
    },
    {
     "data": {
      "application/vnd.jupyter.widget-view+json": {
       "model_id": "2d8f9991e2d9404f9a1d03217022a530",
       "version_major": 2,
       "version_minor": 0
      },
      "text/plain": [
       "  0%|          | 0/2 [00:00<?, ?it/s]"
      ]
     },
     "metadata": {},
     "output_type": "display_data"
    },
    {
     "name": "stdout",
     "output_type": "stream",
     "text": [
      "17.2 ms ± 806 µs per loop (mean ± std. dev. of 10 runs, 1 loop each)\n",
      "25.1 s ± 95.3 ms per loop (mean ± std. dev. of 10 runs, 1 loop each)\n"
     ]
    },
    {
     "data": {
      "application/vnd.jupyter.widget-view+json": {
       "model_id": "b2fb0d3ce1ba4047a086d1629e1e2c08",
       "version_major": 2,
       "version_minor": 0
      },
      "text/plain": [
       "  0%|          | 0/2 [00:00<?, ?it/s]"
      ]
     },
     "metadata": {},
     "output_type": "display_data"
    },
    {
     "name": "stdout",
     "output_type": "stream",
     "text": [
      "17.3 ms ± 1.17 ms per loop (mean ± std. dev. of 10 runs, 1 loop each)\n",
      "25.2 s ± 136 ms per loop (mean ± std. dev. of 10 runs, 1 loop each)\n"
     ]
    },
    {
     "data": {
      "application/vnd.jupyter.widget-view+json": {
       "model_id": "33d7ebbeb69f42f6b96682e282a2b642",
       "version_major": 2,
       "version_minor": 0
      },
      "text/plain": [
       "  0%|          | 0/2 [00:00<?, ?it/s]"
      ]
     },
     "metadata": {},
     "output_type": "display_data"
    },
    {
     "name": "stdout",
     "output_type": "stream",
     "text": [
      "16.5 ms ± 1.36 ms per loop (mean ± std. dev. of 10 runs, 1 loop each)\n",
      "25.1 s ± 145 ms per loop (mean ± std. dev. of 10 runs, 1 loop each)\n"
     ]
    },
    {
     "data": {
      "application/vnd.jupyter.widget-view+json": {
       "model_id": "30098385458a45ae8c44744fbb825554",
       "version_major": 2,
       "version_minor": 0
      },
      "text/plain": [
       "  0%|          | 0/2 [00:00<?, ?it/s]"
      ]
     },
     "metadata": {},
     "output_type": "display_data"
    },
    {
     "name": "stdout",
     "output_type": "stream",
     "text": [
      "17 ms ± 1.67 ms per loop (mean ± std. dev. of 10 runs, 1 loop each)\n",
      "26 s ± 405 ms per loop (mean ± std. dev. of 10 runs, 1 loop each)\n"
     ]
    },
    {
     "data": {
      "application/vnd.jupyter.widget-view+json": {
       "model_id": "82f65d72147a4b4a9c7dba97db8bb180",
       "version_major": 2,
       "version_minor": 0
      },
      "text/plain": [
       "  0%|          | 0/2 [00:00<?, ?it/s]"
      ]
     },
     "metadata": {},
     "output_type": "display_data"
    },
    {
     "name": "stdout",
     "output_type": "stream",
     "text": [
      "16.8 ms ± 1.18 ms per loop (mean ± std. dev. of 10 runs, 1 loop each)\n",
      "26 s ± 108 ms per loop (mean ± std. dev. of 10 runs, 1 loop each)\n"
     ]
    },
    {
     "data": {
      "application/vnd.jupyter.widget-view+json": {
       "model_id": "7ed3daf006444d62bcbdd6d9f5c7d85f",
       "version_major": 2,
       "version_minor": 0
      },
      "text/plain": [
       "  0%|          | 0/2 [00:00<?, ?it/s]"
      ]
     },
     "metadata": {},
     "output_type": "display_data"
    },
    {
     "name": "stdout",
     "output_type": "stream",
     "text": [
      "17.1 ms ± 1.99 ms per loop (mean ± std. dev. of 10 runs, 1 loop each)\n",
      "26.4 s ± 1.57 s per loop (mean ± std. dev. of 10 runs, 1 loop each)\n"
     ]
    }
   ],
   "source": [
    "res_model = get_syn_stats_model_based(imp_types_model, datasets, dataset_states, 0.2)"
   ]
  },
  {
   "cell_type": "code",
   "execution_count": 73,
   "metadata": {},
   "outputs": [
    {
     "data": {
      "application/vnd.jupyter.widget-view+json": {
       "model_id": "5967910788e74b4296fa7b992f35706e",
       "version_major": 2,
       "version_minor": 0
      },
      "text/plain": [
       "Dataset progress:   0%|          | 0/5 [00:00<?, ?it/s]"
      ]
     },
     "metadata": {},
     "output_type": "display_data"
    },
    {
     "data": {
      "application/vnd.jupyter.widget-view+json": {
       "model_id": "f14ad6e7ac89474fae4b57d2e84ccf3e",
       "version_major": 2,
       "version_minor": 0
      },
      "text/plain": [
       "Processing classif_features_10_samples_100_seed_0:   0%|          | 0/10 [00:00<?, ?it/s]"
      ]
     },
     "metadata": {},
     "output_type": "display_data"
    },
    {
     "data": {
      "application/vnd.jupyter.widget-view+json": {
       "model_id": "32e237346aba412296abc1c7e71709fb",
       "version_major": 2,
       "version_minor": 0
      },
      "text/plain": [
       "  0%|          | 0/1 [00:00<?, ?it/s]"
      ]
     },
     "metadata": {},
     "output_type": "display_data"
    },
    {
     "name": "stdout",
     "output_type": "stream",
     "text": [
      "13.8 ms ± 4.53 ms per loop (mean ± std. dev. of 10 runs, 1 loop each)\n"
     ]
    },
    {
     "data": {
      "application/vnd.jupyter.widget-view+json": {
       "model_id": "9e1a983f946f4bcd9187891aca86bf98",
       "version_major": 2,
       "version_minor": 0
      },
      "text/plain": [
       "  0%|          | 0/1 [00:00<?, ?it/s]"
      ]
     },
     "metadata": {},
     "output_type": "display_data"
    },
    {
     "name": "stdout",
     "output_type": "stream",
     "text": [
      "10.8 ms ± 1.43 ms per loop (mean ± std. dev. of 10 runs, 1 loop each)\n"
     ]
    },
    {
     "data": {
      "application/vnd.jupyter.widget-view+json": {
       "model_id": "41acd213d26c48f28c6e27fdb413378e",
       "version_major": 2,
       "version_minor": 0
      },
      "text/plain": [
       "  0%|          | 0/1 [00:00<?, ?it/s]"
      ]
     },
     "metadata": {},
     "output_type": "display_data"
    },
    {
     "name": "stdout",
     "output_type": "stream",
     "text": [
      "10.8 ms ± 1.39 ms per loop (mean ± std. dev. of 10 runs, 1 loop each)\n"
     ]
    },
    {
     "data": {
      "application/vnd.jupyter.widget-view+json": {
       "model_id": "3508d7d5cb184051bb96fed8433bb02c",
       "version_major": 2,
       "version_minor": 0
      },
      "text/plain": [
       "  0%|          | 0/1 [00:00<?, ?it/s]"
      ]
     },
     "metadata": {},
     "output_type": "display_data"
    },
    {
     "name": "stdout",
     "output_type": "stream",
     "text": [
      "10.8 ms ± 1.39 ms per loop (mean ± std. dev. of 10 runs, 1 loop each)\n"
     ]
    },
    {
     "data": {
      "application/vnd.jupyter.widget-view+json": {
       "model_id": "d4b2cd590a834a38a44a0a0a5cbf1e2d",
       "version_major": 2,
       "version_minor": 0
      },
      "text/plain": [
       "  0%|          | 0/1 [00:00<?, ?it/s]"
      ]
     },
     "metadata": {},
     "output_type": "display_data"
    },
    {
     "name": "stdout",
     "output_type": "stream",
     "text": [
      "11.6 ms ± 1.94 ms per loop (mean ± std. dev. of 10 runs, 1 loop each)\n"
     ]
    },
    {
     "data": {
      "application/vnd.jupyter.widget-view+json": {
       "model_id": "f4ca0e94770949d8adc26e11e6e4009c",
       "version_major": 2,
       "version_minor": 0
      },
      "text/plain": [
       "  0%|          | 0/1 [00:00<?, ?it/s]"
      ]
     },
     "metadata": {},
     "output_type": "display_data"
    },
    {
     "name": "stdout",
     "output_type": "stream",
     "text": [
      "10.3 ms ± 1.12 ms per loop (mean ± std. dev. of 10 runs, 1 loop each)\n"
     ]
    },
    {
     "data": {
      "application/vnd.jupyter.widget-view+json": {
       "model_id": "8234f4acf6c54ca69c5efb7df2bb32e3",
       "version_major": 2,
       "version_minor": 0
      },
      "text/plain": [
       "  0%|          | 0/1 [00:00<?, ?it/s]"
      ]
     },
     "metadata": {},
     "output_type": "display_data"
    },
    {
     "name": "stdout",
     "output_type": "stream",
     "text": [
      "8.99 ms ± 887 µs per loop (mean ± std. dev. of 10 runs, 1 loop each)\n"
     ]
    },
    {
     "data": {
      "application/vnd.jupyter.widget-view+json": {
       "model_id": "2d94f0861a6b4d4582e6f0bb4eb25be0",
       "version_major": 2,
       "version_minor": 0
      },
      "text/plain": [
       "  0%|          | 0/1 [00:00<?, ?it/s]"
      ]
     },
     "metadata": {},
     "output_type": "display_data"
    },
    {
     "name": "stdout",
     "output_type": "stream",
     "text": [
      "11 ms ± 1.95 ms per loop (mean ± std. dev. of 10 runs, 1 loop each)\n"
     ]
    },
    {
     "data": {
      "application/vnd.jupyter.widget-view+json": {
       "model_id": "e72e4b40efdf4156a08d06a6ab528bf4",
       "version_major": 2,
       "version_minor": 0
      },
      "text/plain": [
       "  0%|          | 0/1 [00:00<?, ?it/s]"
      ]
     },
     "metadata": {},
     "output_type": "display_data"
    },
    {
     "name": "stdout",
     "output_type": "stream",
     "text": [
      "11.3 ms ± 1.82 ms per loop (mean ± std. dev. of 10 runs, 1 loop each)\n"
     ]
    },
    {
     "data": {
      "application/vnd.jupyter.widget-view+json": {
       "model_id": "8e0a6347049f4beda3d12b956622836a",
       "version_major": 2,
       "version_minor": 0
      },
      "text/plain": [
       "  0%|          | 0/1 [00:00<?, ?it/s]"
      ]
     },
     "metadata": {},
     "output_type": "display_data"
    },
    {
     "name": "stdout",
     "output_type": "stream",
     "text": [
      "12.5 ms ± 1.98 ms per loop (mean ± std. dev. of 10 runs, 1 loop each)\n"
     ]
    },
    {
     "data": {
      "application/vnd.jupyter.widget-view+json": {
       "model_id": "1e86361baace41da9b919e9761f2707b",
       "version_major": 2,
       "version_minor": 0
      },
      "text/plain": [
       "Processing classif_features_10_samples_1000_seed_0:   0%|          | 0/10 [00:00<?, ?it/s]"
      ]
     },
     "metadata": {},
     "output_type": "display_data"
    },
    {
     "data": {
      "application/vnd.jupyter.widget-view+json": {
       "model_id": "55c475328dc845d4bc3f11e610a1d882",
       "version_major": 2,
       "version_minor": 0
      },
      "text/plain": [
       "  0%|          | 0/1 [00:00<?, ?it/s]"
      ]
     },
     "metadata": {},
     "output_type": "display_data"
    },
    {
     "name": "stdout",
     "output_type": "stream",
     "text": [
      "446 ms ± 8.42 ms per loop (mean ± std. dev. of 10 runs, 1 loop each)\n"
     ]
    },
    {
     "data": {
      "application/vnd.jupyter.widget-view+json": {
       "model_id": "d2ef43485f1e4bcdafbcfc44a41986bb",
       "version_major": 2,
       "version_minor": 0
      },
      "text/plain": [
       "  0%|          | 0/1 [00:00<?, ?it/s]"
      ]
     },
     "metadata": {},
     "output_type": "display_data"
    },
    {
     "name": "stdout",
     "output_type": "stream",
     "text": [
      "449 ms ± 3.87 ms per loop (mean ± std. dev. of 10 runs, 1 loop each)\n"
     ]
    },
    {
     "data": {
      "application/vnd.jupyter.widget-view+json": {
       "model_id": "5e9437ce97b046198f0ccebd832dcc01",
       "version_major": 2,
       "version_minor": 0
      },
      "text/plain": [
       "  0%|          | 0/1 [00:00<?, ?it/s]"
      ]
     },
     "metadata": {},
     "output_type": "display_data"
    },
    {
     "name": "stdout",
     "output_type": "stream",
     "text": [
      "400 ms ± 2.02 ms per loop (mean ± std. dev. of 10 runs, 1 loop each)\n"
     ]
    },
    {
     "data": {
      "application/vnd.jupyter.widget-view+json": {
       "model_id": "d8a15fa2554d4444a75ee406f5967a84",
       "version_major": 2,
       "version_minor": 0
      },
      "text/plain": [
       "  0%|          | 0/1 [00:00<?, ?it/s]"
      ]
     },
     "metadata": {},
     "output_type": "display_data"
    },
    {
     "name": "stdout",
     "output_type": "stream",
     "text": [
      "417 ms ± 2.44 ms per loop (mean ± std. dev. of 10 runs, 1 loop each)\n"
     ]
    },
    {
     "data": {
      "application/vnd.jupyter.widget-view+json": {
       "model_id": "6bf7439c420d4aadab872542ab2c7f8e",
       "version_major": 2,
       "version_minor": 0
      },
      "text/plain": [
       "  0%|          | 0/1 [00:00<?, ?it/s]"
      ]
     },
     "metadata": {},
     "output_type": "display_data"
    },
    {
     "name": "stdout",
     "output_type": "stream",
     "text": [
      "392 ms ± 2.4 ms per loop (mean ± std. dev. of 10 runs, 1 loop each)\n"
     ]
    },
    {
     "data": {
      "application/vnd.jupyter.widget-view+json": {
       "model_id": "4c2b9ea2469542e282585192543a565d",
       "version_major": 2,
       "version_minor": 0
      },
      "text/plain": [
       "  0%|          | 0/1 [00:00<?, ?it/s]"
      ]
     },
     "metadata": {},
     "output_type": "display_data"
    },
    {
     "name": "stdout",
     "output_type": "stream",
     "text": [
      "438 ms ± 13.7 ms per loop (mean ± std. dev. of 10 runs, 1 loop each)\n"
     ]
    },
    {
     "data": {
      "application/vnd.jupyter.widget-view+json": {
       "model_id": "cd637fbf383746ff9c2d6532bd563192",
       "version_major": 2,
       "version_minor": 0
      },
      "text/plain": [
       "  0%|          | 0/1 [00:00<?, ?it/s]"
      ]
     },
     "metadata": {},
     "output_type": "display_data"
    },
    {
     "name": "stdout",
     "output_type": "stream",
     "text": [
      "434 ms ± 2.3 ms per loop (mean ± std. dev. of 10 runs, 1 loop each)\n"
     ]
    },
    {
     "data": {
      "application/vnd.jupyter.widget-view+json": {
       "model_id": "571c7094e2774d94adbe9dc9352429f7",
       "version_major": 2,
       "version_minor": 0
      },
      "text/plain": [
       "  0%|          | 0/1 [00:00<?, ?it/s]"
      ]
     },
     "metadata": {},
     "output_type": "display_data"
    },
    {
     "name": "stdout",
     "output_type": "stream",
     "text": [
      "382 ms ± 2.22 ms per loop (mean ± std. dev. of 10 runs, 1 loop each)\n"
     ]
    },
    {
     "data": {
      "application/vnd.jupyter.widget-view+json": {
       "model_id": "4b7edaacb7f846f2a5f956e16dd3d264",
       "version_major": 2,
       "version_minor": 0
      },
      "text/plain": [
       "  0%|          | 0/1 [00:00<?, ?it/s]"
      ]
     },
     "metadata": {},
     "output_type": "display_data"
    },
    {
     "name": "stdout",
     "output_type": "stream",
     "text": [
      "440 ms ± 2.93 ms per loop (mean ± std. dev. of 10 runs, 1 loop each)\n"
     ]
    },
    {
     "data": {
      "application/vnd.jupyter.widget-view+json": {
       "model_id": "5386521228c54aa9ad8e66a33e1ac0ea",
       "version_major": 2,
       "version_minor": 0
      },
      "text/plain": [
       "  0%|          | 0/1 [00:00<?, ?it/s]"
      ]
     },
     "metadata": {},
     "output_type": "display_data"
    },
    {
     "name": "stdout",
     "output_type": "stream",
     "text": [
      "453 ms ± 6.18 ms per loop (mean ± std. dev. of 10 runs, 1 loop each)\n"
     ]
    },
    {
     "data": {
      "application/vnd.jupyter.widget-view+json": {
       "model_id": "d73d73104e5d475089c8ac7003da11a0",
       "version_major": 2,
       "version_minor": 0
      },
      "text/plain": [
       "Processing classif_features_10_samples_10000_seed_0:   0%|          | 0/10 [00:00<?, ?it/s]"
      ]
     },
     "metadata": {},
     "output_type": "display_data"
    },
    {
     "data": {
      "application/vnd.jupyter.widget-view+json": {
       "model_id": "dc6139218a434028b86328e304a55de8",
       "version_major": 2,
       "version_minor": 0
      },
      "text/plain": [
       "  0%|          | 0/1 [00:00<?, ?it/s]"
      ]
     },
     "metadata": {},
     "output_type": "display_data"
    },
    {
     "name": "stdout",
     "output_type": "stream",
     "text": [
      "skipping the execution of classif_features_10_samples_10000_seed_0 because of Function get_shap_fi timed out after 10.0 seconds\n"
     ]
    },
    {
     "data": {
      "application/vnd.jupyter.widget-view+json": {
       "model_id": "28d20775a980447698e6d9f5e11c211a",
       "version_major": 2,
       "version_minor": 0
      },
      "text/plain": [
       "Processing classif_features_100_samples_1000_seed_0:   0%|          | 0/10 [00:00<?, ?it/s]"
      ]
     },
     "metadata": {},
     "output_type": "display_data"
    },
    {
     "data": {
      "application/vnd.jupyter.widget-view+json": {
       "model_id": "9c3e8bb1d3c24ac2b9337d98e1aacc89",
       "version_major": 2,
       "version_minor": 0
      },
      "text/plain": [
       "  0%|          | 0/1 [00:00<?, ?it/s]"
      ]
     },
     "metadata": {},
     "output_type": "display_data"
    },
    {
     "name": "stdout",
     "output_type": "stream",
     "text": [
      "skipping the execution of classif_features_100_samples_1000_seed_0 because of Function get_shap_fi timed out after 10.0 seconds\n"
     ]
    },
    {
     "data": {
      "application/vnd.jupyter.widget-view+json": {
       "model_id": "323b3eae9e1a4c1baac187224b3d9d2e",
       "version_major": 2,
       "version_minor": 0
      },
      "text/plain": [
       "Processing classif_features_100_samples_10000_seed_0:   0%|          | 0/10 [00:00<?, ?it/s]"
      ]
     },
     "metadata": {},
     "output_type": "display_data"
    },
    {
     "data": {
      "application/vnd.jupyter.widget-view+json": {
       "model_id": "1f2862a225734564a4c1af1f92ae3259",
       "version_major": 2,
       "version_minor": 0
      },
      "text/plain": [
       "  0%|          | 0/1 [00:00<?, ?it/s]"
      ]
     },
     "metadata": {},
     "output_type": "display_data"
    },
    {
     "name": "stdout",
     "output_type": "stream",
     "text": [
      "skipping the execution of classif_features_100_samples_10000_seed_0 because of Function get_shap_fi timed out after 10.0 seconds\n"
     ]
    }
   ],
   "source": [
    "# shap is slow, need timeout sig to stop process\n",
    "res_shap = get_syn_stats_shap_based(['shap'], datasets, dataset_states, 0.2)"
   ]
  },
  {
   "cell_type": "code",
   "execution_count": 74,
   "metadata": {},
   "outputs": [],
   "source": [
    "frames = [res_data, res_model, res_shap]"
   ]
  },
  {
   "cell_type": "code",
   "execution_count": 75,
   "metadata": {},
   "outputs": [],
   "source": [
    "final_df = pd.concat(frames);"
   ]
  },
  {
   "cell_type": "code",
   "execution_count": 76,
   "metadata": {},
   "outputs": [
    {
     "data": {
      "text/html": [
       "<div>\n",
       "<style scoped>\n",
       "    .dataframe tbody tr th:only-of-type {\n",
       "        vertical-align: middle;\n",
       "    }\n",
       "\n",
       "    .dataframe tbody tr th {\n",
       "        vertical-align: top;\n",
       "    }\n",
       "\n",
       "    .dataframe thead th {\n",
       "        text-align: right;\n",
       "    }\n",
       "</style>\n",
       "<table border=\"1\" class=\"dataframe\">\n",
       "  <thead>\n",
       "    <tr style=\"text-align: right;\">\n",
       "      <th></th>\n",
       "      <th>dataset</th>\n",
       "      <th>imp_type</th>\n",
       "      <th>random_state</th>\n",
       "      <th>data_split</th>\n",
       "      <th>fi_order</th>\n",
       "      <th>fi_selected</th>\n",
       "      <th>timings</th>\n",
       "    </tr>\n",
       "  </thead>\n",
       "  <tbody>\n",
       "    <tr>\n",
       "      <th>0</th>\n",
       "      <td>classif_features_10_samples_100_seed_0</td>\n",
       "      <td>mutual_info</td>\n",
       "      <td>0</td>\n",
       "      <td>0</td>\n",
       "      <td>[1, 5, 9, 7, 0, 2, 3, 4, 6, 8]</td>\n",
       "      <td>[1, 5]</td>\n",
       "      <td>[0.030104098999800044, 0.02757260100042913, 0....</td>\n",
       "    </tr>\n",
       "    <tr>\n",
       "      <th>1</th>\n",
       "      <td>classif_features_10_samples_100_seed_0</td>\n",
       "      <td>f_test</td>\n",
       "      <td>0</td>\n",
       "      <td>0</td>\n",
       "      <td>[1, 2, 7, 4, 3, 6, 5, 0, 9, 8]</td>\n",
       "      <td>[1, 2]</td>\n",
       "      <td>[0.0019199010002921568, 0.001570456999615999, ...</td>\n",
       "    </tr>\n",
       "    <tr>\n",
       "      <th>2</th>\n",
       "      <td>classif_features_10_samples_100_seed_0</td>\n",
       "      <td>pearson</td>\n",
       "      <td>0</td>\n",
       "      <td>0</td>\n",
       "      <td>[1, 2, 7, 4, 3, 6, 5, 0, 9, 8]</td>\n",
       "      <td>[1, 2]</td>\n",
       "      <td>[0.002370285999859334, 0.001950051000676467, 0...</td>\n",
       "    </tr>\n",
       "    <tr>\n",
       "      <th>3</th>\n",
       "      <td>classif_features_10_samples_100_seed_0</td>\n",
       "      <td>spearman</td>\n",
       "      <td>0</td>\n",
       "      <td>0</td>\n",
       "      <td>[1, 4, 2, 3, 7, 5, 6, 9, 0, 8]</td>\n",
       "      <td>[1, 4]</td>\n",
       "      <td>[0.0026753900001494912, 0.002591398000731715, ...</td>\n",
       "    </tr>\n",
       "    <tr>\n",
       "      <th>4</th>\n",
       "      <td>classif_features_10_samples_100_seed_0</td>\n",
       "      <td>kendall</td>\n",
       "      <td>0</td>\n",
       "      <td>0</td>\n",
       "      <td>[1, 4, 2, 3, 7, 5, 6, 9, 0, 8]</td>\n",
       "      <td>[1, 4]</td>\n",
       "      <td>[0.01813015900006576, 0.016762551998908748, 0....</td>\n",
       "    </tr>\n",
       "    <tr>\n",
       "      <th>...</th>\n",
       "      <td>...</td>\n",
       "      <td>...</td>\n",
       "      <td>...</td>\n",
       "      <td>...</td>\n",
       "      <td>...</td>\n",
       "      <td>...</td>\n",
       "      <td>...</td>\n",
       "    </tr>\n",
       "    <tr>\n",
       "      <th>15</th>\n",
       "      <td>classif_features_10_samples_1000_seed_0</td>\n",
       "      <td>shap</td>\n",
       "      <td>0</td>\n",
       "      <td>5</td>\n",
       "      <td>[1, 0, 8, 6, 3, 7, 9, 2, 4, 5]</td>\n",
       "      <td>[1, 0]</td>\n",
       "      <td>[0.4789532600007078, 0.4347276909975335, 0.433...</td>\n",
       "    </tr>\n",
       "    <tr>\n",
       "      <th>16</th>\n",
       "      <td>classif_features_10_samples_1000_seed_0</td>\n",
       "      <td>shap</td>\n",
       "      <td>0</td>\n",
       "      <td>6</td>\n",
       "      <td>[1, 0, 6, 5, 7, 4, 9, 2, 8, 3]</td>\n",
       "      <td>[1, 0]</td>\n",
       "      <td>[0.43566127400117693, 0.43838538199997856, 0.4...</td>\n",
       "    </tr>\n",
       "    <tr>\n",
       "      <th>17</th>\n",
       "      <td>classif_features_10_samples_1000_seed_0</td>\n",
       "      <td>shap</td>\n",
       "      <td>0</td>\n",
       "      <td>7</td>\n",
       "      <td>[1, 0, 6, 8, 3, 9, 5, 4, 2, 7]</td>\n",
       "      <td>[1, 0]</td>\n",
       "      <td>[0.3879009540032712, 0.3809254849984427, 0.380...</td>\n",
       "    </tr>\n",
       "    <tr>\n",
       "      <th>18</th>\n",
       "      <td>classif_features_10_samples_1000_seed_0</td>\n",
       "      <td>shap</td>\n",
       "      <td>0</td>\n",
       "      <td>8</td>\n",
       "      <td>[1, 0, 3, 5, 8, 9, 7, 2, 6, 4]</td>\n",
       "      <td>[1, 0]</td>\n",
       "      <td>[0.44764364100046805, 0.43974558300033095, 0.4...</td>\n",
       "    </tr>\n",
       "    <tr>\n",
       "      <th>19</th>\n",
       "      <td>classif_features_10_samples_1000_seed_0</td>\n",
       "      <td>shap</td>\n",
       "      <td>0</td>\n",
       "      <td>9</td>\n",
       "      <td>[1, 0, 8, 7, 6, 9, 4, 2, 5, 3]</td>\n",
       "      <td>[1, 0]</td>\n",
       "      <td>[0.4482869709972874, 0.44478416799756815, 0.44...</td>\n",
       "    </tr>\n",
       "  </tbody>\n",
       "</table>\n",
       "<p>420 rows × 7 columns</p>\n",
       "</div>"
      ],
      "text/plain": [
       "                                    dataset     imp_type  random_state  \\\n",
       "0    classif_features_10_samples_100_seed_0  mutual_info             0   \n",
       "1    classif_features_10_samples_100_seed_0       f_test             0   \n",
       "2    classif_features_10_samples_100_seed_0      pearson             0   \n",
       "3    classif_features_10_samples_100_seed_0     spearman             0   \n",
       "4    classif_features_10_samples_100_seed_0      kendall             0   \n",
       "..                                      ...          ...           ...   \n",
       "15  classif_features_10_samples_1000_seed_0         shap             0   \n",
       "16  classif_features_10_samples_1000_seed_0         shap             0   \n",
       "17  classif_features_10_samples_1000_seed_0         shap             0   \n",
       "18  classif_features_10_samples_1000_seed_0         shap             0   \n",
       "19  classif_features_10_samples_1000_seed_0         shap             0   \n",
       "\n",
       "    data_split                        fi_order fi_selected  \\\n",
       "0            0  [1, 5, 9, 7, 0, 2, 3, 4, 6, 8]      [1, 5]   \n",
       "1            0  [1, 2, 7, 4, 3, 6, 5, 0, 9, 8]      [1, 2]   \n",
       "2            0  [1, 2, 7, 4, 3, 6, 5, 0, 9, 8]      [1, 2]   \n",
       "3            0  [1, 4, 2, 3, 7, 5, 6, 9, 0, 8]      [1, 4]   \n",
       "4            0  [1, 4, 2, 3, 7, 5, 6, 9, 0, 8]      [1, 4]   \n",
       "..         ...                             ...         ...   \n",
       "15           5  [1, 0, 8, 6, 3, 7, 9, 2, 4, 5]      [1, 0]   \n",
       "16           6  [1, 0, 6, 5, 7, 4, 9, 2, 8, 3]      [1, 0]   \n",
       "17           7  [1, 0, 6, 8, 3, 9, 5, 4, 2, 7]      [1, 0]   \n",
       "18           8  [1, 0, 3, 5, 8, 9, 7, 2, 6, 4]      [1, 0]   \n",
       "19           9  [1, 0, 8, 7, 6, 9, 4, 2, 5, 3]      [1, 0]   \n",
       "\n",
       "                                              timings  \n",
       "0   [0.030104098999800044, 0.02757260100042913, 0....  \n",
       "1   [0.0019199010002921568, 0.001570456999615999, ...  \n",
       "2   [0.002370285999859334, 0.001950051000676467, 0...  \n",
       "3   [0.0026753900001494912, 0.002591398000731715, ...  \n",
       "4   [0.01813015900006576, 0.016762551998908748, 0....  \n",
       "..                                                ...  \n",
       "15  [0.4789532600007078, 0.4347276909975335, 0.433...  \n",
       "16  [0.43566127400117693, 0.43838538199997856, 0.4...  \n",
       "17  [0.3879009540032712, 0.3809254849984427, 0.380...  \n",
       "18  [0.44764364100046805, 0.43974558300033095, 0.4...  \n",
       "19  [0.4482869709972874, 0.44478416799756815, 0.44...  \n",
       "\n",
       "[420 rows x 7 columns]"
      ]
     },
     "execution_count": 76,
     "metadata": {},
     "output_type": "execute_result"
    }
   ],
   "source": [
    "final_df"
   ]
  },
  {
   "cell_type": "code",
   "execution_count": 77,
   "metadata": {},
   "outputs": [],
   "source": [
    "# export results to local dir as csv file\n",
    "final_df.to_csv(f'classification_synthethic_data_{datetime.today().strftime(\"%Y-%b-%d-%H:%M:%S\")}.csv',\n",
    "             index=False)"
   ]
  },
  {
   "cell_type": "code",
   "execution_count": 62,
   "metadata": {},
   "outputs": [],
   "source": [
    "## plots\n",
    "# import seaborn as sns\n",
    "# plot = sns.lineplot(x='iteration', y='mcc_test', hue='imp_type',\n",
    "#             data=df_res.query('''model == \"XGBClassifier\"''')\n",
    "#             )\n",
    "\n",
    "# plot = sns.lineplot(x='iteration', y='mcc_test', hue='imp_type',\n",
    "#             data=df_res.query('''model == \"DecisionTreeClassifier\"''')\n",
    "#             )\n",
    "\n",
    "# plot = sns.lineplot(x='iteration', y='mcc_test', hue='imp_type',\n",
    "#             data=df_res.query('''model == \"RandomForestClassifier\"''')\n",
    "#             )"
   ]
  },
  {
   "cell_type": "code",
   "execution_count": 250,
   "metadata": {},
   "outputs": [],
   "source": [
    "# export results to local dir as csv file\n",
    "# df_res.to_csv(f'classification_synthethic_data_{datetime.today().strftime(\"%Y-%b-%d-%H:%M:%S\")}.csv',\n",
    "#              index=False)"
   ]
  }
 ],
 "metadata": {
  "kernelspec": {
   "display_name": "Python 3",
   "language": "python",
   "name": "python3"
  },
  "language_info": {
   "codemirror_mode": {
    "name": "ipython",
    "version": 3
   },
   "file_extension": ".py",
   "mimetype": "text/x-python",
   "name": "python",
   "nbconvert_exporter": "python",
   "pygments_lexer": "ipython3",
   "version": "3.8.10"
  }
 },
 "nbformat": 4,
 "nbformat_minor": 4
}
