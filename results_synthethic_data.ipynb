{
 "cells": [
  {
   "cell_type": "code",
   "execution_count": 354,
   "metadata": {},
   "outputs": [],
   "source": [
    "import pandas as pd\n",
    "import seaborn as sns\n",
    "import numpy as np\n",
    "import glob\n",
    "import re"
   ]
  },
  {
   "cell_type": "code",
   "execution_count": 355,
   "metadata": {},
   "outputs": [],
   "source": [
    "res_glob = glob.glob('./*synthethic*.csv*')\n",
    "res_glob_names = [val.split('/')[-1] for val in res_glob]"
   ]
  },
  {
   "cell_type": "code",
   "execution_count": 356,
   "metadata": {},
   "outputs": [
    {
     "data": {
      "text/plain": [
       "['./regression_synthethic_data.csv', './classification_synthethic_data.csv']"
      ]
     },
     "execution_count": 356,
     "metadata": {},
     "output_type": "execute_result"
    }
   ],
   "source": [
    "res_glob"
   ]
  },
  {
   "cell_type": "code",
   "execution_count": 391,
   "metadata": {},
   "outputs": [],
   "source": [
    "lst_dfs = [f for f in res_glob_names]"
   ]
  },
  {
   "cell_type": "code",
   "execution_count": 392,
   "metadata": {},
   "outputs": [],
   "source": [
    "lst_dfs = [pd.read_csv(f) for f in res_glob_names]"
   ]
  },
  {
   "cell_type": "code",
   "execution_count": 393,
   "metadata": {},
   "outputs": [],
   "source": [
    "df_full = pd.concat(lst_dfs)"
   ]
  },
  {
   "cell_type": "code",
   "execution_count": 394,
   "metadata": {},
   "outputs": [
    {
     "data": {
      "text/plain": [
       "array(['regr_features_10_samples_100_seed_0',\n",
       "       'regr_features_10_samples_1000_seed_0',\n",
       "       'regr_features_10_samples_10000_seed_0',\n",
       "       'regr_features_100_samples_1000_seed_0',\n",
       "       'regr_features_100_samples_10000_seed_0',\n",
       "       'classif_features_10_samples_100_seed_0',\n",
       "       'classif_features_10_samples_1000_seed_0',\n",
       "       'classif_features_10_samples_10000_seed_0',\n",
       "       'classif_features_100_samples_1000_seed_0',\n",
       "       'classif_features_100_samples_10000_seed_0'], dtype=object)"
      ]
     },
     "execution_count": 394,
     "metadata": {},
     "output_type": "execute_result"
    }
   ],
   "source": [
    "df_full.dataset.unique()"
   ]
  },
  {
   "cell_type": "code",
   "execution_count": 395,
   "metadata": {},
   "outputs": [
    {
     "data": {
      "text/html": [
       "<div>\n",
       "<style scoped>\n",
       "    .dataframe tbody tr th:only-of-type {\n",
       "        vertical-align: middle;\n",
       "    }\n",
       "\n",
       "    .dataframe tbody tr th {\n",
       "        vertical-align: top;\n",
       "    }\n",
       "\n",
       "    .dataframe thead th {\n",
       "        text-align: right;\n",
       "    }\n",
       "</style>\n",
       "<table border=\"1\" class=\"dataframe\">\n",
       "  <thead>\n",
       "    <tr style=\"text-align: right;\">\n",
       "      <th></th>\n",
       "      <th>dataset</th>\n",
       "      <th>imp_type</th>\n",
       "      <th>random_state</th>\n",
       "      <th>data_split</th>\n",
       "      <th>fi_order</th>\n",
       "      <th>fi_selected</th>\n",
       "      <th>timings</th>\n",
       "    </tr>\n",
       "  </thead>\n",
       "  <tbody>\n",
       "    <tr>\n",
       "      <th>0</th>\n",
       "      <td>regr_features_10_samples_100_seed_0</td>\n",
       "      <td>mutual_info</td>\n",
       "      <td>0</td>\n",
       "      <td>0</td>\n",
       "      <td>[0, 1, 6, 3, 8, 7, 4, 2, 5, 9]</td>\n",
       "      <td>[0, 1]</td>\n",
       "      <td>[0.0136933  0.0122165  0.0132788  0.01470369 0...</td>\n",
       "    </tr>\n",
       "    <tr>\n",
       "      <th>1</th>\n",
       "      <td>regr_features_10_samples_100_seed_0</td>\n",
       "      <td>f_test</td>\n",
       "      <td>0</td>\n",
       "      <td>0</td>\n",
       "      <td>[0, 1, 6, 9, 8, 4, 2, 3, 5, 7]</td>\n",
       "      <td>[0, 1]</td>\n",
       "      <td>[0.001821   0.00179793 0.00162894 0.00153707 0...</td>\n",
       "    </tr>\n",
       "    <tr>\n",
       "      <th>2</th>\n",
       "      <td>regr_features_10_samples_100_seed_0</td>\n",
       "      <td>pearson</td>\n",
       "      <td>0</td>\n",
       "      <td>0</td>\n",
       "      <td>[0, 1, 6, 9, 8, 4, 2, 3, 5, 7]</td>\n",
       "      <td>[0, 1]</td>\n",
       "      <td>[0.00230209 0.00175082 0.00193131 0.00205105 0...</td>\n",
       "    </tr>\n",
       "    <tr>\n",
       "      <th>3</th>\n",
       "      <td>regr_features_10_samples_100_seed_0</td>\n",
       "      <td>spearman</td>\n",
       "      <td>0</td>\n",
       "      <td>0</td>\n",
       "      <td>[0, 1, 6, 8, 4, 9, 2, 3, 7, 5]</td>\n",
       "      <td>[0, 1]</td>\n",
       "      <td>[0.00247468 0.00336982 0.00261929 0.0022625  0...</td>\n",
       "    </tr>\n",
       "    <tr>\n",
       "      <th>4</th>\n",
       "      <td>regr_features_10_samples_100_seed_0</td>\n",
       "      <td>kendall</td>\n",
       "      <td>0</td>\n",
       "      <td>0</td>\n",
       "      <td>[0, 1, 6, 8, 4, 9, 2, 3, 7, 5]</td>\n",
       "      <td>[0, 1]</td>\n",
       "      <td>[0.01518707 0.01486127 0.01474847 0.0148518  0...</td>\n",
       "    </tr>\n",
       "    <tr>\n",
       "      <th>...</th>\n",
       "      <td>...</td>\n",
       "      <td>...</td>\n",
       "      <td>...</td>\n",
       "      <td>...</td>\n",
       "      <td>...</td>\n",
       "      <td>...</td>\n",
       "      <td>...</td>\n",
       "    </tr>\n",
       "    <tr>\n",
       "      <th>415</th>\n",
       "      <td>classif_features_10_samples_1000_seed_0</td>\n",
       "      <td>shap</td>\n",
       "      <td>0</td>\n",
       "      <td>5</td>\n",
       "      <td>[1, 0, 8, 6, 3, 7, 9, 2, 4, 5]</td>\n",
       "      <td>[1, 0]</td>\n",
       "      <td>[0.47895326 0.43472769 0.43348402 0.43308727 0...</td>\n",
       "    </tr>\n",
       "    <tr>\n",
       "      <th>416</th>\n",
       "      <td>classif_features_10_samples_1000_seed_0</td>\n",
       "      <td>shap</td>\n",
       "      <td>0</td>\n",
       "      <td>6</td>\n",
       "      <td>[1, 0, 6, 5, 7, 4, 9, 2, 8, 3]</td>\n",
       "      <td>[1, 0]</td>\n",
       "      <td>[0.43566127 0.43838538 0.43530704 0.43629178 0...</td>\n",
       "    </tr>\n",
       "    <tr>\n",
       "      <th>417</th>\n",
       "      <td>classif_features_10_samples_1000_seed_0</td>\n",
       "      <td>shap</td>\n",
       "      <td>0</td>\n",
       "      <td>7</td>\n",
       "      <td>[1, 0, 6, 8, 3, 9, 5, 4, 2, 7]</td>\n",
       "      <td>[1, 0]</td>\n",
       "      <td>[0.38790095 0.38092548 0.3806996  0.3822947  0...</td>\n",
       "    </tr>\n",
       "    <tr>\n",
       "      <th>418</th>\n",
       "      <td>classif_features_10_samples_1000_seed_0</td>\n",
       "      <td>shap</td>\n",
       "      <td>0</td>\n",
       "      <td>8</td>\n",
       "      <td>[1, 0, 3, 5, 8, 9, 7, 2, 6, 4]</td>\n",
       "      <td>[1, 0]</td>\n",
       "      <td>[0.44764364 0.43974558 0.43852804 0.4382532  0...</td>\n",
       "    </tr>\n",
       "    <tr>\n",
       "      <th>419</th>\n",
       "      <td>classif_features_10_samples_1000_seed_0</td>\n",
       "      <td>shap</td>\n",
       "      <td>0</td>\n",
       "      <td>9</td>\n",
       "      <td>[1, 0, 8, 7, 6, 9, 4, 2, 5, 3]</td>\n",
       "      <td>[1, 0]</td>\n",
       "      <td>[0.44828697 0.44478417 0.44977725 0.45047608 0...</td>\n",
       "    </tr>\n",
       "  </tbody>\n",
       "</table>\n",
       "<p>840 rows × 7 columns</p>\n",
       "</div>"
      ],
      "text/plain": [
       "                                     dataset     imp_type  random_state  \\\n",
       "0        regr_features_10_samples_100_seed_0  mutual_info             0   \n",
       "1        regr_features_10_samples_100_seed_0       f_test             0   \n",
       "2        regr_features_10_samples_100_seed_0      pearson             0   \n",
       "3        regr_features_10_samples_100_seed_0     spearman             0   \n",
       "4        regr_features_10_samples_100_seed_0      kendall             0   \n",
       "..                                       ...          ...           ...   \n",
       "415  classif_features_10_samples_1000_seed_0         shap             0   \n",
       "416  classif_features_10_samples_1000_seed_0         shap             0   \n",
       "417  classif_features_10_samples_1000_seed_0         shap             0   \n",
       "418  classif_features_10_samples_1000_seed_0         shap             0   \n",
       "419  classif_features_10_samples_1000_seed_0         shap             0   \n",
       "\n",
       "     data_split                        fi_order fi_selected  \\\n",
       "0             0  [0, 1, 6, 3, 8, 7, 4, 2, 5, 9]      [0, 1]   \n",
       "1             0  [0, 1, 6, 9, 8, 4, 2, 3, 5, 7]      [0, 1]   \n",
       "2             0  [0, 1, 6, 9, 8, 4, 2, 3, 5, 7]      [0, 1]   \n",
       "3             0  [0, 1, 6, 8, 4, 9, 2, 3, 7, 5]      [0, 1]   \n",
       "4             0  [0, 1, 6, 8, 4, 9, 2, 3, 7, 5]      [0, 1]   \n",
       "..          ...                             ...         ...   \n",
       "415           5  [1, 0, 8, 6, 3, 7, 9, 2, 4, 5]      [1, 0]   \n",
       "416           6  [1, 0, 6, 5, 7, 4, 9, 2, 8, 3]      [1, 0]   \n",
       "417           7  [1, 0, 6, 8, 3, 9, 5, 4, 2, 7]      [1, 0]   \n",
       "418           8  [1, 0, 3, 5, 8, 9, 7, 2, 6, 4]      [1, 0]   \n",
       "419           9  [1, 0, 8, 7, 6, 9, 4, 2, 5, 3]      [1, 0]   \n",
       "\n",
       "                                               timings  \n",
       "0    [0.0136933  0.0122165  0.0132788  0.01470369 0...  \n",
       "1    [0.001821   0.00179793 0.00162894 0.00153707 0...  \n",
       "2    [0.00230209 0.00175082 0.00193131 0.00205105 0...  \n",
       "3    [0.00247468 0.00336982 0.00261929 0.0022625  0...  \n",
       "4    [0.01518707 0.01486127 0.01474847 0.0148518  0...  \n",
       "..                                                 ...  \n",
       "415  [0.47895326 0.43472769 0.43348402 0.43308727 0...  \n",
       "416  [0.43566127 0.43838538 0.43530704 0.43629178 0...  \n",
       "417  [0.38790095 0.38092548 0.3806996  0.3822947  0...  \n",
       "418  [0.44764364 0.43974558 0.43852804 0.4382532  0...  \n",
       "419  [0.44828697 0.44478417 0.44977725 0.45047608 0...  \n",
       "\n",
       "[840 rows x 7 columns]"
      ]
     },
     "execution_count": 395,
     "metadata": {},
     "output_type": "execute_result"
    }
   ],
   "source": [
    "df_full"
   ]
  },
  {
   "cell_type": "code",
   "execution_count": 361,
   "metadata": {},
   "outputs": [],
   "source": [
    "# elem = re.findall(\"\\d+\\.\\d+\", test)\n",
    "\n",
    "# np.array([float(i) for i in elem])\n",
    "\n",
    "# test = df_full.iloc[0].timings"
   ]
  },
  {
   "cell_type": "code",
   "execution_count": 396,
   "metadata": {},
   "outputs": [],
   "source": [
    "def str_to_float(arr):\n",
    "    floats_str = re.findall(\"\\d+\\.\\d+\", arr)\n",
    "    floats = [float(i) for i in floats_str]\n",
    "    return np.array(floats)"
   ]
  },
  {
   "cell_type": "code",
   "execution_count": 397,
   "metadata": {},
   "outputs": [],
   "source": [
    "def cast_to_int(arr):\n",
    "    digits_str = re.findall('\\d{1,2}', arr)\n",
    "    digits_int = [int(i) for i in digits_str]\n",
    "#     info_found = np.array([1 if i <= info_cnt else 0 for i in digits_int]).sum()\n",
    "    return digits_int"
   ]
  },
  {
   "cell_type": "code",
   "execution_count": 398,
   "metadata": {},
   "outputs": [],
   "source": [
    "def count_sel_info(arr, info_cnt):\n",
    "    digits_str = re.findall('\\d{1,2}', arr)\n",
    "    digits_int = [int(i) for i in digits_str]\n",
    "    info_found = np.array([1 if i <= info_cnt else 0 for i in digits_int]).sum()\n",
    "    return info_found"
   ]
  },
  {
   "cell_type": "code",
   "execution_count": 399,
   "metadata": {},
   "outputs": [],
   "source": [
    "df_full['feature_cnt'] = df_full.dataset.to_string().split('_')[2]\n",
    "df_full['info_feature_cnt'] = df_full.dataset.apply(lambda x: x.split('_')[2])\n",
    "df_full['info_feature_cnt'] = df_full['info_feature_cnt'].astype('int') * 0.2\n",
    "df_full['cnt_info2'] = df_full.fi_selected.apply(count_sel_info, args={1})\n",
    "df_full['cnt_info20'] = df_full.fi_selected.apply(count_sel_info, args={19})"
   ]
  },
  {
   "cell_type": "code",
   "execution_count": 400,
   "metadata": {},
   "outputs": [],
   "source": [
    "df_full['timings_float'] = df_full.timings.apply(str_to_float)"
   ]
  },
  {
   "cell_type": "code",
   "execution_count": 401,
   "metadata": {},
   "outputs": [],
   "source": [
    "df_full['features_found'] = np.where(df_full.info_feature_cnt > 2.0, df_full.cnt_info20, df_full.cnt_info2)"
   ]
  },
  {
   "cell_type": "code",
   "execution_count": 402,
   "metadata": {},
   "outputs": [],
   "source": [
    "df_full['features_found_pct'] = df_full.features_found / df_full.info_feature_cnt"
   ]
  },
  {
   "cell_type": "code",
   "execution_count": 403,
   "metadata": {},
   "outputs": [],
   "source": [
    "df_full['sample_size'] = df_full.dataset.str.split('_').str[4]"
   ]
  },
  {
   "cell_type": "code",
   "execution_count": 404,
   "metadata": {},
   "outputs": [],
   "source": [
    "df_full['features'] = df_full.dataset.str.split('_').str[2]"
   ]
  },
  {
   "cell_type": "code",
   "execution_count": 405,
   "metadata": {},
   "outputs": [],
   "source": [
    "df_full['timings_mean'] = df_full.timings_float.apply(np.mean)"
   ]
  },
  {
   "cell_type": "code",
   "execution_count": 406,
   "metadata": {},
   "outputs": [],
   "source": [
    "df_full['sample_feature_size'] = 'samples_' + df_full.sample_size +'_'+ 'features_' +df_full.features"
   ]
  },
  {
   "cell_type": "code",
   "execution_count": 407,
   "metadata": {},
   "outputs": [
    {
     "data": {
      "text/html": [
       "<div>\n",
       "<style scoped>\n",
       "    .dataframe tbody tr th:only-of-type {\n",
       "        vertical-align: middle;\n",
       "    }\n",
       "\n",
       "    .dataframe tbody tr th {\n",
       "        vertical-align: top;\n",
       "    }\n",
       "\n",
       "    .dataframe thead th {\n",
       "        text-align: right;\n",
       "    }\n",
       "</style>\n",
       "<table border=\"1\" class=\"dataframe\">\n",
       "  <thead>\n",
       "    <tr style=\"text-align: right;\">\n",
       "      <th></th>\n",
       "      <th>dataset</th>\n",
       "      <th>data_split</th>\n",
       "      <th>imp_type</th>\n",
       "      <th>features_found</th>\n",
       "      <th>info_feature_cnt</th>\n",
       "      <th>features_found_pct</th>\n",
       "    </tr>\n",
       "  </thead>\n",
       "  <tbody>\n",
       "    <tr>\n",
       "      <th>0</th>\n",
       "      <td>regr_features_10_samples_100_seed_0</td>\n",
       "      <td>0</td>\n",
       "      <td>mutual_info</td>\n",
       "      <td>2</td>\n",
       "      <td>2.0</td>\n",
       "      <td>1.0</td>\n",
       "    </tr>\n",
       "    <tr>\n",
       "      <th>1</th>\n",
       "      <td>regr_features_10_samples_100_seed_0</td>\n",
       "      <td>0</td>\n",
       "      <td>f_test</td>\n",
       "      <td>2</td>\n",
       "      <td>2.0</td>\n",
       "      <td>1.0</td>\n",
       "    </tr>\n",
       "    <tr>\n",
       "      <th>2</th>\n",
       "      <td>regr_features_10_samples_100_seed_0</td>\n",
       "      <td>0</td>\n",
       "      <td>pearson</td>\n",
       "      <td>2</td>\n",
       "      <td>2.0</td>\n",
       "      <td>1.0</td>\n",
       "    </tr>\n",
       "    <tr>\n",
       "      <th>3</th>\n",
       "      <td>regr_features_10_samples_100_seed_0</td>\n",
       "      <td>0</td>\n",
       "      <td>spearman</td>\n",
       "      <td>2</td>\n",
       "      <td>2.0</td>\n",
       "      <td>1.0</td>\n",
       "    </tr>\n",
       "    <tr>\n",
       "      <th>4</th>\n",
       "      <td>regr_features_10_samples_100_seed_0</td>\n",
       "      <td>0</td>\n",
       "      <td>kendall</td>\n",
       "      <td>2</td>\n",
       "      <td>2.0</td>\n",
       "      <td>1.0</td>\n",
       "    </tr>\n",
       "    <tr>\n",
       "      <th>...</th>\n",
       "      <td>...</td>\n",
       "      <td>...</td>\n",
       "      <td>...</td>\n",
       "      <td>...</td>\n",
       "      <td>...</td>\n",
       "      <td>...</td>\n",
       "    </tr>\n",
       "    <tr>\n",
       "      <th>415</th>\n",
       "      <td>classif_features_10_samples_1000_seed_0</td>\n",
       "      <td>5</td>\n",
       "      <td>shap</td>\n",
       "      <td>2</td>\n",
       "      <td>2.0</td>\n",
       "      <td>1.0</td>\n",
       "    </tr>\n",
       "    <tr>\n",
       "      <th>416</th>\n",
       "      <td>classif_features_10_samples_1000_seed_0</td>\n",
       "      <td>6</td>\n",
       "      <td>shap</td>\n",
       "      <td>2</td>\n",
       "      <td>2.0</td>\n",
       "      <td>1.0</td>\n",
       "    </tr>\n",
       "    <tr>\n",
       "      <th>417</th>\n",
       "      <td>classif_features_10_samples_1000_seed_0</td>\n",
       "      <td>7</td>\n",
       "      <td>shap</td>\n",
       "      <td>2</td>\n",
       "      <td>2.0</td>\n",
       "      <td>1.0</td>\n",
       "    </tr>\n",
       "    <tr>\n",
       "      <th>418</th>\n",
       "      <td>classif_features_10_samples_1000_seed_0</td>\n",
       "      <td>8</td>\n",
       "      <td>shap</td>\n",
       "      <td>2</td>\n",
       "      <td>2.0</td>\n",
       "      <td>1.0</td>\n",
       "    </tr>\n",
       "    <tr>\n",
       "      <th>419</th>\n",
       "      <td>classif_features_10_samples_1000_seed_0</td>\n",
       "      <td>9</td>\n",
       "      <td>shap</td>\n",
       "      <td>2</td>\n",
       "      <td>2.0</td>\n",
       "      <td>1.0</td>\n",
       "    </tr>\n",
       "  </tbody>\n",
       "</table>\n",
       "<p>840 rows × 6 columns</p>\n",
       "</div>"
      ],
      "text/plain": [
       "                                     dataset  data_split     imp_type  \\\n",
       "0        regr_features_10_samples_100_seed_0           0  mutual_info   \n",
       "1        regr_features_10_samples_100_seed_0           0       f_test   \n",
       "2        regr_features_10_samples_100_seed_0           0      pearson   \n",
       "3        regr_features_10_samples_100_seed_0           0     spearman   \n",
       "4        regr_features_10_samples_100_seed_0           0      kendall   \n",
       "..                                       ...         ...          ...   \n",
       "415  classif_features_10_samples_1000_seed_0           5         shap   \n",
       "416  classif_features_10_samples_1000_seed_0           6         shap   \n",
       "417  classif_features_10_samples_1000_seed_0           7         shap   \n",
       "418  classif_features_10_samples_1000_seed_0           8         shap   \n",
       "419  classif_features_10_samples_1000_seed_0           9         shap   \n",
       "\n",
       "     features_found  info_feature_cnt  features_found_pct  \n",
       "0                 2               2.0                 1.0  \n",
       "1                 2               2.0                 1.0  \n",
       "2                 2               2.0                 1.0  \n",
       "3                 2               2.0                 1.0  \n",
       "4                 2               2.0                 1.0  \n",
       "..              ...               ...                 ...  \n",
       "415               2               2.0                 1.0  \n",
       "416               2               2.0                 1.0  \n",
       "417               2               2.0                 1.0  \n",
       "418               2               2.0                 1.0  \n",
       "419               2               2.0                 1.0  \n",
       "\n",
       "[840 rows x 6 columns]"
      ]
     },
     "execution_count": 407,
     "metadata": {},
     "output_type": "execute_result"
    }
   ],
   "source": [
    "df_full[['dataset', 'data_split', 'imp_type', 'features_found', 'info_feature_cnt', 'features_found_pct']]"
   ]
  },
  {
   "cell_type": "code",
   "execution_count": 435,
   "metadata": {},
   "outputs": [
    {
     "data": {
      "text/plain": [
       "<matplotlib.legend.Legend at 0x7f9b74ba1eb0>"
      ]
     },
     "execution_count": 435,
     "metadata": {},
     "output_type": "execute_result"
    },
    {
     "data": {
      "image/png": "[encoded data removed]",
      "text/plain": [
       "<Figure size 432x288 with 1 Axes>"
      ]
     },
     "metadata": {
      "needs_background": "light"
     },
     "output_type": "display_data"
    }
   ],
   "source": [
    "plot = sns.lineplot(x='sample_size', y='timings_mean', hue='imp_type', ci=0,\n",
    "            data=df_full)\n",
    "\n",
    "plot.set_ylabel('average execution time in seconds, log scale')\n",
    "plot.set_yscale(\"log\")\n",
    "plot.legend(bbox_to_anchor= (1,1))\n",
    "# plot.set_xticklabels(plot.get_xticklabels(), rotation=45);"
   ]
  },
  {
   "cell_type": "code",
   "execution_count": 436,
   "metadata": {},
   "outputs": [],
   "source": [
    "fig = plot.get_figure()\n",
    "\n",
    "fig.savefig('misc/synthethic_execbysamplesize_log.png', dpi=300, bbox_inches='tight')"
   ]
  },
  {
   "cell_type": "code",
   "execution_count": 437,
   "metadata": {},
   "outputs": [
    {
     "data": {
      "text/plain": [
       "Text(0, 0.5, 'average execution time in seconds, linear scale')"
      ]
     },
     "execution_count": 437,
     "metadata": {},
     "output_type": "execute_result"
    },
    {
     "data": {
      "image/png": "[encoded data removed]",
      "text/plain": [
       "<Figure size 432x288 with 1 Axes>"
      ]
     },
     "metadata": {
      "needs_background": "light"
     },
     "output_type": "display_data"
    }
   ],
   "source": [
    "plot = sns.lineplot(x='sample_size', y='timings_mean', hue='imp_type', ci=0,\n",
    "            data=df_full)\n",
    "plot.legend(bbox_to_anchor= (1,1))\n",
    "plot.set_ylabel('average execution time in seconds, linear scale')"
   ]
  },
  {
   "cell_type": "code",
   "execution_count": 438,
   "metadata": {},
   "outputs": [],
   "source": [
    "fig = plot.get_figure()\n",
    "\n",
    "fig.savefig('misc/synthethic_execbysamplesize_lin.png', dpi=300, bbox_inches='tight')"
   ]
  },
  {
   "cell_type": "code",
   "execution_count": 247,
   "metadata": {},
   "outputs": [],
   "source": [
    "# plot = sns.barplot(x='features', y='timings_mean', hue='imp_type', ci=95,\n",
    "#             data=df_full)\n",
    "# plot.set_ylabel('execution time in log scale')\n",
    "# plot.set_yscale(\"log\")\n",
    "# plot.set_xticklabels(plot.get_xticklabels(), rotation=45);"
   ]
  },
  {
   "cell_type": "code",
   "execution_count": 312,
   "metadata": {},
   "outputs": [],
   "source": [
    "speed_eval = df_full.query('sample_size == \"10000\" and features == \"100\"')"
   ]
  },
  {
   "cell_type": "code",
   "execution_count": 313,
   "metadata": {},
   "outputs": [],
   "source": [
    "speed_eval = speed_eval[['dataset', 'imp_type', 'timings_float', 'timings_mean']]"
   ]
  },
  {
   "cell_type": "code",
   "execution_count": 314,
   "metadata": {},
   "outputs": [],
   "source": [
    "speed_eval = speed_eval.groupby('imp_type').mean().reset_index()"
   ]
  },
  {
   "cell_type": "code",
   "execution_count": 333,
   "metadata": {},
   "outputs": [],
   "source": [
    "speed_eval.to_csv('results_synthethic_data/synthethic_speed_eval.csv', index=False)"
   ]
  },
  {
   "cell_type": "code",
   "execution_count": 442,
   "metadata": {},
   "outputs": [
    {
     "data": {
      "text/html": [
       "<div>\n",
       "<style scoped>\n",
       "    .dataframe tbody tr th:only-of-type {\n",
       "        vertical-align: middle;\n",
       "    }\n",
       "\n",
       "    .dataframe tbody tr th {\n",
       "        vertical-align: top;\n",
       "    }\n",
       "\n",
       "    .dataframe thead th {\n",
       "        text-align: right;\n",
       "    }\n",
       "</style>\n",
       "<table border=\"1\" class=\"dataframe\">\n",
       "  <thead>\n",
       "    <tr style=\"text-align: right;\">\n",
       "      <th></th>\n",
       "      <th>imp_type</th>\n",
       "      <th>timings_mean</th>\n",
       "    </tr>\n",
       "  </thead>\n",
       "  <tbody>\n",
       "    <tr>\n",
       "      <th>0</th>\n",
       "      <td>f_test</td>\n",
       "      <td>0.006296</td>\n",
       "    </tr>\n",
       "    <tr>\n",
       "      <th>1</th>\n",
       "      <td>gini</td>\n",
       "      <td>0.017717</td>\n",
       "    </tr>\n",
       "    <tr>\n",
       "      <th>4</th>\n",
       "      <td>pearson</td>\n",
       "      <td>0.124424</td>\n",
       "    </tr>\n",
       "    <tr>\n",
       "      <th>7</th>\n",
       "      <td>spearman</td>\n",
       "      <td>0.312715</td>\n",
       "    </tr>\n",
       "    <tr>\n",
       "      <th>3</th>\n",
       "      <td>mutual_info</td>\n",
       "      <td>2.784574</td>\n",
       "    </tr>\n",
       "    <tr>\n",
       "      <th>6</th>\n",
       "      <td>pps</td>\n",
       "      <td>4.482986</td>\n",
       "    </tr>\n",
       "    <tr>\n",
       "      <th>2</th>\n",
       "      <td>kendall</td>\n",
       "      <td>7.398635</td>\n",
       "    </tr>\n",
       "    <tr>\n",
       "      <th>5</th>\n",
       "      <td>pimp</td>\n",
       "      <td>29.003301</td>\n",
       "    </tr>\n",
       "  </tbody>\n",
       "</table>\n",
       "</div>"
      ],
      "text/plain": [
       "      imp_type  timings_mean\n",
       "0       f_test      0.006296\n",
       "1         gini      0.017717\n",
       "4      pearson      0.124424\n",
       "7     spearman      0.312715\n",
       "3  mutual_info      2.784574\n",
       "6          pps      4.482986\n",
       "2      kendall      7.398635\n",
       "5         pimp     29.003301"
      ]
     },
     "execution_count": 442,
     "metadata": {},
     "output_type": "execute_result"
    }
   ],
   "source": [
    "speed_eval.sort_values('timings_mean')"
   ]
  },
  {
   "cell_type": "code",
   "execution_count": 439,
   "metadata": {},
   "outputs": [
    {
     "data": {
      "image/png": "[encoded data removed]",
      "text/plain": [
       "<Figure size 432x288 with 1 Axes>"
      ]
     },
     "metadata": {
      "needs_background": "light"
     },
     "output_type": "display_data"
    }
   ],
   "source": [
    "plot = sns.barplot(x='imp_type', y='timings_mean', ci=95,\n",
    "            data=speed_eval)\n",
    "\n",
    "plot.set_ylabel('execution time (log) 10000 samples, 100 features')\n",
    "plot.set_yscale(\"log\")\n",
    "plot.set_xticklabels(plot.get_xticklabels(), rotation=45);\n",
    "\n",
    "fig = plot.get_figure()\n",
    "\n",
    "fig.savefig('misc/synthethic_imp_type_10000samples_100features.png', dpi=300, bbox_inches='tight')"
   ]
  },
  {
   "cell_type": "code",
   "execution_count": 420,
   "metadata": {},
   "outputs": [],
   "source": [
    "res = df_full.groupby(['imp_type']).mean().features_found_pct"
   ]
  },
  {
   "cell_type": "code",
   "execution_count": 421,
   "metadata": {},
   "outputs": [],
   "source": [
    "res = res.reset_index(); "
   ]
  },
  {
   "cell_type": "code",
   "execution_count": 425,
   "metadata": {},
   "outputs": [],
   "source": [
    "res.columns = ['imp_type', 'average_features_found_pct']"
   ]
  },
  {
   "cell_type": "code",
   "execution_count": null,
   "metadata": {},
   "outputs": [],
   "source": []
  },
  {
   "cell_type": "code",
   "execution_count": 447,
   "metadata": {},
   "outputs": [
    {
     "data": {
      "text/html": [
       "<div>\n",
       "<style scoped>\n",
       "    .dataframe tbody tr th:only-of-type {\n",
       "        vertical-align: middle;\n",
       "    }\n",
       "\n",
       "    .dataframe tbody tr th {\n",
       "        vertical-align: top;\n",
       "    }\n",
       "\n",
       "    .dataframe thead th {\n",
       "        text-align: right;\n",
       "    }\n",
       "</style>\n",
       "<table border=\"1\" class=\"dataframe\">\n",
       "  <thead>\n",
       "    <tr style=\"text-align: right;\">\n",
       "      <th></th>\n",
       "      <th>imp_type</th>\n",
       "      <th>average_features_found_pct</th>\n",
       "    </tr>\n",
       "  </thead>\n",
       "  <tbody>\n",
       "    <tr>\n",
       "      <th>5</th>\n",
       "      <td>pimp</td>\n",
       "      <td>0.9255</td>\n",
       "    </tr>\n",
       "    <tr>\n",
       "      <th>1</th>\n",
       "      <td>gini</td>\n",
       "      <td>0.9090</td>\n",
       "    </tr>\n",
       "    <tr>\n",
       "      <th>7</th>\n",
       "      <td>shap</td>\n",
       "      <td>0.8750</td>\n",
       "    </tr>\n",
       "    <tr>\n",
       "      <th>8</th>\n",
       "      <td>spearman</td>\n",
       "      <td>0.7480</td>\n",
       "    </tr>\n",
       "    <tr>\n",
       "      <th>2</th>\n",
       "      <td>kendall</td>\n",
       "      <td>0.7475</td>\n",
       "    </tr>\n",
       "    <tr>\n",
       "      <th>0</th>\n",
       "      <td>f_test</td>\n",
       "      <td>0.7435</td>\n",
       "    </tr>\n",
       "    <tr>\n",
       "      <th>4</th>\n",
       "      <td>pearson</td>\n",
       "      <td>0.7435</td>\n",
       "    </tr>\n",
       "    <tr>\n",
       "      <th>3</th>\n",
       "      <td>mutual_info</td>\n",
       "      <td>0.6070</td>\n",
       "    </tr>\n",
       "    <tr>\n",
       "      <th>6</th>\n",
       "      <td>pps</td>\n",
       "      <td>0.0630</td>\n",
       "    </tr>\n",
       "  </tbody>\n",
       "</table>\n",
       "</div>"
      ],
      "text/plain": [
       "      imp_type  average_features_found_pct\n",
       "5         pimp                      0.9255\n",
       "1         gini                      0.9090\n",
       "7         shap                      0.8750\n",
       "8     spearman                      0.7480\n",
       "2      kendall                      0.7475\n",
       "0       f_test                      0.7435\n",
       "4      pearson                      0.7435\n",
       "3  mutual_info                      0.6070\n",
       "6          pps                      0.0630"
      ]
     },
     "execution_count": 447,
     "metadata": {},
     "output_type": "execute_result"
    }
   ],
   "source": [
    "res.sort_values('average_features_found_pct', ascending=False)"
   ]
  },
  {
   "cell_type": "code",
   "execution_count": 343,
   "metadata": {},
   "outputs": [],
   "source": [
    "res.to_csv('results_synthethic_data/synthethic_accuracy_eval.csv', index=False)"
   ]
  },
  {
   "cell_type": "code",
   "execution_count": 70,
   "metadata": {},
   "outputs": [],
   "source": [
    "# df_full.iloc[185:][['dataset', 'fi_selected', 'features_found', 'features_found_pct', 'info_feature_cnt']]"
   ]
  }
 ],
 "metadata": {
  "kernelspec": {
   "display_name": "Python 3",
   "language": "python",
   "name": "python3"
  },
  "language_info": {
   "codemirror_mode": {
    "name": "ipython",
    "version": 3
   },
   "file_extension": ".py",
   "mimetype": "text/x-python",
   "name": "python",
   "nbconvert_exporter": "python",
   "pygments_lexer": "ipython3",
   "version": "3.8.10"
  }
 },
 "nbformat": 4,
 "nbformat_minor": 4
}
